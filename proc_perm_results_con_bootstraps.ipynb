{
 "cells": [
  {
   "cell_type": "code",
   "execution_count": null,
   "metadata": {},
   "outputs": [],
   "source": [
    "import pandas as pd\n",
    "import pickle\n",
    "from pathlib import Path\n",
    "from collections import namedtuple\n",
    "from matplotlib import pyplot as plt\n",
    "from matplotlib import gridspec\n",
    "import seaborn as sns\n",
    "import numpy as np\n",
    "from scipy import stats\n",
    "from statsmodels.stats.multitest import multipletests\n",
    "\n",
    "%matplotlib inline\n",
    "\n",
    "# Display more rows and get rid of the margins\n",
    "pd.set_option('display.max_rows', 500)\n",
    "pd.set_option('display.max_columns', 500)\n",
    "pd.set_option('max_colwidth',500)\n",
    "from IPython.core.display import display, HTML\n",
    "display(HTML(\"<style>.container { width:100% !important; }</style>\"))\n",
    "\n",
    "# Display mulitiple values from each cell\n",
    "# https://stackoverflow.com/a/42476224\n",
    "from IPython.core.interactiveshell import InteractiveShell\n",
    "InteractiveShell.ast_node_interactivity = \"all\"\n"
   ]
  },
  {
   "cell_type": "code",
   "execution_count": null,
   "metadata": {},
   "outputs": [],
   "source": [
    "from abcd_helpers import resproc as rp"
   ]
  },
  {
   "cell_type": "code",
   "execution_count": null,
   "metadata": {},
   "outputs": [],
   "source": [
    "data_dir = Path('data')\n",
    "swarm_out_dir = Path('bootstrap/single_runs')\n",
    "data_out_dir = Path('bootstrap')"
   ]
  },
  {
   "cell_type": "markdown",
   "metadata": {},
   "source": [
    "# Load Data"
   ]
  },
  {
   "cell_type": "code",
   "execution_count": null,
   "metadata": {
    "scrolled": true
   },
   "outputs": [],
   "source": [
    "# Either load consolidated permutation results or load individual permuatation pkzs and consolidate them\n",
    "con_mod_res_path = data_out_dir/'con_mod_separate_1000.pkz'\n",
    "var_res_path = data_out_dir/'var_res_separate_1000.pkz'\n",
    "cb_var_res_path = data_out_dir/'cb_var_res_separate_1000.pkz'\n",
    "\n",
    "try:\n",
    "    con_mod_res = pd.read_pickle(con_mod_res_path)\n",
    "    var_res = pd.read_pickle(var_res_path).reset_index(drop=True)\n",
    "    cb_var_res = pd.read_pickle(cb_var_res_path).reset_index(drop=True)\n",
    "except (FileNotFoundError, EOFError):\n",
    "    con_pks = sorted(list(swarm_out_dir.glob('pn-*_con*.pkz')))\n",
    "    con_mod_res = []\n",
    "    var_res = []\n",
    "    cb_var_res = []\n",
    "    for pk in con_pks:\n",
    "        with open(pk, 'rb') as h:\n",
    "            pkr = pickle.load(h)\n",
    "        con_mod_res.append(pd.DataFrame(pkr[0]))\n",
    "        var_res.append(pd.DataFrame(pkr[1]))\n",
    "        cb_var_res.append(pd.DataFrame(pkr[2]))\n",
    "    con_mod_res = pd.concat(con_mod_res, ignore_index=True)\n",
    "    var_res = pd.concat(var_res, ignore_index=True)\n",
    "    cb_var_res = pd.concat(cb_var_res, ignore_index=True)\n",
    "    #con_mod_res.to_pickle(con_mod_res_path)\n",
    "    #var_res.to_pickle(var_res_path)\n",
    "    #cb_var_res.to_pickle(cb_var_res_path)\n",
    "    \n",
    "\n",
    "var_res = rp.get_varex(var_res)\n",
    "cb_var_res = rp.get_varex(cb_var_res)\n",
    "\n"
   ]
  },
  {
   "cell_type": "code",
   "execution_count": null,
   "metadata": {},
   "outputs": [],
   "source": [
    "    bs_con_pks = sorted(list(swarm_out_dir.glob('bs-*_con*.pkz')))\n",
    "    bs_con_mod_res = []\n",
    "    bs_var_res = []\n",
    "    bs_cb_var_res = []\n",
    "    for ii, pk in enumerate(bs_con_pks):\n",
    "        with open(pk, 'rb') as h:\n",
    "            pkr = pickle.load(h)\n",
    "        bs_con_mod_res.append(pd.DataFrame(pkr[0]))\n",
    "        bs_var_res.append(pd.DataFrame(pkr[1]))\n",
    "        bs_cb_var_res.append(pd.DataFrame(pkr[2]))\n",
    "    bs_con_mod_res = pd.concat(bs_con_mod_res, ignore_index=True)\n",
    "    bs_var_res = pd.concat(bs_var_res, ignore_index=True)\n",
    "    bs_cb_var_res = pd.concat(bs_cb_var_res, ignore_index=True)\n",
    "    #con_mod_res.to_pickle(con_mod_res_path)\n",
    "    #var_res.to_pickle(var_res_path)\n",
    "    #cb_var_res.to_pickle(cb_var_res_path)\n",
    "#var_res['int_r2'] = 0    \n",
    "bs_var_res = rp.get_varex(bs_var_res)\n",
    "#cb_var_res['int_r2'] = 0 \n",
    "bs_cb_var_res = rp.get_varex(bs_cb_var_res)"
   ]
  },
  {
   "cell_type": "code",
   "execution_count": null,
   "metadata": {},
   "outputs": [],
   "source": [
    "alpha = 0.005\n",
    "qup = 1 - (alpha/2)\n",
    "qdn = (alpha/2)\n",
    "bs_var_res, bs_dif_sig = rp.get_sig_var_difs(alpha, bs_var_res, bs_cb_var_res, verbose=True)\n",
    "cor_p = multipletests(bs_dif_sig.uncorrected_p.values,method='sidak', alpha=alpha)\n",
    "bs_dif_sig['p'] = cor_p[1]\n",
    "bs_dif_sig['sig'] = cor_p[0]"
   ]
  },
  {
   "cell_type": "code",
   "execution_count": null,
   "metadata": {},
   "outputs": [],
   "source": [
    "bs_var_res.to_pickle('bs_var_res_con.pkz.gz')"
   ]
  },
  {
   "cell_type": "code",
   "execution_count": null,
   "metadata": {},
   "outputs": [],
   "source": [
    "# Get difference in accuracies via bootstrap\n",
    "\n",
    "bs_con_mod_res.loc[(bs_con_mod_res.name == 'normal') | (bs_con_mod_res.name == 'combat'), 'bal_proc'] = 'sex'\n",
    "bs_con_mod_res.loc[(bs_con_mod_res.name == 'age_rsd') | (bs_con_mod_res.name == 'cbagersd'), 'bal_proc'] = 'age_rsd'\n",
    "bs_con_mod_res.loc[(bs_con_mod_res.name == 'ab_normal') | (bs_con_mod_res.name == 'ab_combat'), 'bal_proc'] = 'age_bal'\n",
    "bs_con_mod_res.loc[:, 'combat'] = False\n",
    "bs_con_mod_res.loc[((bs_con_mod_res.name == 'combat') \n",
    "                    | (bs_con_mod_res.name == 'cbagersd') \n",
    "                    | (bs_con_mod_res.name == 'ab_combat')), 'combat'] = True\n",
    "\n",
    "bs_collapse = (bs_con_mod_res\n",
    "               .query('~combat')\n",
    "               .loc[:, ['bal_proc', 'pn', 'fn', 'ho_score']]\n",
    "               .merge(bs_con_mod_res\n",
    "                      .query('combat')\n",
    "                      .loc[:, ['bal_proc', 'pn', 'fn', 'ho_score']],\n",
    "                      on=['bal_proc', 'pn', 'fn'],\n",
    "                      how='left',\n",
    "                      suffixes=('_uncorrected', '_combat')))\n",
    "bs_collapse['difference'] = bs_collapse.ho_score_uncorrected - bs_collapse.ho_score_combat\n",
    "\n",
    "sns.distplot(bs_collapse.query('bal_proc == \"sex\"').difference.values)\n",
    "sns.distplot(bs_collapse.query('bal_proc == \"age_rsd\"').difference.values)\n",
    "sns.distplot(bs_collapse.query('bal_proc == \"age_bal\"').difference.values)"
   ]
  },
  {
   "cell_type": "markdown",
   "metadata": {},
   "source": [
    "# Generate plots of variance explained\n",
    "## First we'll make the rediculously big and detailed plot that is destined for the appendix"
   ]
  },
  {
   "cell_type": "code",
   "execution_count": null,
   "metadata": {},
   "outputs": [],
   "source": [
    "alpha = 0.005\n",
    "qup = 1 - (alpha/2)\n",
    "qdn = (alpha/2)"
   ]
  },
  {
   "cell_type": "code",
   "execution_count": null,
   "metadata": {},
   "outputs": [],
   "source": [
    "# Create the paper context\n",
    "sns.set_context('paper',font_scale = 0.8 )\n",
    "sns.set_style('white')\n",
    "\n",
    "\n",
    "# Get significance threshold for percent variance explained\n",
    "varexes = ['agh_varex','mfg_varex','model_varex','site_varex']\n",
    "sig_df = var_res.groupby('pn')[varexes].max().quantile([qup]).iloc[0, :]\n",
    "cb_sig_df =cb_var_res.groupby('pn')[varexes].max().quantile([qup]).iloc[0, :]\n",
    "sig_df['modality'] = \"rsfmri\"\n",
    "cb_sig_df['modality'] = \"rsfmri\"\n",
    "\n",
    "to_plot = var_res.merge(cb_var_res.loc[:,['pn','metric','agh_varex','mfg_varex','model_varex','site_varex']], on = ['pn','metric'], suffixes=('','_cb')).query('pn==0')\n",
    "to_plot['label'] = to_plot.metric.str.replace('lh', 'l').str.replace('rh', 'r').str.replace('rsfmri_cor_', '').str.replace('network.gordon_', '').str.replace('network.gordon_', '').str.replace('subcort.aseg_', '').str.replace('.', ' ').str.title().str.split('_').str.join('-')\n",
    "\n",
    "\n",
    "cm_ind = (to_plot.mfg_varex >= sig_df.mfg_varex) | (to_plot.model_varex >= sig_df.model_varex) | (to_plot.site_varex >= sig_df.site_varex)\n",
    "# Look at the number of metrics that have significant\n",
    "# variance accounted for by mfg, model, or site\n",
    "print(f\"{cm_ind.sum()} metrics have significant variance accounted for by manufactuerer, model, or site\")\n",
    "\n",
    "# Look at the list of significant metrics\n",
    "to_plot.loc[cm_ind, ['metric', 'label']]\n",
    "\n",
    "# Clean up column names for plotting\n",
    "to_plot_rn = {'mfg_varex': 'Manufacturer',\n",
    "              'model_varex': 'Model',\n",
    "              'site_varex': 'Site',\n",
    "              'agh_varex': 'Age & Sex'}\n",
    "sig_df_rn = {'mfg_varex': 'Manufacturer',\n",
    "             'model_varex': 'Model',\n",
    "             'site_varex': 'Site',\n",
    "             'agh_varex': 'Age & Sex'}\n",
    "cb_sig_df_rn = {'mfg_varex': 'mfg_varex_cb',\n",
    "                'model_varex': 'model_varex_cb',\n",
    "                'site_varex': 'site_varex_cb',\n",
    "                'agh_varex': 'agh_varex_cb'}\n",
    "to_plot = to_plot.loc[cm_ind,:].rename(columns=to_plot_rn)\n",
    "to_plot_sig = sig_df.rename(index=sig_df_rn)\n",
    "to_plot_sig_cb = cb_sig_df.rename(index=cb_sig_df_rn)\n",
    "\n",
    "# Define factors\n",
    "varex_factors = ['Manufacturer','Model','Site','Age & Sex']\n",
    "cb_factors = ['mfg_varex_cb','model_varex_cb','site_varex_cb','agh_varex_cb']\n",
    "\n",
    "# Create sort key\n",
    "to_plot['sort_key'] = np.nan\n",
    "sort_vars = ['Manufacturer','Model','Site']\n",
    "remain_max = 0\n",
    "for i, sv in enumerate(sort_vars[::-1]):\n",
    "    remain_max += to_plot.loc[:,sort_vars[::-1][i:]].values.max()+1\n",
    "    skind = ((to_plot[sv] > to_plot_sig[sv]))\n",
    "    to_plot.loc[skind, 'sort_key'] = to_plot.loc[skind,sv] + remain_max\n",
    "\n",
    "    \n",
    "# Make bar lists for uncorrected and combat corrected data\n",
    "uncorlist = rp.make_bar_list(varex_factors, to_plot, to_plot_sig,\n",
    "                          cols = 3,\n",
    "                          sort_var='sort_key', sig_exclude=['Age & Sex'])\n",
    "uncorlist\n",
    "left_start = [28, 28, 28]\n",
    "cblist = rp.make_bar_list(cb_factors, to_plot, to_plot_sig_cb,\n",
    "                       left_start = left_start,\n",
    "                       cols = 3,\n",
    "                       sort_var='sort_key', sig_exclude=['agh_varex_cb'])"
   ]
  },
  {
   "cell_type": "code",
   "execution_count": null,
   "metadata": {},
   "outputs": [],
   "source": [
    "# This is hacky, but in order to get the legend I want,\n",
    "# I'm creating it here, and then using the object in the actual figure\n",
    "\n",
    "fig,ax = plt.subplots(1)\n",
    "sig_palette=sns.color_palette('muted')[0:len(varex_factors)]\n",
    "palette=sns.color_palette('pastel')[0:len(varex_factors)]\n",
    "bottom = np.zeros(len(varex_factors)*2)\n",
    "width = np.ones(len(varex_factors)*2)\n",
    "leg_labels = []\n",
    "colors = []\n",
    "for i,vf in enumerate(varex_factors):\n",
    "    if 'ag' not in vf.lower():\n",
    "        colors.append(sig_palette[i])\n",
    "        leg_labels.append('Sig. '+vf)\n",
    "    leg_labels.append(vf)\n",
    "    colors.append(palette[i])\n",
    "leg_labels[-1] = 'Sex & Age'\n",
    "# Change name of site to scanner\n",
    "leg_labels[5] = 'Scanner'\n",
    "leg_labels[4] = 'Sig. Scanner'\n",
    "leg_bar = ax.barh(bottom, width, color=colors, label=leg_labels)"
   ]
  },
  {
   "cell_type": "code",
   "execution_count": null,
   "metadata": {
    "scrolled": false
   },
   "outputs": [],
   "source": [
    "\n",
    "fig, axes = plt.subplots(1, 3, figsize=(20,12), dpi=200)\n",
    "\n",
    "for col in np.arange(len(axes)):\n",
    "    ax = axes[col]\n",
    "    for uc, cb in zip(uncorlist, cblist):\n",
    "        barh_dict = uc.loc[uc.col == col, ['y', 'color', 'left', 'tick_label', 'width']].to_dict('list')\n",
    "        cb_barh_dict = cb.loc[cb.col == col, ['y', 'color', 'left', 'tick_label', 'width']].to_dict('list')\n",
    "\n",
    "        #names = uc.loc[uc.col == col, ['metric']]\n",
    "        _plot = ax.barh(**barh_dict)\n",
    "        _plot = ax.barh(**cb_barh_dict)\n",
    "    #name_df = uc.loc[uc.col == col, ['bottom', 'metric']].groupby('metric').max().reset_index()\n",
    "    #for ii, row in name_df.iterrows():\n",
    "    #    _text = ax.text(11, row.bottom + 1, row.metric, va='bottom', ha='center')\n",
    "    yb,yt = ax.get_ylim()\n",
    "    _vl = ax.vlines(left_start[col], yb,yt, lw=0.8)\n",
    "    _lim = ax.set_ylim((yb,yt))\n",
    "    left_end = 5\n",
    "    xticks = np.hstack([np.arange(0,left_start[col], left_end),\n",
    "                        np.arange(left_start[col],left_start[col] + left_end + 1, left_end)])\n",
    "    xtick_labels = np.hstack([np.arange(0,left_start[col], left_end),\n",
    "                        np.arange(0, left_end + 1, left_end)])\n",
    "    t = ax.set_xticks(xticks)\n",
    "    _tl = ax.set_xticklabels(xtick_labels)\n",
    "    _ylims = ax.set_ylim((yb+2.5, yt-2))\n",
    "    _t = ax.text(1, np.max(barh_dict['y']) + 1.5, 'Uncorrected')\n",
    "    _t = ax.text(left_start[col] + 1, np.max(barh_dict['y']) + 1.5, 'ComBat')\n",
    "    _t = ax.set_xlabel('Percent Variance Explained')\n",
    "    for tl in ax.get_yticklabels():\n",
    "        txt = tl.get_text()\n",
    "#         if txt in motion_metrics:\n",
    "#             _tl = tl.set_weight('bold')\n",
    "fig.tight_layout()\n",
    "fig.legend(leg_bar, leg_labels, loc=(0.5,0), ncol=4 )    \n",
    "fig.subplots_adjust(bottom = 0.07)\n",
    "\n",
    "sns.despine(fig)"
   ]
  },
  {
   "cell_type": "markdown",
   "metadata": {},
   "source": [
    "## Now we'll make the distribution plot that will be in the main paper"
   ]
  },
  {
   "cell_type": "code",
   "execution_count": null,
   "metadata": {},
   "outputs": [],
   "source": []
  },
  {
   "cell_type": "code",
   "execution_count": null,
   "metadata": {},
   "outputs": [],
   "source": [
    "to_plot_melt = to_plot.loc[:, ['pn', 'metric', 'label', 'Age & Sex', 'Manufacturer', 'Model', 'Site']]\n",
    "to_plot_melt['modality'] = 'rsfmri'\n",
    "to_plot_melt = to_plot_melt.melt(id_vars=['pn', 'metric', 'modality', 'label'],\n",
    "                            value_name='% Variance Explained')\n",
    "to_plot_melt[' '] = 'Uncorrected'\n",
    "\n",
    "\n",
    "to_plot_melt_cb = to_plot.loc[:, ['pn','metric', 'label', 'agh_varex_cb', 'mfg_varex_cb', 'model_varex_cb','site_varex_cb']]\n",
    "to_plot_melt_cb = to_plot_melt_cb.rename(columns = {'agh_varex_cb':'Age & Sex', \n",
    "                                          'mfg_varex_cb': 'Manufacturer',\n",
    "                                          'model_varex_cb': 'Model',\n",
    "                                          'site_varex_cb': 'Site'})\n",
    "to_plot_melt_cb['modality'] = 'rsfmri'\n",
    "to_plot_melt_cb = to_plot_melt_cb.melt(id_vars=['pn', 'metric', 'modality', 'label'],\n",
    "                            value_name='% Variance Explained')\n",
    "to_plot_melt_cb[' '] = 'Combat'\n",
    "to_plot_melt = pd.concat([to_plot_melt,to_plot_melt_cb])\n",
    "\n",
    "# Reformat sig_dfs to work with plotting code\n",
    "sig_df = pd.DataFrame(sig_df).T.reset_index(drop=True)\n",
    "cb_sig_df = pd.DataFrame(cb_sig_df).T.reset_index(drop=True)\n"
   ]
  },
  {
   "cell_type": "code",
   "execution_count": null,
   "metadata": {},
   "outputs": [],
   "source": [
    "#fig, axs = plt.subplots(2, 2, figsize=(7,5), dpi=250, sharey=False)\n",
    "shape=(1,5)\n",
    "axs = [[plt.subplot2grid(shape, (0, 0), colspan=1),\n",
    "           plt.subplot2grid(shape, (0, 1), colspan=4)]]\n",
    "fig = plt.gcf()\n",
    "fig.set_dpi(250)\n",
    "fig.set_size_inches((7,3))\n",
    "\n",
    "for modality, axrow in zip(['rsfmri'], axs):\n",
    "    ax = axrow[0]\n",
    "    \n",
    "    ax = sns.violinplot(x='variable', y='% Variance Explained', \n",
    "                   hue=' ', data=to_plot_melt.query('variable==\"Manufacturer\" & modality == @modality'),\n",
    "                   split=True, scale='width', cut=0, ax=ax, inner='box')\n",
    "    \n",
    "    _ = ax.hlines(sig_df.loc[sig_df.modality == modality,['mfg_varex']].values, \n",
    "              xmin = -0.4, \n",
    "              xmax = 0.0,\n",
    "              linestyle ='dashed',\n",
    "               label=f'Sig., α = {alpha:0.3f}')\n",
    "    _ = ax.hlines(cb_sig_df.loc[cb_sig_df.modality == modality,['mfg_varex']].values, \n",
    "              xmin = 0.0, \n",
    "              xmax = 0.4,\n",
    "              linestyle ='dashed')\n",
    "    ax.get_legend().remove()\n",
    "    _ = ax.set_xlabel('')\n",
    "    \n",
    "    ax = axrow[1]\n",
    "    \n",
    "    ax = sns.violinplot(x='variable', y='% Variance Explained',\n",
    "                   hue=' ', \n",
    "                   data=to_plot_melt.query('modality == @modality'),\n",
    "                   order= ['Manufacturer', 'Model', 'Site','Age & Sex'],\n",
    "                   split=True, scale='width', cut=0, ax=ax)\n",
    "    # draw sig lines\n",
    "    _ = ax.hlines(sig_df.loc[sig_df.modality == modality,[ 'mfg_varex', 'model_varex', 'site_varex']].values, \n",
    "              xmin = np.arange(0,4)-0.4, \n",
    "              xmax = np.arange(0,4),\n",
    "              linestyles='dashed')\n",
    "    _ = ax.hlines(cb_sig_df.loc[cb_sig_df.modality == modality,[ 'mfg_varex', 'model_varex', 'site_varex']].values, \n",
    "          xmin = np.arange(0,4), \n",
    "          xmax = np.arange(1,5)-0.6,\n",
    "          linestyle ='dashed')\n",
    "    if modality == 'tfmri':\n",
    "        _ = ax.set_ylim(-0.1, 5)\n",
    "    else:    \n",
    "        _ = ax.set_ylim((-0.1, 5))\n",
    "    ax.get_legend().remove()\n",
    "    _ = ax.set_xlabel('')\n",
    "    \n",
    "    labels = ax.get_xticklabels()\n",
    "    labels[2]='Site'\n",
    "    labels[3]='Age & Sex'\n",
    "    ax.set_xticklabels(labels)\n",
    "    \n",
    "    ax.set_title(modality.upper())\n",
    "    \n",
    "fig.tight_layout()\n",
    "sns.despine()\n",
    "\n",
    "leg =  axs[0][0].get_legend_handles_labels()\n",
    "fl = fig.legend(*leg, loc='upper center', bbox_to_anchor=(0.53,0.075), ncol=3)\n",
    "\n",
    "fig.savefig('abcd_fig1.png', bbox_inches=\"tight\")"
   ]
  },
  {
   "cell_type": "markdown",
   "metadata": {},
   "source": [
    "# Table for changes in percent variance"
   ]
  },
  {
   "cell_type": "code",
   "execution_count": null,
   "metadata": {},
   "outputs": [],
   "source": [
    "(bs_dif_sig.query('p < @alpha')\n",
    " .sort_values(['level', 'metric'])\n",
    " .loc[:, ['level', 'metric', 'mean_dif', 'uncorrected_p', 'p']]).reset_index(drop=True)"
   ]
  },
  {
   "cell_type": "code",
   "execution_count": null,
   "metadata": {},
   "outputs": [],
   "source": [
    "bs_dif_sig.groupby(['level','sig','sign']).agg({'metric':'count', 'mean_dif':'mean', 'q_0.0025':['min', 'mean', 'max'],'q_0.9975':['min', 'mean', 'max']})"
   ]
  },
  {
   "cell_type": "code",
   "execution_count": null,
   "metadata": {
    "scrolled": false
   },
   "outputs": [],
   "source": [
    "bs_dif_sig_wide = bs_dif_sig.pivot(index='metric', columns='level', values='mean_dif')\n",
    "sns.pairplot(bs_dif_sig_wide,\n",
    "            kind='reg')"
   ]
  },
  {
   "cell_type": "markdown",
   "metadata": {},
   "source": [
    "# Model fit results"
   ]
  },
  {
   "cell_type": "code",
   "execution_count": null,
   "metadata": {},
   "outputs": [],
   "source": [
    "alpha = 0.005\n",
    "qup = 1 - (alpha/2)\n",
    "qdn = (alpha/2)"
   ]
  },
  {
   "cell_type": "code",
   "execution_count": null,
   "metadata": {},
   "outputs": [],
   "source": [
    "mod_names = ['normal', 'age_rsd', 'ab_normal']\n",
    "cb_mod_names = ['combat', 'cbagersd', 'ab_combat']\n",
    "test_vals = con_mod_res.groupby(['name', 'pn'])[['ho_score']].mean().reset_index().query('pn == 0').drop('pn',axis=1).set_index('name').values\n",
    "null_max_vals = con_mod_res.groupby(['name','pn'])[['ho_score']].mean().reset_index().query('name in @mod_names').groupby( ['pn'])[['ho_score']].max().values.flatten()\n",
    "null_min_vals = con_mod_res.groupby(['name','pn'])[['ho_score']].mean().reset_index().query('name in @mod_names').groupby( ['pn'])[['ho_score']].min().values.flatten()"
   ]
  },
  {
   "cell_type": "code",
   "execution_count": null,
   "metadata": {},
   "outputs": [],
   "source": [
    "con_mod_to_plot = con_mod_res.groupby(['pn', 'name'])[['ho_score']].agg(['mean' ,'std']).query('pn == 0').reset_index()\n",
    "con_mod_to_plot.columns = [' '.join(col).strip() for col in con_mod_to_plot.columns.values]\n",
    "con_mod_to_plot = con_mod_to_plot.drop('pn', axis=1)\n",
    "\n",
    "bs_uncor = bs_collapse.groupby('bal_proc').apply(lambda x: pd.Series(rp.get_bs_stats(alpha, x.ho_score_uncorrected)))\n",
    "bs_combat = bs_collapse.groupby('bal_proc').apply(lambda x: pd.Series(rp.get_bs_stats(alpha, x.ho_score_combat)))\n",
    "bs_dif = bs_collapse.groupby('bal_proc').apply(lambda x: pd.Series(rp.get_bs_stats(alpha, x.difference)))\n",
    "\n",
    "bs_uncor['name'] = [bs_con_mod_res.query('bal_proc == @bp & pn == 0 & ~combat').name.values[0] for bp in bs_uncor.index]\n",
    "bs_combat['name'] = [bs_con_mod_res.query('bal_proc == @bp & pn == 0 & combat').name.values[0] for bp in bs_combat.index]\n",
    "bs_mdls = pd.concat([bs_uncor,bs_combat]).rename(columns = {'std_val':'std'})\n",
    "\n",
    "# substitute in the bootstrap standard deviations instead of the standard deviations across folds and draws\n",
    "con_mod_to_plot = con_mod_to_plot.merge(bs_mdls.loc[:,['name', 'std']]).drop(columns='ho_score std').rename(columns={'std':'ho_score std'})\n",
    "\n",
    "con_mod_to_plot['ho_score std'] *= 100\n",
    "con_mod_to_plot['ho_score mean'] *= 100\n",
    "con_mod_to_plot['label'] = 'Rest'\n",
    "#con_mod_to_plot.loc[con_mod_to_plot.contrast.str.contains('condition'), 'label'] = con_mod_to_plot.contrast.str.split('-').str[1:-1].str.join('-').str.title() + '* ' + con_mod_to_plot.run.str.split('.').str[0].str[-1]\n",
    "#con_mod_to_plot.loc[~con_mod_to_plot.contrast.str.contains('condition'), 'label'] = con_mod_to_plot.contrast.str.replace('contrast', '').str.replace('fixation', 'Fix').str.replace('reward', 'Rewd').str.replace('small', 'Sm').str.replace('large', 'Lg').str.replace('neutral', 'Neut').str.replace('positive', 'Pos').str.replace('negative', 'Neg').str.replace('anticipation', 'Ant').str.replace('-any', '').str.replace('correct', 'cor').str.replace('-of', '').str.split('-').str[1:].str.join(' ').str.title().str.replace('Versus', 'v').str.replace('Feeback', 'FB').str.replace('Feedback', 'FB') + ' ' + con_mod_to_plot.run.str.split('.').str[0].str[-1]"
   ]
  },
  {
   "cell_type": "code",
   "execution_count": null,
   "metadata": {},
   "outputs": [],
   "source": [
    "ps = bs_collapse.groupby('bal_proc').apply(lambda x: pd.Series(rp.get_bs_p(x.difference.values, 0)))"
   ]
  },
  {
   "cell_type": "code",
   "execution_count": null,
   "metadata": {},
   "outputs": [],
   "source": [
    "ps.values"
   ]
  },
  {
   "cell_type": "code",
   "execution_count": null,
   "metadata": {},
   "outputs": [],
   "source": [
    "# p values for comparisons between combat and non-combat corrected for multiple comparisons\n",
    "multipletests(ps.values.squeeze(), alpha=alpha, method=\"sidak\")"
   ]
  },
  {
   "cell_type": "code",
   "execution_count": null,
   "metadata": {},
   "outputs": [],
   "source": [
    "wide_df = (con_mod_to_plot.query('name == @mod_names[0]')\n",
    "                          .reset_index(drop=True)\n",
    "                          .rename(columns={\"ho_score mean\":mod_names[0], \"ho_score std\":mod_names[0]+\"_std\"})\n",
    "                          .drop(\"name\", axis=1))\n",
    "for name in mod_names[1:]:\n",
    "    tmp = (con_mod_to_plot.query('name == @name')\n",
    "                          .reset_index(drop=True)\n",
    "                          .rename(columns={\"ho_score mean\":name, \"ho_score std\":name+\"_std\"})\n",
    "                          .drop(\"name\", axis=1))\n",
    "    wide_df = wide_df.merge(tmp, how='left', on=['label'])\n",
    "    \n",
    "cb_wide_df = (con_mod_to_plot.query('name == @cb_mod_names[0]')\n",
    "                          .reset_index(drop=True)\n",
    "                          .rename(columns={\"ho_score mean\":cb_mod_names[0], \"ho_score std\":cb_mod_names[0]+\"_std\"})\n",
    "                          .drop(\"name\", axis=1))\n",
    "for name in cb_mod_names[1:]:\n",
    "    tmp = (con_mod_to_plot.query('name == @name')\n",
    "                          .reset_index(drop=True)\n",
    "                          .rename(columns={\"ho_score mean\":name, \"ho_score std\":name+\"_std\"})\n",
    "                          .drop(\"name\", axis=1))\n",
    "    cb_wide_df = cb_wide_df.merge(tmp, how='left', on=['label'])\n",
    "    \n",
    "# sig_thresh across normal and combat models \n",
    "sig_thresh = {'normal': 100*con_mod_res.groupby(['name','pn'])[['ho_score']].mean().reset_index().groupby( ['pn'])[['ho_score']].max().quantile([qup]).values[0][0]}\n",
    "sig_thresh['combat'] = sig_thresh['normal']\n",
    "sig_thresh['age_rsd'] = sig_thresh['normal']\n",
    "sig_thresh['cbagersd'] = sig_thresh['normal']\n",
    "sig_thresh['ab_normal'] = sig_thresh['normal']\n",
    "sig_thresh['ab_combat'] = sig_thresh['normal']\n",
    "\n",
    "sig_thresh\n",
    "\n",
    "\n",
    "uncor_df = con_mod_res.query('name in @mod_names').loc[:, ['pn', 'fn', 'name', 'ho_score']]\n",
    "combat_df = con_mod_res.query('name in @cb_mod_names').loc[:, ['pn', 'fn', 'name', 'ho_score']]\n",
    "combat_df['name'] = combat_df.name.str.replace('combat', 'normal').str.replace('cbagersd', 'age_rsd')\n",
    "uncb_df = uncor_df.merge(combat_df, how='left', on=['pn', 'fn', 'name'], suffixes=('', '_combat'))\n",
    "uncb_df['dif'] = uncb_df.ho_score - uncb_df.ho_score_combat"
   ]
  },
  {
   "cell_type": "code",
   "execution_count": null,
   "metadata": {},
   "outputs": [],
   "source": [
    "fig,ax = plt.subplots(1)\n",
    "sig_palette=sns.color_palette('muted')[0:len(mod_names)]\n",
    "palette=sns.color_palette('pastel')[0:len(mod_names)]\n",
    "bottom = np.zeros(len(mod_names)*2)\n",
    "width = np.ones(len(mod_names)*2)\n",
    "leg_labels = []\n",
    "colors = []\n",
    "for i,vf in enumerate(mod_names):\n",
    "    colors.append(sig_palette[i])\n",
    "    leg_labels.append('Sig. '+vf)\n",
    "    leg_labels.append(vf)\n",
    "    colors.append(palette[i])\n",
    "ax.barh(bottom, width, color=colors, label=['Sig. Raw', 'Raw','Sig. Age Regressed', 'Age Regressed' ])\n",
    "ax.vlines(sig_thresh['normal'], 0,2-1, colors = 'r', lw=0.4, label='Multiple Comparison\\nCorrected p<0.001')\n",
    "leg_hand, leg_labels = ax.get_legend_handles_labels()\n",
    "leg_hand\n",
    "handles = []\n",
    "handles.extend(leg_hand[1])\n",
    "handles.append(leg_hand[0])\n",
    "\n",
    "labels = ['Sig. Raw', 'Raw', 'Sig. Age Regressed', 'Age Regressed', 'Sig. Age Balanced', 'Age Balanced']\n",
    "labels.append(leg_labels[0])"
   ]
  },
  {
   "cell_type": "code",
   "execution_count": null,
   "metadata": {},
   "outputs": [],
   "source": [
    "leg_reo = [0, 2, 4, 6, 1, 3, 5]\n",
    "labels = list(np.array(labels)[leg_reo])\n",
    "handles = list(np.array(handles)[leg_reo])"
   ]
  },
  {
   "cell_type": "code",
   "execution_count": null,
   "metadata": {},
   "outputs": [],
   "source": [
    "uncorlist = rp.make_bar_list(mod_names, wide_df, sig_thresh, cols = 1, error=[mn + '_std' for mn in mod_names], stack=False)\n",
    "cblist = rp.make_bar_list(cb_mod_names, cb_wide_df, sig_thresh, left_start = 43, cols = 1, error=[mn + '_std' for mn in cb_mod_names], stack=False)"
   ]
  },
  {
   "cell_type": "code",
   "execution_count": null,
   "metadata": {},
   "outputs": [],
   "source": [
    "sns.set_context('paper', font_scale=0.8)"
   ]
  },
  {
   "cell_type": "code",
   "execution_count": null,
   "metadata": {},
   "outputs": [],
   "source": [
    "\n",
    "fig, ax = plt.subplots(1, figsize=(3,1.5), dpi=270)\n",
    "\n",
    "col = 0\n",
    "for uc, cb in zip(uncorlist, cblist):\n",
    "    uc = uc.copy()\n",
    "    cb = cb.copy()\n",
    "    uc.y = 0 - uc.y\n",
    "    cb.y = 0 - cb.y\n",
    "    barh_dict = uc.loc[uc.col == col, ['y', 'color', 'left',  'width', 'height', 'xerr']].to_dict('list')\n",
    "    cb_barh_dict = cb.loc[cb.col == col, ['y', 'color', 'left', 'width', 'height', 'xerr']].to_dict('list')\n",
    "\n",
    "    #names = uc.loc[uc.col == col, ['task']]\n",
    "    _plot = ax.barh(**barh_dict, error_kw={'elinewidth':0.8})\n",
    "    _plot = ax.barh(**cb_barh_dict, error_kw={'elinewidth':0.8})\n",
    "#name_df = uc.loc[uc.col == col, ['bottom', 'task']].groupby('task').max().reset_index()\n",
    "#for ii, row in name_df.iterrows():\n",
    "#    _text = ax.text(11, row.bottom + 1, row.metric, va='bottom', ha='center')\n",
    "yb,yt = ax.get_ylim()\n",
    "#_ylims = ax.set_ylim((np.max(barh_dict['bottom'])-plot_range-1, np.max(barh_dict['bottom'])+2))\n",
    "_vl = ax.vlines(43, yb,yt, lw=0.8)\n",
    "_vl = ax.vlines(sig_thresh['normal'], yb,yt-0.02, colors = 'r', lw=0.4)\n",
    "#_vl = ax.vlines(low_sig_thresh['normal'], yb,yt-0.02, colors = 'r', lw=0.4)\n",
    "\n",
    "_vl = ax.vlines(43+sig_thresh['combat'], yb,yt-0.02, colors = 'r', lw=0.4)\n",
    "#_vl = ax.vlines(43+low_sig_thresh['normal'], yb,yt-0.02, colors = 'r', lw=0.4)\n",
    "\n",
    "_lim = ax.set_ylim((yb,yt))\n",
    "t = ax.set_xticks([0,10,20,30,43, 53, 63])\n",
    "_tl = ax.set_xticklabels([0,10,20,30,0, 10, 20])\n",
    "#_ylims = ax.set_ylim((yb, yt))\n",
    "_t = ax.text(5, yt, 'Uncorrected')\n",
    "_t = ax.text(44, yt, 'ComBat')\n",
    "#_t = ax.set_title(name_df.task.values[0])\n",
    "_t = ax.set_xlabel('Mean Classifier Accuracy')\n",
    "_yt = ax.set_yticks(0-pd.concat(uncorlist).y)\n",
    "_ytl = ax.set_yticklabels(['Sex Bal.', 'Sex Bal.,\\nAge Regressed', 'Sex & Age Bal.'])\n",
    "\n",
    "for yval in (0-pd.concat(uncorlist).y):\n",
    "    _s = ax.text(63, yval-0.021, '*', va='center', ha='center', fontweight='bold')\n",
    "\n",
    "fig.tight_layout()\n",
    "#_leg = fig.legend(handles, labels, ncol=2 , loc=(0.6,0.5))    \n",
    "#fig.subplots_adjust(bottom = 0.12)\n",
    "\n",
    "sns.despine(fig)"
   ]
  },
  {
   "cell_type": "markdown",
   "metadata": {},
   "source": [
    "Classifier Performance Before and After ComBat for Resting State Functional Connectivity\n",
    "\n",
    "Bars show mean classifier performance across 3 fold cross-validation for raw and age regressed data and split half cross-vaidation for age balanced data from 25 sex balanced draws for resting state functional connetivity metrics. Error bars indicate standard error of the mean from 1000 bootstrap resamplings. We ran 1000 permutations balanced across gender, handedness and age in 3 month bins to determine chance classifier performance. The red line indicates the multiple comparison corrected p < 0.002 threshold from these permutations. All classifiers had greater accuracy than this cut-off. Classifier performance on data with no corrections for age are shown in blue. Green bars show classifier performance in which the effect of age learned on the training split within each cross validation fold was regressed out of each ROI. Red bars show classifier performance using a restricted dataset in which we drew samples balanced for gender and age in six month bins from each site. The uncorrected columns show results without running ComBat to correct for site effects. The ComBat columns show classifier performance after correcting for site effects with ComBat based on parameters learned from the training split within each cross validation. Astrices indicate significant reduction in classifier accuracy with p < 0.002 as determined by boostrap resampling."
   ]
  },
  {
   "cell_type": "markdown",
   "metadata": {},
   "source": [
    "# Look at confusion matrix"
   ]
  },
  {
   "cell_type": "code",
   "execution_count": null,
   "metadata": {},
   "outputs": [],
   "source": [
    "alpha = 0.05\n",
    "qup = 1 - (alpha/2)\n",
    "qdn = (alpha/2)\n"
   ]
  },
  {
   "cell_type": "code",
   "execution_count": null,
   "metadata": {},
   "outputs": [],
   "source": [
    "raw_df = pd.read_pickle('swarm_dir_bs/big_con.pkz')\n",
    "with open('swarm_dir_bs/yfit_con.pkz', 'rb') as h:\n",
    "    ymapper = pickle.load(h)"
   ]
  },
  {
   "cell_type": "code",
   "execution_count": null,
   "metadata": {},
   "outputs": [],
   "source": [
    "raw_df['cat_num'] = ymapper.transform(raw_df)\n"
   ]
  },
  {
   "cell_type": "code",
   "execution_count": null,
   "metadata": {},
   "outputs": [],
   "source": [
    "model_lut = {k:v['mri_info_manufacturersmn'] for k,v in  raw_df.groupby('cat_num')[['mri_info_manufacturersmn']].first().to_dict('index').items()}\n",
    "mfg_lut = {k:v['mri_info_manufacturer'] for k,v in  raw_df.groupby('cat_num')[['mri_info_manufacturer']].first().to_dict('index').items()}\n",
    "\n",
    "model_order = ['DISCOVERY MR750','Achieva dStream', 'Ingenia', 'Prisma', 'Prisma_fit', ]\n",
    "\n",
    "mfg_order = ['GE MEDICAL SYSTEMS', 'Philips Medical Systems', 'SIEMENS', ]"
   ]
  },
  {
   "cell_type": "code",
   "execution_count": null,
   "metadata": {},
   "outputs": [],
   "source": [
    "cfns, perm_cfns = rp.get_cfns(con_mod_res, 'normal')\n",
    "ab_cfns, ab_perm_cfns = rp.get_cfns(con_mod_res, 'ab_normal')\n",
    "cb_cfns, cb_perm_cfns = rp.get_cfns(con_mod_res, 'combat')\n"
   ]
  },
  {
   "cell_type": "code",
   "execution_count": null,
   "metadata": {},
   "outputs": [],
   "source": [
    "bs_cfns, bs_perm_cfns = rp.get_cfns(bs_con_mod_res, 'normal', include0=True)\n",
    "#bs_ab_cfns, bs_ab_perm_cfns = get_cfns(bs_con_mod_res, 'ab_normal', include0=True)\n",
    "bs_cb_cfns, bs_cb_perm_cfns = rp.get_cfns(bs_con_mod_res, 'combat', include0=True)\n"
   ]
  },
  {
   "cell_type": "code",
   "execution_count": null,
   "metadata": {},
   "outputs": [],
   "source": [
    "model_inds = rp.invert_lut(model_lut)\n",
    "mfg_inds = rp.invert_lut(mfg_lut)\n",
    "bs_mdl_cfns = rp.collapse_cfn(bs_perm_cfns, model_inds, model_order)\n",
    "bs_mfg_cfns = rp.collapse_cfn(bs_perm_cfns, mfg_inds, mfg_order)\n",
    "bs_cb_mdl_cfns = rp.collapse_cfn(bs_cb_perm_cfns, model_inds, model_order)\n",
    "bs_cb_mfg_cfns = rp.collapse_cfn(bs_cb_perm_cfns, mfg_inds, mfg_order)\n",
    "\n",
    "bs_perm_dif = rp.normalize_cfn(bs_cb_perm_cfns) - rp.normalize_cfn(bs_perm_cfns)\n",
    "bs_mdl_dif = rp.normalize_cfn(bs_cb_mdl_cfns) - rp.normalize_cfn(bs_mdl_cfns)\n",
    "bs_mfg_dif = rp.normalize_cfn(bs_cb_mfg_cfns) - rp.normalize_cfn(bs_mfg_cfns)"
   ]
  },
  {
   "cell_type": "code",
   "execution_count": null,
   "metadata": {},
   "outputs": [],
   "source": [
    "bs_dif_res = rp.get_bs_res(bs_perm_dif, alpha, side='double')\n",
    "bs_mdl_dif_res = rp.get_bs_res(bs_mdl_dif, alpha, side='double')\n",
    "bs_mfg_dif_res = rp.get_bs_res(bs_mfg_dif, alpha, side='double')"
   ]
  },
  {
   "cell_type": "code",
   "execution_count": null,
   "metadata": {},
   "outputs": [],
   "source": [
    "cfn_signed_ps = rp.get_cfn_sig(cfns, perm_cfns)\n",
    "ab_cfn_signed_ps = rp.get_cfn_sig(ab_cfns, ab_perm_cfns)\n",
    "cb_cfn_signed_ps = rp.get_cfn_sig(cb_cfns, cb_perm_cfns)"
   ]
  },
  {
   "cell_type": "code",
   "execution_count": null,
   "metadata": {},
   "outputs": [],
   "source": [
    "model_cfns, mfg_cfns, model_cfn_signed_ps_norm, mfg_cfn_signed_ps_norm = rp.get_collapsed_perms(cfns, perm_cfns, model_lut, model_order, mfg_lut, mfg_order)\n",
    "#ab_model_cfns, ab_mfg_cfns, ab_model_cfn_signed_ps_norm, ab_mfg_cfn_signed_ps_norm = get_collapsed_perms(ab_cfns, ab_perm_cfns, model_lut, model_order, mfg_lut, mfg_order)\n",
    "cb_model_cfns, cb_mfg_cfns, cb_model_cfn_signed_ps_norm, cb_mfg_cfn_signed_ps_norm = rp.get_collapsed_perms(cb_cfns, cb_perm_cfns, model_lut, model_order, mfg_lut, mfg_order)"
   ]
  },
  {
   "cell_type": "code",
   "execution_count": null,
   "metadata": {},
   "outputs": [],
   "source": [
    "cat_df = raw_df.groupby('cat_num')[['mri_info_manufacturer',\n",
    "                 'mri_info_manufacturersmn',\n",
    "                 'unique_scanner']].first()\n",
    "cat_df['mfg'] = cat_df.mri_info_manufacturer\n",
    "cat_df.loc[cat_df.mri_info_manufacturer.str.contains('GE'), 'mfg'] = 'GE'\n",
    "cat_df.loc[cat_df.mri_info_manufacturer.str.contains('Philips'), 'mfg'] = 'PH'\n",
    "cat_df.loc[cat_df.mri_info_manufacturer.str.contains('SIEMENS'), 'mfg'] = 'SM'\n",
    "\n",
    "cat_df['mdl'] = cat_df.mri_info_manufacturersmn\n",
    "cat_df.loc[cat_df.mri_info_manufacturersmn == 'Prisma', 'mdl'] = 'Prsm'\n",
    "cat_df.loc[cat_df.mri_info_manufacturersmn == 'Prisma_fit', 'mdl'] = 'Pr-f'\n",
    "cat_df.loc[cat_df.mri_info_manufacturersmn == 'DISCOVERY MR750', 'mdl'] = 'Dsc7'\n",
    "cat_df.loc[cat_df.mri_info_manufacturersmn == 'Ingenia', 'mdl'] = 'Ingn'\n",
    "cat_df.loc[cat_df.mri_info_manufacturersmn == 'Achieva dStream', 'mdl'] = 'Achv'\n",
    "\n",
    "cat_df['num'] = cat_df.groupby(['mri_info_manufacturer', 'mri_info_manufacturersmn']).transform(lambda x:np.arange(len(x))).mdl.values"
   ]
  },
  {
   "cell_type": "code",
   "execution_count": null,
   "metadata": {},
   "outputs": [],
   "source": [
    "cat_df['hname'] = cat_df.mfg + '_' +cat_df.mdl + '_' + cat_df.num.astype('str')"
   ]
  },
  {
   "cell_type": "code",
   "execution_count": null,
   "metadata": {},
   "outputs": [],
   "source": [
    "cat_df['sort_key'] = 0\n",
    "cat_df.loc[cat_df.mfg == 'GE', 'sort_key'] = 1\n",
    "cat_df.loc[cat_df.mfg == 'SM',  'sort_key'] = 2"
   ]
  },
  {
   "cell_type": "code",
   "execution_count": null,
   "metadata": {},
   "outputs": [],
   "source": [
    "reo_ind = [cat_df.sort_values(['sort_key', 'mri_info_manufacturer',\n",
    "                  'mri_info_manufacturersmn','num']).reset_index().cat_num.values][0]\n",
    "classes = cat_df.sort_values(['sort_key', 'mri_info_manufacturer',\n",
    "                  'mri_info_manufacturersmn','num']).hname.values"
   ]
  },
  {
   "cell_type": "code",
   "execution_count": null,
   "metadata": {},
   "outputs": [],
   "source": [
    "mdl_labels = ['Discovery\\nMR750', 'Achieva\\ndStream', 'Ingenia', 'Prisma', 'Prisma_fit']\n",
    "mfg_labels = ['GE', 'Philips', 'Siemens']"
   ]
  },
  {
   "cell_type": "code",
   "execution_count": null,
   "metadata": {
    "scrolled": false
   },
   "outputs": [],
   "source": [
    "sns.set_context('paper', font_scale = 0.8)\n",
    "#fig,axes = plt.subplots(3,1, figsize = (, 11), dpi = 100)\n",
    "fig = plt.figure(figsize = (7, 8), dpi = 200)\n",
    "gs = gridspec.GridSpec(4,3, height_ratios=[8,8,8,0.5])\n",
    "axes = [plt.subplot(g) for g in gs]\n",
    "\n",
    "# Raw\n",
    "_fig,_ax,im0 = rp.plot_confusion_matrix(cfns.mean(0)[reo_ind,:][:,reo_ind], classes, normalize=True, numbers=False, title=\"Sex Bal. Scanner\",\n",
    "                      signed_ps = cfn_signed_ps[reo_ind,:][:,reo_ind], colorbar=False, ax=axes[0], fig=fig, sig_thresh=alpha/2, symbols=True)\n",
    "\n",
    "labels = axes[0].get_xticklabels()\n",
    "for i,label in enumerate(labels):\n",
    "    label.set_ha('right')\n",
    "    label.set_rotation(45)\n",
    "    x, y = label.get_position()\n",
    "    y = y+0.05\n",
    "    label.set_position((x,y))\n",
    "    \n",
    "model_cfn = model_cfns.mean(0)\n",
    "model_reo = [1,2,0,3,4]\n",
    "rp.plot_confusion_matrix(model_cfn[model_reo, :][:, model_reo], np.array(mdl_labels)[model_reo], normalize=True, numbers=False, title=\"Sex Bal. Model\",\n",
    "                      signed_ps = model_cfn_signed_ps_norm[model_reo, :][:, model_reo], colorbar=False, ax=axes[3], sig_thresh=alpha/2, symbols=True)\n",
    "labels = axes[3].get_xticklabels()\n",
    "for i,label in enumerate(labels):\n",
    "    label.set_ha('right')\n",
    "    label.set_rotation(45)\n",
    "    x, y = label.get_position()\n",
    "    y = y+0.05\n",
    "    label.set_position((x,y))\n",
    "mfg_cfn = mfg_cfns.mean(0)\n",
    "mfg_reo = [1,0,2]\n",
    "rp.plot_confusion_matrix(mfg_cfn[mfg_reo, :][:, mfg_reo], np.array(mfg_labels)[mfg_reo], normalize=True, numbers=False, title=\"Sex Bal. Manufacturer\",\n",
    "                      signed_ps = mfg_cfn_signed_ps_norm[mfg_reo, :][:, mfg_reo],  colorbar=False, ax=axes[6], sig_thresh=alpha/2, symbols=True)\n",
    "#axes[0].figure.tight_layout()\n",
    "\n",
    "# Combat\n",
    "_fig,_ax,im1 = rp.plot_confusion_matrix(cb_cfns.mean(0)[reo_ind,:][:,reo_ind], classes, normalize=True, numbers=False, title=\"ComBat Scanner\",\n",
    "                      signed_ps = cb_cfn_signed_ps[reo_ind,:][:,reo_ind], colorbar=False, ax=axes[1], fig=fig, sig_thresh=alpha/2, symbols=True)\n",
    "\n",
    "labels = axes[1].get_xticklabels()\n",
    "for i,label in enumerate(labels):\n",
    "    label.set_ha('right')\n",
    "    label.set_rotation(45)\n",
    "    x, y = label.get_position()\n",
    "    y = y+0.05\n",
    "    label.set_position((x,y))\n",
    "    \n",
    "cb_model_cfn = cb_model_cfns.mean(0)\n",
    "model_reo = [1,2,0,3,4]\n",
    "rp.plot_confusion_matrix(cb_model_cfn[model_reo, :][:, model_reo], np.array(mdl_labels)[model_reo], normalize=True, numbers=False, title=\"ComBat Model\",\n",
    "                      signed_ps = cb_model_cfn_signed_ps_norm[model_reo, :][:, model_reo], colorbar=False, ax=axes[4], sig_thresh=alpha/2, symbols=True)\n",
    "labels = axes[4].get_xticklabels()\n",
    "for i,label in enumerate(labels):\n",
    "    label.set_ha('right')\n",
    "    label.set_rotation(45)\n",
    "    x, y = label.get_position()\n",
    "    y = y+0.05\n",
    "    label.set_position((x,y))\n",
    "mfg_reo = [1,0,2]\n",
    "cb_mfg_cfn = cb_mfg_cfns.mean(0)\n",
    "rp.plot_confusion_matrix(cb_mfg_cfn[mfg_reo, :][:, mfg_reo], np.array(mfg_labels)[mfg_reo], normalize=True, numbers=False, title=\"ComBat Manufacturer\",\n",
    "                      signed_ps = cb_mfg_cfn_signed_ps_norm[mfg_reo, :][:, mfg_reo], colorbar=False, ax=axes[7], sig_thresh=alpha/2, symbols=True)\n",
    "#axes[0].figure.tight_layout()\n",
    "#fig.tight_layout()\n",
    "\n",
    "\n",
    "\n",
    "#Difference\n",
    "_fig,_ax,im2 = rp.plot_confusion_matrix(bs_dif_res['bs_mean'][reo_ind,:][:,reo_ind],\n",
    "                                     classes,\n",
    "                                     normalize=False, numbers=False,\n",
    "                                     title=\"Difference\",\n",
    "                                     signed_ps = bs_dif_res['bs_signed_ps'][reo_ind,:][:,reo_ind],\n",
    "                                     cmap=plt.cm.RdBu_r, colorbar=False,\n",
    "                                     ax=axes[2], fig=fig,\n",
    "                                     sig_thresh=alpha, symbols=True,\n",
    "                                     vmin=-1, vmax=1)\n",
    "\n",
    "labels = axes[2].get_xticklabels()\n",
    "for i,label in enumerate(labels):\n",
    "    label.set_ha('right')\n",
    "    label.set_rotation(45)\n",
    "    x, y = label.get_position()\n",
    "    y = y+0.05\n",
    "    label.set_position((x,y))\n",
    "    \n",
    "model_reo = [1,2,0,3,4]\n",
    "rp.plot_confusion_matrix(bs_mdl_dif_res['bs_mean'][model_reo, :][:, model_reo],\n",
    "                      np.array(mdl_labels)[model_reo], \n",
    "                      normalize=False, numbers=False, \n",
    "                      title=\"Difference\",\n",
    "                      signed_ps = bs_mdl_dif_res['bs_signed_ps'][model_reo, :][:, model_reo], \n",
    "                      cmap=plt.cm.RdBu_r, colorbar=False,\n",
    "                      ax=axes[5],\n",
    "                      sig_thresh=alpha, symbols=True,\n",
    "                                     vmin=-1, vmax=1)\n",
    "labels = axes[5].get_xticklabels()\n",
    "for i,label in enumerate(labels):\n",
    "    label.set_ha('right')\n",
    "    label.set_rotation(45)\n",
    "    x, y = label.get_position()\n",
    "    y = y+0.05\n",
    "    label.set_position((x,y))\n",
    "mfg_reo = [1,0,2]\n",
    "\n",
    "rp.plot_confusion_matrix(bs_mfg_dif_res['bs_mean'][mfg_reo, :][:, mfg_reo],\n",
    "                      np.array(mfg_labels)[mfg_reo],\n",
    "                      normalize=False, numbers=False,\n",
    "                      title=\"Difference\",\n",
    "                      signed_ps = bs_mfg_dif_res['bs_signed_ps'][mfg_reo, :][:, mfg_reo],\n",
    "                      cmap=plt.cm.RdBu_r, colorbar=False, ax=axes[8],\n",
    "                      sig_thresh=alpha, symbols=True,\n",
    "                                     vmin=-1, vmax=1)\n",
    "\n",
    "fig.tight_layout()\n",
    "\n",
    "fig.colorbar(im0, cax = axes[9], orientation='horizontal')\n",
    "axes[9].set_xlabel('Proportion')\n",
    "axes[9].set_aspect(0.065)\n",
    "cbbox = axes[9].get_position()\n",
    "cbbox.y0 = cbbox.y0 + 0.05\n",
    "cbbox.y1 = cbbox.y1 + 0.05\n",
    "axes[9].set_position(cbbox)\n",
    "\n",
    "fig.colorbar(im1, cax = axes[10], orientation='horizontal')\n",
    "axes[10].set_xlabel('Proportion')\n",
    "axes[10].set_aspect(0.065)\n",
    "cbbox = axes[10].get_position()\n",
    "cbbox.y0 = cbbox.y0 + 0.05\n",
    "cbbox.y1 = cbbox.y1 + 0.05\n",
    "axes[10].set_position(cbbox)\n",
    "\n",
    "fig.colorbar(im2, cax = axes[11], orientation='horizontal',ticks=[-1, -0.5, 0, 0.5, 1])\n",
    "axes[11].set_xlabel('Change in Proportion')\n",
    "axes[11].set_aspect(0.065)\n",
    "cbbox = axes[11].get_position()\n",
    "cbbox.y0 = cbbox.y0 + 0.05\n",
    "cbbox.y1 = cbbox.y1 + 0.05\n",
    "axes[11].set_position(cbbox)\n"
   ]
  },
  {
   "cell_type": "markdown",
   "metadata": {},
   "source": []
  },
  {
   "cell_type": "markdown",
   "metadata": {},
   "source": [
    "## Does combat reduce classifiabiilty for all sites"
   ]
  },
  {
   "cell_type": "code",
   "execution_count": null,
   "metadata": {},
   "outputs": [],
   "source": [
    "rp.get_bs_res(np.diagonal(bs_perm_dif, axis1=2, axis2=3), alpha=alpha)"
   ]
  },
  {
   "cell_type": "markdown",
   "metadata": {},
   "source": [
    "No, only sig for 3 sites"
   ]
  },
  {
   "cell_type": "markdown",
   "metadata": {},
   "source": [
    "# Classifiability by manufacturer"
   ]
  },
  {
   "cell_type": "code",
   "execution_count": null,
   "metadata": {},
   "outputs": [],
   "source": [
    "ge_ph = rp.normalize_cfn(bs_mfg_cfns)[:,:,0,0] - rp.normalize_cfn(bs_mfg_cfns)[:,:,1,1]\n",
    "ge_si = rp.normalize_cfn(bs_mfg_cfns)[:,:,0,0] - rp.normalize_cfn(bs_mfg_cfns)[:,:,2,2]\n",
    "ph_si = rp.normalize_cfn(bs_mfg_cfns)[:,:,1,1] - rp.normalize_cfn(bs_mfg_cfns)[:,:,2,2]"
   ]
  },
  {
   "cell_type": "code",
   "execution_count": null,
   "metadata": {},
   "outputs": [],
   "source": [
    "multipletests([rp.get_bs_p(x) for x in [ge_ph, ge_si, ph_si]], alpha=alpha, method='sidak')"
   ]
  },
  {
   "cell_type": "code",
   "execution_count": null,
   "metadata": {},
   "outputs": [],
   "source": []
  }
 ],
 "metadata": {
  "kernelspec": {
   "display_name": "Python 3",
   "language": "python",
   "name": "python3"
  },
  "language_info": {
   "codemirror_mode": {
    "name": "ipython",
    "version": 3
   },
   "file_extension": ".py",
   "mimetype": "text/x-python",
   "name": "python",
   "nbconvert_exporter": "python",
   "pygments_lexer": "ipython3",
   "version": "3.7.1"
  }
 },
 "nbformat": 4,
 "nbformat_minor": 2
}
