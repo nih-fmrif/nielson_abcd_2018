{
 "cells": [
  {
   "cell_type": "code",
   "execution_count": 1,
   "metadata": {},
   "outputs": [
    {
     "data": {
      "text/html": [
       "<style>.container { width:100% !important; }</style>"
      ],
      "text/plain": [
       "<IPython.core.display.HTML object>"
      ]
     },
     "metadata": {},
     "output_type": "display_data"
    },
    {
     "name": "stdout",
     "output_type": "stream",
     "text": [
      "Import Done.\n"
     ]
    }
   ],
   "source": [
    "import pandas as pd\n",
    "import pickle\n",
    "from pathlib import Path\n",
    "from sklearn.pipeline import Pipeline\n",
    "from sklearn import preprocessing\n",
    "from sklearn.linear_model import LogisticRegression, LinearRegression\n",
    "\n",
    "from collections import namedtuple\n",
    "import numpy as np\n",
    "from sklearn_pandas import DataFrameMapper\n",
    "\n",
    "from sklearn.externals import joblib\n",
    "\n",
    "\n",
    "# Display more rows and get rid of the margins\n",
    "pd.set_option('display.max_rows', 500)\n",
    "pd.set_option('display.max_columns', 500)\n",
    "pd.set_option('max_colwidth',500)\n",
    "from IPython.core.display import display, HTML\n",
    "display(HTML(\"<style>.container { width:100% !important; }</style>\"))\n",
    "\n",
    "# Display mulitiple values from each cell\n",
    "# https://stackoverflow.com/a/42476224\n",
    "from IPython.core.interactiveshell import InteractiveShell\n",
    "InteractiveShell.ast_node_interactivity = \"all\"\n",
    "\n",
    "# Start rpy2 session\n",
    "import patsy\n",
    "import rpy2.robjects as robjects\n",
    "import rpy2.robjects.numpy2ri\n",
    "\n",
    "rpy2.robjects.numpy2ri.activate()\n",
    "print(\"Import Done.\")"
   ]
  },
  {
   "cell_type": "code",
   "execution_count": null,
   "metadata": {},
   "outputs": [
    {
     "name": "stderr",
     "output_type": "stream",
     "text": [
      "/data/nielsond/python/envs/abcd_mine/lib/python3.6/site-packages/rpy2/robjects/functions.py:106: UserWarning: Bioconductor version 3.4 (BiocInstaller 1.24.0), ?biocLite for help\n",
      "\n",
      "  res = super(Function, self).__call__(*new_args, **new_kwargs)\n",
      "/data/nielsond/python/envs/abcd_mine/lib/python3.6/site-packages/rpy2/robjects/functions.py:106: UserWarning: A new version of Bioconductor is available after installing the most recent\n",
      "  version of R; see http://bioconductor.org/install\n",
      "\n",
      "  res = super(Function, self).__call__(*new_args, **new_kwargs)\n",
      "/data/nielsond/python/envs/abcd_mine/lib/python3.6/site-packages/rpy2/robjects/functions.py:106: UserWarning: BioC_mirror: https://bioconductor.org\n",
      "\n",
      "  res = super(Function, self).__call__(*new_args, **new_kwargs)\n",
      "/data/nielsond/python/envs/abcd_mine/lib/python3.6/site-packages/rpy2/robjects/functions.py:106: UserWarning: Using Bioconductor 3.4 (BiocInstaller 1.24.0), R 3.3.1 (2016-06-21).\n",
      "\n",
      "  res = super(Function, self).__call__(*new_args, **new_kwargs)\n",
      "/data/nielsond/python/envs/abcd_mine/lib/python3.6/site-packages/rpy2/robjects/functions.py:106: UserWarning: Installing package(s) ‘sva’\n",
      "\n",
      "  res = super(Function, self).__call__(*new_args, **new_kwargs)\n"
     ]
    },
    {
     "ename": "KeyboardInterrupt",
     "evalue": "",
     "output_type": "error",
     "traceback": [
      "\u001b[0;31m---------------------------------------------------------------------------\u001b[0m",
      "\u001b[0;31mKeyboardInterrupt\u001b[0m                         Traceback (most recent call last)",
      "\u001b[0;32m/data/nielsond/python/envs/abcd_mine/lib/python3.6/warnings.py\u001b[0m in \u001b[0;36m__init__\u001b[0;34m(self, message, category, filename, lineno, file, line, source)\u001b[0m\n\u001b[1;32m    396\u001b[0m                         \"line\", \"source\")\n\u001b[1;32m    397\u001b[0m \u001b[0;34m\u001b[0m\u001b[0m\n\u001b[0;32m--> 398\u001b[0;31m     def __init__(self, message, category, filename, lineno, file=None,\n\u001b[0m\u001b[1;32m    399\u001b[0m                  line=None, source=None):\n\u001b[1;32m    400\u001b[0m         \u001b[0mlocal_values\u001b[0m \u001b[0;34m=\u001b[0m \u001b[0mlocals\u001b[0m\u001b[0;34m(\u001b[0m\u001b[0;34m)\u001b[0m\u001b[0;34m\u001b[0m\u001b[0m\n",
      "\u001b[0;31mKeyboardInterrupt\u001b[0m: "
     ]
    },
    {
     "name": "stderr",
     "output_type": "stream",
     "text": [
      "/data/nielsond/python/envs/abcd_mine/lib/python3.6/site-packages/rpy2/robjects/functions.py:106: UserWarning: Content type 'application/x-gzip'\n",
      "  res = super(Function, self).__call__(*new_args, **new_kwargs)\n",
      "/data/nielsond/python/envs/abcd_mine/lib/python3.6/site-packages/rpy2/robjects/functions.py:106: UserWarning:  length 197610 bytes (192 KB)\n",
      "\n",
      "  res = super(Function, self).__call__(*new_args, **new_kwargs)\n",
      "/data/nielsond/python/envs/abcd_mine/lib/python3.6/site-packages/rpy2/robjects/functions.py:106: UserWarning: =\n",
      "  res = super(Function, self).__call__(*new_args, **new_kwargs)\n",
      "/data/nielsond/python/envs/abcd_mine/lib/python3.6/site-packages/rpy2/robjects/functions.py:106: UserWarning: \n",
      "\n",
      "  res = super(Function, self).__call__(*new_args, **new_kwargs)\n",
      "/data/nielsond/python/envs/abcd_mine/lib/python3.6/site-packages/rpy2/robjects/functions.py:106: UserWarning: downloaded 192 KB\n",
      "\n",
      "\n",
      "  res = super(Function, self).__call__(*new_args, **new_kwargs)\n",
      "/data/nielsond/python/envs/abcd_mine/lib/python3.6/site-packages/rpy2/robjects/functions.py:106: UserWarning: \n",
      "  res = super(Function, self).__call__(*new_args, **new_kwargs)\n"
     ]
    }
   ],
   "source": [
    "# Install the needed rlibraries, SLOW\n",
    "robjects.r('''\n",
    "source(\"https://bioconductor.org/biocLite.R\")\n",
    "biocLite(\"sva\", ask = FALSE, suppressUpdates = FALSE)\n",
    "''')\n",
    "robjects.r('''\n",
    "source(\"https://bioconductor.org/biocLite.R\")\n",
    "biocLite(\"BiocParallel\", ask = FALSE, suppressUpdates = FALSE)\n",
    "''')"
   ]
  },
  {
   "cell_type": "code",
   "execution_count": 2,
   "metadata": {},
   "outputs": [
    {
     "name": "stderr",
     "output_type": "stream",
     "text": [
      "/data/nielsond/python/envs/abcd_mine/lib/python3.6/site-packages/rpy2/robjects/functions.py:106: UserWarning: Loading required package: mgcv\n",
      "\n",
      "  res = super(Function, self).__call__(*new_args, **new_kwargs)\n",
      "/data/nielsond/python/envs/abcd_mine/lib/python3.6/site-packages/rpy2/robjects/functions.py:106: UserWarning: Loading required package: nlme\n",
      "\n",
      "  res = super(Function, self).__call__(*new_args, **new_kwargs)\n",
      "/data/nielsond/python/envs/abcd_mine/lib/python3.6/site-packages/rpy2/robjects/functions.py:106: UserWarning: This is mgcv 1.8-23. For overview type 'help(\"mgcv-package\")'.\n",
      "\n",
      "  res = super(Function, self).__call__(*new_args, **new_kwargs)\n",
      "/data/nielsond/python/envs/abcd_mine/lib/python3.6/site-packages/rpy2/robjects/functions.py:106: UserWarning: Loading required package: genefilter\n",
      "\n",
      "  res = super(Function, self).__call__(*new_args, **new_kwargs)\n",
      "/data/nielsond/python/envs/abcd_mine/lib/python3.6/site-packages/rpy2/robjects/functions.py:106: UserWarning: Creating a generic function for ‘source’ from package ‘base’ in package ‘XML’\n",
      "\n",
      "  res = super(Function, self).__call__(*new_args, **new_kwargs)\n"
     ]
    },
    {
     "data": {
      "text/plain": [
       "array(['sva', 'genefilter', 'mgcv', 'nlme', 'tools', 'stats', 'graphics',\n",
       "       'grDevices', 'utils', 'datasets', 'methods', 'base'],\n",
       "      dtype='<U10')"
      ]
     },
     "execution_count": 2,
     "metadata": {},
     "output_type": "execute_result"
    },
    {
     "data": {
      "text/plain": [
       "array(['BiocParallel', 'sva', 'genefilter', 'mgcv', 'nlme', 'tools',\n",
       "       'stats', 'graphics', 'grDevices', 'utils', 'datasets', 'methods',\n",
       "       'base'],\n",
       "      dtype='<U12')"
      ]
     },
     "execution_count": 2,
     "metadata": {},
     "output_type": "execute_result"
    },
    {
     "data": {
      "text/plain": [
       "<SignatureTranslatedFunction - Python:0x2b258c22eb88 / R:0x2b25b327af40>"
      ]
     },
     "execution_count": 2,
     "metadata": {},
     "output_type": "execute_result"
    }
   ],
   "source": [
    "# Load the combat function\n",
    "\n",
    "robjects.r('library(sva)')\n",
    "robjects.r('library(BiocParallel)')\n",
    "robjects.r('''modifiedComBat <- function (dat, batch, mod = NULL, par.prior = FALSE, prior.plots = FALSE, \n",
    "           mean.only = FALSE, ref.batch = NULL, BPPARAM = bpparam(\"SerialParam\"), dat2 = NULL, batch2 = NULL, mod2 = NULL) \n",
    "{\n",
    "  if (mean.only == TRUE) {\n",
    "    message(\"Using the 'mean only' version of ComBat\")\n",
    "  }\n",
    "  if (length(dim(batch)) > 1) {\n",
    "    stop(\"This version of ComBat only allows one batch variable\")\n",
    "  }\n",
    "  if (is.null(batch2)) {\n",
    "    batch <- as.factor(batch)\n",
    "  }\n",
    "  else {\n",
    "    n1 <- length(batch)\n",
    "    allbatch <- as.factor(c(batch, batch2))\n",
    "    batch <- allbatch[1:n1]\n",
    "    batch2 <- allbatch[(n1 + 1):length(allbatch)]\n",
    "  }\n",
    "  batchmod <- model.matrix(~-1 + batch)\n",
    "  if (!is.null(dat2)) batchmod2 <- model.matrix(~-1 + batch2)\n",
    "  if (!is.null(ref.batch)) {\n",
    "    if (!(ref.batch %in% levels(batch))) {\n",
    "      stop(\"reference level ref.batch is not one of the levels of the batch variable\")\n",
    "    }\n",
    "    cat(\"Using batch =\", ref.batch, \"as a reference batch (this batch won't change)\\n\")\n",
    "    ref <- which(levels(as.factor(batch)) == ref.batch)\n",
    "    batchmod[, ref] <- 1\n",
    "    if (!is.null(dat2)) {\n",
    "      ref2 <- which(levels(as.factor(batch2)) == ref.batch)\n",
    "      batchmod2[, ref2] <- 1\n",
    "    }\n",
    "  }\n",
    "  else {\n",
    "    ref <- NULL\n",
    "  }\n",
    "  message(\"Found\", nlevels(batch), \"batches\")\n",
    "  n.batch <- nlevels(batch)\n",
    "  batches <- list()\n",
    "  for (i in 1:n.batch) {\n",
    "    batches[[i]] <- which(batch == levels(batch)[i])\n",
    "  }\n",
    "  if (!is.null(dat2)) {\n",
    "    batches2 <- list()\n",
    "    for (i in 1:n.batch) {\n",
    "      batches2[[i]] <- which(batch2 == levels(batch)[i])\n",
    "    }\n",
    "  }\n",
    "  n.batches <- sapply(batches, length)\n",
    "  if (any(n.batches == 1)) {\n",
    "    mean.only = TRUE\n",
    "    message(\"Note: one batch has only one sample, setting mean.only=TRUE\")\n",
    "  }\n",
    "  n.array <- sum(n.batches)\n",
    "  design <- cbind(batchmod, mod)\n",
    "  check <- apply(design, 2, function(x) all(x == 1))\n",
    "  if (!is.null(ref)) {\n",
    "    check[ref] <- FALSE\n",
    "  }\n",
    "  design <- as.matrix(design[, !check])\n",
    "  if (!is.null(dat2)) {\n",
    "    n.batches2 <- sapply(batches2, length)\n",
    "    n.array2 <- sum(n.batches2)\n",
    "    design2 <- cbind(batchmod2, mod2)\n",
    "    check2 <- apply(design2, 2, function(x) all(x == 1))\n",
    "    if (!is.null(ref)) {\n",
    "      check2[ref] <- FALSE\n",
    "    } \n",
    "    design2 <- as.matrix(design2[, !check2])\n",
    "  }\n",
    "  message(\"Adjusting for\", ncol(design) - ncol(batchmod), \"covariate(s) or covariate level(s)\")\n",
    "  if (qr(design)$rank < ncol(design)) {\n",
    "    if (ncol(design) == (n.batch + 1)) {\n",
    "      stop(\"The covariate is confounded with batch! Remove the covariate and rerun ComBat\")\n",
    "    }\n",
    "    if (ncol(design) > (n.batch + 1)) {\n",
    "      if ((qr(design[, -c(1:n.batch)])$rank < ncol(design[, \n",
    "                                                          -c(1:n.batch)]))) {\n",
    "        stop(\"The covariates are confounded! Please remove one or more of the covariates so the design is not confounded\")\n",
    "      }\n",
    "      else {\n",
    "        stop(\"At least one covariate is confounded with batch! Please remove confounded covariates and rerun ComBat\")\n",
    "      }\n",
    "    }\n",
    "  }\n",
    "  NAs <- any(is.na(dat))\n",
    "  if (NAs) {\n",
    "    message(c(\"Found\", sum(is.na(dat)), \"Missing Data Values\"), \n",
    "            sep = \" \")\n",
    "  }\n",
    "  cat(\"Standardizing Data across genes\\n\")\n",
    "  \n",
    "  if (!NAs) {\n",
    "    B.hat <- solve(crossprod(design), tcrossprod(t(design), \n",
    "                                                 as.matrix(dat)))\n",
    "  }\n",
    "    else {\n",
    "      B.hat <- apply(dat, 1, Beta.NA, design)\n",
    "    }\n",
    "  if (!is.null(ref.batch)) {\n",
    "    grand.mean <- t(B.hat[ref, ])\n",
    "  }\n",
    "    else {\n",
    "      grand.mean <- crossprod(n.batches/n.array, B.hat[1:n.batch, \n",
    "                                                       ])\n",
    "    }\n",
    "  if (!NAs) {\n",
    "    if (!is.null(ref.batch)) {\n",
    "      ref.dat <- dat[, batches[[ref]]]\n",
    "      var.pooled <- ((ref.dat - t(design[batches[[ref]], \n",
    "                                         ] %*% B.hat))^2) %*% rep(1/n.batches[ref], n.batches[ref])\n",
    "    }\n",
    "    else {\n",
    "      var.pooled <- ((dat - t(design %*% B.hat))^2) %*% \n",
    "        rep(1/n.array, n.array)\n",
    "    }\n",
    "  }\n",
    "    else {\n",
    "      if (!is.null(ref.batch)) {\n",
    "        ref.dat <- dat[, batches[[ref]]]\n",
    "        var.pooled <- rowVars(ref.dat - t(design[batches[[ref]], \n",
    "                                                 ] %*% B.hat), na.rm = TRUE)\n",
    "      }\n",
    "      else {\n",
    "        var.pooled <- rowVars(dat - t(design %*% B.hat), \n",
    "                              na.rm = TRUE)\n",
    "      }\n",
    "    }\n",
    "  stand.mean <- t(grand.mean) %*% t(rep(1, n.array))\n",
    "  if (!is.null(dat2)) stand.mean2 <- t(grand.mean) %*% t(rep(1, n.array2))\n",
    "  if (!is.null(design)) {\n",
    "    tmp <- design\n",
    "    tmp[, c(1:n.batch)] <- 0\n",
    "    stand.mean <- stand.mean + t(tmp %*% B.hat)\n",
    "    if (!is.null(dat2)) {\n",
    "      tmp2 <- design2\n",
    "      tmp2[, c(1:n.batch)] <- 0\n",
    "      stand.mean2 <- stand.mean2 + t(tmp2 %*% B.hat)\n",
    "    }\n",
    "  }\n",
    "  s.data <- (dat - stand.mean)/(sqrt(var.pooled) %*% t(rep(1, \n",
    "                                                           n.array)))\n",
    "  if (!is.null(dat2)) {\n",
    "    s.data2 <- (dat2 - stand.mean2)/(sqrt(var.pooled) %*% t(rep(1, \n",
    "                                                             n.array2)))\n",
    "  }\n",
    "  message(\"Fitting L/S model and finding priors\")\n",
    "  batch.design <- design[, 1:n.batch]\n",
    "  if (!is.null(dat2)) batch.design2 <- design2[, 1:n.batch]\n",
    "  if (!NAs) {\n",
    "    gamma.hat <- solve(crossprod(batch.design), tcrossprod(t(batch.design), \n",
    "                                                           as.matrix(s.data)))\n",
    "  }\n",
    "    else {\n",
    "      gamma.hat <- apply(s.data, 1, Beta.NA, batch.design)\n",
    "    }\n",
    "  delta.hat <- NULL\n",
    "  for (i in batches) {\n",
    "    if (mean.only == TRUE) {\n",
    "      delta.hat <- rbind(delta.hat, rep(1, nrow(s.data)))\n",
    "    }\n",
    "    else {\n",
    "      delta.hat <- rbind(delta.hat, rowVars(s.data[, i], \n",
    "                                            na.rm = TRUE))\n",
    "    }\n",
    "  }\n",
    "  gamma.bar <- rowMeans(gamma.hat)\n",
    "  t2 <- rowVars(gamma.hat)\n",
    "  a.prior <- apply(delta.hat, 1, sva:::aprior)\n",
    "  b.prior <- apply(delta.hat, 1, sva:::bprior)\n",
    "  if (prior.plots && par.prior) {\n",
    "    par(mfrow = c(2, 2))\n",
    "    tmp <- density(gamma.hat[1, ])\n",
    "    plot(tmp, type = \"l\", main = expression(paste(\"Density Plot of First Batch \", \n",
    "                                                  hat(gamma))))\n",
    "    xx <- seq(min(tmp$x), max(tmp$x), length = 100)\n",
    "    lines(xx, dnorm(xx, gamma.bar[1], sqrt(t2[1])), col = 2)\n",
    "    qqnorm(gamma.hat[1, ], main = expression(paste(\"Normal Q-Q Plot of First Batch \", \n",
    "                                                   hat(gamma))))\n",
    "    qqline(gamma.hat[1, ], col = 2)\n",
    "    tmp <- density(delta.hat[1, ])\n",
    "    xx <- seq(min(tmp$x), max(tmp$x), length = 100)\n",
    "    tmp1 <- list(x = xx, y = sva:::dinvgamma(xx, a.prior[1], b.prior[1]))\n",
    "    plot(tmp, typ = \"l\", ylim = c(0, max(tmp$y, tmp1$y)), \n",
    "         main = expression(paste(\"Density Plot of First Batch \", \n",
    "                                 hat(delta))))\n",
    "    lines(tmp1, col = 2)\n",
    "    invgam <- 1/qgamma(1 - ppoints(ncol(delta.hat)), a.prior[1], \n",
    "                       b.prior[1])\n",
    "    qqplot(invgam, delta.hat[1, ], main = expression(paste(\"Inverse Gamma Q-Q Plot of First Batch \", \n",
    "                                                           hat(delta))), ylab = \"Sample Quantiles\", xlab = \"Theoretical Quantiles\")\n",
    "    lines(c(0, max(invgam)), c(0, max(invgam)), col = 2)\n",
    "  }\n",
    "  gamma.star <- delta.star <- matrix(NA, nrow = n.batch, ncol = nrow(s.data))\n",
    "  if (par.prior) {\n",
    "    message(\"Finding parametric adjustments\")\n",
    "    results <- BiocParallel:::bplapply(1:n.batch, function(i) {\n",
    "      if (mean.only) {\n",
    "        gamma.star <- postmean(gamma.hat[i, ], gamma.bar[i], \n",
    "                               1, 1, t2[i])\n",
    "        delta.star <- rep(1, nrow(s.data))\n",
    "      }\n",
    "      else {\n",
    "        temp <- sva:::it.sol(s.data[, batches[[i]]], gamma.hat[i, \n",
    "                                                               ], delta.hat[i, ], gamma.bar[i], t2[i], a.prior[i], \n",
    "                             b.prior[i])\n",
    "        gamma.star <- temp[1, ]\n",
    "        delta.star <- temp[2, ]\n",
    "      }\n",
    "      list(gamma.star = gamma.star, delta.star = delta.star)\n",
    "    }, BPPARAM = BPPARAM)\n",
    "    for (i in 1:n.batch) {\n",
    "      gamma.star[i, ] <- results[[i]]$gamma.star\n",
    "      delta.star[i, ] <- results[[i]]$delta.star\n",
    "    }\n",
    "  }\n",
    "    else {\n",
    "      message(\"Finding nonparametric adjustments\")\n",
    "      results <- BiocParallel:::bplapply(1:n.batch, function(i) {\n",
    "        if (mean.only) {\n",
    "          delta.hat[i, ] = 1\n",
    "        }\n",
    "        temp <- sva:::int.eprior(as.matrix(s.data[, batches[[i]]]), \n",
    "                           gamma.hat[i, ], delta.hat[i, ])\n",
    "        list(gamma.star = temp[1, ], delta.star = temp[2, \n",
    "                                                       ])\n",
    "      }, BPPARAM = BPPARAM)\n",
    "      for (i in 1:n.batch) {\n",
    "        gamma.star[i, ] <- results[[i]]$gamma.star\n",
    "        delta.star[i, ] <- results[[i]]$delta.star\n",
    "      }\n",
    "    }\n",
    "  if (!is.null(ref.batch)) {\n",
    "    gamma.star[ref, ] <- 0\n",
    "    delta.star[ref, ] <- 1\n",
    "  }\n",
    "  message(\"Adjusting the Data\\n\")\n",
    "  bayesdata <- s.data\n",
    "  j <- 1\n",
    "  for (i in batches) {\n",
    "    bayesdata[, i] <- (bayesdata[, i] - t(batch.design[i, \n",
    "                                                       ] %*% gamma.star))/(sqrt(delta.star[j, ]) %*% t(rep(1, \n",
    "                                                                                                           n.batches[j])))\n",
    "    j <- j + 1\n",
    "  }\n",
    "  bayesdata <- (bayesdata * (sqrt(var.pooled) %*% t(rep(1, \n",
    "                                                        n.array)))) + stand.mean\n",
    "  if (!is.null(ref.batch)) {\n",
    "    bayesdata[, batches[[ref]]] <- dat[, batches[[ref]]]\n",
    "  }\n",
    "  if (!is.null(dat2)) {\n",
    "    bayesdata2 <- s.data2\n",
    "    j <- 1\n",
    "    for (i in batches2) {\n",
    "      bayesdata2[, i] <- (bayesdata2[, i] - t(batch.design2[i, \n",
    "                                                         ] %*% gamma.star))/(sqrt(delta.star[j, ]) %*% t(rep(1, \n",
    "                                                                                                             n.batches2[j])))\n",
    "      j <- j + 1\n",
    "    }\n",
    "    bayesdata2 <- (bayesdata2 * (sqrt(var.pooled) %*% t(rep(1, \n",
    "                                                          n.array2)))) + stand.mean2\n",
    "    if (!is.null(ref.batch)) {\n",
    "      bayesdata2[, batches2[[ref]]] <- dat2[, batches2[[ref]]]\n",
    "    }\n",
    "    return(list(corrected = bayesdata, alpha = grand.mean, beta.hat = B.hat, gamma.star = gamma.star, delta.star = delta.star,\n",
    "                corrected2 = bayesdata2))\n",
    "  }\n",
    "  return(list(corrected = bayesdata, alpha = grand.mean, beta.hat = B.hat, gamma.star = gamma.star, delta.star = delta.star))\n",
    "}\n",
    "''')\n",
    "combat = robjects.r('modifiedComBat')"
   ]
  },
  {
   "cell_type": "markdown",
   "metadata": {},
   "source": [
    "# Simulate some data"
   ]
  },
  {
   "cell_type": "code",
   "execution_count": 3,
   "metadata": {},
   "outputs": [],
   "source": [
    "def run_combat(feats, meta, model=\"~1\",\n",
    "              feats_test=None, meta_test=None, model_test=None, par_prior=False):\n",
    "    model_matrix = patsy.dmatrix(model, meta)\n",
    "    fmat = np.array(feats).T\n",
    "    rbatch = robjects.IntVector(pd.Categorical(meta.site).codes)\n",
    "    \n",
    "    if (meta_test is not None) and (feats_test is not None):\n",
    "        if model_test is None:\n",
    "            model_test = model\n",
    "        model_matrix_test = patsy.dmatrix(model_test, meta_test)\n",
    "        fmat_test = np.array(feats_test).T\n",
    "        rbatch_test = robjects.IntVector(pd.Categorical(meta_test.site).codes)\n",
    "        combat_result = combat(dat=fmat, batch=rbatch, mod=model_matrix,\n",
    "                               dat2=fmat_test, batch2=rbatch_test, mod2=model_matrix_test, par_prior=par_prior)\n",
    "    else:\n",
    "        combat_result = combat(dat = fmat, batch = rbatch, mod = model_matrix)\n",
    "    combat_result = [np.array(cr) for cr in combat_result]\n",
    "    return combat_result"
   ]
  },
  {
   "cell_type": "code",
   "execution_count": 7,
   "metadata": {},
   "outputs": [],
   "source": [
    "n_samples = 800\n",
    "n_cols = 200\n",
    "n_class = 2\n",
    "train_test_ratio = 1"
   ]
  },
  {
   "cell_type": "code",
   "execution_count": 8,
   "metadata": {},
   "outputs": [],
   "source": [
    "# Generate Random Data\n",
    "\n",
    "#n_class=2, train_test_ratio =1\n",
    "random_data = []\n",
    "for i in range(0, 100):\n",
    "    simY_r = np.random.randint(0,n_class, n_samples)\n",
    "    simX_r = np.random.normal(size = (n_samples,n_cols))\n",
    "    simY_e = np.random.randint(0, n_class, n_samples//train_test_ratio)\n",
    "    simX_e = np.random.normal(size = (n_samples//train_test_ratio, n_cols))\n",
    "    arr = [simY_r, simX_r, simY_e, simX_e, n_class, train_test_ratio]\n",
    "    random_data.append(arr)\n",
    "\n",
    "n_class = 2\n",
    "train_test_ratio = 5\n",
    "for i in range(0, 100):\n",
    "    simY_r = np.random.randint(0,n_class, n_samples)\n",
    "    simX_r = np.random.normal(size = (n_samples,n_cols))\n",
    "    simY_e = np.random.randint(0, n_class, n_samples//train_test_ratio)\n",
    "    simX_e = np.random.normal(size = (n_samples//train_test_ratio, n_cols))\n",
    "    arr = [simY_r, simX_r, simY_e, simX_e, n_class, train_test_ratio]\n",
    "    random_data.append(arr)\n",
    "\n",
    "n_class = 10\n",
    "train_test_ratio = 1\n",
    "for i in range(0, 100):\n",
    "    simY_r = np.random.randint(0,n_class, n_samples)\n",
    "    simX_r = np.random.normal(size = (n_samples,n_cols))\n",
    "    simY_e = np.random.randint(0, n_class, n_samples//train_test_ratio)\n",
    "    simX_e = np.random.normal(size = (n_samples//train_test_ratio, n_cols))\n",
    "    arr = [simY_r, simX_r, simY_e, simX_e, n_class, train_test_ratio]\n",
    "    random_data.append(arr)\n",
    "\n",
    "n_class = 10\n",
    "train_test_ratio = 5\n",
    "for i in range(0, 100):\n",
    "    simY_r = np.random.randint(0,n_class, n_samples)\n",
    "    simX_r = np.random.normal(size = (n_samples,n_cols))\n",
    "    simY_e = np.random.randint(0, n_class, n_samples//train_test_ratio)\n",
    "    simX_e = np.random.normal(size = (n_samples//train_test_ratio, n_cols))\n",
    "    arr = [simY_r, simX_r, simY_e, simX_e, n_class, train_test_ratio]\n",
    "    random_data.append(arr)"
   ]
  },
  {
   "cell_type": "code",
   "execution_count": 11,
   "metadata": {},
   "outputs": [],
   "source": [
    "def run_sim(random_data, sim_num):\n",
    "    simY_r = random_data[sim_num][0]\n",
    "    simX_r = random_data[sim_num][1]\n",
    "    simY_e = random_data[sim_num][2]\n",
    "    simX_e = random_data[sim_num][3]\n",
    "    \n",
    "    n_class = random_data[sim_num][4]\n",
    "    train_test_ratio = random_data[sim_num][5]\n",
    "    \n",
    "    # Make the columns strings so the dataframe mapper doesn't choke\n",
    "    simX_r = pd.DataFrame(data=simX_r, columns=np.arange(n_cols).astype(str))\n",
    "    metric_cols = simX_r.columns\n",
    "    simX_r['site'] = simY_r.astype(str)\n",
    "    simX_e = pd.DataFrame(data=simX_e, columns=metric_cols)\n",
    "    simX_e['site'] = simY_e.astype(str)\n",
    "    \n",
    "    cb_meta_cols = ['site']\n",
    "    simX = pd.concat((simX_r, simX_e)).reset_index(drop=True)\n",
    "    simX_r_cb1 = simX_r.copy(deep=True)\n",
    "    simX_e_cb1 = simX_e.copy(deep=True)\n",
    "    simX_r_cb2 = simX_r.copy(deep=True)\n",
    "    simX_e_cb2 = simX_e.copy(deep=True)\n",
    "    simX_r_cb3 = simX_r.copy(deep=True)\n",
    "    simX_e_cb3 = simX_e.copy(deep=True)\n",
    "    \n",
    "    # combat application 1: whole dataset\n",
    "    combat_res = run_combat(simX.loc[:, metric_cols], simX.loc[:, ['site']],\n",
    "                        model='~1')\n",
    "    \n",
    "    simX_r_cb2.loc[:, metric_cols] = combat_res[0].T[:len(simX_r)]\n",
    "    simX_e_cb2.loc[:, metric_cols] = combat_res[0].T[len(simX_r):]\n",
    "    \n",
    "    # combat application 2: train learn test apply\n",
    "    combat_res = run_combat(simX_r.loc[:, metric_cols], simX_r.loc[:, ['site']],\n",
    "                        feats_test= simX_e.loc[:, metric_cols],\n",
    "                        meta_test= simX_e.loc[:, ['site']],\n",
    "                        model='~1')\n",
    "    \n",
    "    simX_r_cb2.loc[:, metric_cols] = combat_res[0].T\n",
    "    simX_e_cb2.loc[:, metric_cols] = combat_res[5].T\n",
    "    \n",
    "    # combat application 3: train learn test apply\n",
    "    combat_res_r = run_combat(simX_r.loc[:, metric_cols], simX_r.loc[:, ['site']],\n",
    "                        model='~1')\n",
    "    combat_res_e = run_combat(simX_e.loc[:, metric_cols], simX_e.loc[:, ['site']],\n",
    "                        model='~1')\n",
    "    \n",
    "    simX_r_cb3.loc[:, metric_cols] = combat_res_r[0].T\n",
    "    simX_e_cb3.loc[:, metric_cols] = combat_res_e[0].T\n",
    "    \n",
    "    mapper = DataFrameMapper([([str(nv)],preprocessing.StandardScaler()) for nv in metric_cols])\n",
    "    sim_clf = Pipeline([('preprocessing', mapper),\n",
    "                    ('clf', LogisticRegression(multi_class='multinomial', solver='saga', max_iter = 100000,\n",
    "                                               penalty='l2',\n",
    "                                               C=1,\n",
    "                                               fit_intercept=True,\n",
    "                                               n_jobs=1))])\n",
    "    \n",
    "    output = [sim_num, n_class, train_test_ratio]\n",
    "    \n",
    "    sim_clf.fit(simX_r, simY_r)\n",
    "    output.append(sim_clf.score(simX_r, simY_r))\n",
    "    output.append(sim_clf.score(simX_e, simY_e))\n",
    "    \n",
    "    sim_clf.fit(simX_r_cb1, simY_r)\n",
    "    output.append(sim_clf.score(simX_r_cb1, simY_r))\n",
    "    output.append(sim_clf.score(simX_e_cb1, simY_e))\n",
    "    \n",
    "    sim_clf.fit(simX_r_cb2, simY_r)\n",
    "    output.append(sim_clf.score(simX_r_cb2, simY_r))\n",
    "    output.append(sim_clf.score(simX_e_cb2, simY_e))\n",
    "    \n",
    "    sim_clf.fit(simX_r_cb3, simY_r)\n",
    "    output.append(sim_clf.score(simX_r_cb3, simY_r))\n",
    "    output.append(sim_clf.score(simX_e_cb3, simY_e))\n",
    "    \n",
    "    return output"
   ]
  },
  {
   "cell_type": "markdown",
   "metadata": {},
   "source": [
    "# Run Simulations\n",
    "We need to parallelize this to run ~ 100 times each for train_test_ratio of 1, train_test_ratio of 5, n_class= 2, n_class = 10"
   ]
  },
  {
   "cell_type": "code",
   "execution_count": 12,
   "metadata": {
    "scrolled": true
   },
   "outputs": [
    {
     "name": "stderr",
     "output_type": "stream",
     "text": [
      "/data/nielsond/python/envs/abcd_mine/lib/python3.6/site-packages/rpy2/robjects/functions.py:106: UserWarning: Found2batches\n",
      "\n",
      "  res = super(Function, self).__call__(*new_args, **new_kwargs)\n",
      "/data/nielsond/python/envs/abcd_mine/lib/python3.6/site-packages/rpy2/robjects/functions.py:106: UserWarning: Adjusting for0covariate(s) or covariate level(s)\n",
      "\n",
      "  res = super(Function, self).__call__(*new_args, **new_kwargs)\n"
     ]
    },
    {
     "name": "stdout",
     "output_type": "stream",
     "text": [
      "Standardizing Data across genes\n",
      "\n"
     ]
    },
    {
     "name": "stderr",
     "output_type": "stream",
     "text": [
      "/data/nielsond/python/envs/abcd_mine/lib/python3.6/site-packages/rpy2/robjects/functions.py:106: UserWarning: Fitting L/S model and finding priors\n",
      "\n",
      "  res = super(Function, self).__call__(*new_args, **new_kwargs)\n",
      "/data/nielsond/python/envs/abcd_mine/lib/python3.6/site-packages/rpy2/robjects/functions.py:106: UserWarning: Finding nonparametric adjustments\n",
      "\n",
      "  res = super(Function, self).__call__(*new_args, **new_kwargs)\n",
      "/data/nielsond/python/envs/abcd_mine/lib/python3.6/site-packages/rpy2/robjects/functions.py:106: UserWarning: Found2batches\n",
      "\n",
      "  res = super(Function, self).__call__(*new_args, **new_kwargs)\n",
      "/data/nielsond/python/envs/abcd_mine/lib/python3.6/site-packages/rpy2/robjects/functions.py:106: UserWarning: Adjusting for0covariate(s) or covariate level(s)\n",
      "\n",
      "  res = super(Function, self).__call__(*new_args, **new_kwargs)\n"
     ]
    },
    {
     "name": "stdout",
     "output_type": "stream",
     "text": [
      "Standardizing Data across genes\n",
      "\n"
     ]
    },
    {
     "name": "stderr",
     "output_type": "stream",
     "text": [
      "/data/nielsond/python/envs/abcd_mine/lib/python3.6/site-packages/rpy2/robjects/functions.py:106: UserWarning: Fitting L/S model and finding priors\n",
      "\n",
      "  res = super(Function, self).__call__(*new_args, **new_kwargs)\n",
      "/data/nielsond/python/envs/abcd_mine/lib/python3.6/site-packages/rpy2/robjects/functions.py:106: UserWarning: Finding nonparametric adjustments\n",
      "\n",
      "  res = super(Function, self).__call__(*new_args, **new_kwargs)\n",
      "/data/nielsond/python/envs/abcd_mine/lib/python3.6/site-packages/rpy2/robjects/functions.py:106: UserWarning: Adjusting the Data\n",
      "\n",
      "\n",
      "  res = super(Function, self).__call__(*new_args, **new_kwargs)\n",
      "/data/nielsond/python/envs/abcd_mine/lib/python3.6/site-packages/rpy2/robjects/functions.py:106: UserWarning: Found2batches\n",
      "\n",
      "  res = super(Function, self).__call__(*new_args, **new_kwargs)\n",
      "/data/nielsond/python/envs/abcd_mine/lib/python3.6/site-packages/rpy2/robjects/functions.py:106: UserWarning: Adjusting for0covariate(s) or covariate level(s)\n",
      "\n",
      "  res = super(Function, self).__call__(*new_args, **new_kwargs)\n"
     ]
    },
    {
     "name": "stdout",
     "output_type": "stream",
     "text": [
      "Standardizing Data across genes\n",
      "\n"
     ]
    },
    {
     "name": "stderr",
     "output_type": "stream",
     "text": [
      "/data/nielsond/python/envs/abcd_mine/lib/python3.6/site-packages/rpy2/robjects/functions.py:106: UserWarning: Fitting L/S model and finding priors\n",
      "\n",
      "  res = super(Function, self).__call__(*new_args, **new_kwargs)\n",
      "/data/nielsond/python/envs/abcd_mine/lib/python3.6/site-packages/rpy2/robjects/functions.py:106: UserWarning: Finding nonparametric adjustments\n",
      "\n",
      "  res = super(Function, self).__call__(*new_args, **new_kwargs)\n"
     ]
    },
    {
     "name": "stdout",
     "output_type": "stream",
     "text": [
      "Standardizing Data across genes\n",
      "\n"
     ]
    },
    {
     "name": "stderr",
     "output_type": "stream",
     "text": [
      "/data/nielsond/python/envs/abcd_mine/lib/python3.6/site-packages/rpy2/robjects/functions.py:106: UserWarning: Found2batches\n",
      "\n",
      "  res = super(Function, self).__call__(*new_args, **new_kwargs)\n",
      "/data/nielsond/python/envs/abcd_mine/lib/python3.6/site-packages/rpy2/robjects/functions.py:106: UserWarning: Adjusting for0covariate(s) or covariate level(s)\n",
      "\n",
      "  res = super(Function, self).__call__(*new_args, **new_kwargs)\n"
     ]
    },
    {
     "name": "stdout",
     "output_type": "stream",
     "text": [
      "Standardizing Data across genes\n",
      "\n"
     ]
    },
    {
     "name": "stderr",
     "output_type": "stream",
     "text": [
      "/data/nielsond/python/envs/abcd_mine/lib/python3.6/site-packages/rpy2/robjects/functions.py:106: UserWarning: Fitting L/S model and finding priors\n",
      "\n",
      "  res = super(Function, self).__call__(*new_args, **new_kwargs)\n",
      "/data/nielsond/python/envs/abcd_mine/lib/python3.6/site-packages/rpy2/robjects/functions.py:106: UserWarning: Finding nonparametric adjustments\n",
      "\n",
      "  res = super(Function, self).__call__(*new_args, **new_kwargs)\n",
      "/data/nielsond/python/envs/abcd_mine/lib/python3.6/site-packages/rpy2/robjects/functions.py:106: UserWarning: Found2batches\n",
      "\n",
      "  res = super(Function, self).__call__(*new_args, **new_kwargs)\n",
      "/data/nielsond/python/envs/abcd_mine/lib/python3.6/site-packages/rpy2/robjects/functions.py:106: UserWarning: Adjusting for0covariate(s) or covariate level(s)\n",
      "\n",
      "  res = super(Function, self).__call__(*new_args, **new_kwargs)\n"
     ]
    },
    {
     "name": "stdout",
     "output_type": "stream",
     "text": [
      "Standardizing Data across genes\n",
      "\n"
     ]
    },
    {
     "name": "stderr",
     "output_type": "stream",
     "text": [
      "/data/nielsond/python/envs/abcd_mine/lib/python3.6/site-packages/rpy2/robjects/functions.py:106: UserWarning: Fitting L/S model and finding priors\n",
      "\n",
      "  res = super(Function, self).__call__(*new_args, **new_kwargs)\n",
      "/data/nielsond/python/envs/abcd_mine/lib/python3.6/site-packages/rpy2/robjects/functions.py:106: UserWarning: Finding nonparametric adjustments\n",
      "\n",
      "  res = super(Function, self).__call__(*new_args, **new_kwargs)\n"
     ]
    },
    {
     "name": "stdout",
     "output_type": "stream",
     "text": [
      "Standardizing Data across genes\n",
      "\n",
      "Standardizing Data across genes\n",
      "\n"
     ]
    },
    {
     "name": "stderr",
     "output_type": "stream",
     "text": [
      "/data/nielsond/python/envs/abcd_mine/lib/python3.6/site-packages/rpy2/robjects/functions.py:106: UserWarning: Found2batches\n",
      "\n",
      "  res = super(Function, self).__call__(*new_args, **new_kwargs)\n",
      "/data/nielsond/python/envs/abcd_mine/lib/python3.6/site-packages/rpy2/robjects/functions.py:106: UserWarning: Adjusting for0covariate(s) or covariate level(s)\n",
      "\n",
      "  res = super(Function, self).__call__(*new_args, **new_kwargs)\n"
     ]
    },
    {
     "name": "stdout",
     "output_type": "stream",
     "text": [
      "Standardizing Data across genes\n",
      "\n"
     ]
    },
    {
     "name": "stderr",
     "output_type": "stream",
     "text": [
      "/data/nielsond/python/envs/abcd_mine/lib/python3.6/site-packages/rpy2/robjects/functions.py:106: UserWarning: Fitting L/S model and finding priors\n",
      "\n",
      "  res = super(Function, self).__call__(*new_args, **new_kwargs)\n",
      "/data/nielsond/python/envs/abcd_mine/lib/python3.6/site-packages/rpy2/robjects/functions.py:106: UserWarning: Adjusting the Data\n",
      "\n",
      "\n",
      "  res = super(Function, self).__call__(*new_args, **new_kwargs)\n",
      "/data/nielsond/python/envs/abcd_mine/lib/python3.6/site-packages/rpy2/robjects/functions.py:106: UserWarning: Finding nonparametric adjustments\n",
      "\n",
      "  res = super(Function, self).__call__(*new_args, **new_kwargs)\n"
     ]
    },
    {
     "name": "stdout",
     "output_type": "stream",
     "text": [
      "Standardizing Data across genes\n",
      "\n"
     ]
    },
    {
     "name": "stderr",
     "output_type": "stream",
     "text": [
      "/data/nielsond/python/envs/abcd_mine/lib/python3.6/site-packages/rpy2/robjects/functions.py:106: UserWarning: Adjusting the Data\n",
      "\n",
      "\n",
      "  res = super(Function, self).__call__(*new_args, **new_kwargs)\n"
     ]
    },
    {
     "name": "stdout",
     "output_type": "stream",
     "text": [
      "Standardizing Data across genes\n",
      "\n"
     ]
    },
    {
     "name": "stderr",
     "output_type": "stream",
     "text": [
      "/data/nielsond/python/envs/abcd_mine/lib/python3.6/site-packages/rpy2/robjects/functions.py:106: UserWarning: Found2batches\n",
      "\n",
      "  res = super(Function, self).__call__(*new_args, **new_kwargs)\n",
      "/data/nielsond/python/envs/abcd_mine/lib/python3.6/site-packages/rpy2/robjects/functions.py:106: UserWarning: Adjusting for0covariate(s) or covariate level(s)\n",
      "\n",
      "  res = super(Function, self).__call__(*new_args, **new_kwargs)\n"
     ]
    },
    {
     "name": "stdout",
     "output_type": "stream",
     "text": [
      "Standardizing Data across genes\n",
      "\n"
     ]
    },
    {
     "name": "stderr",
     "output_type": "stream",
     "text": [
      "/data/nielsond/python/envs/abcd_mine/lib/python3.6/site-packages/rpy2/robjects/functions.py:106: UserWarning: Fitting L/S model and finding priors\n",
      "\n",
      "  res = super(Function, self).__call__(*new_args, **new_kwargs)\n",
      "/data/nielsond/python/envs/abcd_mine/lib/python3.6/site-packages/rpy2/robjects/functions.py:106: UserWarning: Finding nonparametric adjustments\n",
      "\n",
      "  res = super(Function, self).__call__(*new_args, **new_kwargs)\n"
     ]
    },
    {
     "name": "stdout",
     "output_type": "stream",
     "text": [
      "[Parallel(n_jobs=20)]: Done   1 tasks      | elapsed:   53.1s\n"
     ]
    },
    {
     "name": "stderr",
     "output_type": "stream",
     "text": [
      "/data/nielsond/python/envs/abcd_mine/lib/python3.6/site-packages/rpy2/robjects/functions.py:106: UserWarning: Adjusting the Data\n",
      "\n",
      "\n",
      "  res = super(Function, self).__call__(*new_args, **new_kwargs)\n"
     ]
    },
    {
     "name": "stdout",
     "output_type": "stream",
     "text": [
      "Standardizing Data across genes\n",
      "\n",
      "Standardizing Data across genes\n",
      "\n",
      "Standardizing Data across genes\n",
      "\n"
     ]
    },
    {
     "name": "stderr",
     "output_type": "stream",
     "text": [
      "/data/nielsond/python/envs/abcd_mine/lib/python3.6/site-packages/rpy2/robjects/functions.py:106: UserWarning: Found2batches\n",
      "\n",
      "  res = super(Function, self).__call__(*new_args, **new_kwargs)\n"
     ]
    },
    {
     "name": "stdout",
     "output_type": "stream",
     "text": [
      "Standardizing Data across genes\n",
      "\n"
     ]
    },
    {
     "name": "stderr",
     "output_type": "stream",
     "text": [
      "/data/nielsond/python/envs/abcd_mine/lib/python3.6/site-packages/rpy2/robjects/functions.py:106: UserWarning: Adjusting for0covariate(s) or covariate level(s)\n",
      "\n",
      "  res = super(Function, self).__call__(*new_args, **new_kwargs)\n"
     ]
    },
    {
     "name": "stdout",
     "output_type": "stream",
     "text": [
      "Standardizing Data across genes\n",
      "\n"
     ]
    },
    {
     "name": "stderr",
     "output_type": "stream",
     "text": [
      "/data/nielsond/python/envs/abcd_mine/lib/python3.6/site-packages/rpy2/robjects/functions.py:106: UserWarning: Fitting L/S model and finding priors\n",
      "\n",
      "  res = super(Function, self).__call__(*new_args, **new_kwargs)\n",
      "/data/nielsond/python/envs/abcd_mine/lib/python3.6/site-packages/rpy2/robjects/functions.py:106: UserWarning: Finding nonparametric adjustments\n",
      "\n",
      "  res = super(Function, self).__call__(*new_args, **new_kwargs)\n",
      "/data/nielsond/python/envs/abcd_mine/lib/python3.6/site-packages/rpy2/robjects/functions.py:106: UserWarning: Adjusting the Data\n",
      "\n",
      "\n",
      "  res = super(Function, self).__call__(*new_args, **new_kwargs)\n"
     ]
    },
    {
     "name": "stdout",
     "output_type": "stream",
     "text": [
      "Standardizing Data across genes\n",
      "\n",
      "Standardizing Data across genes\n",
      "\n",
      "[Parallel(n_jobs=20)]: Done   2 tasks      | elapsed:  1.1min\n"
     ]
    },
    {
     "name": "stderr",
     "output_type": "stream",
     "text": [
      "/data/nielsond/python/envs/abcd_mine/lib/python3.6/site-packages/rpy2/robjects/functions.py:106: UserWarning: Found2batches\n",
      "\n",
      "  res = super(Function, self).__call__(*new_args, **new_kwargs)\n",
      "/data/nielsond/python/envs/abcd_mine/lib/python3.6/site-packages/rpy2/robjects/functions.py:106: UserWarning: Adjusting for0covariate(s) or covariate level(s)\n",
      "\n",
      "  res = super(Function, self).__call__(*new_args, **new_kwargs)\n"
     ]
    },
    {
     "name": "stdout",
     "output_type": "stream",
     "text": [
      "Standardizing Data across genes\n",
      "\n"
     ]
    },
    {
     "name": "stderr",
     "output_type": "stream",
     "text": [
      "/data/nielsond/python/envs/abcd_mine/lib/python3.6/site-packages/rpy2/robjects/functions.py:106: UserWarning: Fitting L/S model and finding priors\n",
      "\n",
      "  res = super(Function, self).__call__(*new_args, **new_kwargs)\n",
      "/data/nielsond/python/envs/abcd_mine/lib/python3.6/site-packages/rpy2/robjects/functions.py:106: UserWarning: Finding nonparametric adjustments\n",
      "\n",
      "  res = super(Function, self).__call__(*new_args, **new_kwargs)\n",
      "/data/nielsond/python/envs/abcd_mine/lib/python3.6/site-packages/rpy2/robjects/functions.py:106: UserWarning: Adjusting the Data\n",
      "\n",
      "\n",
      "  res = super(Function, self).__call__(*new_args, **new_kwargs)\n"
     ]
    },
    {
     "name": "stdout",
     "output_type": "stream",
     "text": [
      "Standardizing Data across genes\n",
      "\n",
      "[Parallel(n_jobs=20)]: Done   3 tasks      | elapsed:  1.1min\n",
      "Standardizing Data across genes\n",
      "\n",
      "Standardizing Data across genes\n",
      "\n"
     ]
    },
    {
     "name": "stderr",
     "output_type": "stream",
     "text": [
      "/data/nielsond/python/envs/abcd_mine/lib/python3.6/site-packages/rpy2/robjects/functions.py:106: UserWarning: Found2batches\n",
      "\n",
      "  res = super(Function, self).__call__(*new_args, **new_kwargs)\n",
      "/data/nielsond/python/envs/abcd_mine/lib/python3.6/site-packages/rpy2/robjects/functions.py:106: UserWarning: Adjusting for0covariate(s) or covariate level(s)\n",
      "\n",
      "  res = super(Function, self).__call__(*new_args, **new_kwargs)\n"
     ]
    },
    {
     "name": "stdout",
     "output_type": "stream",
     "text": [
      "Standardizing Data across genes\n",
      "\n"
     ]
    },
    {
     "name": "stderr",
     "output_type": "stream",
     "text": [
      "/data/nielsond/python/envs/abcd_mine/lib/python3.6/site-packages/rpy2/robjects/functions.py:106: UserWarning: Fitting L/S model and finding priors\n",
      "\n",
      "  res = super(Function, self).__call__(*new_args, **new_kwargs)\n"
     ]
    },
    {
     "name": "stdout",
     "output_type": "stream",
     "text": [
      "Standardizing Data across genes\n",
      "\n"
     ]
    },
    {
     "name": "stderr",
     "output_type": "stream",
     "text": [
      "/data/nielsond/python/envs/abcd_mine/lib/python3.6/site-packages/rpy2/robjects/functions.py:106: UserWarning: Finding nonparametric adjustments\n",
      "\n",
      "  res = super(Function, self).__call__(*new_args, **new_kwargs)\n"
     ]
    },
    {
     "name": "stdout",
     "output_type": "stream",
     "text": [
      "Standardizing Data across genes\n",
      "\n",
      "[Parallel(n_jobs=20)]: Done   4 tasks      | elapsed:  1.3min\n"
     ]
    },
    {
     "name": "stderr",
     "output_type": "stream",
     "text": [
      "/data/nielsond/python/envs/abcd_mine/lib/python3.6/site-packages/rpy2/robjects/functions.py:106: UserWarning: Found2batches\n",
      "\n",
      "  res = super(Function, self).__call__(*new_args, **new_kwargs)\n",
      "/data/nielsond/python/envs/abcd_mine/lib/python3.6/site-packages/rpy2/robjects/functions.py:106: UserWarning: Adjusting for0covariate(s) or covariate level(s)\n",
      "\n",
      "  res = super(Function, self).__call__(*new_args, **new_kwargs)\n"
     ]
    },
    {
     "name": "stdout",
     "output_type": "stream",
     "text": [
      "Standardizing Data across genes\n",
      "\n"
     ]
    },
    {
     "name": "stderr",
     "output_type": "stream",
     "text": [
      "/data/nielsond/python/envs/abcd_mine/lib/python3.6/site-packages/rpy2/robjects/functions.py:106: UserWarning: Fitting L/S model and finding priors\n",
      "\n",
      "  res = super(Function, self).__call__(*new_args, **new_kwargs)\n",
      "/data/nielsond/python/envs/abcd_mine/lib/python3.6/site-packages/rpy2/robjects/functions.py:106: UserWarning: Adjusting the Data\n",
      "\n",
      "\n",
      "  res = super(Function, self).__call__(*new_args, **new_kwargs)\n",
      "/data/nielsond/python/envs/abcd_mine/lib/python3.6/site-packages/rpy2/robjects/functions.py:106: UserWarning: Finding nonparametric adjustments\n",
      "\n",
      "  res = super(Function, self).__call__(*new_args, **new_kwargs)\n"
     ]
    },
    {
     "name": "stdout",
     "output_type": "stream",
     "text": [
      "Standardizing Data across genes\n",
      "\n",
      "Standardizing Data across genes\n",
      "\n",
      "Standardizing Data across genes\n",
      "\n"
     ]
    },
    {
     "name": "stderr",
     "output_type": "stream",
     "text": [
      "/data/nielsond/python/envs/abcd_mine/lib/python3.6/site-packages/rpy2/robjects/functions.py:106: UserWarning: Adjusting the Data\n",
      "\n",
      "\n",
      "  res = super(Function, self).__call__(*new_args, **new_kwargs)\n",
      "/data/nielsond/python/envs/abcd_mine/lib/python3.6/site-packages/rpy2/robjects/functions.py:106: UserWarning: Found2batches\n",
      "\n",
      "  res = super(Function, self).__call__(*new_args, **new_kwargs)\n",
      "/data/nielsond/python/envs/abcd_mine/lib/python3.6/site-packages/rpy2/robjects/functions.py:106: UserWarning: Adjusting for0covariate(s) or covariate level(s)\n",
      "\n",
      "  res = super(Function, self).__call__(*new_args, **new_kwargs)\n"
     ]
    },
    {
     "name": "stdout",
     "output_type": "stream",
     "text": [
      "Standardizing Data across genes\n",
      "\n"
     ]
    },
    {
     "name": "stderr",
     "output_type": "stream",
     "text": [
      "/data/nielsond/python/envs/abcd_mine/lib/python3.6/site-packages/rpy2/robjects/functions.py:106: UserWarning: Fitting L/S model and finding priors\n",
      "\n",
      "  res = super(Function, self).__call__(*new_args, **new_kwargs)\n",
      "/data/nielsond/python/envs/abcd_mine/lib/python3.6/site-packages/rpy2/robjects/functions.py:106: UserWarning: Finding nonparametric adjustments\n",
      "\n",
      "  res = super(Function, self).__call__(*new_args, **new_kwargs)\n"
     ]
    },
    {
     "name": "stdout",
     "output_type": "stream",
     "text": [
      "Standardizing Data across genes\n",
      "\n",
      "[Parallel(n_jobs=20)]: Done   5 tasks      | elapsed:  1.6min\n",
      "[Parallel(n_jobs=20)]: Done   6 tasks      | elapsed:  1.6min\n",
      "Standardizing Data across genes\n",
      "\n"
     ]
    },
    {
     "name": "stderr",
     "output_type": "stream",
     "text": [
      "/data/nielsond/python/envs/abcd_mine/lib/python3.6/site-packages/rpy2/robjects/functions.py:106: UserWarning: Found2batches\n",
      "\n",
      "  res = super(Function, self).__call__(*new_args, **new_kwargs)\n",
      "/data/nielsond/python/envs/abcd_mine/lib/python3.6/site-packages/rpy2/robjects/functions.py:106: UserWarning: Adjusting for0covariate(s) or covariate level(s)\n",
      "\n",
      "  res = super(Function, self).__call__(*new_args, **new_kwargs)\n"
     ]
    },
    {
     "name": "stdout",
     "output_type": "stream",
     "text": [
      "Standardizing Data across genes\n",
      "\n"
     ]
    },
    {
     "name": "stderr",
     "output_type": "stream",
     "text": [
      "/data/nielsond/python/envs/abcd_mine/lib/python3.6/site-packages/rpy2/robjects/functions.py:106: UserWarning: Fitting L/S model and finding priors\n",
      "\n",
      "  res = super(Function, self).__call__(*new_args, **new_kwargs)\n",
      "/data/nielsond/python/envs/abcd_mine/lib/python3.6/site-packages/rpy2/robjects/functions.py:106: UserWarning: Finding nonparametric adjustments\n",
      "\n",
      "  res = super(Function, self).__call__(*new_args, **new_kwargs)\n"
     ]
    },
    {
     "name": "stdout",
     "output_type": "stream",
     "text": [
      "Standardizing Data across genes\n",
      "\n"
     ]
    },
    {
     "name": "stderr",
     "output_type": "stream",
     "text": [
      "/data/nielsond/python/envs/abcd_mine/lib/python3.6/site-packages/rpy2/robjects/functions.py:106: UserWarning: Adjusting the Data\n",
      "\n",
      "\n",
      "  res = super(Function, self).__call__(*new_args, **new_kwargs)\n"
     ]
    },
    {
     "name": "stdout",
     "output_type": "stream",
     "text": [
      "Standardizing Data across genes\n",
      "\n"
     ]
    },
    {
     "name": "stderr",
     "output_type": "stream",
     "text": [
      "/data/nielsond/python/envs/abcd_mine/lib/python3.6/site-packages/rpy2/robjects/functions.py:106: UserWarning: Adjusting the Data\n",
      "\n",
      "\n",
      "  res = super(Function, self).__call__(*new_args, **new_kwargs)\n"
     ]
    },
    {
     "name": "stdout",
     "output_type": "stream",
     "text": [
      "Standardizing Data across genes\n",
      "\n",
      "Standardizing Data across genes\n",
      "\n",
      "Standardizing Data across genes\n",
      "\n",
      "[Parallel(n_jobs=20)]: Done   7 tasks      | elapsed:  1.9min\n"
     ]
    },
    {
     "name": "stderr",
     "output_type": "stream",
     "text": [
      "/data/nielsond/python/envs/abcd_mine/lib/python3.6/site-packages/rpy2/robjects/functions.py:106: UserWarning: Adjusting the Data\n",
      "\n",
      "\n",
      "  res = super(Function, self).__call__(*new_args, **new_kwargs)\n",
      "/data/nielsond/python/envs/abcd_mine/lib/python3.6/site-packages/rpy2/robjects/functions.py:106: UserWarning: Found2batches\n",
      "\n",
      "  res = super(Function, self).__call__(*new_args, **new_kwargs)\n",
      "/data/nielsond/python/envs/abcd_mine/lib/python3.6/site-packages/rpy2/robjects/functions.py:106: UserWarning: Adjusting for0covariate(s) or covariate level(s)\n",
      "\n",
      "  res = super(Function, self).__call__(*new_args, **new_kwargs)\n"
     ]
    },
    {
     "name": "stdout",
     "output_type": "stream",
     "text": [
      "Standardizing Data across genes\n",
      "\n"
     ]
    },
    {
     "name": "stderr",
     "output_type": "stream",
     "text": [
      "/data/nielsond/python/envs/abcd_mine/lib/python3.6/site-packages/rpy2/robjects/functions.py:106: UserWarning: Fitting L/S model and finding priors\n",
      "\n",
      "  res = super(Function, self).__call__(*new_args, **new_kwargs)\n"
     ]
    },
    {
     "name": "stdout",
     "output_type": "stream",
     "text": [
      "Standardizing Data across genes\n",
      "\n"
     ]
    },
    {
     "name": "stderr",
     "output_type": "stream",
     "text": [
      "/data/nielsond/python/envs/abcd_mine/lib/python3.6/site-packages/rpy2/robjects/functions.py:106: UserWarning: Finding nonparametric adjustments\n",
      "\n",
      "  res = super(Function, self).__call__(*new_args, **new_kwargs)\n",
      "/data/nielsond/python/envs/abcd_mine/lib/python3.6/site-packages/rpy2/robjects/functions.py:106: UserWarning: Adjusting the Data\n",
      "\n",
      "\n",
      "  res = super(Function, self).__call__(*new_args, **new_kwargs)\n"
     ]
    },
    {
     "name": "stdout",
     "output_type": "stream",
     "text": [
      "Standardizing Data across genes\n",
      "\n",
      "[Parallel(n_jobs=20)]: Done   8 tasks      | elapsed:  2.1min\n",
      "Standardizing Data across genes\n",
      "\n"
     ]
    },
    {
     "name": "stderr",
     "output_type": "stream",
     "text": [
      "/data/nielsond/python/envs/abcd_mine/lib/python3.6/site-packages/rpy2/robjects/functions.py:106: UserWarning: Found2batches\n",
      "\n",
      "  res = super(Function, self).__call__(*new_args, **new_kwargs)\n",
      "/data/nielsond/python/envs/abcd_mine/lib/python3.6/site-packages/rpy2/robjects/functions.py:106: UserWarning: Adjusting for0covariate(s) or covariate level(s)\n",
      "\n",
      "  res = super(Function, self).__call__(*new_args, **new_kwargs)\n"
     ]
    },
    {
     "name": "stdout",
     "output_type": "stream",
     "text": [
      "Standardizing Data across genes\n",
      "\n"
     ]
    },
    {
     "name": "stderr",
     "output_type": "stream",
     "text": [
      "/data/nielsond/python/envs/abcd_mine/lib/python3.6/site-packages/rpy2/robjects/functions.py:106: UserWarning: Fitting L/S model and finding priors\n",
      "\n",
      "  res = super(Function, self).__call__(*new_args, **new_kwargs)\n"
     ]
    },
    {
     "name": "stdout",
     "output_type": "stream",
     "text": [
      "Standardizing Data across genes\n",
      "\n"
     ]
    },
    {
     "name": "stderr",
     "output_type": "stream",
     "text": [
      "/data/nielsond/python/envs/abcd_mine/lib/python3.6/site-packages/rpy2/robjects/functions.py:106: UserWarning: Finding nonparametric adjustments\n",
      "\n",
      "  res = super(Function, self).__call__(*new_args, **new_kwargs)\n",
      "/data/nielsond/python/envs/abcd_mine/lib/python3.6/site-packages/rpy2/robjects/functions.py:106: UserWarning: Adjusting the Data\n",
      "\n",
      "\n",
      "  res = super(Function, self).__call__(*new_args, **new_kwargs)\n"
     ]
    },
    {
     "name": "stdout",
     "output_type": "stream",
     "text": [
      "Standardizing Data across genes\n",
      "\n",
      "Standardizing Data across genes\n",
      "\n",
      "Standardizing Data across genes\n",
      "\n",
      "[Parallel(n_jobs=20)]: Done   9 tasks      | elapsed:  2.3min\n",
      "Standardizing Data across genes\n",
      "\n",
      "Standardizing Data across genes\n",
      "\n"
     ]
    },
    {
     "name": "stderr",
     "output_type": "stream",
     "text": [
      "/data/nielsond/python/envs/abcd_mine/lib/python3.6/site-packages/rpy2/robjects/functions.py:106: UserWarning: Found2batches\n",
      "\n",
      "  res = super(Function, self).__call__(*new_args, **new_kwargs)\n",
      "/data/nielsond/python/envs/abcd_mine/lib/python3.6/site-packages/rpy2/robjects/functions.py:106: UserWarning: Adjusting for0covariate(s) or covariate level(s)\n",
      "\n",
      "  res = super(Function, self).__call__(*new_args, **new_kwargs)\n"
     ]
    },
    {
     "name": "stdout",
     "output_type": "stream",
     "text": [
      "Standardizing Data across genes\n",
      "\n"
     ]
    },
    {
     "name": "stderr",
     "output_type": "stream",
     "text": [
      "/data/nielsond/python/envs/abcd_mine/lib/python3.6/site-packages/rpy2/robjects/functions.py:106: UserWarning: Fitting L/S model and finding priors\n",
      "\n",
      "  res = super(Function, self).__call__(*new_args, **new_kwargs)\n"
     ]
    },
    {
     "name": "stdout",
     "output_type": "stream",
     "text": [
      "Standardizing Data across genes\n",
      "\n"
     ]
    },
    {
     "name": "stderr",
     "output_type": "stream",
     "text": [
      "/data/nielsond/python/envs/abcd_mine/lib/python3.6/site-packages/rpy2/robjects/functions.py:106: UserWarning: Finding nonparametric adjustments\n",
      "\n",
      "  res = super(Function, self).__call__(*new_args, **new_kwargs)\n"
     ]
    },
    {
     "name": "stdout",
     "output_type": "stream",
     "text": [
      "Standardizing Data across genes\n",
      "\n",
      "Standardizing Data across genes\n",
      "\n",
      "[Parallel(n_jobs=20)]: Done  10 tasks      | elapsed:  2.5min\n"
     ]
    },
    {
     "name": "stderr",
     "output_type": "stream",
     "text": [
      "/data/nielsond/python/envs/abcd_mine/lib/python3.6/site-packages/rpy2/robjects/functions.py:106: UserWarning: Adjusting the Data\n",
      "\n",
      "\n",
      "  res = super(Function, self).__call__(*new_args, **new_kwargs)\n"
     ]
    },
    {
     "name": "stdout",
     "output_type": "stream",
     "text": [
      "Standardizing Data across genes\n",
      "\n",
      "Standardizing Data across genes\n",
      "\n"
     ]
    },
    {
     "name": "stderr",
     "output_type": "stream",
     "text": [
      "/data/nielsond/python/envs/abcd_mine/lib/python3.6/site-packages/rpy2/robjects/functions.py:106: UserWarning: Found2batches\n",
      "\n",
      "  res = super(Function, self).__call__(*new_args, **new_kwargs)\n",
      "/data/nielsond/python/envs/abcd_mine/lib/python3.6/site-packages/rpy2/robjects/functions.py:106: UserWarning: Adjusting for0covariate(s) or covariate level(s)\n",
      "\n",
      "  res = super(Function, self).__call__(*new_args, **new_kwargs)\n"
     ]
    },
    {
     "name": "stdout",
     "output_type": "stream",
     "text": [
      "Standardizing Data across genes\n",
      "\n"
     ]
    },
    {
     "name": "stderr",
     "output_type": "stream",
     "text": [
      "/data/nielsond/python/envs/abcd_mine/lib/python3.6/site-packages/rpy2/robjects/functions.py:106: UserWarning: Fitting L/S model and finding priors\n",
      "\n",
      "  res = super(Function, self).__call__(*new_args, **new_kwargs)\n",
      "/data/nielsond/python/envs/abcd_mine/lib/python3.6/site-packages/rpy2/robjects/functions.py:106: UserWarning: Finding nonparametric adjustments\n",
      "\n",
      "  res = super(Function, self).__call__(*new_args, **new_kwargs)\n"
     ]
    },
    {
     "name": "stdout",
     "output_type": "stream",
     "text": [
      "[Parallel(n_jobs=20)]: Done  11 tasks      | elapsed:  2.7min\n",
      "[Parallel(n_jobs=20)]: Done  12 tasks      | elapsed:  2.7min\n"
     ]
    },
    {
     "name": "stderr",
     "output_type": "stream",
     "text": [
      "/data/nielsond/python/envs/abcd_mine/lib/python3.6/site-packages/rpy2/robjects/functions.py:106: UserWarning: Adjusting the Data\n",
      "\n",
      "\n",
      "  res = super(Function, self).__call__(*new_args, **new_kwargs)\n"
     ]
    },
    {
     "name": "stdout",
     "output_type": "stream",
     "text": [
      "Standardizing Data across genes\n",
      "\n",
      "Standardizing Data across genes\n",
      "\n",
      "Standardizing Data across genes\n",
      "\n"
     ]
    },
    {
     "name": "stderr",
     "output_type": "stream",
     "text": [
      "/data/nielsond/python/envs/abcd_mine/lib/python3.6/site-packages/rpy2/robjects/functions.py:106: UserWarning: Adjusting the Data\n",
      "\n",
      "\n",
      "  res = super(Function, self).__call__(*new_args, **new_kwargs)\n"
     ]
    },
    {
     "name": "stdout",
     "output_type": "stream",
     "text": [
      "[Parallel(n_jobs=20)]: Done  13 tasks      | elapsed:  3.1min\n",
      "Standardizing Data across genes\n",
      "\n",
      "Standardizing Data across genes\n",
      "\n"
     ]
    },
    {
     "name": "stderr",
     "output_type": "stream",
     "text": [
      "/data/nielsond/python/envs/abcd_mine/lib/python3.6/site-packages/rpy2/robjects/functions.py:106: UserWarning: Adjusting the Data\n",
      "\n",
      "\n",
      "  res = super(Function, self).__call__(*new_args, **new_kwargs)\n"
     ]
    },
    {
     "name": "stdout",
     "output_type": "stream",
     "text": [
      "Standardizing Data across genes\n",
      "\n"
     ]
    },
    {
     "name": "stderr",
     "output_type": "stream",
     "text": [
      "/data/nielsond/python/envs/abcd_mine/lib/python3.6/site-packages/rpy2/robjects/functions.py:106: UserWarning: Found2batches\n",
      "\n",
      "  res = super(Function, self).__call__(*new_args, **new_kwargs)\n",
      "/data/nielsond/python/envs/abcd_mine/lib/python3.6/site-packages/rpy2/robjects/functions.py:106: UserWarning: Adjusting for0covariate(s) or covariate level(s)\n",
      "\n",
      "  res = super(Function, self).__call__(*new_args, **new_kwargs)\n"
     ]
    },
    {
     "name": "stdout",
     "output_type": "stream",
     "text": [
      "Standardizing Data across genes\n",
      "\n"
     ]
    },
    {
     "name": "stderr",
     "output_type": "stream",
     "text": [
      "/data/nielsond/python/envs/abcd_mine/lib/python3.6/site-packages/rpy2/robjects/functions.py:106: UserWarning: Fitting L/S model and finding priors\n",
      "\n",
      "  res = super(Function, self).__call__(*new_args, **new_kwargs)\n",
      "/data/nielsond/python/envs/abcd_mine/lib/python3.6/site-packages/rpy2/robjects/functions.py:106: UserWarning: Finding nonparametric adjustments\n",
      "\n",
      "  res = super(Function, self).__call__(*new_args, **new_kwargs)\n"
     ]
    },
    {
     "name": "stdout",
     "output_type": "stream",
     "text": [
      "[Parallel(n_jobs=20)]: Done  14 tasks      | elapsed:  3.3min\n",
      "Standardizing Data across genes\n",
      "\n",
      "Standardizing Data across genes\n",
      "\n",
      "Standardizing Data across genes\n",
      "\n",
      "Standardizing Data across genes\n",
      "\n",
      "[Parallel(n_jobs=20)]: Done  15 tasks      | elapsed:  3.5min\n"
     ]
    },
    {
     "name": "stderr",
     "output_type": "stream",
     "text": [
      "/data/nielsond/python/envs/abcd_mine/lib/python3.6/site-packages/rpy2/robjects/functions.py:106: UserWarning: Adjusting the Data\n",
      "\n",
      "\n",
      "  res = super(Function, self).__call__(*new_args, **new_kwargs)\n"
     ]
    },
    {
     "name": "stdout",
     "output_type": "stream",
     "text": [
      "Standardizing Data across genes\n",
      "\n",
      "Standardizing Data across genes\n",
      "\n",
      "Standardizing Data across genes\n",
      "\n",
      "Standardizing Data across genes\n",
      "\n",
      "[Parallel(n_jobs=20)]: Done  16 tasks      | elapsed:  3.8min\n",
      "[Parallel(n_jobs=20)]: Done  17 tasks      | elapsed:  3.8min\n",
      "[Parallel(n_jobs=20)]: Done  18 tasks      | elapsed:  3.8min\n"
     ]
    },
    {
     "name": "stderr",
     "output_type": "stream",
     "text": [
      "/data/nielsond/python/envs/abcd_mine/lib/python3.6/site-packages/rpy2/robjects/functions.py:106: UserWarning: Found2batches\n",
      "\n",
      "  res = super(Function, self).__call__(*new_args, **new_kwargs)\n",
      "/data/nielsond/python/envs/abcd_mine/lib/python3.6/site-packages/rpy2/robjects/functions.py:106: UserWarning: Adjusting for0covariate(s) or covariate level(s)\n",
      "\n",
      "  res = super(Function, self).__call__(*new_args, **new_kwargs)\n"
     ]
    },
    {
     "name": "stdout",
     "output_type": "stream",
     "text": [
      "Standardizing Data across genes\n",
      "\n"
     ]
    },
    {
     "name": "stderr",
     "output_type": "stream",
     "text": [
      "/data/nielsond/python/envs/abcd_mine/lib/python3.6/site-packages/rpy2/robjects/functions.py:106: UserWarning: Fitting L/S model and finding priors\n",
      "\n",
      "  res = super(Function, self).__call__(*new_args, **new_kwargs)\n",
      "/data/nielsond/python/envs/abcd_mine/lib/python3.6/site-packages/rpy2/robjects/functions.py:106: UserWarning: Finding nonparametric adjustments\n",
      "\n",
      "  res = super(Function, self).__call__(*new_args, **new_kwargs)\n",
      "/data/nielsond/python/envs/abcd_mine/lib/python3.6/site-packages/rpy2/robjects/functions.py:106: UserWarning: Adjusting the Data\n",
      "\n",
      "\n",
      "  res = super(Function, self).__call__(*new_args, **new_kwargs)\n"
     ]
    },
    {
     "name": "stdout",
     "output_type": "stream",
     "text": [
      "Standardizing Data across genes\n",
      "\n",
      "Standardizing Data across genes\n",
      "\n",
      "Standardizing Data across genes\n",
      "\n",
      "[Parallel(n_jobs=20)]: Done  19 tasks      | elapsed:  4.4min\n"
     ]
    },
    {
     "name": "stderr",
     "output_type": "stream",
     "text": [
      "/data/nielsond/python/envs/abcd_mine/lib/python3.6/site-packages/rpy2/robjects/functions.py:106: UserWarning: Found2batches\n",
      "\n",
      "  res = super(Function, self).__call__(*new_args, **new_kwargs)\n",
      "/data/nielsond/python/envs/abcd_mine/lib/python3.6/site-packages/rpy2/robjects/functions.py:106: UserWarning: Adjusting for0covariate(s) or covariate level(s)\n",
      "\n",
      "  res = super(Function, self).__call__(*new_args, **new_kwargs)\n"
     ]
    },
    {
     "name": "stdout",
     "output_type": "stream",
     "text": [
      "Standardizing Data across genes\n",
      "\n"
     ]
    },
    {
     "name": "stderr",
     "output_type": "stream",
     "text": [
      "/data/nielsond/python/envs/abcd_mine/lib/python3.6/site-packages/rpy2/robjects/functions.py:106: UserWarning: Fitting L/S model and finding priors\n",
      "\n",
      "  res = super(Function, self).__call__(*new_args, **new_kwargs)\n",
      "/data/nielsond/python/envs/abcd_mine/lib/python3.6/site-packages/rpy2/robjects/functions.py:106: UserWarning: Finding nonparametric adjustments\n",
      "\n",
      "  res = super(Function, self).__call__(*new_args, **new_kwargs)\n",
      "/data/nielsond/python/envs/abcd_mine/lib/python3.6/site-packages/rpy2/robjects/functions.py:106: UserWarning: Adjusting the Data\n",
      "\n",
      "\n",
      "  res = super(Function, self).__call__(*new_args, **new_kwargs)\n"
     ]
    },
    {
     "name": "stdout",
     "output_type": "stream",
     "text": [
      "Standardizing Data across genes\n",
      "\n"
     ]
    },
    {
     "name": "stderr",
     "output_type": "stream",
     "text": [
      "/data/nielsond/python/envs/abcd_mine/lib/python3.6/site-packages/rpy2/robjects/functions.py:106: UserWarning: Found2batches\n",
      "\n",
      "  res = super(Function, self).__call__(*new_args, **new_kwargs)\n",
      "/data/nielsond/python/envs/abcd_mine/lib/python3.6/site-packages/rpy2/robjects/functions.py:106: UserWarning: Adjusting for0covariate(s) or covariate level(s)\n",
      "\n",
      "  res = super(Function, self).__call__(*new_args, **new_kwargs)\n"
     ]
    },
    {
     "name": "stdout",
     "output_type": "stream",
     "text": [
      "Standardizing Data across genes\n",
      "\n"
     ]
    },
    {
     "name": "stderr",
     "output_type": "stream",
     "text": [
      "/data/nielsond/python/envs/abcd_mine/lib/python3.6/site-packages/rpy2/robjects/functions.py:106: UserWarning: Fitting L/S model and finding priors\n",
      "\n",
      "  res = super(Function, self).__call__(*new_args, **new_kwargs)\n",
      "/data/nielsond/python/envs/abcd_mine/lib/python3.6/site-packages/rpy2/robjects/functions.py:106: UserWarning: Finding nonparametric adjustments\n",
      "\n",
      "  res = super(Function, self).__call__(*new_args, **new_kwargs)\n",
      "/data/nielsond/python/envs/abcd_mine/lib/python3.6/site-packages/rpy2/robjects/functions.py:106: UserWarning: Found2batches\n",
      "\n",
      "  res = super(Function, self).__call__(*new_args, **new_kwargs)\n",
      "/data/nielsond/python/envs/abcd_mine/lib/python3.6/site-packages/rpy2/robjects/functions.py:106: UserWarning: Adjusting for0covariate(s) or covariate level(s)\n",
      "\n",
      "  res = super(Function, self).__call__(*new_args, **new_kwargs)\n"
     ]
    },
    {
     "name": "stdout",
     "output_type": "stream",
     "text": [
      "Standardizing Data across genes\n",
      "\n"
     ]
    },
    {
     "name": "stderr",
     "output_type": "stream",
     "text": [
      "/data/nielsond/python/envs/abcd_mine/lib/python3.6/site-packages/rpy2/robjects/functions.py:106: UserWarning: Fitting L/S model and finding priors\n",
      "\n",
      "  res = super(Function, self).__call__(*new_args, **new_kwargs)\n",
      "/data/nielsond/python/envs/abcd_mine/lib/python3.6/site-packages/rpy2/robjects/functions.py:106: UserWarning: Finding nonparametric adjustments\n",
      "\n",
      "  res = super(Function, self).__call__(*new_args, **new_kwargs)\n"
     ]
    },
    {
     "name": "stdout",
     "output_type": "stream",
     "text": [
      "Standardizing Data across genes\n",
      "\n",
      "Standardizing Data across genes\n",
      "\n"
     ]
    },
    {
     "name": "stderr",
     "output_type": "stream",
     "text": [
      "/data/nielsond/python/envs/abcd_mine/lib/python3.6/site-packages/rpy2/robjects/functions.py:106: UserWarning: Adjusting the Data\n",
      "\n",
      "\n",
      "  res = super(Function, self).__call__(*new_args, **new_kwargs)\n",
      "/data/nielsond/python/envs/abcd_mine/lib/python3.6/site-packages/rpy2/robjects/functions.py:106: UserWarning: Found2batches\n",
      "\n",
      "  res = super(Function, self).__call__(*new_args, **new_kwargs)\n",
      "/data/nielsond/python/envs/abcd_mine/lib/python3.6/site-packages/rpy2/robjects/functions.py:106: UserWarning: Adjusting for0covariate(s) or covariate level(s)\n",
      "\n",
      "  res = super(Function, self).__call__(*new_args, **new_kwargs)\n"
     ]
    },
    {
     "name": "stdout",
     "output_type": "stream",
     "text": [
      "Standardizing Data across genes\n",
      "\n",
      "Standardizing Data across genes\n",
      "\n"
     ]
    },
    {
     "name": "stderr",
     "output_type": "stream",
     "text": [
      "/data/nielsond/python/envs/abcd_mine/lib/python3.6/site-packages/rpy2/robjects/functions.py:106: UserWarning: Fitting L/S model and finding priors\n",
      "\n",
      "  res = super(Function, self).__call__(*new_args, **new_kwargs)\n",
      "/data/nielsond/python/envs/abcd_mine/lib/python3.6/site-packages/rpy2/robjects/functions.py:106: UserWarning: Finding nonparametric adjustments\n",
      "\n",
      "  res = super(Function, self).__call__(*new_args, **new_kwargs)\n",
      "/data/nielsond/python/envs/abcd_mine/lib/python3.6/site-packages/rpy2/robjects/functions.py:106: UserWarning: Adjusting the Data\n",
      "\n",
      "\n",
      "  res = super(Function, self).__call__(*new_args, **new_kwargs)\n"
     ]
    },
    {
     "name": "stdout",
     "output_type": "stream",
     "text": [
      "Standardizing Data across genes\n",
      "\n",
      "Standardizing Data across genes\n",
      "\n"
     ]
    },
    {
     "name": "stderr",
     "output_type": "stream",
     "text": [
      "/data/nielsond/python/envs/abcd_mine/lib/python3.6/site-packages/rpy2/robjects/functions.py:106: UserWarning: Adjusting the Data\n",
      "\n",
      "\n",
      "  res = super(Function, self).__call__(*new_args, **new_kwargs)\n"
     ]
    },
    {
     "name": "stdout",
     "output_type": "stream",
     "text": [
      "[Parallel(n_jobs=20)]: Done  20 tasks      | elapsed:  5.0min\n",
      "Standardizing Data across genes\n",
      "\n",
      "Standardizing Data across genes\n",
      "\n",
      "Standardizing Data across genes\n",
      "\n",
      "Standardizing Data across genes\n",
      "\n",
      "Standardizing Data across genes\n",
      "\n",
      "Standardizing Data across genes\n",
      "\n"
     ]
    },
    {
     "name": "stderr",
     "output_type": "stream",
     "text": [
      "/data/nielsond/python/envs/abcd_mine/lib/python3.6/site-packages/rpy2/robjects/functions.py:106: UserWarning: Found2batches\n",
      "\n",
      "  res = super(Function, self).__call__(*new_args, **new_kwargs)\n",
      "/data/nielsond/python/envs/abcd_mine/lib/python3.6/site-packages/rpy2/robjects/functions.py:106: UserWarning: Adjusting for0covariate(s) or covariate level(s)\n",
      "\n",
      "  res = super(Function, self).__call__(*new_args, **new_kwargs)\n"
     ]
    },
    {
     "name": "stdout",
     "output_type": "stream",
     "text": [
      "Standardizing Data across genes\n",
      "\n"
     ]
    },
    {
     "name": "stderr",
     "output_type": "stream",
     "text": [
      "/data/nielsond/python/envs/abcd_mine/lib/python3.6/site-packages/rpy2/robjects/functions.py:106: UserWarning: Fitting L/S model and finding priors\n",
      "\n",
      "  res = super(Function, self).__call__(*new_args, **new_kwargs)\n",
      "/data/nielsond/python/envs/abcd_mine/lib/python3.6/site-packages/rpy2/robjects/functions.py:106: UserWarning: Finding nonparametric adjustments\n",
      "\n",
      "  res = super(Function, self).__call__(*new_args, **new_kwargs)\n",
      "/data/nielsond/python/envs/abcd_mine/lib/python3.6/site-packages/rpy2/robjects/functions.py:106: UserWarning: Found2batches\n",
      "\n",
      "  res = super(Function, self).__call__(*new_args, **new_kwargs)\n",
      "/data/nielsond/python/envs/abcd_mine/lib/python3.6/site-packages/rpy2/robjects/functions.py:106: UserWarning: Adjusting for0covariate(s) or covariate level(s)\n",
      "\n",
      "  res = super(Function, self).__call__(*new_args, **new_kwargs)\n"
     ]
    },
    {
     "name": "stdout",
     "output_type": "stream",
     "text": [
      "Standardizing Data across genes\n",
      "\n"
     ]
    },
    {
     "name": "stderr",
     "output_type": "stream",
     "text": [
      "/data/nielsond/python/envs/abcd_mine/lib/python3.6/site-packages/rpy2/robjects/functions.py:106: UserWarning: Fitting L/S model and finding priors\n",
      "\n",
      "  res = super(Function, self).__call__(*new_args, **new_kwargs)\n",
      "/data/nielsond/python/envs/abcd_mine/lib/python3.6/site-packages/rpy2/robjects/functions.py:106: UserWarning: Finding nonparametric adjustments\n",
      "\n",
      "  res = super(Function, self).__call__(*new_args, **new_kwargs)\n"
     ]
    },
    {
     "name": "stdout",
     "output_type": "stream",
     "text": [
      "[Parallel(n_jobs=20)]: Done  21 tasks      | elapsed:  5.2min\n"
     ]
    },
    {
     "name": "stderr",
     "output_type": "stream",
     "text": [
      "/data/nielsond/python/envs/abcd_mine/lib/python3.6/site-packages/rpy2/robjects/functions.py:106: UserWarning: Adjusting the Data\n",
      "\n",
      "\n",
      "  res = super(Function, self).__call__(*new_args, **new_kwargs)\n"
     ]
    },
    {
     "name": "stdout",
     "output_type": "stream",
     "text": [
      "Standardizing Data across genes\n",
      "\n"
     ]
    },
    {
     "name": "stderr",
     "output_type": "stream",
     "text": [
      "/data/nielsond/python/envs/abcd_mine/lib/python3.6/site-packages/rpy2/robjects/functions.py:106: UserWarning: Found2batches\n",
      "\n",
      "  res = super(Function, self).__call__(*new_args, **new_kwargs)\n",
      "/data/nielsond/python/envs/abcd_mine/lib/python3.6/site-packages/rpy2/robjects/functions.py:106: UserWarning: Adjusting for0covariate(s) or covariate level(s)\n",
      "\n",
      "  res = super(Function, self).__call__(*new_args, **new_kwargs)\n"
     ]
    },
    {
     "name": "stdout",
     "output_type": "stream",
     "text": [
      "Standardizing Data across genes\n",
      "\n"
     ]
    },
    {
     "name": "stderr",
     "output_type": "stream",
     "text": [
      "/data/nielsond/python/envs/abcd_mine/lib/python3.6/site-packages/rpy2/robjects/functions.py:106: UserWarning: Fitting L/S model and finding priors\n",
      "\n",
      "  res = super(Function, self).__call__(*new_args, **new_kwargs)\n",
      "/data/nielsond/python/envs/abcd_mine/lib/python3.6/site-packages/rpy2/robjects/functions.py:106: UserWarning: Finding nonparametric adjustments\n",
      "\n",
      "  res = super(Function, self).__call__(*new_args, **new_kwargs)\n"
     ]
    },
    {
     "name": "stdout",
     "output_type": "stream",
     "text": [
      "[Parallel(n_jobs=20)]: Done  22 tasks      | elapsed:  5.3min\n"
     ]
    },
    {
     "name": "stderr",
     "output_type": "stream",
     "text": [
      "/data/nielsond/python/envs/abcd_mine/lib/python3.6/site-packages/rpy2/robjects/functions.py:106: UserWarning: Found2batches\n",
      "\n",
      "  res = super(Function, self).__call__(*new_args, **new_kwargs)\n",
      "/data/nielsond/python/envs/abcd_mine/lib/python3.6/site-packages/rpy2/robjects/functions.py:106: UserWarning: Adjusting for0covariate(s) or covariate level(s)\n",
      "\n",
      "  res = super(Function, self).__call__(*new_args, **new_kwargs)\n"
     ]
    },
    {
     "name": "stdout",
     "output_type": "stream",
     "text": [
      "Standardizing Data across genes\n",
      "\n"
     ]
    },
    {
     "name": "stderr",
     "output_type": "stream",
     "text": [
      "/data/nielsond/python/envs/abcd_mine/lib/python3.6/site-packages/rpy2/robjects/functions.py:106: UserWarning: Fitting L/S model and finding priors\n",
      "\n",
      "  res = super(Function, self).__call__(*new_args, **new_kwargs)\n",
      "/data/nielsond/python/envs/abcd_mine/lib/python3.6/site-packages/rpy2/robjects/functions.py:106: UserWarning: Finding nonparametric adjustments\n",
      "\n",
      "  res = super(Function, self).__call__(*new_args, **new_kwargs)\n"
     ]
    },
    {
     "name": "stdout",
     "output_type": "stream",
     "text": [
      "Standardizing Data across genes\n",
      "\n",
      "[Parallel(n_jobs=20)]: Done  23 tasks      | elapsed:  5.3min\n"
     ]
    },
    {
     "name": "stderr",
     "output_type": "stream",
     "text": [
      "/data/nielsond/python/envs/abcd_mine/lib/python3.6/site-packages/rpy2/robjects/functions.py:106: UserWarning: Adjusting the Data\n",
      "\n",
      "\n",
      "  res = super(Function, self).__call__(*new_args, **new_kwargs)\n",
      "/data/nielsond/python/envs/abcd_mine/lib/python3.6/site-packages/rpy2/robjects/functions.py:106: UserWarning: Found2batches\n",
      "\n",
      "  res = super(Function, self).__call__(*new_args, **new_kwargs)\n",
      "/data/nielsond/python/envs/abcd_mine/lib/python3.6/site-packages/rpy2/robjects/functions.py:106: UserWarning: Adjusting for0covariate(s) or covariate level(s)\n",
      "\n",
      "  res = super(Function, self).__call__(*new_args, **new_kwargs)\n"
     ]
    },
    {
     "name": "stdout",
     "output_type": "stream",
     "text": [
      "Standardizing Data across genes\n",
      "\n"
     ]
    },
    {
     "name": "stderr",
     "output_type": "stream",
     "text": [
      "/data/nielsond/python/envs/abcd_mine/lib/python3.6/site-packages/rpy2/robjects/functions.py:106: UserWarning: Fitting L/S model and finding priors\n",
      "\n",
      "  res = super(Function, self).__call__(*new_args, **new_kwargs)\n",
      "/data/nielsond/python/envs/abcd_mine/lib/python3.6/site-packages/rpy2/robjects/functions.py:106: UserWarning: Finding nonparametric adjustments\n",
      "\n",
      "  res = super(Function, self).__call__(*new_args, **new_kwargs)\n"
     ]
    },
    {
     "name": "stdout",
     "output_type": "stream",
     "text": [
      "Standardizing Data across genes\n",
      "\n",
      "Standardizing Data across genes\n",
      "\n"
     ]
    },
    {
     "name": "stderr",
     "output_type": "stream",
     "text": [
      "/data/nielsond/python/envs/abcd_mine/lib/python3.6/site-packages/rpy2/robjects/functions.py:106: UserWarning: Found2batches\n",
      "\n",
      "  res = super(Function, self).__call__(*new_args, **new_kwargs)\n",
      "/data/nielsond/python/envs/abcd_mine/lib/python3.6/site-packages/rpy2/robjects/functions.py:106: UserWarning: Adjusting for0covariate(s) or covariate level(s)\n",
      "\n",
      "  res = super(Function, self).__call__(*new_args, **new_kwargs)\n"
     ]
    },
    {
     "name": "stdout",
     "output_type": "stream",
     "text": [
      "Standardizing Data across genes\n",
      "\n"
     ]
    },
    {
     "name": "stderr",
     "output_type": "stream",
     "text": [
      "/data/nielsond/python/envs/abcd_mine/lib/python3.6/site-packages/rpy2/robjects/functions.py:106: UserWarning: Fitting L/S model and finding priors\n",
      "\n",
      "  res = super(Function, self).__call__(*new_args, **new_kwargs)\n",
      "/data/nielsond/python/envs/abcd_mine/lib/python3.6/site-packages/rpy2/robjects/functions.py:106: UserWarning: Finding nonparametric adjustments\n",
      "\n",
      "  res = super(Function, self).__call__(*new_args, **new_kwargs)\n",
      "/data/nielsond/python/envs/abcd_mine/lib/python3.6/site-packages/rpy2/robjects/functions.py:106: UserWarning: Adjusting the Data\n",
      "\n",
      "\n",
      "  res = super(Function, self).__call__(*new_args, **new_kwargs)\n"
     ]
    },
    {
     "name": "stdout",
     "output_type": "stream",
     "text": [
      "Standardizing Data across genes\n",
      "\n"
     ]
    },
    {
     "name": "stderr",
     "output_type": "stream",
     "text": [
      "/data/nielsond/python/envs/abcd_mine/lib/python3.6/site-packages/rpy2/robjects/functions.py:106: UserWarning: Adjusting the Data\n",
      "\n",
      "\n",
      "  res = super(Function, self).__call__(*new_args, **new_kwargs)\n"
     ]
    },
    {
     "name": "stdout",
     "output_type": "stream",
     "text": [
      "Standardizing Data across genes\n",
      "\n",
      "Standardizing Data across genes\n",
      "\n"
     ]
    },
    {
     "name": "stderr",
     "output_type": "stream",
     "text": [
      "/data/nielsond/python/envs/abcd_mine/lib/python3.6/site-packages/rpy2/robjects/functions.py:106: UserWarning: Adjusting the Data\n",
      "\n",
      "\n",
      "  res = super(Function, self).__call__(*new_args, **new_kwargs)\n"
     ]
    },
    {
     "name": "stdout",
     "output_type": "stream",
     "text": [
      "Standardizing Data across genes\n",
      "Standardizing Data across genes\n",
      "\n",
      "\n",
      "Standardizing Data across genes\n",
      "\n",
      "Standardizing Data across genes\n",
      "\n",
      "[Parallel(n_jobs=20)]: Done  24 tasks      | elapsed:  5.6min\n"
     ]
    },
    {
     "name": "stderr",
     "output_type": "stream",
     "text": [
      "/data/nielsond/python/envs/abcd_mine/lib/python3.6/site-packages/rpy2/robjects/functions.py:106: UserWarning: Adjusting the Data\n",
      "\n",
      "\n",
      "  res = super(Function, self).__call__(*new_args, **new_kwargs)\n"
     ]
    },
    {
     "name": "stdout",
     "output_type": "stream",
     "text": [
      "Standardizing Data across genes\n",
      "\n",
      "Standardizing Data across genes\n",
      "\n"
     ]
    },
    {
     "name": "stderr",
     "output_type": "stream",
     "text": [
      "/data/nielsond/python/envs/abcd_mine/lib/python3.6/site-packages/rpy2/robjects/functions.py:106: UserWarning: Found2batches\n",
      "\n",
      "  res = super(Function, self).__call__(*new_args, **new_kwargs)\n",
      "/data/nielsond/python/envs/abcd_mine/lib/python3.6/site-packages/rpy2/robjects/functions.py:106: UserWarning: Adjusting for0covariate(s) or covariate level(s)\n",
      "\n",
      "  res = super(Function, self).__call__(*new_args, **new_kwargs)\n"
     ]
    },
    {
     "name": "stdout",
     "output_type": "stream",
     "text": [
      "Standardizing Data across genes\n",
      "\n",
      "Standardizing Data across genes\n",
      "\n"
     ]
    },
    {
     "name": "stderr",
     "output_type": "stream",
     "text": [
      "/data/nielsond/python/envs/abcd_mine/lib/python3.6/site-packages/rpy2/robjects/functions.py:106: UserWarning: Fitting L/S model and finding priors\n",
      "\n",
      "  res = super(Function, self).__call__(*new_args, **new_kwargs)\n",
      "/data/nielsond/python/envs/abcd_mine/lib/python3.6/site-packages/rpy2/robjects/functions.py:106: UserWarning: Finding nonparametric adjustments\n",
      "\n",
      "  res = super(Function, self).__call__(*new_args, **new_kwargs)\n",
      "/data/nielsond/python/envs/abcd_mine/lib/python3.6/site-packages/rpy2/robjects/functions.py:106: UserWarning: Found2batches\n",
      "\n",
      "  res = super(Function, self).__call__(*new_args, **new_kwargs)\n",
      "/data/nielsond/python/envs/abcd_mine/lib/python3.6/site-packages/rpy2/robjects/functions.py:106: UserWarning: Adjusting for0covariate(s) or covariate level(s)\n",
      "\n",
      "  res = super(Function, self).__call__(*new_args, **new_kwargs)\n"
     ]
    },
    {
     "name": "stdout",
     "output_type": "stream",
     "text": [
      "Standardizing Data across genes\n",
      "\n"
     ]
    },
    {
     "name": "stderr",
     "output_type": "stream",
     "text": [
      "/data/nielsond/python/envs/abcd_mine/lib/python3.6/site-packages/rpy2/robjects/functions.py:106: UserWarning: Fitting L/S model and finding priors\n",
      "\n",
      "  res = super(Function, self).__call__(*new_args, **new_kwargs)\n",
      "/data/nielsond/python/envs/abcd_mine/lib/python3.6/site-packages/rpy2/robjects/functions.py:106: UserWarning: Found2batches\n",
      "\n",
      "  res = super(Function, self).__call__(*new_args, **new_kwargs)\n",
      "/data/nielsond/python/envs/abcd_mine/lib/python3.6/site-packages/rpy2/robjects/functions.py:106: UserWarning: Adjusting for0covariate(s) or covariate level(s)\n",
      "\n",
      "  res = super(Function, self).__call__(*new_args, **new_kwargs)\n"
     ]
    },
    {
     "name": "stdout",
     "output_type": "stream",
     "text": [
      "Standardizing Data across genes\n",
      "\n"
     ]
    },
    {
     "name": "stderr",
     "output_type": "stream",
     "text": [
      "/data/nielsond/python/envs/abcd_mine/lib/python3.6/site-packages/rpy2/robjects/functions.py:106: UserWarning: Fitting L/S model and finding priors\n",
      "\n",
      "  res = super(Function, self).__call__(*new_args, **new_kwargs)\n",
      "/data/nielsond/python/envs/abcd_mine/lib/python3.6/site-packages/rpy2/robjects/functions.py:106: UserWarning: Finding nonparametric adjustments\n",
      "\n",
      "  res = super(Function, self).__call__(*new_args, **new_kwargs)\n",
      "/data/nielsond/python/envs/abcd_mine/lib/python3.6/site-packages/rpy2/robjects/functions.py:106: UserWarning: Finding nonparametric adjustments\n",
      "\n",
      "  res = super(Function, self).__call__(*new_args, **new_kwargs)\n"
     ]
    },
    {
     "name": "stdout",
     "output_type": "stream",
     "text": [
      "Standardizing Data across genes\n",
      "\n"
     ]
    },
    {
     "name": "stderr",
     "output_type": "stream",
     "text": [
      "/data/nielsond/python/envs/abcd_mine/lib/python3.6/site-packages/rpy2/robjects/functions.py:106: UserWarning: Found2batches\n",
      "\n",
      "  res = super(Function, self).__call__(*new_args, **new_kwargs)\n",
      "/data/nielsond/python/envs/abcd_mine/lib/python3.6/site-packages/rpy2/robjects/functions.py:106: UserWarning: Adjusting for0covariate(s) or covariate level(s)\n",
      "\n",
      "  res = super(Function, self).__call__(*new_args, **new_kwargs)\n"
     ]
    },
    {
     "name": "stdout",
     "output_type": "stream",
     "text": [
      "Standardizing Data across genes\n",
      "\n"
     ]
    },
    {
     "name": "stderr",
     "output_type": "stream",
     "text": [
      "/data/nielsond/python/envs/abcd_mine/lib/python3.6/site-packages/rpy2/robjects/functions.py:106: UserWarning: Fitting L/S model and finding priors\n",
      "\n",
      "  res = super(Function, self).__call__(*new_args, **new_kwargs)\n",
      "/data/nielsond/python/envs/abcd_mine/lib/python3.6/site-packages/rpy2/robjects/functions.py:106: UserWarning: Finding nonparametric adjustments\n",
      "\n",
      "  res = super(Function, self).__call__(*new_args, **new_kwargs)\n"
     ]
    },
    {
     "name": "stdout",
     "output_type": "stream",
     "text": [
      "Standardizing Data across genes\n",
      "\n"
     ]
    },
    {
     "name": "stderr",
     "output_type": "stream",
     "text": [
      "/data/nielsond/python/envs/abcd_mine/lib/python3.6/site-packages/rpy2/robjects/functions.py:106: UserWarning: Found2batches\n",
      "\n",
      "  res = super(Function, self).__call__(*new_args, **new_kwargs)\n",
      "/data/nielsond/python/envs/abcd_mine/lib/python3.6/site-packages/rpy2/robjects/functions.py:106: UserWarning: Adjusting for0covariate(s) or covariate level(s)\n",
      "\n",
      "  res = super(Function, self).__call__(*new_args, **new_kwargs)\n"
     ]
    },
    {
     "name": "stdout",
     "output_type": "stream",
     "text": [
      "Standardizing Data across genes\n",
      "\n"
     ]
    },
    {
     "name": "stderr",
     "output_type": "stream",
     "text": [
      "/data/nielsond/python/envs/abcd_mine/lib/python3.6/site-packages/rpy2/robjects/functions.py:106: UserWarning: Fitting L/S model and finding priors\n",
      "\n",
      "  res = super(Function, self).__call__(*new_args, **new_kwargs)\n",
      "/data/nielsond/python/envs/abcd_mine/lib/python3.6/site-packages/rpy2/robjects/functions.py:106: UserWarning: Finding nonparametric adjustments\n",
      "\n",
      "  res = super(Function, self).__call__(*new_args, **new_kwargs)\n"
     ]
    },
    {
     "name": "stdout",
     "output_type": "stream",
     "text": [
      "[Parallel(n_jobs=20)]: Done  25 tasks      | elapsed:  6.0min\n"
     ]
    },
    {
     "name": "stderr",
     "output_type": "stream",
     "text": [
      "/data/nielsond/python/envs/abcd_mine/lib/python3.6/site-packages/rpy2/robjects/functions.py:106: UserWarning: Adjusting the Data\n",
      "\n",
      "\n",
      "  res = super(Function, self).__call__(*new_args, **new_kwargs)\n"
     ]
    },
    {
     "name": "stdout",
     "output_type": "stream",
     "text": [
      "Standardizing Data across genes\n",
      "\n"
     ]
    },
    {
     "name": "stderr",
     "output_type": "stream",
     "text": [
      "/data/nielsond/python/envs/abcd_mine/lib/python3.6/site-packages/rpy2/robjects/functions.py:106: UserWarning: Adjusting the Data\n",
      "\n",
      "\n",
      "  res = super(Function, self).__call__(*new_args, **new_kwargs)\n",
      "/data/nielsond/python/envs/abcd_mine/lib/python3.6/site-packages/rpy2/robjects/functions.py:106: UserWarning: Found2batches\n",
      "\n",
      "  res = super(Function, self).__call__(*new_args, **new_kwargs)\n",
      "/data/nielsond/python/envs/abcd_mine/lib/python3.6/site-packages/rpy2/robjects/functions.py:106: UserWarning: Adjusting for0covariate(s) or covariate level(s)\n",
      "\n",
      "  res = super(Function, self).__call__(*new_args, **new_kwargs)\n"
     ]
    },
    {
     "name": "stdout",
     "output_type": "stream",
     "text": [
      "Standardizing Data across genes\n",
      "\n"
     ]
    },
    {
     "name": "stderr",
     "output_type": "stream",
     "text": [
      "/data/nielsond/python/envs/abcd_mine/lib/python3.6/site-packages/rpy2/robjects/functions.py:106: UserWarning: Fitting L/S model and finding priors\n",
      "\n",
      "  res = super(Function, self).__call__(*new_args, **new_kwargs)\n"
     ]
    },
    {
     "name": "stdout",
     "output_type": "stream",
     "text": [
      "Standardizing Data across genes\n",
      "\n",
      "Standardizing Data across genes\n",
      "\n"
     ]
    },
    {
     "name": "stderr",
     "output_type": "stream",
     "text": [
      "/data/nielsond/python/envs/abcd_mine/lib/python3.6/site-packages/rpy2/robjects/functions.py:106: UserWarning: Found2batches\n",
      "\n",
      "  res = super(Function, self).__call__(*new_args, **new_kwargs)\n",
      "/data/nielsond/python/envs/abcd_mine/lib/python3.6/site-packages/rpy2/robjects/functions.py:106: UserWarning: Adjusting for0covariate(s) or covariate level(s)\n",
      "\n",
      "  res = super(Function, self).__call__(*new_args, **new_kwargs)\n"
     ]
    },
    {
     "name": "stdout",
     "output_type": "stream",
     "text": [
      "Standardizing Data across genes\n",
      "\n"
     ]
    },
    {
     "name": "stderr",
     "output_type": "stream",
     "text": [
      "/data/nielsond/python/envs/abcd_mine/lib/python3.6/site-packages/rpy2/robjects/functions.py:106: UserWarning: Fitting L/S model and finding priors\n",
      "\n",
      "  res = super(Function, self).__call__(*new_args, **new_kwargs)\n",
      "/data/nielsond/python/envs/abcd_mine/lib/python3.6/site-packages/rpy2/robjects/functions.py:106: UserWarning: Finding nonparametric adjustments\n",
      "\n",
      "  res = super(Function, self).__call__(*new_args, **new_kwargs)\n"
     ]
    },
    {
     "name": "stdout",
     "output_type": "stream",
     "text": [
      "[Parallel(n_jobs=20)]: Done  26 tasks      | elapsed:  6.1min\n"
     ]
    },
    {
     "name": "stderr",
     "output_type": "stream",
     "text": [
      "/data/nielsond/python/envs/abcd_mine/lib/python3.6/site-packages/rpy2/robjects/functions.py:106: UserWarning: Finding nonparametric adjustments\n",
      "\n",
      "  res = super(Function, self).__call__(*new_args, **new_kwargs)\n"
     ]
    },
    {
     "name": "stdout",
     "output_type": "stream",
     "text": [
      "[Parallel(n_jobs=20)]: Done  27 tasks      | elapsed:  6.1min\n"
     ]
    },
    {
     "name": "stderr",
     "output_type": "stream",
     "text": [
      "/data/nielsond/python/envs/abcd_mine/lib/python3.6/site-packages/rpy2/robjects/functions.py:106: UserWarning: Adjusting the Data\n",
      "\n",
      "\n",
      "  res = super(Function, self).__call__(*new_args, **new_kwargs)\n"
     ]
    },
    {
     "name": "stdout",
     "output_type": "stream",
     "text": [
      "Standardizing Data across genes\n",
      "\n",
      "Standardizing Data across genes\n",
      "\n"
     ]
    },
    {
     "name": "stderr",
     "output_type": "stream",
     "text": [
      "/data/nielsond/python/envs/abcd_mine/lib/python3.6/site-packages/rpy2/robjects/functions.py:106: UserWarning: Adjusting the Data\n",
      "\n",
      "\n",
      "  res = super(Function, self).__call__(*new_args, **new_kwargs)\n"
     ]
    },
    {
     "name": "stdout",
     "output_type": "stream",
     "text": [
      "Standardizing Data across genes\n",
      "\n",
      "Standardizing Data across genes\n",
      "\n"
     ]
    },
    {
     "name": "stderr",
     "output_type": "stream",
     "text": [
      "/data/nielsond/python/envs/abcd_mine/lib/python3.6/site-packages/rpy2/robjects/functions.py:106: UserWarning: Found2batches\n",
      "\n",
      "  res = super(Function, self).__call__(*new_args, **new_kwargs)\n",
      "/data/nielsond/python/envs/abcd_mine/lib/python3.6/site-packages/rpy2/robjects/functions.py:106: UserWarning: Adjusting for0covariate(s) or covariate level(s)\n",
      "\n",
      "  res = super(Function, self).__call__(*new_args, **new_kwargs)\n"
     ]
    },
    {
     "name": "stdout",
     "output_type": "stream",
     "text": [
      "Standardizing Data across genes\n",
      "\n",
      "Standardizing Data across genes\n",
      "\n"
     ]
    },
    {
     "name": "stderr",
     "output_type": "stream",
     "text": [
      "/data/nielsond/python/envs/abcd_mine/lib/python3.6/site-packages/rpy2/robjects/functions.py:106: UserWarning: Fitting L/S model and finding priors\n",
      "\n",
      "  res = super(Function, self).__call__(*new_args, **new_kwargs)\n",
      "/data/nielsond/python/envs/abcd_mine/lib/python3.6/site-packages/rpy2/robjects/functions.py:106: UserWarning: Finding nonparametric adjustments\n",
      "\n",
      "  res = super(Function, self).__call__(*new_args, **new_kwargs)\n",
      "/data/nielsond/python/envs/abcd_mine/lib/python3.6/site-packages/rpy2/robjects/functions.py:106: UserWarning: Adjusting the Data\n",
      "\n",
      "\n",
      "  res = super(Function, self).__call__(*new_args, **new_kwargs)\n"
     ]
    },
    {
     "name": "stdout",
     "output_type": "stream",
     "text": [
      "Standardizing Data across genes\n",
      "\n",
      "Standardizing Data across genes\n",
      "\n"
     ]
    },
    {
     "name": "stderr",
     "output_type": "stream",
     "text": [
      "/data/nielsond/python/envs/abcd_mine/lib/python3.6/site-packages/rpy2/robjects/functions.py:106: UserWarning: Found2batches\n",
      "\n",
      "  res = super(Function, self).__call__(*new_args, **new_kwargs)\n",
      "/data/nielsond/python/envs/abcd_mine/lib/python3.6/site-packages/rpy2/robjects/functions.py:106: UserWarning: Adjusting for0covariate(s) or covariate level(s)\n",
      "\n",
      "  res = super(Function, self).__call__(*new_args, **new_kwargs)\n"
     ]
    },
    {
     "name": "stdout",
     "output_type": "stream",
     "text": [
      "Standardizing Data across genes\n",
      "\n"
     ]
    },
    {
     "name": "stderr",
     "output_type": "stream",
     "text": [
      "/data/nielsond/python/envs/abcd_mine/lib/python3.6/site-packages/rpy2/robjects/functions.py:106: UserWarning: Fitting L/S model and finding priors\n",
      "\n",
      "  res = super(Function, self).__call__(*new_args, **new_kwargs)\n",
      "/data/nielsond/python/envs/abcd_mine/lib/python3.6/site-packages/rpy2/robjects/functions.py:106: UserWarning: Finding nonparametric adjustments\n",
      "\n",
      "  res = super(Function, self).__call__(*new_args, **new_kwargs)\n"
     ]
    },
    {
     "name": "stdout",
     "output_type": "stream",
     "text": [
      "Standardizing Data across genes\n",
      "\n"
     ]
    },
    {
     "name": "stderr",
     "output_type": "stream",
     "text": [
      "/data/nielsond/python/envs/abcd_mine/lib/python3.6/site-packages/rpy2/robjects/functions.py:106: UserWarning: Found2batches\n",
      "\n",
      "  res = super(Function, self).__call__(*new_args, **new_kwargs)\n",
      "/data/nielsond/python/envs/abcd_mine/lib/python3.6/site-packages/rpy2/robjects/functions.py:106: UserWarning: Adjusting for0covariate(s) or covariate level(s)\n",
      "\n",
      "  res = super(Function, self).__call__(*new_args, **new_kwargs)\n"
     ]
    },
    {
     "name": "stdout",
     "output_type": "stream",
     "text": [
      "Standardizing Data across genes\n",
      "\n"
     ]
    },
    {
     "name": "stderr",
     "output_type": "stream",
     "text": [
      "/data/nielsond/python/envs/abcd_mine/lib/python3.6/site-packages/rpy2/robjects/functions.py:106: UserWarning: Adjusting the Data\n",
      "\n",
      "\n",
      "  res = super(Function, self).__call__(*new_args, **new_kwargs)\n",
      "/data/nielsond/python/envs/abcd_mine/lib/python3.6/site-packages/rpy2/robjects/functions.py:106: UserWarning: Fitting L/S model and finding priors\n",
      "\n",
      "  res = super(Function, self).__call__(*new_args, **new_kwargs)\n"
     ]
    },
    {
     "name": "stdout",
     "output_type": "stream",
     "text": [
      "Standardizing Data across genes\n",
      "\n",
      "Standardizing Data across genes\n",
      "\n",
      "Standardizing Data across genes\n",
      "\n"
     ]
    },
    {
     "name": "stderr",
     "output_type": "stream",
     "text": [
      "/data/nielsond/python/envs/abcd_mine/lib/python3.6/site-packages/rpy2/robjects/functions.py:106: UserWarning: Found2batches\n",
      "\n",
      "  res = super(Function, self).__call__(*new_args, **new_kwargs)\n",
      "/data/nielsond/python/envs/abcd_mine/lib/python3.6/site-packages/rpy2/robjects/functions.py:106: UserWarning: Adjusting for0covariate(s) or covariate level(s)\n",
      "\n",
      "  res = super(Function, self).__call__(*new_args, **new_kwargs)\n"
     ]
    },
    {
     "name": "stdout",
     "output_type": "stream",
     "text": [
      "Standardizing Data across genes\n",
      "\n"
     ]
    },
    {
     "name": "stderr",
     "output_type": "stream",
     "text": [
      "/data/nielsond/python/envs/abcd_mine/lib/python3.6/site-packages/rpy2/robjects/functions.py:106: UserWarning: Fitting L/S model and finding priors\n",
      "\n",
      "  res = super(Function, self).__call__(*new_args, **new_kwargs)\n",
      "/data/nielsond/python/envs/abcd_mine/lib/python3.6/site-packages/rpy2/robjects/functions.py:106: UserWarning: Finding nonparametric adjustments\n",
      "\n",
      "  res = super(Function, self).__call__(*new_args, **new_kwargs)\n",
      "/data/nielsond/python/envs/abcd_mine/lib/python3.6/site-packages/rpy2/robjects/functions.py:106: UserWarning: Adjusting the Data\n",
      "\n",
      "\n",
      "  res = super(Function, self).__call__(*new_args, **new_kwargs)\n"
     ]
    },
    {
     "name": "stdout",
     "output_type": "stream",
     "text": [
      "Standardizing Data across genes\n",
      "\n",
      "Standardizing Data across genes\n",
      "\n"
     ]
    },
    {
     "name": "stderr",
     "output_type": "stream",
     "text": [
      "/data/nielsond/python/envs/abcd_mine/lib/python3.6/site-packages/rpy2/robjects/functions.py:106: UserWarning: Finding nonparametric adjustments\n",
      "\n",
      "  res = super(Function, self).__call__(*new_args, **new_kwargs)\n",
      "/data/nielsond/python/envs/abcd_mine/lib/python3.6/site-packages/rpy2/robjects/functions.py:106: UserWarning: Found2batches\n",
      "\n",
      "  res = super(Function, self).__call__(*new_args, **new_kwargs)\n",
      "/data/nielsond/python/envs/abcd_mine/lib/python3.6/site-packages/rpy2/robjects/functions.py:106: UserWarning: Adjusting for0covariate(s) or covariate level(s)\n",
      "\n",
      "  res = super(Function, self).__call__(*new_args, **new_kwargs)\n"
     ]
    },
    {
     "name": "stdout",
     "output_type": "stream",
     "text": [
      "Standardizing Data across genes\n",
      "\n"
     ]
    },
    {
     "name": "stderr",
     "output_type": "stream",
     "text": [
      "/data/nielsond/python/envs/abcd_mine/lib/python3.6/site-packages/rpy2/robjects/functions.py:106: UserWarning: Fitting L/S model and finding priors\n",
      "\n",
      "  res = super(Function, self).__call__(*new_args, **new_kwargs)\n",
      "/data/nielsond/python/envs/abcd_mine/lib/python3.6/site-packages/rpy2/robjects/functions.py:106: UserWarning: Finding nonparametric adjustments\n",
      "\n",
      "  res = super(Function, self).__call__(*new_args, **new_kwargs)\n"
     ]
    },
    {
     "name": "stdout",
     "output_type": "stream",
     "text": [
      "Standardizing Data across genes\n",
      "\n"
     ]
    },
    {
     "name": "stderr",
     "output_type": "stream",
     "text": [
      "/data/nielsond/python/envs/abcd_mine/lib/python3.6/site-packages/rpy2/robjects/functions.py:106: UserWarning: Adjusting the Data\n",
      "\n",
      "\n",
      "  res = super(Function, self).__call__(*new_args, **new_kwargs)\n"
     ]
    },
    {
     "name": "stdout",
     "output_type": "stream",
     "text": [
      "Standardizing Data across genes\n",
      "\n",
      "Standardizing Data across genes\n",
      "\n"
     ]
    },
    {
     "name": "stderr",
     "output_type": "stream",
     "text": [
      "/data/nielsond/python/envs/abcd_mine/lib/python3.6/site-packages/rpy2/robjects/functions.py:106: UserWarning: Found2batches\n",
      "\n",
      "  res = super(Function, self).__call__(*new_args, **new_kwargs)\n",
      "/data/nielsond/python/envs/abcd_mine/lib/python3.6/site-packages/rpy2/robjects/functions.py:106: UserWarning: Adjusting for0covariate(s) or covariate level(s)\n",
      "\n",
      "  res = super(Function, self).__call__(*new_args, **new_kwargs)\n"
     ]
    },
    {
     "name": "stdout",
     "output_type": "stream",
     "text": [
      "Standardizing Data across genes\n",
      "\n"
     ]
    },
    {
     "name": "stderr",
     "output_type": "stream",
     "text": [
      "/data/nielsond/python/envs/abcd_mine/lib/python3.6/site-packages/rpy2/robjects/functions.py:106: UserWarning: Adjusting the Data\n",
      "\n",
      "\n",
      "  res = super(Function, self).__call__(*new_args, **new_kwargs)\n",
      "/data/nielsond/python/envs/abcd_mine/lib/python3.6/site-packages/rpy2/robjects/functions.py:106: UserWarning: Fitting L/S model and finding priors\n",
      "\n",
      "  res = super(Function, self).__call__(*new_args, **new_kwargs)\n"
     ]
    },
    {
     "name": "stdout",
     "output_type": "stream",
     "text": [
      "Standardizing Data across genes\n",
      "\n",
      "Standardizing Data across genes\n",
      "\n",
      "Standardizing Data across genes\n",
      "\n"
     ]
    },
    {
     "name": "stderr",
     "output_type": "stream",
     "text": [
      "/data/nielsond/python/envs/abcd_mine/lib/python3.6/site-packages/rpy2/robjects/functions.py:106: UserWarning: Finding nonparametric adjustments\n",
      "\n",
      "  res = super(Function, self).__call__(*new_args, **new_kwargs)\n"
     ]
    },
    {
     "name": "stdout",
     "output_type": "stream",
     "text": [
      "[Parallel(n_jobs=20)]: Done  28 tasks      | elapsed:  6.5min\n"
     ]
    },
    {
     "name": "stderr",
     "output_type": "stream",
     "text": [
      "/data/nielsond/python/envs/abcd_mine/lib/python3.6/site-packages/rpy2/robjects/functions.py:106: UserWarning: Found2batches\n",
      "\n",
      "  res = super(Function, self).__call__(*new_args, **new_kwargs)\n",
      "/data/nielsond/python/envs/abcd_mine/lib/python3.6/site-packages/rpy2/robjects/functions.py:106: UserWarning: Adjusting for0covariate(s) or covariate level(s)\n",
      "\n",
      "  res = super(Function, self).__call__(*new_args, **new_kwargs)\n"
     ]
    },
    {
     "name": "stdout",
     "output_type": "stream",
     "text": [
      "Standardizing Data across genes\n",
      "\n",
      "Standardizing Data across genes\n",
      "\n"
     ]
    },
    {
     "name": "stderr",
     "output_type": "stream",
     "text": [
      "/data/nielsond/python/envs/abcd_mine/lib/python3.6/site-packages/rpy2/robjects/functions.py:106: UserWarning: Fitting L/S model and finding priors\n",
      "\n",
      "  res = super(Function, self).__call__(*new_args, **new_kwargs)\n",
      "/data/nielsond/python/envs/abcd_mine/lib/python3.6/site-packages/rpy2/robjects/functions.py:106: UserWarning: Finding nonparametric adjustments\n",
      "\n",
      "  res = super(Function, self).__call__(*new_args, **new_kwargs)\n"
     ]
    },
    {
     "name": "stdout",
     "output_type": "stream",
     "text": [
      "[Parallel(n_jobs=20)]: Done  29 tasks      | elapsed:  6.6min\n",
      "[Parallel(n_jobs=20)]: Done  30 tasks      | elapsed:  6.6min\n",
      "Standardizing Data across genes\n",
      "\n",
      "Standardizing Data across genes\n",
      "\n",
      "[Parallel(n_jobs=20)]: Done  31 tasks      | elapsed:  6.6min\n",
      "[Parallel(n_jobs=20)]: Done  32 tasks      | elapsed:  6.6min\n"
     ]
    },
    {
     "name": "stderr",
     "output_type": "stream",
     "text": [
      "/data/nielsond/python/envs/abcd_mine/lib/python3.6/site-packages/rpy2/robjects/functions.py:106: UserWarning: Adjusting the Data\n",
      "\n",
      "\n",
      "  res = super(Function, self).__call__(*new_args, **new_kwargs)\n",
      "/data/nielsond/python/envs/abcd_mine/lib/python3.6/site-packages/rpy2/robjects/functions.py:106: UserWarning: Found2batches\n",
      "\n",
      "  res = super(Function, self).__call__(*new_args, **new_kwargs)\n",
      "/data/nielsond/python/envs/abcd_mine/lib/python3.6/site-packages/rpy2/robjects/functions.py:106: UserWarning: Adjusting for0covariate(s) or covariate level(s)\n",
      "\n",
      "  res = super(Function, self).__call__(*new_args, **new_kwargs)\n"
     ]
    },
    {
     "name": "stdout",
     "output_type": "stream",
     "text": [
      "Standardizing Data across genes\n",
      "\n"
     ]
    },
    {
     "name": "stderr",
     "output_type": "stream",
     "text": [
      "/data/nielsond/python/envs/abcd_mine/lib/python3.6/site-packages/rpy2/robjects/functions.py:106: UserWarning: Fitting L/S model and finding priors\n",
      "\n",
      "  res = super(Function, self).__call__(*new_args, **new_kwargs)\n",
      "/data/nielsond/python/envs/abcd_mine/lib/python3.6/site-packages/rpy2/robjects/functions.py:106: UserWarning: Adjusting the Data\n",
      "\n",
      "\n",
      "  res = super(Function, self).__call__(*new_args, **new_kwargs)\n"
     ]
    },
    {
     "name": "stdout",
     "output_type": "stream",
     "text": [
      "Standardizing Data across genes\n",
      "\n"
     ]
    },
    {
     "name": "stderr",
     "output_type": "stream",
     "text": [
      "/data/nielsond/python/envs/abcd_mine/lib/python3.6/site-packages/rpy2/robjects/functions.py:106: UserWarning: Finding nonparametric adjustments\n",
      "\n",
      "  res = super(Function, self).__call__(*new_args, **new_kwargs)\n"
     ]
    },
    {
     "name": "stdout",
     "output_type": "stream",
     "text": [
      "Standardizing Data across genes\n",
      "\n",
      "[Parallel(n_jobs=20)]: Done  33 tasks      | elapsed:  6.7min\n",
      "Standardizing Data across genes\n",
      "\n"
     ]
    },
    {
     "name": "stderr",
     "output_type": "stream",
     "text": [
      "/data/nielsond/python/envs/abcd_mine/lib/python3.6/site-packages/rpy2/robjects/functions.py:106: UserWarning: Found2batches\n",
      "\n",
      "  res = super(Function, self).__call__(*new_args, **new_kwargs)\n",
      "/data/nielsond/python/envs/abcd_mine/lib/python3.6/site-packages/rpy2/robjects/functions.py:106: UserWarning: Adjusting for0covariate(s) or covariate level(s)\n",
      "\n",
      "  res = super(Function, self).__call__(*new_args, **new_kwargs)\n"
     ]
    },
    {
     "name": "stdout",
     "output_type": "stream",
     "text": [
      "Standardizing Data across genes\n",
      "\n"
     ]
    },
    {
     "name": "stderr",
     "output_type": "stream",
     "text": [
      "/data/nielsond/python/envs/abcd_mine/lib/python3.6/site-packages/rpy2/robjects/functions.py:106: UserWarning: Fitting L/S model and finding priors\n",
      "\n",
      "  res = super(Function, self).__call__(*new_args, **new_kwargs)\n",
      "/data/nielsond/python/envs/abcd_mine/lib/python3.6/site-packages/rpy2/robjects/functions.py:106: UserWarning: Finding nonparametric adjustments\n",
      "\n",
      "  res = super(Function, self).__call__(*new_args, **new_kwargs)\n"
     ]
    },
    {
     "name": "stdout",
     "output_type": "stream",
     "text": [
      "Standardizing Data across genes\n",
      "\n"
     ]
    },
    {
     "name": "stderr",
     "output_type": "stream",
     "text": [
      "/data/nielsond/python/envs/abcd_mine/lib/python3.6/site-packages/rpy2/robjects/functions.py:106: UserWarning: Adjusting the Data\n",
      "\n",
      "\n",
      "  res = super(Function, self).__call__(*new_args, **new_kwargs)\n"
     ]
    },
    {
     "name": "stdout",
     "output_type": "stream",
     "text": [
      "[Parallel(n_jobs=20)]: Done  34 tasks      | elapsed:  6.7min\n"
     ]
    },
    {
     "name": "stderr",
     "output_type": "stream",
     "text": [
      "/data/nielsond/python/envs/abcd_mine/lib/python3.6/site-packages/rpy2/robjects/functions.py:106: UserWarning: Adjusting the Data\n",
      "\n",
      "\n",
      "  res = super(Function, self).__call__(*new_args, **new_kwargs)\n"
     ]
    },
    {
     "name": "stdout",
     "output_type": "stream",
     "text": [
      "Standardizing Data across genes\n",
      "\n",
      "Standardizing Data across genes\n",
      "\n"
     ]
    },
    {
     "name": "stderr",
     "output_type": "stream",
     "text": [
      "/data/nielsond/python/envs/abcd_mine/lib/python3.6/site-packages/rpy2/robjects/functions.py:106: UserWarning: Adjusting the Data\n",
      "\n",
      "\n",
      "  res = super(Function, self).__call__(*new_args, **new_kwargs)\n"
     ]
    },
    {
     "name": "stdout",
     "output_type": "stream",
     "text": [
      "Standardizing Data across genes\n",
      "\n",
      "Standardizing Data across genes\n",
      "\n",
      "Standardizing Data across genes\n",
      "\n"
     ]
    },
    {
     "name": "stderr",
     "output_type": "stream",
     "text": [
      "/data/nielsond/python/envs/abcd_mine/lib/python3.6/site-packages/rpy2/robjects/functions.py:106: UserWarning: Adjusting the Data\n",
      "\n",
      "\n",
      "  res = super(Function, self).__call__(*new_args, **new_kwargs)\n",
      "/data/nielsond/python/envs/abcd_mine/lib/python3.6/site-packages/rpy2/robjects/functions.py:106: UserWarning: Found2batches\n",
      "\n",
      "  res = super(Function, self).__call__(*new_args, **new_kwargs)\n",
      "/data/nielsond/python/envs/abcd_mine/lib/python3.6/site-packages/rpy2/robjects/functions.py:106: UserWarning: Adjusting for0covariate(s) or covariate level(s)\n",
      "\n",
      "  res = super(Function, self).__call__(*new_args, **new_kwargs)\n"
     ]
    },
    {
     "name": "stdout",
     "output_type": "stream",
     "text": [
      "Standardizing Data across genes\n",
      "\n",
      "Standardizing Data across genes\n",
      "\n"
     ]
    },
    {
     "name": "stderr",
     "output_type": "stream",
     "text": [
      "/data/nielsond/python/envs/abcd_mine/lib/python3.6/site-packages/rpy2/robjects/functions.py:106: UserWarning: Fitting L/S model and finding priors\n",
      "\n",
      "  res = super(Function, self).__call__(*new_args, **new_kwargs)\n",
      "/data/nielsond/python/envs/abcd_mine/lib/python3.6/site-packages/rpy2/robjects/functions.py:106: UserWarning: Finding nonparametric adjustments\n",
      "\n",
      "  res = super(Function, self).__call__(*new_args, **new_kwargs)\n",
      "/data/nielsond/python/envs/abcd_mine/lib/python3.6/site-packages/rpy2/robjects/functions.py:106: UserWarning: Adjusting the Data\n",
      "\n",
      "\n",
      "  res = super(Function, self).__call__(*new_args, **new_kwargs)\n"
     ]
    },
    {
     "name": "stdout",
     "output_type": "stream",
     "text": [
      "Standardizing Data across genes\n",
      "\n",
      "Standardizing Data across genes\n",
      "\n",
      "Standardizing Data across genes\n",
      "\n",
      "[Parallel(n_jobs=20)]: Done  35 tasks      | elapsed:  6.9min\n",
      "Standardizing Data across genes\n",
      "\n"
     ]
    },
    {
     "name": "stderr",
     "output_type": "stream",
     "text": [
      "/data/nielsond/python/envs/abcd_mine/lib/python3.6/site-packages/rpy2/robjects/functions.py:106: UserWarning: Found2batches\n",
      "\n",
      "  res = super(Function, self).__call__(*new_args, **new_kwargs)\n",
      "/data/nielsond/python/envs/abcd_mine/lib/python3.6/site-packages/rpy2/robjects/functions.py:106: UserWarning: Adjusting for0covariate(s) or covariate level(s)\n",
      "\n",
      "  res = super(Function, self).__call__(*new_args, **new_kwargs)\n"
     ]
    },
    {
     "name": "stdout",
     "output_type": "stream",
     "text": [
      "Standardizing Data across genes\n",
      "\n"
     ]
    },
    {
     "name": "stderr",
     "output_type": "stream",
     "text": [
      "/data/nielsond/python/envs/abcd_mine/lib/python3.6/site-packages/rpy2/robjects/functions.py:106: UserWarning: Fitting L/S model and finding priors\n",
      "\n",
      "  res = super(Function, self).__call__(*new_args, **new_kwargs)\n",
      "/data/nielsond/python/envs/abcd_mine/lib/python3.6/site-packages/rpy2/robjects/functions.py:106: UserWarning: Finding nonparametric adjustments\n",
      "\n",
      "  res = super(Function, self).__call__(*new_args, **new_kwargs)\n"
     ]
    },
    {
     "name": "stdout",
     "output_type": "stream",
     "text": [
      "Standardizing Data across genes\n",
      "\n",
      "Standardizing Data across genes\n",
      "\n",
      "Standardizing Data across genes\n",
      "\n",
      "Standardizing Data across genes\n",
      "\n"
     ]
    },
    {
     "name": "stderr",
     "output_type": "stream",
     "text": [
      "/data/nielsond/python/envs/abcd_mine/lib/python3.6/site-packages/rpy2/robjects/functions.py:106: UserWarning: Found2batches\n",
      "\n",
      "  res = super(Function, self).__call__(*new_args, **new_kwargs)\n",
      "/data/nielsond/python/envs/abcd_mine/lib/python3.6/site-packages/rpy2/robjects/functions.py:106: UserWarning: Adjusting for0covariate(s) or covariate level(s)\n",
      "\n",
      "  res = super(Function, self).__call__(*new_args, **new_kwargs)\n"
     ]
    },
    {
     "name": "stdout",
     "output_type": "stream",
     "text": [
      "Standardizing Data across genes\n",
      "\n"
     ]
    },
    {
     "name": "stderr",
     "output_type": "stream",
     "text": [
      "/data/nielsond/python/envs/abcd_mine/lib/python3.6/site-packages/rpy2/robjects/functions.py:106: UserWarning: Fitting L/S model and finding priors\n",
      "\n",
      "  res = super(Function, self).__call__(*new_args, **new_kwargs)\n",
      "/data/nielsond/python/envs/abcd_mine/lib/python3.6/site-packages/rpy2/robjects/functions.py:106: UserWarning: Finding nonparametric adjustments\n",
      "\n",
      "  res = super(Function, self).__call__(*new_args, **new_kwargs)\n"
     ]
    },
    {
     "name": "stdout",
     "output_type": "stream",
     "text": [
      "Standardizing Data across genes\n",
      "\n",
      "Standardizing Data across genes\n",
      "\n",
      "Standardizing Data across genes\n",
      "\n"
     ]
    },
    {
     "name": "stderr",
     "output_type": "stream",
     "text": [
      "/data/nielsond/python/envs/abcd_mine/lib/python3.6/site-packages/rpy2/robjects/functions.py:106: UserWarning: Found2batches\n",
      "\n",
      "  res = super(Function, self).__call__(*new_args, **new_kwargs)\n",
      "/data/nielsond/python/envs/abcd_mine/lib/python3.6/site-packages/rpy2/robjects/functions.py:106: UserWarning: Adjusting for0covariate(s) or covariate level(s)\n",
      "\n",
      "  res = super(Function, self).__call__(*new_args, **new_kwargs)\n"
     ]
    },
    {
     "name": "stdout",
     "output_type": "stream",
     "text": [
      "Standardizing Data across genes\n",
      "\n"
     ]
    },
    {
     "name": "stderr",
     "output_type": "stream",
     "text": [
      "/data/nielsond/python/envs/abcd_mine/lib/python3.6/site-packages/rpy2/robjects/functions.py:106: UserWarning: Fitting L/S model and finding priors\n",
      "\n",
      "  res = super(Function, self).__call__(*new_args, **new_kwargs)\n",
      "/data/nielsond/python/envs/abcd_mine/lib/python3.6/site-packages/rpy2/robjects/functions.py:106: UserWarning: Finding nonparametric adjustments\n",
      "\n",
      "  res = super(Function, self).__call__(*new_args, **new_kwargs)\n"
     ]
    },
    {
     "name": "stdout",
     "output_type": "stream",
     "text": [
      "[Parallel(n_jobs=20)]: Done  36 tasks      | elapsed:  7.1min\n",
      "Standardizing Data across genes\n",
      "\n",
      "[Parallel(n_jobs=20)]: Done  37 tasks      | elapsed:  7.1min\n"
     ]
    },
    {
     "name": "stderr",
     "output_type": "stream",
     "text": [
      "/data/nielsond/python/envs/abcd_mine/lib/python3.6/site-packages/rpy2/robjects/functions.py:106: UserWarning: Found2batches\n",
      "\n",
      "  res = super(Function, self).__call__(*new_args, **new_kwargs)\n",
      "/data/nielsond/python/envs/abcd_mine/lib/python3.6/site-packages/rpy2/robjects/functions.py:106: UserWarning: Adjusting for0covariate(s) or covariate level(s)\n",
      "\n",
      "  res = super(Function, self).__call__(*new_args, **new_kwargs)\n"
     ]
    },
    {
     "name": "stdout",
     "output_type": "stream",
     "text": [
      "Standardizing Data across genes\n",
      "\n",
      "Standardizing Data across genes\n",
      "\n"
     ]
    },
    {
     "name": "stderr",
     "output_type": "stream",
     "text": [
      "/data/nielsond/python/envs/abcd_mine/lib/python3.6/site-packages/rpy2/robjects/functions.py:106: UserWarning: Fitting L/S model and finding priors\n",
      "\n",
      "  res = super(Function, self).__call__(*new_args, **new_kwargs)\n",
      "/data/nielsond/python/envs/abcd_mine/lib/python3.6/site-packages/rpy2/robjects/functions.py:106: UserWarning: Finding nonparametric adjustments\n",
      "\n",
      "  res = super(Function, self).__call__(*new_args, **new_kwargs)\n",
      "/data/nielsond/python/envs/abcd_mine/lib/python3.6/site-packages/rpy2/robjects/functions.py:106: UserWarning: Adjusting the Data\n",
      "\n",
      "\n",
      "  res = super(Function, self).__call__(*new_args, **new_kwargs)\n"
     ]
    },
    {
     "name": "stdout",
     "output_type": "stream",
     "text": [
      "Standardizing Data across genes\n",
      "\n"
     ]
    },
    {
     "name": "stderr",
     "output_type": "stream",
     "text": [
      "/data/nielsond/python/envs/abcd_mine/lib/python3.6/site-packages/rpy2/robjects/functions.py:106: UserWarning: Found2batches\n",
      "\n",
      "  res = super(Function, self).__call__(*new_args, **new_kwargs)\n",
      "/data/nielsond/python/envs/abcd_mine/lib/python3.6/site-packages/rpy2/robjects/functions.py:106: UserWarning: Adjusting for0covariate(s) or covariate level(s)\n",
      "\n",
      "  res = super(Function, self).__call__(*new_args, **new_kwargs)\n"
     ]
    },
    {
     "name": "stdout",
     "output_type": "stream",
     "text": [
      "Standardizing Data across genes\n",
      "\n"
     ]
    },
    {
     "name": "stderr",
     "output_type": "stream",
     "text": [
      "/data/nielsond/python/envs/abcd_mine/lib/python3.6/site-packages/rpy2/robjects/functions.py:106: UserWarning: Fitting L/S model and finding priors\n",
      "\n",
      "  res = super(Function, self).__call__(*new_args, **new_kwargs)\n",
      "/data/nielsond/python/envs/abcd_mine/lib/python3.6/site-packages/rpy2/robjects/functions.py:106: UserWarning: Finding nonparametric adjustments\n",
      "\n",
      "  res = super(Function, self).__call__(*new_args, **new_kwargs)\n",
      "/data/nielsond/python/envs/abcd_mine/lib/python3.6/site-packages/rpy2/robjects/functions.py:106: UserWarning: Adjusting the Data\n",
      "\n",
      "\n",
      "  res = super(Function, self).__call__(*new_args, **new_kwargs)\n",
      "/data/nielsond/python/envs/abcd_mine/lib/python3.6/site-packages/rpy2/robjects/functions.py:106: UserWarning: Adjusting the Data\n",
      "\n",
      "\n",
      "  res = super(Function, self).__call__(*new_args, **new_kwargs)\n"
     ]
    },
    {
     "name": "stdout",
     "output_type": "stream",
     "text": [
      "Standardizing Data across genes\n",
      "\n",
      "Standardizing Data across genes\n",
      "\n",
      "Standardizing Data across genes\n",
      "\n",
      "Standardizing Data across genes\n",
      "\n"
     ]
    },
    {
     "name": "stderr",
     "output_type": "stream",
     "text": [
      "/data/nielsond/python/envs/abcd_mine/lib/python3.6/site-packages/rpy2/robjects/functions.py:106: UserWarning: Found2batches\n",
      "\n",
      "  res = super(Function, self).__call__(*new_args, **new_kwargs)\n",
      "/data/nielsond/python/envs/abcd_mine/lib/python3.6/site-packages/rpy2/robjects/functions.py:106: UserWarning: Adjusting for0covariate(s) or covariate level(s)\n",
      "\n",
      "  res = super(Function, self).__call__(*new_args, **new_kwargs)\n"
     ]
    },
    {
     "name": "stdout",
     "output_type": "stream",
     "text": [
      "Standardizing Data across genes\n",
      "\n"
     ]
    },
    {
     "name": "stderr",
     "output_type": "stream",
     "text": [
      "/data/nielsond/python/envs/abcd_mine/lib/python3.6/site-packages/rpy2/robjects/functions.py:106: UserWarning: Fitting L/S model and finding priors\n",
      "\n",
      "  res = super(Function, self).__call__(*new_args, **new_kwargs)\n",
      "/data/nielsond/python/envs/abcd_mine/lib/python3.6/site-packages/rpy2/robjects/functions.py:106: UserWarning: Finding nonparametric adjustments\n",
      "\n",
      "  res = super(Function, self).__call__(*new_args, **new_kwargs)\n"
     ]
    },
    {
     "name": "stdout",
     "output_type": "stream",
     "text": [
      "[Parallel(n_jobs=20)]: Done  38 tasks      | elapsed:  7.2min\n"
     ]
    },
    {
     "name": "stderr",
     "output_type": "stream",
     "text": [
      "/data/nielsond/python/envs/abcd_mine/lib/python3.6/site-packages/rpy2/robjects/functions.py:106: UserWarning: Adjusting the Data\n",
      "\n",
      "\n",
      "  res = super(Function, self).__call__(*new_args, **new_kwargs)\n"
     ]
    },
    {
     "name": "stdout",
     "output_type": "stream",
     "text": [
      "[Parallel(n_jobs=20)]: Done  39 tasks      | elapsed:  7.3min\n",
      "Standardizing Data across genes\n",
      "\n",
      "Standardizing Data across genes\n",
      "\n"
     ]
    },
    {
     "name": "stderr",
     "output_type": "stream",
     "text": [
      "/data/nielsond/python/envs/abcd_mine/lib/python3.6/site-packages/rpy2/robjects/functions.py:106: UserWarning: Found2batches\n",
      "\n",
      "  res = super(Function, self).__call__(*new_args, **new_kwargs)\n",
      "/data/nielsond/python/envs/abcd_mine/lib/python3.6/site-packages/rpy2/robjects/functions.py:106: UserWarning: Adjusting for0covariate(s) or covariate level(s)\n",
      "\n",
      "  res = super(Function, self).__call__(*new_args, **new_kwargs)\n"
     ]
    },
    {
     "name": "stdout",
     "output_type": "stream",
     "text": [
      "Standardizing Data across genes\n",
      "\n"
     ]
    },
    {
     "name": "stderr",
     "output_type": "stream",
     "text": [
      "/data/nielsond/python/envs/abcd_mine/lib/python3.6/site-packages/rpy2/robjects/functions.py:106: UserWarning: Fitting L/S model and finding priors\n",
      "\n",
      "  res = super(Function, self).__call__(*new_args, **new_kwargs)\n",
      "/data/nielsond/python/envs/abcd_mine/lib/python3.6/site-packages/rpy2/robjects/functions.py:106: UserWarning: Finding nonparametric adjustments\n",
      "\n",
      "  res = super(Function, self).__call__(*new_args, **new_kwargs)\n"
     ]
    },
    {
     "name": "stdout",
     "output_type": "stream",
     "text": [
      "[Parallel(n_jobs=20)]: Done  40 tasks      | elapsed:  7.3min\n"
     ]
    },
    {
     "name": "stderr",
     "output_type": "stream",
     "text": [
      "/data/nielsond/python/envs/abcd_mine/lib/python3.6/site-packages/rpy2/robjects/functions.py:106: UserWarning: Adjusting the Data\n",
      "\n",
      "\n",
      "  res = super(Function, self).__call__(*new_args, **new_kwargs)\n",
      "/data/nielsond/python/envs/abcd_mine/lib/python3.6/site-packages/rpy2/robjects/functions.py:106: UserWarning: Found2batches\n",
      "\n",
      "  res = super(Function, self).__call__(*new_args, **new_kwargs)\n",
      "/data/nielsond/python/envs/abcd_mine/lib/python3.6/site-packages/rpy2/robjects/functions.py:106: UserWarning: Adjusting for0covariate(s) or covariate level(s)\n",
      "\n",
      "  res = super(Function, self).__call__(*new_args, **new_kwargs)\n"
     ]
    },
    {
     "name": "stdout",
     "output_type": "stream",
     "text": [
      "Standardizing Data across genes\n",
      "\n"
     ]
    },
    {
     "name": "stderr",
     "output_type": "stream",
     "text": [
      "/data/nielsond/python/envs/abcd_mine/lib/python3.6/site-packages/rpy2/robjects/functions.py:106: UserWarning: Fitting L/S model and finding priors\n",
      "\n",
      "  res = super(Function, self).__call__(*new_args, **new_kwargs)\n"
     ]
    },
    {
     "name": "stdout",
     "output_type": "stream",
     "text": [
      "Standardizing Data across genes\n",
      "\n"
     ]
    },
    {
     "name": "stderr",
     "output_type": "stream",
     "text": [
      "/data/nielsond/python/envs/abcd_mine/lib/python3.6/site-packages/rpy2/robjects/functions.py:106: UserWarning: Finding nonparametric adjustments\n",
      "\n",
      "  res = super(Function, self).__call__(*new_args, **new_kwargs)\n"
     ]
    },
    {
     "name": "stdout",
     "output_type": "stream",
     "text": [
      "Standardizing Data across genes\n",
      "\n",
      "[Parallel(n_jobs=20)]: Done  41 tasks      | elapsed:  7.4min\n"
     ]
    },
    {
     "name": "stderr",
     "output_type": "stream",
     "text": [
      "/data/nielsond/python/envs/abcd_mine/lib/python3.6/site-packages/rpy2/robjects/functions.py:106: UserWarning: Adjusting the Data\n",
      "\n",
      "\n",
      "  res = super(Function, self).__call__(*new_args, **new_kwargs)\n",
      "/data/nielsond/python/envs/abcd_mine/lib/python3.6/site-packages/rpy2/robjects/functions.py:106: UserWarning: Found2batches\n",
      "\n",
      "  res = super(Function, self).__call__(*new_args, **new_kwargs)\n",
      "/data/nielsond/python/envs/abcd_mine/lib/python3.6/site-packages/rpy2/robjects/functions.py:106: UserWarning: Adjusting for0covariate(s) or covariate level(s)\n",
      "\n",
      "  res = super(Function, self).__call__(*new_args, **new_kwargs)\n"
     ]
    },
    {
     "name": "stdout",
     "output_type": "stream",
     "text": [
      "Standardizing Data across genes\n",
      "\n"
     ]
    },
    {
     "name": "stderr",
     "output_type": "stream",
     "text": [
      "/data/nielsond/python/envs/abcd_mine/lib/python3.6/site-packages/rpy2/robjects/functions.py:106: UserWarning: Fitting L/S model and finding priors\n",
      "\n",
      "  res = super(Function, self).__call__(*new_args, **new_kwargs)\n",
      "/data/nielsond/python/envs/abcd_mine/lib/python3.6/site-packages/rpy2/robjects/functions.py:106: UserWarning: Finding nonparametric adjustments\n",
      "\n",
      "  res = super(Function, self).__call__(*new_args, **new_kwargs)\n"
     ]
    },
    {
     "name": "stdout",
     "output_type": "stream",
     "text": [
      "Standardizing Data across genes\n",
      "\n",
      "[Parallel(n_jobs=20)]: Done  42 tasks      | elapsed:  7.4min\n",
      "Standardizing Data across genes\n",
      "\n",
      "Standardizing Data across genes\n",
      "\n",
      "Standardizing Data across genes\n"
     ]
    },
    {
     "name": "stderr",
     "output_type": "stream",
     "text": [
      "/data/nielsond/python/envs/abcd_mine/lib/python3.6/site-packages/rpy2/robjects/functions.py:106: UserWarning: Found2batches\n",
      "\n",
      "  res = super(Function, self).__call__(*new_args, **new_kwargs)\n",
      "/data/nielsond/python/envs/abcd_mine/lib/python3.6/site-packages/rpy2/robjects/functions.py:106: UserWarning: Adjusting for0covariate(s) or covariate level(s)\n",
      "\n",
      "  res = super(Function, self).__call__(*new_args, **new_kwargs)\n"
     ]
    },
    {
     "name": "stdout",
     "output_type": "stream",
     "text": [
      "\n",
      "Standardizing Data across genes\n",
      "\n"
     ]
    },
    {
     "name": "stderr",
     "output_type": "stream",
     "text": [
      "/data/nielsond/python/envs/abcd_mine/lib/python3.6/site-packages/rpy2/robjects/functions.py:106: UserWarning: Fitting L/S model and finding priors\n",
      "\n",
      "  res = super(Function, self).__call__(*new_args, **new_kwargs)\n"
     ]
    },
    {
     "name": "stdout",
     "output_type": "stream",
     "text": [
      "[Parallel(n_jobs=20)]: Done  43 tasks      | elapsed:  7.4min\n"
     ]
    },
    {
     "name": "stderr",
     "output_type": "stream",
     "text": [
      "/data/nielsond/python/envs/abcd_mine/lib/python3.6/site-packages/rpy2/robjects/functions.py:106: UserWarning: Finding nonparametric adjustments\n",
      "\n",
      "  res = super(Function, self).__call__(*new_args, **new_kwargs)\n"
     ]
    },
    {
     "name": "stdout",
     "output_type": "stream",
     "text": [
      "Standardizing Data across genes\n",
      "\n",
      "Standardizing Data across genes\n",
      "\n"
     ]
    },
    {
     "name": "stderr",
     "output_type": "stream",
     "text": [
      "/data/nielsond/python/envs/abcd_mine/lib/python3.6/site-packages/rpy2/robjects/functions.py:106: UserWarning: Found2batches\n",
      "\n",
      "  res = super(Function, self).__call__(*new_args, **new_kwargs)\n",
      "/data/nielsond/python/envs/abcd_mine/lib/python3.6/site-packages/rpy2/robjects/functions.py:106: UserWarning: Adjusting for0covariate(s) or covariate level(s)\n",
      "\n",
      "  res = super(Function, self).__call__(*new_args, **new_kwargs)\n"
     ]
    },
    {
     "name": "stdout",
     "output_type": "stream",
     "text": [
      "Standardizing Data across genes\n",
      "\n"
     ]
    },
    {
     "name": "stderr",
     "output_type": "stream",
     "text": [
      "/data/nielsond/python/envs/abcd_mine/lib/python3.6/site-packages/rpy2/robjects/functions.py:106: UserWarning: Fitting L/S model and finding priors\n",
      "\n",
      "  res = super(Function, self).__call__(*new_args, **new_kwargs)\n",
      "/data/nielsond/python/envs/abcd_mine/lib/python3.6/site-packages/rpy2/robjects/functions.py:106: UserWarning: Finding nonparametric adjustments\n",
      "\n",
      "  res = super(Function, self).__call__(*new_args, **new_kwargs)\n"
     ]
    },
    {
     "name": "stdout",
     "output_type": "stream",
     "text": [
      "[Parallel(n_jobs=20)]: Done  44 tasks      | elapsed:  7.5min\n",
      "Standardizing Data across genes\n",
      "\n",
      "Standardizing Data across genes\n",
      "\n"
     ]
    },
    {
     "name": "stderr",
     "output_type": "stream",
     "text": [
      "/data/nielsond/python/envs/abcd_mine/lib/python3.6/site-packages/rpy2/robjects/functions.py:106: UserWarning: Found2batches\n",
      "\n",
      "  res = super(Function, self).__call__(*new_args, **new_kwargs)\n",
      "/data/nielsond/python/envs/abcd_mine/lib/python3.6/site-packages/rpy2/robjects/functions.py:106: UserWarning: Adjusting for0covariate(s) or covariate level(s)\n",
      "\n",
      "  res = super(Function, self).__call__(*new_args, **new_kwargs)\n"
     ]
    },
    {
     "name": "stdout",
     "output_type": "stream",
     "text": [
      "Standardizing Data across genes\n",
      "\n"
     ]
    },
    {
     "name": "stderr",
     "output_type": "stream",
     "text": [
      "/data/nielsond/python/envs/abcd_mine/lib/python3.6/site-packages/rpy2/robjects/functions.py:106: UserWarning: Fitting L/S model and finding priors\n",
      "\n",
      "  res = super(Function, self).__call__(*new_args, **new_kwargs)\n",
      "/data/nielsond/python/envs/abcd_mine/lib/python3.6/site-packages/rpy2/robjects/functions.py:106: UserWarning: Finding nonparametric adjustments\n",
      "\n",
      "  res = super(Function, self).__call__(*new_args, **new_kwargs)\n",
      "/data/nielsond/python/envs/abcd_mine/lib/python3.6/site-packages/rpy2/robjects/functions.py:106: UserWarning: Adjusting the Data\n",
      "\n",
      "\n",
      "  res = super(Function, self).__call__(*new_args, **new_kwargs)\n"
     ]
    },
    {
     "name": "stdout",
     "output_type": "stream",
     "text": [
      "Standardizing Data across genes\n",
      "\n"
     ]
    },
    {
     "name": "stderr",
     "output_type": "stream",
     "text": [
      "/data/nielsond/python/envs/abcd_mine/lib/python3.6/site-packages/rpy2/robjects/functions.py:106: UserWarning: Found2batches\n",
      "\n",
      "  res = super(Function, self).__call__(*new_args, **new_kwargs)\n",
      "/data/nielsond/python/envs/abcd_mine/lib/python3.6/site-packages/rpy2/robjects/functions.py:106: UserWarning: Adjusting for0covariate(s) or covariate level(s)\n",
      "\n",
      "  res = super(Function, self).__call__(*new_args, **new_kwargs)\n"
     ]
    },
    {
     "name": "stdout",
     "output_type": "stream",
     "text": [
      "Standardizing Data across genes\n",
      "\n"
     ]
    },
    {
     "name": "stderr",
     "output_type": "stream",
     "text": [
      "/data/nielsond/python/envs/abcd_mine/lib/python3.6/site-packages/rpy2/robjects/functions.py:106: UserWarning: Fitting L/S model and finding priors\n",
      "\n",
      "  res = super(Function, self).__call__(*new_args, **new_kwargs)\n",
      "/data/nielsond/python/envs/abcd_mine/lib/python3.6/site-packages/rpy2/robjects/functions.py:106: UserWarning: Adjusting the Data\n",
      "\n",
      "\n",
      "  res = super(Function, self).__call__(*new_args, **new_kwargs)\n",
      "/data/nielsond/python/envs/abcd_mine/lib/python3.6/site-packages/rpy2/robjects/functions.py:106: UserWarning: Finding nonparametric adjustments\n",
      "\n",
      "  res = super(Function, self).__call__(*new_args, **new_kwargs)\n"
     ]
    },
    {
     "name": "stdout",
     "output_type": "stream",
     "text": [
      "Standardizing Data across genes\n",
      "\n",
      "Standardizing Data across genes\n",
      "\n",
      "Standardizing Data across genes\n",
      "\n"
     ]
    },
    {
     "name": "stderr",
     "output_type": "stream",
     "text": [
      "/data/nielsond/python/envs/abcd_mine/lib/python3.6/site-packages/rpy2/robjects/functions.py:106: UserWarning: Adjusting the Data\n",
      "\n",
      "\n",
      "  res = super(Function, self).__call__(*new_args, **new_kwargs)\n"
     ]
    },
    {
     "name": "stdout",
     "output_type": "stream",
     "text": [
      "[Parallel(n_jobs=20)]: Done  45 tasks      | elapsed:  7.6min\n",
      "Standardizing Data across genes\n",
      "\n"
     ]
    },
    {
     "name": "stderr",
     "output_type": "stream",
     "text": [
      "/data/nielsond/python/envs/abcd_mine/lib/python3.6/site-packages/rpy2/robjects/functions.py:106: UserWarning: Adjusting the Data\n",
      "\n",
      "\n",
      "  res = super(Function, self).__call__(*new_args, **new_kwargs)\n"
     ]
    },
    {
     "name": "stdout",
     "output_type": "stream",
     "text": [
      "Standardizing Data across genes\n",
      "\n"
     ]
    },
    {
     "name": "stderr",
     "output_type": "stream",
     "text": [
      "/data/nielsond/python/envs/abcd_mine/lib/python3.6/site-packages/rpy2/robjects/functions.py:106: UserWarning: Found2batches\n",
      "\n",
      "  res = super(Function, self).__call__(*new_args, **new_kwargs)\n",
      "/data/nielsond/python/envs/abcd_mine/lib/python3.6/site-packages/rpy2/robjects/functions.py:106: UserWarning: Adjusting for0covariate(s) or covariate level(s)\n",
      "\n",
      "  res = super(Function, self).__call__(*new_args, **new_kwargs)\n"
     ]
    },
    {
     "name": "stdout",
     "output_type": "stream",
     "text": [
      "Standardizing Data across genes\n",
      "\n"
     ]
    },
    {
     "name": "stderr",
     "output_type": "stream",
     "text": [
      "/data/nielsond/python/envs/abcd_mine/lib/python3.6/site-packages/rpy2/robjects/functions.py:106: UserWarning: Fitting L/S model and finding priors\n",
      "\n",
      "  res = super(Function, self).__call__(*new_args, **new_kwargs)\n",
      "/data/nielsond/python/envs/abcd_mine/lib/python3.6/site-packages/rpy2/robjects/functions.py:106: UserWarning: Adjusting the Data\n",
      "\n",
      "\n",
      "  res = super(Function, self).__call__(*new_args, **new_kwargs)\n",
      "/data/nielsond/python/envs/abcd_mine/lib/python3.6/site-packages/rpy2/robjects/functions.py:106: UserWarning: Finding nonparametric adjustments\n",
      "\n",
      "  res = super(Function, self).__call__(*new_args, **new_kwargs)\n"
     ]
    },
    {
     "name": "stdout",
     "output_type": "stream",
     "text": [
      "Standardizing Data across genes\n",
      "Standardizing Data across genes\n",
      "\n",
      "\n",
      "Standardizing Data across genes\n",
      "\n",
      "[Parallel(n_jobs=20)]: Done  46 tasks      | elapsed:  7.7min\n",
      "[Parallel(n_jobs=20)]: Done  47 tasks      | elapsed:  7.7min\n"
     ]
    },
    {
     "name": "stderr",
     "output_type": "stream",
     "text": [
      "/data/nielsond/python/envs/abcd_mine/lib/python3.6/site-packages/rpy2/robjects/functions.py:106: UserWarning: Adjusting the Data\n",
      "\n",
      "\n",
      "  res = super(Function, self).__call__(*new_args, **new_kwargs)\n"
     ]
    },
    {
     "name": "stdout",
     "output_type": "stream",
     "text": [
      "Standardizing Data across genes\n",
      "\n",
      "Standardizing Data across genes\n",
      "\n"
     ]
    },
    {
     "name": "stderr",
     "output_type": "stream",
     "text": [
      "/data/nielsond/python/envs/abcd_mine/lib/python3.6/site-packages/rpy2/robjects/functions.py:106: UserWarning: Found2batches\n",
      "\n",
      "  res = super(Function, self).__call__(*new_args, **new_kwargs)\n",
      "/data/nielsond/python/envs/abcd_mine/lib/python3.6/site-packages/rpy2/robjects/functions.py:106: UserWarning: Adjusting for0covariate(s) or covariate level(s)\n",
      "\n",
      "  res = super(Function, self).__call__(*new_args, **new_kwargs)\n"
     ]
    },
    {
     "name": "stdout",
     "output_type": "stream",
     "text": [
      "Standardizing Data across genes\n",
      "\n",
      "Standardizing Data across genes\n",
      "\n"
     ]
    },
    {
     "name": "stderr",
     "output_type": "stream",
     "text": [
      "/data/nielsond/python/envs/abcd_mine/lib/python3.6/site-packages/rpy2/robjects/functions.py:106: UserWarning: Fitting L/S model and finding priors\n",
      "\n",
      "  res = super(Function, self).__call__(*new_args, **new_kwargs)\n"
     ]
    },
    {
     "name": "stdout",
     "output_type": "stream",
     "text": [
      "Standardizing Data across genes\n",
      "\n"
     ]
    },
    {
     "name": "stderr",
     "output_type": "stream",
     "text": [
      "/data/nielsond/python/envs/abcd_mine/lib/python3.6/site-packages/rpy2/robjects/functions.py:106: UserWarning: Finding nonparametric adjustments\n",
      "\n",
      "  res = super(Function, self).__call__(*new_args, **new_kwargs)\n"
     ]
    },
    {
     "name": "stdout",
     "output_type": "stream",
     "text": [
      "Standardizing Data across genes\n",
      "\n"
     ]
    },
    {
     "name": "stderr",
     "output_type": "stream",
     "text": [
      "/data/nielsond/python/envs/abcd_mine/lib/python3.6/site-packages/rpy2/robjects/functions.py:106: UserWarning: Found2batches\n",
      "\n",
      "  res = super(Function, self).__call__(*new_args, **new_kwargs)\n",
      "/data/nielsond/python/envs/abcd_mine/lib/python3.6/site-packages/rpy2/robjects/functions.py:106: UserWarning: Adjusting for0covariate(s) or covariate level(s)\n",
      "\n",
      "  res = super(Function, self).__call__(*new_args, **new_kwargs)\n"
     ]
    },
    {
     "name": "stdout",
     "output_type": "stream",
     "text": [
      "Standardizing Data across genes\n",
      "\n"
     ]
    },
    {
     "name": "stderr",
     "output_type": "stream",
     "text": [
      "/data/nielsond/python/envs/abcd_mine/lib/python3.6/site-packages/rpy2/robjects/functions.py:106: UserWarning: Fitting L/S model and finding priors\n",
      "\n",
      "  res = super(Function, self).__call__(*new_args, **new_kwargs)\n",
      "/data/nielsond/python/envs/abcd_mine/lib/python3.6/site-packages/rpy2/robjects/functions.py:106: UserWarning: Finding nonparametric adjustments\n",
      "\n",
      "  res = super(Function, self).__call__(*new_args, **new_kwargs)\n"
     ]
    },
    {
     "name": "stdout",
     "output_type": "stream",
     "text": [
      "[Parallel(n_jobs=20)]: Done  48 tasks      | elapsed:  7.9min\n",
      "Standardizing Data across genes\n",
      "\n"
     ]
    },
    {
     "name": "stderr",
     "output_type": "stream",
     "text": [
      "/data/nielsond/python/envs/abcd_mine/lib/python3.6/site-packages/rpy2/robjects/functions.py:106: UserWarning: Adjusting the Data\n",
      "\n",
      "\n",
      "  res = super(Function, self).__call__(*new_args, **new_kwargs)\n",
      "/data/nielsond/python/envs/abcd_mine/lib/python3.6/site-packages/rpy2/robjects/functions.py:106: UserWarning: Adjusting the Data\n",
      "\n",
      "\n",
      "  res = super(Function, self).__call__(*new_args, **new_kwargs)\n"
     ]
    },
    {
     "name": "stdout",
     "output_type": "stream",
     "text": [
      "Standardizing Data across genes\n",
      "\n",
      "Standardizing Data across genes\n",
      "\n",
      "Standardizing Data across genes\n",
      "\n",
      "[Parallel(n_jobs=20)]: Done  49 tasks      | elapsed:  7.9min\n",
      "Standardizing Data across genes\n",
      "\n",
      "Standardizing Data across genes\n",
      "\n"
     ]
    },
    {
     "name": "stderr",
     "output_type": "stream",
     "text": [
      "/data/nielsond/python/envs/abcd_mine/lib/python3.6/site-packages/rpy2/robjects/functions.py:106: UserWarning: Found2batches\n",
      "\n",
      "  res = super(Function, self).__call__(*new_args, **new_kwargs)\n",
      "/data/nielsond/python/envs/abcd_mine/lib/python3.6/site-packages/rpy2/robjects/functions.py:106: UserWarning: Adjusting for0covariate(s) or covariate level(s)\n",
      "\n",
      "  res = super(Function, self).__call__(*new_args, **new_kwargs)\n"
     ]
    },
    {
     "name": "stdout",
     "output_type": "stream",
     "text": [
      "Standardizing Data across genes\n",
      "\n"
     ]
    },
    {
     "name": "stderr",
     "output_type": "stream",
     "text": [
      "/data/nielsond/python/envs/abcd_mine/lib/python3.6/site-packages/rpy2/robjects/functions.py:106: UserWarning: Fitting L/S model and finding priors\n",
      "\n",
      "  res = super(Function, self).__call__(*new_args, **new_kwargs)\n",
      "/data/nielsond/python/envs/abcd_mine/lib/python3.6/site-packages/rpy2/robjects/functions.py:106: UserWarning: Finding nonparametric adjustments\n",
      "\n",
      "  res = super(Function, self).__call__(*new_args, **new_kwargs)\n"
     ]
    },
    {
     "name": "stdout",
     "output_type": "stream",
     "text": [
      "Standardizing Data across genes\n",
      "\n",
      "[Parallel(n_jobs=20)]: Done  50 tasks      | elapsed:  8.0min\n"
     ]
    },
    {
     "name": "stderr",
     "output_type": "stream",
     "text": [
      "/data/nielsond/python/envs/abcd_mine/lib/python3.6/site-packages/rpy2/robjects/functions.py:106: UserWarning: Adjusting the Data\n",
      "\n",
      "\n",
      "  res = super(Function, self).__call__(*new_args, **new_kwargs)\n"
     ]
    },
    {
     "name": "stdout",
     "output_type": "stream",
     "text": [
      "Standardizing Data across genes\n",
      "\n",
      "[Parallel(n_jobs=20)]: Done  51 tasks      | elapsed:  8.0min\n",
      "Standardizing Data across genes\n",
      "\n",
      "[Parallel(n_jobs=20)]: Done  52 tasks      | elapsed:  8.0min\n"
     ]
    },
    {
     "name": "stderr",
     "output_type": "stream",
     "text": [
      "/data/nielsond/python/envs/abcd_mine/lib/python3.6/site-packages/rpy2/robjects/functions.py:106: UserWarning: Found2batches\n",
      "\n",
      "  res = super(Function, self).__call__(*new_args, **new_kwargs)\n",
      "/data/nielsond/python/envs/abcd_mine/lib/python3.6/site-packages/rpy2/robjects/functions.py:106: UserWarning: Adjusting for0covariate(s) or covariate level(s)\n",
      "\n",
      "  res = super(Function, self).__call__(*new_args, **new_kwargs)\n"
     ]
    },
    {
     "name": "stdout",
     "output_type": "stream",
     "text": [
      "Standardizing Data across genes\n",
      "\n"
     ]
    },
    {
     "name": "stderr",
     "output_type": "stream",
     "text": [
      "/data/nielsond/python/envs/abcd_mine/lib/python3.6/site-packages/rpy2/robjects/functions.py:106: UserWarning: Fitting L/S model and finding priors\n",
      "\n",
      "  res = super(Function, self).__call__(*new_args, **new_kwargs)\n",
      "/data/nielsond/python/envs/abcd_mine/lib/python3.6/site-packages/rpy2/robjects/functions.py:106: UserWarning: Finding nonparametric adjustments\n",
      "\n",
      "  res = super(Function, self).__call__(*new_args, **new_kwargs)\n"
     ]
    },
    {
     "name": "stdout",
     "output_type": "stream",
     "text": [
      "Standardizing Data across genes\n",
      "\n",
      "Standardizing Data across genes\n",
      "\n",
      "[Parallel(n_jobs=20)]: Done  53 tasks      | elapsed:  8.1min\n"
     ]
    },
    {
     "name": "stderr",
     "output_type": "stream",
     "text": [
      "/data/nielsond/python/envs/abcd_mine/lib/python3.6/site-packages/rpy2/robjects/functions.py:106: UserWarning: Adjusting the Data\n",
      "\n",
      "\n",
      "  res = super(Function, self).__call__(*new_args, **new_kwargs)\n"
     ]
    },
    {
     "name": "stdout",
     "output_type": "stream",
     "text": [
      "Standardizing Data across genes\n",
      "\n",
      "Standardizing Data across genes\n",
      "\n"
     ]
    },
    {
     "name": "stderr",
     "output_type": "stream",
     "text": [
      "/data/nielsond/python/envs/abcd_mine/lib/python3.6/site-packages/rpy2/robjects/functions.py:106: UserWarning: Found2batches\n",
      "\n",
      "  res = super(Function, self).__call__(*new_args, **new_kwargs)\n",
      "/data/nielsond/python/envs/abcd_mine/lib/python3.6/site-packages/rpy2/robjects/functions.py:106: UserWarning: Adjusting for0covariate(s) or covariate level(s)\n",
      "\n",
      "  res = super(Function, self).__call__(*new_args, **new_kwargs)\n"
     ]
    },
    {
     "name": "stdout",
     "output_type": "stream",
     "text": [
      "Standardizing Data across genes\n",
      "\n"
     ]
    },
    {
     "name": "stderr",
     "output_type": "stream",
     "text": [
      "/data/nielsond/python/envs/abcd_mine/lib/python3.6/site-packages/rpy2/robjects/functions.py:106: UserWarning: Fitting L/S model and finding priors\n",
      "\n",
      "  res = super(Function, self).__call__(*new_args, **new_kwargs)\n",
      "/data/nielsond/python/envs/abcd_mine/lib/python3.6/site-packages/rpy2/robjects/functions.py:106: UserWarning: Finding nonparametric adjustments\n",
      "\n",
      "  res = super(Function, self).__call__(*new_args, **new_kwargs)\n"
     ]
    },
    {
     "name": "stdout",
     "output_type": "stream",
     "text": [
      "[Parallel(n_jobs=20)]: Done  54 tasks      | elapsed:  8.1min\n",
      "[Parallel(n_jobs=20)]: Done  55 tasks      | elapsed:  8.2min\n"
     ]
    },
    {
     "name": "stderr",
     "output_type": "stream",
     "text": [
      "/data/nielsond/python/envs/abcd_mine/lib/python3.6/site-packages/rpy2/robjects/functions.py:106: UserWarning: Adjusting the Data\n",
      "\n",
      "\n",
      "  res = super(Function, self).__call__(*new_args, **new_kwargs)\n",
      "/data/nielsond/python/envs/abcd_mine/lib/python3.6/site-packages/rpy2/robjects/functions.py:106: UserWarning: Adjusting the Data\n",
      "\n",
      "\n",
      "  res = super(Function, self).__call__(*new_args, **new_kwargs)\n",
      "/data/nielsond/python/envs/abcd_mine/lib/python3.6/site-packages/rpy2/robjects/functions.py:106: UserWarning: Found2batches\n",
      "\n",
      "  res = super(Function, self).__call__(*new_args, **new_kwargs)\n",
      "/data/nielsond/python/envs/abcd_mine/lib/python3.6/site-packages/rpy2/robjects/functions.py:106: UserWarning: Adjusting for0covariate(s) or covariate level(s)\n",
      "\n",
      "  res = super(Function, self).__call__(*new_args, **new_kwargs)\n"
     ]
    },
    {
     "name": "stdout",
     "output_type": "stream",
     "text": [
      "Standardizing Data across genes\n",
      "\n",
      "Standardizing Data across genes\n",
      "\n",
      "Standardizing Data across genes\n",
      "\n"
     ]
    },
    {
     "name": "stderr",
     "output_type": "stream",
     "text": [
      "/data/nielsond/python/envs/abcd_mine/lib/python3.6/site-packages/rpy2/robjects/functions.py:106: UserWarning: Fitting L/S model and finding priors\n",
      "\n",
      "  res = super(Function, self).__call__(*new_args, **new_kwargs)\n",
      "/data/nielsond/python/envs/abcd_mine/lib/python3.6/site-packages/rpy2/robjects/functions.py:106: UserWarning: Finding nonparametric adjustments\n",
      "\n",
      "  res = super(Function, self).__call__(*new_args, **new_kwargs)\n"
     ]
    },
    {
     "name": "stdout",
     "output_type": "stream",
     "text": [
      "Standardizing Data across genes\n",
      "\n",
      "Standardizing Data across genes\n",
      "\n"
     ]
    },
    {
     "name": "stderr",
     "output_type": "stream",
     "text": [
      "/data/nielsond/python/envs/abcd_mine/lib/python3.6/site-packages/rpy2/robjects/functions.py:106: UserWarning: Found2batches\n",
      "\n",
      "  res = super(Function, self).__call__(*new_args, **new_kwargs)\n",
      "/data/nielsond/python/envs/abcd_mine/lib/python3.6/site-packages/rpy2/robjects/functions.py:106: UserWarning: Adjusting for0covariate(s) or covariate level(s)\n",
      "\n",
      "  res = super(Function, self).__call__(*new_args, **new_kwargs)\n"
     ]
    },
    {
     "name": "stdout",
     "output_type": "stream",
     "text": [
      "Standardizing Data across genes\n",
      "\n"
     ]
    },
    {
     "name": "stderr",
     "output_type": "stream",
     "text": [
      "/data/nielsond/python/envs/abcd_mine/lib/python3.6/site-packages/rpy2/robjects/functions.py:106: UserWarning: Fitting L/S model and finding priors\n",
      "\n",
      "  res = super(Function, self).__call__(*new_args, **new_kwargs)\n",
      "/data/nielsond/python/envs/abcd_mine/lib/python3.6/site-packages/rpy2/robjects/functions.py:106: UserWarning: Finding nonparametric adjustments\n",
      "\n",
      "  res = super(Function, self).__call__(*new_args, **new_kwargs)\n"
     ]
    },
    {
     "name": "stdout",
     "output_type": "stream",
     "text": [
      "Standardizing Data across genes\n",
      "\n",
      "[Parallel(n_jobs=20)]: Done  56 tasks      | elapsed:  8.3min\n",
      "Standardizing Data across genes\n",
      "\n",
      "Standardizing Data across genes\n",
      "\n",
      "Standardizing Data across genes\n",
      "\n"
     ]
    },
    {
     "name": "stderr",
     "output_type": "stream",
     "text": [
      "/data/nielsond/python/envs/abcd_mine/lib/python3.6/site-packages/rpy2/robjects/functions.py:106: UserWarning: Found2batches\n",
      "\n",
      "  res = super(Function, self).__call__(*new_args, **new_kwargs)\n",
      "/data/nielsond/python/envs/abcd_mine/lib/python3.6/site-packages/rpy2/robjects/functions.py:106: UserWarning: Adjusting for0covariate(s) or covariate level(s)\n",
      "\n",
      "  res = super(Function, self).__call__(*new_args, **new_kwargs)\n"
     ]
    },
    {
     "name": "stdout",
     "output_type": "stream",
     "text": [
      "Standardizing Data across genes\n",
      "\n"
     ]
    },
    {
     "name": "stderr",
     "output_type": "stream",
     "text": [
      "/data/nielsond/python/envs/abcd_mine/lib/python3.6/site-packages/rpy2/robjects/functions.py:106: UserWarning: Fitting L/S model and finding priors\n",
      "\n",
      "  res = super(Function, self).__call__(*new_args, **new_kwargs)\n",
      "/data/nielsond/python/envs/abcd_mine/lib/python3.6/site-packages/rpy2/robjects/functions.py:106: UserWarning: Adjusting the Data\n",
      "\n",
      "\n",
      "  res = super(Function, self).__call__(*new_args, **new_kwargs)\n",
      "/data/nielsond/python/envs/abcd_mine/lib/python3.6/site-packages/rpy2/robjects/functions.py:106: UserWarning: Adjusting the Data\n",
      "\n",
      "\n",
      "  res = super(Function, self).__call__(*new_args, **new_kwargs)\n",
      "/data/nielsond/python/envs/abcd_mine/lib/python3.6/site-packages/rpy2/robjects/functions.py:106: UserWarning: Finding nonparametric adjustments\n",
      "\n",
      "  res = super(Function, self).__call__(*new_args, **new_kwargs)\n"
     ]
    },
    {
     "name": "stdout",
     "output_type": "stream",
     "text": [
      "Standardizing Data across genes\n",
      "\n"
     ]
    },
    {
     "name": "stderr",
     "output_type": "stream",
     "text": [
      "/data/nielsond/python/envs/abcd_mine/lib/python3.6/site-packages/rpy2/robjects/functions.py:106: UserWarning: Found2batches\n",
      "\n",
      "  res = super(Function, self).__call__(*new_args, **new_kwargs)\n",
      "/data/nielsond/python/envs/abcd_mine/lib/python3.6/site-packages/rpy2/robjects/functions.py:106: UserWarning: Adjusting for0covariate(s) or covariate level(s)\n",
      "\n",
      "  res = super(Function, self).__call__(*new_args, **new_kwargs)\n"
     ]
    },
    {
     "name": "stdout",
     "output_type": "stream",
     "text": [
      "Standardizing Data across genes\n",
      "\n"
     ]
    },
    {
     "name": "stderr",
     "output_type": "stream",
     "text": [
      "/data/nielsond/python/envs/abcd_mine/lib/python3.6/site-packages/rpy2/robjects/functions.py:106: UserWarning: Fitting L/S model and finding priors\n",
      "\n",
      "  res = super(Function, self).__call__(*new_args, **new_kwargs)\n"
     ]
    },
    {
     "name": "stdout",
     "output_type": "stream",
     "text": [
      "Standardizing Data across genes\n",
      "\n"
     ]
    },
    {
     "name": "stderr",
     "output_type": "stream",
     "text": [
      "/data/nielsond/python/envs/abcd_mine/lib/python3.6/site-packages/rpy2/robjects/functions.py:106: UserWarning: Finding nonparametric adjustments\n",
      "\n",
      "  res = super(Function, self).__call__(*new_args, **new_kwargs)\n"
     ]
    },
    {
     "name": "stdout",
     "output_type": "stream",
     "text": [
      "Standardizing Data across genes\n",
      "\n",
      "Standardizing Data across genes\n",
      "\n",
      "Standardizing Data across genes\n",
      "\n"
     ]
    },
    {
     "name": "stderr",
     "output_type": "stream",
     "text": [
      "/data/nielsond/python/envs/abcd_mine/lib/python3.6/site-packages/rpy2/robjects/functions.py:106: UserWarning: Found2batches\n",
      "\n",
      "  res = super(Function, self).__call__(*new_args, **new_kwargs)\n",
      "/data/nielsond/python/envs/abcd_mine/lib/python3.6/site-packages/rpy2/robjects/functions.py:106: UserWarning: Adjusting for0covariate(s) or covariate level(s)\n",
      "\n",
      "  res = super(Function, self).__call__(*new_args, **new_kwargs)\n"
     ]
    },
    {
     "name": "stdout",
     "output_type": "stream",
     "text": [
      "Standardizing Data across genes\n",
      "\n"
     ]
    },
    {
     "name": "stderr",
     "output_type": "stream",
     "text": [
      "/data/nielsond/python/envs/abcd_mine/lib/python3.6/site-packages/rpy2/robjects/functions.py:106: UserWarning: Fitting L/S model and finding priors\n",
      "\n",
      "  res = super(Function, self).__call__(*new_args, **new_kwargs)\n",
      "/data/nielsond/python/envs/abcd_mine/lib/python3.6/site-packages/rpy2/robjects/functions.py:106: UserWarning: Adjusting the Data\n",
      "\n",
      "\n",
      "  res = super(Function, self).__call__(*new_args, **new_kwargs)\n",
      "/data/nielsond/python/envs/abcd_mine/lib/python3.6/site-packages/rpy2/robjects/functions.py:106: UserWarning: Finding nonparametric adjustments\n",
      "\n",
      "  res = super(Function, self).__call__(*new_args, **new_kwargs)\n"
     ]
    },
    {
     "name": "stdout",
     "output_type": "stream",
     "text": [
      "Standardizing Data across genes\n",
      "\n",
      "Standardizing Data across genes\n",
      "\n",
      "[Parallel(n_jobs=20)]: Done  57 tasks      | elapsed:  8.5min\n",
      "Standardizing Data across genes\n",
      "\n"
     ]
    },
    {
     "name": "stderr",
     "output_type": "stream",
     "text": [
      "/data/nielsond/python/envs/abcd_mine/lib/python3.6/site-packages/rpy2/robjects/functions.py:106: UserWarning: Found2batches\n",
      "\n",
      "  res = super(Function, self).__call__(*new_args, **new_kwargs)\n",
      "/data/nielsond/python/envs/abcd_mine/lib/python3.6/site-packages/rpy2/robjects/functions.py:106: UserWarning: Adjusting for0covariate(s) or covariate level(s)\n",
      "\n",
      "  res = super(Function, self).__call__(*new_args, **new_kwargs)\n"
     ]
    },
    {
     "name": "stdout",
     "output_type": "stream",
     "text": [
      "Standardizing Data across genes\n",
      "\n"
     ]
    },
    {
     "name": "stderr",
     "output_type": "stream",
     "text": [
      "/data/nielsond/python/envs/abcd_mine/lib/python3.6/site-packages/rpy2/robjects/functions.py:106: UserWarning: Fitting L/S model and finding priors\n",
      "\n",
      "  res = super(Function, self).__call__(*new_args, **new_kwargs)\n",
      "/data/nielsond/python/envs/abcd_mine/lib/python3.6/site-packages/rpy2/robjects/functions.py:106: UserWarning: Adjusting the Data\n",
      "\n",
      "\n",
      "  res = super(Function, self).__call__(*new_args, **new_kwargs)\n",
      "/data/nielsond/python/envs/abcd_mine/lib/python3.6/site-packages/rpy2/robjects/functions.py:106: UserWarning: Adjusting the Data\n",
      "\n",
      "\n",
      "  res = super(Function, self).__call__(*new_args, **new_kwargs)\n",
      "/data/nielsond/python/envs/abcd_mine/lib/python3.6/site-packages/rpy2/robjects/functions.py:106: UserWarning: Finding nonparametric adjustments\n",
      "\n",
      "  res = super(Function, self).__call__(*new_args, **new_kwargs)\n"
     ]
    },
    {
     "name": "stdout",
     "output_type": "stream",
     "text": [
      "Standardizing Data across genes\n",
      "\n",
      "Standardizing Data across genes\n",
      "\n"
     ]
    },
    {
     "name": "stderr",
     "output_type": "stream",
     "text": [
      "/data/nielsond/python/envs/abcd_mine/lib/python3.6/site-packages/rpy2/robjects/functions.py:106: UserWarning: Found2batches\n",
      "\n",
      "  res = super(Function, self).__call__(*new_args, **new_kwargs)\n",
      "/data/nielsond/python/envs/abcd_mine/lib/python3.6/site-packages/rpy2/robjects/functions.py:106: UserWarning: Adjusting for0covariate(s) or covariate level(s)\n",
      "\n",
      "  res = super(Function, self).__call__(*new_args, **new_kwargs)\n"
     ]
    },
    {
     "name": "stdout",
     "output_type": "stream",
     "text": [
      "Standardizing Data across genes\n",
      "\n",
      "Standardizing Data across genes\n",
      "\n"
     ]
    },
    {
     "name": "stderr",
     "output_type": "stream",
     "text": [
      "/data/nielsond/python/envs/abcd_mine/lib/python3.6/site-packages/rpy2/robjects/functions.py:106: UserWarning: Adjusting the Data\n",
      "\n",
      "\n",
      "  res = super(Function, self).__call__(*new_args, **new_kwargs)\n",
      "/data/nielsond/python/envs/abcd_mine/lib/python3.6/site-packages/rpy2/robjects/functions.py:106: UserWarning: Fitting L/S model and finding priors\n",
      "\n",
      "  res = super(Function, self).__call__(*new_args, **new_kwargs)\n",
      "/data/nielsond/python/envs/abcd_mine/lib/python3.6/site-packages/rpy2/robjects/functions.py:106: UserWarning: Finding nonparametric adjustments\n",
      "\n",
      "  res = super(Function, self).__call__(*new_args, **new_kwargs)\n"
     ]
    },
    {
     "name": "stdout",
     "output_type": "stream",
     "text": [
      "Standardizing Data across genes\n",
      "\n",
      "Standardizing Data across genes\n",
      "\n"
     ]
    },
    {
     "name": "stderr",
     "output_type": "stream",
     "text": [
      "/data/nielsond/python/envs/abcd_mine/lib/python3.6/site-packages/rpy2/robjects/functions.py:106: UserWarning: Found2batches\n",
      "\n",
      "  res = super(Function, self).__call__(*new_args, **new_kwargs)\n",
      "/data/nielsond/python/envs/abcd_mine/lib/python3.6/site-packages/rpy2/robjects/functions.py:106: UserWarning: Adjusting for0covariate(s) or covariate level(s)\n",
      "\n",
      "  res = super(Function, self).__call__(*new_args, **new_kwargs)\n"
     ]
    },
    {
     "name": "stdout",
     "output_type": "stream",
     "text": [
      "Standardizing Data across genes\n",
      "\n"
     ]
    },
    {
     "name": "stderr",
     "output_type": "stream",
     "text": [
      "/data/nielsond/python/envs/abcd_mine/lib/python3.6/site-packages/rpy2/robjects/functions.py:106: UserWarning: Fitting L/S model and finding priors\n",
      "\n",
      "  res = super(Function, self).__call__(*new_args, **new_kwargs)\n",
      "/data/nielsond/python/envs/abcd_mine/lib/python3.6/site-packages/rpy2/robjects/functions.py:106: UserWarning: Finding nonparametric adjustments\n",
      "\n",
      "  res = super(Function, self).__call__(*new_args, **new_kwargs)\n"
     ]
    },
    {
     "name": "stdout",
     "output_type": "stream",
     "text": [
      "[Parallel(n_jobs=20)]: Done  58 tasks      | elapsed:  8.6min\n",
      "Standardizing Data across genes\n",
      "\n"
     ]
    },
    {
     "name": "stderr",
     "output_type": "stream",
     "text": [
      "/data/nielsond/python/envs/abcd_mine/lib/python3.6/site-packages/rpy2/robjects/functions.py:106: UserWarning: Found2batches\n",
      "\n",
      "  res = super(Function, self).__call__(*new_args, **new_kwargs)\n",
      "/data/nielsond/python/envs/abcd_mine/lib/python3.6/site-packages/rpy2/robjects/functions.py:106: UserWarning: Adjusting for0covariate(s) or covariate level(s)\n",
      "\n",
      "  res = super(Function, self).__call__(*new_args, **new_kwargs)\n"
     ]
    },
    {
     "name": "stdout",
     "output_type": "stream",
     "text": [
      "Standardizing Data across genes\n",
      "\n"
     ]
    },
    {
     "name": "stderr",
     "output_type": "stream",
     "text": [
      "/data/nielsond/python/envs/abcd_mine/lib/python3.6/site-packages/rpy2/robjects/functions.py:106: UserWarning: Fitting L/S model and finding priors\n",
      "\n",
      "  res = super(Function, self).__call__(*new_args, **new_kwargs)\n"
     ]
    },
    {
     "name": "stdout",
     "output_type": "stream",
     "text": [
      "[Parallel(n_jobs=20)]: Done  59 tasks      | elapsed:  8.7min\n"
     ]
    },
    {
     "name": "stderr",
     "output_type": "stream",
     "text": [
      "/data/nielsond/python/envs/abcd_mine/lib/python3.6/site-packages/rpy2/robjects/functions.py:106: UserWarning: Finding nonparametric adjustments\n",
      "\n",
      "  res = super(Function, self).__call__(*new_args, **new_kwargs)\n"
     ]
    },
    {
     "name": "stdout",
     "output_type": "stream",
     "text": [
      "Standardizing Data across genes\n",
      "\n",
      "[Parallel(n_jobs=20)]: Done  60 tasks      | elapsed:  8.7min\n",
      "[Parallel(n_jobs=20)]: Done  61 tasks      | elapsed:  8.7min\n"
     ]
    },
    {
     "name": "stderr",
     "output_type": "stream",
     "text": [
      "/data/nielsond/python/envs/abcd_mine/lib/python3.6/site-packages/rpy2/robjects/functions.py:106: UserWarning: Found2batches\n",
      "\n",
      "  res = super(Function, self).__call__(*new_args, **new_kwargs)\n",
      "/data/nielsond/python/envs/abcd_mine/lib/python3.6/site-packages/rpy2/robjects/functions.py:106: UserWarning: Adjusting for0covariate(s) or covariate level(s)\n",
      "\n",
      "  res = super(Function, self).__call__(*new_args, **new_kwargs)\n"
     ]
    },
    {
     "name": "stdout",
     "output_type": "stream",
     "text": [
      "Standardizing Data across genes\n",
      "\n"
     ]
    },
    {
     "name": "stderr",
     "output_type": "stream",
     "text": [
      "/data/nielsond/python/envs/abcd_mine/lib/python3.6/site-packages/rpy2/robjects/functions.py:106: UserWarning: Fitting L/S model and finding priors\n",
      "\n",
      "  res = super(Function, self).__call__(*new_args, **new_kwargs)\n",
      "/data/nielsond/python/envs/abcd_mine/lib/python3.6/site-packages/rpy2/robjects/functions.py:106: UserWarning: Finding nonparametric adjustments\n",
      "\n",
      "  res = super(Function, self).__call__(*new_args, **new_kwargs)\n"
     ]
    },
    {
     "name": "stdout",
     "output_type": "stream",
     "text": [
      "Standardizing Data across genes\n",
      "\n"
     ]
    },
    {
     "name": "stderr",
     "output_type": "stream",
     "text": [
      "/data/nielsond/python/envs/abcd_mine/lib/python3.6/site-packages/rpy2/robjects/functions.py:106: UserWarning: Found2batches\n",
      "\n",
      "  res = super(Function, self).__call__(*new_args, **new_kwargs)\n",
      "/data/nielsond/python/envs/abcd_mine/lib/python3.6/site-packages/rpy2/robjects/functions.py:106: UserWarning: Adjusting for0covariate(s) or covariate level(s)\n",
      "\n",
      "  res = super(Function, self).__call__(*new_args, **new_kwargs)\n"
     ]
    },
    {
     "name": "stdout",
     "output_type": "stream",
     "text": [
      "Standardizing Data across genes\n",
      "\n"
     ]
    },
    {
     "name": "stderr",
     "output_type": "stream",
     "text": [
      "/data/nielsond/python/envs/abcd_mine/lib/python3.6/site-packages/rpy2/robjects/functions.py:106: UserWarning: Adjusting the Data\n",
      "\n",
      "\n",
      "  res = super(Function, self).__call__(*new_args, **new_kwargs)\n",
      "/data/nielsond/python/envs/abcd_mine/lib/python3.6/site-packages/rpy2/robjects/functions.py:106: UserWarning: Fitting L/S model and finding priors\n",
      "\n",
      "  res = super(Function, self).__call__(*new_args, **new_kwargs)\n",
      "/data/nielsond/python/envs/abcd_mine/lib/python3.6/site-packages/rpy2/robjects/functions.py:106: UserWarning: Finding nonparametric adjustments\n",
      "\n",
      "  res = super(Function, self).__call__(*new_args, **new_kwargs)\n"
     ]
    },
    {
     "name": "stdout",
     "output_type": "stream",
     "text": [
      "Standardizing Data across genes\n",
      "\n"
     ]
    },
    {
     "name": "stderr",
     "output_type": "stream",
     "text": [
      "/data/nielsond/python/envs/abcd_mine/lib/python3.6/site-packages/rpy2/robjects/functions.py:106: UserWarning: Adjusting the Data\n",
      "\n",
      "\n",
      "  res = super(Function, self).__call__(*new_args, **new_kwargs)\n"
     ]
    },
    {
     "name": "stdout",
     "output_type": "stream",
     "text": [
      "Standardizing Data across genes\n",
      "\n",
      "Standardizing Data across genes\n",
      "\n"
     ]
    },
    {
     "name": "stderr",
     "output_type": "stream",
     "text": [
      "/data/nielsond/python/envs/abcd_mine/lib/python3.6/site-packages/rpy2/robjects/functions.py:106: UserWarning: Found2batches\n",
      "\n",
      "  res = super(Function, self).__call__(*new_args, **new_kwargs)\n",
      "/data/nielsond/python/envs/abcd_mine/lib/python3.6/site-packages/rpy2/robjects/functions.py:106: UserWarning: Adjusting for0covariate(s) or covariate level(s)\n",
      "\n",
      "  res = super(Function, self).__call__(*new_args, **new_kwargs)\n"
     ]
    },
    {
     "name": "stdout",
     "output_type": "stream",
     "text": [
      "Standardizing Data across genes\n",
      "\n"
     ]
    },
    {
     "name": "stderr",
     "output_type": "stream",
     "text": [
      "/data/nielsond/python/envs/abcd_mine/lib/python3.6/site-packages/rpy2/robjects/functions.py:106: UserWarning: Fitting L/S model and finding priors\n",
      "\n",
      "  res = super(Function, self).__call__(*new_args, **new_kwargs)\n",
      "/data/nielsond/python/envs/abcd_mine/lib/python3.6/site-packages/rpy2/robjects/functions.py:106: UserWarning: Adjusting the Data\n",
      "\n",
      "\n",
      "  res = super(Function, self).__call__(*new_args, **new_kwargs)\n"
     ]
    },
    {
     "name": "stdout",
     "output_type": "stream",
     "text": [
      "Standardizing Data across genes\n",
      "\n",
      "Standardizing Data across genes\n",
      "\n"
     ]
    },
    {
     "name": "stderr",
     "output_type": "stream",
     "text": [
      "/data/nielsond/python/envs/abcd_mine/lib/python3.6/site-packages/rpy2/robjects/functions.py:106: UserWarning: Finding nonparametric adjustments\n",
      "\n",
      "  res = super(Function, self).__call__(*new_args, **new_kwargs)\n"
     ]
    },
    {
     "name": "stdout",
     "output_type": "stream",
     "text": [
      "[Parallel(n_jobs=20)]: Done  62 tasks      | elapsed:  8.9min\n",
      "[Parallel(n_jobs=20)]: Done  63 tasks      | elapsed:  8.9min\n",
      "Standardizing Data across genes\n",
      "\n"
     ]
    },
    {
     "name": "stderr",
     "output_type": "stream",
     "text": [
      "/data/nielsond/python/envs/abcd_mine/lib/python3.6/site-packages/rpy2/robjects/functions.py:106: UserWarning: Adjusting the Data\n",
      "\n",
      "\n",
      "  res = super(Function, self).__call__(*new_args, **new_kwargs)\n",
      "/data/nielsond/python/envs/abcd_mine/lib/python3.6/site-packages/rpy2/robjects/functions.py:106: UserWarning: Adjusting the Data\n",
      "\n",
      "\n",
      "  res = super(Function, self).__call__(*new_args, **new_kwargs)\n"
     ]
    },
    {
     "name": "stdout",
     "output_type": "stream",
     "text": [
      "Standardizing Data across genes\n",
      "\n",
      "Standardizing Data across genes\n",
      "\n",
      "Standardizing Data across genes\n",
      "\n"
     ]
    },
    {
     "name": "stderr",
     "output_type": "stream",
     "text": [
      "/data/nielsond/python/envs/abcd_mine/lib/python3.6/site-packages/rpy2/robjects/functions.py:106: UserWarning: Adjusting the Data\n",
      "\n",
      "\n",
      "  res = super(Function, self).__call__(*new_args, **new_kwargs)\n",
      "/data/nielsond/python/envs/abcd_mine/lib/python3.6/site-packages/rpy2/robjects/functions.py:106: UserWarning: Found2batches\n",
      "\n",
      "  res = super(Function, self).__call__(*new_args, **new_kwargs)\n",
      "/data/nielsond/python/envs/abcd_mine/lib/python3.6/site-packages/rpy2/robjects/functions.py:106: UserWarning: Adjusting for0covariate(s) or covariate level(s)\n",
      "\n",
      "  res = super(Function, self).__call__(*new_args, **new_kwargs)\n"
     ]
    },
    {
     "name": "stdout",
     "output_type": "stream",
     "text": [
      "Standardizing Data across genes\n",
      "\n",
      "Standardizing Data across genes\n",
      "\n"
     ]
    },
    {
     "name": "stderr",
     "output_type": "stream",
     "text": [
      "/data/nielsond/python/envs/abcd_mine/lib/python3.6/site-packages/rpy2/robjects/functions.py:106: UserWarning: Fitting L/S model and finding priors\n",
      "\n",
      "  res = super(Function, self).__call__(*new_args, **new_kwargs)\n",
      "/data/nielsond/python/envs/abcd_mine/lib/python3.6/site-packages/rpy2/robjects/functions.py:106: UserWarning: Finding nonparametric adjustments\n",
      "\n",
      "  res = super(Function, self).__call__(*new_args, **new_kwargs)\n"
     ]
    },
    {
     "name": "stdout",
     "output_type": "stream",
     "text": [
      "Standardizing Data across genes\n",
      "\n",
      "Standardizing Data across genes\n",
      "\n",
      "[Parallel(n_jobs=20)]: Done  64 tasks      | elapsed:  9.0min\n"
     ]
    },
    {
     "name": "stderr",
     "output_type": "stream",
     "text": [
      "/data/nielsond/python/envs/abcd_mine/lib/python3.6/site-packages/rpy2/robjects/functions.py:106: UserWarning: Found2batches\n",
      "\n",
      "  res = super(Function, self).__call__(*new_args, **new_kwargs)\n",
      "/data/nielsond/python/envs/abcd_mine/lib/python3.6/site-packages/rpy2/robjects/functions.py:106: UserWarning: Adjusting for0covariate(s) or covariate level(s)\n",
      "\n",
      "  res = super(Function, self).__call__(*new_args, **new_kwargs)\n"
     ]
    },
    {
     "name": "stdout",
     "output_type": "stream",
     "text": [
      "Standardizing Data across genes\n",
      "\n"
     ]
    },
    {
     "name": "stderr",
     "output_type": "stream",
     "text": [
      "/data/nielsond/python/envs/abcd_mine/lib/python3.6/site-packages/rpy2/robjects/functions.py:106: UserWarning: Fitting L/S model and finding priors\n",
      "\n",
      "  res = super(Function, self).__call__(*new_args, **new_kwargs)\n"
     ]
    },
    {
     "name": "stdout",
     "output_type": "stream",
     "text": [
      "[Parallel(n_jobs=20)]: Done  65 tasks      | elapsed:  9.0min\n",
      "Standardizing Data across genes\n",
      "\n"
     ]
    },
    {
     "name": "stderr",
     "output_type": "stream",
     "text": [
      "/data/nielsond/python/envs/abcd_mine/lib/python3.6/site-packages/rpy2/robjects/functions.py:106: UserWarning: Finding nonparametric adjustments\n",
      "\n",
      "  res = super(Function, self).__call__(*new_args, **new_kwargs)\n"
     ]
    },
    {
     "name": "stdout",
     "output_type": "stream",
     "text": [
      "[Parallel(n_jobs=20)]: Done  66 tasks      | elapsed:  9.0min\n",
      "Standardizing Data across genes\n",
      "\n"
     ]
    },
    {
     "name": "stderr",
     "output_type": "stream",
     "text": [
      "/data/nielsond/python/envs/abcd_mine/lib/python3.6/site-packages/rpy2/robjects/functions.py:106: UserWarning: Adjusting the Data\n",
      "\n",
      "\n",
      "  res = super(Function, self).__call__(*new_args, **new_kwargs)\n"
     ]
    },
    {
     "name": "stdout",
     "output_type": "stream",
     "text": [
      "Standardizing Data across genes\n",
      "\n",
      "Standardizing Data across genes\n",
      "\n",
      "Standardizing Data across genes\n",
      "\n",
      "Standardizing Data across genes\n",
      "\n"
     ]
    },
    {
     "name": "stderr",
     "output_type": "stream",
     "text": [
      "/data/nielsond/python/envs/abcd_mine/lib/python3.6/site-packages/rpy2/robjects/functions.py:106: UserWarning: Found2batches\n",
      "\n",
      "  res = super(Function, self).__call__(*new_args, **new_kwargs)\n",
      "/data/nielsond/python/envs/abcd_mine/lib/python3.6/site-packages/rpy2/robjects/functions.py:106: UserWarning: Adjusting for0covariate(s) or covariate level(s)\n",
      "\n",
      "  res = super(Function, self).__call__(*new_args, **new_kwargs)\n"
     ]
    },
    {
     "name": "stdout",
     "output_type": "stream",
     "text": [
      "Standardizing Data across genes\n",
      "\n",
      "Standardizing Data across genes\n",
      "\n"
     ]
    },
    {
     "name": "stderr",
     "output_type": "stream",
     "text": [
      "/data/nielsond/python/envs/abcd_mine/lib/python3.6/site-packages/rpy2/robjects/functions.py:106: UserWarning: Fitting L/S model and finding priors\n",
      "\n",
      "  res = super(Function, self).__call__(*new_args, **new_kwargs)\n",
      "/data/nielsond/python/envs/abcd_mine/lib/python3.6/site-packages/rpy2/robjects/functions.py:106: UserWarning: Finding nonparametric adjustments\n",
      "\n",
      "  res = super(Function, self).__call__(*new_args, **new_kwargs)\n"
     ]
    },
    {
     "name": "stdout",
     "output_type": "stream",
     "text": [
      "Standardizing Data across genes\n",
      "\n",
      "Standardizing Data across genes\n",
      "\n"
     ]
    },
    {
     "name": "stderr",
     "output_type": "stream",
     "text": [
      "/data/nielsond/python/envs/abcd_mine/lib/python3.6/site-packages/rpy2/robjects/functions.py:106: UserWarning: Adjusting the Data\n",
      "\n",
      "\n",
      "  res = super(Function, self).__call__(*new_args, **new_kwargs)\n"
     ]
    },
    {
     "name": "stdout",
     "output_type": "stream",
     "text": [
      "Standardizing Data across genes\n",
      "\n",
      "Standardizing Data across genes\n",
      "\n",
      "Standardizing Data across genes\n",
      "\n"
     ]
    },
    {
     "name": "stderr",
     "output_type": "stream",
     "text": [
      "/data/nielsond/python/envs/abcd_mine/lib/python3.6/site-packages/rpy2/robjects/functions.py:106: UserWarning: Found2batches\n",
      "\n",
      "  res = super(Function, self).__call__(*new_args, **new_kwargs)\n",
      "/data/nielsond/python/envs/abcd_mine/lib/python3.6/site-packages/rpy2/robjects/functions.py:106: UserWarning: Adjusting for0covariate(s) or covariate level(s)\n",
      "\n",
      "  res = super(Function, self).__call__(*new_args, **new_kwargs)\n"
     ]
    },
    {
     "name": "stdout",
     "output_type": "stream",
     "text": [
      "Standardizing Data across genes\n",
      "\n"
     ]
    },
    {
     "name": "stderr",
     "output_type": "stream",
     "text": [
      "/data/nielsond/python/envs/abcd_mine/lib/python3.6/site-packages/rpy2/robjects/functions.py:106: UserWarning: Fitting L/S model and finding priors\n",
      "\n",
      "  res = super(Function, self).__call__(*new_args, **new_kwargs)\n"
     ]
    },
    {
     "name": "stdout",
     "output_type": "stream",
     "text": [
      "[Parallel(n_jobs=20)]: Done  67 tasks      | elapsed:  9.2min\n"
     ]
    },
    {
     "name": "stderr",
     "output_type": "stream",
     "text": [
      "/data/nielsond/python/envs/abcd_mine/lib/python3.6/site-packages/rpy2/robjects/functions.py:106: UserWarning: Finding nonparametric adjustments\n",
      "\n",
      "  res = super(Function, self).__call__(*new_args, **new_kwargs)\n"
     ]
    },
    {
     "name": "stdout",
     "output_type": "stream",
     "text": [
      "[Parallel(n_jobs=20)]: Done  68 tasks      | elapsed:  9.2min\n",
      "Standardizing Data across genes\n",
      "\n"
     ]
    },
    {
     "name": "stderr",
     "output_type": "stream",
     "text": [
      "/data/nielsond/python/envs/abcd_mine/lib/python3.6/site-packages/rpy2/robjects/functions.py:106: UserWarning: Adjusting the Data\n",
      "\n",
      "\n",
      "  res = super(Function, self).__call__(*new_args, **new_kwargs)\n"
     ]
    },
    {
     "name": "stdout",
     "output_type": "stream",
     "text": [
      "[Parallel(n_jobs=20)]: Done  69 tasks      | elapsed:  9.3min\n"
     ]
    },
    {
     "name": "stderr",
     "output_type": "stream",
     "text": [
      "/data/nielsond/python/envs/abcd_mine/lib/python3.6/site-packages/rpy2/robjects/functions.py:106: UserWarning: Found2batches\n",
      "\n",
      "  res = super(Function, self).__call__(*new_args, **new_kwargs)\n",
      "/data/nielsond/python/envs/abcd_mine/lib/python3.6/site-packages/rpy2/robjects/functions.py:106: UserWarning: Adjusting for0covariate(s) or covariate level(s)\n",
      "\n",
      "  res = super(Function, self).__call__(*new_args, **new_kwargs)\n"
     ]
    },
    {
     "name": "stdout",
     "output_type": "stream",
     "text": [
      "Standardizing Data across genes\n",
      "\n"
     ]
    },
    {
     "name": "stderr",
     "output_type": "stream",
     "text": [
      "/data/nielsond/python/envs/abcd_mine/lib/python3.6/site-packages/rpy2/robjects/functions.py:106: UserWarning: Fitting L/S model and finding priors\n",
      "\n",
      "  res = super(Function, self).__call__(*new_args, **new_kwargs)\n",
      "/data/nielsond/python/envs/abcd_mine/lib/python3.6/site-packages/rpy2/robjects/functions.py:106: UserWarning: Finding nonparametric adjustments\n",
      "\n",
      "  res = super(Function, self).__call__(*new_args, **new_kwargs)\n"
     ]
    },
    {
     "name": "stdout",
     "output_type": "stream",
     "text": [
      "Standardizing Data across genes\n",
      "\n",
      "Standardizing Data across genes\n",
      "\n",
      "Standardizing Data across genes\n",
      "\n",
      "[Parallel(n_jobs=20)]: Done  70 tasks      | elapsed:  9.3min\n",
      "[Parallel(n_jobs=20)]: Done  71 tasks      | elapsed:  9.4min\n"
     ]
    },
    {
     "name": "stderr",
     "output_type": "stream",
     "text": [
      "/data/nielsond/python/envs/abcd_mine/lib/python3.6/site-packages/rpy2/robjects/functions.py:106: UserWarning: Adjusting the Data\n",
      "\n",
      "\n",
      "  res = super(Function, self).__call__(*new_args, **new_kwargs)\n"
     ]
    },
    {
     "name": "stdout",
     "output_type": "stream",
     "text": [
      "Standardizing Data across genes\n",
      "\n",
      "Standardizing Data across genes\n",
      "\n"
     ]
    },
    {
     "name": "stderr",
     "output_type": "stream",
     "text": [
      "/data/nielsond/python/envs/abcd_mine/lib/python3.6/site-packages/rpy2/robjects/functions.py:106: UserWarning: Found2batches\n",
      "\n",
      "  res = super(Function, self).__call__(*new_args, **new_kwargs)\n",
      "/data/nielsond/python/envs/abcd_mine/lib/python3.6/site-packages/rpy2/robjects/functions.py:106: UserWarning: Adjusting for0covariate(s) or covariate level(s)\n",
      "\n",
      "  res = super(Function, self).__call__(*new_args, **new_kwargs)\n"
     ]
    },
    {
     "name": "stdout",
     "output_type": "stream",
     "text": [
      "Standardizing Data across genes\n",
      "\n"
     ]
    },
    {
     "name": "stderr",
     "output_type": "stream",
     "text": [
      "/data/nielsond/python/envs/abcd_mine/lib/python3.6/site-packages/rpy2/robjects/functions.py:106: UserWarning: Fitting L/S model and finding priors\n",
      "\n",
      "  res = super(Function, self).__call__(*new_args, **new_kwargs)\n",
      "/data/nielsond/python/envs/abcd_mine/lib/python3.6/site-packages/rpy2/robjects/functions.py:106: UserWarning: Adjusting the Data\n",
      "\n",
      "\n",
      "  res = super(Function, self).__call__(*new_args, **new_kwargs)\n"
     ]
    },
    {
     "name": "stdout",
     "output_type": "stream",
     "text": [
      "Standardizing Data across genes\n",
      "\n"
     ]
    },
    {
     "name": "stderr",
     "output_type": "stream",
     "text": [
      "/data/nielsond/python/envs/abcd_mine/lib/python3.6/site-packages/rpy2/robjects/functions.py:106: UserWarning: Finding nonparametric adjustments\n",
      "\n",
      "  res = super(Function, self).__call__(*new_args, **new_kwargs)\n",
      "/data/nielsond/python/envs/abcd_mine/lib/python3.6/site-packages/rpy2/robjects/functions.py:106: UserWarning: Adjusting the Data\n",
      "\n",
      "\n",
      "  res = super(Function, self).__call__(*new_args, **new_kwargs)\n"
     ]
    },
    {
     "name": "stdout",
     "output_type": "stream",
     "text": [
      "Standardizing Data across genes\n",
      "\n",
      "Standardizing Data across genes\n",
      "\n"
     ]
    },
    {
     "name": "stderr",
     "output_type": "stream",
     "text": [
      "/data/nielsond/python/envs/abcd_mine/lib/python3.6/site-packages/rpy2/robjects/functions.py:106: UserWarning: Adjusting the Data\n",
      "\n",
      "\n",
      "  res = super(Function, self).__call__(*new_args, **new_kwargs)\n"
     ]
    },
    {
     "name": "stdout",
     "output_type": "stream",
     "text": [
      "Standardizing Data across genes\n",
      "\n",
      "Standardizing Data across genes\n",
      "\n"
     ]
    },
    {
     "name": "stderr",
     "output_type": "stream",
     "text": [
      "/data/nielsond/python/envs/abcd_mine/lib/python3.6/site-packages/rpy2/robjects/functions.py:106: UserWarning: Found2batches\n",
      "\n",
      "  res = super(Function, self).__call__(*new_args, **new_kwargs)\n",
      "/data/nielsond/python/envs/abcd_mine/lib/python3.6/site-packages/rpy2/robjects/functions.py:106: UserWarning: Adjusting for0covariate(s) or covariate level(s)\n",
      "\n",
      "  res = super(Function, self).__call__(*new_args, **new_kwargs)\n"
     ]
    },
    {
     "name": "stdout",
     "output_type": "stream",
     "text": [
      "Standardizing Data across genes\n",
      "\n",
      "Standardizing Data across genes\n",
      "\n"
     ]
    },
    {
     "name": "stderr",
     "output_type": "stream",
     "text": [
      "/data/nielsond/python/envs/abcd_mine/lib/python3.6/site-packages/rpy2/robjects/functions.py:106: UserWarning: Fitting L/S model and finding priors\n",
      "\n",
      "  res = super(Function, self).__call__(*new_args, **new_kwargs)\n",
      "/data/nielsond/python/envs/abcd_mine/lib/python3.6/site-packages/rpy2/robjects/functions.py:106: UserWarning: Finding nonparametric adjustments\n",
      "\n",
      "  res = super(Function, self).__call__(*new_args, **new_kwargs)\n"
     ]
    },
    {
     "name": "stdout",
     "output_type": "stream",
     "text": [
      "Standardizing Data across genes\n",
      "\n"
     ]
    },
    {
     "name": "stderr",
     "output_type": "stream",
     "text": [
      "/data/nielsond/python/envs/abcd_mine/lib/python3.6/site-packages/rpy2/robjects/functions.py:106: UserWarning: Found2batches\n",
      "\n",
      "  res = super(Function, self).__call__(*new_args, **new_kwargs)\n",
      "/data/nielsond/python/envs/abcd_mine/lib/python3.6/site-packages/rpy2/robjects/functions.py:106: UserWarning: Adjusting for0covariate(s) or covariate level(s)\n",
      "\n",
      "  res = super(Function, self).__call__(*new_args, **new_kwargs)\n"
     ]
    },
    {
     "name": "stdout",
     "output_type": "stream",
     "text": [
      "Standardizing Data across genes\n",
      "\n",
      "Standardizing Data across genes\n",
      "Standardizing Data across genes\n",
      "\n",
      "\n"
     ]
    },
    {
     "name": "stderr",
     "output_type": "stream",
     "text": [
      "/data/nielsond/python/envs/abcd_mine/lib/python3.6/site-packages/rpy2/robjects/functions.py:106: UserWarning: Fitting L/S model and finding priors\n",
      "\n",
      "  res = super(Function, self).__call__(*new_args, **new_kwargs)\n",
      "/data/nielsond/python/envs/abcd_mine/lib/python3.6/site-packages/rpy2/robjects/functions.py:106: UserWarning: Finding nonparametric adjustments\n",
      "\n",
      "  res = super(Function, self).__call__(*new_args, **new_kwargs)\n"
     ]
    },
    {
     "name": "stdout",
     "output_type": "stream",
     "text": [
      "[Parallel(n_jobs=20)]: Done  72 tasks      | elapsed:  9.6min\n",
      "Standardizing Data across genes\n",
      "\n",
      "Standardizing Data across genes\n",
      "\n"
     ]
    },
    {
     "name": "stderr",
     "output_type": "stream",
     "text": [
      "/data/nielsond/python/envs/abcd_mine/lib/python3.6/site-packages/rpy2/robjects/functions.py:106: UserWarning: Found2batches\n",
      "\n",
      "  res = super(Function, self).__call__(*new_args, **new_kwargs)\n",
      "/data/nielsond/python/envs/abcd_mine/lib/python3.6/site-packages/rpy2/robjects/functions.py:106: UserWarning: Adjusting for0covariate(s) or covariate level(s)\n",
      "\n",
      "  res = super(Function, self).__call__(*new_args, **new_kwargs)\n"
     ]
    },
    {
     "name": "stdout",
     "output_type": "stream",
     "text": [
      "Standardizing Data across genes\n",
      "\n"
     ]
    },
    {
     "name": "stderr",
     "output_type": "stream",
     "text": [
      "/data/nielsond/python/envs/abcd_mine/lib/python3.6/site-packages/rpy2/robjects/functions.py:106: UserWarning: Fitting L/S model and finding priors\n",
      "\n",
      "  res = super(Function, self).__call__(*new_args, **new_kwargs)\n",
      "/data/nielsond/python/envs/abcd_mine/lib/python3.6/site-packages/rpy2/robjects/functions.py:106: UserWarning: Finding nonparametric adjustments\n",
      "\n",
      "  res = super(Function, self).__call__(*new_args, **new_kwargs)\n"
     ]
    },
    {
     "name": "stdout",
     "output_type": "stream",
     "text": [
      "[Parallel(n_jobs=20)]: Done  73 tasks      | elapsed:  9.7min\n",
      "Standardizing Data across genes\n",
      "\n",
      "Standardizing Data across genes\n",
      "\n"
     ]
    },
    {
     "name": "stderr",
     "output_type": "stream",
     "text": [
      "/data/nielsond/python/envs/abcd_mine/lib/python3.6/site-packages/rpy2/robjects/functions.py:106: UserWarning: Adjusting the Data\n",
      "\n",
      "\n",
      "  res = super(Function, self).__call__(*new_args, **new_kwargs)\n",
      "/data/nielsond/python/envs/abcd_mine/lib/python3.6/site-packages/rpy2/robjects/functions.py:106: UserWarning: Found2batches\n",
      "\n",
      "  res = super(Function, self).__call__(*new_args, **new_kwargs)\n",
      "/data/nielsond/python/envs/abcd_mine/lib/python3.6/site-packages/rpy2/robjects/functions.py:106: UserWarning: Adjusting for0covariate(s) or covariate level(s)\n",
      "\n",
      "  res = super(Function, self).__call__(*new_args, **new_kwargs)\n"
     ]
    },
    {
     "name": "stdout",
     "output_type": "stream",
     "text": [
      "Standardizing Data across genes\n",
      "\n"
     ]
    },
    {
     "name": "stderr",
     "output_type": "stream",
     "text": [
      "/data/nielsond/python/envs/abcd_mine/lib/python3.6/site-packages/rpy2/robjects/functions.py:106: UserWarning: Fitting L/S model and finding priors\n",
      "\n",
      "  res = super(Function, self).__call__(*new_args, **new_kwargs)\n",
      "/data/nielsond/python/envs/abcd_mine/lib/python3.6/site-packages/rpy2/robjects/functions.py:106: UserWarning: Finding nonparametric adjustments\n",
      "\n",
      "  res = super(Function, self).__call__(*new_args, **new_kwargs)\n"
     ]
    },
    {
     "name": "stdout",
     "output_type": "stream",
     "text": [
      "[Parallel(n_jobs=20)]: Done  74 tasks      | elapsed:  9.7min\n",
      "Standardizing Data across genes\n",
      "\n",
      "[Parallel(n_jobs=20)]: Done  75 tasks      | elapsed:  9.8min\n"
     ]
    },
    {
     "name": "stderr",
     "output_type": "stream",
     "text": [
      "/data/nielsond/python/envs/abcd_mine/lib/python3.6/site-packages/rpy2/robjects/functions.py:106: UserWarning: Found2batches\n",
      "\n",
      "  res = super(Function, self).__call__(*new_args, **new_kwargs)\n",
      "/data/nielsond/python/envs/abcd_mine/lib/python3.6/site-packages/rpy2/robjects/functions.py:106: UserWarning: Adjusting for0covariate(s) or covariate level(s)\n",
      "\n",
      "  res = super(Function, self).__call__(*new_args, **new_kwargs)\n"
     ]
    },
    {
     "name": "stdout",
     "output_type": "stream",
     "text": [
      "Standardizing Data across genes\n",
      "\n"
     ]
    },
    {
     "name": "stderr",
     "output_type": "stream",
     "text": [
      "/data/nielsond/python/envs/abcd_mine/lib/python3.6/site-packages/rpy2/robjects/functions.py:106: UserWarning: Fitting L/S model and finding priors\n",
      "\n",
      "  res = super(Function, self).__call__(*new_args, **new_kwargs)\n"
     ]
    },
    {
     "name": "stdout",
     "output_type": "stream",
     "text": [
      "Standardizing Data across genes\n",
      "\n"
     ]
    },
    {
     "name": "stderr",
     "output_type": "stream",
     "text": [
      "/data/nielsond/python/envs/abcd_mine/lib/python3.6/site-packages/rpy2/robjects/functions.py:106: UserWarning: Adjusting the Data\n",
      "\n",
      "\n",
      "  res = super(Function, self).__call__(*new_args, **new_kwargs)\n",
      "/data/nielsond/python/envs/abcd_mine/lib/python3.6/site-packages/rpy2/robjects/functions.py:106: UserWarning: Finding nonparametric adjustments\n",
      "\n",
      "  res = super(Function, self).__call__(*new_args, **new_kwargs)\n"
     ]
    },
    {
     "name": "stdout",
     "output_type": "stream",
     "text": [
      "[Parallel(n_jobs=20)]: Done  76 tasks      | elapsed:  9.8min\n"
     ]
    },
    {
     "name": "stderr",
     "output_type": "stream",
     "text": [
      "/data/nielsond/python/envs/abcd_mine/lib/python3.6/site-packages/rpy2/robjects/functions.py:106: UserWarning: Adjusting the Data\n",
      "\n",
      "\n",
      "  res = super(Function, self).__call__(*new_args, **new_kwargs)\n"
     ]
    },
    {
     "name": "stdout",
     "output_type": "stream",
     "text": [
      "Standardizing Data across genes\n",
      "\n",
      "Standardizing Data across genes\n",
      "\n"
     ]
    },
    {
     "name": "stderr",
     "output_type": "stream",
     "text": [
      "/data/nielsond/python/envs/abcd_mine/lib/python3.6/site-packages/rpy2/robjects/functions.py:106: UserWarning: Adjusting the Data\n",
      "\n",
      "\n",
      "  res = super(Function, self).__call__(*new_args, **new_kwargs)\n"
     ]
    },
    {
     "name": "stdout",
     "output_type": "stream",
     "text": [
      "[Parallel(n_jobs=20)]: Done  77 tasks      | elapsed:  9.8min\n"
     ]
    },
    {
     "name": "stderr",
     "output_type": "stream",
     "text": [
      "/data/nielsond/python/envs/abcd_mine/lib/python3.6/site-packages/rpy2/robjects/functions.py:106: UserWarning: Found2batches\n",
      "\n",
      "  res = super(Function, self).__call__(*new_args, **new_kwargs)\n",
      "/data/nielsond/python/envs/abcd_mine/lib/python3.6/site-packages/rpy2/robjects/functions.py:106: UserWarning: Adjusting for0covariate(s) or covariate level(s)\n",
      "\n",
      "  res = super(Function, self).__call__(*new_args, **new_kwargs)\n"
     ]
    },
    {
     "name": "stdout",
     "output_type": "stream",
     "text": [
      "Standardizing Data across genes\n",
      "\n"
     ]
    },
    {
     "name": "stderr",
     "output_type": "stream",
     "text": [
      "/data/nielsond/python/envs/abcd_mine/lib/python3.6/site-packages/rpy2/robjects/functions.py:106: UserWarning: Fitting L/S model and finding priors\n",
      "\n",
      "  res = super(Function, self).__call__(*new_args, **new_kwargs)\n"
     ]
    },
    {
     "name": "stdout",
     "output_type": "stream",
     "text": [
      "Standardizing Data across genes\n",
      "\n"
     ]
    },
    {
     "name": "stderr",
     "output_type": "stream",
     "text": [
      "/data/nielsond/python/envs/abcd_mine/lib/python3.6/site-packages/rpy2/robjects/functions.py:106: UserWarning: Finding nonparametric adjustments\n",
      "\n",
      "  res = super(Function, self).__call__(*new_args, **new_kwargs)\n"
     ]
    },
    {
     "name": "stdout",
     "output_type": "stream",
     "text": [
      "Standardizing Data across genes\n",
      "\n"
     ]
    },
    {
     "name": "stderr",
     "output_type": "stream",
     "text": [
      "/data/nielsond/python/envs/abcd_mine/lib/python3.6/site-packages/rpy2/robjects/functions.py:106: UserWarning: Found2batches\n",
      "\n",
      "  res = super(Function, self).__call__(*new_args, **new_kwargs)\n",
      "/data/nielsond/python/envs/abcd_mine/lib/python3.6/site-packages/rpy2/robjects/functions.py:106: UserWarning: Adjusting for0covariate(s) or covariate level(s)\n",
      "\n",
      "  res = super(Function, self).__call__(*new_args, **new_kwargs)\n"
     ]
    },
    {
     "name": "stdout",
     "output_type": "stream",
     "text": [
      "Standardizing Data across genes\n",
      "\n"
     ]
    },
    {
     "name": "stderr",
     "output_type": "stream",
     "text": [
      "/data/nielsond/python/envs/abcd_mine/lib/python3.6/site-packages/rpy2/robjects/functions.py:106: UserWarning: Fitting L/S model and finding priors\n",
      "\n",
      "  res = super(Function, self).__call__(*new_args, **new_kwargs)\n"
     ]
    },
    {
     "name": "stdout",
     "output_type": "stream",
     "text": [
      "[Parallel(n_jobs=20)]: Done  78 tasks      | elapsed:  9.9min\n"
     ]
    },
    {
     "name": "stderr",
     "output_type": "stream",
     "text": [
      "/data/nielsond/python/envs/abcd_mine/lib/python3.6/site-packages/rpy2/robjects/functions.py:106: UserWarning: Finding nonparametric adjustments\n",
      "\n",
      "  res = super(Function, self).__call__(*new_args, **new_kwargs)\n"
     ]
    },
    {
     "name": "stdout",
     "output_type": "stream",
     "text": [
      "Standardizing Data across genes\n",
      "\n"
     ]
    },
    {
     "name": "stderr",
     "output_type": "stream",
     "text": [
      "/data/nielsond/python/envs/abcd_mine/lib/python3.6/site-packages/rpy2/robjects/functions.py:106: UserWarning: Found2batches\n",
      "\n",
      "  res = super(Function, self).__call__(*new_args, **new_kwargs)\n",
      "/data/nielsond/python/envs/abcd_mine/lib/python3.6/site-packages/rpy2/robjects/functions.py:106: UserWarning: Adjusting for0covariate(s) or covariate level(s)\n",
      "\n",
      "  res = super(Function, self).__call__(*new_args, **new_kwargs)\n"
     ]
    },
    {
     "name": "stdout",
     "output_type": "stream",
     "text": [
      "Standardizing Data across genes\n",
      "\n",
      "[Parallel(n_jobs=20)]: Done  79 tasks      | elapsed:  9.9min\n"
     ]
    },
    {
     "name": "stderr",
     "output_type": "stream",
     "text": [
      "/data/nielsond/python/envs/abcd_mine/lib/python3.6/site-packages/rpy2/robjects/functions.py:106: UserWarning: Fitting L/S model and finding priors\n",
      "\n",
      "  res = super(Function, self).__call__(*new_args, **new_kwargs)\n",
      "/data/nielsond/python/envs/abcd_mine/lib/python3.6/site-packages/rpy2/robjects/functions.py:106: UserWarning: Finding nonparametric adjustments\n",
      "\n",
      "  res = super(Function, self).__call__(*new_args, **new_kwargs)\n"
     ]
    },
    {
     "name": "stdout",
     "output_type": "stream",
     "text": [
      "Standardizing Data across genes\n",
      "\n"
     ]
    },
    {
     "name": "stderr",
     "output_type": "stream",
     "text": [
      "/data/nielsond/python/envs/abcd_mine/lib/python3.6/site-packages/rpy2/robjects/functions.py:106: UserWarning: Found2batches\n",
      "\n",
      "  res = super(Function, self).__call__(*new_args, **new_kwargs)\n",
      "/data/nielsond/python/envs/abcd_mine/lib/python3.6/site-packages/rpy2/robjects/functions.py:106: UserWarning: Adjusting for0covariate(s) or covariate level(s)\n",
      "\n",
      "  res = super(Function, self).__call__(*new_args, **new_kwargs)\n"
     ]
    },
    {
     "name": "stdout",
     "output_type": "stream",
     "text": [
      "Standardizing Data across genes\n",
      "\n"
     ]
    },
    {
     "name": "stderr",
     "output_type": "stream",
     "text": [
      "/data/nielsond/python/envs/abcd_mine/lib/python3.6/site-packages/rpy2/robjects/functions.py:106: UserWarning: Fitting L/S model and finding priors\n",
      "\n",
      "  res = super(Function, self).__call__(*new_args, **new_kwargs)\n"
     ]
    },
    {
     "name": "stdout",
     "output_type": "stream",
     "text": [
      "Standardizing Data across genes\n",
      "\n"
     ]
    },
    {
     "name": "stderr",
     "output_type": "stream",
     "text": [
      "/data/nielsond/python/envs/abcd_mine/lib/python3.6/site-packages/rpy2/robjects/functions.py:106: UserWarning: Adjusting the Data\n",
      "\n",
      "\n",
      "  res = super(Function, self).__call__(*new_args, **new_kwargs)\n",
      "/data/nielsond/python/envs/abcd_mine/lib/python3.6/site-packages/rpy2/robjects/functions.py:106: UserWarning: Adjusting the Data\n",
      "\n",
      "\n",
      "  res = super(Function, self).__call__(*new_args, **new_kwargs)\n",
      "/data/nielsond/python/envs/abcd_mine/lib/python3.6/site-packages/rpy2/robjects/functions.py:106: UserWarning: Finding nonparametric adjustments\n",
      "\n",
      "  res = super(Function, self).__call__(*new_args, **new_kwargs)\n"
     ]
    },
    {
     "name": "stdout",
     "output_type": "stream",
     "text": [
      "Standardizing Data across genes\n",
      "\n",
      "[Parallel(n_jobs=20)]: Done  80 tasks      | elapsed: 10.0min\n",
      "Standardizing Data across genes\n",
      "\n",
      "Standardizing Data across genes\n",
      "\n",
      "Standardizing Data across genes\n",
      "\n"
     ]
    },
    {
     "name": "stderr",
     "output_type": "stream",
     "text": [
      "/data/nielsond/python/envs/abcd_mine/lib/python3.6/site-packages/rpy2/robjects/functions.py:106: UserWarning: Adjusting the Data\n",
      "\n",
      "\n",
      "  res = super(Function, self).__call__(*new_args, **new_kwargs)\n"
     ]
    },
    {
     "name": "stdout",
     "output_type": "stream",
     "text": [
      "Standardizing Data across genes\n",
      "\n",
      "[Parallel(n_jobs=20)]: Done  81 tasks      | elapsed: 10.0min\n",
      "[Parallel(n_jobs=20)]: Done  82 tasks      | elapsed: 10.0min\n",
      "Standardizing Data across genes\n",
      "\n",
      "Standardizing Data across genes\n",
      "\n"
     ]
    },
    {
     "name": "stderr",
     "output_type": "stream",
     "text": [
      "/data/nielsond/python/envs/abcd_mine/lib/python3.6/site-packages/rpy2/robjects/functions.py:106: UserWarning: Adjusting the Data\n",
      "\n",
      "\n",
      "  res = super(Function, self).__call__(*new_args, **new_kwargs)\n"
     ]
    },
    {
     "name": "stdout",
     "output_type": "stream",
     "text": [
      "Standardizing Data across genes\n",
      "\n",
      "Standardizing Data across genes\n",
      "\n",
      "Standardizing Data across genes\n",
      "\n"
     ]
    },
    {
     "name": "stderr",
     "output_type": "stream",
     "text": [
      "/data/nielsond/python/envs/abcd_mine/lib/python3.6/site-packages/rpy2/robjects/functions.py:106: UserWarning: Found2batches\n",
      "\n",
      "  res = super(Function, self).__call__(*new_args, **new_kwargs)\n",
      "/data/nielsond/python/envs/abcd_mine/lib/python3.6/site-packages/rpy2/robjects/functions.py:106: UserWarning: Adjusting for0covariate(s) or covariate level(s)\n",
      "\n",
      "  res = super(Function, self).__call__(*new_args, **new_kwargs)\n"
     ]
    },
    {
     "name": "stdout",
     "output_type": "stream",
     "text": [
      "Standardizing Data across genes\n",
      "\n"
     ]
    },
    {
     "name": "stderr",
     "output_type": "stream",
     "text": [
      "/data/nielsond/python/envs/abcd_mine/lib/python3.6/site-packages/rpy2/robjects/functions.py:106: UserWarning: Fitting L/S model and finding priors\n",
      "\n",
      "  res = super(Function, self).__call__(*new_args, **new_kwargs)\n"
     ]
    },
    {
     "name": "stdout",
     "output_type": "stream",
     "text": [
      "Standardizing Data across genes\n",
      "\n"
     ]
    },
    {
     "name": "stderr",
     "output_type": "stream",
     "text": [
      "/data/nielsond/python/envs/abcd_mine/lib/python3.6/site-packages/rpy2/robjects/functions.py:106: UserWarning: Finding nonparametric adjustments\n",
      "\n",
      "  res = super(Function, self).__call__(*new_args, **new_kwargs)\n"
     ]
    },
    {
     "name": "stdout",
     "output_type": "stream",
     "text": [
      "Standardizing Data across genes\n",
      "\n"
     ]
    },
    {
     "name": "stderr",
     "output_type": "stream",
     "text": [
      "/data/nielsond/python/envs/abcd_mine/lib/python3.6/site-packages/rpy2/robjects/functions.py:106: UserWarning: Found2batches\n",
      "\n",
      "  res = super(Function, self).__call__(*new_args, **new_kwargs)\n",
      "/data/nielsond/python/envs/abcd_mine/lib/python3.6/site-packages/rpy2/robjects/functions.py:106: UserWarning: Adjusting for0covariate(s) or covariate level(s)\n",
      "\n",
      "  res = super(Function, self).__call__(*new_args, **new_kwargs)\n"
     ]
    },
    {
     "name": "stdout",
     "output_type": "stream",
     "text": [
      "Standardizing Data across genes\n",
      "\n",
      "Standardizing Data across genes\n",
      "\n"
     ]
    },
    {
     "name": "stderr",
     "output_type": "stream",
     "text": [
      "/data/nielsond/python/envs/abcd_mine/lib/python3.6/site-packages/rpy2/robjects/functions.py:106: UserWarning: Fitting L/S model and finding priors\n",
      "\n",
      "  res = super(Function, self).__call__(*new_args, **new_kwargs)\n",
      "/data/nielsond/python/envs/abcd_mine/lib/python3.6/site-packages/rpy2/robjects/functions.py:106: UserWarning: Finding nonparametric adjustments\n",
      "\n",
      "  res = super(Function, self).__call__(*new_args, **new_kwargs)\n",
      "/data/nielsond/python/envs/abcd_mine/lib/python3.6/site-packages/rpy2/robjects/functions.py:106: UserWarning: Adjusting the Data\n",
      "\n",
      "\n",
      "  res = super(Function, self).__call__(*new_args, **new_kwargs)\n"
     ]
    },
    {
     "name": "stdout",
     "output_type": "stream",
     "text": [
      "[Parallel(n_jobs=20)]: Done  83 tasks      | elapsed: 10.2min\n",
      "Standardizing Data across genes\n",
      "\n",
      "Standardizing Data across genes\n",
      "\n",
      "Standardizing Data across genes\n",
      "\n"
     ]
    },
    {
     "name": "stderr",
     "output_type": "stream",
     "text": [
      "/data/nielsond/python/envs/abcd_mine/lib/python3.6/site-packages/rpy2/robjects/functions.py:106: UserWarning: Found2batches\n",
      "\n",
      "  res = super(Function, self).__call__(*new_args, **new_kwargs)\n",
      "/data/nielsond/python/envs/abcd_mine/lib/python3.6/site-packages/rpy2/robjects/functions.py:106: UserWarning: Adjusting for0covariate(s) or covariate level(s)\n",
      "\n",
      "  res = super(Function, self).__call__(*new_args, **new_kwargs)\n"
     ]
    },
    {
     "name": "stdout",
     "output_type": "stream",
     "text": [
      "Standardizing Data across genes\n",
      "\n"
     ]
    },
    {
     "name": "stderr",
     "output_type": "stream",
     "text": [
      "/data/nielsond/python/envs/abcd_mine/lib/python3.6/site-packages/rpy2/robjects/functions.py:106: UserWarning: Fitting L/S model and finding priors\n",
      "\n",
      "  res = super(Function, self).__call__(*new_args, **new_kwargs)\n",
      "/data/nielsond/python/envs/abcd_mine/lib/python3.6/site-packages/rpy2/robjects/functions.py:106: UserWarning: Found2batches\n",
      "\n",
      "  res = super(Function, self).__call__(*new_args, **new_kwargs)\n",
      "/data/nielsond/python/envs/abcd_mine/lib/python3.6/site-packages/rpy2/robjects/functions.py:106: UserWarning: Adjusting for0covariate(s) or covariate level(s)\n",
      "\n",
      "  res = super(Function, self).__call__(*new_args, **new_kwargs)\n"
     ]
    },
    {
     "name": "stdout",
     "output_type": "stream",
     "text": [
      "Standardizing Data across genes\n",
      "\n"
     ]
    },
    {
     "name": "stderr",
     "output_type": "stream",
     "text": [
      "/data/nielsond/python/envs/abcd_mine/lib/python3.6/site-packages/rpy2/robjects/functions.py:106: UserWarning: Fitting L/S model and finding priors\n",
      "\n",
      "  res = super(Function, self).__call__(*new_args, **new_kwargs)\n"
     ]
    },
    {
     "name": "stdout",
     "output_type": "stream",
     "text": [
      "Standardizing Data across genes\n",
      "\n"
     ]
    },
    {
     "name": "stderr",
     "output_type": "stream",
     "text": [
      "/data/nielsond/python/envs/abcd_mine/lib/python3.6/site-packages/rpy2/robjects/functions.py:106: UserWarning: Finding nonparametric adjustments\n",
      "\n",
      "  res = super(Function, self).__call__(*new_args, **new_kwargs)\n",
      "/data/nielsond/python/envs/abcd_mine/lib/python3.6/site-packages/rpy2/robjects/functions.py:106: UserWarning: Finding nonparametric adjustments\n",
      "\n",
      "  res = super(Function, self).__call__(*new_args, **new_kwargs)\n"
     ]
    },
    {
     "name": "stdout",
     "output_type": "stream",
     "text": [
      "[Parallel(n_jobs=20)]: Done  84 tasks      | elapsed: 10.2min\n"
     ]
    },
    {
     "name": "stderr",
     "output_type": "stream",
     "text": [
      "/data/nielsond/python/envs/abcd_mine/lib/python3.6/site-packages/rpy2/robjects/functions.py:106: UserWarning: Adjusting the Data\n",
      "\n",
      "\n",
      "  res = super(Function, self).__call__(*new_args, **new_kwargs)\n"
     ]
    },
    {
     "name": "stdout",
     "output_type": "stream",
     "text": [
      "Standardizing Data across genes\n",
      "\n"
     ]
    },
    {
     "name": "stderr",
     "output_type": "stream",
     "text": [
      "/data/nielsond/python/envs/abcd_mine/lib/python3.6/site-packages/rpy2/robjects/functions.py:106: UserWarning: Found2batches\n",
      "\n",
      "  res = super(Function, self).__call__(*new_args, **new_kwargs)\n",
      "/data/nielsond/python/envs/abcd_mine/lib/python3.6/site-packages/rpy2/robjects/functions.py:106: UserWarning: Adjusting for0covariate(s) or covariate level(s)\n",
      "\n",
      "  res = super(Function, self).__call__(*new_args, **new_kwargs)\n"
     ]
    },
    {
     "name": "stdout",
     "output_type": "stream",
     "text": [
      "Standardizing Data across genes\n",
      "\n"
     ]
    },
    {
     "name": "stderr",
     "output_type": "stream",
     "text": [
      "/data/nielsond/python/envs/abcd_mine/lib/python3.6/site-packages/rpy2/robjects/functions.py:106: UserWarning: Fitting L/S model and finding priors\n",
      "\n",
      "  res = super(Function, self).__call__(*new_args, **new_kwargs)\n",
      "/data/nielsond/python/envs/abcd_mine/lib/python3.6/site-packages/rpy2/robjects/functions.py:106: UserWarning: Finding nonparametric adjustments\n",
      "\n",
      "  res = super(Function, self).__call__(*new_args, **new_kwargs)\n",
      "/data/nielsond/python/envs/abcd_mine/lib/python3.6/site-packages/rpy2/robjects/functions.py:106: UserWarning: Found2batches\n",
      "\n",
      "  res = super(Function, self).__call__(*new_args, **new_kwargs)\n",
      "/data/nielsond/python/envs/abcd_mine/lib/python3.6/site-packages/rpy2/robjects/functions.py:106: UserWarning: Adjusting for0covariate(s) or covariate level(s)\n",
      "\n",
      "  res = super(Function, self).__call__(*new_args, **new_kwargs)\n"
     ]
    },
    {
     "name": "stdout",
     "output_type": "stream",
     "text": [
      "Standardizing Data across genes\n",
      "\n"
     ]
    },
    {
     "name": "stderr",
     "output_type": "stream",
     "text": [
      "/data/nielsond/python/envs/abcd_mine/lib/python3.6/site-packages/rpy2/robjects/functions.py:106: UserWarning: Adjusting the Data\n",
      "\n",
      "\n",
      "  res = super(Function, self).__call__(*new_args, **new_kwargs)\n"
     ]
    },
    {
     "name": "stdout",
     "output_type": "stream",
     "text": [
      "Standardizing Data across genes\n",
      "\n",
      "[Parallel(n_jobs=20)]: Done  85 tasks      | elapsed: 10.3min\n"
     ]
    },
    {
     "name": "stderr",
     "output_type": "stream",
     "text": [
      "/data/nielsond/python/envs/abcd_mine/lib/python3.6/site-packages/rpy2/robjects/functions.py:106: UserWarning: Fitting L/S model and finding priors\n",
      "\n",
      "  res = super(Function, self).__call__(*new_args, **new_kwargs)\n",
      "/data/nielsond/python/envs/abcd_mine/lib/python3.6/site-packages/rpy2/robjects/functions.py:106: UserWarning: Finding nonparametric adjustments\n",
      "\n",
      "  res = super(Function, self).__call__(*new_args, **new_kwargs)\n"
     ]
    },
    {
     "name": "stdout",
     "output_type": "stream",
     "text": [
      "[Parallel(n_jobs=20)]: Done  86 tasks      | elapsed: 10.4min\n",
      "Standardizing Data across genes\n",
      "\n"
     ]
    },
    {
     "name": "stderr",
     "output_type": "stream",
     "text": [
      "/data/nielsond/python/envs/abcd_mine/lib/python3.6/site-packages/rpy2/robjects/functions.py:106: UserWarning: Found2batches\n",
      "\n",
      "  res = super(Function, self).__call__(*new_args, **new_kwargs)\n",
      "/data/nielsond/python/envs/abcd_mine/lib/python3.6/site-packages/rpy2/robjects/functions.py:106: UserWarning: Adjusting for0covariate(s) or covariate level(s)\n",
      "\n",
      "  res = super(Function, self).__call__(*new_args, **new_kwargs)\n"
     ]
    },
    {
     "name": "stdout",
     "output_type": "stream",
     "text": [
      "Standardizing Data across genes\n",
      "\n",
      "[Parallel(n_jobs=20)]: Done  87 tasks      | elapsed: 10.4min\n"
     ]
    },
    {
     "name": "stderr",
     "output_type": "stream",
     "text": [
      "/data/nielsond/python/envs/abcd_mine/lib/python3.6/site-packages/rpy2/robjects/functions.py:106: UserWarning: Fitting L/S model and finding priors\n",
      "\n",
      "  res = super(Function, self).__call__(*new_args, **new_kwargs)\n",
      "/data/nielsond/python/envs/abcd_mine/lib/python3.6/site-packages/rpy2/robjects/functions.py:106: UserWarning: Finding nonparametric adjustments\n",
      "\n",
      "  res = super(Function, self).__call__(*new_args, **new_kwargs)\n"
     ]
    },
    {
     "name": "stdout",
     "output_type": "stream",
     "text": [
      "Standardizing Data across genes\n",
      "\n"
     ]
    },
    {
     "name": "stderr",
     "output_type": "stream",
     "text": [
      "/data/nielsond/python/envs/abcd_mine/lib/python3.6/site-packages/rpy2/robjects/functions.py:106: UserWarning: Adjusting the Data\n",
      "\n",
      "\n",
      "  res = super(Function, self).__call__(*new_args, **new_kwargs)\n",
      "/data/nielsond/python/envs/abcd_mine/lib/python3.6/site-packages/rpy2/robjects/functions.py:106: UserWarning: Found2batches\n",
      "\n",
      "  res = super(Function, self).__call__(*new_args, **new_kwargs)\n",
      "/data/nielsond/python/envs/abcd_mine/lib/python3.6/site-packages/rpy2/robjects/functions.py:106: UserWarning: Adjusting for0covariate(s) or covariate level(s)\n",
      "\n",
      "  res = super(Function, self).__call__(*new_args, **new_kwargs)\n"
     ]
    },
    {
     "name": "stdout",
     "output_type": "stream",
     "text": [
      "Standardizing Data across genes\n",
      "\n",
      "Standardizing Data across genes\n",
      "\n",
      "[Parallel(n_jobs=20)]: Done  88 tasks      | elapsed: 10.5min\n"
     ]
    },
    {
     "name": "stderr",
     "output_type": "stream",
     "text": [
      "/data/nielsond/python/envs/abcd_mine/lib/python3.6/site-packages/rpy2/robjects/functions.py:106: UserWarning: Adjusting the Data\n",
      "\n",
      "\n",
      "  res = super(Function, self).__call__(*new_args, **new_kwargs)\n"
     ]
    },
    {
     "name": "stdout",
     "output_type": "stream",
     "text": [
      "Standardizing Data across genes\n",
      "\n",
      "Standardizing Data across genes\n",
      "\n"
     ]
    },
    {
     "name": "stderr",
     "output_type": "stream",
     "text": [
      "/data/nielsond/python/envs/abcd_mine/lib/python3.6/site-packages/rpy2/robjects/functions.py:106: UserWarning: Fitting L/S model and finding priors\n",
      "\n",
      "  res = super(Function, self).__call__(*new_args, **new_kwargs)\n",
      "/data/nielsond/python/envs/abcd_mine/lib/python3.6/site-packages/rpy2/robjects/functions.py:106: UserWarning: Finding nonparametric adjustments\n",
      "\n",
      "  res = super(Function, self).__call__(*new_args, **new_kwargs)\n"
     ]
    },
    {
     "name": "stdout",
     "output_type": "stream",
     "text": [
      "[Parallel(n_jobs=20)]: Done  89 tasks      | elapsed: 10.5min\n"
     ]
    },
    {
     "name": "stderr",
     "output_type": "stream",
     "text": [
      "/data/nielsond/python/envs/abcd_mine/lib/python3.6/site-packages/rpy2/robjects/functions.py:106: UserWarning: Adjusting the Data\n",
      "\n",
      "\n",
      "  res = super(Function, self).__call__(*new_args, **new_kwargs)\n",
      "/data/nielsond/python/envs/abcd_mine/lib/python3.6/site-packages/rpy2/robjects/functions.py:106: UserWarning: Adjusting the Data\n",
      "\n",
      "\n",
      "  res = super(Function, self).__call__(*new_args, **new_kwargs)\n",
      "/data/nielsond/python/envs/abcd_mine/lib/python3.6/site-packages/rpy2/robjects/functions.py:106: UserWarning: Adjusting the Data\n",
      "\n",
      "\n",
      "  res = super(Function, self).__call__(*new_args, **new_kwargs)\n"
     ]
    },
    {
     "name": "stdout",
     "output_type": "stream",
     "text": [
      "Standardizing Data across genes\n",
      "\n"
     ]
    },
    {
     "name": "stderr",
     "output_type": "stream",
     "text": [
      "/data/nielsond/python/envs/abcd_mine/lib/python3.6/site-packages/rpy2/robjects/functions.py:106: UserWarning: Found2batches\n",
      "\n",
      "  res = super(Function, self).__call__(*new_args, **new_kwargs)\n",
      "/data/nielsond/python/envs/abcd_mine/lib/python3.6/site-packages/rpy2/robjects/functions.py:106: UserWarning: Adjusting for0covariate(s) or covariate level(s)\n",
      "\n",
      "  res = super(Function, self).__call__(*new_args, **new_kwargs)\n"
     ]
    },
    {
     "name": "stdout",
     "output_type": "stream",
     "text": [
      "Standardizing Data across genes\n",
      "\n"
     ]
    },
    {
     "name": "stderr",
     "output_type": "stream",
     "text": [
      "/data/nielsond/python/envs/abcd_mine/lib/python3.6/site-packages/rpy2/robjects/functions.py:106: UserWarning: Fitting L/S model and finding priors\n",
      "\n",
      "  res = super(Function, self).__call__(*new_args, **new_kwargs)\n",
      "/data/nielsond/python/envs/abcd_mine/lib/python3.6/site-packages/rpy2/robjects/functions.py:106: UserWarning: Finding nonparametric adjustments\n",
      "\n",
      "  res = super(Function, self).__call__(*new_args, **new_kwargs)\n"
     ]
    },
    {
     "name": "stdout",
     "output_type": "stream",
     "text": [
      "Standardizing Data across genes\n",
      "\n",
      "Standardizing Data across genes\n",
      "\n",
      "Standardizing Data across genes\n",
      "\n"
     ]
    },
    {
     "name": "stderr",
     "output_type": "stream",
     "text": [
      "/data/nielsond/python/envs/abcd_mine/lib/python3.6/site-packages/rpy2/robjects/functions.py:106: UserWarning: Adjusting the Data\n",
      "\n",
      "\n",
      "  res = super(Function, self).__call__(*new_args, **new_kwargs)\n"
     ]
    },
    {
     "name": "stdout",
     "output_type": "stream",
     "text": [
      "Standardizing Data across genes\n",
      "\n",
      "Standardizing Data across genes\n",
      "\n",
      "[Parallel(n_jobs=20)]: Done  90 tasks      | elapsed: 10.6min\n",
      "Standardizing Data across genes\n",
      "\n",
      "Standardizing Data across genes\n",
      "\n",
      "Standardizing Data across genes\n",
      "\n"
     ]
    },
    {
     "name": "stderr",
     "output_type": "stream",
     "text": [
      "/data/nielsond/python/envs/abcd_mine/lib/python3.6/site-packages/rpy2/robjects/functions.py:106: UserWarning: Found2batches\n",
      "\n",
      "  res = super(Function, self).__call__(*new_args, **new_kwargs)\n",
      "/data/nielsond/python/envs/abcd_mine/lib/python3.6/site-packages/rpy2/robjects/functions.py:106: UserWarning: Adjusting for0covariate(s) or covariate level(s)\n",
      "\n",
      "  res = super(Function, self).__call__(*new_args, **new_kwargs)\n"
     ]
    },
    {
     "name": "stdout",
     "output_type": "stream",
     "text": [
      "Standardizing Data across genes\n",
      "\n"
     ]
    },
    {
     "name": "stderr",
     "output_type": "stream",
     "text": [
      "/data/nielsond/python/envs/abcd_mine/lib/python3.6/site-packages/rpy2/robjects/functions.py:106: UserWarning: Fitting L/S model and finding priors\n",
      "\n",
      "  res = super(Function, self).__call__(*new_args, **new_kwargs)\n",
      "/data/nielsond/python/envs/abcd_mine/lib/python3.6/site-packages/rpy2/robjects/functions.py:106: UserWarning: Finding nonparametric adjustments\n",
      "\n",
      "  res = super(Function, self).__call__(*new_args, **new_kwargs)\n"
     ]
    },
    {
     "name": "stdout",
     "output_type": "stream",
     "text": [
      "Standardizing Data across genes\n",
      "\n"
     ]
    },
    {
     "name": "stderr",
     "output_type": "stream",
     "text": [
      "/data/nielsond/python/envs/abcd_mine/lib/python3.6/site-packages/rpy2/robjects/functions.py:106: UserWarning: Adjusting the Data\n",
      "\n",
      "\n",
      "  res = super(Function, self).__call__(*new_args, **new_kwargs)\n"
     ]
    },
    {
     "name": "stdout",
     "output_type": "stream",
     "text": [
      "Standardizing Data across genes\n",
      "\n",
      "Standardizing Data across genes\n",
      "\n",
      "Standardizing Data across genes\n",
      "\n",
      "Standardizing Data across genes\n",
      "\n"
     ]
    },
    {
     "name": "stderr",
     "output_type": "stream",
     "text": [
      "/data/nielsond/python/envs/abcd_mine/lib/python3.6/site-packages/rpy2/robjects/functions.py:106: UserWarning: Found2batches\n",
      "\n",
      "  res = super(Function, self).__call__(*new_args, **new_kwargs)\n",
      "/data/nielsond/python/envs/abcd_mine/lib/python3.6/site-packages/rpy2/robjects/functions.py:106: UserWarning: Adjusting for0covariate(s) or covariate level(s)\n",
      "\n",
      "  res = super(Function, self).__call__(*new_args, **new_kwargs)\n"
     ]
    },
    {
     "name": "stdout",
     "output_type": "stream",
     "text": [
      "Standardizing Data across genes\n",
      "\n"
     ]
    },
    {
     "name": "stderr",
     "output_type": "stream",
     "text": [
      "/data/nielsond/python/envs/abcd_mine/lib/python3.6/site-packages/rpy2/robjects/functions.py:106: UserWarning: Fitting L/S model and finding priors\n",
      "\n",
      "  res = super(Function, self).__call__(*new_args, **new_kwargs)\n"
     ]
    },
    {
     "name": "stdout",
     "output_type": "stream",
     "text": [
      "Standardizing Data across genes\n",
      "\n"
     ]
    },
    {
     "name": "stderr",
     "output_type": "stream",
     "text": [
      "/data/nielsond/python/envs/abcd_mine/lib/python3.6/site-packages/rpy2/robjects/functions.py:106: UserWarning: Finding nonparametric adjustments\n",
      "\n",
      "  res = super(Function, self).__call__(*new_args, **new_kwargs)\n"
     ]
    },
    {
     "name": "stdout",
     "output_type": "stream",
     "text": [
      "Standardizing Data across genes\n",
      "\n",
      "Standardizing Data across genes\n",
      "\n"
     ]
    },
    {
     "name": "stderr",
     "output_type": "stream",
     "text": [
      "/data/nielsond/python/envs/abcd_mine/lib/python3.6/site-packages/rpy2/robjects/functions.py:106: UserWarning: Found2batches\n",
      "\n",
      "  res = super(Function, self).__call__(*new_args, **new_kwargs)\n",
      "/data/nielsond/python/envs/abcd_mine/lib/python3.6/site-packages/rpy2/robjects/functions.py:106: UserWarning: Adjusting for0covariate(s) or covariate level(s)\n",
      "\n",
      "  res = super(Function, self).__call__(*new_args, **new_kwargs)\n"
     ]
    },
    {
     "name": "stdout",
     "output_type": "stream",
     "text": [
      "Standardizing Data across genes\n",
      "\n"
     ]
    },
    {
     "name": "stderr",
     "output_type": "stream",
     "text": [
      "/data/nielsond/python/envs/abcd_mine/lib/python3.6/site-packages/rpy2/robjects/functions.py:106: UserWarning: Fitting L/S model and finding priors\n",
      "\n",
      "  res = super(Function, self).__call__(*new_args, **new_kwargs)\n",
      "/data/nielsond/python/envs/abcd_mine/lib/python3.6/site-packages/rpy2/robjects/functions.py:106: UserWarning: Finding nonparametric adjustments\n",
      "\n",
      "  res = super(Function, self).__call__(*new_args, **new_kwargs)\n",
      "/data/nielsond/python/envs/abcd_mine/lib/python3.6/site-packages/rpy2/robjects/functions.py:106: UserWarning: Adjusting the Data\n",
      "\n",
      "\n",
      "  res = super(Function, self).__call__(*new_args, **new_kwargs)\n",
      "/data/nielsond/python/envs/abcd_mine/lib/python3.6/site-packages/rpy2/robjects/functions.py:106: UserWarning: Adjusting the Data\n",
      "\n",
      "\n",
      "  res = super(Function, self).__call__(*new_args, **new_kwargs)\n",
      "/data/nielsond/python/envs/abcd_mine/lib/python3.6/site-packages/rpy2/robjects/functions.py:106: UserWarning: Adjusting the Data\n",
      "\n",
      "\n",
      "  res = super(Function, self).__call__(*new_args, **new_kwargs)\n"
     ]
    },
    {
     "name": "stdout",
     "output_type": "stream",
     "text": [
      "Standardizing Data across genes\n",
      "\n",
      "Standardizing Data across genes\n",
      "\n",
      "Standardizing Data across genes\n",
      "\n",
      "Standardizing Data across genes\n",
      "\n",
      "Standardizing Data across genes\n",
      "\n",
      "Standardizing Data across genes\n",
      "\n",
      "Standardizing Data across genes\n",
      "\n"
     ]
    },
    {
     "name": "stderr",
     "output_type": "stream",
     "text": [
      "/data/nielsond/python/envs/abcd_mine/lib/python3.6/site-packages/rpy2/robjects/functions.py:106: UserWarning: Found2batches\n",
      "\n",
      "  res = super(Function, self).__call__(*new_args, **new_kwargs)\n",
      "/data/nielsond/python/envs/abcd_mine/lib/python3.6/site-packages/rpy2/robjects/functions.py:106: UserWarning: Adjusting for0covariate(s) or covariate level(s)\n",
      "\n",
      "  res = super(Function, self).__call__(*new_args, **new_kwargs)\n"
     ]
    },
    {
     "name": "stdout",
     "output_type": "stream",
     "text": [
      "Standardizing Data across genes\n",
      "\n"
     ]
    },
    {
     "name": "stderr",
     "output_type": "stream",
     "text": [
      "/data/nielsond/python/envs/abcd_mine/lib/python3.6/site-packages/rpy2/robjects/functions.py:106: UserWarning: Fitting L/S model and finding priors\n",
      "\n",
      "  res = super(Function, self).__call__(*new_args, **new_kwargs)\n"
     ]
    },
    {
     "name": "stdout",
     "output_type": "stream",
     "text": [
      "Standardizing Data across genes\n",
      "\n"
     ]
    },
    {
     "name": "stderr",
     "output_type": "stream",
     "text": [
      "/data/nielsond/python/envs/abcd_mine/lib/python3.6/site-packages/rpy2/robjects/functions.py:106: UserWarning: Finding nonparametric adjustments\n",
      "\n",
      "  res = super(Function, self).__call__(*new_args, **new_kwargs)\n",
      "/data/nielsond/python/envs/abcd_mine/lib/python3.6/site-packages/rpy2/robjects/functions.py:106: UserWarning: Adjusting the Data\n",
      "\n",
      "\n",
      "  res = super(Function, self).__call__(*new_args, **new_kwargs)\n"
     ]
    },
    {
     "name": "stdout",
     "output_type": "stream",
     "text": [
      "Standardizing Data across genes\n",
      "\n",
      "Standardizing Data across genes\n",
      "\n",
      "[Parallel(n_jobs=20)]: Done  91 tasks      | elapsed: 11.0min\n",
      "Standardizing Data across genes\n",
      "\n"
     ]
    },
    {
     "name": "stderr",
     "output_type": "stream",
     "text": [
      "/data/nielsond/python/envs/abcd_mine/lib/python3.6/site-packages/rpy2/robjects/functions.py:106: UserWarning: Found2batches\n",
      "\n",
      "  res = super(Function, self).__call__(*new_args, **new_kwargs)\n",
      "/data/nielsond/python/envs/abcd_mine/lib/python3.6/site-packages/rpy2/robjects/functions.py:106: UserWarning: Adjusting for0covariate(s) or covariate level(s)\n",
      "\n",
      "  res = super(Function, self).__call__(*new_args, **new_kwargs)\n"
     ]
    },
    {
     "name": "stdout",
     "output_type": "stream",
     "text": [
      "Standardizing Data across genes\n",
      "\n"
     ]
    },
    {
     "name": "stderr",
     "output_type": "stream",
     "text": [
      "/data/nielsond/python/envs/abcd_mine/lib/python3.6/site-packages/rpy2/robjects/functions.py:106: UserWarning: Fitting L/S model and finding priors\n",
      "\n",
      "  res = super(Function, self).__call__(*new_args, **new_kwargs)\n",
      "/data/nielsond/python/envs/abcd_mine/lib/python3.6/site-packages/rpy2/robjects/functions.py:106: UserWarning: Finding nonparametric adjustments\n",
      "\n",
      "  res = super(Function, self).__call__(*new_args, **new_kwargs)\n"
     ]
    },
    {
     "name": "stdout",
     "output_type": "stream",
     "text": [
      "[Parallel(n_jobs=20)]: Done  92 tasks      | elapsed: 11.1min\n",
      "Standardizing Data across genes\n",
      "\n",
      "[Parallel(n_jobs=20)]: Done  93 tasks      | elapsed: 11.1min\n",
      "Standardizing Data across genes\n",
      "\n",
      "Standardizing Data across genes\n",
      "\n"
     ]
    },
    {
     "name": "stderr",
     "output_type": "stream",
     "text": [
      "/data/nielsond/python/envs/abcd_mine/lib/python3.6/site-packages/rpy2/robjects/functions.py:106: UserWarning: Adjusting the Data\n",
      "\n",
      "\n",
      "  res = super(Function, self).__call__(*new_args, **new_kwargs)\n",
      "/data/nielsond/python/envs/abcd_mine/lib/python3.6/site-packages/rpy2/robjects/functions.py:106: UserWarning: Found2batches\n",
      "\n",
      "  res = super(Function, self).__call__(*new_args, **new_kwargs)\n",
      "/data/nielsond/python/envs/abcd_mine/lib/python3.6/site-packages/rpy2/robjects/functions.py:106: UserWarning: Adjusting for0covariate(s) or covariate level(s)\n",
      "\n",
      "  res = super(Function, self).__call__(*new_args, **new_kwargs)\n"
     ]
    },
    {
     "name": "stdout",
     "output_type": "stream",
     "text": [
      "Standardizing Data across genes\n",
      "\n",
      "Standardizing Data across genes\n",
      "\n"
     ]
    },
    {
     "name": "stderr",
     "output_type": "stream",
     "text": [
      "/data/nielsond/python/envs/abcd_mine/lib/python3.6/site-packages/rpy2/robjects/functions.py:106: UserWarning: Fitting L/S model and finding priors\n",
      "\n",
      "  res = super(Function, self).__call__(*new_args, **new_kwargs)\n",
      "/data/nielsond/python/envs/abcd_mine/lib/python3.6/site-packages/rpy2/robjects/functions.py:106: UserWarning: Adjusting the Data\n",
      "\n",
      "\n",
      "  res = super(Function, self).__call__(*new_args, **new_kwargs)\n",
      "/data/nielsond/python/envs/abcd_mine/lib/python3.6/site-packages/rpy2/robjects/functions.py:106: UserWarning: Finding nonparametric adjustments\n",
      "\n",
      "  res = super(Function, self).__call__(*new_args, **new_kwargs)\n"
     ]
    },
    {
     "name": "stdout",
     "output_type": "stream",
     "text": [
      "Standardizing Data across genes\n",
      "\n",
      "Standardizing Data across genes\n",
      "\n",
      "[Parallel(n_jobs=20)]: Done  94 tasks      | elapsed: 11.2min\n",
      "Standardizing Data across genes\n",
      "\n",
      "[Parallel(n_jobs=20)]: Done  95 tasks      | elapsed: 11.2min\n"
     ]
    },
    {
     "name": "stderr",
     "output_type": "stream",
     "text": [
      "/data/nielsond/python/envs/abcd_mine/lib/python3.6/site-packages/rpy2/robjects/functions.py:106: UserWarning: Found2batches\n",
      "\n",
      "  res = super(Function, self).__call__(*new_args, **new_kwargs)\n",
      "/data/nielsond/python/envs/abcd_mine/lib/python3.6/site-packages/rpy2/robjects/functions.py:106: UserWarning: Adjusting for0covariate(s) or covariate level(s)\n",
      "\n",
      "  res = super(Function, self).__call__(*new_args, **new_kwargs)\n"
     ]
    },
    {
     "name": "stdout",
     "output_type": "stream",
     "text": [
      "Standardizing Data across genes\n",
      "\n"
     ]
    },
    {
     "name": "stderr",
     "output_type": "stream",
     "text": [
      "/data/nielsond/python/envs/abcd_mine/lib/python3.6/site-packages/rpy2/robjects/functions.py:106: UserWarning: Fitting L/S model and finding priors\n",
      "\n",
      "  res = super(Function, self).__call__(*new_args, **new_kwargs)\n"
     ]
    },
    {
     "name": "stdout",
     "output_type": "stream",
     "text": [
      "Standardizing Data across genes\n",
      "\n"
     ]
    },
    {
     "name": "stderr",
     "output_type": "stream",
     "text": [
      "/data/nielsond/python/envs/abcd_mine/lib/python3.6/site-packages/rpy2/robjects/functions.py:106: UserWarning: Finding nonparametric adjustments\n",
      "\n",
      "  res = super(Function, self).__call__(*new_args, **new_kwargs)\n"
     ]
    },
    {
     "name": "stdout",
     "output_type": "stream",
     "text": [
      "[Parallel(n_jobs=20)]: Done  96 tasks      | elapsed: 11.2min\n",
      "Standardizing Data across genes\n",
      "\n",
      "[Parallel(n_jobs=20)]: Done  97 tasks      | elapsed: 11.3min\n",
      "[Parallel(n_jobs=20)]: Done  98 tasks      | elapsed: 11.3min\n"
     ]
    },
    {
     "name": "stderr",
     "output_type": "stream",
     "text": [
      "/data/nielsond/python/envs/abcd_mine/lib/python3.6/site-packages/rpy2/robjects/functions.py:106: UserWarning: Found2batches\n",
      "\n",
      "  res = super(Function, self).__call__(*new_args, **new_kwargs)\n",
      "/data/nielsond/python/envs/abcd_mine/lib/python3.6/site-packages/rpy2/robjects/functions.py:106: UserWarning: Adjusting for0covariate(s) or covariate level(s)\n",
      "\n",
      "  res = super(Function, self).__call__(*new_args, **new_kwargs)\n"
     ]
    },
    {
     "name": "stdout",
     "output_type": "stream",
     "text": [
      "Standardizing Data across genes\n",
      "\n"
     ]
    },
    {
     "name": "stderr",
     "output_type": "stream",
     "text": [
      "/data/nielsond/python/envs/abcd_mine/lib/python3.6/site-packages/rpy2/robjects/functions.py:106: UserWarning: Fitting L/S model and finding priors\n",
      "\n",
      "  res = super(Function, self).__call__(*new_args, **new_kwargs)\n",
      "/data/nielsond/python/envs/abcd_mine/lib/python3.6/site-packages/rpy2/robjects/functions.py:106: UserWarning: Finding nonparametric adjustments\n",
      "\n",
      "  res = super(Function, self).__call__(*new_args, **new_kwargs)\n"
     ]
    },
    {
     "name": "stdout",
     "output_type": "stream",
     "text": [
      "[Parallel(n_jobs=20)]: Done  99 tasks      | elapsed: 11.3min\n",
      "[Parallel(n_jobs=20)]: Done 100 tasks      | elapsed: 11.3min\n"
     ]
    },
    {
     "name": "stderr",
     "output_type": "stream",
     "text": [
      "/data/nielsond/python/envs/abcd_mine/lib/python3.6/site-packages/rpy2/robjects/functions.py:106: UserWarning: Adjusting the Data\n",
      "\n",
      "\n",
      "  res = super(Function, self).__call__(*new_args, **new_kwargs)\n"
     ]
    },
    {
     "name": "stdout",
     "output_type": "stream",
     "text": [
      "Standardizing Data across genes\n",
      "\n",
      "Standardizing Data across genes\n",
      "\n",
      "[Parallel(n_jobs=20)]: Done 101 tasks      | elapsed: 11.3min\n"
     ]
    },
    {
     "name": "stderr",
     "output_type": "stream",
     "text": [
      "/data/nielsond/python/envs/abcd_mine/lib/python3.6/site-packages/rpy2/robjects/functions.py:106: UserWarning: Found2batches\n",
      "\n",
      "  res = super(Function, self).__call__(*new_args, **new_kwargs)\n",
      "/data/nielsond/python/envs/abcd_mine/lib/python3.6/site-packages/rpy2/robjects/functions.py:106: UserWarning: Adjusting for0covariate(s) or covariate level(s)\n",
      "\n",
      "  res = super(Function, self).__call__(*new_args, **new_kwargs)\n"
     ]
    },
    {
     "name": "stdout",
     "output_type": "stream",
     "text": [
      "Standardizing Data across genes\n",
      "\n"
     ]
    },
    {
     "name": "stderr",
     "output_type": "stream",
     "text": [
      "/data/nielsond/python/envs/abcd_mine/lib/python3.6/site-packages/rpy2/robjects/functions.py:106: UserWarning: Fitting L/S model and finding priors\n",
      "\n",
      "  res = super(Function, self).__call__(*new_args, **new_kwargs)\n",
      "/data/nielsond/python/envs/abcd_mine/lib/python3.6/site-packages/rpy2/robjects/functions.py:106: UserWarning: Finding nonparametric adjustments\n",
      "\n",
      "  res = super(Function, self).__call__(*new_args, **new_kwargs)\n"
     ]
    },
    {
     "name": "stdout",
     "output_type": "stream",
     "text": [
      "Standardizing Data across genes\n",
      "\n",
      "[Parallel(n_jobs=20)]: Done 102 tasks      | elapsed: 11.3min\n",
      "[Parallel(n_jobs=20)]: Done 103 tasks      | elapsed: 11.3min\n"
     ]
    },
    {
     "name": "stderr",
     "output_type": "stream",
     "text": [
      "/data/nielsond/python/envs/abcd_mine/lib/python3.6/site-packages/rpy2/robjects/functions.py:106: UserWarning: Adjusting the Data\n",
      "\n",
      "\n",
      "  res = super(Function, self).__call__(*new_args, **new_kwargs)\n"
     ]
    },
    {
     "name": "stdout",
     "output_type": "stream",
     "text": [
      "Standardizing Data across genes\n",
      "\n",
      "Standardizing Data across genes\n",
      "\n"
     ]
    },
    {
     "name": "stderr",
     "output_type": "stream",
     "text": [
      "/data/nielsond/python/envs/abcd_mine/lib/python3.6/site-packages/rpy2/robjects/functions.py:106: UserWarning: Found2batches\n",
      "\n",
      "  res = super(Function, self).__call__(*new_args, **new_kwargs)\n",
      "/data/nielsond/python/envs/abcd_mine/lib/python3.6/site-packages/rpy2/robjects/functions.py:106: UserWarning: Adjusting for0covariate(s) or covariate level(s)\n",
      "\n",
      "  res = super(Function, self).__call__(*new_args, **new_kwargs)\n"
     ]
    },
    {
     "name": "stdout",
     "output_type": "stream",
     "text": [
      "Standardizing Data across genes\n",
      "\n"
     ]
    },
    {
     "name": "stderr",
     "output_type": "stream",
     "text": [
      "/data/nielsond/python/envs/abcd_mine/lib/python3.6/site-packages/rpy2/robjects/functions.py:106: UserWarning: Fitting L/S model and finding priors\n",
      "\n",
      "  res = super(Function, self).__call__(*new_args, **new_kwargs)\n",
      "/data/nielsond/python/envs/abcd_mine/lib/python3.6/site-packages/rpy2/robjects/functions.py:106: UserWarning: Finding nonparametric adjustments\n",
      "\n",
      "  res = super(Function, self).__call__(*new_args, **new_kwargs)\n",
      "/data/nielsond/python/envs/abcd_mine/lib/python3.6/site-packages/rpy2/robjects/functions.py:106: UserWarning: Found2batches\n",
      "\n",
      "  res = super(Function, self).__call__(*new_args, **new_kwargs)\n",
      "/data/nielsond/python/envs/abcd_mine/lib/python3.6/site-packages/rpy2/robjects/functions.py:106: UserWarning: Adjusting for0covariate(s) or covariate level(s)\n",
      "\n",
      "  res = super(Function, self).__call__(*new_args, **new_kwargs)\n"
     ]
    },
    {
     "name": "stdout",
     "output_type": "stream",
     "text": [
      "Standardizing Data across genes\n",
      "\n"
     ]
    },
    {
     "name": "stderr",
     "output_type": "stream",
     "text": [
      "/data/nielsond/python/envs/abcd_mine/lib/python3.6/site-packages/rpy2/robjects/functions.py:106: UserWarning: Fitting L/S model and finding priors\n",
      "\n",
      "  res = super(Function, self).__call__(*new_args, **new_kwargs)\n",
      "/data/nielsond/python/envs/abcd_mine/lib/python3.6/site-packages/rpy2/robjects/functions.py:106: UserWarning: Finding nonparametric adjustments\n",
      "\n",
      "  res = super(Function, self).__call__(*new_args, **new_kwargs)\n",
      "/data/nielsond/python/envs/abcd_mine/lib/python3.6/site-packages/rpy2/robjects/functions.py:106: UserWarning: Adjusting the Data\n",
      "\n",
      "\n",
      "  res = super(Function, self).__call__(*new_args, **new_kwargs)\n",
      "/data/nielsond/python/envs/abcd_mine/lib/python3.6/site-packages/rpy2/robjects/functions.py:106: UserWarning: Adjusting the Data\n",
      "\n",
      "\n",
      "  res = super(Function, self).__call__(*new_args, **new_kwargs)\n"
     ]
    },
    {
     "name": "stdout",
     "output_type": "stream",
     "text": [
      "Standardizing Data across genes\n",
      "\n",
      "[Parallel(n_jobs=20)]: Done 104 tasks      | elapsed: 11.4min\n",
      "Standardizing Data across genes\n",
      "\n",
      "Standardizing Data across genes\n",
      "\n",
      "Standardizing Data across genes\n",
      "\n",
      "Standardizing Data across genes\n",
      "\n"
     ]
    },
    {
     "name": "stderr",
     "output_type": "stream",
     "text": [
      "/data/nielsond/python/envs/abcd_mine/lib/python3.6/site-packages/rpy2/robjects/functions.py:106: UserWarning: Found2batches\n",
      "\n",
      "  res = super(Function, self).__call__(*new_args, **new_kwargs)\n",
      "/data/nielsond/python/envs/abcd_mine/lib/python3.6/site-packages/rpy2/robjects/functions.py:106: UserWarning: Adjusting for0covariate(s) or covariate level(s)\n",
      "\n",
      "  res = super(Function, self).__call__(*new_args, **new_kwargs)\n"
     ]
    },
    {
     "name": "stdout",
     "output_type": "stream",
     "text": [
      "Standardizing Data across genes\n",
      "\n"
     ]
    },
    {
     "name": "stderr",
     "output_type": "stream",
     "text": [
      "/data/nielsond/python/envs/abcd_mine/lib/python3.6/site-packages/rpy2/robjects/functions.py:106: UserWarning: Fitting L/S model and finding priors\n",
      "\n",
      "  res = super(Function, self).__call__(*new_args, **new_kwargs)\n",
      "/data/nielsond/python/envs/abcd_mine/lib/python3.6/site-packages/rpy2/robjects/functions.py:106: UserWarning: Finding nonparametric adjustments\n",
      "\n",
      "  res = super(Function, self).__call__(*new_args, **new_kwargs)\n",
      "/data/nielsond/python/envs/abcd_mine/lib/python3.6/site-packages/rpy2/robjects/functions.py:106: UserWarning: Adjusting the Data\n",
      "\n",
      "\n",
      "  res = super(Function, self).__call__(*new_args, **new_kwargs)\n",
      "/data/nielsond/python/envs/abcd_mine/lib/python3.6/site-packages/rpy2/robjects/functions.py:106: UserWarning: Adjusting the Data\n",
      "\n",
      "\n",
      "  res = super(Function, self).__call__(*new_args, **new_kwargs)\n"
     ]
    },
    {
     "name": "stdout",
     "output_type": "stream",
     "text": [
      "Standardizing Data across genes\n",
      "\n",
      "Standardizing Data across genes\n",
      "\n",
      "Standardizing Data across genes\n",
      "\n",
      "[Parallel(n_jobs=20)]: Done 105 tasks      | elapsed: 11.5min\n",
      "Standardizing Data across genes\n",
      "\n"
     ]
    },
    {
     "name": "stderr",
     "output_type": "stream",
     "text": [
      "/data/nielsond/python/envs/abcd_mine/lib/python3.6/site-packages/rpy2/robjects/functions.py:106: UserWarning: Found2batches\n",
      "\n",
      "  res = super(Function, self).__call__(*new_args, **new_kwargs)\n",
      "/data/nielsond/python/envs/abcd_mine/lib/python3.6/site-packages/rpy2/robjects/functions.py:106: UserWarning: Adjusting for0covariate(s) or covariate level(s)\n",
      "\n",
      "  res = super(Function, self).__call__(*new_args, **new_kwargs)\n"
     ]
    },
    {
     "name": "stdout",
     "output_type": "stream",
     "text": [
      "Standardizing Data across genes\n",
      "\n"
     ]
    },
    {
     "name": "stderr",
     "output_type": "stream",
     "text": [
      "/data/nielsond/python/envs/abcd_mine/lib/python3.6/site-packages/rpy2/robjects/functions.py:106: UserWarning: Fitting L/S model and finding priors\n",
      "\n",
      "  res = super(Function, self).__call__(*new_args, **new_kwargs)\n",
      "/data/nielsond/python/envs/abcd_mine/lib/python3.6/site-packages/rpy2/robjects/functions.py:106: UserWarning: Finding nonparametric adjustments\n",
      "\n",
      "  res = super(Function, self).__call__(*new_args, **new_kwargs)\n"
     ]
    },
    {
     "name": "stdout",
     "output_type": "stream",
     "text": [
      "Standardizing Data across genes\n",
      "\n",
      "Standardizing Data across genes\n",
      "\n",
      "Standardizing Data across genes\n",
      "\n"
     ]
    },
    {
     "name": "stderr",
     "output_type": "stream",
     "text": [
      "/data/nielsond/python/envs/abcd_mine/lib/python3.6/site-packages/rpy2/robjects/functions.py:106: UserWarning: Adjusting the Data\n",
      "\n",
      "\n",
      "  res = super(Function, self).__call__(*new_args, **new_kwargs)\n"
     ]
    },
    {
     "name": "stdout",
     "output_type": "stream",
     "text": [
      "Standardizing Data across genes\n",
      "\n",
      "Standardizing Data across genes\n",
      "\n",
      "Standardizing Data across genes\n",
      "\n",
      "Standardizing Data across genes\n",
      "\n"
     ]
    },
    {
     "name": "stderr",
     "output_type": "stream",
     "text": [
      "/data/nielsond/python/envs/abcd_mine/lib/python3.6/site-packages/rpy2/robjects/functions.py:106: UserWarning: Adjusting the Data\n",
      "\n",
      "\n",
      "  res = super(Function, self).__call__(*new_args, **new_kwargs)\n"
     ]
    },
    {
     "name": "stdout",
     "output_type": "stream",
     "text": [
      "[Parallel(n_jobs=20)]: Done 106 tasks      | elapsed: 11.6min\n",
      "Standardizing Data across genes\n",
      "\n",
      "[Parallel(n_jobs=20)]: Done 107 tasks      | elapsed: 11.6min\n",
      "Standardizing Data across genes\n",
      "\n",
      "Standardizing Data across genes\n",
      "\n",
      "[Parallel(n_jobs=20)]: Done 108 tasks      | elapsed: 11.6min\n",
      "[Parallel(n_jobs=20)]: Done 109 tasks      | elapsed: 11.7min\n",
      "[Parallel(n_jobs=20)]: Done 110 tasks      | elapsed: 11.7min\n"
     ]
    },
    {
     "name": "stderr",
     "output_type": "stream",
     "text": [
      "/data/nielsond/python/envs/abcd_mine/lib/python3.6/site-packages/rpy2/robjects/functions.py:106: UserWarning: Found2batches\n",
      "\n",
      "  res = super(Function, self).__call__(*new_args, **new_kwargs)\n",
      "/data/nielsond/python/envs/abcd_mine/lib/python3.6/site-packages/rpy2/robjects/functions.py:106: UserWarning: Adjusting for0covariate(s) or covariate level(s)\n",
      "\n",
      "  res = super(Function, self).__call__(*new_args, **new_kwargs)\n"
     ]
    },
    {
     "name": "stdout",
     "output_type": "stream",
     "text": [
      "Standardizing Data across genes\n",
      "\n"
     ]
    },
    {
     "name": "stderr",
     "output_type": "stream",
     "text": [
      "/data/nielsond/python/envs/abcd_mine/lib/python3.6/site-packages/rpy2/robjects/functions.py:106: UserWarning: Fitting L/S model and finding priors\n",
      "\n",
      "  res = super(Function, self).__call__(*new_args, **new_kwargs)\n",
      "/data/nielsond/python/envs/abcd_mine/lib/python3.6/site-packages/rpy2/robjects/functions.py:106: UserWarning: Finding nonparametric adjustments\n",
      "\n",
      "  res = super(Function, self).__call__(*new_args, **new_kwargs)\n"
     ]
    },
    {
     "name": "stdout",
     "output_type": "stream",
     "text": [
      "Standardizing Data across genes\n",
      "\n",
      "[Parallel(n_jobs=20)]: Done 111 tasks      | elapsed: 11.7min\n"
     ]
    },
    {
     "name": "stderr",
     "output_type": "stream",
     "text": [
      "/data/nielsond/python/envs/abcd_mine/lib/python3.6/site-packages/rpy2/robjects/functions.py:106: UserWarning: Found2batches\n",
      "\n",
      "  res = super(Function, self).__call__(*new_args, **new_kwargs)\n",
      "/data/nielsond/python/envs/abcd_mine/lib/python3.6/site-packages/rpy2/robjects/functions.py:106: UserWarning: Adjusting for0covariate(s) or covariate level(s)\n",
      "\n",
      "  res = super(Function, self).__call__(*new_args, **new_kwargs)\n"
     ]
    },
    {
     "name": "stdout",
     "output_type": "stream",
     "text": [
      "Standardizing Data across genes\n",
      "\n"
     ]
    },
    {
     "name": "stderr",
     "output_type": "stream",
     "text": [
      "/data/nielsond/python/envs/abcd_mine/lib/python3.6/site-packages/rpy2/robjects/functions.py:106: UserWarning: Fitting L/S model and finding priors\n",
      "\n",
      "  res = super(Function, self).__call__(*new_args, **new_kwargs)\n",
      "/data/nielsond/python/envs/abcd_mine/lib/python3.6/site-packages/rpy2/robjects/functions.py:106: UserWarning: Finding nonparametric adjustments\n",
      "\n",
      "  res = super(Function, self).__call__(*new_args, **new_kwargs)\n",
      "/data/nielsond/python/envs/abcd_mine/lib/python3.6/site-packages/rpy2/robjects/functions.py:106: UserWarning: Found2batches\n",
      "\n",
      "  res = super(Function, self).__call__(*new_args, **new_kwargs)\n",
      "/data/nielsond/python/envs/abcd_mine/lib/python3.6/site-packages/rpy2/robjects/functions.py:106: UserWarning: Adjusting for0covariate(s) or covariate level(s)\n",
      "\n",
      "  res = super(Function, self).__call__(*new_args, **new_kwargs)\n"
     ]
    },
    {
     "name": "stdout",
     "output_type": "stream",
     "text": [
      "Standardizing Data across genes\n",
      "\n"
     ]
    },
    {
     "name": "stderr",
     "output_type": "stream",
     "text": [
      "/data/nielsond/python/envs/abcd_mine/lib/python3.6/site-packages/rpy2/robjects/functions.py:106: UserWarning: Fitting L/S model and finding priors\n",
      "\n",
      "  res = super(Function, self).__call__(*new_args, **new_kwargs)\n",
      "/data/nielsond/python/envs/abcd_mine/lib/python3.6/site-packages/rpy2/robjects/functions.py:106: UserWarning: Finding nonparametric adjustments\n",
      "\n",
      "  res = super(Function, self).__call__(*new_args, **new_kwargs)\n"
     ]
    },
    {
     "name": "stdout",
     "output_type": "stream",
     "text": [
      "Standardizing Data across genes\n",
      "\n"
     ]
    },
    {
     "name": "stderr",
     "output_type": "stream",
     "text": [
      "/data/nielsond/python/envs/abcd_mine/lib/python3.6/site-packages/rpy2/robjects/functions.py:106: UserWarning: Found2batches\n",
      "\n",
      "  res = super(Function, self).__call__(*new_args, **new_kwargs)\n",
      "/data/nielsond/python/envs/abcd_mine/lib/python3.6/site-packages/rpy2/robjects/functions.py:106: UserWarning: Adjusting for0covariate(s) or covariate level(s)\n",
      "\n",
      "  res = super(Function, self).__call__(*new_args, **new_kwargs)\n"
     ]
    },
    {
     "name": "stdout",
     "output_type": "stream",
     "text": [
      "Standardizing Data across genes\n",
      "\n"
     ]
    },
    {
     "name": "stderr",
     "output_type": "stream",
     "text": [
      "/data/nielsond/python/envs/abcd_mine/lib/python3.6/site-packages/rpy2/robjects/functions.py:106: UserWarning: Fitting L/S model and finding priors\n",
      "\n",
      "  res = super(Function, self).__call__(*new_args, **new_kwargs)\n",
      "/data/nielsond/python/envs/abcd_mine/lib/python3.6/site-packages/rpy2/robjects/functions.py:106: UserWarning: Finding nonparametric adjustments\n",
      "\n",
      "  res = super(Function, self).__call__(*new_args, **new_kwargs)\n"
     ]
    },
    {
     "name": "stdout",
     "output_type": "stream",
     "text": [
      "Standardizing Data across genes\n",
      "\n"
     ]
    },
    {
     "name": "stderr",
     "output_type": "stream",
     "text": [
      "/data/nielsond/python/envs/abcd_mine/lib/python3.6/site-packages/rpy2/robjects/functions.py:106: UserWarning: Found2batches\n",
      "\n",
      "  res = super(Function, self).__call__(*new_args, **new_kwargs)\n",
      "/data/nielsond/python/envs/abcd_mine/lib/python3.6/site-packages/rpy2/robjects/functions.py:106: UserWarning: Adjusting for0covariate(s) or covariate level(s)\n",
      "\n",
      "  res = super(Function, self).__call__(*new_args, **new_kwargs)\n"
     ]
    },
    {
     "name": "stdout",
     "output_type": "stream",
     "text": [
      "Standardizing Data across genes\n",
      "\n"
     ]
    },
    {
     "name": "stderr",
     "output_type": "stream",
     "text": [
      "/data/nielsond/python/envs/abcd_mine/lib/python3.6/site-packages/rpy2/robjects/functions.py:106: UserWarning: Fitting L/S model and finding priors\n",
      "\n",
      "  res = super(Function, self).__call__(*new_args, **new_kwargs)\n",
      "/data/nielsond/python/envs/abcd_mine/lib/python3.6/site-packages/rpy2/robjects/functions.py:106: UserWarning: Finding nonparametric adjustments\n",
      "\n",
      "  res = super(Function, self).__call__(*new_args, **new_kwargs)\n",
      "/data/nielsond/python/envs/abcd_mine/lib/python3.6/site-packages/rpy2/robjects/functions.py:106: UserWarning: Adjusting the Data\n",
      "\n",
      "\n",
      "  res = super(Function, self).__call__(*new_args, **new_kwargs)\n",
      "/data/nielsond/python/envs/abcd_mine/lib/python3.6/site-packages/rpy2/robjects/functions.py:106: UserWarning: Found2batches\n",
      "\n",
      "  res = super(Function, self).__call__(*new_args, **new_kwargs)\n",
      "/data/nielsond/python/envs/abcd_mine/lib/python3.6/site-packages/rpy2/robjects/functions.py:106: UserWarning: Adjusting for0covariate(s) or covariate level(s)\n",
      "\n",
      "  res = super(Function, self).__call__(*new_args, **new_kwargs)\n"
     ]
    },
    {
     "name": "stdout",
     "output_type": "stream",
     "text": [
      "Standardizing Data across genes\n",
      "\n",
      "Standardizing Data across genes\n"
     ]
    },
    {
     "name": "stderr",
     "output_type": "stream",
     "text": [
      "/data/nielsond/python/envs/abcd_mine/lib/python3.6/site-packages/rpy2/robjects/functions.py:106: UserWarning: Fitting L/S model and finding priors\n",
      "\n",
      "  res = super(Function, self).__call__(*new_args, **new_kwargs)\n"
     ]
    },
    {
     "name": "stdout",
     "output_type": "stream",
     "text": [
      "\n"
     ]
    },
    {
     "name": "stderr",
     "output_type": "stream",
     "text": [
      "/data/nielsond/python/envs/abcd_mine/lib/python3.6/site-packages/rpy2/robjects/functions.py:106: UserWarning: Finding nonparametric adjustments\n",
      "\n",
      "  res = super(Function, self).__call__(*new_args, **new_kwargs)\n",
      "/data/nielsond/python/envs/abcd_mine/lib/python3.6/site-packages/rpy2/robjects/functions.py:106: UserWarning: Adjusting the Data\n",
      "\n",
      "\n",
      "  res = super(Function, self).__call__(*new_args, **new_kwargs)\n"
     ]
    },
    {
     "name": "stdout",
     "output_type": "stream",
     "text": [
      "Standardizing Data across genes\n",
      "\n"
     ]
    },
    {
     "name": "stderr",
     "output_type": "stream",
     "text": [
      "/data/nielsond/python/envs/abcd_mine/lib/python3.6/site-packages/rpy2/robjects/functions.py:106: UserWarning: Found2batches\n",
      "\n",
      "  res = super(Function, self).__call__(*new_args, **new_kwargs)\n",
      "/data/nielsond/python/envs/abcd_mine/lib/python3.6/site-packages/rpy2/robjects/functions.py:106: UserWarning: Adjusting for0covariate(s) or covariate level(s)\n",
      "\n",
      "  res = super(Function, self).__call__(*new_args, **new_kwargs)\n"
     ]
    },
    {
     "name": "stdout",
     "output_type": "stream",
     "text": [
      "Standardizing Data across genes\n",
      "\n"
     ]
    },
    {
     "name": "stderr",
     "output_type": "stream",
     "text": [
      "/data/nielsond/python/envs/abcd_mine/lib/python3.6/site-packages/rpy2/robjects/functions.py:106: UserWarning: Fitting L/S model and finding priors\n",
      "\n",
      "  res = super(Function, self).__call__(*new_args, **new_kwargs)\n",
      "/data/nielsond/python/envs/abcd_mine/lib/python3.6/site-packages/rpy2/robjects/functions.py:106: UserWarning: Finding nonparametric adjustments\n",
      "\n",
      "  res = super(Function, self).__call__(*new_args, **new_kwargs)\n",
      "/data/nielsond/python/envs/abcd_mine/lib/python3.6/site-packages/rpy2/robjects/functions.py:106: UserWarning: Adjusting the Data\n",
      "\n",
      "\n",
      "  res = super(Function, self).__call__(*new_args, **new_kwargs)\n",
      "/data/nielsond/python/envs/abcd_mine/lib/python3.6/site-packages/rpy2/robjects/functions.py:106: UserWarning: Adjusting the Data\n",
      "\n",
      "\n",
      "  res = super(Function, self).__call__(*new_args, **new_kwargs)\n"
     ]
    },
    {
     "name": "stdout",
     "output_type": "stream",
     "text": [
      "Standardizing Data across genes\n",
      "\n",
      "Standardizing Data across genes\n",
      "\n",
      "Standardizing Data across genes\n",
      "\n"
     ]
    },
    {
     "name": "stderr",
     "output_type": "stream",
     "text": [
      "/data/nielsond/python/envs/abcd_mine/lib/python3.6/site-packages/rpy2/robjects/functions.py:106: UserWarning: Adjusting the Data\n",
      "\n",
      "\n",
      "  res = super(Function, self).__call__(*new_args, **new_kwargs)\n",
      "/data/nielsond/python/envs/abcd_mine/lib/python3.6/site-packages/rpy2/robjects/functions.py:106: UserWarning: Adjusting the Data\n",
      "\n",
      "\n",
      "  res = super(Function, self).__call__(*new_args, **new_kwargs)\n"
     ]
    },
    {
     "name": "stdout",
     "output_type": "stream",
     "text": [
      "Standardizing Data across genes\n",
      "\n",
      "Standardizing Data across genes\n",
      "\n",
      "Standardizing Data across genes\n",
      "\n"
     ]
    },
    {
     "name": "stderr",
     "output_type": "stream",
     "text": [
      "/data/nielsond/python/envs/abcd_mine/lib/python3.6/site-packages/rpy2/robjects/functions.py:106: UserWarning: Found2batches\n",
      "\n",
      "  res = super(Function, self).__call__(*new_args, **new_kwargs)\n",
      "/data/nielsond/python/envs/abcd_mine/lib/python3.6/site-packages/rpy2/robjects/functions.py:106: UserWarning: Adjusting for0covariate(s) or covariate level(s)\n",
      "\n",
      "  res = super(Function, self).__call__(*new_args, **new_kwargs)\n"
     ]
    },
    {
     "name": "stdout",
     "output_type": "stream",
     "text": [
      "Standardizing Data across genes\n",
      "\n"
     ]
    },
    {
     "name": "stderr",
     "output_type": "stream",
     "text": [
      "/data/nielsond/python/envs/abcd_mine/lib/python3.6/site-packages/rpy2/robjects/functions.py:106: UserWarning: Fitting L/S model and finding priors\n",
      "\n",
      "  res = super(Function, self).__call__(*new_args, **new_kwargs)\n",
      "/data/nielsond/python/envs/abcd_mine/lib/python3.6/site-packages/rpy2/robjects/functions.py:106: UserWarning: Finding nonparametric adjustments\n",
      "\n",
      "  res = super(Function, self).__call__(*new_args, **new_kwargs)\n"
     ]
    },
    {
     "name": "stdout",
     "output_type": "stream",
     "text": [
      "[Parallel(n_jobs=20)]: Done 112 tasks      | elapsed: 12.0min\n"
     ]
    },
    {
     "name": "stderr",
     "output_type": "stream",
     "text": [
      "/data/nielsond/python/envs/abcd_mine/lib/python3.6/site-packages/rpy2/robjects/functions.py:106: UserWarning: Adjusting the Data\n",
      "\n",
      "\n",
      "  res = super(Function, self).__call__(*new_args, **new_kwargs)\n"
     ]
    },
    {
     "name": "stdout",
     "output_type": "stream",
     "text": [
      "Standardizing Data across genes\n",
      "\n",
      "Standardizing Data across genes\n",
      "\n",
      "Standardizing Data across genes\n",
      "\n"
     ]
    },
    {
     "name": "stderr",
     "output_type": "stream",
     "text": [
      "/data/nielsond/python/envs/abcd_mine/lib/python3.6/site-packages/rpy2/robjects/functions.py:106: UserWarning: Found2batches\n",
      "\n",
      "  res = super(Function, self).__call__(*new_args, **new_kwargs)\n",
      "/data/nielsond/python/envs/abcd_mine/lib/python3.6/site-packages/rpy2/robjects/functions.py:106: UserWarning: Adjusting for0covariate(s) or covariate level(s)\n",
      "\n",
      "  res = super(Function, self).__call__(*new_args, **new_kwargs)\n"
     ]
    },
    {
     "name": "stdout",
     "output_type": "stream",
     "text": [
      "Standardizing Data across genes\n",
      "\n"
     ]
    },
    {
     "name": "stderr",
     "output_type": "stream",
     "text": [
      "/data/nielsond/python/envs/abcd_mine/lib/python3.6/site-packages/rpy2/robjects/functions.py:106: UserWarning: Fitting L/S model and finding priors\n",
      "\n",
      "  res = super(Function, self).__call__(*new_args, **new_kwargs)\n",
      "/data/nielsond/python/envs/abcd_mine/lib/python3.6/site-packages/rpy2/robjects/functions.py:106: UserWarning: Finding nonparametric adjustments\n",
      "\n",
      "  res = super(Function, self).__call__(*new_args, **new_kwargs)\n"
     ]
    },
    {
     "name": "stdout",
     "output_type": "stream",
     "text": [
      "[Parallel(n_jobs=20)]: Done 113 tasks      | elapsed: 12.1min\n",
      "Standardizing Data across genes\n",
      "\n",
      "Standardizing Data across genes\n",
      "\n"
     ]
    },
    {
     "name": "stderr",
     "output_type": "stream",
     "text": [
      "/data/nielsond/python/envs/abcd_mine/lib/python3.6/site-packages/rpy2/robjects/functions.py:106: UserWarning: Adjusting the Data\n",
      "\n",
      "\n",
      "  res = super(Function, self).__call__(*new_args, **new_kwargs)\n"
     ]
    },
    {
     "name": "stdout",
     "output_type": "stream",
     "text": [
      "Standardizing Data across genes\n",
      "\n",
      "Standardizing Data across genes\n",
      "\n",
      "Standardizing Data across genes\n",
      "\n",
      "Standardizing Data across genes\n",
      "\n",
      "Standardizing Data across genes\n",
      "\n",
      "Standardizing Data across genes\n",
      "\n",
      "Standardizing Data across genes\n",
      "\n"
     ]
    },
    {
     "name": "stderr",
     "output_type": "stream",
     "text": [
      "/data/nielsond/python/envs/abcd_mine/lib/python3.6/site-packages/rpy2/robjects/functions.py:106: UserWarning: Found2batches\n",
      "\n",
      "  res = super(Function, self).__call__(*new_args, **new_kwargs)\n",
      "/data/nielsond/python/envs/abcd_mine/lib/python3.6/site-packages/rpy2/robjects/functions.py:106: UserWarning: Adjusting for0covariate(s) or covariate level(s)\n",
      "\n",
      "  res = super(Function, self).__call__(*new_args, **new_kwargs)\n"
     ]
    },
    {
     "name": "stdout",
     "output_type": "stream",
     "text": [
      "Standardizing Data across genes\n",
      "\n"
     ]
    },
    {
     "name": "stderr",
     "output_type": "stream",
     "text": [
      "/data/nielsond/python/envs/abcd_mine/lib/python3.6/site-packages/rpy2/robjects/functions.py:106: UserWarning: Fitting L/S model and finding priors\n",
      "\n",
      "  res = super(Function, self).__call__(*new_args, **new_kwargs)\n",
      "/data/nielsond/python/envs/abcd_mine/lib/python3.6/site-packages/rpy2/robjects/functions.py:106: UserWarning: Finding nonparametric adjustments\n",
      "\n",
      "  res = super(Function, self).__call__(*new_args, **new_kwargs)\n"
     ]
    },
    {
     "name": "stdout",
     "output_type": "stream",
     "text": [
      "Standardizing Data across genes\n",
      "\n",
      "Standardizing Data across genes\n",
      "\n"
     ]
    },
    {
     "name": "stderr",
     "output_type": "stream",
     "text": [
      "/data/nielsond/python/envs/abcd_mine/lib/python3.6/site-packages/rpy2/robjects/functions.py:106: UserWarning: Found2batches\n",
      "\n",
      "  res = super(Function, self).__call__(*new_args, **new_kwargs)\n",
      "/data/nielsond/python/envs/abcd_mine/lib/python3.6/site-packages/rpy2/robjects/functions.py:106: UserWarning: Adjusting for0covariate(s) or covariate level(s)\n",
      "\n",
      "  res = super(Function, self).__call__(*new_args, **new_kwargs)\n"
     ]
    },
    {
     "name": "stdout",
     "output_type": "stream",
     "text": [
      "Standardizing Data across genes\n",
      "\n"
     ]
    },
    {
     "name": "stderr",
     "output_type": "stream",
     "text": [
      "/data/nielsond/python/envs/abcd_mine/lib/python3.6/site-packages/rpy2/robjects/functions.py:106: UserWarning: Fitting L/S model and finding priors\n",
      "\n",
      "  res = super(Function, self).__call__(*new_args, **new_kwargs)\n",
      "/data/nielsond/python/envs/abcd_mine/lib/python3.6/site-packages/rpy2/robjects/functions.py:106: UserWarning: Finding nonparametric adjustments\n",
      "\n",
      "  res = super(Function, self).__call__(*new_args, **new_kwargs)\n",
      "/data/nielsond/python/envs/abcd_mine/lib/python3.6/site-packages/rpy2/robjects/functions.py:106: UserWarning: Adjusting the Data\n",
      "\n",
      "\n",
      "  res = super(Function, self).__call__(*new_args, **new_kwargs)\n"
     ]
    },
    {
     "name": "stdout",
     "output_type": "stream",
     "text": [
      "[Parallel(n_jobs=20)]: Done 114 tasks      | elapsed: 12.3min\n",
      "[Parallel(n_jobs=20)]: Done 115 tasks      | elapsed: 12.3min\n",
      "Standardizing Data across genes\n",
      "\n",
      "Standardizing Data across genes\n",
      "\n"
     ]
    },
    {
     "name": "stderr",
     "output_type": "stream",
     "text": [
      "/data/nielsond/python/envs/abcd_mine/lib/python3.6/site-packages/rpy2/robjects/functions.py:106: UserWarning: Found2batches\n",
      "\n",
      "  res = super(Function, self).__call__(*new_args, **new_kwargs)\n",
      "/data/nielsond/python/envs/abcd_mine/lib/python3.6/site-packages/rpy2/robjects/functions.py:106: UserWarning: Adjusting for0covariate(s) or covariate level(s)\n",
      "\n",
      "  res = super(Function, self).__call__(*new_args, **new_kwargs)\n"
     ]
    },
    {
     "name": "stdout",
     "output_type": "stream",
     "text": [
      "Standardizing Data across genes\n",
      "\n"
     ]
    },
    {
     "name": "stderr",
     "output_type": "stream",
     "text": [
      "/data/nielsond/python/envs/abcd_mine/lib/python3.6/site-packages/rpy2/robjects/functions.py:106: UserWarning: Fitting L/S model and finding priors\n",
      "\n",
      "  res = super(Function, self).__call__(*new_args, **new_kwargs)\n",
      "/data/nielsond/python/envs/abcd_mine/lib/python3.6/site-packages/rpy2/robjects/functions.py:106: UserWarning: Finding nonparametric adjustments\n",
      "\n",
      "  res = super(Function, self).__call__(*new_args, **new_kwargs)\n"
     ]
    },
    {
     "name": "stdout",
     "output_type": "stream",
     "text": [
      "[Parallel(n_jobs=20)]: Done 116 tasks      | elapsed: 12.3min\n",
      "Standardizing Data across genes\n",
      "\n"
     ]
    },
    {
     "name": "stderr",
     "output_type": "stream",
     "text": [
      "/data/nielsond/python/envs/abcd_mine/lib/python3.6/site-packages/rpy2/robjects/functions.py:106: UserWarning: Adjusting the Data\n",
      "\n",
      "\n",
      "  res = super(Function, self).__call__(*new_args, **new_kwargs)\n"
     ]
    },
    {
     "name": "stdout",
     "output_type": "stream",
     "text": [
      "Standardizing Data across genes\n",
      "\n",
      "[Parallel(n_jobs=20)]: Done 117 tasks      | elapsed: 12.3min\n",
      "Standardizing Data across genes\n",
      "\n"
     ]
    },
    {
     "name": "stderr",
     "output_type": "stream",
     "text": [
      "/data/nielsond/python/envs/abcd_mine/lib/python3.6/site-packages/rpy2/robjects/functions.py:106: UserWarning: Adjusting the Data\n",
      "\n",
      "\n",
      "  res = super(Function, self).__call__(*new_args, **new_kwargs)\n",
      "/data/nielsond/python/envs/abcd_mine/lib/python3.6/site-packages/rpy2/robjects/functions.py:106: UserWarning: Found2batches\n",
      "\n",
      "  res = super(Function, self).__call__(*new_args, **new_kwargs)\n",
      "/data/nielsond/python/envs/abcd_mine/lib/python3.6/site-packages/rpy2/robjects/functions.py:106: UserWarning: Adjusting for0covariate(s) or covariate level(s)\n",
      "\n",
      "  res = super(Function, self).__call__(*new_args, **new_kwargs)\n"
     ]
    },
    {
     "name": "stdout",
     "output_type": "stream",
     "text": [
      "Standardizing Data across genes\n",
      "\n"
     ]
    },
    {
     "name": "stderr",
     "output_type": "stream",
     "text": [
      "/data/nielsond/python/envs/abcd_mine/lib/python3.6/site-packages/rpy2/robjects/functions.py:106: UserWarning: Fitting L/S model and finding priors\n",
      "\n",
      "  res = super(Function, self).__call__(*new_args, **new_kwargs)\n",
      "/data/nielsond/python/envs/abcd_mine/lib/python3.6/site-packages/rpy2/robjects/functions.py:106: UserWarning: Finding nonparametric adjustments\n",
      "\n",
      "  res = super(Function, self).__call__(*new_args, **new_kwargs)\n"
     ]
    },
    {
     "name": "stdout",
     "output_type": "stream",
     "text": [
      "[Parallel(n_jobs=20)]: Done 118 tasks      | elapsed: 12.4min\n",
      "Standardizing Data across genes\n",
      "\n",
      "Standardizing Data across genes\n",
      "\n",
      "[Parallel(n_jobs=20)]: Done 119 tasks      | elapsed: 12.4min\n"
     ]
    },
    {
     "name": "stderr",
     "output_type": "stream",
     "text": [
      "/data/nielsond/python/envs/abcd_mine/lib/python3.6/site-packages/rpy2/robjects/functions.py:106: UserWarning: Adjusting the Data\n",
      "\n",
      "\n",
      "  res = super(Function, self).__call__(*new_args, **new_kwargs)\n"
     ]
    },
    {
     "name": "stdout",
     "output_type": "stream",
     "text": [
      "Standardizing Data across genes\n",
      "\n"
     ]
    },
    {
     "name": "stderr",
     "output_type": "stream",
     "text": [
      "/data/nielsond/python/envs/abcd_mine/lib/python3.6/site-packages/rpy2/robjects/functions.py:106: UserWarning: Found2batches\n",
      "\n",
      "  res = super(Function, self).__call__(*new_args, **new_kwargs)\n",
      "/data/nielsond/python/envs/abcd_mine/lib/python3.6/site-packages/rpy2/robjects/functions.py:106: UserWarning: Adjusting for0covariate(s) or covariate level(s)\n",
      "\n",
      "  res = super(Function, self).__call__(*new_args, **new_kwargs)\n"
     ]
    },
    {
     "name": "stdout",
     "output_type": "stream",
     "text": [
      "Standardizing Data across genes\n",
      "Standardizing Data across genes\n",
      "\n",
      "\n"
     ]
    },
    {
     "name": "stderr",
     "output_type": "stream",
     "text": [
      "/data/nielsond/python/envs/abcd_mine/lib/python3.6/site-packages/rpy2/robjects/functions.py:106: UserWarning: Fitting L/S model and finding priors\n",
      "\n",
      "  res = super(Function, self).__call__(*new_args, **new_kwargs)\n",
      "/data/nielsond/python/envs/abcd_mine/lib/python3.6/site-packages/rpy2/robjects/functions.py:106: UserWarning: Finding nonparametric adjustments\n",
      "\n",
      "  res = super(Function, self).__call__(*new_args, **new_kwargs)\n",
      "/data/nielsond/python/envs/abcd_mine/lib/python3.6/site-packages/rpy2/robjects/functions.py:106: UserWarning: Adjusting the Data\n",
      "\n",
      "\n",
      "  res = super(Function, self).__call__(*new_args, **new_kwargs)\n"
     ]
    },
    {
     "name": "stdout",
     "output_type": "stream",
     "text": [
      "Standardizing Data across genes\n",
      "\n"
     ]
    },
    {
     "name": "stderr",
     "output_type": "stream",
     "text": [
      "/data/nielsond/python/envs/abcd_mine/lib/python3.6/site-packages/rpy2/robjects/functions.py:106: UserWarning: Found2batches\n",
      "\n",
      "  res = super(Function, self).__call__(*new_args, **new_kwargs)\n",
      "/data/nielsond/python/envs/abcd_mine/lib/python3.6/site-packages/rpy2/robjects/functions.py:106: UserWarning: Adjusting for0covariate(s) or covariate level(s)\n",
      "\n",
      "  res = super(Function, self).__call__(*new_args, **new_kwargs)\n"
     ]
    },
    {
     "name": "stdout",
     "output_type": "stream",
     "text": [
      "Standardizing Data across genes\n",
      "\n"
     ]
    },
    {
     "name": "stderr",
     "output_type": "stream",
     "text": [
      "/data/nielsond/python/envs/abcd_mine/lib/python3.6/site-packages/rpy2/robjects/functions.py:106: UserWarning: Fitting L/S model and finding priors\n",
      "\n",
      "  res = super(Function, self).__call__(*new_args, **new_kwargs)\n",
      "/data/nielsond/python/envs/abcd_mine/lib/python3.6/site-packages/rpy2/robjects/functions.py:106: UserWarning: Finding nonparametric adjustments\n",
      "\n",
      "  res = super(Function, self).__call__(*new_args, **new_kwargs)\n"
     ]
    },
    {
     "name": "stdout",
     "output_type": "stream",
     "text": [
      "Standardizing Data across genes\n",
      "\n",
      "[Parallel(n_jobs=20)]: Done 120 tasks      | elapsed: 12.5min\n",
      "Standardizing Data across genes\n",
      "\n",
      "[Parallel(n_jobs=20)]: Done 121 tasks      | elapsed: 12.5min\n",
      "Standardizing Data across genes\n",
      "\n",
      "Standardizing Data across genes\n",
      "\n"
     ]
    },
    {
     "name": "stderr",
     "output_type": "stream",
     "text": [
      "/data/nielsond/python/envs/abcd_mine/lib/python3.6/site-packages/rpy2/robjects/functions.py:106: UserWarning: Found2batches\n",
      "\n",
      "  res = super(Function, self).__call__(*new_args, **new_kwargs)\n",
      "/data/nielsond/python/envs/abcd_mine/lib/python3.6/site-packages/rpy2/robjects/functions.py:106: UserWarning: Adjusting for0covariate(s) or covariate level(s)\n",
      "\n",
      "  res = super(Function, self).__call__(*new_args, **new_kwargs)\n"
     ]
    },
    {
     "name": "stdout",
     "output_type": "stream",
     "text": [
      "Standardizing Data across genes\n",
      "\n"
     ]
    },
    {
     "name": "stderr",
     "output_type": "stream",
     "text": [
      "/data/nielsond/python/envs/abcd_mine/lib/python3.6/site-packages/rpy2/robjects/functions.py:106: UserWarning: Fitting L/S model and finding priors\n",
      "\n",
      "  res = super(Function, self).__call__(*new_args, **new_kwargs)\n",
      "/data/nielsond/python/envs/abcd_mine/lib/python3.6/site-packages/rpy2/robjects/functions.py:106: UserWarning: Finding nonparametric adjustments\n",
      "\n",
      "  res = super(Function, self).__call__(*new_args, **new_kwargs)\n"
     ]
    },
    {
     "name": "stdout",
     "output_type": "stream",
     "text": [
      "Standardizing Data across genes\n",
      "\n"
     ]
    },
    {
     "name": "stderr",
     "output_type": "stream",
     "text": [
      "/data/nielsond/python/envs/abcd_mine/lib/python3.6/site-packages/rpy2/robjects/functions.py:106: UserWarning: Adjusting the Data\n",
      "\n",
      "\n",
      "  res = super(Function, self).__call__(*new_args, **new_kwargs)\n"
     ]
    },
    {
     "name": "stdout",
     "output_type": "stream",
     "text": [
      "Standardizing Data across genes\n",
      "\n",
      "Standardizing Data across genes\n",
      "\n",
      "Standardizing Data across genes\n",
      "\n"
     ]
    },
    {
     "name": "stderr",
     "output_type": "stream",
     "text": [
      "/data/nielsond/python/envs/abcd_mine/lib/python3.6/site-packages/rpy2/robjects/functions.py:106: UserWarning: Found2batches\n",
      "\n",
      "  res = super(Function, self).__call__(*new_args, **new_kwargs)\n",
      "/data/nielsond/python/envs/abcd_mine/lib/python3.6/site-packages/rpy2/robjects/functions.py:106: UserWarning: Adjusting for0covariate(s) or covariate level(s)\n",
      "\n",
      "  res = super(Function, self).__call__(*new_args, **new_kwargs)\n",
      "/data/nielsond/python/envs/abcd_mine/lib/python3.6/site-packages/rpy2/robjects/functions.py:106: UserWarning: Adjusting the Data\n",
      "\n",
      "\n",
      "  res = super(Function, self).__call__(*new_args, **new_kwargs)\n"
     ]
    },
    {
     "name": "stdout",
     "output_type": "stream",
     "text": [
      "Standardizing Data across genes\n",
      "\n"
     ]
    },
    {
     "name": "stderr",
     "output_type": "stream",
     "text": [
      "/data/nielsond/python/envs/abcd_mine/lib/python3.6/site-packages/rpy2/robjects/functions.py:106: UserWarning: Fitting L/S model and finding priors\n",
      "\n",
      "  res = super(Function, self).__call__(*new_args, **new_kwargs)\n"
     ]
    },
    {
     "name": "stdout",
     "output_type": "stream",
     "text": [
      "Standardizing Data across genes\n",
      "\n",
      "Standardizing Data across genes\n",
      "\n"
     ]
    },
    {
     "name": "stderr",
     "output_type": "stream",
     "text": [
      "/data/nielsond/python/envs/abcd_mine/lib/python3.6/site-packages/rpy2/robjects/functions.py:106: UserWarning: Finding nonparametric adjustments\n",
      "\n",
      "  res = super(Function, self).__call__(*new_args, **new_kwargs)\n",
      "/data/nielsond/python/envs/abcd_mine/lib/python3.6/site-packages/rpy2/robjects/functions.py:106: UserWarning: Adjusting the Data\n",
      "\n",
      "\n",
      "  res = super(Function, self).__call__(*new_args, **new_kwargs)\n"
     ]
    },
    {
     "name": "stdout",
     "output_type": "stream",
     "text": [
      "Standardizing Data across genes\n",
      "\n",
      "Standardizing Data across genes\n",
      "\n"
     ]
    },
    {
     "name": "stderr",
     "output_type": "stream",
     "text": [
      "/data/nielsond/python/envs/abcd_mine/lib/python3.6/site-packages/rpy2/robjects/functions.py:106: UserWarning: Found2batches\n",
      "\n",
      "  res = super(Function, self).__call__(*new_args, **new_kwargs)\n",
      "/data/nielsond/python/envs/abcd_mine/lib/python3.6/site-packages/rpy2/robjects/functions.py:106: UserWarning: Adjusting for0covariate(s) or covariate level(s)\n",
      "\n",
      "  res = super(Function, self).__call__(*new_args, **new_kwargs)\n"
     ]
    },
    {
     "name": "stdout",
     "output_type": "stream",
     "text": [
      "Standardizing Data across genes\n",
      "\n"
     ]
    },
    {
     "name": "stderr",
     "output_type": "stream",
     "text": [
      "/data/nielsond/python/envs/abcd_mine/lib/python3.6/site-packages/rpy2/robjects/functions.py:106: UserWarning: Fitting L/S model and finding priors\n",
      "\n",
      "  res = super(Function, self).__call__(*new_args, **new_kwargs)\n",
      "/data/nielsond/python/envs/abcd_mine/lib/python3.6/site-packages/rpy2/robjects/functions.py:106: UserWarning: Finding nonparametric adjustments\n",
      "\n",
      "  res = super(Function, self).__call__(*new_args, **new_kwargs)\n"
     ]
    },
    {
     "name": "stdout",
     "output_type": "stream",
     "text": [
      "[Parallel(n_jobs=20)]: Done 122 tasks      | elapsed: 12.6min\n",
      "[Parallel(n_jobs=20)]: Done 123 tasks      | elapsed: 12.6min\n",
      "[Parallel(n_jobs=20)]: Done 124 tasks      | elapsed: 12.6min\n",
      "[Parallel(n_jobs=20)]: Done 125 tasks      | elapsed: 12.6min\n",
      "Standardizing Data across genes\n",
      "\n",
      "[Parallel(n_jobs=20)]: Done 126 tasks      | elapsed: 12.7min\n"
     ]
    },
    {
     "name": "stderr",
     "output_type": "stream",
     "text": [
      "/data/nielsond/python/envs/abcd_mine/lib/python3.6/site-packages/rpy2/robjects/functions.py:106: UserWarning: Adjusting the Data\n",
      "\n",
      "\n",
      "  res = super(Function, self).__call__(*new_args, **new_kwargs)\n",
      "/data/nielsond/python/envs/abcd_mine/lib/python3.6/site-packages/rpy2/robjects/functions.py:106: UserWarning: Found2batches\n",
      "\n",
      "  res = super(Function, self).__call__(*new_args, **new_kwargs)\n",
      "/data/nielsond/python/envs/abcd_mine/lib/python3.6/site-packages/rpy2/robjects/functions.py:106: UserWarning: Adjusting for0covariate(s) or covariate level(s)\n",
      "\n",
      "  res = super(Function, self).__call__(*new_args, **new_kwargs)\n"
     ]
    },
    {
     "name": "stdout",
     "output_type": "stream",
     "text": [
      "Standardizing Data across genes\n",
      "\n"
     ]
    },
    {
     "name": "stderr",
     "output_type": "stream",
     "text": [
      "/data/nielsond/python/envs/abcd_mine/lib/python3.6/site-packages/rpy2/robjects/functions.py:106: UserWarning: Fitting L/S model and finding priors\n",
      "\n",
      "  res = super(Function, self).__call__(*new_args, **new_kwargs)\n",
      "/data/nielsond/python/envs/abcd_mine/lib/python3.6/site-packages/rpy2/robjects/functions.py:106: UserWarning: Finding nonparametric adjustments\n",
      "\n",
      "  res = super(Function, self).__call__(*new_args, **new_kwargs)\n"
     ]
    },
    {
     "name": "stdout",
     "output_type": "stream",
     "text": [
      "Standardizing Data across genes\n",
      "\n",
      "Standardizing Data across genes\n",
      "\n",
      "Standardizing Data across genes\n",
      "\n",
      "[Parallel(n_jobs=20)]: Done 127 tasks      | elapsed: 12.7min\n"
     ]
    },
    {
     "name": "stderr",
     "output_type": "stream",
     "text": [
      "/data/nielsond/python/envs/abcd_mine/lib/python3.6/site-packages/rpy2/robjects/functions.py:106: UserWarning: Adjusting the Data\n",
      "\n",
      "\n",
      "  res = super(Function, self).__call__(*new_args, **new_kwargs)\n",
      "/data/nielsond/python/envs/abcd_mine/lib/python3.6/site-packages/rpy2/robjects/functions.py:106: UserWarning: Found2batches\n",
      "\n",
      "  res = super(Function, self).__call__(*new_args, **new_kwargs)\n",
      "/data/nielsond/python/envs/abcd_mine/lib/python3.6/site-packages/rpy2/robjects/functions.py:106: UserWarning: Adjusting for0covariate(s) or covariate level(s)\n",
      "\n",
      "  res = super(Function, self).__call__(*new_args, **new_kwargs)\n"
     ]
    },
    {
     "name": "stdout",
     "output_type": "stream",
     "text": [
      "Standardizing Data across genes\n",
      "\n"
     ]
    },
    {
     "name": "stderr",
     "output_type": "stream",
     "text": [
      "/data/nielsond/python/envs/abcd_mine/lib/python3.6/site-packages/rpy2/robjects/functions.py:106: UserWarning: Fitting L/S model and finding priors\n",
      "\n",
      "  res = super(Function, self).__call__(*new_args, **new_kwargs)\n",
      "/data/nielsond/python/envs/abcd_mine/lib/python3.6/site-packages/rpy2/robjects/functions.py:106: UserWarning: Finding nonparametric adjustments\n",
      "\n",
      "  res = super(Function, self).__call__(*new_args, **new_kwargs)\n"
     ]
    },
    {
     "name": "stdout",
     "output_type": "stream",
     "text": [
      "Standardizing Data across genes\n",
      "\n",
      "Standardizing Data across genes\n",
      "\n",
      "Standardizing Data across genes\n",
      "\n"
     ]
    },
    {
     "name": "stderr",
     "output_type": "stream",
     "text": [
      "/data/nielsond/python/envs/abcd_mine/lib/python3.6/site-packages/rpy2/robjects/functions.py:106: UserWarning: Found2batches\n",
      "\n",
      "  res = super(Function, self).__call__(*new_args, **new_kwargs)\n",
      "/data/nielsond/python/envs/abcd_mine/lib/python3.6/site-packages/rpy2/robjects/functions.py:106: UserWarning: Adjusting for0covariate(s) or covariate level(s)\n",
      "\n",
      "  res = super(Function, self).__call__(*new_args, **new_kwargs)\n"
     ]
    },
    {
     "name": "stdout",
     "output_type": "stream",
     "text": [
      "Standardizing Data across genes\n",
      "\n"
     ]
    },
    {
     "name": "stderr",
     "output_type": "stream",
     "text": [
      "/data/nielsond/python/envs/abcd_mine/lib/python3.6/site-packages/rpy2/robjects/functions.py:106: UserWarning: Fitting L/S model and finding priors\n",
      "\n",
      "  res = super(Function, self).__call__(*new_args, **new_kwargs)\n",
      "/data/nielsond/python/envs/abcd_mine/lib/python3.6/site-packages/rpy2/robjects/functions.py:106: UserWarning: Finding nonparametric adjustments\n",
      "\n",
      "  res = super(Function, self).__call__(*new_args, **new_kwargs)\n",
      "/data/nielsond/python/envs/abcd_mine/lib/python3.6/site-packages/rpy2/robjects/functions.py:106: UserWarning: Found2batches\n",
      "\n",
      "  res = super(Function, self).__call__(*new_args, **new_kwargs)\n",
      "/data/nielsond/python/envs/abcd_mine/lib/python3.6/site-packages/rpy2/robjects/functions.py:106: UserWarning: Adjusting for0covariate(s) or covariate level(s)\n",
      "\n",
      "  res = super(Function, self).__call__(*new_args, **new_kwargs)\n"
     ]
    },
    {
     "name": "stdout",
     "output_type": "stream",
     "text": [
      "Standardizing Data across genes\n",
      "\n"
     ]
    },
    {
     "name": "stderr",
     "output_type": "stream",
     "text": [
      "/data/nielsond/python/envs/abcd_mine/lib/python3.6/site-packages/rpy2/robjects/functions.py:106: UserWarning: Fitting L/S model and finding priors\n",
      "\n",
      "  res = super(Function, self).__call__(*new_args, **new_kwargs)\n",
      "/data/nielsond/python/envs/abcd_mine/lib/python3.6/site-packages/rpy2/robjects/functions.py:106: UserWarning: Finding nonparametric adjustments\n",
      "\n",
      "  res = super(Function, self).__call__(*new_args, **new_kwargs)\n"
     ]
    },
    {
     "name": "stdout",
     "output_type": "stream",
     "text": [
      "[Parallel(n_jobs=20)]: Done 128 tasks      | elapsed: 12.8min\n"
     ]
    },
    {
     "name": "stderr",
     "output_type": "stream",
     "text": [
      "/data/nielsond/python/envs/abcd_mine/lib/python3.6/site-packages/rpy2/robjects/functions.py:106: UserWarning: Adjusting the Data\n",
      "\n",
      "\n",
      "  res = super(Function, self).__call__(*new_args, **new_kwargs)\n"
     ]
    },
    {
     "name": "stdout",
     "output_type": "stream",
     "text": [
      "Standardizing Data across genes\n",
      "\n"
     ]
    },
    {
     "name": "stderr",
     "output_type": "stream",
     "text": [
      "/data/nielsond/python/envs/abcd_mine/lib/python3.6/site-packages/rpy2/robjects/functions.py:106: UserWarning: Found2batches\n",
      "\n",
      "  res = super(Function, self).__call__(*new_args, **new_kwargs)\n",
      "/data/nielsond/python/envs/abcd_mine/lib/python3.6/site-packages/rpy2/robjects/functions.py:106: UserWarning: Adjusting for0covariate(s) or covariate level(s)\n",
      "\n",
      "  res = super(Function, self).__call__(*new_args, **new_kwargs)\n"
     ]
    },
    {
     "name": "stdout",
     "output_type": "stream",
     "text": [
      "Standardizing Data across genes\n",
      "\n"
     ]
    },
    {
     "name": "stderr",
     "output_type": "stream",
     "text": [
      "/data/nielsond/python/envs/abcd_mine/lib/python3.6/site-packages/rpy2/robjects/functions.py:106: UserWarning: Fitting L/S model and finding priors\n",
      "\n",
      "  res = super(Function, self).__call__(*new_args, **new_kwargs)\n",
      "/data/nielsond/python/envs/abcd_mine/lib/python3.6/site-packages/rpy2/robjects/functions.py:106: UserWarning: Finding nonparametric adjustments\n",
      "\n",
      "  res = super(Function, self).__call__(*new_args, **new_kwargs)\n",
      "/data/nielsond/python/envs/abcd_mine/lib/python3.6/site-packages/rpy2/robjects/functions.py:106: UserWarning: Adjusting the Data\n",
      "\n",
      "\n",
      "  res = super(Function, self).__call__(*new_args, **new_kwargs)\n"
     ]
    },
    {
     "name": "stdout",
     "output_type": "stream",
     "text": [
      "[Parallel(n_jobs=20)]: Done 129 tasks      | elapsed: 12.8min\n",
      "Standardizing Data across genes\n",
      "\n",
      "Standardizing Data across genes\n",
      "\n",
      "[Parallel(n_jobs=20)]: Done 130 tasks      | elapsed: 12.9min\n"
     ]
    },
    {
     "name": "stderr",
     "output_type": "stream",
     "text": [
      "/data/nielsond/python/envs/abcd_mine/lib/python3.6/site-packages/rpy2/robjects/functions.py:106: UserWarning: Adjusting the Data\n",
      "\n",
      "\n",
      "  res = super(Function, self).__call__(*new_args, **new_kwargs)\n"
     ]
    },
    {
     "name": "stdout",
     "output_type": "stream",
     "text": [
      "Standardizing Data across genes\n",
      "\n"
     ]
    },
    {
     "name": "stderr",
     "output_type": "stream",
     "text": [
      "/data/nielsond/python/envs/abcd_mine/lib/python3.6/site-packages/rpy2/robjects/functions.py:106: UserWarning: Adjusting the Data\n",
      "\n",
      "\n",
      "  res = super(Function, self).__call__(*new_args, **new_kwargs)\n",
      "/data/nielsond/python/envs/abcd_mine/lib/python3.6/site-packages/rpy2/robjects/functions.py:106: UserWarning: Found2batches\n",
      "\n",
      "  res = super(Function, self).__call__(*new_args, **new_kwargs)\n",
      "/data/nielsond/python/envs/abcd_mine/lib/python3.6/site-packages/rpy2/robjects/functions.py:106: UserWarning: Adjusting for0covariate(s) or covariate level(s)\n",
      "\n",
      "  res = super(Function, self).__call__(*new_args, **new_kwargs)\n"
     ]
    },
    {
     "name": "stdout",
     "output_type": "stream",
     "text": [
      "Standardizing Data across genes\n",
      "\n"
     ]
    },
    {
     "name": "stderr",
     "output_type": "stream",
     "text": [
      "/data/nielsond/python/envs/abcd_mine/lib/python3.6/site-packages/rpy2/robjects/functions.py:106: UserWarning: Fitting L/S model and finding priors\n",
      "\n",
      "  res = super(Function, self).__call__(*new_args, **new_kwargs)\n",
      "/data/nielsond/python/envs/abcd_mine/lib/python3.6/site-packages/rpy2/robjects/functions.py:106: UserWarning: Finding nonparametric adjustments\n",
      "\n",
      "  res = super(Function, self).__call__(*new_args, **new_kwargs)\n"
     ]
    },
    {
     "name": "stdout",
     "output_type": "stream",
     "text": [
      "Standardizing Data across genes\n",
      "\n",
      "Standardizing Data across genes\n",
      "\n",
      "Standardizing Data across genes\n",
      "\n",
      "Standardizing Data across genes\n",
      "\n"
     ]
    },
    {
     "name": "stderr",
     "output_type": "stream",
     "text": [
      "/data/nielsond/python/envs/abcd_mine/lib/python3.6/site-packages/rpy2/robjects/functions.py:106: UserWarning: Adjusting the Data\n",
      "\n",
      "\n",
      "  res = super(Function, self).__call__(*new_args, **new_kwargs)\n"
     ]
    },
    {
     "name": "stdout",
     "output_type": "stream",
     "text": [
      "Standardizing Data across genes\n",
      "\n"
     ]
    },
    {
     "name": "stderr",
     "output_type": "stream",
     "text": [
      "/data/nielsond/python/envs/abcd_mine/lib/python3.6/site-packages/rpy2/robjects/functions.py:106: UserWarning: Found2batches\n",
      "\n",
      "  res = super(Function, self).__call__(*new_args, **new_kwargs)\n",
      "/data/nielsond/python/envs/abcd_mine/lib/python3.6/site-packages/rpy2/robjects/functions.py:106: UserWarning: Adjusting for0covariate(s) or covariate level(s)\n",
      "\n",
      "  res = super(Function, self).__call__(*new_args, **new_kwargs)\n"
     ]
    },
    {
     "name": "stdout",
     "output_type": "stream",
     "text": [
      "Standardizing Data across genes\n",
      "\n"
     ]
    },
    {
     "name": "stderr",
     "output_type": "stream",
     "text": [
      "/data/nielsond/python/envs/abcd_mine/lib/python3.6/site-packages/rpy2/robjects/functions.py:106: UserWarning: Fitting L/S model and finding priors\n",
      "\n",
      "  res = super(Function, self).__call__(*new_args, **new_kwargs)\n"
     ]
    },
    {
     "name": "stdout",
     "output_type": "stream",
     "text": [
      "Standardizing Data across genes\n",
      "\n"
     ]
    },
    {
     "name": "stderr",
     "output_type": "stream",
     "text": [
      "/data/nielsond/python/envs/abcd_mine/lib/python3.6/site-packages/rpy2/robjects/functions.py:106: UserWarning: Finding nonparametric adjustments\n",
      "\n",
      "  res = super(Function, self).__call__(*new_args, **new_kwargs)\n",
      "/data/nielsond/python/envs/abcd_mine/lib/python3.6/site-packages/rpy2/robjects/functions.py:106: UserWarning: Adjusting the Data\n",
      "\n",
      "\n",
      "  res = super(Function, self).__call__(*new_args, **new_kwargs)\n"
     ]
    },
    {
     "name": "stdout",
     "output_type": "stream",
     "text": [
      "Standardizing Data across genes\n",
      "\n",
      "Standardizing Data across genes\n",
      "\n",
      "Standardizing Data across genes\n",
      "\n"
     ]
    },
    {
     "name": "stderr",
     "output_type": "stream",
     "text": [
      "/data/nielsond/python/envs/abcd_mine/lib/python3.6/site-packages/rpy2/robjects/functions.py:106: UserWarning: Found2batches\n",
      "\n",
      "  res = super(Function, self).__call__(*new_args, **new_kwargs)\n",
      "/data/nielsond/python/envs/abcd_mine/lib/python3.6/site-packages/rpy2/robjects/functions.py:106: UserWarning: Adjusting for0covariate(s) or covariate level(s)\n",
      "\n",
      "  res = super(Function, self).__call__(*new_args, **new_kwargs)\n"
     ]
    },
    {
     "name": "stdout",
     "output_type": "stream",
     "text": [
      "Standardizing Data across genes\n",
      "\n"
     ]
    },
    {
     "name": "stderr",
     "output_type": "stream",
     "text": [
      "/data/nielsond/python/envs/abcd_mine/lib/python3.6/site-packages/rpy2/robjects/functions.py:106: UserWarning: Fitting L/S model and finding priors\n",
      "\n",
      "  res = super(Function, self).__call__(*new_args, **new_kwargs)\n",
      "/data/nielsond/python/envs/abcd_mine/lib/python3.6/site-packages/rpy2/robjects/functions.py:106: UserWarning: Finding nonparametric adjustments\n",
      "\n",
      "  res = super(Function, self).__call__(*new_args, **new_kwargs)\n"
     ]
    },
    {
     "name": "stdout",
     "output_type": "stream",
     "text": [
      "Standardizing Data across genes\n",
      "\n",
      "Standardizing Data across genes\n",
      "\n",
      "[Parallel(n_jobs=20)]: Done 131 tasks      | elapsed: 13.0min\n",
      "Standardizing Data across genes\n",
      "\n",
      "Standardizing Data across genes\n",
      "\n",
      "Standardizing Data across genes\n",
      "\n"
     ]
    },
    {
     "name": "stderr",
     "output_type": "stream",
     "text": [
      "/data/nielsond/python/envs/abcd_mine/lib/python3.6/site-packages/rpy2/robjects/functions.py:106: UserWarning: Adjusting the Data\n",
      "\n",
      "\n",
      "  res = super(Function, self).__call__(*new_args, **new_kwargs)\n",
      "/data/nielsond/python/envs/abcd_mine/lib/python3.6/site-packages/rpy2/robjects/functions.py:106: UserWarning: Found2batches\n",
      "\n",
      "  res = super(Function, self).__call__(*new_args, **new_kwargs)\n",
      "/data/nielsond/python/envs/abcd_mine/lib/python3.6/site-packages/rpy2/robjects/functions.py:106: UserWarning: Adjusting for0covariate(s) or covariate level(s)\n",
      "\n",
      "  res = super(Function, self).__call__(*new_args, **new_kwargs)\n"
     ]
    },
    {
     "name": "stdout",
     "output_type": "stream",
     "text": [
      "Standardizing Data across genes\n",
      "\n"
     ]
    },
    {
     "name": "stderr",
     "output_type": "stream",
     "text": [
      "/data/nielsond/python/envs/abcd_mine/lib/python3.6/site-packages/rpy2/robjects/functions.py:106: UserWarning: Fitting L/S model and finding priors\n",
      "\n",
      "  res = super(Function, self).__call__(*new_args, **new_kwargs)\n",
      "/data/nielsond/python/envs/abcd_mine/lib/python3.6/site-packages/rpy2/robjects/functions.py:106: UserWarning: Finding nonparametric adjustments\n",
      "\n",
      "  res = super(Function, self).__call__(*new_args, **new_kwargs)\n"
     ]
    },
    {
     "name": "stdout",
     "output_type": "stream",
     "text": [
      "Standardizing Data across genes\n",
      "\n",
      "Standardizing Data across genes\n",
      "\n",
      "Standardizing Data across genes\n",
      "\n",
      "Standardizing Data across genes\n",
      "\n",
      "[Parallel(n_jobs=20)]: Done 132 tasks      | elapsed: 13.2min\n"
     ]
    },
    {
     "name": "stderr",
     "output_type": "stream",
     "text": [
      "/data/nielsond/python/envs/abcd_mine/lib/python3.6/site-packages/rpy2/robjects/functions.py:106: UserWarning: Adjusting the Data\n",
      "\n",
      "\n",
      "  res = super(Function, self).__call__(*new_args, **new_kwargs)\n"
     ]
    },
    {
     "name": "stdout",
     "output_type": "stream",
     "text": [
      "Standardizing Data across genes\n",
      "\n"
     ]
    },
    {
     "name": "stderr",
     "output_type": "stream",
     "text": [
      "/data/nielsond/python/envs/abcd_mine/lib/python3.6/site-packages/rpy2/robjects/functions.py:106: UserWarning: Found2batches\n",
      "\n",
      "  res = super(Function, self).__call__(*new_args, **new_kwargs)\n",
      "/data/nielsond/python/envs/abcd_mine/lib/python3.6/site-packages/rpy2/robjects/functions.py:106: UserWarning: Adjusting for0covariate(s) or covariate level(s)\n",
      "\n",
      "  res = super(Function, self).__call__(*new_args, **new_kwargs)\n"
     ]
    },
    {
     "name": "stdout",
     "output_type": "stream",
     "text": [
      "Standardizing Data across genes\n",
      "\n"
     ]
    },
    {
     "name": "stderr",
     "output_type": "stream",
     "text": [
      "/data/nielsond/python/envs/abcd_mine/lib/python3.6/site-packages/rpy2/robjects/functions.py:106: UserWarning: Fitting L/S model and finding priors\n",
      "\n",
      "  res = super(Function, self).__call__(*new_args, **new_kwargs)\n",
      "/data/nielsond/python/envs/abcd_mine/lib/python3.6/site-packages/rpy2/robjects/functions.py:106: UserWarning: Finding nonparametric adjustments\n",
      "\n",
      "  res = super(Function, self).__call__(*new_args, **new_kwargs)\n"
     ]
    },
    {
     "name": "stdout",
     "output_type": "stream",
     "text": [
      "Standardizing Data across genes\n",
      "\n",
      "[Parallel(n_jobs=20)]: Done 133 tasks      | elapsed: 13.2min\n",
      "Standardizing Data across genes\n",
      "\n"
     ]
    },
    {
     "name": "stderr",
     "output_type": "stream",
     "text": [
      "/data/nielsond/python/envs/abcd_mine/lib/python3.6/site-packages/rpy2/robjects/functions.py:106: UserWarning: Found2batches\n",
      "\n",
      "  res = super(Function, self).__call__(*new_args, **new_kwargs)\n",
      "/data/nielsond/python/envs/abcd_mine/lib/python3.6/site-packages/rpy2/robjects/functions.py:106: UserWarning: Adjusting for0covariate(s) or covariate level(s)\n",
      "\n",
      "  res = super(Function, self).__call__(*new_args, **new_kwargs)\n"
     ]
    },
    {
     "name": "stdout",
     "output_type": "stream",
     "text": [
      "Standardizing Data across genes\n",
      "\n"
     ]
    },
    {
     "name": "stderr",
     "output_type": "stream",
     "text": [
      "/data/nielsond/python/envs/abcd_mine/lib/python3.6/site-packages/rpy2/robjects/functions.py:106: UserWarning: Fitting L/S model and finding priors\n",
      "\n",
      "  res = super(Function, self).__call__(*new_args, **new_kwargs)\n",
      "/data/nielsond/python/envs/abcd_mine/lib/python3.6/site-packages/rpy2/robjects/functions.py:106: UserWarning: Finding nonparametric adjustments\n",
      "\n",
      "  res = super(Function, self).__call__(*new_args, **new_kwargs)\n"
     ]
    },
    {
     "name": "stdout",
     "output_type": "stream",
     "text": [
      "[Parallel(n_jobs=20)]: Done 134 tasks      | elapsed: 13.3min\n"
     ]
    },
    {
     "name": "stderr",
     "output_type": "stream",
     "text": [
      "/data/nielsond/python/envs/abcd_mine/lib/python3.6/site-packages/rpy2/robjects/functions.py:106: UserWarning: Adjusting the Data\n",
      "\n",
      "\n",
      "  res = super(Function, self).__call__(*new_args, **new_kwargs)\n"
     ]
    },
    {
     "name": "stdout",
     "output_type": "stream",
     "text": [
      "Standardizing Data across genes\n",
      "\n"
     ]
    },
    {
     "name": "stderr",
     "output_type": "stream",
     "text": [
      "/data/nielsond/python/envs/abcd_mine/lib/python3.6/site-packages/rpy2/robjects/functions.py:106: UserWarning: Adjusting the Data\n",
      "\n",
      "\n",
      "  res = super(Function, self).__call__(*new_args, **new_kwargs)\n"
     ]
    },
    {
     "name": "stdout",
     "output_type": "stream",
     "text": [
      "Standardizing Data across genes\n",
      "\n",
      "Standardizing Data across genes\n",
      "\n",
      "[Parallel(n_jobs=20)]: Done 135 tasks      | elapsed: 13.3min\n",
      "[Parallel(n_jobs=20)]: Done 136 tasks      | elapsed: 13.3min\n",
      "Standardizing Data across genes\n",
      "\n",
      "Standardizing Data across genes\n",
      "\n",
      "[Parallel(n_jobs=20)]: Done 137 tasks      | elapsed: 13.4min\n"
     ]
    },
    {
     "name": "stderr",
     "output_type": "stream",
     "text": [
      "/data/nielsond/python/envs/abcd_mine/lib/python3.6/site-packages/rpy2/robjects/functions.py:106: UserWarning: Adjusting the Data\n",
      "\n",
      "\n",
      "  res = super(Function, self).__call__(*new_args, **new_kwargs)\n"
     ]
    },
    {
     "name": "stdout",
     "output_type": "stream",
     "text": [
      "[Parallel(n_jobs=20)]: Done 138 tasks      | elapsed: 13.4min\n",
      "Standardizing Data across genes\n",
      "\n",
      "Standardizing Data across genes\n",
      "\n",
      "[Parallel(n_jobs=20)]: Done 139 tasks      | elapsed: 13.4min\n",
      "Standardizing Data across genes\n",
      "\n"
     ]
    },
    {
     "name": "stderr",
     "output_type": "stream",
     "text": [
      "/data/nielsond/python/envs/abcd_mine/lib/python3.6/site-packages/rpy2/robjects/functions.py:106: UserWarning: Found2batches\n",
      "\n",
      "  res = super(Function, self).__call__(*new_args, **new_kwargs)\n",
      "/data/nielsond/python/envs/abcd_mine/lib/python3.6/site-packages/rpy2/robjects/functions.py:106: UserWarning: Adjusting for0covariate(s) or covariate level(s)\n",
      "\n",
      "  res = super(Function, self).__call__(*new_args, **new_kwargs)\n"
     ]
    },
    {
     "name": "stdout",
     "output_type": "stream",
     "text": [
      "Standardizing Data across genes\n",
      "\n"
     ]
    },
    {
     "name": "stderr",
     "output_type": "stream",
     "text": [
      "/data/nielsond/python/envs/abcd_mine/lib/python3.6/site-packages/rpy2/robjects/functions.py:106: UserWarning: Fitting L/S model and finding priors\n",
      "\n",
      "  res = super(Function, self).__call__(*new_args, **new_kwargs)\n",
      "/data/nielsond/python/envs/abcd_mine/lib/python3.6/site-packages/rpy2/robjects/functions.py:106: UserWarning: Finding nonparametric adjustments\n",
      "\n",
      "  res = super(Function, self).__call__(*new_args, **new_kwargs)\n"
     ]
    },
    {
     "name": "stdout",
     "output_type": "stream",
     "text": [
      "[Parallel(n_jobs=20)]: Done 140 tasks      | elapsed: 13.5min\n"
     ]
    },
    {
     "name": "stderr",
     "output_type": "stream",
     "text": [
      "/data/nielsond/python/envs/abcd_mine/lib/python3.6/site-packages/rpy2/robjects/functions.py:106: UserWarning: Found2batches\n",
      "\n",
      "  res = super(Function, self).__call__(*new_args, **new_kwargs)\n",
      "/data/nielsond/python/envs/abcd_mine/lib/python3.6/site-packages/rpy2/robjects/functions.py:106: UserWarning: Adjusting for0covariate(s) or covariate level(s)\n",
      "\n",
      "  res = super(Function, self).__call__(*new_args, **new_kwargs)\n"
     ]
    },
    {
     "name": "stdout",
     "output_type": "stream",
     "text": [
      "Standardizing Data across genes\n",
      "\n"
     ]
    },
    {
     "name": "stderr",
     "output_type": "stream",
     "text": [
      "/data/nielsond/python/envs/abcd_mine/lib/python3.6/site-packages/rpy2/robjects/functions.py:106: UserWarning: Fitting L/S model and finding priors\n",
      "\n",
      "  res = super(Function, self).__call__(*new_args, **new_kwargs)\n",
      "/data/nielsond/python/envs/abcd_mine/lib/python3.6/site-packages/rpy2/robjects/functions.py:106: UserWarning: Finding nonparametric adjustments\n",
      "\n",
      "  res = super(Function, self).__call__(*new_args, **new_kwargs)\n",
      "/data/nielsond/python/envs/abcd_mine/lib/python3.6/site-packages/rpy2/robjects/functions.py:106: UserWarning: Found2batches\n",
      "\n",
      "  res = super(Function, self).__call__(*new_args, **new_kwargs)\n",
      "/data/nielsond/python/envs/abcd_mine/lib/python3.6/site-packages/rpy2/robjects/functions.py:106: UserWarning: Adjusting for0covariate(s) or covariate level(s)\n",
      "\n",
      "  res = super(Function, self).__call__(*new_args, **new_kwargs)\n"
     ]
    },
    {
     "name": "stdout",
     "output_type": "stream",
     "text": [
      "Standardizing Data across genes\n",
      "\n"
     ]
    },
    {
     "name": "stderr",
     "output_type": "stream",
     "text": [
      "/data/nielsond/python/envs/abcd_mine/lib/python3.6/site-packages/rpy2/robjects/functions.py:106: UserWarning: Fitting L/S model and finding priors\n",
      "\n",
      "  res = super(Function, self).__call__(*new_args, **new_kwargs)\n",
      "/data/nielsond/python/envs/abcd_mine/lib/python3.6/site-packages/rpy2/robjects/functions.py:106: UserWarning: Finding nonparametric adjustments\n",
      "\n",
      "  res = super(Function, self).__call__(*new_args, **new_kwargs)\n",
      "/data/nielsond/python/envs/abcd_mine/lib/python3.6/site-packages/rpy2/robjects/functions.py:106: UserWarning: Adjusting the Data\n",
      "\n",
      "\n",
      "  res = super(Function, self).__call__(*new_args, **new_kwargs)\n"
     ]
    },
    {
     "name": "stdout",
     "output_type": "stream",
     "text": [
      "Standardizing Data across genes\n",
      "\n",
      "Standardizing Data across genes\n",
      "\n"
     ]
    },
    {
     "name": "stderr",
     "output_type": "stream",
     "text": [
      "/data/nielsond/python/envs/abcd_mine/lib/python3.6/site-packages/rpy2/robjects/functions.py:106: UserWarning: Found2batches\n",
      "\n",
      "  res = super(Function, self).__call__(*new_args, **new_kwargs)\n",
      "/data/nielsond/python/envs/abcd_mine/lib/python3.6/site-packages/rpy2/robjects/functions.py:106: UserWarning: Adjusting for0covariate(s) or covariate level(s)\n",
      "\n",
      "  res = super(Function, self).__call__(*new_args, **new_kwargs)\n"
     ]
    },
    {
     "name": "stdout",
     "output_type": "stream",
     "text": [
      "Standardizing Data across genes\n",
      "\n"
     ]
    },
    {
     "name": "stderr",
     "output_type": "stream",
     "text": [
      "/data/nielsond/python/envs/abcd_mine/lib/python3.6/site-packages/rpy2/robjects/functions.py:106: UserWarning: Fitting L/S model and finding priors\n",
      "\n",
      "  res = super(Function, self).__call__(*new_args, **new_kwargs)\n",
      "/data/nielsond/python/envs/abcd_mine/lib/python3.6/site-packages/rpy2/robjects/functions.py:106: UserWarning: Finding nonparametric adjustments\n",
      "\n",
      "  res = super(Function, self).__call__(*new_args, **new_kwargs)\n"
     ]
    },
    {
     "name": "stdout",
     "output_type": "stream",
     "text": [
      "Standardizing Data across genes\n",
      "\n"
     ]
    },
    {
     "name": "stderr",
     "output_type": "stream",
     "text": [
      "/data/nielsond/python/envs/abcd_mine/lib/python3.6/site-packages/rpy2/robjects/functions.py:106: UserWarning: Adjusting the Data\n",
      "\n",
      "\n",
      "  res = super(Function, self).__call__(*new_args, **new_kwargs)\n"
     ]
    },
    {
     "name": "stdout",
     "output_type": "stream",
     "text": [
      "Standardizing Data across genes\n",
      "\n",
      "Standardizing Data across genes\n",
      "\n"
     ]
    },
    {
     "name": "stderr",
     "output_type": "stream",
     "text": [
      "/data/nielsond/python/envs/abcd_mine/lib/python3.6/site-packages/rpy2/robjects/functions.py:106: UserWarning: Found2batches\n",
      "\n",
      "  res = super(Function, self).__call__(*new_args, **new_kwargs)\n",
      "/data/nielsond/python/envs/abcd_mine/lib/python3.6/site-packages/rpy2/robjects/functions.py:106: UserWarning: Adjusting for0covariate(s) or covariate level(s)\n",
      "\n",
      "  res = super(Function, self).__call__(*new_args, **new_kwargs)\n"
     ]
    },
    {
     "name": "stdout",
     "output_type": "stream",
     "text": [
      "Standardizing Data across genes\n",
      "\n"
     ]
    },
    {
     "name": "stderr",
     "output_type": "stream",
     "text": [
      "/data/nielsond/python/envs/abcd_mine/lib/python3.6/site-packages/rpy2/robjects/functions.py:106: UserWarning: Fitting L/S model and finding priors\n",
      "\n",
      "  res = super(Function, self).__call__(*new_args, **new_kwargs)\n",
      "/data/nielsond/python/envs/abcd_mine/lib/python3.6/site-packages/rpy2/robjects/functions.py:106: UserWarning: Finding nonparametric adjustments\n",
      "\n",
      "  res = super(Function, self).__call__(*new_args, **new_kwargs)\n"
     ]
    },
    {
     "name": "stdout",
     "output_type": "stream",
     "text": [
      "Standardizing Data across genes\n",
      "\n"
     ]
    },
    {
     "name": "stderr",
     "output_type": "stream",
     "text": [
      "/data/nielsond/python/envs/abcd_mine/lib/python3.6/site-packages/rpy2/robjects/functions.py:106: UserWarning: Adjusting the Data\n",
      "\n",
      "\n",
      "  res = super(Function, self).__call__(*new_args, **new_kwargs)\n",
      "/data/nielsond/python/envs/abcd_mine/lib/python3.6/site-packages/rpy2/robjects/functions.py:106: UserWarning: Found2batches\n",
      "\n",
      "  res = super(Function, self).__call__(*new_args, **new_kwargs)\n",
      "/data/nielsond/python/envs/abcd_mine/lib/python3.6/site-packages/rpy2/robjects/functions.py:106: UserWarning: Adjusting for0covariate(s) or covariate level(s)\n",
      "\n",
      "  res = super(Function, self).__call__(*new_args, **new_kwargs)\n"
     ]
    },
    {
     "name": "stdout",
     "output_type": "stream",
     "text": [
      "Standardizing Data across genes\n",
      "\n",
      "Standardizing Data across genes\n",
      "\n"
     ]
    },
    {
     "name": "stderr",
     "output_type": "stream",
     "text": [
      "/data/nielsond/python/envs/abcd_mine/lib/python3.6/site-packages/rpy2/robjects/functions.py:106: UserWarning: Fitting L/S model and finding priors\n",
      "\n",
      "  res = super(Function, self).__call__(*new_args, **new_kwargs)\n",
      "/data/nielsond/python/envs/abcd_mine/lib/python3.6/site-packages/rpy2/robjects/functions.py:106: UserWarning: Finding nonparametric adjustments\n",
      "\n",
      "  res = super(Function, self).__call__(*new_args, **new_kwargs)\n"
     ]
    },
    {
     "name": "stdout",
     "output_type": "stream",
     "text": [
      "Standardizing Data across genes\n",
      "\n",
      "Standardizing Data across genes\n",
      "\n"
     ]
    },
    {
     "name": "stderr",
     "output_type": "stream",
     "text": [
      "/data/nielsond/python/envs/abcd_mine/lib/python3.6/site-packages/rpy2/robjects/functions.py:106: UserWarning: Found2batches\n",
      "\n",
      "  res = super(Function, self).__call__(*new_args, **new_kwargs)\n",
      "/data/nielsond/python/envs/abcd_mine/lib/python3.6/site-packages/rpy2/robjects/functions.py:106: UserWarning: Adjusting for0covariate(s) or covariate level(s)\n",
      "\n",
      "  res = super(Function, self).__call__(*new_args, **new_kwargs)\n"
     ]
    },
    {
     "name": "stdout",
     "output_type": "stream",
     "text": [
      "Standardizing Data across genes\n",
      "\n"
     ]
    },
    {
     "name": "stderr",
     "output_type": "stream",
     "text": [
      "/data/nielsond/python/envs/abcd_mine/lib/python3.6/site-packages/rpy2/robjects/functions.py:106: UserWarning: Fitting L/S model and finding priors\n",
      "\n",
      "  res = super(Function, self).__call__(*new_args, **new_kwargs)\n",
      "/data/nielsond/python/envs/abcd_mine/lib/python3.6/site-packages/rpy2/robjects/functions.py:106: UserWarning: Finding nonparametric adjustments\n",
      "\n",
      "  res = super(Function, self).__call__(*new_args, **new_kwargs)\n",
      "/data/nielsond/python/envs/abcd_mine/lib/python3.6/site-packages/rpy2/robjects/functions.py:106: UserWarning: Adjusting the Data\n",
      "\n",
      "\n",
      "  res = super(Function, self).__call__(*new_args, **new_kwargs)\n"
     ]
    },
    {
     "name": "stdout",
     "output_type": "stream",
     "text": [
      "Standardizing Data across genes\n",
      "\n",
      "Standardizing Data across genes\n",
      "\n",
      "Standardizing Data across genes\n",
      "\n"
     ]
    },
    {
     "name": "stderr",
     "output_type": "stream",
     "text": [
      "/data/nielsond/python/envs/abcd_mine/lib/python3.6/site-packages/rpy2/robjects/functions.py:106: UserWarning: Found2batches\n",
      "\n",
      "  res = super(Function, self).__call__(*new_args, **new_kwargs)\n",
      "/data/nielsond/python/envs/abcd_mine/lib/python3.6/site-packages/rpy2/robjects/functions.py:106: UserWarning: Adjusting for0covariate(s) or covariate level(s)\n",
      "\n",
      "  res = super(Function, self).__call__(*new_args, **new_kwargs)\n"
     ]
    },
    {
     "name": "stdout",
     "output_type": "stream",
     "text": [
      "Standardizing Data across genes\n",
      "\n"
     ]
    },
    {
     "name": "stderr",
     "output_type": "stream",
     "text": [
      "/data/nielsond/python/envs/abcd_mine/lib/python3.6/site-packages/rpy2/robjects/functions.py:106: UserWarning: Fitting L/S model and finding priors\n",
      "\n",
      "  res = super(Function, self).__call__(*new_args, **new_kwargs)\n",
      "/data/nielsond/python/envs/abcd_mine/lib/python3.6/site-packages/rpy2/robjects/functions.py:106: UserWarning: Finding nonparametric adjustments\n",
      "\n",
      "  res = super(Function, self).__call__(*new_args, **new_kwargs)\n"
     ]
    },
    {
     "name": "stdout",
     "output_type": "stream",
     "text": [
      "[Parallel(n_jobs=20)]: Done 141 tasks      | elapsed: 13.7min\n",
      "Standardizing Data across genes\n",
      "\n"
     ]
    },
    {
     "name": "stderr",
     "output_type": "stream",
     "text": [
      "/data/nielsond/python/envs/abcd_mine/lib/python3.6/site-packages/rpy2/robjects/functions.py:106: UserWarning: Adjusting the Data\n",
      "\n",
      "\n",
      "  res = super(Function, self).__call__(*new_args, **new_kwargs)\n"
     ]
    },
    {
     "name": "stdout",
     "output_type": "stream",
     "text": [
      "Standardizing Data across genes\n",
      "\n"
     ]
    },
    {
     "name": "stderr",
     "output_type": "stream",
     "text": [
      "/data/nielsond/python/envs/abcd_mine/lib/python3.6/site-packages/rpy2/robjects/functions.py:106: UserWarning: Adjusting the Data\n",
      "\n",
      "\n",
      "  res = super(Function, self).__call__(*new_args, **new_kwargs)\n"
     ]
    },
    {
     "name": "stdout",
     "output_type": "stream",
     "text": [
      "[Parallel(n_jobs=20)]: Done 142 tasks      | elapsed: 13.7min\n"
     ]
    },
    {
     "name": "stderr",
     "output_type": "stream",
     "text": [
      "/data/nielsond/python/envs/abcd_mine/lib/python3.6/site-packages/rpy2/robjects/functions.py:106: UserWarning: Found2batches\n",
      "\n",
      "  res = super(Function, self).__call__(*new_args, **new_kwargs)\n",
      "/data/nielsond/python/envs/abcd_mine/lib/python3.6/site-packages/rpy2/robjects/functions.py:106: UserWarning: Adjusting for0covariate(s) or covariate level(s)\n",
      "\n",
      "  res = super(Function, self).__call__(*new_args, **new_kwargs)\n"
     ]
    },
    {
     "name": "stdout",
     "output_type": "stream",
     "text": [
      "Standardizing Data across genes\n",
      "\n"
     ]
    },
    {
     "name": "stderr",
     "output_type": "stream",
     "text": [
      "/data/nielsond/python/envs/abcd_mine/lib/python3.6/site-packages/rpy2/robjects/functions.py:106: UserWarning: Fitting L/S model and finding priors\n",
      "\n",
      "  res = super(Function, self).__call__(*new_args, **new_kwargs)\n",
      "/data/nielsond/python/envs/abcd_mine/lib/python3.6/site-packages/rpy2/robjects/functions.py:106: UserWarning: Finding nonparametric adjustments\n",
      "\n",
      "  res = super(Function, self).__call__(*new_args, **new_kwargs)\n"
     ]
    },
    {
     "name": "stdout",
     "output_type": "stream",
     "text": [
      "Standardizing Data across genes\n",
      "\n"
     ]
    },
    {
     "name": "stderr",
     "output_type": "stream",
     "text": [
      "/data/nielsond/python/envs/abcd_mine/lib/python3.6/site-packages/rpy2/robjects/functions.py:106: UserWarning: Adjusting the Data\n",
      "\n",
      "\n",
      "  res = super(Function, self).__call__(*new_args, **new_kwargs)\n"
     ]
    },
    {
     "name": "stdout",
     "output_type": "stream",
     "text": [
      "Standardizing Data across genes\n",
      "\n",
      "Standardizing Data across genes\n",
      "\n",
      "Standardizing Data across genes\n",
      "\n"
     ]
    },
    {
     "name": "stderr",
     "output_type": "stream",
     "text": [
      "/data/nielsond/python/envs/abcd_mine/lib/python3.6/site-packages/rpy2/robjects/functions.py:106: UserWarning: Adjusting the Data\n",
      "\n",
      "\n",
      "  res = super(Function, self).__call__(*new_args, **new_kwargs)\n"
     ]
    },
    {
     "name": "stdout",
     "output_type": "stream",
     "text": [
      "[Parallel(n_jobs=20)]: Done 143 tasks      | elapsed: 13.8min\n",
      "Standardizing Data across genes\n",
      "\n"
     ]
    },
    {
     "name": "stderr",
     "output_type": "stream",
     "text": [
      "/data/nielsond/python/envs/abcd_mine/lib/python3.6/site-packages/rpy2/robjects/functions.py:106: UserWarning: Found2batches\n",
      "\n",
      "  res = super(Function, self).__call__(*new_args, **new_kwargs)\n",
      "/data/nielsond/python/envs/abcd_mine/lib/python3.6/site-packages/rpy2/robjects/functions.py:106: UserWarning: Adjusting for0covariate(s) or covariate level(s)\n",
      "\n",
      "  res = super(Function, self).__call__(*new_args, **new_kwargs)\n"
     ]
    },
    {
     "name": "stdout",
     "output_type": "stream",
     "text": [
      "Standardizing Data across genes\n",
      "\n"
     ]
    },
    {
     "name": "stderr",
     "output_type": "stream",
     "text": [
      "/data/nielsond/python/envs/abcd_mine/lib/python3.6/site-packages/rpy2/robjects/functions.py:106: UserWarning: Fitting L/S model and finding priors\n",
      "\n",
      "  res = super(Function, self).__call__(*new_args, **new_kwargs)\n",
      "/data/nielsond/python/envs/abcd_mine/lib/python3.6/site-packages/rpy2/robjects/functions.py:106: UserWarning: Finding nonparametric adjustments\n",
      "\n",
      "  res = super(Function, self).__call__(*new_args, **new_kwargs)\n"
     ]
    },
    {
     "name": "stdout",
     "output_type": "stream",
     "text": [
      "Standardizing Data across genes\n",
      "\n",
      "Standardizing Data across genes\n",
      "\n",
      "[Parallel(n_jobs=20)]: Done 144 tasks      | elapsed: 13.8min\n",
      "[Parallel(n_jobs=20)]: Done 145 tasks      | elapsed: 13.8min\n",
      "Standardizing Data across genes\n",
      "\n"
     ]
    },
    {
     "name": "stderr",
     "output_type": "stream",
     "text": [
      "/data/nielsond/python/envs/abcd_mine/lib/python3.6/site-packages/rpy2/robjects/functions.py:106: UserWarning: Adjusting the Data\n",
      "\n",
      "\n",
      "  res = super(Function, self).__call__(*new_args, **new_kwargs)\n"
     ]
    },
    {
     "name": "stdout",
     "output_type": "stream",
     "text": [
      "Standardizing Data across genes\n",
      "\n",
      "Standardizing Data across genes\n",
      "\n",
      "Standardizing Data across genes\n",
      "\n"
     ]
    },
    {
     "name": "stderr",
     "output_type": "stream",
     "text": [
      "/data/nielsond/python/envs/abcd_mine/lib/python3.6/site-packages/rpy2/robjects/functions.py:106: UserWarning: Adjusting the Data\n",
      "\n",
      "\n",
      "  res = super(Function, self).__call__(*new_args, **new_kwargs)\n"
     ]
    },
    {
     "name": "stdout",
     "output_type": "stream",
     "text": [
      "Standardizing Data across genes\n",
      "\n",
      "[Parallel(n_jobs=20)]: Done 146 tasks      | elapsed: 13.9min\n",
      "Standardizing Data across genes\n",
      "\n",
      "Standardizing Data across genes\n",
      "\n",
      "Standardizing Data across genes\n",
      "\n",
      "Standardizing Data across genes\n",
      "\n",
      "Standardizing Data across genes\n",
      "\n",
      "Standardizing Data across genes\n",
      "\n",
      "[Parallel(n_jobs=20)]: Done 147 tasks      | elapsed: 13.9min\n"
     ]
    },
    {
     "name": "stderr",
     "output_type": "stream",
     "text": [
      "/data/nielsond/python/envs/abcd_mine/lib/python3.6/site-packages/rpy2/robjects/functions.py:106: UserWarning: Found2batches\n",
      "\n",
      "  res = super(Function, self).__call__(*new_args, **new_kwargs)\n",
      "/data/nielsond/python/envs/abcd_mine/lib/python3.6/site-packages/rpy2/robjects/functions.py:106: UserWarning: Adjusting for0covariate(s) or covariate level(s)\n",
      "\n",
      "  res = super(Function, self).__call__(*new_args, **new_kwargs)\n"
     ]
    },
    {
     "name": "stdout",
     "output_type": "stream",
     "text": [
      "Standardizing Data across genes\n",
      "\n"
     ]
    },
    {
     "name": "stderr",
     "output_type": "stream",
     "text": [
      "/data/nielsond/python/envs/abcd_mine/lib/python3.6/site-packages/rpy2/robjects/functions.py:106: UserWarning: Fitting L/S model and finding priors\n",
      "\n",
      "  res = super(Function, self).__call__(*new_args, **new_kwargs)\n",
      "/data/nielsond/python/envs/abcd_mine/lib/python3.6/site-packages/rpy2/robjects/functions.py:106: UserWarning: Finding nonparametric adjustments\n",
      "\n",
      "  res = super(Function, self).__call__(*new_args, **new_kwargs)\n"
     ]
    },
    {
     "name": "stdout",
     "output_type": "stream",
     "text": [
      "[Parallel(n_jobs=20)]: Done 148 tasks      | elapsed: 14.0min\n",
      "Standardizing Data across genes\n",
      "\n",
      "[Parallel(n_jobs=20)]: Done 149 tasks      | elapsed: 14.0min\n",
      "Standardizing Data across genes\n",
      "\n"
     ]
    },
    {
     "name": "stderr",
     "output_type": "stream",
     "text": [
      "/data/nielsond/python/envs/abcd_mine/lib/python3.6/site-packages/rpy2/robjects/functions.py:106: UserWarning: Found2batches\n",
      "\n",
      "  res = super(Function, self).__call__(*new_args, **new_kwargs)\n",
      "/data/nielsond/python/envs/abcd_mine/lib/python3.6/site-packages/rpy2/robjects/functions.py:106: UserWarning: Adjusting for0covariate(s) or covariate level(s)\n",
      "\n",
      "  res = super(Function, self).__call__(*new_args, **new_kwargs)\n"
     ]
    },
    {
     "name": "stdout",
     "output_type": "stream",
     "text": [
      "Standardizing Data across genes\n",
      "\n"
     ]
    },
    {
     "name": "stderr",
     "output_type": "stream",
     "text": [
      "/data/nielsond/python/envs/abcd_mine/lib/python3.6/site-packages/rpy2/robjects/functions.py:106: UserWarning: Fitting L/S model and finding priors\n",
      "\n",
      "  res = super(Function, self).__call__(*new_args, **new_kwargs)\n",
      "/data/nielsond/python/envs/abcd_mine/lib/python3.6/site-packages/rpy2/robjects/functions.py:106: UserWarning: Finding nonparametric adjustments\n",
      "\n",
      "  res = super(Function, self).__call__(*new_args, **new_kwargs)\n"
     ]
    },
    {
     "name": "stdout",
     "output_type": "stream",
     "text": [
      "[Parallel(n_jobs=20)]: Done 150 tasks      | elapsed: 14.0min\n"
     ]
    },
    {
     "name": "stderr",
     "output_type": "stream",
     "text": [
      "/data/nielsond/python/envs/abcd_mine/lib/python3.6/site-packages/rpy2/robjects/functions.py:106: UserWarning: Adjusting the Data\n",
      "\n",
      "\n",
      "  res = super(Function, self).__call__(*new_args, **new_kwargs)\n"
     ]
    },
    {
     "name": "stdout",
     "output_type": "stream",
     "text": [
      "Standardizing Data across genes\n",
      "\n"
     ]
    },
    {
     "name": "stderr",
     "output_type": "stream",
     "text": [
      "/data/nielsond/python/envs/abcd_mine/lib/python3.6/site-packages/rpy2/robjects/functions.py:106: UserWarning: Found2batches\n",
      "\n",
      "  res = super(Function, self).__call__(*new_args, **new_kwargs)\n",
      "/data/nielsond/python/envs/abcd_mine/lib/python3.6/site-packages/rpy2/robjects/functions.py:106: UserWarning: Adjusting for0covariate(s) or covariate level(s)\n",
      "\n",
      "  res = super(Function, self).__call__(*new_args, **new_kwargs)\n"
     ]
    },
    {
     "name": "stdout",
     "output_type": "stream",
     "text": [
      "Standardizing Data across genes\n",
      "\n"
     ]
    },
    {
     "name": "stderr",
     "output_type": "stream",
     "text": [
      "/data/nielsond/python/envs/abcd_mine/lib/python3.6/site-packages/rpy2/robjects/functions.py:106: UserWarning: Fitting L/S model and finding priors\n",
      "\n",
      "  res = super(Function, self).__call__(*new_args, **new_kwargs)\n",
      "/data/nielsond/python/envs/abcd_mine/lib/python3.6/site-packages/rpy2/robjects/functions.py:106: UserWarning: Finding nonparametric adjustments\n",
      "\n",
      "  res = super(Function, self).__call__(*new_args, **new_kwargs)\n"
     ]
    },
    {
     "name": "stdout",
     "output_type": "stream",
     "text": [
      "[Parallel(n_jobs=20)]: Done 151 tasks      | elapsed: 14.0min\n",
      "Standardizing Data across genes\n",
      "\n",
      "[Parallel(n_jobs=20)]: Done 152 tasks      | elapsed: 14.1min\n",
      "[Parallel(n_jobs=20)]: Done 153 tasks      | elapsed: 14.1min\n"
     ]
    },
    {
     "name": "stderr",
     "output_type": "stream",
     "text": [
      "/data/nielsond/python/envs/abcd_mine/lib/python3.6/site-packages/rpy2/robjects/functions.py:106: UserWarning: Adjusting the Data\n",
      "\n",
      "\n",
      "  res = super(Function, self).__call__(*new_args, **new_kwargs)\n",
      "/data/nielsond/python/envs/abcd_mine/lib/python3.6/site-packages/rpy2/robjects/functions.py:106: UserWarning: Found2batches\n",
      "\n",
      "  res = super(Function, self).__call__(*new_args, **new_kwargs)\n",
      "/data/nielsond/python/envs/abcd_mine/lib/python3.6/site-packages/rpy2/robjects/functions.py:106: UserWarning: Adjusting for0covariate(s) or covariate level(s)\n",
      "\n",
      "  res = super(Function, self).__call__(*new_args, **new_kwargs)\n"
     ]
    },
    {
     "name": "stdout",
     "output_type": "stream",
     "text": [
      "Standardizing Data across genes\n",
      "\n"
     ]
    },
    {
     "name": "stderr",
     "output_type": "stream",
     "text": [
      "/data/nielsond/python/envs/abcd_mine/lib/python3.6/site-packages/rpy2/robjects/functions.py:106: UserWarning: Fitting L/S model and finding priors\n",
      "\n",
      "  res = super(Function, self).__call__(*new_args, **new_kwargs)\n"
     ]
    },
    {
     "name": "stdout",
     "output_type": "stream",
     "text": [
      "Standardizing Data across genes\n",
      "\n"
     ]
    },
    {
     "name": "stderr",
     "output_type": "stream",
     "text": [
      "/data/nielsond/python/envs/abcd_mine/lib/python3.6/site-packages/rpy2/robjects/functions.py:106: UserWarning: Finding nonparametric adjustments\n",
      "\n",
      "  res = super(Function, self).__call__(*new_args, **new_kwargs)\n"
     ]
    },
    {
     "name": "stdout",
     "output_type": "stream",
     "text": [
      "Standardizing Data across genes\n",
      "\n"
     ]
    },
    {
     "name": "stderr",
     "output_type": "stream",
     "text": [
      "/data/nielsond/python/envs/abcd_mine/lib/python3.6/site-packages/rpy2/robjects/functions.py:106: UserWarning: Adjusting the Data\n",
      "\n",
      "\n",
      "  res = super(Function, self).__call__(*new_args, **new_kwargs)\n",
      "/data/nielsond/python/envs/abcd_mine/lib/python3.6/site-packages/rpy2/robjects/functions.py:106: UserWarning: Found2batches\n",
      "\n",
      "  res = super(Function, self).__call__(*new_args, **new_kwargs)\n",
      "/data/nielsond/python/envs/abcd_mine/lib/python3.6/site-packages/rpy2/robjects/functions.py:106: UserWarning: Adjusting for0covariate(s) or covariate level(s)\n",
      "\n",
      "  res = super(Function, self).__call__(*new_args, **new_kwargs)\n"
     ]
    },
    {
     "name": "stdout",
     "output_type": "stream",
     "text": [
      "Standardizing Data across genes\n",
      "\n"
     ]
    },
    {
     "name": "stderr",
     "output_type": "stream",
     "text": [
      "/data/nielsond/python/envs/abcd_mine/lib/python3.6/site-packages/rpy2/robjects/functions.py:106: UserWarning: Fitting L/S model and finding priors\n",
      "\n",
      "  res = super(Function, self).__call__(*new_args, **new_kwargs)\n",
      "/data/nielsond/python/envs/abcd_mine/lib/python3.6/site-packages/rpy2/robjects/functions.py:106: UserWarning: Finding nonparametric adjustments\n",
      "\n",
      "  res = super(Function, self).__call__(*new_args, **new_kwargs)\n"
     ]
    },
    {
     "name": "stdout",
     "output_type": "stream",
     "text": [
      "Standardizing Data across genes\n",
      "\n"
     ]
    },
    {
     "name": "stderr",
     "output_type": "stream",
     "text": [
      "/data/nielsond/python/envs/abcd_mine/lib/python3.6/site-packages/rpy2/robjects/functions.py:106: UserWarning: Adjusting the Data\n",
      "\n",
      "\n",
      "  res = super(Function, self).__call__(*new_args, **new_kwargs)\n"
     ]
    },
    {
     "name": "stdout",
     "output_type": "stream",
     "text": [
      "Standardizing Data across genes\n",
      "\n",
      "Standardizing Data across genes\n",
      "\n"
     ]
    },
    {
     "name": "stderr",
     "output_type": "stream",
     "text": [
      "/data/nielsond/python/envs/abcd_mine/lib/python3.6/site-packages/rpy2/robjects/functions.py:106: UserWarning: Found2batches\n",
      "\n",
      "  res = super(Function, self).__call__(*new_args, **new_kwargs)\n",
      "/data/nielsond/python/envs/abcd_mine/lib/python3.6/site-packages/rpy2/robjects/functions.py:106: UserWarning: Adjusting for0covariate(s) or covariate level(s)\n",
      "\n",
      "  res = super(Function, self).__call__(*new_args, **new_kwargs)\n"
     ]
    },
    {
     "name": "stdout",
     "output_type": "stream",
     "text": [
      "Standardizing Data across genes\n",
      "\n"
     ]
    },
    {
     "name": "stderr",
     "output_type": "stream",
     "text": [
      "/data/nielsond/python/envs/abcd_mine/lib/python3.6/site-packages/rpy2/robjects/functions.py:106: UserWarning: Fitting L/S model and finding priors\n",
      "\n",
      "  res = super(Function, self).__call__(*new_args, **new_kwargs)\n",
      "/data/nielsond/python/envs/abcd_mine/lib/python3.6/site-packages/rpy2/robjects/functions.py:106: UserWarning: Finding nonparametric adjustments\n",
      "\n",
      "  res = super(Function, self).__call__(*new_args, **new_kwargs)\n"
     ]
    },
    {
     "name": "stdout",
     "output_type": "stream",
     "text": [
      "Standardizing Data across genes\n",
      "\n",
      "[Parallel(n_jobs=20)]: Done 154 tasks      | elapsed: 14.3min\n"
     ]
    },
    {
     "name": "stderr",
     "output_type": "stream",
     "text": [
      "/data/nielsond/python/envs/abcd_mine/lib/python3.6/site-packages/rpy2/robjects/functions.py:106: UserWarning: Adjusting the Data\n",
      "\n",
      "\n",
      "  res = super(Function, self).__call__(*new_args, **new_kwargs)\n"
     ]
    },
    {
     "name": "stdout",
     "output_type": "stream",
     "text": [
      "Standardizing Data across genes\n",
      "\n",
      "Standardizing Data across genes\n",
      "\n"
     ]
    },
    {
     "name": "stderr",
     "output_type": "stream",
     "text": [
      "/data/nielsond/python/envs/abcd_mine/lib/python3.6/site-packages/rpy2/robjects/functions.py:106: UserWarning: Found2batches\n",
      "\n",
      "  res = super(Function, self).__call__(*new_args, **new_kwargs)\n",
      "/data/nielsond/python/envs/abcd_mine/lib/python3.6/site-packages/rpy2/robjects/functions.py:106: UserWarning: Adjusting for0covariate(s) or covariate level(s)\n",
      "\n",
      "  res = super(Function, self).__call__(*new_args, **new_kwargs)\n"
     ]
    },
    {
     "name": "stdout",
     "output_type": "stream",
     "text": [
      "Standardizing Data across genes\n",
      "\n"
     ]
    },
    {
     "name": "stderr",
     "output_type": "stream",
     "text": [
      "/data/nielsond/python/envs/abcd_mine/lib/python3.6/site-packages/rpy2/robjects/functions.py:106: UserWarning: Fitting L/S model and finding priors\n",
      "\n",
      "  res = super(Function, self).__call__(*new_args, **new_kwargs)\n",
      "/data/nielsond/python/envs/abcd_mine/lib/python3.6/site-packages/rpy2/robjects/functions.py:106: UserWarning: Finding nonparametric adjustments\n",
      "\n",
      "  res = super(Function, self).__call__(*new_args, **new_kwargs)\n",
      "/data/nielsond/python/envs/abcd_mine/lib/python3.6/site-packages/rpy2/robjects/functions.py:106: UserWarning: Adjusting the Data\n",
      "\n",
      "\n",
      "  res = super(Function, self).__call__(*new_args, **new_kwargs)\n"
     ]
    },
    {
     "name": "stdout",
     "output_type": "stream",
     "text": [
      "Standardizing Data across genes\n",
      "\n",
      "Standardizing Data across genes\n",
      "\n",
      "Standardizing Data across genes\n",
      "\n"
     ]
    },
    {
     "name": "stderr",
     "output_type": "stream",
     "text": [
      "/data/nielsond/python/envs/abcd_mine/lib/python3.6/site-packages/rpy2/robjects/functions.py:106: UserWarning: Adjusting the Data\n",
      "\n",
      "\n",
      "  res = super(Function, self).__call__(*new_args, **new_kwargs)\n"
     ]
    },
    {
     "name": "stdout",
     "output_type": "stream",
     "text": [
      "Standardizing Data across genes\n",
      "\n"
     ]
    },
    {
     "name": "stderr",
     "output_type": "stream",
     "text": [
      "/data/nielsond/python/envs/abcd_mine/lib/python3.6/site-packages/rpy2/robjects/functions.py:106: UserWarning: Found2batches\n",
      "\n",
      "  res = super(Function, self).__call__(*new_args, **new_kwargs)\n",
      "/data/nielsond/python/envs/abcd_mine/lib/python3.6/site-packages/rpy2/robjects/functions.py:106: UserWarning: Adjusting for0covariate(s) or covariate level(s)\n",
      "\n",
      "  res = super(Function, self).__call__(*new_args, **new_kwargs)\n"
     ]
    },
    {
     "name": "stdout",
     "output_type": "stream",
     "text": [
      "Standardizing Data across genes\n",
      "\n"
     ]
    },
    {
     "name": "stderr",
     "output_type": "stream",
     "text": [
      "/data/nielsond/python/envs/abcd_mine/lib/python3.6/site-packages/rpy2/robjects/functions.py:106: UserWarning: Fitting L/S model and finding priors\n",
      "\n",
      "  res = super(Function, self).__call__(*new_args, **new_kwargs)\n",
      "/data/nielsond/python/envs/abcd_mine/lib/python3.6/site-packages/rpy2/robjects/functions.py:106: UserWarning: Finding nonparametric adjustments\n",
      "\n",
      "  res = super(Function, self).__call__(*new_args, **new_kwargs)\n"
     ]
    },
    {
     "name": "stdout",
     "output_type": "stream",
     "text": [
      "Standardizing Data across genes\n",
      "\n",
      "Standardizing Data across genes\n",
      "\n",
      "Standardizing Data across genes\n",
      "\n",
      "Standardizing Data across genes\n",
      "\n"
     ]
    },
    {
     "name": "stderr",
     "output_type": "stream",
     "text": [
      "/data/nielsond/python/envs/abcd_mine/lib/python3.6/site-packages/rpy2/robjects/functions.py:106: UserWarning: Found2batches\n",
      "\n",
      "  res = super(Function, self).__call__(*new_args, **new_kwargs)\n",
      "/data/nielsond/python/envs/abcd_mine/lib/python3.6/site-packages/rpy2/robjects/functions.py:106: UserWarning: Adjusting for0covariate(s) or covariate level(s)\n",
      "\n",
      "  res = super(Function, self).__call__(*new_args, **new_kwargs)\n",
      "/data/nielsond/python/envs/abcd_mine/lib/python3.6/site-packages/rpy2/robjects/functions.py:106: UserWarning: Adjusting the Data\n",
      "\n",
      "\n",
      "  res = super(Function, self).__call__(*new_args, **new_kwargs)\n"
     ]
    },
    {
     "name": "stdout",
     "output_type": "stream",
     "text": [
      "Standardizing Data across genes\n",
      "\n"
     ]
    },
    {
     "name": "stderr",
     "output_type": "stream",
     "text": [
      "/data/nielsond/python/envs/abcd_mine/lib/python3.6/site-packages/rpy2/robjects/functions.py:106: UserWarning: Fitting L/S model and finding priors\n",
      "\n",
      "  res = super(Function, self).__call__(*new_args, **new_kwargs)\n",
      "/data/nielsond/python/envs/abcd_mine/lib/python3.6/site-packages/rpy2/robjects/functions.py:106: UserWarning: Finding nonparametric adjustments\n",
      "\n",
      "  res = super(Function, self).__call__(*new_args, **new_kwargs)\n"
     ]
    },
    {
     "name": "stdout",
     "output_type": "stream",
     "text": [
      "Standardizing Data across genes\n",
      "\n",
      "Standardizing Data across genes\n",
      "\n",
      "Standardizing Data across genes\n",
      "\n",
      "[Parallel(n_jobs=20)]: Done 155 tasks      | elapsed: 14.5min\n"
     ]
    },
    {
     "name": "stderr",
     "output_type": "stream",
     "text": [
      "/data/nielsond/python/envs/abcd_mine/lib/python3.6/site-packages/rpy2/robjects/functions.py:106: UserWarning: Found2batches\n",
      "\n",
      "  res = super(Function, self).__call__(*new_args, **new_kwargs)\n",
      "/data/nielsond/python/envs/abcd_mine/lib/python3.6/site-packages/rpy2/robjects/functions.py:106: UserWarning: Adjusting for0covariate(s) or covariate level(s)\n",
      "\n",
      "  res = super(Function, self).__call__(*new_args, **new_kwargs)\n"
     ]
    },
    {
     "name": "stdout",
     "output_type": "stream",
     "text": [
      "Standardizing Data across genes\n",
      "\n"
     ]
    },
    {
     "name": "stderr",
     "output_type": "stream",
     "text": [
      "/data/nielsond/python/envs/abcd_mine/lib/python3.6/site-packages/rpy2/robjects/functions.py:106: UserWarning: Fitting L/S model and finding priors\n",
      "\n",
      "  res = super(Function, self).__call__(*new_args, **new_kwargs)\n",
      "/data/nielsond/python/envs/abcd_mine/lib/python3.6/site-packages/rpy2/robjects/functions.py:106: UserWarning: Finding nonparametric adjustments\n",
      "\n",
      "  res = super(Function, self).__call__(*new_args, **new_kwargs)\n"
     ]
    },
    {
     "name": "stdout",
     "output_type": "stream",
     "text": [
      "Standardizing Data across genes\n",
      "\n",
      "Standardizing Data across genes\n",
      "\n",
      "[Parallel(n_jobs=20)]: Done 156 tasks      | elapsed: 14.5min\n"
     ]
    },
    {
     "name": "stderr",
     "output_type": "stream",
     "text": [
      "/data/nielsond/python/envs/abcd_mine/lib/python3.6/site-packages/rpy2/robjects/functions.py:106: UserWarning: Found2batches\n",
      "\n",
      "  res = super(Function, self).__call__(*new_args, **new_kwargs)\n",
      "/data/nielsond/python/envs/abcd_mine/lib/python3.6/site-packages/rpy2/robjects/functions.py:106: UserWarning: Adjusting for0covariate(s) or covariate level(s)\n",
      "\n",
      "  res = super(Function, self).__call__(*new_args, **new_kwargs)\n"
     ]
    },
    {
     "name": "stdout",
     "output_type": "stream",
     "text": [
      "Standardizing Data across genes\n",
      "\n"
     ]
    },
    {
     "name": "stderr",
     "output_type": "stream",
     "text": [
      "/data/nielsond/python/envs/abcd_mine/lib/python3.6/site-packages/rpy2/robjects/functions.py:106: UserWarning: Fitting L/S model and finding priors\n",
      "\n",
      "  res = super(Function, self).__call__(*new_args, **new_kwargs)\n",
      "/data/nielsond/python/envs/abcd_mine/lib/python3.6/site-packages/rpy2/robjects/functions.py:106: UserWarning: Finding nonparametric adjustments\n",
      "\n",
      "  res = super(Function, self).__call__(*new_args, **new_kwargs)\n"
     ]
    },
    {
     "name": "stdout",
     "output_type": "stream",
     "text": [
      "[Parallel(n_jobs=20)]: Done 157 tasks      | elapsed: 14.5min\n",
      "[Parallel(n_jobs=20)]: Done 158 tasks      | elapsed: 14.5min\n",
      "Standardizing Data across genes\n",
      "\n"
     ]
    },
    {
     "name": "stderr",
     "output_type": "stream",
     "text": [
      "/data/nielsond/python/envs/abcd_mine/lib/python3.6/site-packages/rpy2/robjects/functions.py:106: UserWarning: Found2batches\n",
      "\n",
      "  res = super(Function, self).__call__(*new_args, **new_kwargs)\n",
      "/data/nielsond/python/envs/abcd_mine/lib/python3.6/site-packages/rpy2/robjects/functions.py:106: UserWarning: Adjusting for0covariate(s) or covariate level(s)\n",
      "\n",
      "  res = super(Function, self).__call__(*new_args, **new_kwargs)\n"
     ]
    },
    {
     "name": "stdout",
     "output_type": "stream",
     "text": [
      "Standardizing Data across genes\n",
      "\n"
     ]
    },
    {
     "name": "stderr",
     "output_type": "stream",
     "text": [
      "/data/nielsond/python/envs/abcd_mine/lib/python3.6/site-packages/rpy2/robjects/functions.py:106: UserWarning: Fitting L/S model and finding priors\n",
      "\n",
      "  res = super(Function, self).__call__(*new_args, **new_kwargs)\n",
      "/data/nielsond/python/envs/abcd_mine/lib/python3.6/site-packages/rpy2/robjects/functions.py:106: UserWarning: Finding nonparametric adjustments\n",
      "\n",
      "  res = super(Function, self).__call__(*new_args, **new_kwargs)\n"
     ]
    },
    {
     "name": "stdout",
     "output_type": "stream",
     "text": [
      "[Parallel(n_jobs=20)]: Done 159 tasks      | elapsed: 14.6min\n"
     ]
    },
    {
     "name": "stderr",
     "output_type": "stream",
     "text": [
      "/data/nielsond/python/envs/abcd_mine/lib/python3.6/site-packages/rpy2/robjects/functions.py:106: UserWarning: Found2batches\n",
      "\n",
      "  res = super(Function, self).__call__(*new_args, **new_kwargs)\n",
      "/data/nielsond/python/envs/abcd_mine/lib/python3.6/site-packages/rpy2/robjects/functions.py:106: UserWarning: Adjusting for0covariate(s) or covariate level(s)\n",
      "\n",
      "  res = super(Function, self).__call__(*new_args, **new_kwargs)\n"
     ]
    },
    {
     "name": "stdout",
     "output_type": "stream",
     "text": [
      "Standardizing Data across genes\n",
      "\n"
     ]
    },
    {
     "name": "stderr",
     "output_type": "stream",
     "text": [
      "/data/nielsond/python/envs/abcd_mine/lib/python3.6/site-packages/rpy2/robjects/functions.py:106: UserWarning: Fitting L/S model and finding priors\n",
      "\n",
      "  res = super(Function, self).__call__(*new_args, **new_kwargs)\n",
      "/data/nielsond/python/envs/abcd_mine/lib/python3.6/site-packages/rpy2/robjects/functions.py:106: UserWarning: Finding nonparametric adjustments\n",
      "\n",
      "  res = super(Function, self).__call__(*new_args, **new_kwargs)\n",
      "/data/nielsond/python/envs/abcd_mine/lib/python3.6/site-packages/rpy2/robjects/functions.py:106: UserWarning: Adjusting the Data\n",
      "\n",
      "\n",
      "  res = super(Function, self).__call__(*new_args, **new_kwargs)\n",
      "/data/nielsond/python/envs/abcd_mine/lib/python3.6/site-packages/rpy2/robjects/functions.py:106: UserWarning: Adjusting the Data\n",
      "\n",
      "\n",
      "  res = super(Function, self).__call__(*new_args, **new_kwargs)\n"
     ]
    },
    {
     "name": "stdout",
     "output_type": "stream",
     "text": [
      "Standardizing Data across genes\n",
      "\n",
      "Standardizing Data across genes\n",
      "\n",
      "[Parallel(n_jobs=20)]: Done 160 tasks      | elapsed: 14.6min\n"
     ]
    },
    {
     "name": "stderr",
     "output_type": "stream",
     "text": [
      "/data/nielsond/python/envs/abcd_mine/lib/python3.6/site-packages/rpy2/robjects/functions.py:106: UserWarning: Found2batches\n",
      "\n",
      "  res = super(Function, self).__call__(*new_args, **new_kwargs)\n",
      "/data/nielsond/python/envs/abcd_mine/lib/python3.6/site-packages/rpy2/robjects/functions.py:106: UserWarning: Adjusting for0covariate(s) or covariate level(s)\n",
      "\n",
      "  res = super(Function, self).__call__(*new_args, **new_kwargs)\n"
     ]
    },
    {
     "name": "stdout",
     "output_type": "stream",
     "text": [
      "Standardizing Data across genes\n",
      "\n"
     ]
    },
    {
     "name": "stderr",
     "output_type": "stream",
     "text": [
      "/data/nielsond/python/envs/abcd_mine/lib/python3.6/site-packages/rpy2/robjects/functions.py:106: UserWarning: Adjusting the Data\n",
      "\n",
      "\n",
      "  res = super(Function, self).__call__(*new_args, **new_kwargs)\n",
      "/data/nielsond/python/envs/abcd_mine/lib/python3.6/site-packages/rpy2/robjects/functions.py:106: UserWarning: Fitting L/S model and finding priors\n",
      "\n",
      "  res = super(Function, self).__call__(*new_args, **new_kwargs)\n",
      "/data/nielsond/python/envs/abcd_mine/lib/python3.6/site-packages/rpy2/robjects/functions.py:106: UserWarning: Finding nonparametric adjustments\n",
      "\n",
      "  res = super(Function, self).__call__(*new_args, **new_kwargs)\n"
     ]
    },
    {
     "name": "stdout",
     "output_type": "stream",
     "text": [
      "Standardizing Data across genes\n",
      "\n"
     ]
    },
    {
     "name": "stderr",
     "output_type": "stream",
     "text": [
      "/data/nielsond/python/envs/abcd_mine/lib/python3.6/site-packages/rpy2/robjects/functions.py:106: UserWarning: Adjusting the Data\n",
      "\n",
      "\n",
      "  res = super(Function, self).__call__(*new_args, **new_kwargs)\n"
     ]
    },
    {
     "name": "stdout",
     "output_type": "stream",
     "text": [
      "Standardizing Data across genes\n",
      "\n"
     ]
    },
    {
     "name": "stderr",
     "output_type": "stream",
     "text": [
      "/data/nielsond/python/envs/abcd_mine/lib/python3.6/site-packages/rpy2/robjects/functions.py:106: UserWarning: Found2batches\n",
      "\n",
      "  res = super(Function, self).__call__(*new_args, **new_kwargs)\n",
      "/data/nielsond/python/envs/abcd_mine/lib/python3.6/site-packages/rpy2/robjects/functions.py:106: UserWarning: Adjusting for0covariate(s) or covariate level(s)\n",
      "\n",
      "  res = super(Function, self).__call__(*new_args, **new_kwargs)\n"
     ]
    },
    {
     "name": "stdout",
     "output_type": "stream",
     "text": [
      "Standardizing Data across genes\n",
      "\n"
     ]
    },
    {
     "name": "stderr",
     "output_type": "stream",
     "text": [
      "/data/nielsond/python/envs/abcd_mine/lib/python3.6/site-packages/rpy2/robjects/functions.py:106: UserWarning: Fitting L/S model and finding priors\n",
      "\n",
      "  res = super(Function, self).__call__(*new_args, **new_kwargs)\n",
      "/data/nielsond/python/envs/abcd_mine/lib/python3.6/site-packages/rpy2/robjects/functions.py:106: UserWarning: Finding nonparametric adjustments\n",
      "\n",
      "  res = super(Function, self).__call__(*new_args, **new_kwargs)\n"
     ]
    },
    {
     "name": "stdout",
     "output_type": "stream",
     "text": [
      "Standardizing Data across genes\n",
      "\n"
     ]
    },
    {
     "name": "stderr",
     "output_type": "stream",
     "text": [
      "/data/nielsond/python/envs/abcd_mine/lib/python3.6/site-packages/rpy2/robjects/functions.py:106: UserWarning: Adjusting the Data\n",
      "\n",
      "\n",
      "  res = super(Function, self).__call__(*new_args, **new_kwargs)\n",
      "/data/nielsond/python/envs/abcd_mine/lib/python3.6/site-packages/rpy2/robjects/functions.py:106: UserWarning: Found2batches\n",
      "\n",
      "  res = super(Function, self).__call__(*new_args, **new_kwargs)\n",
      "/data/nielsond/python/envs/abcd_mine/lib/python3.6/site-packages/rpy2/robjects/functions.py:106: UserWarning: Adjusting for0covariate(s) or covariate level(s)\n",
      "\n",
      "  res = super(Function, self).__call__(*new_args, **new_kwargs)\n"
     ]
    },
    {
     "name": "stdout",
     "output_type": "stream",
     "text": [
      "Standardizing Data across genes\n",
      "\n"
     ]
    },
    {
     "name": "stderr",
     "output_type": "stream",
     "text": [
      "/data/nielsond/python/envs/abcd_mine/lib/python3.6/site-packages/rpy2/robjects/functions.py:106: UserWarning: Fitting L/S model and finding priors\n",
      "\n",
      "  res = super(Function, self).__call__(*new_args, **new_kwargs)\n",
      "/data/nielsond/python/envs/abcd_mine/lib/python3.6/site-packages/rpy2/robjects/functions.py:106: UserWarning: Finding nonparametric adjustments\n",
      "\n",
      "  res = super(Function, self).__call__(*new_args, **new_kwargs)\n"
     ]
    },
    {
     "name": "stdout",
     "output_type": "stream",
     "text": [
      "Standardizing Data across genes\n",
      "\n",
      "Standardizing Data across genes\n",
      "\n",
      "Standardizing Data across genes\n",
      "\n"
     ]
    },
    {
     "name": "stderr",
     "output_type": "stream",
     "text": [
      "/data/nielsond/python/envs/abcd_mine/lib/python3.6/site-packages/rpy2/robjects/functions.py:106: UserWarning: Found2batches\n",
      "\n",
      "  res = super(Function, self).__call__(*new_args, **new_kwargs)\n",
      "/data/nielsond/python/envs/abcd_mine/lib/python3.6/site-packages/rpy2/robjects/functions.py:106: UserWarning: Adjusting for0covariate(s) or covariate level(s)\n",
      "\n",
      "  res = super(Function, self).__call__(*new_args, **new_kwargs)\n"
     ]
    },
    {
     "name": "stdout",
     "output_type": "stream",
     "text": [
      "Standardizing Data across genes\n",
      "\n"
     ]
    },
    {
     "name": "stderr",
     "output_type": "stream",
     "text": [
      "/data/nielsond/python/envs/abcd_mine/lib/python3.6/site-packages/rpy2/robjects/functions.py:106: UserWarning: Fitting L/S model and finding priors\n",
      "\n",
      "  res = super(Function, self).__call__(*new_args, **new_kwargs)\n",
      "/data/nielsond/python/envs/abcd_mine/lib/python3.6/site-packages/rpy2/robjects/functions.py:106: UserWarning: Finding nonparametric adjustments\n",
      "\n",
      "  res = super(Function, self).__call__(*new_args, **new_kwargs)\n",
      "/data/nielsond/python/envs/abcd_mine/lib/python3.6/site-packages/rpy2/robjects/functions.py:106: UserWarning: Adjusting the Data\n",
      "\n",
      "\n",
      "  res = super(Function, self).__call__(*new_args, **new_kwargs)\n"
     ]
    },
    {
     "name": "stdout",
     "output_type": "stream",
     "text": [
      "Standardizing Data across genes\n",
      "\n"
     ]
    },
    {
     "name": "stderr",
     "output_type": "stream",
     "text": [
      "/data/nielsond/python/envs/abcd_mine/lib/python3.6/site-packages/rpy2/robjects/functions.py:106: UserWarning: Found2batches\n",
      "\n",
      "  res = super(Function, self).__call__(*new_args, **new_kwargs)\n",
      "/data/nielsond/python/envs/abcd_mine/lib/python3.6/site-packages/rpy2/robjects/functions.py:106: UserWarning: Adjusting for0covariate(s) or covariate level(s)\n",
      "\n",
      "  res = super(Function, self).__call__(*new_args, **new_kwargs)\n"
     ]
    },
    {
     "name": "stdout",
     "output_type": "stream",
     "text": [
      "Standardizing Data across genes\n",
      "\n"
     ]
    },
    {
     "name": "stderr",
     "output_type": "stream",
     "text": [
      "/data/nielsond/python/envs/abcd_mine/lib/python3.6/site-packages/rpy2/robjects/functions.py:106: UserWarning: Fitting L/S model and finding priors\n",
      "\n",
      "  res = super(Function, self).__call__(*new_args, **new_kwargs)\n",
      "/data/nielsond/python/envs/abcd_mine/lib/python3.6/site-packages/rpy2/robjects/functions.py:106: UserWarning: Finding nonparametric adjustments\n",
      "\n",
      "  res = super(Function, self).__call__(*new_args, **new_kwargs)\n"
     ]
    },
    {
     "name": "stdout",
     "output_type": "stream",
     "text": [
      "Standardizing Data across genes\n",
      "\n",
      "[Parallel(n_jobs=20)]: Done 161 tasks      | elapsed: 14.8min\n",
      "Standardizing Data across genes\n",
      "\n"
     ]
    },
    {
     "name": "stderr",
     "output_type": "stream",
     "text": [
      "/data/nielsond/python/envs/abcd_mine/lib/python3.6/site-packages/rpy2/robjects/functions.py:106: UserWarning: Adjusting the Data\n",
      "\n",
      "\n",
      "  res = super(Function, self).__call__(*new_args, **new_kwargs)\n"
     ]
    },
    {
     "name": "stdout",
     "output_type": "stream",
     "text": [
      "Standardizing Data across genes\n",
      "\n"
     ]
    },
    {
     "name": "stderr",
     "output_type": "stream",
     "text": [
      "/data/nielsond/python/envs/abcd_mine/lib/python3.6/site-packages/rpy2/robjects/functions.py:106: UserWarning: Adjusting the Data\n",
      "\n",
      "\n",
      "  res = super(Function, self).__call__(*new_args, **new_kwargs)\n"
     ]
    },
    {
     "name": "stdout",
     "output_type": "stream",
     "text": [
      "Standardizing Data across genes\n",
      "\n",
      "Standardizing Data across genes\n",
      "\n"
     ]
    },
    {
     "name": "stderr",
     "output_type": "stream",
     "text": [
      "/data/nielsond/python/envs/abcd_mine/lib/python3.6/site-packages/rpy2/robjects/functions.py:106: UserWarning: Adjusting the Data\n",
      "\n",
      "\n",
      "  res = super(Function, self).__call__(*new_args, **new_kwargs)\n",
      "/data/nielsond/python/envs/abcd_mine/lib/python3.6/site-packages/rpy2/robjects/functions.py:106: UserWarning: Adjusting the Data\n",
      "\n",
      "\n",
      "  res = super(Function, self).__call__(*new_args, **new_kwargs)\n"
     ]
    },
    {
     "name": "stdout",
     "output_type": "stream",
     "text": [
      "Standardizing Data across genes\n",
      "\n",
      "Standardizing Data across genes\n",
      "\n",
      "Standardizing Data across genes\n",
      "\n",
      "Standardizing Data across genes\n",
      "\n",
      "[Parallel(n_jobs=20)]: Done 162 tasks      | elapsed: 14.9min\n",
      "Standardizing Data across genes\n",
      "\n",
      "Standardizing Data across genes\n",
      "\n",
      "Standardizing Data across genes\n",
      "\n",
      "[Parallel(n_jobs=20)]: Done 163 tasks      | elapsed: 14.9min\n",
      "Standardizing Data across genes\n",
      "\n",
      "Standardizing Data across genes\n",
      "Standardizing Data across genes\n",
      "\n",
      "\n",
      "Standardizing Data across genes\n",
      "\n"
     ]
    },
    {
     "name": "stderr",
     "output_type": "stream",
     "text": [
      "/data/nielsond/python/envs/abcd_mine/lib/python3.6/site-packages/rpy2/robjects/functions.py:106: UserWarning: Found2batches\n",
      "\n",
      "  res = super(Function, self).__call__(*new_args, **new_kwargs)\n",
      "/data/nielsond/python/envs/abcd_mine/lib/python3.6/site-packages/rpy2/robjects/functions.py:106: UserWarning: Adjusting for0covariate(s) or covariate level(s)\n",
      "\n",
      "  res = super(Function, self).__call__(*new_args, **new_kwargs)\n"
     ]
    },
    {
     "name": "stdout",
     "output_type": "stream",
     "text": [
      "Standardizing Data across genes\n",
      "\n"
     ]
    },
    {
     "name": "stderr",
     "output_type": "stream",
     "text": [
      "/data/nielsond/python/envs/abcd_mine/lib/python3.6/site-packages/rpy2/robjects/functions.py:106: UserWarning: Fitting L/S model and finding priors\n",
      "\n",
      "  res = super(Function, self).__call__(*new_args, **new_kwargs)\n",
      "/data/nielsond/python/envs/abcd_mine/lib/python3.6/site-packages/rpy2/robjects/functions.py:106: UserWarning: Finding nonparametric adjustments\n",
      "\n",
      "  res = super(Function, self).__call__(*new_args, **new_kwargs)\n"
     ]
    },
    {
     "name": "stdout",
     "output_type": "stream",
     "text": [
      "Standardizing Data across genes\n",
      "\n",
      "[Parallel(n_jobs=20)]: Done 164 tasks      | elapsed: 15.0min\n",
      "Standardizing Data across genes\n",
      "\n"
     ]
    },
    {
     "name": "stderr",
     "output_type": "stream",
     "text": [
      "/data/nielsond/python/envs/abcd_mine/lib/python3.6/site-packages/rpy2/robjects/functions.py:106: UserWarning: Found2batches\n",
      "\n",
      "  res = super(Function, self).__call__(*new_args, **new_kwargs)\n",
      "/data/nielsond/python/envs/abcd_mine/lib/python3.6/site-packages/rpy2/robjects/functions.py:106: UserWarning: Adjusting for0covariate(s) or covariate level(s)\n",
      "\n",
      "  res = super(Function, self).__call__(*new_args, **new_kwargs)\n"
     ]
    },
    {
     "name": "stdout",
     "output_type": "stream",
     "text": [
      "Standardizing Data across genes\n",
      "\n"
     ]
    },
    {
     "name": "stderr",
     "output_type": "stream",
     "text": [
      "/data/nielsond/python/envs/abcd_mine/lib/python3.6/site-packages/rpy2/robjects/functions.py:106: UserWarning: Fitting L/S model and finding priors\n",
      "\n",
      "  res = super(Function, self).__call__(*new_args, **new_kwargs)\n",
      "/data/nielsond/python/envs/abcd_mine/lib/python3.6/site-packages/rpy2/robjects/functions.py:106: UserWarning: Finding nonparametric adjustments\n",
      "\n",
      "  res = super(Function, self).__call__(*new_args, **new_kwargs)\n"
     ]
    },
    {
     "name": "stdout",
     "output_type": "stream",
     "text": [
      "Standardizing Data across genes\n",
      "\n"
     ]
    },
    {
     "name": "stderr",
     "output_type": "stream",
     "text": [
      "/data/nielsond/python/envs/abcd_mine/lib/python3.6/site-packages/rpy2/robjects/functions.py:106: UserWarning: Adjusting the Data\n",
      "\n",
      "\n",
      "  res = super(Function, self).__call__(*new_args, **new_kwargs)\n"
     ]
    },
    {
     "name": "stdout",
     "output_type": "stream",
     "text": [
      "Standardizing Data across genes\n",
      "\n"
     ]
    },
    {
     "name": "stderr",
     "output_type": "stream",
     "text": [
      "/data/nielsond/python/envs/abcd_mine/lib/python3.6/site-packages/rpy2/robjects/functions.py:106: UserWarning: Found2batches\n",
      "\n",
      "  res = super(Function, self).__call__(*new_args, **new_kwargs)\n",
      "/data/nielsond/python/envs/abcd_mine/lib/python3.6/site-packages/rpy2/robjects/functions.py:106: UserWarning: Adjusting for0covariate(s) or covariate level(s)\n",
      "\n",
      "  res = super(Function, self).__call__(*new_args, **new_kwargs)\n"
     ]
    },
    {
     "name": "stdout",
     "output_type": "stream",
     "text": [
      "Standardizing Data across genes\n",
      "\n"
     ]
    },
    {
     "name": "stderr",
     "output_type": "stream",
     "text": [
      "/data/nielsond/python/envs/abcd_mine/lib/python3.6/site-packages/rpy2/robjects/functions.py:106: UserWarning: Fitting L/S model and finding priors\n",
      "\n",
      "  res = super(Function, self).__call__(*new_args, **new_kwargs)\n"
     ]
    },
    {
     "name": "stdout",
     "output_type": "stream",
     "text": [
      "Standardizing Data across genes\n",
      "\n"
     ]
    },
    {
     "name": "stderr",
     "output_type": "stream",
     "text": [
      "/data/nielsond/python/envs/abcd_mine/lib/python3.6/site-packages/rpy2/robjects/functions.py:106: UserWarning: Finding nonparametric adjustments\n",
      "\n",
      "  res = super(Function, self).__call__(*new_args, **new_kwargs)\n",
      "/data/nielsond/python/envs/abcd_mine/lib/python3.6/site-packages/rpy2/robjects/functions.py:106: UserWarning: Adjusting the Data\n",
      "\n",
      "\n",
      "  res = super(Function, self).__call__(*new_args, **new_kwargs)\n"
     ]
    },
    {
     "name": "stdout",
     "output_type": "stream",
     "text": [
      "[Parallel(n_jobs=20)]: Done 165 tasks      | elapsed: 15.1min\n",
      "Standardizing Data across genes\n",
      "\n"
     ]
    },
    {
     "name": "stderr",
     "output_type": "stream",
     "text": [
      "/data/nielsond/python/envs/abcd_mine/lib/python3.6/site-packages/rpy2/robjects/functions.py:106: UserWarning: Found2batches\n",
      "\n",
      "  res = super(Function, self).__call__(*new_args, **new_kwargs)\n",
      "/data/nielsond/python/envs/abcd_mine/lib/python3.6/site-packages/rpy2/robjects/functions.py:106: UserWarning: Adjusting for0covariate(s) or covariate level(s)\n",
      "\n",
      "  res = super(Function, self).__call__(*new_args, **new_kwargs)\n"
     ]
    },
    {
     "name": "stdout",
     "output_type": "stream",
     "text": [
      "Standardizing Data across genes\n",
      "\n"
     ]
    },
    {
     "name": "stderr",
     "output_type": "stream",
     "text": [
      "/data/nielsond/python/envs/abcd_mine/lib/python3.6/site-packages/rpy2/robjects/functions.py:106: UserWarning: Fitting L/S model and finding priors\n",
      "\n",
      "  res = super(Function, self).__call__(*new_args, **new_kwargs)\n"
     ]
    },
    {
     "name": "stdout",
     "output_type": "stream",
     "text": [
      "Standardizing Data across genes\n",
      "\n"
     ]
    },
    {
     "name": "stderr",
     "output_type": "stream",
     "text": [
      "/data/nielsond/python/envs/abcd_mine/lib/python3.6/site-packages/rpy2/robjects/functions.py:106: UserWarning: Finding nonparametric adjustments\n",
      "\n",
      "  res = super(Function, self).__call__(*new_args, **new_kwargs)\n",
      "/data/nielsond/python/envs/abcd_mine/lib/python3.6/site-packages/rpy2/robjects/functions.py:106: UserWarning: Found2batches\n",
      "\n",
      "  res = super(Function, self).__call__(*new_args, **new_kwargs)\n",
      "/data/nielsond/python/envs/abcd_mine/lib/python3.6/site-packages/rpy2/robjects/functions.py:106: UserWarning: Adjusting for0covariate(s) or covariate level(s)\n",
      "\n",
      "  res = super(Function, self).__call__(*new_args, **new_kwargs)\n"
     ]
    },
    {
     "name": "stdout",
     "output_type": "stream",
     "text": [
      "Standardizing Data across genes\n",
      "\n"
     ]
    },
    {
     "name": "stderr",
     "output_type": "stream",
     "text": [
      "/data/nielsond/python/envs/abcd_mine/lib/python3.6/site-packages/rpy2/robjects/functions.py:106: UserWarning: Fitting L/S model and finding priors\n",
      "\n",
      "  res = super(Function, self).__call__(*new_args, **new_kwargs)\n"
     ]
    },
    {
     "name": "stdout",
     "output_type": "stream",
     "text": [
      "[Parallel(n_jobs=20)]: Done 166 tasks      | elapsed: 15.1min\n"
     ]
    },
    {
     "name": "stderr",
     "output_type": "stream",
     "text": [
      "/data/nielsond/python/envs/abcd_mine/lib/python3.6/site-packages/rpy2/robjects/functions.py:106: UserWarning: Finding nonparametric adjustments\n",
      "\n",
      "  res = super(Function, self).__call__(*new_args, **new_kwargs)\n"
     ]
    },
    {
     "name": "stdout",
     "output_type": "stream",
     "text": [
      "Standardizing Data across genes\n",
      "\n",
      "[Parallel(n_jobs=20)]: Done 167 tasks      | elapsed: 15.1min\n",
      "Standardizing Data across genes\n",
      "\n",
      "Standardizing Data across genes\n",
      "\n",
      "Standardizing Data across genes\n",
      "\n"
     ]
    },
    {
     "name": "stderr",
     "output_type": "stream",
     "text": [
      "/data/nielsond/python/envs/abcd_mine/lib/python3.6/site-packages/rpy2/robjects/functions.py:106: UserWarning: Found2batches\n",
      "\n",
      "  res = super(Function, self).__call__(*new_args, **new_kwargs)\n",
      "/data/nielsond/python/envs/abcd_mine/lib/python3.6/site-packages/rpy2/robjects/functions.py:106: UserWarning: Adjusting for0covariate(s) or covariate level(s)\n",
      "\n",
      "  res = super(Function, self).__call__(*new_args, **new_kwargs)\n"
     ]
    },
    {
     "name": "stdout",
     "output_type": "stream",
     "text": [
      "Standardizing Data across genes\n",
      "\n"
     ]
    },
    {
     "name": "stderr",
     "output_type": "stream",
     "text": [
      "/data/nielsond/python/envs/abcd_mine/lib/python3.6/site-packages/rpy2/robjects/functions.py:106: UserWarning: Fitting L/S model and finding priors\n",
      "\n",
      "  res = super(Function, self).__call__(*new_args, **new_kwargs)\n",
      "/data/nielsond/python/envs/abcd_mine/lib/python3.6/site-packages/rpy2/robjects/functions.py:106: UserWarning: Finding nonparametric adjustments\n",
      "\n",
      "  res = super(Function, self).__call__(*new_args, **new_kwargs)\n",
      "/data/nielsond/python/envs/abcd_mine/lib/python3.6/site-packages/rpy2/robjects/functions.py:106: UserWarning: Found2batches\n",
      "\n",
      "  res = super(Function, self).__call__(*new_args, **new_kwargs)\n",
      "/data/nielsond/python/envs/abcd_mine/lib/python3.6/site-packages/rpy2/robjects/functions.py:106: UserWarning: Adjusting for0covariate(s) or covariate level(s)\n",
      "\n",
      "  res = super(Function, self).__call__(*new_args, **new_kwargs)\n"
     ]
    },
    {
     "name": "stdout",
     "output_type": "stream",
     "text": [
      "Standardizing Data across genes\n",
      "\n"
     ]
    },
    {
     "name": "stderr",
     "output_type": "stream",
     "text": [
      "/data/nielsond/python/envs/abcd_mine/lib/python3.6/site-packages/rpy2/robjects/functions.py:106: UserWarning: Fitting L/S model and finding priors\n",
      "\n",
      "  res = super(Function, self).__call__(*new_args, **new_kwargs)\n",
      "/data/nielsond/python/envs/abcd_mine/lib/python3.6/site-packages/rpy2/robjects/functions.py:106: UserWarning: Adjusting the Data\n",
      "\n",
      "\n",
      "  res = super(Function, self).__call__(*new_args, **new_kwargs)\n",
      "/data/nielsond/python/envs/abcd_mine/lib/python3.6/site-packages/rpy2/robjects/functions.py:106: UserWarning: Finding nonparametric adjustments\n",
      "\n",
      "  res = super(Function, self).__call__(*new_args, **new_kwargs)\n"
     ]
    },
    {
     "name": "stdout",
     "output_type": "stream",
     "text": [
      "Standardizing Data across genes\n",
      "\n"
     ]
    },
    {
     "name": "stderr",
     "output_type": "stream",
     "text": [
      "/data/nielsond/python/envs/abcd_mine/lib/python3.6/site-packages/rpy2/robjects/functions.py:106: UserWarning: Adjusting the Data\n",
      "\n",
      "\n",
      "  res = super(Function, self).__call__(*new_args, **new_kwargs)\n"
     ]
    },
    {
     "name": "stdout",
     "output_type": "stream",
     "text": [
      "[Parallel(n_jobs=20)]: Done 168 tasks      | elapsed: 15.2min\n",
      "Standardizing Data across genes\n",
      "\n"
     ]
    },
    {
     "name": "stderr",
     "output_type": "stream",
     "text": [
      "/data/nielsond/python/envs/abcd_mine/lib/python3.6/site-packages/rpy2/robjects/functions.py:106: UserWarning: Adjusting the Data\n",
      "\n",
      "\n",
      "  res = super(Function, self).__call__(*new_args, **new_kwargs)\n"
     ]
    },
    {
     "name": "stdout",
     "output_type": "stream",
     "text": [
      "[Parallel(n_jobs=20)]: Done 169 tasks      | elapsed: 15.2min\n",
      "[Parallel(n_jobs=20)]: Done 170 tasks      | elapsed: 15.2min\n",
      "[Parallel(n_jobs=20)]: Done 171 tasks      | elapsed: 15.2min\n",
      "Standardizing Data across genes\n",
      "\n"
     ]
    },
    {
     "name": "stderr",
     "output_type": "stream",
     "text": [
      "/data/nielsond/python/envs/abcd_mine/lib/python3.6/site-packages/rpy2/robjects/functions.py:106: UserWarning: Adjusting the Data\n",
      "\n",
      "\n",
      "  res = super(Function, self).__call__(*new_args, **new_kwargs)\n"
     ]
    },
    {
     "name": "stdout",
     "output_type": "stream",
     "text": [
      "Standardizing Data across genes\n",
      "\n"
     ]
    },
    {
     "name": "stderr",
     "output_type": "stream",
     "text": [
      "/data/nielsond/python/envs/abcd_mine/lib/python3.6/site-packages/rpy2/robjects/functions.py:106: UserWarning: Found2batches\n",
      "\n",
      "  res = super(Function, self).__call__(*new_args, **new_kwargs)\n",
      "/data/nielsond/python/envs/abcd_mine/lib/python3.6/site-packages/rpy2/robjects/functions.py:106: UserWarning: Adjusting for0covariate(s) or covariate level(s)\n",
      "\n",
      "  res = super(Function, self).__call__(*new_args, **new_kwargs)\n"
     ]
    },
    {
     "name": "stdout",
     "output_type": "stream",
     "text": [
      "Standardizing Data across genes\n",
      "\n"
     ]
    },
    {
     "name": "stderr",
     "output_type": "stream",
     "text": [
      "/data/nielsond/python/envs/abcd_mine/lib/python3.6/site-packages/rpy2/robjects/functions.py:106: UserWarning: Fitting L/S model and finding priors\n",
      "\n",
      "  res = super(Function, self).__call__(*new_args, **new_kwargs)\n",
      "/data/nielsond/python/envs/abcd_mine/lib/python3.6/site-packages/rpy2/robjects/functions.py:106: UserWarning: Finding nonparametric adjustments\n",
      "\n",
      "  res = super(Function, self).__call__(*new_args, **new_kwargs)\n",
      "/data/nielsond/python/envs/abcd_mine/lib/python3.6/site-packages/rpy2/robjects/functions.py:106: UserWarning: Adjusting the Data\n",
      "\n",
      "\n",
      "  res = super(Function, self).__call__(*new_args, **new_kwargs)\n"
     ]
    },
    {
     "name": "stdout",
     "output_type": "stream",
     "text": [
      "Standardizing Data across genes\n",
      "\n",
      "[Parallel(n_jobs=20)]: Done 172 tasks      | elapsed: 15.3min\n",
      "Standardizing Data across genes\n",
      "\n",
      "Standardizing Data across genes\n",
      "\n",
      "Standardizing Data across genes\n",
      "\n",
      "Standardizing Data across genes\n",
      "\n"
     ]
    },
    {
     "name": "stderr",
     "output_type": "stream",
     "text": [
      "/data/nielsond/python/envs/abcd_mine/lib/python3.6/site-packages/rpy2/robjects/functions.py:106: UserWarning: Found2batches\n",
      "\n",
      "  res = super(Function, self).__call__(*new_args, **new_kwargs)\n",
      "/data/nielsond/python/envs/abcd_mine/lib/python3.6/site-packages/rpy2/robjects/functions.py:106: UserWarning: Adjusting for0covariate(s) or covariate level(s)\n",
      "\n",
      "  res = super(Function, self).__call__(*new_args, **new_kwargs)\n"
     ]
    },
    {
     "name": "stdout",
     "output_type": "stream",
     "text": [
      "Standardizing Data across genes\n",
      "\n"
     ]
    },
    {
     "name": "stderr",
     "output_type": "stream",
     "text": [
      "/data/nielsond/python/envs/abcd_mine/lib/python3.6/site-packages/rpy2/robjects/functions.py:106: UserWarning: Fitting L/S model and finding priors\n",
      "\n",
      "  res = super(Function, self).__call__(*new_args, **new_kwargs)\n",
      "/data/nielsond/python/envs/abcd_mine/lib/python3.6/site-packages/rpy2/robjects/functions.py:106: UserWarning: Finding nonparametric adjustments\n",
      "\n",
      "  res = super(Function, self).__call__(*new_args, **new_kwargs)\n"
     ]
    },
    {
     "name": "stdout",
     "output_type": "stream",
     "text": [
      "Standardizing Data across genes\n",
      "\n",
      "[Parallel(n_jobs=20)]: Done 173 tasks      | elapsed: 15.4min\n"
     ]
    },
    {
     "name": "stderr",
     "output_type": "stream",
     "text": [
      "/data/nielsond/python/envs/abcd_mine/lib/python3.6/site-packages/rpy2/robjects/functions.py:106: UserWarning: Adjusting the Data\n",
      "\n",
      "\n",
      "  res = super(Function, self).__call__(*new_args, **new_kwargs)\n",
      "/data/nielsond/python/envs/abcd_mine/lib/python3.6/site-packages/rpy2/robjects/functions.py:106: UserWarning: Adjusting the Data\n",
      "\n",
      "\n",
      "  res = super(Function, self).__call__(*new_args, **new_kwargs)\n"
     ]
    },
    {
     "name": "stdout",
     "output_type": "stream",
     "text": [
      "Standardizing Data across genes\n",
      "\n",
      "Standardizing Data across genes\n",
      "\n",
      "Standardizing Data across genes\n",
      "\n",
      "[Parallel(n_jobs=20)]: Done 174 tasks      | elapsed: 15.4min\n",
      "Standardizing Data across genes\n",
      "\n",
      "Standardizing Data across genes\n",
      "\n"
     ]
    },
    {
     "name": "stderr",
     "output_type": "stream",
     "text": [
      "/data/nielsond/python/envs/abcd_mine/lib/python3.6/site-packages/rpy2/robjects/functions.py:106: UserWarning: Found2batches\n",
      "\n",
      "  res = super(Function, self).__call__(*new_args, **new_kwargs)\n",
      "/data/nielsond/python/envs/abcd_mine/lib/python3.6/site-packages/rpy2/robjects/functions.py:106: UserWarning: Adjusting for0covariate(s) or covariate level(s)\n",
      "\n",
      "  res = super(Function, self).__call__(*new_args, **new_kwargs)\n"
     ]
    },
    {
     "name": "stdout",
     "output_type": "stream",
     "text": [
      "Standardizing Data across genes\n",
      "\n"
     ]
    },
    {
     "name": "stderr",
     "output_type": "stream",
     "text": [
      "/data/nielsond/python/envs/abcd_mine/lib/python3.6/site-packages/rpy2/robjects/functions.py:106: UserWarning: Fitting L/S model and finding priors\n",
      "\n",
      "  res = super(Function, self).__call__(*new_args, **new_kwargs)\n",
      "/data/nielsond/python/envs/abcd_mine/lib/python3.6/site-packages/rpy2/robjects/functions.py:106: UserWarning: Finding nonparametric adjustments\n",
      "\n",
      "  res = super(Function, self).__call__(*new_args, **new_kwargs)\n"
     ]
    },
    {
     "name": "stdout",
     "output_type": "stream",
     "text": [
      "Standardizing Data across genes\n",
      "\n",
      "Standardizing Data across genes\n",
      "\n"
     ]
    },
    {
     "name": "stderr",
     "output_type": "stream",
     "text": [
      "/data/nielsond/python/envs/abcd_mine/lib/python3.6/site-packages/rpy2/robjects/functions.py:106: UserWarning: Found2batches\n",
      "\n",
      "  res = super(Function, self).__call__(*new_args, **new_kwargs)\n",
      "/data/nielsond/python/envs/abcd_mine/lib/python3.6/site-packages/rpy2/robjects/functions.py:106: UserWarning: Adjusting for0covariate(s) or covariate level(s)\n",
      "\n",
      "  res = super(Function, self).__call__(*new_args, **new_kwargs)\n"
     ]
    },
    {
     "name": "stdout",
     "output_type": "stream",
     "text": [
      "Standardizing Data across genes\n",
      "\n"
     ]
    },
    {
     "name": "stderr",
     "output_type": "stream",
     "text": [
      "/data/nielsond/python/envs/abcd_mine/lib/python3.6/site-packages/rpy2/robjects/functions.py:106: UserWarning: Fitting L/S model and finding priors\n",
      "\n",
      "  res = super(Function, self).__call__(*new_args, **new_kwargs)\n",
      "/data/nielsond/python/envs/abcd_mine/lib/python3.6/site-packages/rpy2/robjects/functions.py:106: UserWarning: Finding nonparametric adjustments\n",
      "\n",
      "  res = super(Function, self).__call__(*new_args, **new_kwargs)\n",
      "/data/nielsond/python/envs/abcd_mine/lib/python3.6/site-packages/rpy2/robjects/functions.py:106: UserWarning: Adjusting the Data\n",
      "\n",
      "\n",
      "  res = super(Function, self).__call__(*new_args, **new_kwargs)\n"
     ]
    },
    {
     "name": "stdout",
     "output_type": "stream",
     "text": [
      "Standardizing Data across genes\n",
      "\n",
      "Standardizing Data across genes\n",
      "\n",
      "[Parallel(n_jobs=20)]: Done 175 tasks      | elapsed: 15.5min\n",
      "Standardizing Data across genes\n",
      "\n",
      "Standardizing Data across genes\n",
      "\n",
      "[Parallel(n_jobs=20)]: Done 176 tasks      | elapsed: 15.5min\n"
     ]
    },
    {
     "name": "stderr",
     "output_type": "stream",
     "text": [
      "/data/nielsond/python/envs/abcd_mine/lib/python3.6/site-packages/rpy2/robjects/functions.py:106: UserWarning: Found2batches\n",
      "\n",
      "  res = super(Function, self).__call__(*new_args, **new_kwargs)\n",
      "/data/nielsond/python/envs/abcd_mine/lib/python3.6/site-packages/rpy2/robjects/functions.py:106: UserWarning: Adjusting for0covariate(s) or covariate level(s)\n",
      "\n",
      "  res = super(Function, self).__call__(*new_args, **new_kwargs)\n"
     ]
    },
    {
     "name": "stdout",
     "output_type": "stream",
     "text": [
      "Standardizing Data across genes\n",
      "\n"
     ]
    },
    {
     "name": "stderr",
     "output_type": "stream",
     "text": [
      "/data/nielsond/python/envs/abcd_mine/lib/python3.6/site-packages/rpy2/robjects/functions.py:106: UserWarning: Fitting L/S model and finding priors\n",
      "\n",
      "  res = super(Function, self).__call__(*new_args, **new_kwargs)\n",
      "/data/nielsond/python/envs/abcd_mine/lib/python3.6/site-packages/rpy2/robjects/functions.py:106: UserWarning: Finding nonparametric adjustments\n",
      "\n",
      "  res = super(Function, self).__call__(*new_args, **new_kwargs)\n",
      "/data/nielsond/python/envs/abcd_mine/lib/python3.6/site-packages/rpy2/robjects/functions.py:106: UserWarning: Adjusting the Data\n",
      "\n",
      "\n",
      "  res = super(Function, self).__call__(*new_args, **new_kwargs)\n"
     ]
    },
    {
     "name": "stdout",
     "output_type": "stream",
     "text": [
      "Standardizing Data across genes\n",
      "\n",
      "Standardizing Data across genes\n",
      "\n",
      "Standardizing Data across genes\n",
      "\n",
      "[Parallel(n_jobs=20)]: Done 177 tasks      | elapsed: 15.6min\n"
     ]
    },
    {
     "name": "stderr",
     "output_type": "stream",
     "text": [
      "/data/nielsond/python/envs/abcd_mine/lib/python3.6/site-packages/rpy2/robjects/functions.py:106: UserWarning: Found2batches\n",
      "\n",
      "  res = super(Function, self).__call__(*new_args, **new_kwargs)\n",
      "/data/nielsond/python/envs/abcd_mine/lib/python3.6/site-packages/rpy2/robjects/functions.py:106: UserWarning: Adjusting for0covariate(s) or covariate level(s)\n",
      "\n",
      "  res = super(Function, self).__call__(*new_args, **new_kwargs)\n"
     ]
    },
    {
     "name": "stdout",
     "output_type": "stream",
     "text": [
      "Standardizing Data across genes\n",
      "\n"
     ]
    },
    {
     "name": "stderr",
     "output_type": "stream",
     "text": [
      "/data/nielsond/python/envs/abcd_mine/lib/python3.6/site-packages/rpy2/robjects/functions.py:106: UserWarning: Fitting L/S model and finding priors\n",
      "\n",
      "  res = super(Function, self).__call__(*new_args, **new_kwargs)\n",
      "/data/nielsond/python/envs/abcd_mine/lib/python3.6/site-packages/rpy2/robjects/functions.py:106: UserWarning: Finding nonparametric adjustments\n",
      "\n",
      "  res = super(Function, self).__call__(*new_args, **new_kwargs)\n"
     ]
    },
    {
     "name": "stdout",
     "output_type": "stream",
     "text": [
      "Standardizing Data across genes\n",
      "\n",
      "Standardizing Data across genes\n",
      "\n",
      "[Parallel(n_jobs=20)]: Done 178 tasks      | elapsed: 15.7min\n"
     ]
    },
    {
     "name": "stderr",
     "output_type": "stream",
     "text": [
      "/data/nielsond/python/envs/abcd_mine/lib/python3.6/site-packages/rpy2/robjects/functions.py:106: UserWarning: Found2batches\n",
      "\n",
      "  res = super(Function, self).__call__(*new_args, **new_kwargs)\n",
      "/data/nielsond/python/envs/abcd_mine/lib/python3.6/site-packages/rpy2/robjects/functions.py:106: UserWarning: Adjusting for0covariate(s) or covariate level(s)\n",
      "\n",
      "  res = super(Function, self).__call__(*new_args, **new_kwargs)\n"
     ]
    },
    {
     "name": "stdout",
     "output_type": "stream",
     "text": [
      "Standardizing Data across genes\n",
      "\n"
     ]
    },
    {
     "name": "stderr",
     "output_type": "stream",
     "text": [
      "/data/nielsond/python/envs/abcd_mine/lib/python3.6/site-packages/rpy2/robjects/functions.py:106: UserWarning: Fitting L/S model and finding priors\n",
      "\n",
      "  res = super(Function, self).__call__(*new_args, **new_kwargs)\n",
      "/data/nielsond/python/envs/abcd_mine/lib/python3.6/site-packages/rpy2/robjects/functions.py:106: UserWarning: Finding nonparametric adjustments\n",
      "\n",
      "  res = super(Function, self).__call__(*new_args, **new_kwargs)\n"
     ]
    },
    {
     "name": "stdout",
     "output_type": "stream",
     "text": [
      "[Parallel(n_jobs=20)]: Done 179 tasks      | elapsed: 15.7min\n"
     ]
    },
    {
     "name": "stderr",
     "output_type": "stream",
     "text": [
      "/data/nielsond/python/envs/abcd_mine/lib/python3.6/site-packages/rpy2/robjects/functions.py:106: UserWarning: Adjusting the Data\n",
      "\n",
      "\n",
      "  res = super(Function, self).__call__(*new_args, **new_kwargs)\n"
     ]
    },
    {
     "name": "stdout",
     "output_type": "stream",
     "text": [
      "Standardizing Data across genes\n",
      "\n",
      "Standardizing Data across genes\n",
      "\n",
      "[Parallel(n_jobs=20)]: Done 180 tasks      | elapsed: 15.7min\n"
     ]
    },
    {
     "name": "stderr",
     "output_type": "stream",
     "text": [
      "/data/nielsond/python/envs/abcd_mine/lib/python3.6/site-packages/rpy2/robjects/functions.py:106: UserWarning: Adjusting the Data\n",
      "\n",
      "\n",
      "  res = super(Function, self).__call__(*new_args, **new_kwargs)\n"
     ]
    },
    {
     "name": "stdout",
     "output_type": "stream",
     "text": [
      "Standardizing Data across genes\n",
      "\n"
     ]
    },
    {
     "name": "stderr",
     "output_type": "stream",
     "text": [
      "/data/nielsond/python/envs/abcd_mine/lib/python3.6/site-packages/rpy2/robjects/functions.py:106: UserWarning: Found2batches\n",
      "\n",
      "  res = super(Function, self).__call__(*new_args, **new_kwargs)\n",
      "/data/nielsond/python/envs/abcd_mine/lib/python3.6/site-packages/rpy2/robjects/functions.py:106: UserWarning: Adjusting for0covariate(s) or covariate level(s)\n",
      "\n",
      "  res = super(Function, self).__call__(*new_args, **new_kwargs)\n"
     ]
    },
    {
     "name": "stdout",
     "output_type": "stream",
     "text": [
      "Standardizing Data across genes\n",
      "\n"
     ]
    },
    {
     "name": "stderr",
     "output_type": "stream",
     "text": [
      "/data/nielsond/python/envs/abcd_mine/lib/python3.6/site-packages/rpy2/robjects/functions.py:106: UserWarning: Fitting L/S model and finding priors\n",
      "\n",
      "  res = super(Function, self).__call__(*new_args, **new_kwargs)\n",
      "/data/nielsond/python/envs/abcd_mine/lib/python3.6/site-packages/rpy2/robjects/functions.py:106: UserWarning: Finding nonparametric adjustments\n",
      "\n",
      "  res = super(Function, self).__call__(*new_args, **new_kwargs)\n",
      "/data/nielsond/python/envs/abcd_mine/lib/python3.6/site-packages/rpy2/robjects/functions.py:106: UserWarning: Adjusting the Data\n",
      "\n",
      "\n",
      "  res = super(Function, self).__call__(*new_args, **new_kwargs)\n"
     ]
    },
    {
     "name": "stdout",
     "output_type": "stream",
     "text": [
      "Standardizing Data across genes\n",
      "\n"
     ]
    },
    {
     "name": "stderr",
     "output_type": "stream",
     "text": [
      "/data/nielsond/python/envs/abcd_mine/lib/python3.6/site-packages/rpy2/robjects/functions.py:106: UserWarning: Adjusting the Data\n",
      "\n",
      "\n",
      "  res = super(Function, self).__call__(*new_args, **new_kwargs)\n"
     ]
    },
    {
     "name": "stdout",
     "output_type": "stream",
     "text": [
      "Standardizing Data across genes\n",
      "\n"
     ]
    },
    {
     "name": "stderr",
     "output_type": "stream",
     "text": [
      "/data/nielsond/python/envs/abcd_mine/lib/python3.6/site-packages/rpy2/robjects/functions.py:106: UserWarning: Found2batches\n",
      "\n",
      "  res = super(Function, self).__call__(*new_args, **new_kwargs)\n",
      "/data/nielsond/python/envs/abcd_mine/lib/python3.6/site-packages/rpy2/robjects/functions.py:106: UserWarning: Adjusting for0covariate(s) or covariate level(s)\n",
      "\n",
      "  res = super(Function, self).__call__(*new_args, **new_kwargs)\n"
     ]
    },
    {
     "name": "stdout",
     "output_type": "stream",
     "text": [
      "Standardizing Data across genes\n",
      "\n"
     ]
    },
    {
     "name": "stderr",
     "output_type": "stream",
     "text": [
      "/data/nielsond/python/envs/abcd_mine/lib/python3.6/site-packages/rpy2/robjects/functions.py:106: UserWarning: Fitting L/S model and finding priors\n",
      "\n",
      "  res = super(Function, self).__call__(*new_args, **new_kwargs)\n",
      "/data/nielsond/python/envs/abcd_mine/lib/python3.6/site-packages/rpy2/robjects/functions.py:106: UserWarning: Finding nonparametric adjustments\n",
      "\n",
      "  res = super(Function, self).__call__(*new_args, **new_kwargs)\n"
     ]
    },
    {
     "name": "stdout",
     "output_type": "stream",
     "text": [
      "Standardizing Data across genes\n",
      "\n",
      "Standardizing Data across genes\n",
      "\n",
      "[Parallel(n_jobs=20)]: Done 181 tasks      | elapsed: 15.8min\n"
     ]
    },
    {
     "name": "stderr",
     "output_type": "stream",
     "text": [
      "/data/nielsond/python/envs/abcd_mine/lib/python3.6/site-packages/rpy2/robjects/functions.py:106: UserWarning: Found2batches\n",
      "\n",
      "  res = super(Function, self).__call__(*new_args, **new_kwargs)\n",
      "/data/nielsond/python/envs/abcd_mine/lib/python3.6/site-packages/rpy2/robjects/functions.py:106: UserWarning: Adjusting for0covariate(s) or covariate level(s)\n",
      "\n",
      "  res = super(Function, self).__call__(*new_args, **new_kwargs)\n"
     ]
    },
    {
     "name": "stdout",
     "output_type": "stream",
     "text": [
      "Standardizing Data across genes\n",
      "\n"
     ]
    },
    {
     "name": "stderr",
     "output_type": "stream",
     "text": [
      "/data/nielsond/python/envs/abcd_mine/lib/python3.6/site-packages/rpy2/robjects/functions.py:106: UserWarning: Fitting L/S model and finding priors\n",
      "\n",
      "  res = super(Function, self).__call__(*new_args, **new_kwargs)\n",
      "/data/nielsond/python/envs/abcd_mine/lib/python3.6/site-packages/rpy2/robjects/functions.py:106: UserWarning: Finding nonparametric adjustments\n",
      "\n",
      "  res = super(Function, self).__call__(*new_args, **new_kwargs)\n"
     ]
    },
    {
     "name": "stdout",
     "output_type": "stream",
     "text": [
      "Standardizing Data across genes\n",
      "\n",
      "Standardizing Data across genes\n",
      "\n",
      "Standardizing Data across genes\n",
      "\n",
      "[Parallel(n_jobs=20)]: Done 182 tasks      | elapsed: 15.9min\n"
     ]
    },
    {
     "name": "stderr",
     "output_type": "stream",
     "text": [
      "/data/nielsond/python/envs/abcd_mine/lib/python3.6/site-packages/rpy2/robjects/functions.py:106: UserWarning: Adjusting the Data\n",
      "\n",
      "\n",
      "  res = super(Function, self).__call__(*new_args, **new_kwargs)\n"
     ]
    },
    {
     "name": "stdout",
     "output_type": "stream",
     "text": [
      "Standardizing Data across genes\n",
      "\n",
      "Standardizing Data across genes\n",
      "\n"
     ]
    },
    {
     "name": "stderr",
     "output_type": "stream",
     "text": [
      "/data/nielsond/python/envs/abcd_mine/lib/python3.6/site-packages/rpy2/robjects/functions.py:106: UserWarning: Found2batches\n",
      "\n",
      "  res = super(Function, self).__call__(*new_args, **new_kwargs)\n",
      "/data/nielsond/python/envs/abcd_mine/lib/python3.6/site-packages/rpy2/robjects/functions.py:106: UserWarning: Adjusting for0covariate(s) or covariate level(s)\n",
      "\n",
      "  res = super(Function, self).__call__(*new_args, **new_kwargs)\n"
     ]
    },
    {
     "name": "stdout",
     "output_type": "stream",
     "text": [
      "Standardizing Data across genes\n",
      "\n"
     ]
    },
    {
     "name": "stderr",
     "output_type": "stream",
     "text": [
      "/data/nielsond/python/envs/abcd_mine/lib/python3.6/site-packages/rpy2/robjects/functions.py:106: UserWarning: Fitting L/S model and finding priors\n",
      "\n",
      "  res = super(Function, self).__call__(*new_args, **new_kwargs)\n",
      "/data/nielsond/python/envs/abcd_mine/lib/python3.6/site-packages/rpy2/robjects/functions.py:106: UserWarning: Finding nonparametric adjustments\n",
      "\n",
      "  res = super(Function, self).__call__(*new_args, **new_kwargs)\n",
      "/data/nielsond/python/envs/abcd_mine/lib/python3.6/site-packages/rpy2/robjects/functions.py:106: UserWarning: Adjusting the Data\n",
      "\n",
      "\n",
      "  res = super(Function, self).__call__(*new_args, **new_kwargs)\n"
     ]
    },
    {
     "name": "stdout",
     "output_type": "stream",
     "text": [
      "Standardizing Data across genes\n",
      "\n",
      "Standardizing Data across genes\n",
      "\n"
     ]
    },
    {
     "name": "stderr",
     "output_type": "stream",
     "text": [
      "/data/nielsond/python/envs/abcd_mine/lib/python3.6/site-packages/rpy2/robjects/functions.py:106: UserWarning: Found2batches\n",
      "\n",
      "  res = super(Function, self).__call__(*new_args, **new_kwargs)\n",
      "/data/nielsond/python/envs/abcd_mine/lib/python3.6/site-packages/rpy2/robjects/functions.py:106: UserWarning: Adjusting for0covariate(s) or covariate level(s)\n",
      "\n",
      "  res = super(Function, self).__call__(*new_args, **new_kwargs)\n"
     ]
    },
    {
     "name": "stdout",
     "output_type": "stream",
     "text": [
      "Standardizing Data across genes\n",
      "\n"
     ]
    },
    {
     "name": "stderr",
     "output_type": "stream",
     "text": [
      "/data/nielsond/python/envs/abcd_mine/lib/python3.6/site-packages/rpy2/robjects/functions.py:106: UserWarning: Fitting L/S model and finding priors\n",
      "\n",
      "  res = super(Function, self).__call__(*new_args, **new_kwargs)\n",
      "/data/nielsond/python/envs/abcd_mine/lib/python3.6/site-packages/rpy2/robjects/functions.py:106: UserWarning: Finding nonparametric adjustments\n",
      "\n",
      "  res = super(Function, self).__call__(*new_args, **new_kwargs)\n"
     ]
    },
    {
     "name": "stdout",
     "output_type": "stream",
     "text": [
      "[Parallel(n_jobs=20)]: Done 183 tasks      | elapsed: 15.9min\n",
      "Standardizing Data across genes\n",
      "\n",
      "Standardizing Data across genes\n",
      "\n"
     ]
    },
    {
     "name": "stderr",
     "output_type": "stream",
     "text": [
      "/data/nielsond/python/envs/abcd_mine/lib/python3.6/site-packages/rpy2/robjects/functions.py:106: UserWarning: Adjusting the Data\n",
      "\n",
      "\n",
      "  res = super(Function, self).__call__(*new_args, **new_kwargs)\n",
      "/data/nielsond/python/envs/abcd_mine/lib/python3.6/site-packages/rpy2/robjects/functions.py:106: UserWarning: Found2batches\n",
      "\n",
      "  res = super(Function, self).__call__(*new_args, **new_kwargs)\n",
      "/data/nielsond/python/envs/abcd_mine/lib/python3.6/site-packages/rpy2/robjects/functions.py:106: UserWarning: Adjusting for0covariate(s) or covariate level(s)\n",
      "\n",
      "  res = super(Function, self).__call__(*new_args, **new_kwargs)\n"
     ]
    },
    {
     "name": "stdout",
     "output_type": "stream",
     "text": [
      "Standardizing Data across genes\n",
      "\n"
     ]
    },
    {
     "name": "stderr",
     "output_type": "stream",
     "text": [
      "/data/nielsond/python/envs/abcd_mine/lib/python3.6/site-packages/rpy2/robjects/functions.py:106: UserWarning: Fitting L/S model and finding priors\n",
      "\n",
      "  res = super(Function, self).__call__(*new_args, **new_kwargs)\n",
      "/data/nielsond/python/envs/abcd_mine/lib/python3.6/site-packages/rpy2/robjects/functions.py:106: UserWarning: Finding nonparametric adjustments\n",
      "\n",
      "  res = super(Function, self).__call__(*new_args, **new_kwargs)\n"
     ]
    },
    {
     "name": "stdout",
     "output_type": "stream",
     "text": [
      "Standardizing Data across genes\n",
      "\n",
      "[Parallel(n_jobs=20)]: Done 184 tasks      | elapsed: 16.0min\n"
     ]
    },
    {
     "name": "stderr",
     "output_type": "stream",
     "text": [
      "/data/nielsond/python/envs/abcd_mine/lib/python3.6/site-packages/rpy2/robjects/functions.py:106: UserWarning: Adjusting the Data\n",
      "\n",
      "\n",
      "  res = super(Function, self).__call__(*new_args, **new_kwargs)\n"
     ]
    },
    {
     "name": "stdout",
     "output_type": "stream",
     "text": [
      "Standardizing Data across genes\n",
      "\n",
      "Standardizing Data across genes\n",
      "\n"
     ]
    },
    {
     "name": "stderr",
     "output_type": "stream",
     "text": [
      "/data/nielsond/python/envs/abcd_mine/lib/python3.6/site-packages/rpy2/robjects/functions.py:106: UserWarning: Found2batches\n",
      "\n",
      "  res = super(Function, self).__call__(*new_args, **new_kwargs)\n",
      "/data/nielsond/python/envs/abcd_mine/lib/python3.6/site-packages/rpy2/robjects/functions.py:106: UserWarning: Adjusting for0covariate(s) or covariate level(s)\n",
      "\n",
      "  res = super(Function, self).__call__(*new_args, **new_kwargs)\n"
     ]
    },
    {
     "name": "stdout",
     "output_type": "stream",
     "text": [
      "Standardizing Data across genes\n",
      "\n"
     ]
    },
    {
     "name": "stderr",
     "output_type": "stream",
     "text": [
      "/data/nielsond/python/envs/abcd_mine/lib/python3.6/site-packages/rpy2/robjects/functions.py:106: UserWarning: Fitting L/S model and finding priors\n",
      "\n",
      "  res = super(Function, self).__call__(*new_args, **new_kwargs)\n"
     ]
    },
    {
     "name": "stdout",
     "output_type": "stream",
     "text": [
      "Standardizing Data across genes\n",
      "\n"
     ]
    },
    {
     "name": "stderr",
     "output_type": "stream",
     "text": [
      "/data/nielsond/python/envs/abcd_mine/lib/python3.6/site-packages/rpy2/robjects/functions.py:106: UserWarning: Finding nonparametric adjustments\n",
      "\n",
      "  res = super(Function, self).__call__(*new_args, **new_kwargs)\n",
      "/data/nielsond/python/envs/abcd_mine/lib/python3.6/site-packages/rpy2/robjects/functions.py:106: UserWarning: Found2batches\n",
      "\n",
      "  res = super(Function, self).__call__(*new_args, **new_kwargs)\n",
      "/data/nielsond/python/envs/abcd_mine/lib/python3.6/site-packages/rpy2/robjects/functions.py:106: UserWarning: Adjusting for0covariate(s) or covariate level(s)\n",
      "\n",
      "  res = super(Function, self).__call__(*new_args, **new_kwargs)\n"
     ]
    },
    {
     "name": "stdout",
     "output_type": "stream",
     "text": [
      "Standardizing Data across genes\n",
      "\n"
     ]
    },
    {
     "name": "stderr",
     "output_type": "stream",
     "text": [
      "/data/nielsond/python/envs/abcd_mine/lib/python3.6/site-packages/rpy2/robjects/functions.py:106: UserWarning: Fitting L/S model and finding priors\n",
      "\n",
      "  res = super(Function, self).__call__(*new_args, **new_kwargs)\n",
      "/data/nielsond/python/envs/abcd_mine/lib/python3.6/site-packages/rpy2/robjects/functions.py:106: UserWarning: Finding nonparametric adjustments\n",
      "\n",
      "  res = super(Function, self).__call__(*new_args, **new_kwargs)\n"
     ]
    },
    {
     "name": "stdout",
     "output_type": "stream",
     "text": [
      "Standardizing Data across genes\n",
      "\n",
      "Standardizing Data across genes\n",
      "\n"
     ]
    },
    {
     "name": "stderr",
     "output_type": "stream",
     "text": [
      "/data/nielsond/python/envs/abcd_mine/lib/python3.6/site-packages/rpy2/robjects/functions.py:106: UserWarning: Found2batches\n",
      "\n",
      "  res = super(Function, self).__call__(*new_args, **new_kwargs)\n",
      "/data/nielsond/python/envs/abcd_mine/lib/python3.6/site-packages/rpy2/robjects/functions.py:106: UserWarning: Adjusting for0covariate(s) or covariate level(s)\n",
      "\n",
      "  res = super(Function, self).__call__(*new_args, **new_kwargs)\n"
     ]
    },
    {
     "name": "stdout",
     "output_type": "stream",
     "text": [
      "Standardizing Data across genes\n",
      "\n"
     ]
    },
    {
     "name": "stderr",
     "output_type": "stream",
     "text": [
      "/data/nielsond/python/envs/abcd_mine/lib/python3.6/site-packages/rpy2/robjects/functions.py:106: UserWarning: Fitting L/S model and finding priors\n",
      "\n",
      "  res = super(Function, self).__call__(*new_args, **new_kwargs)\n",
      "/data/nielsond/python/envs/abcd_mine/lib/python3.6/site-packages/rpy2/robjects/functions.py:106: UserWarning: Finding nonparametric adjustments\n",
      "\n",
      "  res = super(Function, self).__call__(*new_args, **new_kwargs)\n"
     ]
    },
    {
     "name": "stdout",
     "output_type": "stream",
     "text": [
      "Standardizing Data across genes\n",
      "\n",
      "[Parallel(n_jobs=20)]: Done 185 tasks      | elapsed: 16.1min\n",
      "Standardizing Data across genes\n",
      "\n"
     ]
    },
    {
     "name": "stderr",
     "output_type": "stream",
     "text": [
      "/data/nielsond/python/envs/abcd_mine/lib/python3.6/site-packages/rpy2/robjects/functions.py:106: UserWarning: Found2batches\n",
      "\n",
      "  res = super(Function, self).__call__(*new_args, **new_kwargs)\n",
      "/data/nielsond/python/envs/abcd_mine/lib/python3.6/site-packages/rpy2/robjects/functions.py:106: UserWarning: Adjusting for0covariate(s) or covariate level(s)\n",
      "\n",
      "  res = super(Function, self).__call__(*new_args, **new_kwargs)\n"
     ]
    },
    {
     "name": "stdout",
     "output_type": "stream",
     "text": [
      "Standardizing Data across genes\n",
      "\n"
     ]
    },
    {
     "name": "stderr",
     "output_type": "stream",
     "text": [
      "/data/nielsond/python/envs/abcd_mine/lib/python3.6/site-packages/rpy2/robjects/functions.py:106: UserWarning: Fitting L/S model and finding priors\n",
      "\n",
      "  res = super(Function, self).__call__(*new_args, **new_kwargs)\n",
      "/data/nielsond/python/envs/abcd_mine/lib/python3.6/site-packages/rpy2/robjects/functions.py:106: UserWarning: Finding nonparametric adjustments\n",
      "\n",
      "  res = super(Function, self).__call__(*new_args, **new_kwargs)\n"
     ]
    },
    {
     "name": "stdout",
     "output_type": "stream",
     "text": [
      "[Parallel(n_jobs=20)]: Done 186 tasks      | elapsed: 16.1min\n",
      "[Parallel(n_jobs=20)]: Done 187 tasks      | elapsed: 16.2min\n"
     ]
    },
    {
     "name": "stderr",
     "output_type": "stream",
     "text": [
      "/data/nielsond/python/envs/abcd_mine/lib/python3.6/site-packages/rpy2/robjects/functions.py:106: UserWarning: Adjusting the Data\n",
      "\n",
      "\n",
      "  res = super(Function, self).__call__(*new_args, **new_kwargs)\n",
      "/data/nielsond/python/envs/abcd_mine/lib/python3.6/site-packages/rpy2/robjects/functions.py:106: UserWarning: Adjusting the Data\n",
      "\n",
      "\n",
      "  res = super(Function, self).__call__(*new_args, **new_kwargs)\n",
      "/data/nielsond/python/envs/abcd_mine/lib/python3.6/site-packages/rpy2/robjects/functions.py:106: UserWarning: Found2batches\n",
      "\n",
      "  res = super(Function, self).__call__(*new_args, **new_kwargs)\n",
      "/data/nielsond/python/envs/abcd_mine/lib/python3.6/site-packages/rpy2/robjects/functions.py:106: UserWarning: Adjusting for0covariate(s) or covariate level(s)\n",
      "\n",
      "  res = super(Function, self).__call__(*new_args, **new_kwargs)\n"
     ]
    },
    {
     "name": "stdout",
     "output_type": "stream",
     "text": [
      "Standardizing Data across genes\n",
      "\n"
     ]
    },
    {
     "name": "stderr",
     "output_type": "stream",
     "text": [
      "/data/nielsond/python/envs/abcd_mine/lib/python3.6/site-packages/rpy2/robjects/functions.py:106: UserWarning: Fitting L/S model and finding priors\n",
      "\n",
      "  res = super(Function, self).__call__(*new_args, **new_kwargs)\n"
     ]
    },
    {
     "name": "stdout",
     "output_type": "stream",
     "text": [
      "Standardizing Data across genes\n",
      "\n"
     ]
    },
    {
     "name": "stderr",
     "output_type": "stream",
     "text": [
      "/data/nielsond/python/envs/abcd_mine/lib/python3.6/site-packages/rpy2/robjects/functions.py:106: UserWarning: Finding nonparametric adjustments\n",
      "\n",
      "  res = super(Function, self).__call__(*new_args, **new_kwargs)\n",
      "/data/nielsond/python/envs/abcd_mine/lib/python3.6/site-packages/rpy2/robjects/functions.py:106: UserWarning: Found2batches\n",
      "\n",
      "  res = super(Function, self).__call__(*new_args, **new_kwargs)\n",
      "/data/nielsond/python/envs/abcd_mine/lib/python3.6/site-packages/rpy2/robjects/functions.py:106: UserWarning: Adjusting for0covariate(s) or covariate level(s)\n",
      "\n",
      "  res = super(Function, self).__call__(*new_args, **new_kwargs)\n"
     ]
    },
    {
     "name": "stdout",
     "output_type": "stream",
     "text": [
      "Standardizing Data across genes\n",
      "\n"
     ]
    },
    {
     "name": "stderr",
     "output_type": "stream",
     "text": [
      "/data/nielsond/python/envs/abcd_mine/lib/python3.6/site-packages/rpy2/robjects/functions.py:106: UserWarning: Fitting L/S model and finding priors\n",
      "\n",
      "  res = super(Function, self).__call__(*new_args, **new_kwargs)\n",
      "/data/nielsond/python/envs/abcd_mine/lib/python3.6/site-packages/rpy2/robjects/functions.py:106: UserWarning: Finding nonparametric adjustments\n",
      "\n",
      "  res = super(Function, self).__call__(*new_args, **new_kwargs)\n"
     ]
    },
    {
     "name": "stdout",
     "output_type": "stream",
     "text": [
      "Standardizing Data across genes\n",
      "\n",
      "[Parallel(n_jobs=20)]: Done 188 tasks      | elapsed: 16.2min\n",
      "Standardizing Data across genes\n",
      "\n"
     ]
    },
    {
     "name": "stderr",
     "output_type": "stream",
     "text": [
      "/data/nielsond/python/envs/abcd_mine/lib/python3.6/site-packages/rpy2/robjects/functions.py:106: UserWarning: Found2batches\n",
      "\n",
      "  res = super(Function, self).__call__(*new_args, **new_kwargs)\n",
      "/data/nielsond/python/envs/abcd_mine/lib/python3.6/site-packages/rpy2/robjects/functions.py:106: UserWarning: Adjusting for0covariate(s) or covariate level(s)\n",
      "\n",
      "  res = super(Function, self).__call__(*new_args, **new_kwargs)\n"
     ]
    },
    {
     "name": "stdout",
     "output_type": "stream",
     "text": [
      "Standardizing Data across genes\n",
      "\n"
     ]
    },
    {
     "name": "stderr",
     "output_type": "stream",
     "text": [
      "/data/nielsond/python/envs/abcd_mine/lib/python3.6/site-packages/rpy2/robjects/functions.py:106: UserWarning: Fitting L/S model and finding priors\n",
      "\n",
      "  res = super(Function, self).__call__(*new_args, **new_kwargs)\n",
      "/data/nielsond/python/envs/abcd_mine/lib/python3.6/site-packages/rpy2/robjects/functions.py:106: UserWarning: Finding nonparametric adjustments\n",
      "\n",
      "  res = super(Function, self).__call__(*new_args, **new_kwargs)\n",
      "/data/nielsond/python/envs/abcd_mine/lib/python3.6/site-packages/rpy2/robjects/functions.py:106: UserWarning: Adjusting the Data\n",
      "\n",
      "\n",
      "  res = super(Function, self).__call__(*new_args, **new_kwargs)\n",
      "/data/nielsond/python/envs/abcd_mine/lib/python3.6/site-packages/rpy2/robjects/functions.py:106: UserWarning: Adjusting the Data\n",
      "\n",
      "\n",
      "  res = super(Function, self).__call__(*new_args, **new_kwargs)\n"
     ]
    },
    {
     "name": "stdout",
     "output_type": "stream",
     "text": [
      "Standardizing Data across genes\n",
      "\n",
      "Standardizing Data across genes\n",
      "\n"
     ]
    },
    {
     "name": "stderr",
     "output_type": "stream",
     "text": [
      "/data/nielsond/python/envs/abcd_mine/lib/python3.6/site-packages/rpy2/robjects/functions.py:106: UserWarning: Found2batches\n",
      "\n",
      "  res = super(Function, self).__call__(*new_args, **new_kwargs)\n",
      "/data/nielsond/python/envs/abcd_mine/lib/python3.6/site-packages/rpy2/robjects/functions.py:106: UserWarning: Adjusting for0covariate(s) or covariate level(s)\n",
      "\n",
      "  res = super(Function, self).__call__(*new_args, **new_kwargs)\n"
     ]
    },
    {
     "name": "stdout",
     "output_type": "stream",
     "text": [
      "Standardizing Data across genes\n",
      "\n"
     ]
    },
    {
     "name": "stderr",
     "output_type": "stream",
     "text": [
      "/data/nielsond/python/envs/abcd_mine/lib/python3.6/site-packages/rpy2/robjects/functions.py:106: UserWarning: Fitting L/S model and finding priors\n",
      "\n",
      "  res = super(Function, self).__call__(*new_args, **new_kwargs)\n",
      "/data/nielsond/python/envs/abcd_mine/lib/python3.6/site-packages/rpy2/robjects/functions.py:106: UserWarning: Finding nonparametric adjustments\n",
      "\n",
      "  res = super(Function, self).__call__(*new_args, **new_kwargs)\n"
     ]
    },
    {
     "name": "stdout",
     "output_type": "stream",
     "text": [
      "Standardizing Data across genes\n",
      "\n"
     ]
    },
    {
     "name": "stderr",
     "output_type": "stream",
     "text": [
      "/data/nielsond/python/envs/abcd_mine/lib/python3.6/site-packages/rpy2/robjects/functions.py:106: UserWarning: Adjusting the Data\n",
      "\n",
      "\n",
      "  res = super(Function, self).__call__(*new_args, **new_kwargs)\n"
     ]
    },
    {
     "name": "stdout",
     "output_type": "stream",
     "text": [
      "Standardizing Data across genes\n",
      "\n",
      "Standardizing Data across genes\n",
      "\n"
     ]
    },
    {
     "name": "stderr",
     "output_type": "stream",
     "text": [
      "/data/nielsond/python/envs/abcd_mine/lib/python3.6/site-packages/rpy2/robjects/functions.py:106: UserWarning: Adjusting the Data\n",
      "\n",
      "\n",
      "  res = super(Function, self).__call__(*new_args, **new_kwargs)\n"
     ]
    },
    {
     "name": "stdout",
     "output_type": "stream",
     "text": [
      "Standardizing Data across genes\n",
      "\n"
     ]
    },
    {
     "name": "stderr",
     "output_type": "stream",
     "text": [
      "/data/nielsond/python/envs/abcd_mine/lib/python3.6/site-packages/rpy2/robjects/functions.py:106: UserWarning: Adjusting the Data\n",
      "\n",
      "\n",
      "  res = super(Function, self).__call__(*new_args, **new_kwargs)\n",
      "/data/nielsond/python/envs/abcd_mine/lib/python3.6/site-packages/rpy2/robjects/functions.py:106: UserWarning: Found2batches\n",
      "\n",
      "  res = super(Function, self).__call__(*new_args, **new_kwargs)\n",
      "/data/nielsond/python/envs/abcd_mine/lib/python3.6/site-packages/rpy2/robjects/functions.py:106: UserWarning: Adjusting for0covariate(s) or covariate level(s)\n",
      "\n",
      "  res = super(Function, self).__call__(*new_args, **new_kwargs)\n"
     ]
    },
    {
     "name": "stdout",
     "output_type": "stream",
     "text": [
      "Standardizing Data across genes\n",
      "\n"
     ]
    },
    {
     "name": "stderr",
     "output_type": "stream",
     "text": [
      "/data/nielsond/python/envs/abcd_mine/lib/python3.6/site-packages/rpy2/robjects/functions.py:106: UserWarning: Fitting L/S model and finding priors\n",
      "\n",
      "  res = super(Function, self).__call__(*new_args, **new_kwargs)\n",
      "/data/nielsond/python/envs/abcd_mine/lib/python3.6/site-packages/rpy2/robjects/functions.py:106: UserWarning: Finding nonparametric adjustments\n",
      "\n",
      "  res = super(Function, self).__call__(*new_args, **new_kwargs)\n"
     ]
    },
    {
     "name": "stdout",
     "output_type": "stream",
     "text": [
      "Standardizing Data across genes\n",
      "\n",
      "[Parallel(n_jobs=20)]: Done 189 tasks      | elapsed: 16.3min\n",
      "Standardizing Data across genes\n",
      "\n",
      "Standardizing Data across genes\n",
      "\n"
     ]
    },
    {
     "name": "stderr",
     "output_type": "stream",
     "text": [
      "/data/nielsond/python/envs/abcd_mine/lib/python3.6/site-packages/rpy2/robjects/functions.py:106: UserWarning: Adjusting the Data\n",
      "\n",
      "\n",
      "  res = super(Function, self).__call__(*new_args, **new_kwargs)\n"
     ]
    },
    {
     "name": "stdout",
     "output_type": "stream",
     "text": [
      "Standardizing Data across genes\n",
      "\n"
     ]
    },
    {
     "name": "stderr",
     "output_type": "stream",
     "text": [
      "/data/nielsond/python/envs/abcd_mine/lib/python3.6/site-packages/rpy2/robjects/functions.py:106: UserWarning: Found10batches\n",
      "\n",
      "  res = super(Function, self).__call__(*new_args, **new_kwargs)\n",
      "/data/nielsond/python/envs/abcd_mine/lib/python3.6/site-packages/rpy2/robjects/functions.py:106: UserWarning: Adjusting for0covariate(s) or covariate level(s)\n",
      "\n",
      "  res = super(Function, self).__call__(*new_args, **new_kwargs)\n"
     ]
    },
    {
     "name": "stdout",
     "output_type": "stream",
     "text": [
      "Standardizing Data across genes\n",
      "\n",
      "Standardizing Data across genes\n",
      "\n"
     ]
    },
    {
     "name": "stderr",
     "output_type": "stream",
     "text": [
      "/data/nielsond/python/envs/abcd_mine/lib/python3.6/site-packages/rpy2/robjects/functions.py:106: UserWarning: Adjusting the Data\n",
      "\n",
      "\n",
      "  res = super(Function, self).__call__(*new_args, **new_kwargs)\n"
     ]
    },
    {
     "name": "stdout",
     "output_type": "stream",
     "text": [
      "Standardizing Data across genes\n",
      "\n",
      "Standardizing Data across genes\n",
      "\n"
     ]
    },
    {
     "name": "stderr",
     "output_type": "stream",
     "text": [
      "/data/nielsond/python/envs/abcd_mine/lib/python3.6/site-packages/rpy2/robjects/functions.py:106: UserWarning: Fitting L/S model and finding priors\n",
      "\n",
      "  res = super(Function, self).__call__(*new_args, **new_kwargs)\n",
      "/data/nielsond/python/envs/abcd_mine/lib/python3.6/site-packages/rpy2/robjects/functions.py:106: UserWarning: Finding nonparametric adjustments\n",
      "\n",
      "  res = super(Function, self).__call__(*new_args, **new_kwargs)\n"
     ]
    },
    {
     "name": "stdout",
     "output_type": "stream",
     "text": [
      "Standardizing Data across genes\n",
      "\n",
      "[Parallel(n_jobs=20)]: Done 190 tasks      | elapsed: 16.4min\n"
     ]
    },
    {
     "name": "stderr",
     "output_type": "stream",
     "text": [
      "/data/nielsond/python/envs/abcd_mine/lib/python3.6/site-packages/rpy2/robjects/functions.py:106: UserWarning: Found10batches\n",
      "\n",
      "  res = super(Function, self).__call__(*new_args, **new_kwargs)\n",
      "/data/nielsond/python/envs/abcd_mine/lib/python3.6/site-packages/rpy2/robjects/functions.py:106: UserWarning: Adjusting for0covariate(s) or covariate level(s)\n",
      "\n",
      "  res = super(Function, self).__call__(*new_args, **new_kwargs)\n"
     ]
    },
    {
     "name": "stdout",
     "output_type": "stream",
     "text": [
      "Standardizing Data across genes\n",
      "\n"
     ]
    },
    {
     "name": "stderr",
     "output_type": "stream",
     "text": [
      "/data/nielsond/python/envs/abcd_mine/lib/python3.6/site-packages/rpy2/robjects/functions.py:106: UserWarning: Fitting L/S model and finding priors\n",
      "\n",
      "  res = super(Function, self).__call__(*new_args, **new_kwargs)\n"
     ]
    },
    {
     "name": "stdout",
     "output_type": "stream",
     "text": [
      "Standardizing Data across genes\n",
      "\n"
     ]
    },
    {
     "name": "stderr",
     "output_type": "stream",
     "text": [
      "/data/nielsond/python/envs/abcd_mine/lib/python3.6/site-packages/rpy2/robjects/functions.py:106: UserWarning: Finding nonparametric adjustments\n",
      "\n",
      "  res = super(Function, self).__call__(*new_args, **new_kwargs)\n",
      "/data/nielsond/python/envs/abcd_mine/lib/python3.6/site-packages/rpy2/robjects/functions.py:106: UserWarning: Adjusting the Data\n",
      "\n",
      "\n",
      "  res = super(Function, self).__call__(*new_args, **new_kwargs)\n"
     ]
    },
    {
     "name": "stdout",
     "output_type": "stream",
     "text": [
      "Standardizing Data across genes\n",
      "\n",
      "Standardizing Data across genes\n",
      "\n",
      "[Parallel(n_jobs=20)]: Done 191 tasks      | elapsed: 16.5min\n",
      "Standardizing Data across genes\n",
      "\n"
     ]
    },
    {
     "name": "stderr",
     "output_type": "stream",
     "text": [
      "/data/nielsond/python/envs/abcd_mine/lib/python3.6/site-packages/rpy2/robjects/functions.py:106: UserWarning: Found10batches\n",
      "\n",
      "  res = super(Function, self).__call__(*new_args, **new_kwargs)\n",
      "/data/nielsond/python/envs/abcd_mine/lib/python3.6/site-packages/rpy2/robjects/functions.py:106: UserWarning: Adjusting for0covariate(s) or covariate level(s)\n",
      "\n",
      "  res = super(Function, self).__call__(*new_args, **new_kwargs)\n"
     ]
    },
    {
     "name": "stdout",
     "output_type": "stream",
     "text": [
      "Standardizing Data across genes\n",
      "\n"
     ]
    },
    {
     "name": "stderr",
     "output_type": "stream",
     "text": [
      "/data/nielsond/python/envs/abcd_mine/lib/python3.6/site-packages/rpy2/robjects/functions.py:106: UserWarning: Fitting L/S model and finding priors\n",
      "\n",
      "  res = super(Function, self).__call__(*new_args, **new_kwargs)\n",
      "/data/nielsond/python/envs/abcd_mine/lib/python3.6/site-packages/rpy2/robjects/functions.py:106: UserWarning: Finding nonparametric adjustments\n",
      "\n",
      "  res = super(Function, self).__call__(*new_args, **new_kwargs)\n"
     ]
    },
    {
     "name": "stdout",
     "output_type": "stream",
     "text": [
      "Standardizing Data across genes\n",
      "\n",
      "Standardizing Data across genes\n",
      "\n",
      "Standardizing Data across genes\n",
      "\n",
      "Standardizing Data across genes\n",
      "\n"
     ]
    },
    {
     "name": "stderr",
     "output_type": "stream",
     "text": [
      "/data/nielsond/python/envs/abcd_mine/lib/python3.6/site-packages/rpy2/robjects/functions.py:106: UserWarning: Adjusting the Data\n",
      "\n",
      "\n",
      "  res = super(Function, self).__call__(*new_args, **new_kwargs)\n"
     ]
    },
    {
     "name": "stdout",
     "output_type": "stream",
     "text": [
      "Standardizing Data across genes\n",
      "\n",
      "Standardizing Data across genes\n",
      "\n",
      "[Parallel(n_jobs=20)]: Done 192 tasks      | elapsed: 16.5min\n",
      "Standardizing Data across genes\n",
      "\n"
     ]
    },
    {
     "name": "stderr",
     "output_type": "stream",
     "text": [
      "/data/nielsond/python/envs/abcd_mine/lib/python3.6/site-packages/rpy2/robjects/functions.py:106: UserWarning: Found10batches\n",
      "\n",
      "  res = super(Function, self).__call__(*new_args, **new_kwargs)\n",
      "/data/nielsond/python/envs/abcd_mine/lib/python3.6/site-packages/rpy2/robjects/functions.py:106: UserWarning: Adjusting for0covariate(s) or covariate level(s)\n",
      "\n",
      "  res = super(Function, self).__call__(*new_args, **new_kwargs)\n"
     ]
    },
    {
     "name": "stdout",
     "output_type": "stream",
     "text": [
      "Standardizing Data across genes\n",
      "\n",
      "Standardizing Data across genes\n",
      "\n"
     ]
    },
    {
     "name": "stderr",
     "output_type": "stream",
     "text": [
      "/data/nielsond/python/envs/abcd_mine/lib/python3.6/site-packages/rpy2/robjects/functions.py:106: UserWarning: Fitting L/S model and finding priors\n",
      "\n",
      "  res = super(Function, self).__call__(*new_args, **new_kwargs)\n",
      "/data/nielsond/python/envs/abcd_mine/lib/python3.6/site-packages/rpy2/robjects/functions.py:106: UserWarning: Finding nonparametric adjustments\n",
      "\n",
      "  res = super(Function, self).__call__(*new_args, **new_kwargs)\n"
     ]
    },
    {
     "name": "stdout",
     "output_type": "stream",
     "text": [
      "Standardizing Data across genes\n",
      "\n",
      "Standardizing Data across genes\n",
      "\n"
     ]
    },
    {
     "name": "stderr",
     "output_type": "stream",
     "text": [
      "/data/nielsond/python/envs/abcd_mine/lib/python3.6/site-packages/rpy2/robjects/functions.py:106: UserWarning: Found10batches\n",
      "\n",
      "  res = super(Function, self).__call__(*new_args, **new_kwargs)\n",
      "/data/nielsond/python/envs/abcd_mine/lib/python3.6/site-packages/rpy2/robjects/functions.py:106: UserWarning: Adjusting for0covariate(s) or covariate level(s)\n",
      "\n",
      "  res = super(Function, self).__call__(*new_args, **new_kwargs)\n"
     ]
    },
    {
     "name": "stdout",
     "output_type": "stream",
     "text": [
      "Standardizing Data across genes\n",
      "\n"
     ]
    },
    {
     "name": "stderr",
     "output_type": "stream",
     "text": [
      "/data/nielsond/python/envs/abcd_mine/lib/python3.6/site-packages/rpy2/robjects/functions.py:106: UserWarning: Fitting L/S model and finding priors\n",
      "\n",
      "  res = super(Function, self).__call__(*new_args, **new_kwargs)\n",
      "/data/nielsond/python/envs/abcd_mine/lib/python3.6/site-packages/rpy2/robjects/functions.py:106: UserWarning: Finding nonparametric adjustments\n",
      "\n",
      "  res = super(Function, self).__call__(*new_args, **new_kwargs)\n"
     ]
    },
    {
     "name": "stdout",
     "output_type": "stream",
     "text": [
      "Standardizing Data across genes\n",
      "\n"
     ]
    },
    {
     "name": "stderr",
     "output_type": "stream",
     "text": [
      "/data/nielsond/python/envs/abcd_mine/lib/python3.6/site-packages/rpy2/robjects/functions.py:106: UserWarning: Adjusting the Data\n",
      "\n",
      "\n",
      "  res = super(Function, self).__call__(*new_args, **new_kwargs)\n"
     ]
    },
    {
     "name": "stdout",
     "output_type": "stream",
     "text": [
      "[Parallel(n_jobs=20)]: Done 193 tasks      | elapsed: 16.6min\n",
      "Standardizing Data across genes\n",
      "\n",
      "Standardizing Data across genes\n",
      "\n",
      "[Parallel(n_jobs=20)]: Done 194 tasks      | elapsed: 16.6min\n"
     ]
    },
    {
     "name": "stderr",
     "output_type": "stream",
     "text": [
      "/data/nielsond/python/envs/abcd_mine/lib/python3.6/site-packages/rpy2/robjects/functions.py:106: UserWarning: Found10batches\n",
      "\n",
      "  res = super(Function, self).__call__(*new_args, **new_kwargs)\n",
      "/data/nielsond/python/envs/abcd_mine/lib/python3.6/site-packages/rpy2/robjects/functions.py:106: UserWarning: Adjusting for0covariate(s) or covariate level(s)\n",
      "\n",
      "  res = super(Function, self).__call__(*new_args, **new_kwargs)\n"
     ]
    },
    {
     "name": "stdout",
     "output_type": "stream",
     "text": [
      "Standardizing Data across genes\n",
      "\n"
     ]
    },
    {
     "name": "stderr",
     "output_type": "stream",
     "text": [
      "/data/nielsond/python/envs/abcd_mine/lib/python3.6/site-packages/rpy2/robjects/functions.py:106: UserWarning: Adjusting the Data\n",
      "\n",
      "\n",
      "  res = super(Function, self).__call__(*new_args, **new_kwargs)\n"
     ]
    },
    {
     "name": "stdout",
     "output_type": "stream",
     "text": [
      "Standardizing Data across genes\n",
      "\n"
     ]
    },
    {
     "name": "stderr",
     "output_type": "stream",
     "text": [
      "/data/nielsond/python/envs/abcd_mine/lib/python3.6/site-packages/rpy2/robjects/functions.py:106: UserWarning: Fitting L/S model and finding priors\n",
      "\n",
      "  res = super(Function, self).__call__(*new_args, **new_kwargs)\n",
      "/data/nielsond/python/envs/abcd_mine/lib/python3.6/site-packages/rpy2/robjects/functions.py:106: UserWarning: Finding nonparametric adjustments\n",
      "\n",
      "  res = super(Function, self).__call__(*new_args, **new_kwargs)\n"
     ]
    },
    {
     "name": "stdout",
     "output_type": "stream",
     "text": [
      "[Parallel(n_jobs=20)]: Done 195 tasks      | elapsed: 16.7min\n",
      "[Parallel(n_jobs=20)]: Done 196 tasks      | elapsed: 16.7min\n"
     ]
    },
    {
     "name": "stderr",
     "output_type": "stream",
     "text": [
      "/data/nielsond/python/envs/abcd_mine/lib/python3.6/site-packages/rpy2/robjects/functions.py:106: UserWarning: Found10batches\n",
      "\n",
      "  res = super(Function, self).__call__(*new_args, **new_kwargs)\n",
      "/data/nielsond/python/envs/abcd_mine/lib/python3.6/site-packages/rpy2/robjects/functions.py:106: UserWarning: Adjusting for0covariate(s) or covariate level(s)\n",
      "\n",
      "  res = super(Function, self).__call__(*new_args, **new_kwargs)\n"
     ]
    },
    {
     "name": "stdout",
     "output_type": "stream",
     "text": [
      "Standardizing Data across genes\n",
      "\n",
      "[Parallel(n_jobs=20)]: Done 197 tasks      | elapsed: 16.7min\n",
      "[Parallel(n_jobs=20)]: Done 198 tasks      | elapsed: 16.7min\n"
     ]
    },
    {
     "name": "stderr",
     "output_type": "stream",
     "text": [
      "/data/nielsond/python/envs/abcd_mine/lib/python3.6/site-packages/rpy2/robjects/functions.py:106: UserWarning: Fitting L/S model and finding priors\n",
      "\n",
      "  res = super(Function, self).__call__(*new_args, **new_kwargs)\n",
      "/data/nielsond/python/envs/abcd_mine/lib/python3.6/site-packages/rpy2/robjects/functions.py:106: UserWarning: Finding nonparametric adjustments\n",
      "\n",
      "  res = super(Function, self).__call__(*new_args, **new_kwargs)\n"
     ]
    },
    {
     "name": "stdout",
     "output_type": "stream",
     "text": [
      "[Parallel(n_jobs=20)]: Done 199 tasks      | elapsed: 16.7min\n"
     ]
    },
    {
     "name": "stderr",
     "output_type": "stream",
     "text": [
      "/data/nielsond/python/envs/abcd_mine/lib/python3.6/site-packages/rpy2/robjects/functions.py:106: UserWarning: Adjusting the Data\n",
      "\n",
      "\n",
      "  res = super(Function, self).__call__(*new_args, **new_kwargs)\n"
     ]
    },
    {
     "name": "stdout",
     "output_type": "stream",
     "text": [
      "Standardizing Data across genes\n",
      "\n",
      "Standardizing Data across genes\n",
      "\n"
     ]
    },
    {
     "name": "stderr",
     "output_type": "stream",
     "text": [
      "/data/nielsond/python/envs/abcd_mine/lib/python3.6/site-packages/rpy2/robjects/functions.py:106: UserWarning: Found10batches\n",
      "\n",
      "  res = super(Function, self).__call__(*new_args, **new_kwargs)\n",
      "/data/nielsond/python/envs/abcd_mine/lib/python3.6/site-packages/rpy2/robjects/functions.py:106: UserWarning: Adjusting for0covariate(s) or covariate level(s)\n",
      "\n",
      "  res = super(Function, self).__call__(*new_args, **new_kwargs)\n"
     ]
    },
    {
     "name": "stdout",
     "output_type": "stream",
     "text": [
      "Standardizing Data across genes\n",
      "\n"
     ]
    },
    {
     "name": "stderr",
     "output_type": "stream",
     "text": [
      "/data/nielsond/python/envs/abcd_mine/lib/python3.6/site-packages/rpy2/robjects/functions.py:106: UserWarning: Fitting L/S model and finding priors\n",
      "\n",
      "  res = super(Function, self).__call__(*new_args, **new_kwargs)\n",
      "/data/nielsond/python/envs/abcd_mine/lib/python3.6/site-packages/rpy2/robjects/functions.py:106: UserWarning: Finding nonparametric adjustments\n",
      "\n",
      "  res = super(Function, self).__call__(*new_args, **new_kwargs)\n",
      "/data/nielsond/python/envs/abcd_mine/lib/python3.6/site-packages/rpy2/robjects/functions.py:106: UserWarning: Adjusting the Data\n",
      "\n",
      "\n",
      "  res = super(Function, self).__call__(*new_args, **new_kwargs)\n"
     ]
    },
    {
     "name": "stdout",
     "output_type": "stream",
     "text": [
      "Standardizing Data across genes\n",
      "\n",
      "Standardizing Data across genes\n",
      "\n",
      "[Parallel(n_jobs=20)]: Done 200 tasks      | elapsed: 16.7min\n"
     ]
    },
    {
     "name": "stderr",
     "output_type": "stream",
     "text": [
      "/data/nielsond/python/envs/abcd_mine/lib/python3.6/site-packages/rpy2/robjects/functions.py:106: UserWarning: Found10batches\n",
      "\n",
      "  res = super(Function, self).__call__(*new_args, **new_kwargs)\n",
      "/data/nielsond/python/envs/abcd_mine/lib/python3.6/site-packages/rpy2/robjects/functions.py:106: UserWarning: Adjusting for0covariate(s) or covariate level(s)\n",
      "\n",
      "  res = super(Function, self).__call__(*new_args, **new_kwargs)\n"
     ]
    },
    {
     "name": "stdout",
     "output_type": "stream",
     "text": [
      "Standardizing Data across genes\n",
      "\n"
     ]
    },
    {
     "name": "stderr",
     "output_type": "stream",
     "text": [
      "/data/nielsond/python/envs/abcd_mine/lib/python3.6/site-packages/rpy2/robjects/functions.py:106: UserWarning: Fitting L/S model and finding priors\n",
      "\n",
      "  res = super(Function, self).__call__(*new_args, **new_kwargs)\n",
      "/data/nielsond/python/envs/abcd_mine/lib/python3.6/site-packages/rpy2/robjects/functions.py:106: UserWarning: Finding nonparametric adjustments\n",
      "\n",
      "  res = super(Function, self).__call__(*new_args, **new_kwargs)\n"
     ]
    },
    {
     "name": "stdout",
     "output_type": "stream",
     "text": [
      "Standardizing Data across genes\n",
      "\n"
     ]
    },
    {
     "name": "stderr",
     "output_type": "stream",
     "text": [
      "/data/nielsond/python/envs/abcd_mine/lib/python3.6/site-packages/rpy2/robjects/functions.py:106: UserWarning: Found10batches\n",
      "\n",
      "  res = super(Function, self).__call__(*new_args, **new_kwargs)\n",
      "/data/nielsond/python/envs/abcd_mine/lib/python3.6/site-packages/rpy2/robjects/functions.py:106: UserWarning: Adjusting for0covariate(s) or covariate level(s)\n",
      "\n",
      "  res = super(Function, self).__call__(*new_args, **new_kwargs)\n"
     ]
    },
    {
     "name": "stdout",
     "output_type": "stream",
     "text": [
      "Standardizing Data across genes\n",
      "\n"
     ]
    },
    {
     "name": "stderr",
     "output_type": "stream",
     "text": [
      "/data/nielsond/python/envs/abcd_mine/lib/python3.6/site-packages/rpy2/robjects/functions.py:106: UserWarning: Fitting L/S model and finding priors\n",
      "\n",
      "  res = super(Function, self).__call__(*new_args, **new_kwargs)\n",
      "/data/nielsond/python/envs/abcd_mine/lib/python3.6/site-packages/rpy2/robjects/functions.py:106: UserWarning: Finding nonparametric adjustments\n",
      "\n",
      "  res = super(Function, self).__call__(*new_args, **new_kwargs)\n",
      "/data/nielsond/python/envs/abcd_mine/lib/python3.6/site-packages/rpy2/robjects/functions.py:106: UserWarning: Adjusting the Data\n",
      "\n",
      "\n",
      "  res = super(Function, self).__call__(*new_args, **new_kwargs)\n"
     ]
    },
    {
     "name": "stdout",
     "output_type": "stream",
     "text": [
      "Standardizing Data across genes\n",
      "\n",
      "Standardizing Data across genes\n",
      "\n"
     ]
    },
    {
     "name": "stderr",
     "output_type": "stream",
     "text": [
      "/data/nielsond/python/envs/abcd_mine/lib/python3.6/site-packages/rpy2/robjects/functions.py:106: UserWarning: Adjusting the Data\n",
      "\n",
      "\n",
      "  res = super(Function, self).__call__(*new_args, **new_kwargs)\n"
     ]
    },
    {
     "name": "stdout",
     "output_type": "stream",
     "text": [
      "Standardizing Data across genes\n",
      "\n",
      "Standardizing Data across genes\n",
      "\n"
     ]
    },
    {
     "name": "stderr",
     "output_type": "stream",
     "text": [
      "/data/nielsond/python/envs/abcd_mine/lib/python3.6/site-packages/rpy2/robjects/functions.py:106: UserWarning: Found10batches\n",
      "\n",
      "  res = super(Function, self).__call__(*new_args, **new_kwargs)\n"
     ]
    },
    {
     "name": "stdout",
     "output_type": "stream",
     "text": [
      "Standardizing Data across genes\n",
      "\n"
     ]
    },
    {
     "name": "stderr",
     "output_type": "stream",
     "text": [
      "/data/nielsond/python/envs/abcd_mine/lib/python3.6/site-packages/rpy2/robjects/functions.py:106: UserWarning: Adjusting for0covariate(s) or covariate level(s)\n",
      "\n",
      "  res = super(Function, self).__call__(*new_args, **new_kwargs)\n"
     ]
    },
    {
     "name": "stdout",
     "output_type": "stream",
     "text": [
      "Standardizing Data across genes\n",
      "\n"
     ]
    },
    {
     "name": "stderr",
     "output_type": "stream",
     "text": [
      "/data/nielsond/python/envs/abcd_mine/lib/python3.6/site-packages/rpy2/robjects/functions.py:106: UserWarning: Fitting L/S model and finding priors\n",
      "\n",
      "  res = super(Function, self).__call__(*new_args, **new_kwargs)\n",
      "/data/nielsond/python/envs/abcd_mine/lib/python3.6/site-packages/rpy2/robjects/functions.py:106: UserWarning: Finding nonparametric adjustments\n",
      "\n",
      "  res = super(Function, self).__call__(*new_args, **new_kwargs)\n",
      "/data/nielsond/python/envs/abcd_mine/lib/python3.6/site-packages/rpy2/robjects/functions.py:106: UserWarning: Adjusting the Data\n",
      "\n",
      "\n",
      "  res = super(Function, self).__call__(*new_args, **new_kwargs)\n"
     ]
    },
    {
     "name": "stdout",
     "output_type": "stream",
     "text": [
      "Standardizing Data across genes\n",
      "\n"
     ]
    },
    {
     "name": "stderr",
     "output_type": "stream",
     "text": [
      "/data/nielsond/python/envs/abcd_mine/lib/python3.6/site-packages/rpy2/robjects/functions.py:106: UserWarning: Found10batches\n",
      "\n",
      "  res = super(Function, self).__call__(*new_args, **new_kwargs)\n",
      "/data/nielsond/python/envs/abcd_mine/lib/python3.6/site-packages/rpy2/robjects/functions.py:106: UserWarning: Adjusting for0covariate(s) or covariate level(s)\n",
      "\n",
      "  res = super(Function, self).__call__(*new_args, **new_kwargs)\n"
     ]
    },
    {
     "name": "stdout",
     "output_type": "stream",
     "text": [
      "Standardizing Data across genes\n",
      "\n"
     ]
    },
    {
     "name": "stderr",
     "output_type": "stream",
     "text": [
      "/data/nielsond/python/envs/abcd_mine/lib/python3.6/site-packages/rpy2/robjects/functions.py:106: UserWarning: Fitting L/S model and finding priors\n",
      "\n",
      "  res = super(Function, self).__call__(*new_args, **new_kwargs)\n",
      "/data/nielsond/python/envs/abcd_mine/lib/python3.6/site-packages/rpy2/robjects/functions.py:106: UserWarning: Finding nonparametric adjustments\n",
      "\n",
      "  res = super(Function, self).__call__(*new_args, **new_kwargs)\n",
      "/data/nielsond/python/envs/abcd_mine/lib/python3.6/site-packages/rpy2/robjects/functions.py:106: UserWarning: Adjusting the Data\n",
      "\n",
      "\n",
      "  res = super(Function, self).__call__(*new_args, **new_kwargs)\n"
     ]
    },
    {
     "name": "stdout",
     "output_type": "stream",
     "text": [
      "Standardizing Data across genes\n",
      "\n",
      "Standardizing Data across genes\n",
      "\n"
     ]
    },
    {
     "name": "stderr",
     "output_type": "stream",
     "text": [
      "/data/nielsond/python/envs/abcd_mine/lib/python3.6/site-packages/rpy2/robjects/functions.py:106: UserWarning: Found10batches\n",
      "\n",
      "  res = super(Function, self).__call__(*new_args, **new_kwargs)\n",
      "/data/nielsond/python/envs/abcd_mine/lib/python3.6/site-packages/rpy2/robjects/functions.py:106: UserWarning: Adjusting for0covariate(s) or covariate level(s)\n",
      "\n",
      "  res = super(Function, self).__call__(*new_args, **new_kwargs)\n"
     ]
    },
    {
     "name": "stdout",
     "output_type": "stream",
     "text": [
      "Standardizing Data across genes\n",
      "\n"
     ]
    },
    {
     "name": "stderr",
     "output_type": "stream",
     "text": [
      "/data/nielsond/python/envs/abcd_mine/lib/python3.6/site-packages/rpy2/robjects/functions.py:106: UserWarning: Fitting L/S model and finding priors\n",
      "\n",
      "  res = super(Function, self).__call__(*new_args, **new_kwargs)\n"
     ]
    },
    {
     "name": "stdout",
     "output_type": "stream",
     "text": [
      "Standardizing Data across genes\n",
      "\n"
     ]
    },
    {
     "name": "stderr",
     "output_type": "stream",
     "text": [
      "/data/nielsond/python/envs/abcd_mine/lib/python3.6/site-packages/rpy2/robjects/functions.py:106: UserWarning: Finding nonparametric adjustments\n",
      "\n",
      "  res = super(Function, self).__call__(*new_args, **new_kwargs)\n",
      "/data/nielsond/python/envs/abcd_mine/lib/python3.6/site-packages/rpy2/robjects/functions.py:106: UserWarning: Adjusting the Data\n",
      "\n",
      "\n",
      "  res = super(Function, self).__call__(*new_args, **new_kwargs)\n"
     ]
    },
    {
     "name": "stdout",
     "output_type": "stream",
     "text": [
      "Standardizing Data across genes\n",
      "\n",
      "Standardizing Data across genes\n",
      "\n",
      "Standardizing Data across genes\n",
      "\n",
      "Standardizing Data across genes\n",
      "\n"
     ]
    },
    {
     "name": "stderr",
     "output_type": "stream",
     "text": [
      "/data/nielsond/python/envs/abcd_mine/lib/python3.6/site-packages/rpy2/robjects/functions.py:106: UserWarning: Found10batches\n",
      "\n",
      "  res = super(Function, self).__call__(*new_args, **new_kwargs)\n",
      "/data/nielsond/python/envs/abcd_mine/lib/python3.6/site-packages/rpy2/robjects/functions.py:106: UserWarning: Adjusting for0covariate(s) or covariate level(s)\n",
      "\n",
      "  res = super(Function, self).__call__(*new_args, **new_kwargs)\n"
     ]
    },
    {
     "name": "stdout",
     "output_type": "stream",
     "text": [
      "Standardizing Data across genes\n",
      "\n"
     ]
    },
    {
     "name": "stderr",
     "output_type": "stream",
     "text": [
      "/data/nielsond/python/envs/abcd_mine/lib/python3.6/site-packages/rpy2/robjects/functions.py:106: UserWarning: Fitting L/S model and finding priors\n",
      "\n",
      "  res = super(Function, self).__call__(*new_args, **new_kwargs)\n",
      "/data/nielsond/python/envs/abcd_mine/lib/python3.6/site-packages/rpy2/robjects/functions.py:106: UserWarning: Finding nonparametric adjustments\n",
      "\n",
      "  res = super(Function, self).__call__(*new_args, **new_kwargs)\n",
      "/data/nielsond/python/envs/abcd_mine/lib/python3.6/site-packages/rpy2/robjects/functions.py:106: UserWarning: Adjusting the Data\n",
      "\n",
      "\n",
      "  res = super(Function, self).__call__(*new_args, **new_kwargs)\n"
     ]
    },
    {
     "name": "stdout",
     "output_type": "stream",
     "text": [
      "Standardizing Data across genes\n",
      "\n"
     ]
    },
    {
     "name": "stderr",
     "output_type": "stream",
     "text": [
      "/data/nielsond/python/envs/abcd_mine/lib/python3.6/site-packages/rpy2/robjects/functions.py:106: UserWarning: Adjusting the Data\n",
      "\n",
      "\n",
      "  res = super(Function, self).__call__(*new_args, **new_kwargs)\n",
      "/data/nielsond/python/envs/abcd_mine/lib/python3.6/site-packages/rpy2/robjects/functions.py:106: UserWarning: Found10batches\n",
      "\n",
      "  res = super(Function, self).__call__(*new_args, **new_kwargs)\n",
      "/data/nielsond/python/envs/abcd_mine/lib/python3.6/site-packages/rpy2/robjects/functions.py:106: UserWarning: Adjusting for0covariate(s) or covariate level(s)\n",
      "\n",
      "  res = super(Function, self).__call__(*new_args, **new_kwargs)\n"
     ]
    },
    {
     "name": "stdout",
     "output_type": "stream",
     "text": [
      "Standardizing Data across genes\n",
      "\n",
      "Standardizing Data across genes\n",
      "\n"
     ]
    },
    {
     "name": "stderr",
     "output_type": "stream",
     "text": [
      "/data/nielsond/python/envs/abcd_mine/lib/python3.6/site-packages/rpy2/robjects/functions.py:106: UserWarning: Fitting L/S model and finding priors\n",
      "\n",
      "  res = super(Function, self).__call__(*new_args, **new_kwargs)\n",
      "/data/nielsond/python/envs/abcd_mine/lib/python3.6/site-packages/rpy2/robjects/functions.py:106: UserWarning: Finding nonparametric adjustments\n",
      "\n",
      "  res = super(Function, self).__call__(*new_args, **new_kwargs)\n"
     ]
    },
    {
     "name": "stdout",
     "output_type": "stream",
     "text": [
      "Standardizing Data across genes\n",
      "\n",
      "Standardizing Data across genes\n",
      "\n",
      "Standardizing Data across genes\n",
      "\n",
      "Standardizing Data across genes\n",
      "\n"
     ]
    },
    {
     "name": "stderr",
     "output_type": "stream",
     "text": [
      "/data/nielsond/python/envs/abcd_mine/lib/python3.6/site-packages/rpy2/robjects/functions.py:106: UserWarning: Adjusting the Data\n",
      "\n",
      "\n",
      "  res = super(Function, self).__call__(*new_args, **new_kwargs)\n",
      "/data/nielsond/python/envs/abcd_mine/lib/python3.6/site-packages/rpy2/robjects/functions.py:106: UserWarning: Found10batches\n",
      "\n",
      "  res = super(Function, self).__call__(*new_args, **new_kwargs)\n",
      "/data/nielsond/python/envs/abcd_mine/lib/python3.6/site-packages/rpy2/robjects/functions.py:106: UserWarning: Adjusting for0covariate(s) or covariate level(s)\n",
      "\n",
      "  res = super(Function, self).__call__(*new_args, **new_kwargs)\n"
     ]
    },
    {
     "name": "stdout",
     "output_type": "stream",
     "text": [
      "Standardizing Data across genes\n",
      "\n",
      "Standardizing Data across genes\n",
      "\n"
     ]
    },
    {
     "name": "stderr",
     "output_type": "stream",
     "text": [
      "/data/nielsond/python/envs/abcd_mine/lib/python3.6/site-packages/rpy2/robjects/functions.py:106: UserWarning: Fitting L/S model and finding priors\n",
      "\n",
      "  res = super(Function, self).__call__(*new_args, **new_kwargs)\n",
      "/data/nielsond/python/envs/abcd_mine/lib/python3.6/site-packages/rpy2/robjects/functions.py:106: UserWarning: Finding nonparametric adjustments\n",
      "\n",
      "  res = super(Function, self).__call__(*new_args, **new_kwargs)\n"
     ]
    },
    {
     "name": "stdout",
     "output_type": "stream",
     "text": [
      "Standardizing Data across genes\n",
      "\n"
     ]
    },
    {
     "name": "stderr",
     "output_type": "stream",
     "text": [
      "/data/nielsond/python/envs/abcd_mine/lib/python3.6/site-packages/rpy2/robjects/functions.py:106: UserWarning: Adjusting the Data\n",
      "\n",
      "\n",
      "  res = super(Function, self).__call__(*new_args, **new_kwargs)\n",
      "/data/nielsond/python/envs/abcd_mine/lib/python3.6/site-packages/rpy2/robjects/functions.py:106: UserWarning: Found10batches\n",
      "\n",
      "  res = super(Function, self).__call__(*new_args, **new_kwargs)\n",
      "/data/nielsond/python/envs/abcd_mine/lib/python3.6/site-packages/rpy2/robjects/functions.py:106: UserWarning: Adjusting for0covariate(s) or covariate level(s)\n",
      "\n",
      "  res = super(Function, self).__call__(*new_args, **new_kwargs)\n"
     ]
    },
    {
     "name": "stdout",
     "output_type": "stream",
     "text": [
      "Standardizing Data across genes\n",
      "\n"
     ]
    },
    {
     "name": "stderr",
     "output_type": "stream",
     "text": [
      "/data/nielsond/python/envs/abcd_mine/lib/python3.6/site-packages/rpy2/robjects/functions.py:106: UserWarning: Fitting L/S model and finding priors\n",
      "\n",
      "  res = super(Function, self).__call__(*new_args, **new_kwargs)\n"
     ]
    },
    {
     "name": "stdout",
     "output_type": "stream",
     "text": [
      "Standardizing Data across genes\n",
      "\n"
     ]
    },
    {
     "name": "stderr",
     "output_type": "stream",
     "text": [
      "/data/nielsond/python/envs/abcd_mine/lib/python3.6/site-packages/rpy2/robjects/functions.py:106: UserWarning: Finding nonparametric adjustments\n",
      "\n",
      "  res = super(Function, self).__call__(*new_args, **new_kwargs)\n"
     ]
    },
    {
     "name": "stdout",
     "output_type": "stream",
     "text": [
      "Standardizing Data across genes\n",
      "\n",
      "Standardizing Data across genes\n",
      "\n"
     ]
    },
    {
     "name": "stderr",
     "output_type": "stream",
     "text": [
      "/data/nielsond/python/envs/abcd_mine/lib/python3.6/site-packages/rpy2/robjects/functions.py:106: UserWarning: Found10batches\n",
      "\n",
      "  res = super(Function, self).__call__(*new_args, **new_kwargs)\n",
      "/data/nielsond/python/envs/abcd_mine/lib/python3.6/site-packages/rpy2/robjects/functions.py:106: UserWarning: Adjusting for0covariate(s) or covariate level(s)\n",
      "\n",
      "  res = super(Function, self).__call__(*new_args, **new_kwargs)\n"
     ]
    },
    {
     "name": "stdout",
     "output_type": "stream",
     "text": [
      "Standardizing Data across genes\n",
      "\n"
     ]
    },
    {
     "name": "stderr",
     "output_type": "stream",
     "text": [
      "/data/nielsond/python/envs/abcd_mine/lib/python3.6/site-packages/rpy2/robjects/functions.py:106: UserWarning: Fitting L/S model and finding priors\n",
      "\n",
      "  res = super(Function, self).__call__(*new_args, **new_kwargs)\n",
      "/data/nielsond/python/envs/abcd_mine/lib/python3.6/site-packages/rpy2/robjects/functions.py:106: UserWarning: Finding nonparametric adjustments\n",
      "\n",
      "  res = super(Function, self).__call__(*new_args, **new_kwargs)\n"
     ]
    },
    {
     "name": "stdout",
     "output_type": "stream",
     "text": [
      "Standardizing Data across genes\n",
      "\n",
      "Standardizing Data across genes\n",
      "\n"
     ]
    },
    {
     "name": "stderr",
     "output_type": "stream",
     "text": [
      "/data/nielsond/python/envs/abcd_mine/lib/python3.6/site-packages/rpy2/robjects/functions.py:106: UserWarning: Adjusting the Data\n",
      "\n",
      "\n",
      "  res = super(Function, self).__call__(*new_args, **new_kwargs)\n"
     ]
    },
    {
     "name": "stdout",
     "output_type": "stream",
     "text": [
      "Standardizing Data across genes\n",
      "\n",
      "Standardizing Data across genes\n",
      "\n"
     ]
    },
    {
     "name": "stderr",
     "output_type": "stream",
     "text": [
      "/data/nielsond/python/envs/abcd_mine/lib/python3.6/site-packages/rpy2/robjects/functions.py:106: UserWarning: Found10batches\n",
      "\n",
      "  res = super(Function, self).__call__(*new_args, **new_kwargs)\n",
      "/data/nielsond/python/envs/abcd_mine/lib/python3.6/site-packages/rpy2/robjects/functions.py:106: UserWarning: Adjusting for0covariate(s) or covariate level(s)\n",
      "\n",
      "  res = super(Function, self).__call__(*new_args, **new_kwargs)\n"
     ]
    },
    {
     "name": "stdout",
     "output_type": "stream",
     "text": [
      "Standardizing Data across genes\n",
      "\n"
     ]
    },
    {
     "name": "stderr",
     "output_type": "stream",
     "text": [
      "/data/nielsond/python/envs/abcd_mine/lib/python3.6/site-packages/rpy2/robjects/functions.py:106: UserWarning: Fitting L/S model and finding priors\n",
      "\n",
      "  res = super(Function, self).__call__(*new_args, **new_kwargs)\n",
      "/data/nielsond/python/envs/abcd_mine/lib/python3.6/site-packages/rpy2/robjects/functions.py:106: UserWarning: Finding nonparametric adjustments\n",
      "\n",
      "  res = super(Function, self).__call__(*new_args, **new_kwargs)\n",
      "/data/nielsond/python/envs/abcd_mine/lib/python3.6/site-packages/rpy2/robjects/functions.py:106: UserWarning: Adjusting the Data\n",
      "\n",
      "\n",
      "  res = super(Function, self).__call__(*new_args, **new_kwargs)\n",
      "/data/nielsond/python/envs/abcd_mine/lib/python3.6/site-packages/rpy2/robjects/functions.py:106: UserWarning: Found10batches\n",
      "\n",
      "  res = super(Function, self).__call__(*new_args, **new_kwargs)\n",
      "/data/nielsond/python/envs/abcd_mine/lib/python3.6/site-packages/rpy2/robjects/functions.py:106: UserWarning: Adjusting for0covariate(s) or covariate level(s)\n",
      "\n",
      "  res = super(Function, self).__call__(*new_args, **new_kwargs)\n"
     ]
    },
    {
     "name": "stdout",
     "output_type": "stream",
     "text": [
      "Standardizing Data across genes\n",
      "\n",
      "Standardizing Data across genes\n",
      "\n"
     ]
    },
    {
     "name": "stderr",
     "output_type": "stream",
     "text": [
      "/data/nielsond/python/envs/abcd_mine/lib/python3.6/site-packages/rpy2/robjects/functions.py:106: UserWarning: Fitting L/S model and finding priors\n",
      "\n",
      "  res = super(Function, self).__call__(*new_args, **new_kwargs)\n",
      "/data/nielsond/python/envs/abcd_mine/lib/python3.6/site-packages/rpy2/robjects/functions.py:106: UserWarning: Finding nonparametric adjustments\n",
      "\n",
      "  res = super(Function, self).__call__(*new_args, **new_kwargs)\n"
     ]
    },
    {
     "name": "stdout",
     "output_type": "stream",
     "text": [
      "Standardizing Data across genes\n",
      "\n"
     ]
    },
    {
     "name": "stderr",
     "output_type": "stream",
     "text": [
      "/data/nielsond/python/envs/abcd_mine/lib/python3.6/site-packages/rpy2/robjects/functions.py:106: UserWarning: Adjusting the Data\n",
      "\n",
      "\n",
      "  res = super(Function, self).__call__(*new_args, **new_kwargs)\n"
     ]
    },
    {
     "name": "stdout",
     "output_type": "stream",
     "text": [
      "Standardizing Data across genes\n",
      "\n",
      "Standardizing Data across genes\n",
      "\n",
      "Standardizing Data across genes\n",
      "\n",
      "Standardizing Data across genes\n",
      "\n",
      "Standardizing Data across genes\n",
      "\n",
      "Standardizing Data across genes\n",
      "\n"
     ]
    },
    {
     "name": "stderr",
     "output_type": "stream",
     "text": [
      "/data/nielsond/python/envs/abcd_mine/lib/python3.6/site-packages/rpy2/robjects/functions.py:106: UserWarning: Adjusting the Data\n",
      "\n",
      "\n",
      "  res = super(Function, self).__call__(*new_args, **new_kwargs)\n"
     ]
    },
    {
     "name": "stdout",
     "output_type": "stream",
     "text": [
      "Standardizing Data across genes\n",
      "\n",
      "Standardizing Data across genes\n",
      "\n",
      "Standardizing Data across genes\n",
      "\n"
     ]
    },
    {
     "name": "stderr",
     "output_type": "stream",
     "text": [
      "/data/nielsond/python/envs/abcd_mine/lib/python3.6/site-packages/rpy2/robjects/functions.py:106: UserWarning: Adjusting the Data\n",
      "\n",
      "\n",
      "  res = super(Function, self).__call__(*new_args, **new_kwargs)\n"
     ]
    },
    {
     "name": "stdout",
     "output_type": "stream",
     "text": [
      "Standardizing Data across genes\n",
      "\n"
     ]
    },
    {
     "name": "stderr",
     "output_type": "stream",
     "text": [
      "/data/nielsond/python/envs/abcd_mine/lib/python3.6/site-packages/rpy2/robjects/functions.py:106: UserWarning: Adjusting the Data\n",
      "\n",
      "\n",
      "  res = super(Function, self).__call__(*new_args, **new_kwargs)\n"
     ]
    },
    {
     "name": "stdout",
     "output_type": "stream",
     "text": [
      "Standardizing Data across genes\n",
      "\n",
      "Standardizing Data across genes\n",
      "\n",
      "Standardizing Data across genes\n",
      "\n",
      "Standardizing Data across genes\n",
      "\n",
      "Standardizing Data across genes\n",
      "\n",
      "Standardizing Data across genes\n",
      "\n",
      "Standardizing Data across genes\n",
      "\n",
      "Standardizing Data across genes\n",
      "\n",
      "Standardizing Data across genes\n",
      "\n",
      "Standardizing Data across genes\n",
      "\n",
      "Standardizing Data across genes\n",
      "\n",
      "[Parallel(n_jobs=20)]: Done 201 tasks      | elapsed: 18.0min\n"
     ]
    },
    {
     "name": "stderr",
     "output_type": "stream",
     "text": [
      "/data/nielsond/python/envs/abcd_mine/lib/python3.6/site-packages/rpy2/robjects/functions.py:106: UserWarning: Found10batches\n",
      "\n",
      "  res = super(Function, self).__call__(*new_args, **new_kwargs)\n",
      "/data/nielsond/python/envs/abcd_mine/lib/python3.6/site-packages/rpy2/robjects/functions.py:106: UserWarning: Adjusting for0covariate(s) or covariate level(s)\n",
      "\n",
      "  res = super(Function, self).__call__(*new_args, **new_kwargs)\n"
     ]
    },
    {
     "name": "stdout",
     "output_type": "stream",
     "text": [
      "Standardizing Data across genes\n",
      "\n"
     ]
    },
    {
     "name": "stderr",
     "output_type": "stream",
     "text": [
      "/data/nielsond/python/envs/abcd_mine/lib/python3.6/site-packages/rpy2/robjects/functions.py:106: UserWarning: Fitting L/S model and finding priors\n",
      "\n",
      "  res = super(Function, self).__call__(*new_args, **new_kwargs)\n",
      "/data/nielsond/python/envs/abcd_mine/lib/python3.6/site-packages/rpy2/robjects/functions.py:106: UserWarning: Finding nonparametric adjustments\n",
      "\n",
      "  res = super(Function, self).__call__(*new_args, **new_kwargs)\n",
      "/data/nielsond/python/envs/abcd_mine/lib/python3.6/site-packages/rpy2/robjects/functions.py:106: UserWarning: Adjusting the Data\n",
      "\n",
      "\n",
      "  res = super(Function, self).__call__(*new_args, **new_kwargs)\n"
     ]
    },
    {
     "name": "stdout",
     "output_type": "stream",
     "text": [
      "Standardizing Data across genes\n",
      "\n",
      "Standardizing Data across genes\n",
      "\n",
      "[Parallel(n_jobs=20)]: Done 202 tasks      | elapsed: 18.1min\n"
     ]
    },
    {
     "name": "stderr",
     "output_type": "stream",
     "text": [
      "/data/nielsond/python/envs/abcd_mine/lib/python3.6/site-packages/rpy2/robjects/functions.py:106: UserWarning: Found10batches\n",
      "\n",
      "  res = super(Function, self).__call__(*new_args, **new_kwargs)\n",
      "/data/nielsond/python/envs/abcd_mine/lib/python3.6/site-packages/rpy2/robjects/functions.py:106: UserWarning: Adjusting for0covariate(s) or covariate level(s)\n",
      "\n",
      "  res = super(Function, self).__call__(*new_args, **new_kwargs)\n"
     ]
    },
    {
     "name": "stdout",
     "output_type": "stream",
     "text": [
      "Standardizing Data across genes\n",
      "\n"
     ]
    },
    {
     "name": "stderr",
     "output_type": "stream",
     "text": [
      "/data/nielsond/python/envs/abcd_mine/lib/python3.6/site-packages/rpy2/robjects/functions.py:106: UserWarning: Fitting L/S model and finding priors\n",
      "\n",
      "  res = super(Function, self).__call__(*new_args, **new_kwargs)\n",
      "/data/nielsond/python/envs/abcd_mine/lib/python3.6/site-packages/rpy2/robjects/functions.py:106: UserWarning: Finding nonparametric adjustments\n",
      "\n",
      "  res = super(Function, self).__call__(*new_args, **new_kwargs)\n"
     ]
    },
    {
     "name": "stdout",
     "output_type": "stream",
     "text": [
      "Standardizing Data across genes\n",
      "\n"
     ]
    },
    {
     "name": "stderr",
     "output_type": "stream",
     "text": [
      "/data/nielsond/python/envs/abcd_mine/lib/python3.6/site-packages/rpy2/robjects/functions.py:106: UserWarning: Adjusting the Data\n",
      "\n",
      "\n",
      "  res = super(Function, self).__call__(*new_args, **new_kwargs)\n"
     ]
    },
    {
     "name": "stdout",
     "output_type": "stream",
     "text": [
      "Standardizing Data across genes\n",
      "\n",
      "Standardizing Data across genes\n",
      "\n",
      "Standardizing Data across genes\n",
      "\n",
      "[Parallel(n_jobs=20)]: Done 203 tasks      | elapsed: 18.6min\n"
     ]
    },
    {
     "name": "stderr",
     "output_type": "stream",
     "text": [
      "/data/nielsond/python/envs/abcd_mine/lib/python3.6/site-packages/rpy2/robjects/functions.py:106: UserWarning: Found10batches\n",
      "\n",
      "  res = super(Function, self).__call__(*new_args, **new_kwargs)\n",
      "/data/nielsond/python/envs/abcd_mine/lib/python3.6/site-packages/rpy2/robjects/functions.py:106: UserWarning: Adjusting for0covariate(s) or covariate level(s)\n",
      "\n",
      "  res = super(Function, self).__call__(*new_args, **new_kwargs)\n"
     ]
    },
    {
     "name": "stdout",
     "output_type": "stream",
     "text": [
      "Standardizing Data across genes\n",
      "\n"
     ]
    },
    {
     "name": "stderr",
     "output_type": "stream",
     "text": [
      "/data/nielsond/python/envs/abcd_mine/lib/python3.6/site-packages/rpy2/robjects/functions.py:106: UserWarning: Fitting L/S model and finding priors\n",
      "\n",
      "  res = super(Function, self).__call__(*new_args, **new_kwargs)\n",
      "/data/nielsond/python/envs/abcd_mine/lib/python3.6/site-packages/rpy2/robjects/functions.py:106: UserWarning: Finding nonparametric adjustments\n",
      "\n",
      "  res = super(Function, self).__call__(*new_args, **new_kwargs)\n",
      "/data/nielsond/python/envs/abcd_mine/lib/python3.6/site-packages/rpy2/robjects/functions.py:106: UserWarning: Adjusting the Data\n",
      "\n",
      "\n",
      "  res = super(Function, self).__call__(*new_args, **new_kwargs)\n"
     ]
    },
    {
     "name": "stdout",
     "output_type": "stream",
     "text": [
      "Standardizing Data across genes\n",
      "\n",
      "Standardizing Data across genes\n",
      "\n",
      "Standardizing Data across genes\n",
      "\n",
      "[Parallel(n_jobs=20)]: Done 204 tasks      | elapsed: 19.0min\n"
     ]
    },
    {
     "name": "stderr",
     "output_type": "stream",
     "text": [
      "/data/nielsond/python/envs/abcd_mine/lib/python3.6/site-packages/rpy2/robjects/functions.py:106: UserWarning: Found10batches\n",
      "\n",
      "  res = super(Function, self).__call__(*new_args, **new_kwargs)\n",
      "/data/nielsond/python/envs/abcd_mine/lib/python3.6/site-packages/rpy2/robjects/functions.py:106: UserWarning: Adjusting for0covariate(s) or covariate level(s)\n",
      "\n",
      "  res = super(Function, self).__call__(*new_args, **new_kwargs)\n"
     ]
    },
    {
     "name": "stdout",
     "output_type": "stream",
     "text": [
      "Standardizing Data across genes\n",
      "\n"
     ]
    },
    {
     "name": "stderr",
     "output_type": "stream",
     "text": [
      "/data/nielsond/python/envs/abcd_mine/lib/python3.6/site-packages/rpy2/robjects/functions.py:106: UserWarning: Fitting L/S model and finding priors\n",
      "\n",
      "  res = super(Function, self).__call__(*new_args, **new_kwargs)\n",
      "/data/nielsond/python/envs/abcd_mine/lib/python3.6/site-packages/rpy2/robjects/functions.py:106: UserWarning: Finding nonparametric adjustments\n",
      "\n",
      "  res = super(Function, self).__call__(*new_args, **new_kwargs)\n",
      "/data/nielsond/python/envs/abcd_mine/lib/python3.6/site-packages/rpy2/robjects/functions.py:106: UserWarning: Adjusting the Data\n",
      "\n",
      "\n",
      "  res = super(Function, self).__call__(*new_args, **new_kwargs)\n"
     ]
    },
    {
     "name": "stdout",
     "output_type": "stream",
     "text": [
      "Standardizing Data across genes\n",
      "\n",
      "Standardizing Data across genes\n",
      "\n",
      "Standardizing Data across genes\n",
      "\n",
      "[Parallel(n_jobs=20)]: Done 205 tasks      | elapsed: 20.1min\n"
     ]
    },
    {
     "name": "stderr",
     "output_type": "stream",
     "text": [
      "/data/nielsond/python/envs/abcd_mine/lib/python3.6/site-packages/rpy2/robjects/functions.py:106: UserWarning: Found10batches\n",
      "\n",
      "  res = super(Function, self).__call__(*new_args, **new_kwargs)\n",
      "/data/nielsond/python/envs/abcd_mine/lib/python3.6/site-packages/rpy2/robjects/functions.py:106: UserWarning: Adjusting for0covariate(s) or covariate level(s)\n",
      "\n",
      "  res = super(Function, self).__call__(*new_args, **new_kwargs)\n"
     ]
    },
    {
     "name": "stdout",
     "output_type": "stream",
     "text": [
      "Standardizing Data across genes\n",
      "\n"
     ]
    },
    {
     "name": "stderr",
     "output_type": "stream",
     "text": [
      "/data/nielsond/python/envs/abcd_mine/lib/python3.6/site-packages/rpy2/robjects/functions.py:106: UserWarning: Fitting L/S model and finding priors\n",
      "\n",
      "  res = super(Function, self).__call__(*new_args, **new_kwargs)\n",
      "/data/nielsond/python/envs/abcd_mine/lib/python3.6/site-packages/rpy2/robjects/functions.py:106: UserWarning: Finding nonparametric adjustments\n",
      "\n",
      "  res = super(Function, self).__call__(*new_args, **new_kwargs)\n",
      "/data/nielsond/python/envs/abcd_mine/lib/python3.6/site-packages/rpy2/robjects/functions.py:106: UserWarning: Adjusting the Data\n",
      "\n",
      "\n",
      "  res = super(Function, self).__call__(*new_args, **new_kwargs)\n"
     ]
    },
    {
     "name": "stdout",
     "output_type": "stream",
     "text": [
      "Standardizing Data across genes\n",
      "\n",
      "Standardizing Data across genes\n",
      "\n",
      "Standardizing Data across genes\n",
      "\n",
      "[Parallel(n_jobs=20)]: Done 206 tasks      | elapsed: 22.7min\n"
     ]
    },
    {
     "name": "stderr",
     "output_type": "stream",
     "text": [
      "/data/nielsond/python/envs/abcd_mine/lib/python3.6/site-packages/rpy2/robjects/functions.py:106: UserWarning: Found10batches\n",
      "\n",
      "  res = super(Function, self).__call__(*new_args, **new_kwargs)\n",
      "/data/nielsond/python/envs/abcd_mine/lib/python3.6/site-packages/rpy2/robjects/functions.py:106: UserWarning: Adjusting for0covariate(s) or covariate level(s)\n",
      "\n",
      "  res = super(Function, self).__call__(*new_args, **new_kwargs)\n"
     ]
    },
    {
     "name": "stdout",
     "output_type": "stream",
     "text": [
      "Standardizing Data across genes\n",
      "\n"
     ]
    },
    {
     "name": "stderr",
     "output_type": "stream",
     "text": [
      "/data/nielsond/python/envs/abcd_mine/lib/python3.6/site-packages/rpy2/robjects/functions.py:106: UserWarning: Fitting L/S model and finding priors\n",
      "\n",
      "  res = super(Function, self).__call__(*new_args, **new_kwargs)\n",
      "/data/nielsond/python/envs/abcd_mine/lib/python3.6/site-packages/rpy2/robjects/functions.py:106: UserWarning: Finding nonparametric adjustments\n",
      "\n",
      "  res = super(Function, self).__call__(*new_args, **new_kwargs)\n",
      "/data/nielsond/python/envs/abcd_mine/lib/python3.6/site-packages/rpy2/robjects/functions.py:106: UserWarning: Adjusting the Data\n",
      "\n",
      "\n",
      "  res = super(Function, self).__call__(*new_args, **new_kwargs)\n"
     ]
    },
    {
     "name": "stdout",
     "output_type": "stream",
     "text": [
      "Standardizing Data across genes\n",
      "\n",
      "Standardizing Data across genes\n",
      "\n",
      "Standardizing Data across genes\n",
      "\n"
     ]
    },
    {
     "name": "stderr",
     "output_type": "stream",
     "text": [
      "/data/nielsond/python/envs/abcd_mine/lib/python3.6/site-packages/sklearn/linear_model/sag.py:326: ConvergenceWarning: The max_iter was reached which means the coef_ did not converge\n",
      "  \"the coef_ did not converge\", ConvergenceWarning)\n",
      "/data/nielsond/python/envs/abcd_mine/lib/python3.6/site-packages/sklearn/linear_model/sag.py:326: ConvergenceWarning: The max_iter was reached which means the coef_ did not converge\n",
      "  \"the coef_ did not converge\", ConvergenceWarning)\n",
      "/data/nielsond/python/envs/abcd_mine/lib/python3.6/site-packages/sklearn/linear_model/sag.py:326: ConvergenceWarning: The max_iter was reached which means the coef_ did not converge\n",
      "  \"the coef_ did not converge\", ConvergenceWarning)\n",
      "/data/nielsond/python/envs/abcd_mine/lib/python3.6/site-packages/sklearn/linear_model/sag.py:326: ConvergenceWarning: The max_iter was reached which means the coef_ did not converge\n",
      "  \"the coef_ did not converge\", ConvergenceWarning)\n",
      "/data/nielsond/python/envs/abcd_mine/lib/python3.6/site-packages/sklearn/linear_model/sag.py:326: ConvergenceWarning: The max_iter was reached which means the coef_ did not converge\n",
      "  \"the coef_ did not converge\", ConvergenceWarning)\n",
      "/data/nielsond/python/envs/abcd_mine/lib/python3.6/site-packages/sklearn/linear_model/sag.py:326: ConvergenceWarning: The max_iter was reached which means the coef_ did not converge\n",
      "  \"the coef_ did not converge\", ConvergenceWarning)\n",
      "/data/nielsond/python/envs/abcd_mine/lib/python3.6/site-packages/sklearn/linear_model/sag.py:326: ConvergenceWarning: The max_iter was reached which means the coef_ did not converge\n",
      "  \"the coef_ did not converge\", ConvergenceWarning)\n",
      "/data/nielsond/python/envs/abcd_mine/lib/python3.6/site-packages/sklearn/linear_model/sag.py:326: ConvergenceWarning: The max_iter was reached which means the coef_ did not converge\n",
      "  \"the coef_ did not converge\", ConvergenceWarning)\n",
      "/data/nielsond/python/envs/abcd_mine/lib/python3.6/site-packages/sklearn/linear_model/sag.py:326: ConvergenceWarning: The max_iter was reached which means the coef_ did not converge\n",
      "  \"the coef_ did not converge\", ConvergenceWarning)\n",
      "/data/nielsond/python/envs/abcd_mine/lib/python3.6/site-packages/sklearn/linear_model/sag.py:326: ConvergenceWarning: The max_iter was reached which means the coef_ did not converge\n",
      "  \"the coef_ did not converge\", ConvergenceWarning)\n",
      "/data/nielsond/python/envs/abcd_mine/lib/python3.6/site-packages/sklearn/linear_model/sag.py:326: ConvergenceWarning: The max_iter was reached which means the coef_ did not converge\n",
      "  \"the coef_ did not converge\", ConvergenceWarning)\n",
      "/data/nielsond/python/envs/abcd_mine/lib/python3.6/site-packages/sklearn/linear_model/sag.py:326: ConvergenceWarning: The max_iter was reached which means the coef_ did not converge\n",
      "  \"the coef_ did not converge\", ConvergenceWarning)\n",
      "/data/nielsond/python/envs/abcd_mine/lib/python3.6/site-packages/sklearn/linear_model/sag.py:326: ConvergenceWarning: The max_iter was reached which means the coef_ did not converge\n",
      "  \"the coef_ did not converge\", ConvergenceWarning)\n",
      "/data/nielsond/python/envs/abcd_mine/lib/python3.6/site-packages/sklearn/linear_model/sag.py:326: ConvergenceWarning: The max_iter was reached which means the coef_ did not converge\n",
      "  \"the coef_ did not converge\", ConvergenceWarning)\n",
      "/data/nielsond/python/envs/abcd_mine/lib/python3.6/site-packages/sklearn/linear_model/sag.py:326: ConvergenceWarning: The max_iter was reached which means the coef_ did not converge\n",
      "  \"the coef_ did not converge\", ConvergenceWarning)\n",
      "/data/nielsond/python/envs/abcd_mine/lib/python3.6/site-packages/sklearn/linear_model/sag.py:326: ConvergenceWarning: The max_iter was reached which means the coef_ did not converge\n",
      "  \"the coef_ did not converge\", ConvergenceWarning)\n",
      "/data/nielsond/python/envs/abcd_mine/lib/python3.6/site-packages/sklearn/linear_model/sag.py:326: ConvergenceWarning: The max_iter was reached which means the coef_ did not converge\n",
      "  \"the coef_ did not converge\", ConvergenceWarning)\n"
     ]
    },
    {
     "name": "stdout",
     "output_type": "stream",
     "text": [
      "[Parallel(n_jobs=20)]: Done 207 tasks      | elapsed: 56.5min\n"
     ]
    },
    {
     "name": "stderr",
     "output_type": "stream",
     "text": [
      "/data/nielsond/python/envs/abcd_mine/lib/python3.6/site-packages/rpy2/robjects/functions.py:106: UserWarning: Found10batches\n",
      "\n",
      "  res = super(Function, self).__call__(*new_args, **new_kwargs)\n",
      "/data/nielsond/python/envs/abcd_mine/lib/python3.6/site-packages/rpy2/robjects/functions.py:106: UserWarning: Adjusting for0covariate(s) or covariate level(s)\n",
      "\n",
      "  res = super(Function, self).__call__(*new_args, **new_kwargs)\n"
     ]
    },
    {
     "name": "stdout",
     "output_type": "stream",
     "text": [
      "Standardizing Data across genes\n",
      "\n"
     ]
    },
    {
     "name": "stderr",
     "output_type": "stream",
     "text": [
      "/data/nielsond/python/envs/abcd_mine/lib/python3.6/site-packages/rpy2/robjects/functions.py:106: UserWarning: Fitting L/S model and finding priors\n",
      "\n",
      "  res = super(Function, self).__call__(*new_args, **new_kwargs)\n",
      "/data/nielsond/python/envs/abcd_mine/lib/python3.6/site-packages/rpy2/robjects/functions.py:106: UserWarning: Finding nonparametric adjustments\n",
      "\n",
      "  res = super(Function, self).__call__(*new_args, **new_kwargs)\n",
      "/data/nielsond/python/envs/abcd_mine/lib/python3.6/site-packages/rpy2/robjects/functions.py:106: UserWarning: Adjusting the Data\n",
      "\n",
      "\n",
      "  res = super(Function, self).__call__(*new_args, **new_kwargs)\n"
     ]
    },
    {
     "name": "stdout",
     "output_type": "stream",
     "text": [
      "Standardizing Data across genes\n",
      "\n",
      "Standardizing Data across genes\n",
      "\n",
      "Standardizing Data across genes\n",
      "\n",
      "[Parallel(n_jobs=20)]: Done 208 tasks      | elapsed: 57.4min\n"
     ]
    },
    {
     "name": "stderr",
     "output_type": "stream",
     "text": [
      "/data/nielsond/python/envs/abcd_mine/lib/python3.6/site-packages/rpy2/robjects/functions.py:106: UserWarning: Found10batches\n",
      "\n",
      "  res = super(Function, self).__call__(*new_args, **new_kwargs)\n",
      "/data/nielsond/python/envs/abcd_mine/lib/python3.6/site-packages/rpy2/robjects/functions.py:106: UserWarning: Adjusting for0covariate(s) or covariate level(s)\n",
      "\n",
      "  res = super(Function, self).__call__(*new_args, **new_kwargs)\n"
     ]
    },
    {
     "name": "stdout",
     "output_type": "stream",
     "text": [
      "Standardizing Data across genes\n",
      "\n"
     ]
    },
    {
     "name": "stderr",
     "output_type": "stream",
     "text": [
      "/data/nielsond/python/envs/abcd_mine/lib/python3.6/site-packages/rpy2/robjects/functions.py:106: UserWarning: Fitting L/S model and finding priors\n",
      "\n",
      "  res = super(Function, self).__call__(*new_args, **new_kwargs)\n",
      "/data/nielsond/python/envs/abcd_mine/lib/python3.6/site-packages/rpy2/robjects/functions.py:106: UserWarning: Finding nonparametric adjustments\n",
      "\n",
      "  res = super(Function, self).__call__(*new_args, **new_kwargs)\n",
      "/data/nielsond/python/envs/abcd_mine/lib/python3.6/site-packages/rpy2/robjects/functions.py:106: UserWarning: Adjusting the Data\n",
      "\n",
      "\n",
      "  res = super(Function, self).__call__(*new_args, **new_kwargs)\n"
     ]
    },
    {
     "name": "stdout",
     "output_type": "stream",
     "text": [
      "Standardizing Data across genes\n",
      "\n",
      "Standardizing Data across genes\n",
      "\n",
      "Standardizing Data across genes\n",
      "\n"
     ]
    },
    {
     "name": "stderr",
     "output_type": "stream",
     "text": [
      "/data/nielsond/python/envs/abcd_mine/lib/python3.6/site-packages/sklearn/linear_model/sag.py:326: ConvergenceWarning: The max_iter was reached which means the coef_ did not converge\n",
      "  \"the coef_ did not converge\", ConvergenceWarning)\n"
     ]
    },
    {
     "name": "stdout",
     "output_type": "stream",
     "text": [
      "[Parallel(n_jobs=20)]: Done 209 tasks      | elapsed: 60.2min\n"
     ]
    },
    {
     "name": "stderr",
     "output_type": "stream",
     "text": [
      "/data/nielsond/python/envs/abcd_mine/lib/python3.6/site-packages/rpy2/robjects/functions.py:106: UserWarning: Found10batches\n",
      "\n",
      "  res = super(Function, self).__call__(*new_args, **new_kwargs)\n",
      "/data/nielsond/python/envs/abcd_mine/lib/python3.6/site-packages/rpy2/robjects/functions.py:106: UserWarning: Adjusting for0covariate(s) or covariate level(s)\n",
      "\n",
      "  res = super(Function, self).__call__(*new_args, **new_kwargs)\n"
     ]
    },
    {
     "name": "stdout",
     "output_type": "stream",
     "text": [
      "Standardizing Data across genes\n",
      "\n"
     ]
    },
    {
     "name": "stderr",
     "output_type": "stream",
     "text": [
      "/data/nielsond/python/envs/abcd_mine/lib/python3.6/site-packages/rpy2/robjects/functions.py:106: UserWarning: Fitting L/S model and finding priors\n",
      "\n",
      "  res = super(Function, self).__call__(*new_args, **new_kwargs)\n",
      "/data/nielsond/python/envs/abcd_mine/lib/python3.6/site-packages/rpy2/robjects/functions.py:106: UserWarning: Finding nonparametric adjustments\n",
      "\n",
      "  res = super(Function, self).__call__(*new_args, **new_kwargs)\n",
      "/data/nielsond/python/envs/abcd_mine/lib/python3.6/site-packages/rpy2/robjects/functions.py:106: UserWarning: Adjusting the Data\n",
      "\n",
      "\n",
      "  res = super(Function, self).__call__(*new_args, **new_kwargs)\n"
     ]
    },
    {
     "name": "stdout",
     "output_type": "stream",
     "text": [
      "Standardizing Data across genes\n",
      "\n",
      "Standardizing Data across genes\n",
      "\n",
      "Standardizing Data across genes\n",
      "\n"
     ]
    },
    {
     "name": "stderr",
     "output_type": "stream",
     "text": [
      "/data/nielsond/python/envs/abcd_mine/lib/python3.6/site-packages/sklearn/linear_model/sag.py:326: ConvergenceWarning: The max_iter was reached which means the coef_ did not converge\n",
      "  \"the coef_ did not converge\", ConvergenceWarning)\n"
     ]
    },
    {
     "name": "stdout",
     "output_type": "stream",
     "text": [
      "[Parallel(n_jobs=20)]: Done 210 tasks      | elapsed: 81.7min\n"
     ]
    },
    {
     "name": "stderr",
     "output_type": "stream",
     "text": [
      "/data/nielsond/python/envs/abcd_mine/lib/python3.6/site-packages/rpy2/robjects/functions.py:106: UserWarning: Found10batches\n",
      "\n",
      "  res = super(Function, self).__call__(*new_args, **new_kwargs)\n",
      "/data/nielsond/python/envs/abcd_mine/lib/python3.6/site-packages/rpy2/robjects/functions.py:106: UserWarning: Adjusting for0covariate(s) or covariate level(s)\n",
      "\n",
      "  res = super(Function, self).__call__(*new_args, **new_kwargs)\n"
     ]
    },
    {
     "name": "stdout",
     "output_type": "stream",
     "text": [
      "Standardizing Data across genes\n",
      "\n"
     ]
    },
    {
     "name": "stderr",
     "output_type": "stream",
     "text": [
      "/data/nielsond/python/envs/abcd_mine/lib/python3.6/site-packages/rpy2/robjects/functions.py:106: UserWarning: Fitting L/S model and finding priors\n",
      "\n",
      "  res = super(Function, self).__call__(*new_args, **new_kwargs)\n",
      "/data/nielsond/python/envs/abcd_mine/lib/python3.6/site-packages/rpy2/robjects/functions.py:106: UserWarning: Finding nonparametric adjustments\n",
      "\n",
      "  res = super(Function, self).__call__(*new_args, **new_kwargs)\n",
      "/data/nielsond/python/envs/abcd_mine/lib/python3.6/site-packages/rpy2/robjects/functions.py:106: UserWarning: Adjusting the Data\n",
      "\n",
      "\n",
      "  res = super(Function, self).__call__(*new_args, **new_kwargs)\n"
     ]
    },
    {
     "name": "stdout",
     "output_type": "stream",
     "text": [
      "Standardizing Data across genes\n",
      "\n",
      "Standardizing Data across genes\n",
      "\n",
      "Standardizing Data across genes\n",
      "\n",
      "[Parallel(n_jobs=20)]: Done 211 tasks      | elapsed: 82.7min\n"
     ]
    },
    {
     "name": "stderr",
     "output_type": "stream",
     "text": [
      "/data/nielsond/python/envs/abcd_mine/lib/python3.6/site-packages/rpy2/robjects/functions.py:106: UserWarning: Found10batches\n",
      "\n",
      "  res = super(Function, self).__call__(*new_args, **new_kwargs)\n",
      "/data/nielsond/python/envs/abcd_mine/lib/python3.6/site-packages/rpy2/robjects/functions.py:106: UserWarning: Adjusting for0covariate(s) or covariate level(s)\n",
      "\n",
      "  res = super(Function, self).__call__(*new_args, **new_kwargs)\n"
     ]
    },
    {
     "name": "stdout",
     "output_type": "stream",
     "text": [
      "Standardizing Data across genes\n",
      "\n"
     ]
    },
    {
     "name": "stderr",
     "output_type": "stream",
     "text": [
      "/data/nielsond/python/envs/abcd_mine/lib/python3.6/site-packages/rpy2/robjects/functions.py:106: UserWarning: Fitting L/S model and finding priors\n",
      "\n",
      "  res = super(Function, self).__call__(*new_args, **new_kwargs)\n",
      "/data/nielsond/python/envs/abcd_mine/lib/python3.6/site-packages/rpy2/robjects/functions.py:106: UserWarning: Finding nonparametric adjustments\n",
      "\n",
      "  res = super(Function, self).__call__(*new_args, **new_kwargs)\n",
      "/data/nielsond/python/envs/abcd_mine/lib/python3.6/site-packages/rpy2/robjects/functions.py:106: UserWarning: Adjusting the Data\n",
      "\n",
      "\n",
      "  res = super(Function, self).__call__(*new_args, **new_kwargs)\n"
     ]
    },
    {
     "name": "stdout",
     "output_type": "stream",
     "text": [
      "Standardizing Data across genes\n",
      "\n",
      "Standardizing Data across genes\n",
      "\n",
      "Standardizing Data across genes\n",
      "\n"
     ]
    },
    {
     "name": "stderr",
     "output_type": "stream",
     "text": [
      "/data/nielsond/python/envs/abcd_mine/lib/python3.6/site-packages/sklearn/linear_model/sag.py:326: ConvergenceWarning: The max_iter was reached which means the coef_ did not converge\n",
      "  \"the coef_ did not converge\", ConvergenceWarning)\n"
     ]
    },
    {
     "name": "stdout",
     "output_type": "stream",
     "text": [
      "[Parallel(n_jobs=20)]: Done 212 tasks      | elapsed: 88.5min\n"
     ]
    },
    {
     "name": "stderr",
     "output_type": "stream",
     "text": [
      "/data/nielsond/python/envs/abcd_mine/lib/python3.6/site-packages/rpy2/robjects/functions.py:106: UserWarning: Found10batches\n",
      "\n",
      "  res = super(Function, self).__call__(*new_args, **new_kwargs)\n",
      "/data/nielsond/python/envs/abcd_mine/lib/python3.6/site-packages/rpy2/robjects/functions.py:106: UserWarning: Adjusting for0covariate(s) or covariate level(s)\n",
      "\n",
      "  res = super(Function, self).__call__(*new_args, **new_kwargs)\n"
     ]
    },
    {
     "name": "stdout",
     "output_type": "stream",
     "text": [
      "Standardizing Data across genes\n",
      "\n"
     ]
    },
    {
     "name": "stderr",
     "output_type": "stream",
     "text": [
      "/data/nielsond/python/envs/abcd_mine/lib/python3.6/site-packages/rpy2/robjects/functions.py:106: UserWarning: Fitting L/S model and finding priors\n",
      "\n",
      "  res = super(Function, self).__call__(*new_args, **new_kwargs)\n",
      "/data/nielsond/python/envs/abcd_mine/lib/python3.6/site-packages/rpy2/robjects/functions.py:106: UserWarning: Finding nonparametric adjustments\n",
      "\n",
      "  res = super(Function, self).__call__(*new_args, **new_kwargs)\n",
      "/data/nielsond/python/envs/abcd_mine/lib/python3.6/site-packages/sklearn/linear_model/sag.py:326: ConvergenceWarning: The max_iter was reached which means the coef_ did not converge\n",
      "  \"the coef_ did not converge\", ConvergenceWarning)\n",
      "/data/nielsond/python/envs/abcd_mine/lib/python3.6/site-packages/sklearn/linear_model/sag.py:326: ConvergenceWarning: The max_iter was reached which means the coef_ did not converge\n",
      "  \"the coef_ did not converge\", ConvergenceWarning)\n",
      "/data/nielsond/python/envs/abcd_mine/lib/python3.6/site-packages/rpy2/robjects/functions.py:106: UserWarning: Adjusting the Data\n",
      "\n",
      "\n",
      "  res = super(Function, self).__call__(*new_args, **new_kwargs)\n"
     ]
    },
    {
     "name": "stdout",
     "output_type": "stream",
     "text": [
      "Standardizing Data across genes\n",
      "\n",
      "[Parallel(n_jobs=20)]: Done 213 tasks      | elapsed: 88.6min\n"
     ]
    },
    {
     "name": "stderr",
     "output_type": "stream",
     "text": [
      "/data/nielsond/python/envs/abcd_mine/lib/python3.6/site-packages/rpy2/robjects/functions.py:106: UserWarning: Found10batches\n",
      "\n",
      "  res = super(Function, self).__call__(*new_args, **new_kwargs)\n",
      "/data/nielsond/python/envs/abcd_mine/lib/python3.6/site-packages/rpy2/robjects/functions.py:106: UserWarning: Adjusting for0covariate(s) or covariate level(s)\n",
      "\n",
      "  res = super(Function, self).__call__(*new_args, **new_kwargs)\n"
     ]
    },
    {
     "name": "stdout",
     "output_type": "stream",
     "text": [
      "Standardizing Data across genes\n",
      "\n",
      "[Parallel(n_jobs=20)]: Done 214 tasks      | elapsed: 88.6min\n"
     ]
    },
    {
     "name": "stderr",
     "output_type": "stream",
     "text": [
      "/data/nielsond/python/envs/abcd_mine/lib/python3.6/site-packages/rpy2/robjects/functions.py:106: UserWarning: Fitting L/S model and finding priors\n",
      "\n",
      "  res = super(Function, self).__call__(*new_args, **new_kwargs)\n",
      "/data/nielsond/python/envs/abcd_mine/lib/python3.6/site-packages/rpy2/robjects/functions.py:106: UserWarning: Finding nonparametric adjustments\n",
      "\n",
      "  res = super(Function, self).__call__(*new_args, **new_kwargs)\n",
      "/data/nielsond/python/envs/abcd_mine/lib/python3.6/site-packages/rpy2/robjects/functions.py:106: UserWarning: Found10batches\n",
      "\n",
      "  res = super(Function, self).__call__(*new_args, **new_kwargs)\n",
      "/data/nielsond/python/envs/abcd_mine/lib/python3.6/site-packages/rpy2/robjects/functions.py:106: UserWarning: Adjusting for0covariate(s) or covariate level(s)\n",
      "\n",
      "  res = super(Function, self).__call__(*new_args, **new_kwargs)\n"
     ]
    },
    {
     "name": "stdout",
     "output_type": "stream",
     "text": [
      "Standardizing Data across genes\n",
      "\n"
     ]
    },
    {
     "name": "stderr",
     "output_type": "stream",
     "text": [
      "/data/nielsond/python/envs/abcd_mine/lib/python3.6/site-packages/rpy2/robjects/functions.py:106: UserWarning: Fitting L/S model and finding priors\n",
      "\n",
      "  res = super(Function, self).__call__(*new_args, **new_kwargs)\n",
      "/data/nielsond/python/envs/abcd_mine/lib/python3.6/site-packages/rpy2/robjects/functions.py:106: UserWarning: Finding nonparametric adjustments\n",
      "\n",
      "  res = super(Function, self).__call__(*new_args, **new_kwargs)\n"
     ]
    },
    {
     "name": "stdout",
     "output_type": "stream",
     "text": [
      "Standardizing Data across genes\n",
      "\n"
     ]
    },
    {
     "name": "stderr",
     "output_type": "stream",
     "text": [
      "/data/nielsond/python/envs/abcd_mine/lib/python3.6/site-packages/sklearn/linear_model/sag.py:326: ConvergenceWarning: The max_iter was reached which means the coef_ did not converge\n",
      "  \"the coef_ did not converge\", ConvergenceWarning)\n",
      "/data/nielsond/python/envs/abcd_mine/lib/python3.6/site-packages/sklearn/linear_model/sag.py:326: ConvergenceWarning: The max_iter was reached which means the coef_ did not converge\n",
      "  \"the coef_ did not converge\", ConvergenceWarning)\n",
      "/data/nielsond/python/envs/abcd_mine/lib/python3.6/site-packages/sklearn/linear_model/sag.py:326: ConvergenceWarning: The max_iter was reached which means the coef_ did not converge\n",
      "  \"the coef_ did not converge\", ConvergenceWarning)\n"
     ]
    },
    {
     "name": "stdout",
     "output_type": "stream",
     "text": [
      "Standardizing Data across genes\n",
      "\n"
     ]
    },
    {
     "name": "stderr",
     "output_type": "stream",
     "text": [
      "/data/nielsond/python/envs/abcd_mine/lib/python3.6/site-packages/rpy2/robjects/functions.py:106: UserWarning: Adjusting the Data\n",
      "\n",
      "\n",
      "  res = super(Function, self).__call__(*new_args, **new_kwargs)\n"
     ]
    },
    {
     "name": "stdout",
     "output_type": "stream",
     "text": [
      "Standardizing Data across genes\n",
      "\n"
     ]
    },
    {
     "name": "stderr",
     "output_type": "stream",
     "text": [
      "/data/nielsond/python/envs/abcd_mine/lib/python3.6/site-packages/sklearn/linear_model/sag.py:326: ConvergenceWarning: The max_iter was reached which means the coef_ did not converge\n",
      "  \"the coef_ did not converge\", ConvergenceWarning)\n"
     ]
    },
    {
     "name": "stdout",
     "output_type": "stream",
     "text": [
      "[Parallel(n_jobs=20)]: Done 215 tasks      | elapsed: 88.8min\n"
     ]
    },
    {
     "name": "stderr",
     "output_type": "stream",
     "text": [
      "/data/nielsond/python/envs/abcd_mine/lib/python3.6/site-packages/rpy2/robjects/functions.py:106: UserWarning: Found10batches\n",
      "\n",
      "  res = super(Function, self).__call__(*new_args, **new_kwargs)\n",
      "/data/nielsond/python/envs/abcd_mine/lib/python3.6/site-packages/rpy2/robjects/functions.py:106: UserWarning: Adjusting for0covariate(s) or covariate level(s)\n",
      "\n",
      "  res = super(Function, self).__call__(*new_args, **new_kwargs)\n"
     ]
    },
    {
     "name": "stdout",
     "output_type": "stream",
     "text": [
      "Standardizing Data across genes\n",
      "\n"
     ]
    },
    {
     "name": "stderr",
     "output_type": "stream",
     "text": [
      "/data/nielsond/python/envs/abcd_mine/lib/python3.6/site-packages/rpy2/robjects/functions.py:106: UserWarning: Fitting L/S model and finding priors\n",
      "\n",
      "  res = super(Function, self).__call__(*new_args, **new_kwargs)\n"
     ]
    },
    {
     "name": "stdout",
     "output_type": "stream",
     "text": [
      "[Parallel(n_jobs=20)]: Done 216 tasks      | elapsed: 88.8min\n",
      "[Parallel(n_jobs=20)]: Done 217 tasks      | elapsed: 88.8min\n"
     ]
    },
    {
     "name": "stderr",
     "output_type": "stream",
     "text": [
      "/data/nielsond/python/envs/abcd_mine/lib/python3.6/site-packages/rpy2/robjects/functions.py:106: UserWarning: Adjusting the Data\n",
      "\n",
      "\n",
      "  res = super(Function, self).__call__(*new_args, **new_kwargs)\n",
      "/data/nielsond/python/envs/abcd_mine/lib/python3.6/site-packages/rpy2/robjects/functions.py:106: UserWarning: Finding nonparametric adjustments\n",
      "\n",
      "  res = super(Function, self).__call__(*new_args, **new_kwargs)\n"
     ]
    },
    {
     "name": "stdout",
     "output_type": "stream",
     "text": [
      "Standardizing Data across genes\n",
      "\n"
     ]
    },
    {
     "name": "stderr",
     "output_type": "stream",
     "text": [
      "/data/nielsond/python/envs/abcd_mine/lib/python3.6/site-packages/sklearn/linear_model/sag.py:326: ConvergenceWarning: The max_iter was reached which means the coef_ did not converge\n",
      "  \"the coef_ did not converge\", ConvergenceWarning)\n",
      "/data/nielsond/python/envs/abcd_mine/lib/python3.6/site-packages/rpy2/robjects/functions.py:106: UserWarning: Found10batches\n",
      "\n",
      "  res = super(Function, self).__call__(*new_args, **new_kwargs)\n",
      "/data/nielsond/python/envs/abcd_mine/lib/python3.6/site-packages/rpy2/robjects/functions.py:106: UserWarning: Adjusting for0covariate(s) or covariate level(s)\n",
      "\n",
      "  res = super(Function, self).__call__(*new_args, **new_kwargs)\n"
     ]
    },
    {
     "name": "stdout",
     "output_type": "stream",
     "text": [
      "Standardizing Data across genes\n",
      "\n"
     ]
    },
    {
     "name": "stderr",
     "output_type": "stream",
     "text": [
      "/data/nielsond/python/envs/abcd_mine/lib/python3.6/site-packages/rpy2/robjects/functions.py:106: UserWarning: Fitting L/S model and finding priors\n",
      "\n",
      "  res = super(Function, self).__call__(*new_args, **new_kwargs)\n",
      "/data/nielsond/python/envs/abcd_mine/lib/python3.6/site-packages/rpy2/robjects/functions.py:106: UserWarning: Finding nonparametric adjustments\n",
      "\n",
      "  res = super(Function, self).__call__(*new_args, **new_kwargs)\n",
      "/data/nielsond/python/envs/abcd_mine/lib/python3.6/site-packages/rpy2/robjects/functions.py:106: UserWarning: Found10batches\n",
      "\n",
      "  res = super(Function, self).__call__(*new_args, **new_kwargs)\n",
      "/data/nielsond/python/envs/abcd_mine/lib/python3.6/site-packages/rpy2/robjects/functions.py:106: UserWarning: Adjusting for0covariate(s) or covariate level(s)\n",
      "\n",
      "  res = super(Function, self).__call__(*new_args, **new_kwargs)\n"
     ]
    },
    {
     "name": "stdout",
     "output_type": "stream",
     "text": [
      "Standardizing Data across genes\n",
      "\n"
     ]
    },
    {
     "name": "stderr",
     "output_type": "stream",
     "text": [
      "/data/nielsond/python/envs/abcd_mine/lib/python3.6/site-packages/rpy2/robjects/functions.py:106: UserWarning: Fitting L/S model and finding priors\n",
      "\n",
      "  res = super(Function, self).__call__(*new_args, **new_kwargs)\n",
      "/data/nielsond/python/envs/abcd_mine/lib/python3.6/site-packages/rpy2/robjects/functions.py:106: UserWarning: Finding nonparametric adjustments\n",
      "\n",
      "  res = super(Function, self).__call__(*new_args, **new_kwargs)\n"
     ]
    },
    {
     "name": "stdout",
     "output_type": "stream",
     "text": [
      "Standardizing Data across genes\n",
      "\n"
     ]
    },
    {
     "name": "stderr",
     "output_type": "stream",
     "text": [
      "/data/nielsond/python/envs/abcd_mine/lib/python3.6/site-packages/rpy2/robjects/functions.py:106: UserWarning: Adjusting the Data\n",
      "\n",
      "\n",
      "  res = super(Function, self).__call__(*new_args, **new_kwargs)\n"
     ]
    },
    {
     "name": "stdout",
     "output_type": "stream",
     "text": [
      "Standardizing Data across genes\n",
      "\n",
      "[Parallel(n_jobs=20)]: Done 218 tasks      | elapsed: 88.9min\n"
     ]
    },
    {
     "name": "stderr",
     "output_type": "stream",
     "text": [
      "/data/nielsond/python/envs/abcd_mine/lib/python3.6/site-packages/sklearn/linear_model/sag.py:326: ConvergenceWarning: The max_iter was reached which means the coef_ did not converge\n",
      "  \"the coef_ did not converge\", ConvergenceWarning)\n",
      "/data/nielsond/python/envs/abcd_mine/lib/python3.6/site-packages/rpy2/robjects/functions.py:106: UserWarning: Found10batches\n",
      "\n",
      "  res = super(Function, self).__call__(*new_args, **new_kwargs)\n",
      "/data/nielsond/python/envs/abcd_mine/lib/python3.6/site-packages/rpy2/robjects/functions.py:106: UserWarning: Adjusting for0covariate(s) or covariate level(s)\n",
      "\n",
      "  res = super(Function, self).__call__(*new_args, **new_kwargs)\n"
     ]
    },
    {
     "name": "stdout",
     "output_type": "stream",
     "text": [
      "Standardizing Data across genes\n",
      "\n"
     ]
    },
    {
     "name": "stderr",
     "output_type": "stream",
     "text": [
      "/data/nielsond/python/envs/abcd_mine/lib/python3.6/site-packages/rpy2/robjects/functions.py:106: UserWarning: Fitting L/S model and finding priors\n",
      "\n",
      "  res = super(Function, self).__call__(*new_args, **new_kwargs)\n",
      "/data/nielsond/python/envs/abcd_mine/lib/python3.6/site-packages/rpy2/robjects/functions.py:106: UserWarning: Finding nonparametric adjustments\n",
      "\n",
      "  res = super(Function, self).__call__(*new_args, **new_kwargs)\n",
      "/data/nielsond/python/envs/abcd_mine/lib/python3.6/site-packages/rpy2/robjects/functions.py:106: UserWarning: Adjusting the Data\n",
      "\n",
      "\n",
      "  res = super(Function, self).__call__(*new_args, **new_kwargs)\n",
      "/data/nielsond/python/envs/abcd_mine/lib/python3.6/site-packages/sklearn/linear_model/sag.py:326: ConvergenceWarning: The max_iter was reached which means the coef_ did not converge\n",
      "  \"the coef_ did not converge\", ConvergenceWarning)\n"
     ]
    },
    {
     "name": "stdout",
     "output_type": "stream",
     "text": [
      "[Parallel(n_jobs=20)]: Done 219 tasks      | elapsed: 89.0min\n",
      "Standardizing Data across genes\n",
      "\n"
     ]
    },
    {
     "name": "stderr",
     "output_type": "stream",
     "text": [
      "/data/nielsond/python/envs/abcd_mine/lib/python3.6/site-packages/rpy2/robjects/functions.py:106: UserWarning: Found10batches\n",
      "\n",
      "  res = super(Function, self).__call__(*new_args, **new_kwargs)\n"
     ]
    },
    {
     "name": "stdout",
     "output_type": "stream",
     "text": [
      "Standardizing Data across genes\n",
      "\n"
     ]
    },
    {
     "name": "stderr",
     "output_type": "stream",
     "text": [
      "/data/nielsond/python/envs/abcd_mine/lib/python3.6/site-packages/rpy2/robjects/functions.py:106: UserWarning: Adjusting for0covariate(s) or covariate level(s)\n",
      "\n",
      "  res = super(Function, self).__call__(*new_args, **new_kwargs)\n"
     ]
    },
    {
     "name": "stdout",
     "output_type": "stream",
     "text": [
      "Standardizing Data across genes\n",
      "\n"
     ]
    },
    {
     "name": "stderr",
     "output_type": "stream",
     "text": [
      "/data/nielsond/python/envs/abcd_mine/lib/python3.6/site-packages/rpy2/robjects/functions.py:106: UserWarning: Fitting L/S model and finding priors\n",
      "\n",
      "  res = super(Function, self).__call__(*new_args, **new_kwargs)\n",
      "/data/nielsond/python/envs/abcd_mine/lib/python3.6/site-packages/rpy2/robjects/functions.py:106: UserWarning: Finding nonparametric adjustments\n",
      "\n",
      "  res = super(Function, self).__call__(*new_args, **new_kwargs)\n"
     ]
    },
    {
     "name": "stdout",
     "output_type": "stream",
     "text": [
      "Standardizing Data across genes\n",
      "\n"
     ]
    },
    {
     "name": "stderr",
     "output_type": "stream",
     "text": [
      "/data/nielsond/python/envs/abcd_mine/lib/python3.6/site-packages/rpy2/robjects/functions.py:106: UserWarning: Adjusting the Data\n",
      "\n",
      "\n",
      "  res = super(Function, self).__call__(*new_args, **new_kwargs)\n"
     ]
    },
    {
     "name": "stdout",
     "output_type": "stream",
     "text": [
      "Standardizing Data across genes\n",
      "\n",
      "Standardizing Data across genes\n",
      "\n",
      "Standardizing Data across genes\n",
      "\n",
      "[Parallel(n_jobs=20)]: Done 220 tasks      | elapsed: 89.1min\n"
     ]
    },
    {
     "name": "stderr",
     "output_type": "stream",
     "text": [
      "/data/nielsond/python/envs/abcd_mine/lib/python3.6/site-packages/rpy2/robjects/functions.py:106: UserWarning: Found10batches\n",
      "\n",
      "  res = super(Function, self).__call__(*new_args, **new_kwargs)\n",
      "/data/nielsond/python/envs/abcd_mine/lib/python3.6/site-packages/rpy2/robjects/functions.py:106: UserWarning: Adjusting for0covariate(s) or covariate level(s)\n",
      "\n",
      "  res = super(Function, self).__call__(*new_args, **new_kwargs)\n"
     ]
    },
    {
     "name": "stdout",
     "output_type": "stream",
     "text": [
      "Standardizing Data across genes\n",
      "\n"
     ]
    },
    {
     "name": "stderr",
     "output_type": "stream",
     "text": [
      "/data/nielsond/python/envs/abcd_mine/lib/python3.6/site-packages/rpy2/robjects/functions.py:106: UserWarning: Fitting L/S model and finding priors\n",
      "\n",
      "  res = super(Function, self).__call__(*new_args, **new_kwargs)\n",
      "/data/nielsond/python/envs/abcd_mine/lib/python3.6/site-packages/rpy2/robjects/functions.py:106: UserWarning: Finding nonparametric adjustments\n",
      "\n",
      "  res = super(Function, self).__call__(*new_args, **new_kwargs)\n"
     ]
    },
    {
     "name": "stdout",
     "output_type": "stream",
     "text": [
      "[Parallel(n_jobs=20)]: Done 221 tasks      | elapsed: 89.1min\n",
      "Standardizing Data across genes\n",
      "\n",
      "Standardizing Data across genes\n",
      "\n"
     ]
    },
    {
     "name": "stderr",
     "output_type": "stream",
     "text": [
      "/data/nielsond/python/envs/abcd_mine/lib/python3.6/site-packages/rpy2/robjects/functions.py:106: UserWarning: Found10batches\n",
      "\n",
      "  res = super(Function, self).__call__(*new_args, **new_kwargs)\n",
      "/data/nielsond/python/envs/abcd_mine/lib/python3.6/site-packages/rpy2/robjects/functions.py:106: UserWarning: Adjusting for0covariate(s) or covariate level(s)\n",
      "\n",
      "  res = super(Function, self).__call__(*new_args, **new_kwargs)\n"
     ]
    },
    {
     "name": "stdout",
     "output_type": "stream",
     "text": [
      "Standardizing Data across genes\n",
      "\n"
     ]
    },
    {
     "name": "stderr",
     "output_type": "stream",
     "text": [
      "/data/nielsond/python/envs/abcd_mine/lib/python3.6/site-packages/rpy2/robjects/functions.py:106: UserWarning: Fitting L/S model and finding priors\n",
      "\n",
      "  res = super(Function, self).__call__(*new_args, **new_kwargs)\n",
      "/data/nielsond/python/envs/abcd_mine/lib/python3.6/site-packages/rpy2/robjects/functions.py:106: UserWarning: Finding nonparametric adjustments\n",
      "\n",
      "  res = super(Function, self).__call__(*new_args, **new_kwargs)\n",
      "/data/nielsond/python/envs/abcd_mine/lib/python3.6/site-packages/rpy2/robjects/functions.py:106: UserWarning: Adjusting the Data\n",
      "\n",
      "\n",
      "  res = super(Function, self).__call__(*new_args, **new_kwargs)\n",
      "/data/nielsond/python/envs/abcd_mine/lib/python3.6/site-packages/sklearn/linear_model/sag.py:326: ConvergenceWarning: The max_iter was reached which means the coef_ did not converge\n",
      "  \"the coef_ did not converge\", ConvergenceWarning)\n",
      "/data/nielsond/python/envs/abcd_mine/lib/python3.6/site-packages/rpy2/robjects/functions.py:106: UserWarning: Adjusting the Data\n",
      "\n",
      "\n",
      "  res = super(Function, self).__call__(*new_args, **new_kwargs)\n",
      "/data/nielsond/python/envs/abcd_mine/lib/python3.6/site-packages/sklearn/linear_model/sag.py:326: ConvergenceWarning: The max_iter was reached which means the coef_ did not converge\n",
      "  \"the coef_ did not converge\", ConvergenceWarning)\n"
     ]
    },
    {
     "name": "stdout",
     "output_type": "stream",
     "text": [
      "Standardizing Data across genes\n",
      "\n",
      "Standardizing Data across genes\n",
      "\n"
     ]
    },
    {
     "name": "stderr",
     "output_type": "stream",
     "text": [
      "/data/nielsond/python/envs/abcd_mine/lib/python3.6/site-packages/sklearn/linear_model/sag.py:326: ConvergenceWarning: The max_iter was reached which means the coef_ did not converge\n",
      "  \"the coef_ did not converge\", ConvergenceWarning)\n"
     ]
    },
    {
     "name": "stdout",
     "output_type": "stream",
     "text": [
      "[Parallel(n_jobs=20)]: Done 222 tasks      | elapsed: 89.2min\n",
      "Standardizing Data across genes\n",
      "\n"
     ]
    },
    {
     "name": "stderr",
     "output_type": "stream",
     "text": [
      "/data/nielsond/python/envs/abcd_mine/lib/python3.6/site-packages/rpy2/robjects/functions.py:106: UserWarning: Found10batches\n",
      "\n",
      "  res = super(Function, self).__call__(*new_args, **new_kwargs)\n",
      "/data/nielsond/python/envs/abcd_mine/lib/python3.6/site-packages/rpy2/robjects/functions.py:106: UserWarning: Adjusting for0covariate(s) or covariate level(s)\n",
      "\n",
      "  res = super(Function, self).__call__(*new_args, **new_kwargs)\n"
     ]
    },
    {
     "name": "stdout",
     "output_type": "stream",
     "text": [
      "Standardizing Data across genes\n",
      "\n"
     ]
    },
    {
     "name": "stderr",
     "output_type": "stream",
     "text": [
      "/data/nielsond/python/envs/abcd_mine/lib/python3.6/site-packages/rpy2/robjects/functions.py:106: UserWarning: Fitting L/S model and finding priors\n",
      "\n",
      "  res = super(Function, self).__call__(*new_args, **new_kwargs)\n",
      "/data/nielsond/python/envs/abcd_mine/lib/python3.6/site-packages/rpy2/robjects/functions.py:106: UserWarning: Finding nonparametric adjustments\n",
      "\n",
      "  res = super(Function, self).__call__(*new_args, **new_kwargs)\n"
     ]
    },
    {
     "name": "stdout",
     "output_type": "stream",
     "text": [
      "Standardizing Data across genes\n",
      "\n"
     ]
    },
    {
     "name": "stderr",
     "output_type": "stream",
     "text": [
      "/data/nielsond/python/envs/abcd_mine/lib/python3.6/site-packages/rpy2/robjects/functions.py:106: UserWarning: Adjusting the Data\n",
      "\n",
      "\n",
      "  res = super(Function, self).__call__(*new_args, **new_kwargs)\n"
     ]
    },
    {
     "name": "stdout",
     "output_type": "stream",
     "text": [
      "Standardizing Data across genes\n",
      "\n",
      "Standardizing Data across genes\n",
      "\n",
      "[Parallel(n_jobs=20)]: Done 223 tasks      | elapsed: 89.3min\n"
     ]
    },
    {
     "name": "stderr",
     "output_type": "stream",
     "text": [
      "/data/nielsond/python/envs/abcd_mine/lib/python3.6/site-packages/rpy2/robjects/functions.py:106: UserWarning: Found10batches\n",
      "\n",
      "  res = super(Function, self).__call__(*new_args, **new_kwargs)\n",
      "/data/nielsond/python/envs/abcd_mine/lib/python3.6/site-packages/rpy2/robjects/functions.py:106: UserWarning: Adjusting for0covariate(s) or covariate level(s)\n",
      "\n",
      "  res = super(Function, self).__call__(*new_args, **new_kwargs)\n"
     ]
    },
    {
     "name": "stdout",
     "output_type": "stream",
     "text": [
      "Standardizing Data across genes\n",
      "\n"
     ]
    },
    {
     "name": "stderr",
     "output_type": "stream",
     "text": [
      "/data/nielsond/python/envs/abcd_mine/lib/python3.6/site-packages/rpy2/robjects/functions.py:106: UserWarning: Fitting L/S model and finding priors\n",
      "\n",
      "  res = super(Function, self).__call__(*new_args, **new_kwargs)\n",
      "/data/nielsond/python/envs/abcd_mine/lib/python3.6/site-packages/rpy2/robjects/functions.py:106: UserWarning: Finding nonparametric adjustments\n",
      "\n",
      "  res = super(Function, self).__call__(*new_args, **new_kwargs)\n"
     ]
    },
    {
     "name": "stdout",
     "output_type": "stream",
     "text": [
      "[Parallel(n_jobs=20)]: Done 224 tasks      | elapsed: 89.3min\n",
      "Standardizing Data across genes\n",
      "\n"
     ]
    },
    {
     "name": "stderr",
     "output_type": "stream",
     "text": [
      "/data/nielsond/python/envs/abcd_mine/lib/python3.6/site-packages/rpy2/robjects/functions.py:106: UserWarning: Found10batches\n",
      "\n",
      "  res = super(Function, self).__call__(*new_args, **new_kwargs)\n",
      "/data/nielsond/python/envs/abcd_mine/lib/python3.6/site-packages/rpy2/robjects/functions.py:106: UserWarning: Adjusting for0covariate(s) or covariate level(s)\n",
      "\n",
      "  res = super(Function, self).__call__(*new_args, **new_kwargs)\n"
     ]
    },
    {
     "name": "stdout",
     "output_type": "stream",
     "text": [
      "Standardizing Data across genes\n",
      "\n"
     ]
    },
    {
     "name": "stderr",
     "output_type": "stream",
     "text": [
      "/data/nielsond/python/envs/abcd_mine/lib/python3.6/site-packages/rpy2/robjects/functions.py:106: UserWarning: Adjusting the Data\n",
      "\n",
      "\n",
      "  res = super(Function, self).__call__(*new_args, **new_kwargs)\n"
     ]
    },
    {
     "name": "stdout",
     "output_type": "stream",
     "text": [
      "[Parallel(n_jobs=20)]: Done 225 tasks      | elapsed: 89.4min\n"
     ]
    },
    {
     "name": "stderr",
     "output_type": "stream",
     "text": [
      "/data/nielsond/python/envs/abcd_mine/lib/python3.6/site-packages/rpy2/robjects/functions.py:106: UserWarning: Fitting L/S model and finding priors\n",
      "\n",
      "  res = super(Function, self).__call__(*new_args, **new_kwargs)\n"
     ]
    },
    {
     "name": "stdout",
     "output_type": "stream",
     "text": [
      "Standardizing Data across genes\n",
      "\n"
     ]
    },
    {
     "name": "stderr",
     "output_type": "stream",
     "text": [
      "/data/nielsond/python/envs/abcd_mine/lib/python3.6/site-packages/rpy2/robjects/functions.py:106: UserWarning: Finding nonparametric adjustments\n",
      "\n",
      "  res = super(Function, self).__call__(*new_args, **new_kwargs)\n"
     ]
    },
    {
     "name": "stdout",
     "output_type": "stream",
     "text": [
      "Standardizing Data across genes\n",
      "\n"
     ]
    },
    {
     "name": "stderr",
     "output_type": "stream",
     "text": [
      "/data/nielsond/python/envs/abcd_mine/lib/python3.6/site-packages/sklearn/linear_model/sag.py:326: ConvergenceWarning: The max_iter was reached which means the coef_ did not converge\n",
      "  \"the coef_ did not converge\", ConvergenceWarning)\n"
     ]
    },
    {
     "name": "stdout",
     "output_type": "stream",
     "text": [
      "Standardizing Data across genes\n",
      "\n"
     ]
    },
    {
     "name": "stderr",
     "output_type": "stream",
     "text": [
      "/data/nielsond/python/envs/abcd_mine/lib/python3.6/site-packages/rpy2/robjects/functions.py:106: UserWarning: Adjusting the Data\n",
      "\n",
      "\n",
      "  res = super(Function, self).__call__(*new_args, **new_kwargs)\n",
      "/data/nielsond/python/envs/abcd_mine/lib/python3.6/site-packages/rpy2/robjects/functions.py:106: UserWarning: Found10batches\n",
      "\n",
      "  res = super(Function, self).__call__(*new_args, **new_kwargs)\n",
      "/data/nielsond/python/envs/abcd_mine/lib/python3.6/site-packages/rpy2/robjects/functions.py:106: UserWarning: Adjusting for0covariate(s) or covariate level(s)\n",
      "\n",
      "  res = super(Function, self).__call__(*new_args, **new_kwargs)\n"
     ]
    },
    {
     "name": "stdout",
     "output_type": "stream",
     "text": [
      "Standardizing Data across genes\n",
      "\n",
      "Standardizing Data across genes\n",
      "\n"
     ]
    },
    {
     "name": "stderr",
     "output_type": "stream",
     "text": [
      "/data/nielsond/python/envs/abcd_mine/lib/python3.6/site-packages/rpy2/robjects/functions.py:106: UserWarning: Fitting L/S model and finding priors\n",
      "\n",
      "  res = super(Function, self).__call__(*new_args, **new_kwargs)\n",
      "/data/nielsond/python/envs/abcd_mine/lib/python3.6/site-packages/rpy2/robjects/functions.py:106: UserWarning: Finding nonparametric adjustments\n",
      "\n",
      "  res = super(Function, self).__call__(*new_args, **new_kwargs)\n",
      "/data/nielsond/python/envs/abcd_mine/lib/python3.6/site-packages/rpy2/robjects/functions.py:106: UserWarning: Adjusting the Data\n",
      "\n",
      "\n",
      "  res = super(Function, self).__call__(*new_args, **new_kwargs)\n"
     ]
    },
    {
     "name": "stdout",
     "output_type": "stream",
     "text": [
      "Standardizing Data across genes\n",
      "\n",
      "Standardizing Data across genes\n",
      "\n",
      "Standardizing Data across genes\n",
      "\n",
      "[Parallel(n_jobs=20)]: Done 226 tasks      | elapsed: 89.6min\n",
      "Standardizing Data across genes\n",
      "\n"
     ]
    },
    {
     "name": "stderr",
     "output_type": "stream",
     "text": [
      "/data/nielsond/python/envs/abcd_mine/lib/python3.6/site-packages/rpy2/robjects/functions.py:106: UserWarning: Found10batches\n",
      "\n",
      "  res = super(Function, self).__call__(*new_args, **new_kwargs)\n",
      "/data/nielsond/python/envs/abcd_mine/lib/python3.6/site-packages/rpy2/robjects/functions.py:106: UserWarning: Adjusting for0covariate(s) or covariate level(s)\n",
      "\n",
      "  res = super(Function, self).__call__(*new_args, **new_kwargs)\n"
     ]
    },
    {
     "name": "stdout",
     "output_type": "stream",
     "text": [
      "Standardizing Data across genes\n",
      "\n",
      "Standardizing Data across genes\n",
      "\n"
     ]
    },
    {
     "name": "stderr",
     "output_type": "stream",
     "text": [
      "/data/nielsond/python/envs/abcd_mine/lib/python3.6/site-packages/rpy2/robjects/functions.py:106: UserWarning: Fitting L/S model and finding priors\n",
      "\n",
      "  res = super(Function, self).__call__(*new_args, **new_kwargs)\n",
      "/data/nielsond/python/envs/abcd_mine/lib/python3.6/site-packages/rpy2/robjects/functions.py:106: UserWarning: Finding nonparametric adjustments\n",
      "\n",
      "  res = super(Function, self).__call__(*new_args, **new_kwargs)\n"
     ]
    },
    {
     "name": "stdout",
     "output_type": "stream",
     "text": [
      "Standardizing Data across genes\n",
      "\n",
      "Standardizing Data across genes\n",
      "\n",
      "[Parallel(n_jobs=20)]: Done 227 tasks      | elapsed: 89.6min\n"
     ]
    },
    {
     "name": "stderr",
     "output_type": "stream",
     "text": [
      "/data/nielsond/python/envs/abcd_mine/lib/python3.6/site-packages/rpy2/robjects/functions.py:106: UserWarning: Found10batches\n",
      "\n",
      "  res = super(Function, self).__call__(*new_args, **new_kwargs)\n",
      "/data/nielsond/python/envs/abcd_mine/lib/python3.6/site-packages/rpy2/robjects/functions.py:106: UserWarning: Adjusting for0covariate(s) or covariate level(s)\n",
      "\n",
      "  res = super(Function, self).__call__(*new_args, **new_kwargs)\n"
     ]
    },
    {
     "name": "stdout",
     "output_type": "stream",
     "text": [
      "Standardizing Data across genes\n",
      "\n"
     ]
    },
    {
     "name": "stderr",
     "output_type": "stream",
     "text": [
      "/data/nielsond/python/envs/abcd_mine/lib/python3.6/site-packages/rpy2/robjects/functions.py:106: UserWarning: Fitting L/S model and finding priors\n",
      "\n",
      "  res = super(Function, self).__call__(*new_args, **new_kwargs)\n",
      "/data/nielsond/python/envs/abcd_mine/lib/python3.6/site-packages/rpy2/robjects/functions.py:106: UserWarning: Finding nonparametric adjustments\n",
      "\n",
      "  res = super(Function, self).__call__(*new_args, **new_kwargs)\n"
     ]
    },
    {
     "name": "stdout",
     "output_type": "stream",
     "text": [
      "Standardizing Data across genes\n",
      "\n",
      "Standardizing Data across genes\n",
      "\n"
     ]
    },
    {
     "name": "stderr",
     "output_type": "stream",
     "text": [
      "/data/nielsond/python/envs/abcd_mine/lib/python3.6/site-packages/rpy2/robjects/functions.py:106: UserWarning: Adjusting the Data\n",
      "\n",
      "\n",
      "  res = super(Function, self).__call__(*new_args, **new_kwargs)\n"
     ]
    },
    {
     "name": "stdout",
     "output_type": "stream",
     "text": [
      "Standardizing Data across genes\n",
      "\n"
     ]
    },
    {
     "name": "stderr",
     "output_type": "stream",
     "text": [
      "/data/nielsond/python/envs/abcd_mine/lib/python3.6/site-packages/rpy2/robjects/functions.py:106: UserWarning: Adjusting the Data\n",
      "\n",
      "\n",
      "  res = super(Function, self).__call__(*new_args, **new_kwargs)\n"
     ]
    },
    {
     "name": "stdout",
     "output_type": "stream",
     "text": [
      "Standardizing Data across genes\n",
      "\n"
     ]
    },
    {
     "name": "stderr",
     "output_type": "stream",
     "text": [
      "/data/nielsond/python/envs/abcd_mine/lib/python3.6/site-packages/rpy2/robjects/functions.py:106: UserWarning: Adjusting the Data\n",
      "\n",
      "\n",
      "  res = super(Function, self).__call__(*new_args, **new_kwargs)\n"
     ]
    },
    {
     "name": "stdout",
     "output_type": "stream",
     "text": [
      "Standardizing Data across genes\n",
      "\n",
      "Standardizing Data across genes\n",
      "\n",
      "Standardizing Data across genes\n",
      "\n"
     ]
    },
    {
     "name": "stderr",
     "output_type": "stream",
     "text": [
      "/data/nielsond/python/envs/abcd_mine/lib/python3.6/site-packages/rpy2/robjects/functions.py:106: UserWarning: Adjusting the Data\n",
      "\n",
      "\n",
      "  res = super(Function, self).__call__(*new_args, **new_kwargs)\n"
     ]
    },
    {
     "name": "stdout",
     "output_type": "stream",
     "text": [
      "Standardizing Data across genes\n",
      "\n",
      "Standardizing Data across genes\n",
      "\n",
      "Standardizing Data across genes\n",
      "\n",
      "Standardizing Data across genes\n",
      "\n",
      "Standardizing Data across genes\n",
      "\n",
      "Standardizing Data across genes\n",
      "\n",
      "Standardizing Data across genes\n",
      "\n",
      "[Parallel(n_jobs=20)]: Done 228 tasks      | elapsed: 90.0min\n"
     ]
    },
    {
     "name": "stderr",
     "output_type": "stream",
     "text": [
      "/data/nielsond/python/envs/abcd_mine/lib/python3.6/site-packages/rpy2/robjects/functions.py:106: UserWarning: Found10batches\n",
      "\n",
      "  res = super(Function, self).__call__(*new_args, **new_kwargs)\n",
      "/data/nielsond/python/envs/abcd_mine/lib/python3.6/site-packages/rpy2/robjects/functions.py:106: UserWarning: Adjusting for0covariate(s) or covariate level(s)\n",
      "\n",
      "  res = super(Function, self).__call__(*new_args, **new_kwargs)\n"
     ]
    },
    {
     "name": "stdout",
     "output_type": "stream",
     "text": [
      "Standardizing Data across genes\n",
      "\n"
     ]
    },
    {
     "name": "stderr",
     "output_type": "stream",
     "text": [
      "/data/nielsond/python/envs/abcd_mine/lib/python3.6/site-packages/rpy2/robjects/functions.py:106: UserWarning: Fitting L/S model and finding priors\n",
      "\n",
      "  res = super(Function, self).__call__(*new_args, **new_kwargs)\n",
      "/data/nielsond/python/envs/abcd_mine/lib/python3.6/site-packages/rpy2/robjects/functions.py:106: UserWarning: Finding nonparametric adjustments\n",
      "\n",
      "  res = super(Function, self).__call__(*new_args, **new_kwargs)\n"
     ]
    },
    {
     "name": "stdout",
     "output_type": "stream",
     "text": [
      "Standardizing Data across genes\n",
      "\n"
     ]
    },
    {
     "name": "stderr",
     "output_type": "stream",
     "text": [
      "/data/nielsond/python/envs/abcd_mine/lib/python3.6/site-packages/rpy2/robjects/functions.py:106: UserWarning: Adjusting the Data\n",
      "\n",
      "\n",
      "  res = super(Function, self).__call__(*new_args, **new_kwargs)\n"
     ]
    },
    {
     "name": "stdout",
     "output_type": "stream",
     "text": [
      "Standardizing Data across genes\n",
      "\n",
      "Standardizing Data across genes\n",
      "\n",
      "Standardizing Data across genes\n",
      "\n",
      "[Parallel(n_jobs=20)]: Done 229 tasks      | elapsed: 90.4min\n"
     ]
    },
    {
     "name": "stderr",
     "output_type": "stream",
     "text": [
      "/data/nielsond/python/envs/abcd_mine/lib/python3.6/site-packages/rpy2/robjects/functions.py:106: UserWarning: Found10batches\n",
      "\n",
      "  res = super(Function, self).__call__(*new_args, **new_kwargs)\n",
      "/data/nielsond/python/envs/abcd_mine/lib/python3.6/site-packages/rpy2/robjects/functions.py:106: UserWarning: Adjusting for0covariate(s) or covariate level(s)\n",
      "\n",
      "  res = super(Function, self).__call__(*new_args, **new_kwargs)\n"
     ]
    },
    {
     "name": "stdout",
     "output_type": "stream",
     "text": [
      "Standardizing Data across genes\n",
      "\n"
     ]
    },
    {
     "name": "stderr",
     "output_type": "stream",
     "text": [
      "/data/nielsond/python/envs/abcd_mine/lib/python3.6/site-packages/rpy2/robjects/functions.py:106: UserWarning: Fitting L/S model and finding priors\n",
      "\n",
      "  res = super(Function, self).__call__(*new_args, **new_kwargs)\n",
      "/data/nielsond/python/envs/abcd_mine/lib/python3.6/site-packages/rpy2/robjects/functions.py:106: UserWarning: Finding nonparametric adjustments\n",
      "\n",
      "  res = super(Function, self).__call__(*new_args, **new_kwargs)\n",
      "/data/nielsond/python/envs/abcd_mine/lib/python3.6/site-packages/rpy2/robjects/functions.py:106: UserWarning: Adjusting the Data\n",
      "\n",
      "\n",
      "  res = super(Function, self).__call__(*new_args, **new_kwargs)\n"
     ]
    },
    {
     "name": "stdout",
     "output_type": "stream",
     "text": [
      "Standardizing Data across genes\n",
      "\n",
      "[Parallel(n_jobs=20)]: Done 230 tasks      | elapsed: 90.6min\n"
     ]
    },
    {
     "name": "stderr",
     "output_type": "stream",
     "text": [
      "/data/nielsond/python/envs/abcd_mine/lib/python3.6/site-packages/rpy2/robjects/functions.py:106: UserWarning: Found10batches\n",
      "\n",
      "  res = super(Function, self).__call__(*new_args, **new_kwargs)\n",
      "/data/nielsond/python/envs/abcd_mine/lib/python3.6/site-packages/rpy2/robjects/functions.py:106: UserWarning: Adjusting for0covariate(s) or covariate level(s)\n",
      "\n",
      "  res = super(Function, self).__call__(*new_args, **new_kwargs)\n"
     ]
    },
    {
     "name": "stdout",
     "output_type": "stream",
     "text": [
      "Standardizing Data across genes\n",
      "\n",
      "[Parallel(n_jobs=20)]: Done 231 tasks      | elapsed: 90.6min\n"
     ]
    },
    {
     "name": "stderr",
     "output_type": "stream",
     "text": [
      "/data/nielsond/python/envs/abcd_mine/lib/python3.6/site-packages/rpy2/robjects/functions.py:106: UserWarning: Fitting L/S model and finding priors\n",
      "\n",
      "  res = super(Function, self).__call__(*new_args, **new_kwargs)\n",
      "/data/nielsond/python/envs/abcd_mine/lib/python3.6/site-packages/rpy2/robjects/functions.py:106: UserWarning: Finding nonparametric adjustments\n",
      "\n",
      "  res = super(Function, self).__call__(*new_args, **new_kwargs)\n",
      "/data/nielsond/python/envs/abcd_mine/lib/python3.6/site-packages/rpy2/robjects/functions.py:106: UserWarning: Found10batches\n",
      "\n",
      "  res = super(Function, self).__call__(*new_args, **new_kwargs)\n",
      "/data/nielsond/python/envs/abcd_mine/lib/python3.6/site-packages/rpy2/robjects/functions.py:106: UserWarning: Adjusting for0covariate(s) or covariate level(s)\n",
      "\n",
      "  res = super(Function, self).__call__(*new_args, **new_kwargs)\n"
     ]
    },
    {
     "name": "stdout",
     "output_type": "stream",
     "text": [
      "Standardizing Data across genes\n",
      "\n"
     ]
    },
    {
     "name": "stderr",
     "output_type": "stream",
     "text": [
      "/data/nielsond/python/envs/abcd_mine/lib/python3.6/site-packages/rpy2/robjects/functions.py:106: UserWarning: Fitting L/S model and finding priors\n",
      "\n",
      "  res = super(Function, self).__call__(*new_args, **new_kwargs)\n",
      "/data/nielsond/python/envs/abcd_mine/lib/python3.6/site-packages/rpy2/robjects/functions.py:106: UserWarning: Finding nonparametric adjustments\n",
      "\n",
      "  res = super(Function, self).__call__(*new_args, **new_kwargs)\n"
     ]
    },
    {
     "name": "stdout",
     "output_type": "stream",
     "text": [
      "Standardizing Data across genes\n",
      "\n"
     ]
    },
    {
     "name": "stderr",
     "output_type": "stream",
     "text": [
      "/data/nielsond/python/envs/abcd_mine/lib/python3.6/site-packages/rpy2/robjects/functions.py:106: UserWarning: Adjusting the Data\n",
      "\n",
      "\n",
      "  res = super(Function, self).__call__(*new_args, **new_kwargs)\n"
     ]
    },
    {
     "name": "stdout",
     "output_type": "stream",
     "text": [
      "Standardizing Data across genes\n",
      "\n",
      "Standardizing Data across genes\n",
      "\n"
     ]
    },
    {
     "name": "stderr",
     "output_type": "stream",
     "text": [
      "/data/nielsond/python/envs/abcd_mine/lib/python3.6/site-packages/rpy2/robjects/functions.py:106: UserWarning: Adjusting the Data\n",
      "\n",
      "\n",
      "  res = super(Function, self).__call__(*new_args, **new_kwargs)\n"
     ]
    },
    {
     "name": "stdout",
     "output_type": "stream",
     "text": [
      "Standardizing Data across genes\n",
      "\n",
      "Standardizing Data across genes\n",
      "\n",
      "Standardizing Data across genes\n",
      "\n",
      "Standardizing Data across genes\n",
      "\n"
     ]
    },
    {
     "name": "stderr",
     "output_type": "stream",
     "text": [
      "/data/nielsond/python/envs/abcd_mine/lib/python3.6/site-packages/sklearn/linear_model/sag.py:326: ConvergenceWarning: The max_iter was reached which means the coef_ did not converge\n",
      "  \"the coef_ did not converge\", ConvergenceWarning)\n"
     ]
    },
    {
     "name": "stdout",
     "output_type": "stream",
     "text": [
      "Standardizing Data across genes\n",
      "\n",
      "[Parallel(n_jobs=20)]: Done 232 tasks      | elapsed: 91.2min\n"
     ]
    },
    {
     "name": "stderr",
     "output_type": "stream",
     "text": [
      "/data/nielsond/python/envs/abcd_mine/lib/python3.6/site-packages/rpy2/robjects/functions.py:106: UserWarning: Found10batches\n",
      "\n",
      "  res = super(Function, self).__call__(*new_args, **new_kwargs)\n",
      "/data/nielsond/python/envs/abcd_mine/lib/python3.6/site-packages/rpy2/robjects/functions.py:106: UserWarning: Adjusting for0covariate(s) or covariate level(s)\n",
      "\n",
      "  res = super(Function, self).__call__(*new_args, **new_kwargs)\n"
     ]
    },
    {
     "name": "stdout",
     "output_type": "stream",
     "text": [
      "Standardizing Data across genes\n",
      "\n"
     ]
    },
    {
     "name": "stderr",
     "output_type": "stream",
     "text": [
      "/data/nielsond/python/envs/abcd_mine/lib/python3.6/site-packages/rpy2/robjects/functions.py:106: UserWarning: Fitting L/S model and finding priors\n",
      "\n",
      "  res = super(Function, self).__call__(*new_args, **new_kwargs)\n",
      "/data/nielsond/python/envs/abcd_mine/lib/python3.6/site-packages/rpy2/robjects/functions.py:106: UserWarning: Finding nonparametric adjustments\n",
      "\n",
      "  res = super(Function, self).__call__(*new_args, **new_kwargs)\n",
      "/data/nielsond/python/envs/abcd_mine/lib/python3.6/site-packages/rpy2/robjects/functions.py:106: UserWarning: Adjusting the Data\n",
      "\n",
      "\n",
      "  res = super(Function, self).__call__(*new_args, **new_kwargs)\n"
     ]
    },
    {
     "name": "stdout",
     "output_type": "stream",
     "text": [
      "Standardizing Data across genes\n",
      "\n",
      "Standardizing Data across genes\n",
      "\n",
      "Standardizing Data across genes\n",
      "\n",
      "[Parallel(n_jobs=20)]: Done 233 tasks      | elapsed: 92.8min\n"
     ]
    },
    {
     "name": "stderr",
     "output_type": "stream",
     "text": [
      "/data/nielsond/python/envs/abcd_mine/lib/python3.6/site-packages/rpy2/robjects/functions.py:106: UserWarning: Found10batches\n",
      "\n",
      "  res = super(Function, self).__call__(*new_args, **new_kwargs)\n",
      "/data/nielsond/python/envs/abcd_mine/lib/python3.6/site-packages/rpy2/robjects/functions.py:106: UserWarning: Adjusting for0covariate(s) or covariate level(s)\n",
      "\n",
      "  res = super(Function, self).__call__(*new_args, **new_kwargs)\n"
     ]
    },
    {
     "name": "stdout",
     "output_type": "stream",
     "text": [
      "Standardizing Data across genes\n",
      "\n"
     ]
    },
    {
     "name": "stderr",
     "output_type": "stream",
     "text": [
      "/data/nielsond/python/envs/abcd_mine/lib/python3.6/site-packages/rpy2/robjects/functions.py:106: UserWarning: Fitting L/S model and finding priors\n",
      "\n",
      "  res = super(Function, self).__call__(*new_args, **new_kwargs)\n",
      "/data/nielsond/python/envs/abcd_mine/lib/python3.6/site-packages/rpy2/robjects/functions.py:106: UserWarning: Finding nonparametric adjustments\n",
      "\n",
      "  res = super(Function, self).__call__(*new_args, **new_kwargs)\n",
      "/data/nielsond/python/envs/abcd_mine/lib/python3.6/site-packages/sklearn/linear_model/sag.py:326: ConvergenceWarning: The max_iter was reached which means the coef_ did not converge\n",
      "  \"the coef_ did not converge\", ConvergenceWarning)\n",
      "/data/nielsond/python/envs/abcd_mine/lib/python3.6/site-packages/rpy2/robjects/functions.py:106: UserWarning: Adjusting the Data\n",
      "\n",
      "\n",
      "  res = super(Function, self).__call__(*new_args, **new_kwargs)\n"
     ]
    },
    {
     "name": "stdout",
     "output_type": "stream",
     "text": [
      "Standardizing Data across genes\n",
      "\n",
      "Standardizing Data across genes\n",
      "\n",
      "Standardizing Data across genes\n",
      "\n"
     ]
    },
    {
     "name": "stderr",
     "output_type": "stream",
     "text": [
      "/data/nielsond/python/envs/abcd_mine/lib/python3.6/site-packages/sklearn/linear_model/sag.py:326: ConvergenceWarning: The max_iter was reached which means the coef_ did not converge\n",
      "  \"the coef_ did not converge\", ConvergenceWarning)\n",
      "/data/nielsond/python/envs/abcd_mine/lib/python3.6/site-packages/sklearn/linear_model/sag.py:326: ConvergenceWarning: The max_iter was reached which means the coef_ did not converge\n",
      "  \"the coef_ did not converge\", ConvergenceWarning)\n"
     ]
    },
    {
     "name": "stdout",
     "output_type": "stream",
     "text": [
      "[Parallel(n_jobs=20)]: Done 234 tasks      | elapsed: 94.7min\n"
     ]
    },
    {
     "name": "stderr",
     "output_type": "stream",
     "text": [
      "/data/nielsond/python/envs/abcd_mine/lib/python3.6/site-packages/rpy2/robjects/functions.py:106: UserWarning: Found10batches\n",
      "\n",
      "  res = super(Function, self).__call__(*new_args, **new_kwargs)\n",
      "/data/nielsond/python/envs/abcd_mine/lib/python3.6/site-packages/rpy2/robjects/functions.py:106: UserWarning: Adjusting for0covariate(s) or covariate level(s)\n",
      "\n",
      "  res = super(Function, self).__call__(*new_args, **new_kwargs)\n"
     ]
    },
    {
     "name": "stdout",
     "output_type": "stream",
     "text": [
      "Standardizing Data across genes\n",
      "\n"
     ]
    },
    {
     "name": "stderr",
     "output_type": "stream",
     "text": [
      "/data/nielsond/python/envs/abcd_mine/lib/python3.6/site-packages/rpy2/robjects/functions.py:106: UserWarning: Fitting L/S model and finding priors\n",
      "\n",
      "  res = super(Function, self).__call__(*new_args, **new_kwargs)\n",
      "/data/nielsond/python/envs/abcd_mine/lib/python3.6/site-packages/rpy2/robjects/functions.py:106: UserWarning: Finding nonparametric adjustments\n",
      "\n",
      "  res = super(Function, self).__call__(*new_args, **new_kwargs)\n",
      "/data/nielsond/python/envs/abcd_mine/lib/python3.6/site-packages/rpy2/robjects/functions.py:106: UserWarning: Adjusting the Data\n",
      "\n",
      "\n",
      "  res = super(Function, self).__call__(*new_args, **new_kwargs)\n"
     ]
    },
    {
     "name": "stdout",
     "output_type": "stream",
     "text": [
      "Standardizing Data across genes\n",
      "\n",
      "Standardizing Data across genes\n",
      "\n",
      "Standardizing Data across genes\n",
      "\n"
     ]
    },
    {
     "name": "stderr",
     "output_type": "stream",
     "text": [
      "/data/nielsond/python/envs/abcd_mine/lib/python3.6/site-packages/sklearn/linear_model/sag.py:326: ConvergenceWarning: The max_iter was reached which means the coef_ did not converge\n",
      "  \"the coef_ did not converge\", ConvergenceWarning)\n"
     ]
    },
    {
     "name": "stdout",
     "output_type": "stream",
     "text": [
      "[Parallel(n_jobs=20)]: Done 235 tasks      | elapsed: 97.5min\n"
     ]
    },
    {
     "name": "stderr",
     "output_type": "stream",
     "text": [
      "/data/nielsond/python/envs/abcd_mine/lib/python3.6/site-packages/rpy2/robjects/functions.py:106: UserWarning: Found10batches\n",
      "\n",
      "  res = super(Function, self).__call__(*new_args, **new_kwargs)\n",
      "/data/nielsond/python/envs/abcd_mine/lib/python3.6/site-packages/rpy2/robjects/functions.py:106: UserWarning: Adjusting for0covariate(s) or covariate level(s)\n",
      "\n",
      "  res = super(Function, self).__call__(*new_args, **new_kwargs)\n"
     ]
    },
    {
     "name": "stdout",
     "output_type": "stream",
     "text": [
      "Standardizing Data across genes\n",
      "\n"
     ]
    },
    {
     "name": "stderr",
     "output_type": "stream",
     "text": [
      "/data/nielsond/python/envs/abcd_mine/lib/python3.6/site-packages/rpy2/robjects/functions.py:106: UserWarning: Fitting L/S model and finding priors\n",
      "\n",
      "  res = super(Function, self).__call__(*new_args, **new_kwargs)\n",
      "/data/nielsond/python/envs/abcd_mine/lib/python3.6/site-packages/rpy2/robjects/functions.py:106: UserWarning: Finding nonparametric adjustments\n",
      "\n",
      "  res = super(Function, self).__call__(*new_args, **new_kwargs)\n",
      "/data/nielsond/python/envs/abcd_mine/lib/python3.6/site-packages/rpy2/robjects/functions.py:106: UserWarning: Adjusting the Data\n",
      "\n",
      "\n",
      "  res = super(Function, self).__call__(*new_args, **new_kwargs)\n"
     ]
    },
    {
     "name": "stdout",
     "output_type": "stream",
     "text": [
      "Standardizing Data across genes\n",
      "\n",
      "Standardizing Data across genes\n",
      "\n",
      "Standardizing Data across genes\n",
      "\n",
      "[Parallel(n_jobs=20)]: Done 236 tasks      | elapsed: 98.2min\n"
     ]
    },
    {
     "name": "stderr",
     "output_type": "stream",
     "text": [
      "/data/nielsond/python/envs/abcd_mine/lib/python3.6/site-packages/rpy2/robjects/functions.py:106: UserWarning: Found10batches\n",
      "\n",
      "  res = super(Function, self).__call__(*new_args, **new_kwargs)\n",
      "/data/nielsond/python/envs/abcd_mine/lib/python3.6/site-packages/rpy2/robjects/functions.py:106: UserWarning: Adjusting for0covariate(s) or covariate level(s)\n",
      "\n",
      "  res = super(Function, self).__call__(*new_args, **new_kwargs)\n"
     ]
    },
    {
     "name": "stdout",
     "output_type": "stream",
     "text": [
      "Standardizing Data across genes\n",
      "\n"
     ]
    },
    {
     "name": "stderr",
     "output_type": "stream",
     "text": [
      "/data/nielsond/python/envs/abcd_mine/lib/python3.6/site-packages/rpy2/robjects/functions.py:106: UserWarning: Fitting L/S model and finding priors\n",
      "\n",
      "  res = super(Function, self).__call__(*new_args, **new_kwargs)\n",
      "/data/nielsond/python/envs/abcd_mine/lib/python3.6/site-packages/rpy2/robjects/functions.py:106: UserWarning: Finding nonparametric adjustments\n",
      "\n",
      "  res = super(Function, self).__call__(*new_args, **new_kwargs)\n",
      "/data/nielsond/python/envs/abcd_mine/lib/python3.6/site-packages/rpy2/robjects/functions.py:106: UserWarning: Adjusting the Data\n",
      "\n",
      "\n",
      "  res = super(Function, self).__call__(*new_args, **new_kwargs)\n"
     ]
    },
    {
     "name": "stdout",
     "output_type": "stream",
     "text": [
      "Standardizing Data across genes\n",
      "\n",
      "Standardizing Data across genes\n",
      "\n",
      "Standardizing Data across genes\n",
      "\n",
      "[Parallel(n_jobs=20)]: Done 237 tasks      | elapsed: 114.0min\n"
     ]
    },
    {
     "name": "stderr",
     "output_type": "stream",
     "text": [
      "/data/nielsond/python/envs/abcd_mine/lib/python3.6/site-packages/rpy2/robjects/functions.py:106: UserWarning: Found10batches\n",
      "\n",
      "  res = super(Function, self).__call__(*new_args, **new_kwargs)\n",
      "/data/nielsond/python/envs/abcd_mine/lib/python3.6/site-packages/rpy2/robjects/functions.py:106: UserWarning: Adjusting for0covariate(s) or covariate level(s)\n",
      "\n",
      "  res = super(Function, self).__call__(*new_args, **new_kwargs)\n"
     ]
    },
    {
     "name": "stdout",
     "output_type": "stream",
     "text": [
      "Standardizing Data across genes\n",
      "\n"
     ]
    },
    {
     "name": "stderr",
     "output_type": "stream",
     "text": [
      "/data/nielsond/python/envs/abcd_mine/lib/python3.6/site-packages/rpy2/robjects/functions.py:106: UserWarning: Fitting L/S model and finding priors\n",
      "\n",
      "  res = super(Function, self).__call__(*new_args, **new_kwargs)\n",
      "/data/nielsond/python/envs/abcd_mine/lib/python3.6/site-packages/rpy2/robjects/functions.py:106: UserWarning: Finding nonparametric adjustments\n",
      "\n",
      "  res = super(Function, self).__call__(*new_args, **new_kwargs)\n",
      "/data/nielsond/python/envs/abcd_mine/lib/python3.6/site-packages/rpy2/robjects/functions.py:106: UserWarning: Adjusting the Data\n",
      "\n",
      "\n",
      "  res = super(Function, self).__call__(*new_args, **new_kwargs)\n"
     ]
    },
    {
     "name": "stdout",
     "output_type": "stream",
     "text": [
      "Standardizing Data across genes\n",
      "\n",
      "Standardizing Data across genes\n",
      "\n",
      "Standardizing Data across genes\n",
      "\n"
     ]
    },
    {
     "name": "stderr",
     "output_type": "stream",
     "text": [
      "/data/nielsond/python/envs/abcd_mine/lib/python3.6/site-packages/sklearn/linear_model/sag.py:326: ConvergenceWarning: The max_iter was reached which means the coef_ did not converge\n",
      "  \"the coef_ did not converge\", ConvergenceWarning)\n",
      "/data/nielsond/python/envs/abcd_mine/lib/python3.6/site-packages/sklearn/linear_model/sag.py:326: ConvergenceWarning: The max_iter was reached which means the coef_ did not converge\n",
      "  \"the coef_ did not converge\", ConvergenceWarning)\n",
      "/data/nielsond/python/envs/abcd_mine/lib/python3.6/site-packages/sklearn/linear_model/sag.py:326: ConvergenceWarning: The max_iter was reached which means the coef_ did not converge\n",
      "  \"the coef_ did not converge\", ConvergenceWarning)\n",
      "/data/nielsond/python/envs/abcd_mine/lib/python3.6/site-packages/sklearn/linear_model/sag.py:326: ConvergenceWarning: The max_iter was reached which means the coef_ did not converge\n",
      "  \"the coef_ did not converge\", ConvergenceWarning)\n",
      "/data/nielsond/python/envs/abcd_mine/lib/python3.6/site-packages/sklearn/linear_model/sag.py:326: ConvergenceWarning: The max_iter was reached which means the coef_ did not converge\n",
      "  \"the coef_ did not converge\", ConvergenceWarning)\n",
      "/data/nielsond/python/envs/abcd_mine/lib/python3.6/site-packages/sklearn/linear_model/sag.py:326: ConvergenceWarning: The max_iter was reached which means the coef_ did not converge\n",
      "  \"the coef_ did not converge\", ConvergenceWarning)\n",
      "/data/nielsond/python/envs/abcd_mine/lib/python3.6/site-packages/sklearn/linear_model/sag.py:326: ConvergenceWarning: The max_iter was reached which means the coef_ did not converge\n",
      "  \"the coef_ did not converge\", ConvergenceWarning)\n",
      "/data/nielsond/python/envs/abcd_mine/lib/python3.6/site-packages/sklearn/linear_model/sag.py:326: ConvergenceWarning: The max_iter was reached which means the coef_ did not converge\n",
      "  \"the coef_ did not converge\", ConvergenceWarning)\n",
      "/data/nielsond/python/envs/abcd_mine/lib/python3.6/site-packages/sklearn/linear_model/sag.py:326: ConvergenceWarning: The max_iter was reached which means the coef_ did not converge\n",
      "  \"the coef_ did not converge\", ConvergenceWarning)\n"
     ]
    },
    {
     "name": "stdout",
     "output_type": "stream",
     "text": [
      "[Parallel(n_jobs=20)]: Done 238 tasks      | elapsed: 126.5min\n"
     ]
    },
    {
     "name": "stderr",
     "output_type": "stream",
     "text": [
      "/data/nielsond/python/envs/abcd_mine/lib/python3.6/site-packages/rpy2/robjects/functions.py:106: UserWarning: Found10batches\n",
      "\n",
      "  res = super(Function, self).__call__(*new_args, **new_kwargs)\n",
      "/data/nielsond/python/envs/abcd_mine/lib/python3.6/site-packages/rpy2/robjects/functions.py:106: UserWarning: Adjusting for0covariate(s) or covariate level(s)\n",
      "\n",
      "  res = super(Function, self).__call__(*new_args, **new_kwargs)\n"
     ]
    },
    {
     "name": "stdout",
     "output_type": "stream",
     "text": [
      "Standardizing Data across genes\n",
      "\n"
     ]
    },
    {
     "name": "stderr",
     "output_type": "stream",
     "text": [
      "/data/nielsond/python/envs/abcd_mine/lib/python3.6/site-packages/rpy2/robjects/functions.py:106: UserWarning: Fitting L/S model and finding priors\n",
      "\n",
      "  res = super(Function, self).__call__(*new_args, **new_kwargs)\n",
      "/data/nielsond/python/envs/abcd_mine/lib/python3.6/site-packages/rpy2/robjects/functions.py:106: UserWarning: Finding nonparametric adjustments\n",
      "\n",
      "  res = super(Function, self).__call__(*new_args, **new_kwargs)\n",
      "/data/nielsond/python/envs/abcd_mine/lib/python3.6/site-packages/rpy2/robjects/functions.py:106: UserWarning: Adjusting the Data\n",
      "\n",
      "\n",
      "  res = super(Function, self).__call__(*new_args, **new_kwargs)\n"
     ]
    },
    {
     "name": "stdout",
     "output_type": "stream",
     "text": [
      "Standardizing Data across genes\n",
      "\n"
     ]
    },
    {
     "name": "stderr",
     "output_type": "stream",
     "text": [
      "/data/nielsond/python/envs/abcd_mine/lib/python3.6/site-packages/sklearn/linear_model/sag.py:326: ConvergenceWarning: The max_iter was reached which means the coef_ did not converge\n",
      "  \"the coef_ did not converge\", ConvergenceWarning)\n"
     ]
    },
    {
     "name": "stdout",
     "output_type": "stream",
     "text": [
      "Standardizing Data across genes\n",
      "\n"
     ]
    },
    {
     "name": "stderr",
     "output_type": "stream",
     "text": [
      "/data/nielsond/python/envs/abcd_mine/lib/python3.6/site-packages/sklearn/linear_model/sag.py:326: ConvergenceWarning: The max_iter was reached which means the coef_ did not converge\n",
      "  \"the coef_ did not converge\", ConvergenceWarning)\n"
     ]
    },
    {
     "name": "stdout",
     "output_type": "stream",
     "text": [
      "Standardizing Data across genes\n",
      "\n"
     ]
    },
    {
     "name": "stderr",
     "output_type": "stream",
     "text": [
      "/data/nielsond/python/envs/abcd_mine/lib/python3.6/site-packages/sklearn/linear_model/sag.py:326: ConvergenceWarning: The max_iter was reached which means the coef_ did not converge\n",
      "  \"the coef_ did not converge\", ConvergenceWarning)\n"
     ]
    },
    {
     "name": "stdout",
     "output_type": "stream",
     "text": [
      "[Parallel(n_jobs=20)]: Done 239 tasks      | elapsed: 127.4min\n"
     ]
    },
    {
     "name": "stderr",
     "output_type": "stream",
     "text": [
      "/data/nielsond/python/envs/abcd_mine/lib/python3.6/site-packages/sklearn/linear_model/sag.py:326: ConvergenceWarning: The max_iter was reached which means the coef_ did not converge\n",
      "  \"the coef_ did not converge\", ConvergenceWarning)\n",
      "/data/nielsond/python/envs/abcd_mine/lib/python3.6/site-packages/rpy2/robjects/functions.py:106: UserWarning: Found10batches\n",
      "\n",
      "  res = super(Function, self).__call__(*new_args, **new_kwargs)\n",
      "/data/nielsond/python/envs/abcd_mine/lib/python3.6/site-packages/rpy2/robjects/functions.py:106: UserWarning: Adjusting for0covariate(s) or covariate level(s)\n",
      "\n",
      "  res = super(Function, self).__call__(*new_args, **new_kwargs)\n"
     ]
    },
    {
     "name": "stdout",
     "output_type": "stream",
     "text": [
      "Standardizing Data across genes\n",
      "\n"
     ]
    },
    {
     "name": "stderr",
     "output_type": "stream",
     "text": [
      "/data/nielsond/python/envs/abcd_mine/lib/python3.6/site-packages/rpy2/robjects/functions.py:106: UserWarning: Fitting L/S model and finding priors\n",
      "\n",
      "  res = super(Function, self).__call__(*new_args, **new_kwargs)\n",
      "/data/nielsond/python/envs/abcd_mine/lib/python3.6/site-packages/rpy2/robjects/functions.py:106: UserWarning: Finding nonparametric adjustments\n",
      "\n",
      "  res = super(Function, self).__call__(*new_args, **new_kwargs)\n",
      "/data/nielsond/python/envs/abcd_mine/lib/python3.6/site-packages/rpy2/robjects/functions.py:106: UserWarning: Adjusting the Data\n",
      "\n",
      "\n",
      "  res = super(Function, self).__call__(*new_args, **new_kwargs)\n"
     ]
    },
    {
     "name": "stdout",
     "output_type": "stream",
     "text": [
      "Standardizing Data across genes\n",
      "\n",
      "Standardizing Data across genes\n",
      "\n",
      "Standardizing Data across genes\n",
      "\n",
      "[Parallel(n_jobs=20)]: Done 240 tasks      | elapsed: 128.2min\n"
     ]
    },
    {
     "name": "stderr",
     "output_type": "stream",
     "text": [
      "/data/nielsond/python/envs/abcd_mine/lib/python3.6/site-packages/rpy2/robjects/functions.py:106: UserWarning: Found10batches\n",
      "\n",
      "  res = super(Function, self).__call__(*new_args, **new_kwargs)\n",
      "/data/nielsond/python/envs/abcd_mine/lib/python3.6/site-packages/rpy2/robjects/functions.py:106: UserWarning: Adjusting for0covariate(s) or covariate level(s)\n",
      "\n",
      "  res = super(Function, self).__call__(*new_args, **new_kwargs)\n"
     ]
    },
    {
     "name": "stdout",
     "output_type": "stream",
     "text": [
      "Standardizing Data across genes\n",
      "\n"
     ]
    },
    {
     "name": "stderr",
     "output_type": "stream",
     "text": [
      "/data/nielsond/python/envs/abcd_mine/lib/python3.6/site-packages/rpy2/robjects/functions.py:106: UserWarning: Fitting L/S model and finding priors\n",
      "\n",
      "  res = super(Function, self).__call__(*new_args, **new_kwargs)\n",
      "/data/nielsond/python/envs/abcd_mine/lib/python3.6/site-packages/rpy2/robjects/functions.py:106: UserWarning: Finding nonparametric adjustments\n",
      "\n",
      "  res = super(Function, self).__call__(*new_args, **new_kwargs)\n",
      "/data/nielsond/python/envs/abcd_mine/lib/python3.6/site-packages/rpy2/robjects/functions.py:106: UserWarning: Adjusting the Data\n",
      "\n",
      "\n",
      "  res = super(Function, self).__call__(*new_args, **new_kwargs)\n"
     ]
    },
    {
     "name": "stdout",
     "output_type": "stream",
     "text": [
      "Standardizing Data across genes\n",
      "\n",
      "Standardizing Data across genes\n",
      "\n",
      "Standardizing Data across genes\n",
      "\n"
     ]
    },
    {
     "name": "stderr",
     "output_type": "stream",
     "text": [
      "/data/nielsond/python/envs/abcd_mine/lib/python3.6/site-packages/sklearn/linear_model/sag.py:326: ConvergenceWarning: The max_iter was reached which means the coef_ did not converge\n",
      "  \"the coef_ did not converge\", ConvergenceWarning)\n"
     ]
    },
    {
     "name": "stdout",
     "output_type": "stream",
     "text": [
      "[Parallel(n_jobs=20)]: Done 241 tasks      | elapsed: 128.9min\n"
     ]
    },
    {
     "name": "stderr",
     "output_type": "stream",
     "text": [
      "/data/nielsond/python/envs/abcd_mine/lib/python3.6/site-packages/rpy2/robjects/functions.py:106: UserWarning: Found10batches\n",
      "\n",
      "  res = super(Function, self).__call__(*new_args, **new_kwargs)\n",
      "/data/nielsond/python/envs/abcd_mine/lib/python3.6/site-packages/rpy2/robjects/functions.py:106: UserWarning: Adjusting for0covariate(s) or covariate level(s)\n",
      "\n",
      "  res = super(Function, self).__call__(*new_args, **new_kwargs)\n"
     ]
    },
    {
     "name": "stdout",
     "output_type": "stream",
     "text": [
      "Standardizing Data across genes\n",
      "\n"
     ]
    },
    {
     "name": "stderr",
     "output_type": "stream",
     "text": [
      "/data/nielsond/python/envs/abcd_mine/lib/python3.6/site-packages/rpy2/robjects/functions.py:106: UserWarning: Fitting L/S model and finding priors\n",
      "\n",
      "  res = super(Function, self).__call__(*new_args, **new_kwargs)\n",
      "/data/nielsond/python/envs/abcd_mine/lib/python3.6/site-packages/rpy2/robjects/functions.py:106: UserWarning: Finding nonparametric adjustments\n",
      "\n",
      "  res = super(Function, self).__call__(*new_args, **new_kwargs)\n",
      "/data/nielsond/python/envs/abcd_mine/lib/python3.6/site-packages/rpy2/robjects/functions.py:106: UserWarning: Adjusting the Data\n",
      "\n",
      "\n",
      "  res = super(Function, self).__call__(*new_args, **new_kwargs)\n"
     ]
    },
    {
     "name": "stdout",
     "output_type": "stream",
     "text": [
      "Standardizing Data across genes\n",
      "\n",
      "Standardizing Data across genes\n",
      "\n",
      "Standardizing Data across genes\n",
      "\n"
     ]
    },
    {
     "name": "stderr",
     "output_type": "stream",
     "text": [
      "/data/nielsond/python/envs/abcd_mine/lib/python3.6/site-packages/sklearn/linear_model/sag.py:326: ConvergenceWarning: The max_iter was reached which means the coef_ did not converge\n",
      "  \"the coef_ did not converge\", ConvergenceWarning)\n"
     ]
    },
    {
     "name": "stdout",
     "output_type": "stream",
     "text": [
      "[Parallel(n_jobs=20)]: Done 242 tasks      | elapsed: 129.7min\n"
     ]
    },
    {
     "name": "stderr",
     "output_type": "stream",
     "text": [
      "/data/nielsond/python/envs/abcd_mine/lib/python3.6/site-packages/rpy2/robjects/functions.py:106: UserWarning: Found10batches\n",
      "\n",
      "  res = super(Function, self).__call__(*new_args, **new_kwargs)\n",
      "/data/nielsond/python/envs/abcd_mine/lib/python3.6/site-packages/rpy2/robjects/functions.py:106: UserWarning: Adjusting for0covariate(s) or covariate level(s)\n",
      "\n",
      "  res = super(Function, self).__call__(*new_args, **new_kwargs)\n"
     ]
    },
    {
     "name": "stdout",
     "output_type": "stream",
     "text": [
      "Standardizing Data across genes\n",
      "\n"
     ]
    },
    {
     "name": "stderr",
     "output_type": "stream",
     "text": [
      "/data/nielsond/python/envs/abcd_mine/lib/python3.6/site-packages/rpy2/robjects/functions.py:106: UserWarning: Fitting L/S model and finding priors\n",
      "\n",
      "  res = super(Function, self).__call__(*new_args, **new_kwargs)\n",
      "/data/nielsond/python/envs/abcd_mine/lib/python3.6/site-packages/rpy2/robjects/functions.py:106: UserWarning: Finding nonparametric adjustments\n",
      "\n",
      "  res = super(Function, self).__call__(*new_args, **new_kwargs)\n",
      "/data/nielsond/python/envs/abcd_mine/lib/python3.6/site-packages/rpy2/robjects/functions.py:106: UserWarning: Adjusting the Data\n",
      "\n",
      "\n",
      "  res = super(Function, self).__call__(*new_args, **new_kwargs)\n"
     ]
    },
    {
     "name": "stdout",
     "output_type": "stream",
     "text": [
      "Standardizing Data across genes\n",
      "\n",
      "Standardizing Data across genes\n",
      "\n",
      "Standardizing Data across genes\n",
      "\n"
     ]
    },
    {
     "name": "stderr",
     "output_type": "stream",
     "text": [
      "/data/nielsond/python/envs/abcd_mine/lib/python3.6/site-packages/sklearn/linear_model/sag.py:326: ConvergenceWarning: The max_iter was reached which means the coef_ did not converge\n",
      "  \"the coef_ did not converge\", ConvergenceWarning)\n"
     ]
    },
    {
     "name": "stdout",
     "output_type": "stream",
     "text": [
      "[Parallel(n_jobs=20)]: Done 243 tasks      | elapsed: 131.4min\n"
     ]
    },
    {
     "name": "stderr",
     "output_type": "stream",
     "text": [
      "/data/nielsond/python/envs/abcd_mine/lib/python3.6/site-packages/rpy2/robjects/functions.py:106: UserWarning: Found10batches\n",
      "\n",
      "  res = super(Function, self).__call__(*new_args, **new_kwargs)\n",
      "/data/nielsond/python/envs/abcd_mine/lib/python3.6/site-packages/rpy2/robjects/functions.py:106: UserWarning: Adjusting for0covariate(s) or covariate level(s)\n",
      "\n",
      "  res = super(Function, self).__call__(*new_args, **new_kwargs)\n"
     ]
    },
    {
     "name": "stdout",
     "output_type": "stream",
     "text": [
      "Standardizing Data across genes\n",
      "\n"
     ]
    },
    {
     "name": "stderr",
     "output_type": "stream",
     "text": [
      "/data/nielsond/python/envs/abcd_mine/lib/python3.6/site-packages/rpy2/robjects/functions.py:106: UserWarning: Fitting L/S model and finding priors\n",
      "\n",
      "  res = super(Function, self).__call__(*new_args, **new_kwargs)\n",
      "/data/nielsond/python/envs/abcd_mine/lib/python3.6/site-packages/rpy2/robjects/functions.py:106: UserWarning: Finding nonparametric adjustments\n",
      "\n",
      "  res = super(Function, self).__call__(*new_args, **new_kwargs)\n",
      "/data/nielsond/python/envs/abcd_mine/lib/python3.6/site-packages/rpy2/robjects/functions.py:106: UserWarning: Adjusting the Data\n",
      "\n",
      "\n",
      "  res = super(Function, self).__call__(*new_args, **new_kwargs)\n"
     ]
    },
    {
     "name": "stdout",
     "output_type": "stream",
     "text": [
      "Standardizing Data across genes\n",
      "\n",
      "Standardizing Data across genes\n",
      "\n",
      "Standardizing Data across genes\n",
      "\n"
     ]
    },
    {
     "name": "stderr",
     "output_type": "stream",
     "text": [
      "/data/nielsond/python/envs/abcd_mine/lib/python3.6/site-packages/sklearn/linear_model/sag.py:326: ConvergenceWarning: The max_iter was reached which means the coef_ did not converge\n",
      "  \"the coef_ did not converge\", ConvergenceWarning)\n"
     ]
    },
    {
     "name": "stdout",
     "output_type": "stream",
     "text": [
      "[Parallel(n_jobs=20)]: Done 244 tasks      | elapsed: 132.4min\n"
     ]
    },
    {
     "name": "stderr",
     "output_type": "stream",
     "text": [
      "/data/nielsond/python/envs/abcd_mine/lib/python3.6/site-packages/rpy2/robjects/functions.py:106: UserWarning: Found10batches\n",
      "\n",
      "  res = super(Function, self).__call__(*new_args, **new_kwargs)\n",
      "/data/nielsond/python/envs/abcd_mine/lib/python3.6/site-packages/rpy2/robjects/functions.py:106: UserWarning: Adjusting for0covariate(s) or covariate level(s)\n",
      "\n",
      "  res = super(Function, self).__call__(*new_args, **new_kwargs)\n"
     ]
    },
    {
     "name": "stdout",
     "output_type": "stream",
     "text": [
      "Standardizing Data across genes\n",
      "\n"
     ]
    },
    {
     "name": "stderr",
     "output_type": "stream",
     "text": [
      "/data/nielsond/python/envs/abcd_mine/lib/python3.6/site-packages/rpy2/robjects/functions.py:106: UserWarning: Fitting L/S model and finding priors\n",
      "\n",
      "  res = super(Function, self).__call__(*new_args, **new_kwargs)\n",
      "/data/nielsond/python/envs/abcd_mine/lib/python3.6/site-packages/rpy2/robjects/functions.py:106: UserWarning: Finding nonparametric adjustments\n",
      "\n",
      "  res = super(Function, self).__call__(*new_args, **new_kwargs)\n"
     ]
    },
    {
     "name": "stdout",
     "output_type": "stream",
     "text": [
      "[Parallel(n_jobs=20)]: Done 245 tasks      | elapsed: 132.4min\n"
     ]
    },
    {
     "name": "stderr",
     "output_type": "stream",
     "text": [
      "/data/nielsond/python/envs/abcd_mine/lib/python3.6/site-packages/rpy2/robjects/functions.py:106: UserWarning: Found10batches\n",
      "\n",
      "  res = super(Function, self).__call__(*new_args, **new_kwargs)\n",
      "/data/nielsond/python/envs/abcd_mine/lib/python3.6/site-packages/rpy2/robjects/functions.py:106: UserWarning: Adjusting for0covariate(s) or covariate level(s)\n",
      "\n",
      "  res = super(Function, self).__call__(*new_args, **new_kwargs)\n"
     ]
    },
    {
     "name": "stdout",
     "output_type": "stream",
     "text": [
      "Standardizing Data across genes\n",
      "\n"
     ]
    },
    {
     "name": "stderr",
     "output_type": "stream",
     "text": [
      "/data/nielsond/python/envs/abcd_mine/lib/python3.6/site-packages/rpy2/robjects/functions.py:106: UserWarning: Fitting L/S model and finding priors\n",
      "\n",
      "  res = super(Function, self).__call__(*new_args, **new_kwargs)\n",
      "/data/nielsond/python/envs/abcd_mine/lib/python3.6/site-packages/rpy2/robjects/functions.py:106: UserWarning: Finding nonparametric adjustments\n",
      "\n",
      "  res = super(Function, self).__call__(*new_args, **new_kwargs)\n",
      "/data/nielsond/python/envs/abcd_mine/lib/python3.6/site-packages/rpy2/robjects/functions.py:106: UserWarning: Adjusting the Data\n",
      "\n",
      "\n",
      "  res = super(Function, self).__call__(*new_args, **new_kwargs)\n"
     ]
    },
    {
     "name": "stdout",
     "output_type": "stream",
     "text": [
      "Standardizing Data across genes\n",
      "\n"
     ]
    },
    {
     "name": "stderr",
     "output_type": "stream",
     "text": [
      "/data/nielsond/python/envs/abcd_mine/lib/python3.6/site-packages/rpy2/robjects/functions.py:106: UserWarning: Adjusting the Data\n",
      "\n",
      "\n",
      "  res = super(Function, self).__call__(*new_args, **new_kwargs)\n"
     ]
    },
    {
     "name": "stdout",
     "output_type": "stream",
     "text": [
      "Standardizing Data across genes\n",
      "\n",
      "Standardizing Data across genes\n",
      "\n",
      "Standardizing Data across genes\n",
      "\n",
      "Standardizing Data across genes\n",
      "\n",
      "Standardizing Data across genes\n",
      "\n",
      "[Parallel(n_jobs=20)]: Done 246 tasks      | elapsed: 133.9min\n"
     ]
    },
    {
     "name": "stderr",
     "output_type": "stream",
     "text": [
      "/data/nielsond/python/envs/abcd_mine/lib/python3.6/site-packages/rpy2/robjects/functions.py:106: UserWarning: Found10batches\n",
      "\n",
      "  res = super(Function, self).__call__(*new_args, **new_kwargs)\n",
      "/data/nielsond/python/envs/abcd_mine/lib/python3.6/site-packages/rpy2/robjects/functions.py:106: UserWarning: Adjusting for0covariate(s) or covariate level(s)\n",
      "\n",
      "  res = super(Function, self).__call__(*new_args, **new_kwargs)\n"
     ]
    },
    {
     "name": "stdout",
     "output_type": "stream",
     "text": [
      "Standardizing Data across genes\n",
      "\n"
     ]
    },
    {
     "name": "stderr",
     "output_type": "stream",
     "text": [
      "/data/nielsond/python/envs/abcd_mine/lib/python3.6/site-packages/rpy2/robjects/functions.py:106: UserWarning: Fitting L/S model and finding priors\n",
      "\n",
      "  res = super(Function, self).__call__(*new_args, **new_kwargs)\n",
      "/data/nielsond/python/envs/abcd_mine/lib/python3.6/site-packages/rpy2/robjects/functions.py:106: UserWarning: Finding nonparametric adjustments\n",
      "\n",
      "  res = super(Function, self).__call__(*new_args, **new_kwargs)\n",
      "/data/nielsond/python/envs/abcd_mine/lib/python3.6/site-packages/rpy2/robjects/functions.py:106: UserWarning: Adjusting the Data\n",
      "\n",
      "\n",
      "  res = super(Function, self).__call__(*new_args, **new_kwargs)\n"
     ]
    },
    {
     "name": "stdout",
     "output_type": "stream",
     "text": [
      "Standardizing Data across genes\n",
      "\n",
      "Standardizing Data across genes\n",
      "\n"
     ]
    },
    {
     "name": "stderr",
     "output_type": "stream",
     "text": [
      "/data/nielsond/python/envs/abcd_mine/lib/python3.6/site-packages/sklearn/linear_model/sag.py:326: ConvergenceWarning: The max_iter was reached which means the coef_ did not converge\n",
      "  \"the coef_ did not converge\", ConvergenceWarning)\n"
     ]
    },
    {
     "name": "stdout",
     "output_type": "stream",
     "text": [
      "Standardizing Data across genes\n",
      "\n",
      "[Parallel(n_jobs=20)]: Done 247 tasks      | elapsed: 135.5min\n"
     ]
    },
    {
     "name": "stderr",
     "output_type": "stream",
     "text": [
      "/data/nielsond/python/envs/abcd_mine/lib/python3.6/site-packages/rpy2/robjects/functions.py:106: UserWarning: Found10batches\n",
      "\n",
      "  res = super(Function, self).__call__(*new_args, **new_kwargs)\n",
      "/data/nielsond/python/envs/abcd_mine/lib/python3.6/site-packages/rpy2/robjects/functions.py:106: UserWarning: Adjusting for0covariate(s) or covariate level(s)\n",
      "\n",
      "  res = super(Function, self).__call__(*new_args, **new_kwargs)\n"
     ]
    },
    {
     "name": "stdout",
     "output_type": "stream",
     "text": [
      "Standardizing Data across genes\n",
      "\n"
     ]
    },
    {
     "name": "stderr",
     "output_type": "stream",
     "text": [
      "/data/nielsond/python/envs/abcd_mine/lib/python3.6/site-packages/rpy2/robjects/functions.py:106: UserWarning: Fitting L/S model and finding priors\n",
      "\n",
      "  res = super(Function, self).__call__(*new_args, **new_kwargs)\n",
      "/data/nielsond/python/envs/abcd_mine/lib/python3.6/site-packages/rpy2/robjects/functions.py:106: UserWarning: Finding nonparametric adjustments\n",
      "\n",
      "  res = super(Function, self).__call__(*new_args, **new_kwargs)\n",
      "/data/nielsond/python/envs/abcd_mine/lib/python3.6/site-packages/rpy2/robjects/functions.py:106: UserWarning: Adjusting the Data\n",
      "\n",
      "\n",
      "  res = super(Function, self).__call__(*new_args, **new_kwargs)\n"
     ]
    },
    {
     "name": "stdout",
     "output_type": "stream",
     "text": [
      "Standardizing Data across genes\n",
      "\n",
      "Standardizing Data across genes\n",
      "\n",
      "Standardizing Data across genes\n",
      "\n",
      "[Parallel(n_jobs=20)]: Done 248 tasks      | elapsed: 136.7min\n"
     ]
    },
    {
     "name": "stderr",
     "output_type": "stream",
     "text": [
      "/data/nielsond/python/envs/abcd_mine/lib/python3.6/site-packages/rpy2/robjects/functions.py:106: UserWarning: Found10batches\n",
      "\n",
      "  res = super(Function, self).__call__(*new_args, **new_kwargs)\n",
      "/data/nielsond/python/envs/abcd_mine/lib/python3.6/site-packages/rpy2/robjects/functions.py:106: UserWarning: Adjusting for0covariate(s) or covariate level(s)\n",
      "\n",
      "  res = super(Function, self).__call__(*new_args, **new_kwargs)\n"
     ]
    },
    {
     "name": "stdout",
     "output_type": "stream",
     "text": [
      "Standardizing Data across genes\n",
      "\n"
     ]
    },
    {
     "name": "stderr",
     "output_type": "stream",
     "text": [
      "/data/nielsond/python/envs/abcd_mine/lib/python3.6/site-packages/rpy2/robjects/functions.py:106: UserWarning: Fitting L/S model and finding priors\n",
      "\n",
      "  res = super(Function, self).__call__(*new_args, **new_kwargs)\n",
      "/data/nielsond/python/envs/abcd_mine/lib/python3.6/site-packages/rpy2/robjects/functions.py:106: UserWarning: Finding nonparametric adjustments\n",
      "\n",
      "  res = super(Function, self).__call__(*new_args, **new_kwargs)\n",
      "/data/nielsond/python/envs/abcd_mine/lib/python3.6/site-packages/rpy2/robjects/functions.py:106: UserWarning: Adjusting the Data\n",
      "\n",
      "\n",
      "  res = super(Function, self).__call__(*new_args, **new_kwargs)\n"
     ]
    },
    {
     "name": "stdout",
     "output_type": "stream",
     "text": [
      "Standardizing Data across genes\n",
      "\n",
      "Standardizing Data across genes\n",
      "\n",
      "Standardizing Data across genes\n",
      "\n"
     ]
    },
    {
     "name": "stderr",
     "output_type": "stream",
     "text": [
      "/data/nielsond/python/envs/abcd_mine/lib/python3.6/site-packages/sklearn/linear_model/sag.py:326: ConvergenceWarning: The max_iter was reached which means the coef_ did not converge\n",
      "  \"the coef_ did not converge\", ConvergenceWarning)\n",
      "/data/nielsond/python/envs/abcd_mine/lib/python3.6/site-packages/sklearn/linear_model/sag.py:326: ConvergenceWarning: The max_iter was reached which means the coef_ did not converge\n",
      "  \"the coef_ did not converge\", ConvergenceWarning)\n"
     ]
    },
    {
     "name": "stdout",
     "output_type": "stream",
     "text": [
      "[Parallel(n_jobs=20)]: Done 249 tasks      | elapsed: 155.5min\n"
     ]
    },
    {
     "name": "stderr",
     "output_type": "stream",
     "text": [
      "/data/nielsond/python/envs/abcd_mine/lib/python3.6/site-packages/rpy2/robjects/functions.py:106: UserWarning: Found10batches\n",
      "\n",
      "  res = super(Function, self).__call__(*new_args, **new_kwargs)\n",
      "/data/nielsond/python/envs/abcd_mine/lib/python3.6/site-packages/rpy2/robjects/functions.py:106: UserWarning: Adjusting for0covariate(s) or covariate level(s)\n",
      "\n",
      "  res = super(Function, self).__call__(*new_args, **new_kwargs)\n"
     ]
    },
    {
     "name": "stdout",
     "output_type": "stream",
     "text": [
      "Standardizing Data across genes\n",
      "\n"
     ]
    },
    {
     "name": "stderr",
     "output_type": "stream",
     "text": [
      "/data/nielsond/python/envs/abcd_mine/lib/python3.6/site-packages/rpy2/robjects/functions.py:106: UserWarning: Fitting L/S model and finding priors\n",
      "\n",
      "  res = super(Function, self).__call__(*new_args, **new_kwargs)\n",
      "/data/nielsond/python/envs/abcd_mine/lib/python3.6/site-packages/rpy2/robjects/functions.py:106: UserWarning: Finding nonparametric adjustments\n",
      "\n",
      "  res = super(Function, self).__call__(*new_args, **new_kwargs)\n",
      "/data/nielsond/python/envs/abcd_mine/lib/python3.6/site-packages/rpy2/robjects/functions.py:106: UserWarning: Adjusting the Data\n",
      "\n",
      "\n",
      "  res = super(Function, self).__call__(*new_args, **new_kwargs)\n"
     ]
    },
    {
     "name": "stdout",
     "output_type": "stream",
     "text": [
      "Standardizing Data across genes\n",
      "\n",
      "Standardizing Data across genes\n",
      "\n",
      "Standardizing Data across genes\n",
      "\n"
     ]
    },
    {
     "name": "stderr",
     "output_type": "stream",
     "text": [
      "/data/nielsond/python/envs/abcd_mine/lib/python3.6/site-packages/sklearn/linear_model/sag.py:326: ConvergenceWarning: The max_iter was reached which means the coef_ did not converge\n",
      "  \"the coef_ did not converge\", ConvergenceWarning)\n"
     ]
    },
    {
     "name": "stdout",
     "output_type": "stream",
     "text": [
      "[Parallel(n_jobs=20)]: Done 250 tasks      | elapsed: 161.3min\n"
     ]
    },
    {
     "name": "stderr",
     "output_type": "stream",
     "text": [
      "/data/nielsond/python/envs/abcd_mine/lib/python3.6/site-packages/rpy2/robjects/functions.py:106: UserWarning: Found10batches\n",
      "\n",
      "  res = super(Function, self).__call__(*new_args, **new_kwargs)\n",
      "/data/nielsond/python/envs/abcd_mine/lib/python3.6/site-packages/rpy2/robjects/functions.py:106: UserWarning: Adjusting for0covariate(s) or covariate level(s)\n",
      "\n",
      "  res = super(Function, self).__call__(*new_args, **new_kwargs)\n",
      "/data/nielsond/python/envs/abcd_mine/lib/python3.6/site-packages/sklearn/linear_model/sag.py:326: ConvergenceWarning: The max_iter was reached which means the coef_ did not converge\n",
      "  \"the coef_ did not converge\", ConvergenceWarning)\n"
     ]
    },
    {
     "name": "stdout",
     "output_type": "stream",
     "text": [
      "Standardizing Data across genes\n",
      "\n"
     ]
    },
    {
     "name": "stderr",
     "output_type": "stream",
     "text": [
      "/data/nielsond/python/envs/abcd_mine/lib/python3.6/site-packages/rpy2/robjects/functions.py:106: UserWarning: Fitting L/S model and finding priors\n",
      "\n",
      "  res = super(Function, self).__call__(*new_args, **new_kwargs)\n",
      "/data/nielsond/python/envs/abcd_mine/lib/python3.6/site-packages/rpy2/robjects/functions.py:106: UserWarning: Finding nonparametric adjustments\n",
      "\n",
      "  res = super(Function, self).__call__(*new_args, **new_kwargs)\n",
      "/data/nielsond/python/envs/abcd_mine/lib/python3.6/site-packages/rpy2/robjects/functions.py:106: UserWarning: Adjusting the Data\n",
      "\n",
      "\n",
      "  res = super(Function, self).__call__(*new_args, **new_kwargs)\n"
     ]
    },
    {
     "name": "stdout",
     "output_type": "stream",
     "text": [
      "[Parallel(n_jobs=20)]: Done 251 tasks      | elapsed: 161.4min\n",
      "Standardizing Data across genes\n",
      "\n"
     ]
    },
    {
     "name": "stderr",
     "output_type": "stream",
     "text": [
      "/data/nielsond/python/envs/abcd_mine/lib/python3.6/site-packages/rpy2/robjects/functions.py:106: UserWarning: Found10batches\n",
      "\n",
      "  res = super(Function, self).__call__(*new_args, **new_kwargs)\n",
      "/data/nielsond/python/envs/abcd_mine/lib/python3.6/site-packages/rpy2/robjects/functions.py:106: UserWarning: Adjusting for0covariate(s) or covariate level(s)\n",
      "\n",
      "  res = super(Function, self).__call__(*new_args, **new_kwargs)\n"
     ]
    },
    {
     "name": "stdout",
     "output_type": "stream",
     "text": [
      "Standardizing Data across genes\n",
      "\n"
     ]
    },
    {
     "name": "stderr",
     "output_type": "stream",
     "text": [
      "/data/nielsond/python/envs/abcd_mine/lib/python3.6/site-packages/rpy2/robjects/functions.py:106: UserWarning: Fitting L/S model and finding priors\n",
      "\n",
      "  res = super(Function, self).__call__(*new_args, **new_kwargs)\n",
      "/data/nielsond/python/envs/abcd_mine/lib/python3.6/site-packages/rpy2/robjects/functions.py:106: UserWarning: Finding nonparametric adjustments\n",
      "\n",
      "  res = super(Function, self).__call__(*new_args, **new_kwargs)\n",
      "/data/nielsond/python/envs/abcd_mine/lib/python3.6/site-packages/sklearn/linear_model/sag.py:326: ConvergenceWarning: The max_iter was reached which means the coef_ did not converge\n",
      "  \"the coef_ did not converge\", ConvergenceWarning)\n",
      "/data/nielsond/python/envs/abcd_mine/lib/python3.6/site-packages/sklearn/linear_model/sag.py:326: ConvergenceWarning: The max_iter was reached which means the coef_ did not converge\n",
      "  \"the coef_ did not converge\", ConvergenceWarning)\n",
      "/data/nielsond/python/envs/abcd_mine/lib/python3.6/site-packages/rpy2/robjects/functions.py:106: UserWarning: Adjusting the Data\n",
      "\n",
      "\n",
      "  res = super(Function, self).__call__(*new_args, **new_kwargs)\n"
     ]
    },
    {
     "name": "stdout",
     "output_type": "stream",
     "text": [
      "Standardizing Data across genes\n",
      "\n"
     ]
    },
    {
     "name": "stderr",
     "output_type": "stream",
     "text": [
      "/data/nielsond/python/envs/abcd_mine/lib/python3.6/site-packages/sklearn/linear_model/sag.py:326: ConvergenceWarning: The max_iter was reached which means the coef_ did not converge\n",
      "  \"the coef_ did not converge\", ConvergenceWarning)\n",
      "/data/nielsond/python/envs/abcd_mine/lib/python3.6/site-packages/sklearn/linear_model/sag.py:326: ConvergenceWarning: The max_iter was reached which means the coef_ did not converge\n",
      "  \"the coef_ did not converge\", ConvergenceWarning)\n"
     ]
    },
    {
     "name": "stdout",
     "output_type": "stream",
     "text": [
      "[Parallel(n_jobs=20)]: Done 252 tasks      | elapsed: 161.6min\n"
     ]
    },
    {
     "name": "stderr",
     "output_type": "stream",
     "text": [
      "/data/nielsond/python/envs/abcd_mine/lib/python3.6/site-packages/rpy2/robjects/functions.py:106: UserWarning: Found10batches\n",
      "\n",
      "  res = super(Function, self).__call__(*new_args, **new_kwargs)\n",
      "/data/nielsond/python/envs/abcd_mine/lib/python3.6/site-packages/rpy2/robjects/functions.py:106: UserWarning: Adjusting for0covariate(s) or covariate level(s)\n",
      "\n",
      "  res = super(Function, self).__call__(*new_args, **new_kwargs)\n"
     ]
    },
    {
     "name": "stdout",
     "output_type": "stream",
     "text": [
      "Standardizing Data across genes\n",
      "\n"
     ]
    },
    {
     "name": "stderr",
     "output_type": "stream",
     "text": [
      "/data/nielsond/python/envs/abcd_mine/lib/python3.6/site-packages/rpy2/robjects/functions.py:106: UserWarning: Fitting L/S model and finding priors\n",
      "\n",
      "  res = super(Function, self).__call__(*new_args, **new_kwargs)\n",
      "/data/nielsond/python/envs/abcd_mine/lib/python3.6/site-packages/rpy2/robjects/functions.py:106: UserWarning: Finding nonparametric adjustments\n",
      "\n",
      "  res = super(Function, self).__call__(*new_args, **new_kwargs)\n"
     ]
    },
    {
     "name": "stdout",
     "output_type": "stream",
     "text": [
      "Standardizing Data across genes\n",
      "\n",
      "Standardizing Data across genes\n",
      "\n",
      "[Parallel(n_jobs=20)]: Done 253 tasks      | elapsed: 161.7min\n",
      "[Parallel(n_jobs=20)]: Done 254 tasks      | elapsed: 161.7min\n"
     ]
    },
    {
     "name": "stderr",
     "output_type": "stream",
     "text": [
      "/data/nielsond/python/envs/abcd_mine/lib/python3.6/site-packages/rpy2/robjects/functions.py:106: UserWarning: Found10batches\n",
      "\n",
      "  res = super(Function, self).__call__(*new_args, **new_kwargs)\n",
      "/data/nielsond/python/envs/abcd_mine/lib/python3.6/site-packages/rpy2/robjects/functions.py:106: UserWarning: Adjusting for0covariate(s) or covariate level(s)\n",
      "\n",
      "  res = super(Function, self).__call__(*new_args, **new_kwargs)\n"
     ]
    },
    {
     "name": "stdout",
     "output_type": "stream",
     "text": [
      "Standardizing Data across genes\n",
      "\n"
     ]
    },
    {
     "name": "stderr",
     "output_type": "stream",
     "text": [
      "/data/nielsond/python/envs/abcd_mine/lib/python3.6/site-packages/rpy2/robjects/functions.py:106: UserWarning: Fitting L/S model and finding priors\n",
      "\n",
      "  res = super(Function, self).__call__(*new_args, **new_kwargs)\n"
     ]
    },
    {
     "name": "stdout",
     "output_type": "stream",
     "text": [
      "[Parallel(n_jobs=20)]: Done 255 tasks      | elapsed: 161.7min\n"
     ]
    },
    {
     "name": "stderr",
     "output_type": "stream",
     "text": [
      "/data/nielsond/python/envs/abcd_mine/lib/python3.6/site-packages/rpy2/robjects/functions.py:106: UserWarning: Finding nonparametric adjustments\n",
      "\n",
      "  res = super(Function, self).__call__(*new_args, **new_kwargs)\n",
      "/data/nielsond/python/envs/abcd_mine/lib/python3.6/site-packages/rpy2/robjects/functions.py:106: UserWarning: Found10batches\n",
      "\n",
      "  res = super(Function, self).__call__(*new_args, **new_kwargs)\n",
      "/data/nielsond/python/envs/abcd_mine/lib/python3.6/site-packages/rpy2/robjects/functions.py:106: UserWarning: Adjusting for0covariate(s) or covariate level(s)\n",
      "\n",
      "  res = super(Function, self).__call__(*new_args, **new_kwargs)\n"
     ]
    },
    {
     "name": "stdout",
     "output_type": "stream",
     "text": [
      "Standardizing Data across genes\n",
      "\n"
     ]
    },
    {
     "name": "stderr",
     "output_type": "stream",
     "text": [
      "/data/nielsond/python/envs/abcd_mine/lib/python3.6/site-packages/rpy2/robjects/functions.py:106: UserWarning: Fitting L/S model and finding priors\n",
      "\n",
      "  res = super(Function, self).__call__(*new_args, **new_kwargs)\n",
      "/data/nielsond/python/envs/abcd_mine/lib/python3.6/site-packages/rpy2/robjects/functions.py:106: UserWarning: Finding nonparametric adjustments\n",
      "\n",
      "  res = super(Function, self).__call__(*new_args, **new_kwargs)\n"
     ]
    },
    {
     "name": "stdout",
     "output_type": "stream",
     "text": [
      "Standardizing Data across genes\n",
      "\n"
     ]
    },
    {
     "name": "stderr",
     "output_type": "stream",
     "text": [
      "/data/nielsond/python/envs/abcd_mine/lib/python3.6/site-packages/rpy2/robjects/functions.py:106: UserWarning: Found10batches\n",
      "\n",
      "  res = super(Function, self).__call__(*new_args, **new_kwargs)\n",
      "/data/nielsond/python/envs/abcd_mine/lib/python3.6/site-packages/rpy2/robjects/functions.py:106: UserWarning: Adjusting for0covariate(s) or covariate level(s)\n",
      "\n",
      "  res = super(Function, self).__call__(*new_args, **new_kwargs)\n"
     ]
    },
    {
     "name": "stdout",
     "output_type": "stream",
     "text": [
      "Standardizing Data across genes\n",
      "\n"
     ]
    },
    {
     "name": "stderr",
     "output_type": "stream",
     "text": [
      "/data/nielsond/python/envs/abcd_mine/lib/python3.6/site-packages/rpy2/robjects/functions.py:106: UserWarning: Fitting L/S model and finding priors\n",
      "\n",
      "  res = super(Function, self).__call__(*new_args, **new_kwargs)\n",
      "/data/nielsond/python/envs/abcd_mine/lib/python3.6/site-packages/rpy2/robjects/functions.py:106: UserWarning: Finding nonparametric adjustments\n",
      "\n",
      "  res = super(Function, self).__call__(*new_args, **new_kwargs)\n",
      "/data/nielsond/python/envs/abcd_mine/lib/python3.6/site-packages/rpy2/robjects/functions.py:106: UserWarning: Adjusting the Data\n",
      "\n",
      "\n",
      "  res = super(Function, self).__call__(*new_args, **new_kwargs)\n"
     ]
    },
    {
     "name": "stdout",
     "output_type": "stream",
     "text": [
      "Standardizing Data across genes\n",
      "\n"
     ]
    },
    {
     "name": "stderr",
     "output_type": "stream",
     "text": [
      "/data/nielsond/python/envs/abcd_mine/lib/python3.6/site-packages/rpy2/robjects/functions.py:106: UserWarning: Adjusting the Data\n",
      "\n",
      "\n",
      "  res = super(Function, self).__call__(*new_args, **new_kwargs)\n"
     ]
    },
    {
     "name": "stdout",
     "output_type": "stream",
     "text": [
      "Standardizing Data across genes\n",
      "\n"
     ]
    },
    {
     "name": "stderr",
     "output_type": "stream",
     "text": [
      "/data/nielsond/python/envs/abcd_mine/lib/python3.6/site-packages/rpy2/robjects/functions.py:106: UserWarning: Adjusting the Data\n",
      "\n",
      "\n",
      "  res = super(Function, self).__call__(*new_args, **new_kwargs)\n"
     ]
    },
    {
     "name": "stdout",
     "output_type": "stream",
     "text": [
      "Standardizing Data across genes\n",
      "\n"
     ]
    },
    {
     "name": "stderr",
     "output_type": "stream",
     "text": [
      "/data/nielsond/python/envs/abcd_mine/lib/python3.6/site-packages/rpy2/robjects/functions.py:106: UserWarning: Adjusting the Data\n",
      "\n",
      "\n",
      "  res = super(Function, self).__call__(*new_args, **new_kwargs)\n"
     ]
    },
    {
     "name": "stdout",
     "output_type": "stream",
     "text": [
      "Standardizing Data across genes\n",
      "\n",
      "Standardizing Data across genes\n",
      "\n",
      "Standardizing Data across genes\n",
      "\n",
      "Standardizing Data across genes\n",
      "\n",
      "Standardizing Data across genes\n",
      "\n",
      "Standardizing Data across genes\n",
      "\n",
      "Standardizing Data across genes\n",
      "\n",
      "Standardizing Data across genes\n",
      "\n"
     ]
    },
    {
     "name": "stderr",
     "output_type": "stream",
     "text": [
      "/data/nielsond/python/envs/abcd_mine/lib/python3.6/site-packages/sklearn/linear_model/sag.py:326: ConvergenceWarning: The max_iter was reached which means the coef_ did not converge\n",
      "  \"the coef_ did not converge\", ConvergenceWarning)\n"
     ]
    },
    {
     "name": "stdout",
     "output_type": "stream",
     "text": [
      "Standardizing Data across genes\n",
      "\n",
      "Standardizing Data across genes\n",
      "\n",
      "[Parallel(n_jobs=20)]: Done 256 tasks      | elapsed: 162.2min\n"
     ]
    },
    {
     "name": "stderr",
     "output_type": "stream",
     "text": [
      "/data/nielsond/python/envs/abcd_mine/lib/python3.6/site-packages/rpy2/robjects/functions.py:106: UserWarning: Found10batches\n",
      "\n",
      "  res = super(Function, self).__call__(*new_args, **new_kwargs)\n",
      "/data/nielsond/python/envs/abcd_mine/lib/python3.6/site-packages/rpy2/robjects/functions.py:106: UserWarning: Adjusting for0covariate(s) or covariate level(s)\n",
      "\n",
      "  res = super(Function, self).__call__(*new_args, **new_kwargs)\n"
     ]
    },
    {
     "name": "stdout",
     "output_type": "stream",
     "text": [
      "Standardizing Data across genes\n",
      "\n"
     ]
    },
    {
     "name": "stderr",
     "output_type": "stream",
     "text": [
      "/data/nielsond/python/envs/abcd_mine/lib/python3.6/site-packages/rpy2/robjects/functions.py:106: UserWarning: Fitting L/S model and finding priors\n",
      "\n",
      "  res = super(Function, self).__call__(*new_args, **new_kwargs)\n",
      "/data/nielsond/python/envs/abcd_mine/lib/python3.6/site-packages/rpy2/robjects/functions.py:106: UserWarning: Finding nonparametric adjustments\n",
      "\n",
      "  res = super(Function, self).__call__(*new_args, **new_kwargs)\n",
      "/data/nielsond/python/envs/abcd_mine/lib/python3.6/site-packages/sklearn/linear_model/sag.py:326: ConvergenceWarning: The max_iter was reached which means the coef_ did not converge\n",
      "  \"the coef_ did not converge\", ConvergenceWarning)\n",
      "/data/nielsond/python/envs/abcd_mine/lib/python3.6/site-packages/rpy2/robjects/functions.py:106: UserWarning: Adjusting the Data\n",
      "\n",
      "\n",
      "  res = super(Function, self).__call__(*new_args, **new_kwargs)\n"
     ]
    },
    {
     "name": "stdout",
     "output_type": "stream",
     "text": [
      "Standardizing Data across genes\n",
      "\n",
      "[Parallel(n_jobs=20)]: Done 257 tasks      | elapsed: 162.4min\n"
     ]
    },
    {
     "name": "stderr",
     "output_type": "stream",
     "text": [
      "/data/nielsond/python/envs/abcd_mine/lib/python3.6/site-packages/rpy2/robjects/functions.py:106: UserWarning: Found10batches\n",
      "\n",
      "  res = super(Function, self).__call__(*new_args, **new_kwargs)\n",
      "/data/nielsond/python/envs/abcd_mine/lib/python3.6/site-packages/rpy2/robjects/functions.py:106: UserWarning: Adjusting for0covariate(s) or covariate level(s)\n",
      "\n",
      "  res = super(Function, self).__call__(*new_args, **new_kwargs)\n"
     ]
    },
    {
     "name": "stdout",
     "output_type": "stream",
     "text": [
      "Standardizing Data across genes\n",
      "\n"
     ]
    },
    {
     "name": "stderr",
     "output_type": "stream",
     "text": [
      "/data/nielsond/python/envs/abcd_mine/lib/python3.6/site-packages/rpy2/robjects/functions.py:106: UserWarning: Fitting L/S model and finding priors\n",
      "\n",
      "  res = super(Function, self).__call__(*new_args, **new_kwargs)\n",
      "/data/nielsond/python/envs/abcd_mine/lib/python3.6/site-packages/rpy2/robjects/functions.py:106: UserWarning: Finding nonparametric adjustments\n",
      "\n",
      "  res = super(Function, self).__call__(*new_args, **new_kwargs)\n"
     ]
    },
    {
     "name": "stdout",
     "output_type": "stream",
     "text": [
      "Standardizing Data across genes\n",
      "\n",
      "Standardizing Data across genes\n",
      "\n"
     ]
    },
    {
     "name": "stderr",
     "output_type": "stream",
     "text": [
      "/data/nielsond/python/envs/abcd_mine/lib/python3.6/site-packages/rpy2/robjects/functions.py:106: UserWarning: Adjusting the Data\n",
      "\n",
      "\n",
      "  res = super(Function, self).__call__(*new_args, **new_kwargs)\n"
     ]
    },
    {
     "name": "stdout",
     "output_type": "stream",
     "text": [
      "Standardizing Data across genes\n",
      "\n",
      "[Parallel(n_jobs=20)]: Done 258 tasks      | elapsed: 162.5min\n"
     ]
    },
    {
     "name": "stderr",
     "output_type": "stream",
     "text": [
      "/data/nielsond/python/envs/abcd_mine/lib/python3.6/site-packages/rpy2/robjects/functions.py:106: UserWarning: Found10batches\n",
      "\n",
      "  res = super(Function, self).__call__(*new_args, **new_kwargs)\n",
      "/data/nielsond/python/envs/abcd_mine/lib/python3.6/site-packages/rpy2/robjects/functions.py:106: UserWarning: Adjusting for0covariate(s) or covariate level(s)\n",
      "\n",
      "  res = super(Function, self).__call__(*new_args, **new_kwargs)\n"
     ]
    },
    {
     "name": "stdout",
     "output_type": "stream",
     "text": [
      "Standardizing Data across genes\n",
      "\n"
     ]
    },
    {
     "name": "stderr",
     "output_type": "stream",
     "text": [
      "/data/nielsond/python/envs/abcd_mine/lib/python3.6/site-packages/rpy2/robjects/functions.py:106: UserWarning: Fitting L/S model and finding priors\n",
      "\n",
      "  res = super(Function, self).__call__(*new_args, **new_kwargs)\n",
      "/data/nielsond/python/envs/abcd_mine/lib/python3.6/site-packages/rpy2/robjects/functions.py:106: UserWarning: Finding nonparametric adjustments\n",
      "\n",
      "  res = super(Function, self).__call__(*new_args, **new_kwargs)\n"
     ]
    },
    {
     "name": "stdout",
     "output_type": "stream",
     "text": [
      "Standardizing Data across genes\n",
      "\n"
     ]
    },
    {
     "name": "stderr",
     "output_type": "stream",
     "text": [
      "/data/nielsond/python/envs/abcd_mine/lib/python3.6/site-packages/rpy2/robjects/functions.py:106: UserWarning: Adjusting the Data\n",
      "\n",
      "\n",
      "  res = super(Function, self).__call__(*new_args, **new_kwargs)\n"
     ]
    },
    {
     "name": "stdout",
     "output_type": "stream",
     "text": [
      "Standardizing Data across genes\n",
      "\n",
      "[Parallel(n_jobs=20)]: Done 259 tasks      | elapsed: 162.6min\n",
      "Standardizing Data across genes\n",
      "\n"
     ]
    },
    {
     "name": "stderr",
     "output_type": "stream",
     "text": [
      "/data/nielsond/python/envs/abcd_mine/lib/python3.6/site-packages/rpy2/robjects/functions.py:106: UserWarning: Found10batches\n",
      "\n",
      "  res = super(Function, self).__call__(*new_args, **new_kwargs)\n",
      "/data/nielsond/python/envs/abcd_mine/lib/python3.6/site-packages/rpy2/robjects/functions.py:106: UserWarning: Adjusting for0covariate(s) or covariate level(s)\n",
      "\n",
      "  res = super(Function, self).__call__(*new_args, **new_kwargs)\n"
     ]
    },
    {
     "name": "stdout",
     "output_type": "stream",
     "text": [
      "Standardizing Data across genes\n",
      "\n"
     ]
    },
    {
     "name": "stderr",
     "output_type": "stream",
     "text": [
      "/data/nielsond/python/envs/abcd_mine/lib/python3.6/site-packages/rpy2/robjects/functions.py:106: UserWarning: Fitting L/S model and finding priors\n",
      "\n",
      "  res = super(Function, self).__call__(*new_args, **new_kwargs)\n",
      "/data/nielsond/python/envs/abcd_mine/lib/python3.6/site-packages/rpy2/robjects/functions.py:106: UserWarning: Finding nonparametric adjustments\n",
      "\n",
      "  res = super(Function, self).__call__(*new_args, **new_kwargs)\n"
     ]
    },
    {
     "name": "stdout",
     "output_type": "stream",
     "text": [
      "Standardizing Data across genes\n",
      "\n"
     ]
    },
    {
     "name": "stderr",
     "output_type": "stream",
     "text": [
      "/data/nielsond/python/envs/abcd_mine/lib/python3.6/site-packages/rpy2/robjects/functions.py:106: UserWarning: Adjusting the Data\n",
      "\n",
      "\n",
      "  res = super(Function, self).__call__(*new_args, **new_kwargs)\n"
     ]
    },
    {
     "name": "stdout",
     "output_type": "stream",
     "text": [
      "Standardizing Data across genes\n",
      "\n",
      "Standardizing Data across genes\n",
      "\n"
     ]
    },
    {
     "name": "stderr",
     "output_type": "stream",
     "text": [
      "/data/nielsond/python/envs/abcd_mine/lib/python3.6/site-packages/sklearn/linear_model/sag.py:326: ConvergenceWarning: The max_iter was reached which means the coef_ did not converge\n",
      "  \"the coef_ did not converge\", ConvergenceWarning)\n"
     ]
    },
    {
     "name": "stdout",
     "output_type": "stream",
     "text": [
      "Standardizing Data across genes\n",
      "\n",
      "Standardizing Data across genes\n",
      "\n",
      "[Parallel(n_jobs=20)]: Done 260 tasks      | elapsed: 162.9min\n"
     ]
    },
    {
     "name": "stderr",
     "output_type": "stream",
     "text": [
      "/data/nielsond/python/envs/abcd_mine/lib/python3.6/site-packages/rpy2/robjects/functions.py:106: UserWarning: Found10batches\n",
      "\n",
      "  res = super(Function, self).__call__(*new_args, **new_kwargs)\n",
      "/data/nielsond/python/envs/abcd_mine/lib/python3.6/site-packages/rpy2/robjects/functions.py:106: UserWarning: Adjusting for0covariate(s) or covariate level(s)\n",
      "\n",
      "  res = super(Function, self).__call__(*new_args, **new_kwargs)\n"
     ]
    },
    {
     "name": "stdout",
     "output_type": "stream",
     "text": [
      "Standardizing Data across genes\n",
      "\n"
     ]
    },
    {
     "name": "stderr",
     "output_type": "stream",
     "text": [
      "/data/nielsond/python/envs/abcd_mine/lib/python3.6/site-packages/rpy2/robjects/functions.py:106: UserWarning: Fitting L/S model and finding priors\n",
      "\n",
      "  res = super(Function, self).__call__(*new_args, **new_kwargs)\n",
      "/data/nielsond/python/envs/abcd_mine/lib/python3.6/site-packages/rpy2/robjects/functions.py:106: UserWarning: Finding nonparametric adjustments\n",
      "\n",
      "  res = super(Function, self).__call__(*new_args, **new_kwargs)\n",
      "/data/nielsond/python/envs/abcd_mine/lib/python3.6/site-packages/rpy2/robjects/functions.py:106: UserWarning: Adjusting the Data\n",
      "\n",
      "\n",
      "  res = super(Function, self).__call__(*new_args, **new_kwargs)\n"
     ]
    },
    {
     "name": "stdout",
     "output_type": "stream",
     "text": [
      "Standardizing Data across genes\n",
      "\n",
      "[Parallel(n_jobs=20)]: Done 261 tasks      | elapsed: 163.0min\n"
     ]
    },
    {
     "name": "stderr",
     "output_type": "stream",
     "text": [
      "/data/nielsond/python/envs/abcd_mine/lib/python3.6/site-packages/rpy2/robjects/functions.py:106: UserWarning: Found10batches\n",
      "\n",
      "  res = super(Function, self).__call__(*new_args, **new_kwargs)\n",
      "/data/nielsond/python/envs/abcd_mine/lib/python3.6/site-packages/rpy2/robjects/functions.py:106: UserWarning: Adjusting for0covariate(s) or covariate level(s)\n",
      "\n",
      "  res = super(Function, self).__call__(*new_args, **new_kwargs)\n"
     ]
    },
    {
     "name": "stdout",
     "output_type": "stream",
     "text": [
      "Standardizing Data across genes\n",
      "\n"
     ]
    },
    {
     "name": "stderr",
     "output_type": "stream",
     "text": [
      "/data/nielsond/python/envs/abcd_mine/lib/python3.6/site-packages/rpy2/robjects/functions.py:106: UserWarning: Fitting L/S model and finding priors\n",
      "\n",
      "  res = super(Function, self).__call__(*new_args, **new_kwargs)\n",
      "/data/nielsond/python/envs/abcd_mine/lib/python3.6/site-packages/rpy2/robjects/functions.py:106: UserWarning: Finding nonparametric adjustments\n",
      "\n",
      "  res = super(Function, self).__call__(*new_args, **new_kwargs)\n"
     ]
    },
    {
     "name": "stdout",
     "output_type": "stream",
     "text": [
      "Standardizing Data across genes\n",
      "\n"
     ]
    },
    {
     "name": "stderr",
     "output_type": "stream",
     "text": [
      "/data/nielsond/python/envs/abcd_mine/lib/python3.6/site-packages/sklearn/linear_model/sag.py:326: ConvergenceWarning: The max_iter was reached which means the coef_ did not converge\n",
      "  \"the coef_ did not converge\", ConvergenceWarning)\n",
      "/data/nielsond/python/envs/abcd_mine/lib/python3.6/site-packages/sklearn/linear_model/sag.py:326: ConvergenceWarning: The max_iter was reached which means the coef_ did not converge\n",
      "  \"the coef_ did not converge\", ConvergenceWarning)\n"
     ]
    },
    {
     "name": "stdout",
     "output_type": "stream",
     "text": [
      "Standardizing Data across genes\n",
      "\n"
     ]
    },
    {
     "name": "stderr",
     "output_type": "stream",
     "text": [
      "/data/nielsond/python/envs/abcd_mine/lib/python3.6/site-packages/rpy2/robjects/functions.py:106: UserWarning: Adjusting the Data\n",
      "\n",
      "\n",
      "  res = super(Function, self).__call__(*new_args, **new_kwargs)\n"
     ]
    },
    {
     "name": "stdout",
     "output_type": "stream",
     "text": [
      "Standardizing Data across genes\n",
      "\n",
      "[Parallel(n_jobs=20)]: Done 262 tasks      | elapsed: 163.2min\n"
     ]
    },
    {
     "name": "stderr",
     "output_type": "stream",
     "text": [
      "/data/nielsond/python/envs/abcd_mine/lib/python3.6/site-packages/rpy2/robjects/functions.py:106: UserWarning: Found10batches\n",
      "\n",
      "  res = super(Function, self).__call__(*new_args, **new_kwargs)\n",
      "/data/nielsond/python/envs/abcd_mine/lib/python3.6/site-packages/rpy2/robjects/functions.py:106: UserWarning: Adjusting for0covariate(s) or covariate level(s)\n",
      "\n",
      "  res = super(Function, self).__call__(*new_args, **new_kwargs)\n"
     ]
    },
    {
     "name": "stdout",
     "output_type": "stream",
     "text": [
      "Standardizing Data across genes\n",
      "\n",
      "[Parallel(n_jobs=20)]: Done 263 tasks      | elapsed: 163.2min\n"
     ]
    },
    {
     "name": "stderr",
     "output_type": "stream",
     "text": [
      "/data/nielsond/python/envs/abcd_mine/lib/python3.6/site-packages/rpy2/robjects/functions.py:106: UserWarning: Fitting L/S model and finding priors\n",
      "\n",
      "  res = super(Function, self).__call__(*new_args, **new_kwargs)\n",
      "/data/nielsond/python/envs/abcd_mine/lib/python3.6/site-packages/rpy2/robjects/functions.py:106: UserWarning: Finding nonparametric adjustments\n",
      "\n",
      "  res = super(Function, self).__call__(*new_args, **new_kwargs)\n",
      "/data/nielsond/python/envs/abcd_mine/lib/python3.6/site-packages/rpy2/robjects/functions.py:106: UserWarning: Found10batches\n",
      "\n",
      "  res = super(Function, self).__call__(*new_args, **new_kwargs)\n",
      "/data/nielsond/python/envs/abcd_mine/lib/python3.6/site-packages/rpy2/robjects/functions.py:106: UserWarning: Adjusting for0covariate(s) or covariate level(s)\n",
      "\n",
      "  res = super(Function, self).__call__(*new_args, **new_kwargs)\n"
     ]
    },
    {
     "name": "stdout",
     "output_type": "stream",
     "text": [
      "Standardizing Data across genes\n",
      "\n"
     ]
    },
    {
     "name": "stderr",
     "output_type": "stream",
     "text": [
      "/data/nielsond/python/envs/abcd_mine/lib/python3.6/site-packages/rpy2/robjects/functions.py:106: UserWarning: Fitting L/S model and finding priors\n",
      "\n",
      "  res = super(Function, self).__call__(*new_args, **new_kwargs)\n",
      "/data/nielsond/python/envs/abcd_mine/lib/python3.6/site-packages/rpy2/robjects/functions.py:106: UserWarning: Finding nonparametric adjustments\n",
      "\n",
      "  res = super(Function, self).__call__(*new_args, **new_kwargs)\n"
     ]
    },
    {
     "name": "stdout",
     "output_type": "stream",
     "text": [
      "Standardizing Data across genes\n",
      "\n"
     ]
    },
    {
     "name": "stderr",
     "output_type": "stream",
     "text": [
      "/data/nielsond/python/envs/abcd_mine/lib/python3.6/site-packages/rpy2/robjects/functions.py:106: UserWarning: Adjusting the Data\n",
      "\n",
      "\n",
      "  res = super(Function, self).__call__(*new_args, **new_kwargs)\n"
     ]
    },
    {
     "name": "stdout",
     "output_type": "stream",
     "text": [
      "Standardizing Data across genes\n",
      "\n",
      "Standardizing Data across genes\n",
      "\n"
     ]
    },
    {
     "name": "stderr",
     "output_type": "stream",
     "text": [
      "/data/nielsond/python/envs/abcd_mine/lib/python3.6/site-packages/rpy2/robjects/functions.py:106: UserWarning: Adjusting the Data\n",
      "\n",
      "\n",
      "  res = super(Function, self).__call__(*new_args, **new_kwargs)\n"
     ]
    },
    {
     "name": "stdout",
     "output_type": "stream",
     "text": [
      "Standardizing Data across genes\n",
      "\n"
     ]
    },
    {
     "name": "stderr",
     "output_type": "stream",
     "text": [
      "/data/nielsond/python/envs/abcd_mine/lib/python3.6/site-packages/sklearn/linear_model/sag.py:326: ConvergenceWarning: The max_iter was reached which means the coef_ did not converge\n",
      "  \"the coef_ did not converge\", ConvergenceWarning)\n"
     ]
    },
    {
     "name": "stdout",
     "output_type": "stream",
     "text": [
      "Standardizing Data across genes\n",
      "\n",
      "Standardizing Data across genes\n",
      "\n",
      "Standardizing Data across genes\n",
      "\n",
      "[Parallel(n_jobs=20)]: Done 264 tasks      | elapsed: 163.6min\n"
     ]
    },
    {
     "name": "stderr",
     "output_type": "stream",
     "text": [
      "/data/nielsond/python/envs/abcd_mine/lib/python3.6/site-packages/rpy2/robjects/functions.py:106: UserWarning: Found10batches\n",
      "\n",
      "  res = super(Function, self).__call__(*new_args, **new_kwargs)\n",
      "/data/nielsond/python/envs/abcd_mine/lib/python3.6/site-packages/rpy2/robjects/functions.py:106: UserWarning: Adjusting for0covariate(s) or covariate level(s)\n",
      "\n",
      "  res = super(Function, self).__call__(*new_args, **new_kwargs)\n"
     ]
    },
    {
     "name": "stdout",
     "output_type": "stream",
     "text": [
      "Standardizing Data across genes\n",
      "\n"
     ]
    },
    {
     "name": "stderr",
     "output_type": "stream",
     "text": [
      "/data/nielsond/python/envs/abcd_mine/lib/python3.6/site-packages/rpy2/robjects/functions.py:106: UserWarning: Fitting L/S model and finding priors\n",
      "\n",
      "  res = super(Function, self).__call__(*new_args, **new_kwargs)\n",
      "/data/nielsond/python/envs/abcd_mine/lib/python3.6/site-packages/rpy2/robjects/functions.py:106: UserWarning: Finding nonparametric adjustments\n",
      "\n",
      "  res = super(Function, self).__call__(*new_args, **new_kwargs)\n"
     ]
    },
    {
     "name": "stdout",
     "output_type": "stream",
     "text": [
      "[Parallel(n_jobs=20)]: Done 265 tasks      | elapsed: 163.6min\n"
     ]
    },
    {
     "name": "stderr",
     "output_type": "stream",
     "text": [
      "/data/nielsond/python/envs/abcd_mine/lib/python3.6/site-packages/rpy2/robjects/functions.py:106: UserWarning: Found10batches\n",
      "\n",
      "  res = super(Function, self).__call__(*new_args, **new_kwargs)\n",
      "/data/nielsond/python/envs/abcd_mine/lib/python3.6/site-packages/rpy2/robjects/functions.py:106: UserWarning: Adjusting for0covariate(s) or covariate level(s)\n",
      "\n",
      "  res = super(Function, self).__call__(*new_args, **new_kwargs)\n"
     ]
    },
    {
     "name": "stdout",
     "output_type": "stream",
     "text": [
      "Standardizing Data across genes\n",
      "\n",
      "Standardizing Data across genes\n",
      "\n"
     ]
    },
    {
     "name": "stderr",
     "output_type": "stream",
     "text": [
      "/data/nielsond/python/envs/abcd_mine/lib/python3.6/site-packages/rpy2/robjects/functions.py:106: UserWarning: Fitting L/S model and finding priors\n",
      "\n",
      "  res = super(Function, self).__call__(*new_args, **new_kwargs)\n",
      "/data/nielsond/python/envs/abcd_mine/lib/python3.6/site-packages/rpy2/robjects/functions.py:106: UserWarning: Finding nonparametric adjustments\n",
      "\n",
      "  res = super(Function, self).__call__(*new_args, **new_kwargs)\n",
      "/data/nielsond/python/envs/abcd_mine/lib/python3.6/site-packages/rpy2/robjects/functions.py:106: UserWarning: Adjusting the Data\n",
      "\n",
      "\n",
      "  res = super(Function, self).__call__(*new_args, **new_kwargs)\n"
     ]
    },
    {
     "name": "stdout",
     "output_type": "stream",
     "text": [
      "Standardizing Data across genes\n",
      "\n"
     ]
    },
    {
     "name": "stderr",
     "output_type": "stream",
     "text": [
      "/data/nielsond/python/envs/abcd_mine/lib/python3.6/site-packages/rpy2/robjects/functions.py:106: UserWarning: Adjusting the Data\n",
      "\n",
      "\n",
      "  res = super(Function, self).__call__(*new_args, **new_kwargs)\n"
     ]
    },
    {
     "name": "stdout",
     "output_type": "stream",
     "text": [
      "Standardizing Data across genes\n",
      "\n",
      "[Parallel(n_jobs=20)]: Done 266 tasks      | elapsed: 163.8min\n"
     ]
    },
    {
     "name": "stderr",
     "output_type": "stream",
     "text": [
      "/data/nielsond/python/envs/abcd_mine/lib/python3.6/site-packages/rpy2/robjects/functions.py:106: UserWarning: Found10batches\n",
      "\n",
      "  res = super(Function, self).__call__(*new_args, **new_kwargs)\n",
      "/data/nielsond/python/envs/abcd_mine/lib/python3.6/site-packages/rpy2/robjects/functions.py:106: UserWarning: Adjusting for0covariate(s) or covariate level(s)\n",
      "\n",
      "  res = super(Function, self).__call__(*new_args, **new_kwargs)\n"
     ]
    },
    {
     "name": "stdout",
     "output_type": "stream",
     "text": [
      "Standardizing Data across genes\n",
      "\n"
     ]
    },
    {
     "name": "stderr",
     "output_type": "stream",
     "text": [
      "/data/nielsond/python/envs/abcd_mine/lib/python3.6/site-packages/rpy2/robjects/functions.py:106: UserWarning: Fitting L/S model and finding priors\n",
      "\n",
      "  res = super(Function, self).__call__(*new_args, **new_kwargs)\n",
      "/data/nielsond/python/envs/abcd_mine/lib/python3.6/site-packages/rpy2/robjects/functions.py:106: UserWarning: Finding nonparametric adjustments\n",
      "\n",
      "  res = super(Function, self).__call__(*new_args, **new_kwargs)\n"
     ]
    },
    {
     "name": "stdout",
     "output_type": "stream",
     "text": [
      "Standardizing Data across genes\n",
      "\n",
      "Standardizing Data across genes\n",
      "\n"
     ]
    },
    {
     "name": "stderr",
     "output_type": "stream",
     "text": [
      "/data/nielsond/python/envs/abcd_mine/lib/python3.6/site-packages/rpy2/robjects/functions.py:106: UserWarning: Adjusting the Data\n",
      "\n",
      "\n",
      "  res = super(Function, self).__call__(*new_args, **new_kwargs)\n"
     ]
    },
    {
     "name": "stdout",
     "output_type": "stream",
     "text": [
      "Standardizing Data across genes\n",
      "\n",
      "Standardizing Data across genes\n",
      "\n",
      "[Parallel(n_jobs=20)]: Done 267 tasks      | elapsed: 164.0min\n"
     ]
    },
    {
     "name": "stderr",
     "output_type": "stream",
     "text": [
      "/data/nielsond/python/envs/abcd_mine/lib/python3.6/site-packages/rpy2/robjects/functions.py:106: UserWarning: Found10batches\n",
      "\n",
      "  res = super(Function, self).__call__(*new_args, **new_kwargs)\n",
      "/data/nielsond/python/envs/abcd_mine/lib/python3.6/site-packages/rpy2/robjects/functions.py:106: UserWarning: Adjusting for0covariate(s) or covariate level(s)\n",
      "\n",
      "  res = super(Function, self).__call__(*new_args, **new_kwargs)\n"
     ]
    },
    {
     "name": "stdout",
     "output_type": "stream",
     "text": [
      "Standardizing Data across genes\n",
      "\n"
     ]
    },
    {
     "name": "stderr",
     "output_type": "stream",
     "text": [
      "/data/nielsond/python/envs/abcd_mine/lib/python3.6/site-packages/rpy2/robjects/functions.py:106: UserWarning: Fitting L/S model and finding priors\n",
      "\n",
      "  res = super(Function, self).__call__(*new_args, **new_kwargs)\n",
      "/data/nielsond/python/envs/abcd_mine/lib/python3.6/site-packages/rpy2/robjects/functions.py:106: UserWarning: Finding nonparametric adjustments\n",
      "\n",
      "  res = super(Function, self).__call__(*new_args, **new_kwargs)\n"
     ]
    },
    {
     "name": "stdout",
     "output_type": "stream",
     "text": [
      "Standardizing Data across genes\n",
      "\n"
     ]
    },
    {
     "name": "stderr",
     "output_type": "stream",
     "text": [
      "/data/nielsond/python/envs/abcd_mine/lib/python3.6/site-packages/rpy2/robjects/functions.py:106: UserWarning: Adjusting the Data\n",
      "\n",
      "\n",
      "  res = super(Function, self).__call__(*new_args, **new_kwargs)\n"
     ]
    },
    {
     "name": "stdout",
     "output_type": "stream",
     "text": [
      "Standardizing Data across genes\n",
      "\n",
      "Standardizing Data across genes\n",
      "\n",
      "Standardizing Data across genes\n",
      "\n",
      "Standardizing Data across genes\n",
      "\n",
      "Standardizing Data across genes\n",
      "\n",
      "[Parallel(n_jobs=20)]: Done 268 tasks      | elapsed: 164.2min\n"
     ]
    },
    {
     "name": "stderr",
     "output_type": "stream",
     "text": [
      "/data/nielsond/python/envs/abcd_mine/lib/python3.6/site-packages/rpy2/robjects/functions.py:106: UserWarning: Found10batches\n",
      "\n",
      "  res = super(Function, self).__call__(*new_args, **new_kwargs)\n",
      "/data/nielsond/python/envs/abcd_mine/lib/python3.6/site-packages/rpy2/robjects/functions.py:106: UserWarning: Adjusting for0covariate(s) or covariate level(s)\n",
      "\n",
      "  res = super(Function, self).__call__(*new_args, **new_kwargs)\n"
     ]
    },
    {
     "name": "stdout",
     "output_type": "stream",
     "text": [
      "Standardizing Data across genes\n",
      "\n"
     ]
    },
    {
     "name": "stderr",
     "output_type": "stream",
     "text": [
      "/data/nielsond/python/envs/abcd_mine/lib/python3.6/site-packages/rpy2/robjects/functions.py:106: UserWarning: Fitting L/S model and finding priors\n",
      "\n",
      "  res = super(Function, self).__call__(*new_args, **new_kwargs)\n",
      "/data/nielsond/python/envs/abcd_mine/lib/python3.6/site-packages/rpy2/robjects/functions.py:106: UserWarning: Finding nonparametric adjustments\n",
      "\n",
      "  res = super(Function, self).__call__(*new_args, **new_kwargs)\n"
     ]
    },
    {
     "name": "stdout",
     "output_type": "stream",
     "text": [
      "[Parallel(n_jobs=20)]: Done 269 tasks      | elapsed: 164.3min\n"
     ]
    },
    {
     "name": "stderr",
     "output_type": "stream",
     "text": [
      "/data/nielsond/python/envs/abcd_mine/lib/python3.6/site-packages/rpy2/robjects/functions.py:106: UserWarning: Found10batches\n",
      "\n",
      "  res = super(Function, self).__call__(*new_args, **new_kwargs)\n",
      "/data/nielsond/python/envs/abcd_mine/lib/python3.6/site-packages/rpy2/robjects/functions.py:106: UserWarning: Adjusting for0covariate(s) or covariate level(s)\n",
      "\n",
      "  res = super(Function, self).__call__(*new_args, **new_kwargs)\n"
     ]
    },
    {
     "name": "stdout",
     "output_type": "stream",
     "text": [
      "Standardizing Data across genes\n",
      "\n"
     ]
    },
    {
     "name": "stderr",
     "output_type": "stream",
     "text": [
      "/data/nielsond/python/envs/abcd_mine/lib/python3.6/site-packages/rpy2/robjects/functions.py:106: UserWarning: Fitting L/S model and finding priors\n",
      "\n",
      "  res = super(Function, self).__call__(*new_args, **new_kwargs)\n",
      "/data/nielsond/python/envs/abcd_mine/lib/python3.6/site-packages/rpy2/robjects/functions.py:106: UserWarning: Finding nonparametric adjustments\n",
      "\n",
      "  res = super(Function, self).__call__(*new_args, **new_kwargs)\n",
      "/data/nielsond/python/envs/abcd_mine/lib/python3.6/site-packages/rpy2/robjects/functions.py:106: UserWarning: Adjusting the Data\n",
      "\n",
      "\n",
      "  res = super(Function, self).__call__(*new_args, **new_kwargs)\n"
     ]
    },
    {
     "name": "stdout",
     "output_type": "stream",
     "text": [
      "Standardizing Data across genes\n",
      "\n"
     ]
    },
    {
     "name": "stderr",
     "output_type": "stream",
     "text": [
      "/data/nielsond/python/envs/abcd_mine/lib/python3.6/site-packages/rpy2/robjects/functions.py:106: UserWarning: Adjusting the Data\n",
      "\n",
      "\n",
      "  res = super(Function, self).__call__(*new_args, **new_kwargs)\n"
     ]
    },
    {
     "name": "stdout",
     "output_type": "stream",
     "text": [
      "Standardizing Data across genes\n",
      "\n",
      "Standardizing Data across genes\n",
      "\n",
      "Standardizing Data across genes\n",
      "\n",
      "Standardizing Data across genes\n",
      "\n",
      "Standardizing Data across genes\n",
      "\n",
      "[Parallel(n_jobs=20)]: Done 270 tasks      | elapsed: 164.6min\n"
     ]
    },
    {
     "name": "stderr",
     "output_type": "stream",
     "text": [
      "/data/nielsond/python/envs/abcd_mine/lib/python3.6/site-packages/rpy2/robjects/functions.py:106: UserWarning: Found10batches\n",
      "\n",
      "  res = super(Function, self).__call__(*new_args, **new_kwargs)\n",
      "/data/nielsond/python/envs/abcd_mine/lib/python3.6/site-packages/rpy2/robjects/functions.py:106: UserWarning: Adjusting for0covariate(s) or covariate level(s)\n",
      "\n",
      "  res = super(Function, self).__call__(*new_args, **new_kwargs)\n"
     ]
    },
    {
     "name": "stdout",
     "output_type": "stream",
     "text": [
      "Standardizing Data across genes\n",
      "\n"
     ]
    },
    {
     "name": "stderr",
     "output_type": "stream",
     "text": [
      "/data/nielsond/python/envs/abcd_mine/lib/python3.6/site-packages/rpy2/robjects/functions.py:106: UserWarning: Fitting L/S model and finding priors\n",
      "\n",
      "  res = super(Function, self).__call__(*new_args, **new_kwargs)\n",
      "/data/nielsond/python/envs/abcd_mine/lib/python3.6/site-packages/rpy2/robjects/functions.py:106: UserWarning: Finding nonparametric adjustments\n",
      "\n",
      "  res = super(Function, self).__call__(*new_args, **new_kwargs)\n",
      "/data/nielsond/python/envs/abcd_mine/lib/python3.6/site-packages/rpy2/robjects/functions.py:106: UserWarning: Adjusting the Data\n",
      "\n",
      "\n",
      "  res = super(Function, self).__call__(*new_args, **new_kwargs)\n"
     ]
    },
    {
     "name": "stdout",
     "output_type": "stream",
     "text": [
      "Standardizing Data across genes\n",
      "\n",
      "Standardizing Data across genes\n",
      "\n"
     ]
    },
    {
     "name": "stderr",
     "output_type": "stream",
     "text": [
      "/data/nielsond/python/envs/abcd_mine/lib/python3.6/site-packages/sklearn/linear_model/sag.py:326: ConvergenceWarning: The max_iter was reached which means the coef_ did not converge\n",
      "  \"the coef_ did not converge\", ConvergenceWarning)\n"
     ]
    },
    {
     "name": "stdout",
     "output_type": "stream",
     "text": [
      "Standardizing Data across genes\n",
      "\n"
     ]
    },
    {
     "name": "stderr",
     "output_type": "stream",
     "text": [
      "/data/nielsond/python/envs/abcd_mine/lib/python3.6/site-packages/sklearn/linear_model/sag.py:326: ConvergenceWarning: The max_iter was reached which means the coef_ did not converge\n",
      "  \"the coef_ did not converge\", ConvergenceWarning)\n",
      "/data/nielsond/python/envs/abcd_mine/lib/python3.6/site-packages/sklearn/linear_model/sag.py:326: ConvergenceWarning: The max_iter was reached which means the coef_ did not converge\n",
      "  \"the coef_ did not converge\", ConvergenceWarning)\n"
     ]
    },
    {
     "name": "stdout",
     "output_type": "stream",
     "text": [
      "[Parallel(n_jobs=20)]: Done 271 tasks      | elapsed: 167.5min\n"
     ]
    },
    {
     "name": "stderr",
     "output_type": "stream",
     "text": [
      "/data/nielsond/python/envs/abcd_mine/lib/python3.6/site-packages/rpy2/robjects/functions.py:106: UserWarning: Found10batches\n",
      "\n",
      "  res = super(Function, self).__call__(*new_args, **new_kwargs)\n",
      "/data/nielsond/python/envs/abcd_mine/lib/python3.6/site-packages/rpy2/robjects/functions.py:106: UserWarning: Adjusting for0covariate(s) or covariate level(s)\n",
      "\n",
      "  res = super(Function, self).__call__(*new_args, **new_kwargs)\n"
     ]
    },
    {
     "name": "stdout",
     "output_type": "stream",
     "text": [
      "Standardizing Data across genes\n",
      "\n"
     ]
    },
    {
     "name": "stderr",
     "output_type": "stream",
     "text": [
      "/data/nielsond/python/envs/abcd_mine/lib/python3.6/site-packages/rpy2/robjects/functions.py:106: UserWarning: Fitting L/S model and finding priors\n",
      "\n",
      "  res = super(Function, self).__call__(*new_args, **new_kwargs)\n",
      "/data/nielsond/python/envs/abcd_mine/lib/python3.6/site-packages/rpy2/robjects/functions.py:106: UserWarning: Finding nonparametric adjustments\n",
      "\n",
      "  res = super(Function, self).__call__(*new_args, **new_kwargs)\n",
      "/data/nielsond/python/envs/abcd_mine/lib/python3.6/site-packages/rpy2/robjects/functions.py:106: UserWarning: Adjusting the Data\n",
      "\n",
      "\n",
      "  res = super(Function, self).__call__(*new_args, **new_kwargs)\n"
     ]
    },
    {
     "name": "stdout",
     "output_type": "stream",
     "text": [
      "Standardizing Data across genes\n",
      "\n",
      "Standardizing Data across genes\n",
      "\n",
      "[Parallel(n_jobs=20)]: Done 272 tasks      | elapsed: 167.8min\n"
     ]
    },
    {
     "name": "stderr",
     "output_type": "stream",
     "text": [
      "/data/nielsond/python/envs/abcd_mine/lib/python3.6/site-packages/rpy2/robjects/functions.py:106: UserWarning: Found10batches\n",
      "\n",
      "  res = super(Function, self).__call__(*new_args, **new_kwargs)\n",
      "/data/nielsond/python/envs/abcd_mine/lib/python3.6/site-packages/rpy2/robjects/functions.py:106: UserWarning: Adjusting for0covariate(s) or covariate level(s)\n",
      "\n",
      "  res = super(Function, self).__call__(*new_args, **new_kwargs)\n"
     ]
    },
    {
     "name": "stdout",
     "output_type": "stream",
     "text": [
      "Standardizing Data across genes\n",
      "\n"
     ]
    },
    {
     "name": "stderr",
     "output_type": "stream",
     "text": [
      "/data/nielsond/python/envs/abcd_mine/lib/python3.6/site-packages/rpy2/robjects/functions.py:106: UserWarning: Fitting L/S model and finding priors\n",
      "\n",
      "  res = super(Function, self).__call__(*new_args, **new_kwargs)\n",
      "/data/nielsond/python/envs/abcd_mine/lib/python3.6/site-packages/rpy2/robjects/functions.py:106: UserWarning: Finding nonparametric adjustments\n",
      "\n",
      "  res = super(Function, self).__call__(*new_args, **new_kwargs)\n"
     ]
    },
    {
     "name": "stdout",
     "output_type": "stream",
     "text": [
      "Standardizing Data across genes\n",
      "\n"
     ]
    },
    {
     "name": "stderr",
     "output_type": "stream",
     "text": [
      "/data/nielsond/python/envs/abcd_mine/lib/python3.6/site-packages/rpy2/robjects/functions.py:106: UserWarning: Adjusting the Data\n",
      "\n",
      "\n",
      "  res = super(Function, self).__call__(*new_args, **new_kwargs)\n"
     ]
    },
    {
     "name": "stdout",
     "output_type": "stream",
     "text": [
      "Standardizing Data across genes\n",
      "\n",
      "Standardizing Data across genes\n",
      "\n",
      "Standardizing Data across genes\n",
      "\n",
      "[Parallel(n_jobs=20)]: Done 273 tasks      | elapsed: 169.0min\n"
     ]
    },
    {
     "name": "stderr",
     "output_type": "stream",
     "text": [
      "/data/nielsond/python/envs/abcd_mine/lib/python3.6/site-packages/rpy2/robjects/functions.py:106: UserWarning: Found10batches\n",
      "\n",
      "  res = super(Function, self).__call__(*new_args, **new_kwargs)\n",
      "/data/nielsond/python/envs/abcd_mine/lib/python3.6/site-packages/rpy2/robjects/functions.py:106: UserWarning: Adjusting for0covariate(s) or covariate level(s)\n",
      "\n",
      "  res = super(Function, self).__call__(*new_args, **new_kwargs)\n"
     ]
    },
    {
     "name": "stdout",
     "output_type": "stream",
     "text": [
      "Standardizing Data across genes\n",
      "\n"
     ]
    },
    {
     "name": "stderr",
     "output_type": "stream",
     "text": [
      "/data/nielsond/python/envs/abcd_mine/lib/python3.6/site-packages/rpy2/robjects/functions.py:106: UserWarning: Fitting L/S model and finding priors\n",
      "\n",
      "  res = super(Function, self).__call__(*new_args, **new_kwargs)\n",
      "/data/nielsond/python/envs/abcd_mine/lib/python3.6/site-packages/rpy2/robjects/functions.py:106: UserWarning: Finding nonparametric adjustments\n",
      "\n",
      "  res = super(Function, self).__call__(*new_args, **new_kwargs)\n",
      "/data/nielsond/python/envs/abcd_mine/lib/python3.6/site-packages/rpy2/robjects/functions.py:106: UserWarning: Adjusting the Data\n",
      "\n",
      "\n",
      "  res = super(Function, self).__call__(*new_args, **new_kwargs)\n",
      "/data/nielsond/python/envs/abcd_mine/lib/python3.6/site-packages/sklearn/linear_model/sag.py:326: ConvergenceWarning: The max_iter was reached which means the coef_ did not converge\n",
      "  \"the coef_ did not converge\", ConvergenceWarning)\n"
     ]
    },
    {
     "name": "stdout",
     "output_type": "stream",
     "text": [
      "Standardizing Data across genes\n",
      "\n",
      "Standardizing Data across genes\n",
      "\n",
      "Standardizing Data across genes\n",
      "\n"
     ]
    },
    {
     "name": "stderr",
     "output_type": "stream",
     "text": [
      "/data/nielsond/python/envs/abcd_mine/lib/python3.6/site-packages/sklearn/linear_model/sag.py:326: ConvergenceWarning: The max_iter was reached which means the coef_ did not converge\n",
      "  \"the coef_ did not converge\", ConvergenceWarning)\n"
     ]
    },
    {
     "name": "stdout",
     "output_type": "stream",
     "text": [
      "[Parallel(n_jobs=20)]: Done 274 tasks      | elapsed: 170.7min\n"
     ]
    },
    {
     "name": "stderr",
     "output_type": "stream",
     "text": [
      "/data/nielsond/python/envs/abcd_mine/lib/python3.6/site-packages/rpy2/robjects/functions.py:106: UserWarning: Found10batches\n",
      "\n",
      "  res = super(Function, self).__call__(*new_args, **new_kwargs)\n",
      "/data/nielsond/python/envs/abcd_mine/lib/python3.6/site-packages/rpy2/robjects/functions.py:106: UserWarning: Adjusting for0covariate(s) or covariate level(s)\n",
      "\n",
      "  res = super(Function, self).__call__(*new_args, **new_kwargs)\n"
     ]
    },
    {
     "name": "stdout",
     "output_type": "stream",
     "text": [
      "Standardizing Data across genes\n",
      "\n"
     ]
    },
    {
     "name": "stderr",
     "output_type": "stream",
     "text": [
      "/data/nielsond/python/envs/abcd_mine/lib/python3.6/site-packages/rpy2/robjects/functions.py:106: UserWarning: Fitting L/S model and finding priors\n",
      "\n",
      "  res = super(Function, self).__call__(*new_args, **new_kwargs)\n",
      "/data/nielsond/python/envs/abcd_mine/lib/python3.6/site-packages/rpy2/robjects/functions.py:106: UserWarning: Finding nonparametric adjustments\n",
      "\n",
      "  res = super(Function, self).__call__(*new_args, **new_kwargs)\n",
      "/data/nielsond/python/envs/abcd_mine/lib/python3.6/site-packages/rpy2/robjects/functions.py:106: UserWarning: Adjusting the Data\n",
      "\n",
      "\n",
      "  res = super(Function, self).__call__(*new_args, **new_kwargs)\n"
     ]
    },
    {
     "name": "stdout",
     "output_type": "stream",
     "text": [
      "Standardizing Data across genes\n",
      "\n",
      "Standardizing Data across genes\n",
      "\n",
      "Standardizing Data across genes\n",
      "\n",
      "[Parallel(n_jobs=20)]: Done 275 tasks      | elapsed: 171.6min\n"
     ]
    },
    {
     "name": "stderr",
     "output_type": "stream",
     "text": [
      "/data/nielsond/python/envs/abcd_mine/lib/python3.6/site-packages/rpy2/robjects/functions.py:106: UserWarning: Found10batches\n",
      "\n",
      "  res = super(Function, self).__call__(*new_args, **new_kwargs)\n",
      "/data/nielsond/python/envs/abcd_mine/lib/python3.6/site-packages/rpy2/robjects/functions.py:106: UserWarning: Adjusting for0covariate(s) or covariate level(s)\n",
      "\n",
      "  res = super(Function, self).__call__(*new_args, **new_kwargs)\n"
     ]
    },
    {
     "name": "stdout",
     "output_type": "stream",
     "text": [
      "Standardizing Data across genes\n",
      "\n"
     ]
    },
    {
     "name": "stderr",
     "output_type": "stream",
     "text": [
      "/data/nielsond/python/envs/abcd_mine/lib/python3.6/site-packages/rpy2/robjects/functions.py:106: UserWarning: Fitting L/S model and finding priors\n",
      "\n",
      "  res = super(Function, self).__call__(*new_args, **new_kwargs)\n",
      "/data/nielsond/python/envs/abcd_mine/lib/python3.6/site-packages/rpy2/robjects/functions.py:106: UserWarning: Finding nonparametric adjustments\n",
      "\n",
      "  res = super(Function, self).__call__(*new_args, **new_kwargs)\n",
      "/data/nielsond/python/envs/abcd_mine/lib/python3.6/site-packages/rpy2/robjects/functions.py:106: UserWarning: Adjusting the Data\n",
      "\n",
      "\n",
      "  res = super(Function, self).__call__(*new_args, **new_kwargs)\n"
     ]
    },
    {
     "name": "stdout",
     "output_type": "stream",
     "text": [
      "Standardizing Data across genes\n",
      "\n",
      "Standardizing Data across genes\n",
      "\n",
      "Standardizing Data across genes\n",
      "\n",
      "[Parallel(n_jobs=20)]: Done 276 tasks      | elapsed: 172.8min\n"
     ]
    },
    {
     "name": "stderr",
     "output_type": "stream",
     "text": [
      "/data/nielsond/python/envs/abcd_mine/lib/python3.6/site-packages/rpy2/robjects/functions.py:106: UserWarning: Found10batches\n",
      "\n",
      "  res = super(Function, self).__call__(*new_args, **new_kwargs)\n",
      "/data/nielsond/python/envs/abcd_mine/lib/python3.6/site-packages/rpy2/robjects/functions.py:106: UserWarning: Adjusting for0covariate(s) or covariate level(s)\n",
      "\n",
      "  res = super(Function, self).__call__(*new_args, **new_kwargs)\n"
     ]
    },
    {
     "name": "stdout",
     "output_type": "stream",
     "text": [
      "Standardizing Data across genes\n",
      "\n"
     ]
    },
    {
     "name": "stderr",
     "output_type": "stream",
     "text": [
      "/data/nielsond/python/envs/abcd_mine/lib/python3.6/site-packages/rpy2/robjects/functions.py:106: UserWarning: Fitting L/S model and finding priors\n",
      "\n",
      "  res = super(Function, self).__call__(*new_args, **new_kwargs)\n",
      "/data/nielsond/python/envs/abcd_mine/lib/python3.6/site-packages/rpy2/robjects/functions.py:106: UserWarning: Finding nonparametric adjustments\n",
      "\n",
      "  res = super(Function, self).__call__(*new_args, **new_kwargs)\n",
      "/data/nielsond/python/envs/abcd_mine/lib/python3.6/site-packages/rpy2/robjects/functions.py:106: UserWarning: Adjusting the Data\n",
      "\n",
      "\n",
      "  res = super(Function, self).__call__(*new_args, **new_kwargs)\n"
     ]
    },
    {
     "name": "stdout",
     "output_type": "stream",
     "text": [
      "Standardizing Data across genes\n",
      "\n",
      "Standardizing Data across genes\n",
      "\n",
      "Standardizing Data across genes\n",
      "\n",
      "[Parallel(n_jobs=20)]: Done 277 tasks      | elapsed: 173.6min\n"
     ]
    },
    {
     "name": "stderr",
     "output_type": "stream",
     "text": [
      "/data/nielsond/python/envs/abcd_mine/lib/python3.6/site-packages/rpy2/robjects/functions.py:106: UserWarning: Found10batches\n",
      "\n",
      "  res = super(Function, self).__call__(*new_args, **new_kwargs)\n",
      "/data/nielsond/python/envs/abcd_mine/lib/python3.6/site-packages/rpy2/robjects/functions.py:106: UserWarning: Adjusting for0covariate(s) or covariate level(s)\n",
      "\n",
      "  res = super(Function, self).__call__(*new_args, **new_kwargs)\n"
     ]
    },
    {
     "name": "stdout",
     "output_type": "stream",
     "text": [
      "Standardizing Data across genes\n",
      "\n"
     ]
    },
    {
     "name": "stderr",
     "output_type": "stream",
     "text": [
      "/data/nielsond/python/envs/abcd_mine/lib/python3.6/site-packages/rpy2/robjects/functions.py:106: UserWarning: Fitting L/S model and finding priors\n",
      "\n",
      "  res = super(Function, self).__call__(*new_args, **new_kwargs)\n",
      "/data/nielsond/python/envs/abcd_mine/lib/python3.6/site-packages/rpy2/robjects/functions.py:106: UserWarning: Finding nonparametric adjustments\n",
      "\n",
      "  res = super(Function, self).__call__(*new_args, **new_kwargs)\n",
      "/data/nielsond/python/envs/abcd_mine/lib/python3.6/site-packages/rpy2/robjects/functions.py:106: UserWarning: Adjusting the Data\n",
      "\n",
      "\n",
      "  res = super(Function, self).__call__(*new_args, **new_kwargs)\n",
      "/data/nielsond/python/envs/abcd_mine/lib/python3.6/site-packages/sklearn/linear_model/sag.py:326: ConvergenceWarning: The max_iter was reached which means the coef_ did not converge\n",
      "  \"the coef_ did not converge\", ConvergenceWarning)\n"
     ]
    },
    {
     "name": "stdout",
     "output_type": "stream",
     "text": [
      "Standardizing Data across genes\n",
      "\n",
      "Standardizing Data across genes\n",
      "\n",
      "Standardizing Data across genes\n",
      "\n",
      "[Parallel(n_jobs=20)]: Done 278 tasks      | elapsed: 176.9min\n"
     ]
    },
    {
     "name": "stderr",
     "output_type": "stream",
     "text": [
      "/data/nielsond/python/envs/abcd_mine/lib/python3.6/site-packages/rpy2/robjects/functions.py:106: UserWarning: Found10batches\n",
      "\n",
      "  res = super(Function, self).__call__(*new_args, **new_kwargs)\n",
      "/data/nielsond/python/envs/abcd_mine/lib/python3.6/site-packages/rpy2/robjects/functions.py:106: UserWarning: Adjusting for0covariate(s) or covariate level(s)\n",
      "\n",
      "  res = super(Function, self).__call__(*new_args, **new_kwargs)\n"
     ]
    },
    {
     "name": "stdout",
     "output_type": "stream",
     "text": [
      "Standardizing Data across genes\n",
      "\n"
     ]
    },
    {
     "name": "stderr",
     "output_type": "stream",
     "text": [
      "/data/nielsond/python/envs/abcd_mine/lib/python3.6/site-packages/rpy2/robjects/functions.py:106: UserWarning: Fitting L/S model and finding priors\n",
      "\n",
      "  res = super(Function, self).__call__(*new_args, **new_kwargs)\n",
      "/data/nielsond/python/envs/abcd_mine/lib/python3.6/site-packages/rpy2/robjects/functions.py:106: UserWarning: Finding nonparametric adjustments\n",
      "\n",
      "  res = super(Function, self).__call__(*new_args, **new_kwargs)\n",
      "/data/nielsond/python/envs/abcd_mine/lib/python3.6/site-packages/rpy2/robjects/functions.py:106: UserWarning: Adjusting the Data\n",
      "\n",
      "\n",
      "  res = super(Function, self).__call__(*new_args, **new_kwargs)\n"
     ]
    },
    {
     "name": "stdout",
     "output_type": "stream",
     "text": [
      "Standardizing Data across genes\n",
      "\n",
      "Standardizing Data across genes\n",
      "\n",
      "Standardizing Data across genes\n",
      "\n",
      "[Parallel(n_jobs=20)]: Done 279 tasks      | elapsed: 177.8min\n"
     ]
    },
    {
     "name": "stderr",
     "output_type": "stream",
     "text": [
      "/data/nielsond/python/envs/abcd_mine/lib/python3.6/site-packages/rpy2/robjects/functions.py:106: UserWarning: Found10batches\n",
      "\n",
      "  res = super(Function, self).__call__(*new_args, **new_kwargs)\n",
      "/data/nielsond/python/envs/abcd_mine/lib/python3.6/site-packages/rpy2/robjects/functions.py:106: UserWarning: Adjusting for0covariate(s) or covariate level(s)\n",
      "\n",
      "  res = super(Function, self).__call__(*new_args, **new_kwargs)\n"
     ]
    },
    {
     "name": "stdout",
     "output_type": "stream",
     "text": [
      "Standardizing Data across genes\n",
      "\n"
     ]
    },
    {
     "name": "stderr",
     "output_type": "stream",
     "text": [
      "/data/nielsond/python/envs/abcd_mine/lib/python3.6/site-packages/rpy2/robjects/functions.py:106: UserWarning: Fitting L/S model and finding priors\n",
      "\n",
      "  res = super(Function, self).__call__(*new_args, **new_kwargs)\n",
      "/data/nielsond/python/envs/abcd_mine/lib/python3.6/site-packages/rpy2/robjects/functions.py:106: UserWarning: Finding nonparametric adjustments\n",
      "\n",
      "  res = super(Function, self).__call__(*new_args, **new_kwargs)\n",
      "/data/nielsond/python/envs/abcd_mine/lib/python3.6/site-packages/rpy2/robjects/functions.py:106: UserWarning: Adjusting the Data\n",
      "\n",
      "\n",
      "  res = super(Function, self).__call__(*new_args, **new_kwargs)\n"
     ]
    },
    {
     "name": "stdout",
     "output_type": "stream",
     "text": [
      "Standardizing Data across genes\n",
      "\n",
      "Standardizing Data across genes\n",
      "\n",
      "Standardizing Data across genes\n",
      "\n"
     ]
    },
    {
     "name": "stderr",
     "output_type": "stream",
     "text": [
      "/data/nielsond/python/envs/abcd_mine/lib/python3.6/site-packages/sklearn/linear_model/sag.py:326: ConvergenceWarning: The max_iter was reached which means the coef_ did not converge\n",
      "  \"the coef_ did not converge\", ConvergenceWarning)\n"
     ]
    },
    {
     "name": "stdout",
     "output_type": "stream",
     "text": [
      "[Parallel(n_jobs=20)]: Done 280 tasks      | elapsed: 187.1min\n"
     ]
    },
    {
     "name": "stderr",
     "output_type": "stream",
     "text": [
      "/data/nielsond/python/envs/abcd_mine/lib/python3.6/site-packages/rpy2/robjects/functions.py:106: UserWarning: Found10batches\n",
      "\n",
      "  res = super(Function, self).__call__(*new_args, **new_kwargs)\n",
      "/data/nielsond/python/envs/abcd_mine/lib/python3.6/site-packages/rpy2/robjects/functions.py:106: UserWarning: Adjusting for0covariate(s) or covariate level(s)\n",
      "\n",
      "  res = super(Function, self).__call__(*new_args, **new_kwargs)\n"
     ]
    },
    {
     "name": "stdout",
     "output_type": "stream",
     "text": [
      "Standardizing Data across genes\n",
      "\n"
     ]
    },
    {
     "name": "stderr",
     "output_type": "stream",
     "text": [
      "/data/nielsond/python/envs/abcd_mine/lib/python3.6/site-packages/rpy2/robjects/functions.py:106: UserWarning: Fitting L/S model and finding priors\n",
      "\n",
      "  res = super(Function, self).__call__(*new_args, **new_kwargs)\n",
      "/data/nielsond/python/envs/abcd_mine/lib/python3.6/site-packages/rpy2/robjects/functions.py:106: UserWarning: Finding nonparametric adjustments\n",
      "\n",
      "  res = super(Function, self).__call__(*new_args, **new_kwargs)\n",
      "/data/nielsond/python/envs/abcd_mine/lib/python3.6/site-packages/rpy2/robjects/functions.py:106: UserWarning: Adjusting the Data\n",
      "\n",
      "\n",
      "  res = super(Function, self).__call__(*new_args, **new_kwargs)\n"
     ]
    },
    {
     "name": "stdout",
     "output_type": "stream",
     "text": [
      "Standardizing Data across genes\n",
      "\n",
      "Standardizing Data across genes\n",
      "\n",
      "Standardizing Data across genes\n",
      "\n",
      "[Parallel(n_jobs=20)]: Done 281 tasks      | elapsed: 188.7min\n"
     ]
    },
    {
     "name": "stderr",
     "output_type": "stream",
     "text": [
      "/data/nielsond/python/envs/abcd_mine/lib/python3.6/site-packages/rpy2/robjects/functions.py:106: UserWarning: Found10batches\n",
      "\n",
      "  res = super(Function, self).__call__(*new_args, **new_kwargs)\n",
      "/data/nielsond/python/envs/abcd_mine/lib/python3.6/site-packages/rpy2/robjects/functions.py:106: UserWarning: Adjusting for0covariate(s) or covariate level(s)\n",
      "\n",
      "  res = super(Function, self).__call__(*new_args, **new_kwargs)\n"
     ]
    },
    {
     "name": "stdout",
     "output_type": "stream",
     "text": [
      "Standardizing Data across genes\n",
      "\n"
     ]
    },
    {
     "name": "stderr",
     "output_type": "stream",
     "text": [
      "/data/nielsond/python/envs/abcd_mine/lib/python3.6/site-packages/rpy2/robjects/functions.py:106: UserWarning: Fitting L/S model and finding priors\n",
      "\n",
      "  res = super(Function, self).__call__(*new_args, **new_kwargs)\n",
      "/data/nielsond/python/envs/abcd_mine/lib/python3.6/site-packages/rpy2/robjects/functions.py:106: UserWarning: Finding nonparametric adjustments\n",
      "\n",
      "  res = super(Function, self).__call__(*new_args, **new_kwargs)\n",
      "/data/nielsond/python/envs/abcd_mine/lib/python3.6/site-packages/rpy2/robjects/functions.py:106: UserWarning: Adjusting the Data\n",
      "\n",
      "\n",
      "  res = super(Function, self).__call__(*new_args, **new_kwargs)\n"
     ]
    },
    {
     "name": "stdout",
     "output_type": "stream",
     "text": [
      "Standardizing Data across genes\n",
      "\n",
      "Standardizing Data across genes\n",
      "\n",
      "Standardizing Data across genes\n",
      "\n"
     ]
    },
    {
     "name": "stderr",
     "output_type": "stream",
     "text": [
      "/data/nielsond/python/envs/abcd_mine/lib/python3.6/site-packages/sklearn/linear_model/sag.py:326: ConvergenceWarning: The max_iter was reached which means the coef_ did not converge\n",
      "  \"the coef_ did not converge\", ConvergenceWarning)\n"
     ]
    },
    {
     "name": "stdout",
     "output_type": "stream",
     "text": [
      "[Parallel(n_jobs=20)]: Done 282 tasks      | elapsed: 196.6min\n"
     ]
    },
    {
     "name": "stderr",
     "output_type": "stream",
     "text": [
      "/data/nielsond/python/envs/abcd_mine/lib/python3.6/site-packages/rpy2/robjects/functions.py:106: UserWarning: Found10batches\n",
      "\n",
      "  res = super(Function, self).__call__(*new_args, **new_kwargs)\n",
      "/data/nielsond/python/envs/abcd_mine/lib/python3.6/site-packages/rpy2/robjects/functions.py:106: UserWarning: Adjusting for0covariate(s) or covariate level(s)\n",
      "\n",
      "  res = super(Function, self).__call__(*new_args, **new_kwargs)\n"
     ]
    },
    {
     "name": "stdout",
     "output_type": "stream",
     "text": [
      "Standardizing Data across genes\n",
      "\n"
     ]
    },
    {
     "name": "stderr",
     "output_type": "stream",
     "text": [
      "/data/nielsond/python/envs/abcd_mine/lib/python3.6/site-packages/rpy2/robjects/functions.py:106: UserWarning: Fitting L/S model and finding priors\n",
      "\n",
      "  res = super(Function, self).__call__(*new_args, **new_kwargs)\n",
      "/data/nielsond/python/envs/abcd_mine/lib/python3.6/site-packages/rpy2/robjects/functions.py:106: UserWarning: Finding nonparametric adjustments\n",
      "\n",
      "  res = super(Function, self).__call__(*new_args, **new_kwargs)\n",
      "/data/nielsond/python/envs/abcd_mine/lib/python3.6/site-packages/rpy2/robjects/functions.py:106: UserWarning: Adjusting the Data\n",
      "\n",
      "\n",
      "  res = super(Function, self).__call__(*new_args, **new_kwargs)\n"
     ]
    },
    {
     "name": "stdout",
     "output_type": "stream",
     "text": [
      "Standardizing Data across genes\n",
      "\n",
      "Standardizing Data across genes\n",
      "\n",
      "Standardizing Data across genes\n",
      "\n"
     ]
    },
    {
     "name": "stderr",
     "output_type": "stream",
     "text": [
      "/data/nielsond/python/envs/abcd_mine/lib/python3.6/site-packages/sklearn/linear_model/sag.py:326: ConvergenceWarning: The max_iter was reached which means the coef_ did not converge\n",
      "  \"the coef_ did not converge\", ConvergenceWarning)\n",
      "/data/nielsond/python/envs/abcd_mine/lib/python3.6/site-packages/sklearn/linear_model/sag.py:326: ConvergenceWarning: The max_iter was reached which means the coef_ did not converge\n",
      "  \"the coef_ did not converge\", ConvergenceWarning)\n",
      "/data/nielsond/python/envs/abcd_mine/lib/python3.6/site-packages/sklearn/linear_model/sag.py:326: ConvergenceWarning: The max_iter was reached which means the coef_ did not converge\n",
      "  \"the coef_ did not converge\", ConvergenceWarning)\n",
      "/data/nielsond/python/envs/abcd_mine/lib/python3.6/site-packages/sklearn/linear_model/sag.py:326: ConvergenceWarning: The max_iter was reached which means the coef_ did not converge\n",
      "  \"the coef_ did not converge\", ConvergenceWarning)\n",
      "/data/nielsond/python/envs/abcd_mine/lib/python3.6/site-packages/sklearn/linear_model/sag.py:326: ConvergenceWarning: The max_iter was reached which means the coef_ did not converge\n",
      "  \"the coef_ did not converge\", ConvergenceWarning)\n",
      "/data/nielsond/python/envs/abcd_mine/lib/python3.6/site-packages/sklearn/linear_model/sag.py:326: ConvergenceWarning: The max_iter was reached which means the coef_ did not converge\n",
      "  \"the coef_ did not converge\", ConvergenceWarning)\n",
      "/data/nielsond/python/envs/abcd_mine/lib/python3.6/site-packages/sklearn/linear_model/sag.py:326: ConvergenceWarning: The max_iter was reached which means the coef_ did not converge\n",
      "  \"the coef_ did not converge\", ConvergenceWarning)\n",
      "/data/nielsond/python/envs/abcd_mine/lib/python3.6/site-packages/sklearn/linear_model/sag.py:326: ConvergenceWarning: The max_iter was reached which means the coef_ did not converge\n",
      "  \"the coef_ did not converge\", ConvergenceWarning)\n",
      "/data/nielsond/python/envs/abcd_mine/lib/python3.6/site-packages/sklearn/linear_model/sag.py:326: ConvergenceWarning: The max_iter was reached which means the coef_ did not converge\n",
      "  \"the coef_ did not converge\", ConvergenceWarning)\n",
      "/data/nielsond/python/envs/abcd_mine/lib/python3.6/site-packages/sklearn/linear_model/sag.py:326: ConvergenceWarning: The max_iter was reached which means the coef_ did not converge\n",
      "  \"the coef_ did not converge\", ConvergenceWarning)\n"
     ]
    },
    {
     "name": "stdout",
     "output_type": "stream",
     "text": [
      "[Parallel(n_jobs=20)]: Done 283 tasks      | elapsed: 201.7min\n"
     ]
    },
    {
     "name": "stderr",
     "output_type": "stream",
     "text": [
      "/data/nielsond/python/envs/abcd_mine/lib/python3.6/site-packages/rpy2/robjects/functions.py:106: UserWarning: Found10batches\n",
      "\n",
      "  res = super(Function, self).__call__(*new_args, **new_kwargs)\n",
      "/data/nielsond/python/envs/abcd_mine/lib/python3.6/site-packages/rpy2/robjects/functions.py:106: UserWarning: Adjusting for0covariate(s) or covariate level(s)\n",
      "\n",
      "  res = super(Function, self).__call__(*new_args, **new_kwargs)\n"
     ]
    },
    {
     "name": "stdout",
     "output_type": "stream",
     "text": [
      "Standardizing Data across genes\n",
      "\n"
     ]
    },
    {
     "name": "stderr",
     "output_type": "stream",
     "text": [
      "/data/nielsond/python/envs/abcd_mine/lib/python3.6/site-packages/rpy2/robjects/functions.py:106: UserWarning: Fitting L/S model and finding priors\n",
      "\n",
      "  res = super(Function, self).__call__(*new_args, **new_kwargs)\n",
      "/data/nielsond/python/envs/abcd_mine/lib/python3.6/site-packages/rpy2/robjects/functions.py:106: UserWarning: Finding nonparametric adjustments\n",
      "\n",
      "  res = super(Function, self).__call__(*new_args, **new_kwargs)\n",
      "/data/nielsond/python/envs/abcd_mine/lib/python3.6/site-packages/rpy2/robjects/functions.py:106: UserWarning: Adjusting the Data\n",
      "\n",
      "\n",
      "  res = super(Function, self).__call__(*new_args, **new_kwargs)\n"
     ]
    },
    {
     "name": "stdout",
     "output_type": "stream",
     "text": [
      "Standardizing Data across genes\n",
      "\n",
      "Standardizing Data across genes\n",
      "\n",
      "Standardizing Data across genes\n",
      "\n",
      "[Parallel(n_jobs=20)]: Done 284 tasks      | elapsed: 203.3min\n"
     ]
    },
    {
     "name": "stderr",
     "output_type": "stream",
     "text": [
      "/data/nielsond/python/envs/abcd_mine/lib/python3.6/site-packages/rpy2/robjects/functions.py:106: UserWarning: Found10batches\n",
      "\n",
      "  res = super(Function, self).__call__(*new_args, **new_kwargs)\n",
      "/data/nielsond/python/envs/abcd_mine/lib/python3.6/site-packages/rpy2/robjects/functions.py:106: UserWarning: Adjusting for0covariate(s) or covariate level(s)\n",
      "\n",
      "  res = super(Function, self).__call__(*new_args, **new_kwargs)\n"
     ]
    },
    {
     "name": "stdout",
     "output_type": "stream",
     "text": [
      "Standardizing Data across genes\n",
      "\n"
     ]
    },
    {
     "name": "stderr",
     "output_type": "stream",
     "text": [
      "/data/nielsond/python/envs/abcd_mine/lib/python3.6/site-packages/rpy2/robjects/functions.py:106: UserWarning: Fitting L/S model and finding priors\n",
      "\n",
      "  res = super(Function, self).__call__(*new_args, **new_kwargs)\n",
      "/data/nielsond/python/envs/abcd_mine/lib/python3.6/site-packages/rpy2/robjects/functions.py:106: UserWarning: Finding nonparametric adjustments\n",
      "\n",
      "  res = super(Function, self).__call__(*new_args, **new_kwargs)\n",
      "/data/nielsond/python/envs/abcd_mine/lib/python3.6/site-packages/rpy2/robjects/functions.py:106: UserWarning: Adjusting the Data\n",
      "\n",
      "\n",
      "  res = super(Function, self).__call__(*new_args, **new_kwargs)\n"
     ]
    },
    {
     "name": "stdout",
     "output_type": "stream",
     "text": [
      "Standardizing Data across genes\n",
      "\n",
      "Standardizing Data across genes\n",
      "\n",
      "Standardizing Data across genes\n",
      "\n"
     ]
    },
    {
     "name": "stderr",
     "output_type": "stream",
     "text": [
      "/data/nielsond/python/envs/abcd_mine/lib/python3.6/site-packages/sklearn/linear_model/sag.py:326: ConvergenceWarning: The max_iter was reached which means the coef_ did not converge\n",
      "  \"the coef_ did not converge\", ConvergenceWarning)\n",
      "/data/nielsond/python/envs/abcd_mine/lib/python3.6/site-packages/sklearn/linear_model/sag.py:326: ConvergenceWarning: The max_iter was reached which means the coef_ did not converge\n",
      "  \"the coef_ did not converge\", ConvergenceWarning)\n"
     ]
    },
    {
     "name": "stdout",
     "output_type": "stream",
     "text": [
      "[Parallel(n_jobs=20)]: Done 285 tasks      | elapsed: 205.2min\n"
     ]
    },
    {
     "name": "stderr",
     "output_type": "stream",
     "text": [
      "/data/nielsond/python/envs/abcd_mine/lib/python3.6/site-packages/rpy2/robjects/functions.py:106: UserWarning: Found10batches\n",
      "\n",
      "  res = super(Function, self).__call__(*new_args, **new_kwargs)\n",
      "/data/nielsond/python/envs/abcd_mine/lib/python3.6/site-packages/rpy2/robjects/functions.py:106: UserWarning: Adjusting for0covariate(s) or covariate level(s)\n",
      "\n",
      "  res = super(Function, self).__call__(*new_args, **new_kwargs)\n"
     ]
    },
    {
     "name": "stdout",
     "output_type": "stream",
     "text": [
      "Standardizing Data across genes\n",
      "\n"
     ]
    },
    {
     "name": "stderr",
     "output_type": "stream",
     "text": [
      "/data/nielsond/python/envs/abcd_mine/lib/python3.6/site-packages/rpy2/robjects/functions.py:106: UserWarning: Fitting L/S model and finding priors\n",
      "\n",
      "  res = super(Function, self).__call__(*new_args, **new_kwargs)\n",
      "/data/nielsond/python/envs/abcd_mine/lib/python3.6/site-packages/rpy2/robjects/functions.py:106: UserWarning: Finding nonparametric adjustments\n",
      "\n",
      "  res = super(Function, self).__call__(*new_args, **new_kwargs)\n",
      "/data/nielsond/python/envs/abcd_mine/lib/python3.6/site-packages/rpy2/robjects/functions.py:106: UserWarning: Adjusting the Data\n",
      "\n",
      "\n",
      "  res = super(Function, self).__call__(*new_args, **new_kwargs)\n"
     ]
    },
    {
     "name": "stdout",
     "output_type": "stream",
     "text": [
      "Standardizing Data across genes\n",
      "\n",
      "Standardizing Data across genes\n",
      "\n",
      "Standardizing Data across genes\n",
      "\n"
     ]
    },
    {
     "name": "stderr",
     "output_type": "stream",
     "text": [
      "/data/nielsond/python/envs/abcd_mine/lib/python3.6/site-packages/sklearn/linear_model/sag.py:326: ConvergenceWarning: The max_iter was reached which means the coef_ did not converge\n",
      "  \"the coef_ did not converge\", ConvergenceWarning)\n",
      "/data/nielsond/python/envs/abcd_mine/lib/python3.6/site-packages/sklearn/linear_model/sag.py:326: ConvergenceWarning: The max_iter was reached which means the coef_ did not converge\n",
      "  \"the coef_ did not converge\", ConvergenceWarning)\n",
      "/data/nielsond/python/envs/abcd_mine/lib/python3.6/site-packages/sklearn/linear_model/sag.py:326: ConvergenceWarning: The max_iter was reached which means the coef_ did not converge\n",
      "  \"the coef_ did not converge\", ConvergenceWarning)\n",
      "/data/nielsond/python/envs/abcd_mine/lib/python3.6/site-packages/sklearn/linear_model/sag.py:326: ConvergenceWarning: The max_iter was reached which means the coef_ did not converge\n",
      "  \"the coef_ did not converge\", ConvergenceWarning)\n",
      "/data/nielsond/python/envs/abcd_mine/lib/python3.6/site-packages/sklearn/linear_model/sag.py:326: ConvergenceWarning: The max_iter was reached which means the coef_ did not converge\n",
      "  \"the coef_ did not converge\", ConvergenceWarning)\n"
     ]
    },
    {
     "name": "stdout",
     "output_type": "stream",
     "text": [
      "[Parallel(n_jobs=20)]: Done 286 tasks      | elapsed: 228.5min\n"
     ]
    },
    {
     "name": "stderr",
     "output_type": "stream",
     "text": [
      "/data/nielsond/python/envs/abcd_mine/lib/python3.6/site-packages/rpy2/robjects/functions.py:106: UserWarning: Found10batches\n",
      "\n",
      "  res = super(Function, self).__call__(*new_args, **new_kwargs)\n",
      "/data/nielsond/python/envs/abcd_mine/lib/python3.6/site-packages/rpy2/robjects/functions.py:106: UserWarning: Adjusting for0covariate(s) or covariate level(s)\n",
      "\n",
      "  res = super(Function, self).__call__(*new_args, **new_kwargs)\n"
     ]
    },
    {
     "name": "stdout",
     "output_type": "stream",
     "text": [
      "Standardizing Data across genes\n",
      "\n"
     ]
    },
    {
     "name": "stderr",
     "output_type": "stream",
     "text": [
      "/data/nielsond/python/envs/abcd_mine/lib/python3.6/site-packages/rpy2/robjects/functions.py:106: UserWarning: Fitting L/S model and finding priors\n",
      "\n",
      "  res = super(Function, self).__call__(*new_args, **new_kwargs)\n",
      "/data/nielsond/python/envs/abcd_mine/lib/python3.6/site-packages/rpy2/robjects/functions.py:106: UserWarning: Finding nonparametric adjustments\n",
      "\n",
      "  res = super(Function, self).__call__(*new_args, **new_kwargs)\n",
      "/data/nielsond/python/envs/abcd_mine/lib/python3.6/site-packages/rpy2/robjects/functions.py:106: UserWarning: Adjusting the Data\n",
      "\n",
      "\n",
      "  res = super(Function, self).__call__(*new_args, **new_kwargs)\n"
     ]
    },
    {
     "name": "stdout",
     "output_type": "stream",
     "text": [
      "Standardizing Data across genes\n",
      "\n",
      "Standardizing Data across genes\n",
      "\n",
      "Standardizing Data across genes\n",
      "\n"
     ]
    },
    {
     "name": "stderr",
     "output_type": "stream",
     "text": [
      "/data/nielsond/python/envs/abcd_mine/lib/python3.6/site-packages/sklearn/linear_model/sag.py:326: ConvergenceWarning: The max_iter was reached which means the coef_ did not converge\n",
      "  \"the coef_ did not converge\", ConvergenceWarning)\n"
     ]
    },
    {
     "name": "stdout",
     "output_type": "stream",
     "text": [
      "[Parallel(n_jobs=20)]: Done 287 tasks      | elapsed: 230.1min\n"
     ]
    },
    {
     "name": "stderr",
     "output_type": "stream",
     "text": [
      "/data/nielsond/python/envs/abcd_mine/lib/python3.6/site-packages/rpy2/robjects/functions.py:106: UserWarning: Found10batches\n",
      "\n",
      "  res = super(Function, self).__call__(*new_args, **new_kwargs)\n",
      "/data/nielsond/python/envs/abcd_mine/lib/python3.6/site-packages/rpy2/robjects/functions.py:106: UserWarning: Adjusting for0covariate(s) or covariate level(s)\n",
      "\n",
      "  res = super(Function, self).__call__(*new_args, **new_kwargs)\n"
     ]
    },
    {
     "name": "stdout",
     "output_type": "stream",
     "text": [
      "Standardizing Data across genes\n",
      "\n"
     ]
    },
    {
     "name": "stderr",
     "output_type": "stream",
     "text": [
      "/data/nielsond/python/envs/abcd_mine/lib/python3.6/site-packages/rpy2/robjects/functions.py:106: UserWarning: Fitting L/S model and finding priors\n",
      "\n",
      "  res = super(Function, self).__call__(*new_args, **new_kwargs)\n",
      "/data/nielsond/python/envs/abcd_mine/lib/python3.6/site-packages/rpy2/robjects/functions.py:106: UserWarning: Finding nonparametric adjustments\n",
      "\n",
      "  res = super(Function, self).__call__(*new_args, **new_kwargs)\n",
      "/data/nielsond/python/envs/abcd_mine/lib/python3.6/site-packages/rpy2/robjects/functions.py:106: UserWarning: Adjusting the Data\n",
      "\n",
      "\n",
      "  res = super(Function, self).__call__(*new_args, **new_kwargs)\n"
     ]
    },
    {
     "name": "stdout",
     "output_type": "stream",
     "text": [
      "Standardizing Data across genes\n",
      "\n",
      "Standardizing Data across genes\n",
      "\n",
      "Standardizing Data across genes\n",
      "\n",
      "[Parallel(n_jobs=20)]: Done 288 tasks      | elapsed: 231.4min\n"
     ]
    },
    {
     "name": "stderr",
     "output_type": "stream",
     "text": [
      "/data/nielsond/python/envs/abcd_mine/lib/python3.6/site-packages/rpy2/robjects/functions.py:106: UserWarning: Found10batches\n",
      "\n",
      "  res = super(Function, self).__call__(*new_args, **new_kwargs)\n",
      "/data/nielsond/python/envs/abcd_mine/lib/python3.6/site-packages/rpy2/robjects/functions.py:106: UserWarning: Adjusting for0covariate(s) or covariate level(s)\n",
      "\n",
      "  res = super(Function, self).__call__(*new_args, **new_kwargs)\n"
     ]
    },
    {
     "name": "stdout",
     "output_type": "stream",
     "text": [
      "Standardizing Data across genes\n",
      "\n"
     ]
    },
    {
     "name": "stderr",
     "output_type": "stream",
     "text": [
      "/data/nielsond/python/envs/abcd_mine/lib/python3.6/site-packages/rpy2/robjects/functions.py:106: UserWarning: Fitting L/S model and finding priors\n",
      "\n",
      "  res = super(Function, self).__call__(*new_args, **new_kwargs)\n",
      "/data/nielsond/python/envs/abcd_mine/lib/python3.6/site-packages/rpy2/robjects/functions.py:106: UserWarning: Finding nonparametric adjustments\n",
      "\n",
      "  res = super(Function, self).__call__(*new_args, **new_kwargs)\n",
      "/data/nielsond/python/envs/abcd_mine/lib/python3.6/site-packages/rpy2/robjects/functions.py:106: UserWarning: Adjusting the Data\n",
      "\n",
      "\n",
      "  res = super(Function, self).__call__(*new_args, **new_kwargs)\n"
     ]
    },
    {
     "name": "stdout",
     "output_type": "stream",
     "text": [
      "Standardizing Data across genes\n",
      "\n",
      "Standardizing Data across genes\n",
      "\n",
      "Standardizing Data across genes\n",
      "\n"
     ]
    },
    {
     "name": "stderr",
     "output_type": "stream",
     "text": [
      "/data/nielsond/python/envs/abcd_mine/lib/python3.6/site-packages/sklearn/linear_model/sag.py:326: ConvergenceWarning: The max_iter was reached which means the coef_ did not converge\n",
      "  \"the coef_ did not converge\", ConvergenceWarning)\n",
      "/data/nielsond/python/envs/abcd_mine/lib/python3.6/site-packages/sklearn/linear_model/sag.py:326: ConvergenceWarning: The max_iter was reached which means the coef_ did not converge\n",
      "  \"the coef_ did not converge\", ConvergenceWarning)\n"
     ]
    },
    {
     "name": "stdout",
     "output_type": "stream",
     "text": [
      "[Parallel(n_jobs=20)]: Done 289 tasks      | elapsed: 233.8min\n"
     ]
    },
    {
     "name": "stderr",
     "output_type": "stream",
     "text": [
      "/data/nielsond/python/envs/abcd_mine/lib/python3.6/site-packages/rpy2/robjects/functions.py:106: UserWarning: Found10batches\n",
      "\n",
      "  res = super(Function, self).__call__(*new_args, **new_kwargs)\n",
      "/data/nielsond/python/envs/abcd_mine/lib/python3.6/site-packages/rpy2/robjects/functions.py:106: UserWarning: Adjusting for0covariate(s) or covariate level(s)\n",
      "\n",
      "  res = super(Function, self).__call__(*new_args, **new_kwargs)\n"
     ]
    },
    {
     "name": "stdout",
     "output_type": "stream",
     "text": [
      "Standardizing Data across genes\n",
      "\n"
     ]
    },
    {
     "name": "stderr",
     "output_type": "stream",
     "text": [
      "/data/nielsond/python/envs/abcd_mine/lib/python3.6/site-packages/rpy2/robjects/functions.py:106: UserWarning: Fitting L/S model and finding priors\n",
      "\n",
      "  res = super(Function, self).__call__(*new_args, **new_kwargs)\n",
      "/data/nielsond/python/envs/abcd_mine/lib/python3.6/site-packages/rpy2/robjects/functions.py:106: UserWarning: Finding nonparametric adjustments\n",
      "\n",
      "  res = super(Function, self).__call__(*new_args, **new_kwargs)\n",
      "/data/nielsond/python/envs/abcd_mine/lib/python3.6/site-packages/rpy2/robjects/functions.py:106: UserWarning: Adjusting the Data\n",
      "\n",
      "\n",
      "  res = super(Function, self).__call__(*new_args, **new_kwargs)\n"
     ]
    },
    {
     "name": "stdout",
     "output_type": "stream",
     "text": [
      "Standardizing Data across genes\n",
      "\n",
      "Standardizing Data across genes\n",
      "\n",
      "Standardizing Data across genes\n",
      "\n"
     ]
    },
    {
     "name": "stderr",
     "output_type": "stream",
     "text": [
      "/data/nielsond/python/envs/abcd_mine/lib/python3.6/site-packages/sklearn/linear_model/sag.py:326: ConvergenceWarning: The max_iter was reached which means the coef_ did not converge\n",
      "  \"the coef_ did not converge\", ConvergenceWarning)\n"
     ]
    },
    {
     "name": "stdout",
     "output_type": "stream",
     "text": [
      "[Parallel(n_jobs=20)]: Done 290 tasks      | elapsed: 234.1min\n"
     ]
    },
    {
     "name": "stderr",
     "output_type": "stream",
     "text": [
      "/data/nielsond/python/envs/abcd_mine/lib/python3.6/site-packages/rpy2/robjects/functions.py:106: UserWarning: Found10batches\n",
      "\n",
      "  res = super(Function, self).__call__(*new_args, **new_kwargs)\n",
      "/data/nielsond/python/envs/abcd_mine/lib/python3.6/site-packages/rpy2/robjects/functions.py:106: UserWarning: Adjusting for0covariate(s) or covariate level(s)\n",
      "\n",
      "  res = super(Function, self).__call__(*new_args, **new_kwargs)\n"
     ]
    },
    {
     "name": "stdout",
     "output_type": "stream",
     "text": [
      "Standardizing Data across genes\n",
      "\n"
     ]
    },
    {
     "name": "stderr",
     "output_type": "stream",
     "text": [
      "/data/nielsond/python/envs/abcd_mine/lib/python3.6/site-packages/rpy2/robjects/functions.py:106: UserWarning: Fitting L/S model and finding priors\n",
      "\n",
      "  res = super(Function, self).__call__(*new_args, **new_kwargs)\n",
      "/data/nielsond/python/envs/abcd_mine/lib/python3.6/site-packages/rpy2/robjects/functions.py:106: UserWarning: Finding nonparametric adjustments\n",
      "\n",
      "  res = super(Function, self).__call__(*new_args, **new_kwargs)\n",
      "/data/nielsond/python/envs/abcd_mine/lib/python3.6/site-packages/rpy2/robjects/functions.py:106: UserWarning: Adjusting the Data\n",
      "\n",
      "\n",
      "  res = super(Function, self).__call__(*new_args, **new_kwargs)\n"
     ]
    },
    {
     "name": "stdout",
     "output_type": "stream",
     "text": [
      "Standardizing Data across genes\n",
      "\n",
      "Standardizing Data across genes\n",
      "\n",
      "Standardizing Data across genes\n",
      "\n"
     ]
    },
    {
     "name": "stderr",
     "output_type": "stream",
     "text": [
      "/data/nielsond/python/envs/abcd_mine/lib/python3.6/site-packages/sklearn/linear_model/sag.py:326: ConvergenceWarning: The max_iter was reached which means the coef_ did not converge\n",
      "  \"the coef_ did not converge\", ConvergenceWarning)\n"
     ]
    },
    {
     "name": "stdout",
     "output_type": "stream",
     "text": [
      "[Parallel(n_jobs=20)]: Done 291 tasks      | elapsed: 234.6min\n",
      "[Parallel(n_jobs=20)]: Done 292 tasks      | elapsed: 234.7min\n"
     ]
    },
    {
     "name": "stderr",
     "output_type": "stream",
     "text": [
      "/data/nielsond/python/envs/abcd_mine/lib/python3.6/site-packages/rpy2/robjects/functions.py:106: UserWarning: Found10batches\n",
      "\n",
      "  res = super(Function, self).__call__(*new_args, **new_kwargs)\n",
      "/data/nielsond/python/envs/abcd_mine/lib/python3.6/site-packages/rpy2/robjects/functions.py:106: UserWarning: Adjusting for0covariate(s) or covariate level(s)\n",
      "\n",
      "  res = super(Function, self).__call__(*new_args, **new_kwargs)\n"
     ]
    },
    {
     "name": "stdout",
     "output_type": "stream",
     "text": [
      "Standardizing Data across genes\n",
      "\n"
     ]
    },
    {
     "name": "stderr",
     "output_type": "stream",
     "text": [
      "/data/nielsond/python/envs/abcd_mine/lib/python3.6/site-packages/rpy2/robjects/functions.py:106: UserWarning: Fitting L/S model and finding priors\n",
      "\n",
      "  res = super(Function, self).__call__(*new_args, **new_kwargs)\n",
      "/data/nielsond/python/envs/abcd_mine/lib/python3.6/site-packages/sklearn/linear_model/sag.py:326: ConvergenceWarning: The max_iter was reached which means the coef_ did not converge\n",
      "  \"the coef_ did not converge\", ConvergenceWarning)\n",
      "/data/nielsond/python/envs/abcd_mine/lib/python3.6/site-packages/rpy2/robjects/functions.py:106: UserWarning: Finding nonparametric adjustments\n",
      "\n",
      "  res = super(Function, self).__call__(*new_args, **new_kwargs)\n",
      "/data/nielsond/python/envs/abcd_mine/lib/python3.6/site-packages/sklearn/linear_model/sag.py:326: ConvergenceWarning: The max_iter was reached which means the coef_ did not converge\n",
      "  \"the coef_ did not converge\", ConvergenceWarning)\n",
      "/data/nielsond/python/envs/abcd_mine/lib/python3.6/site-packages/rpy2/robjects/functions.py:106: UserWarning: Found10batches\n",
      "\n",
      "  res = super(Function, self).__call__(*new_args, **new_kwargs)\n",
      "/data/nielsond/python/envs/abcd_mine/lib/python3.6/site-packages/rpy2/robjects/functions.py:106: UserWarning: Adjusting for0covariate(s) or covariate level(s)\n",
      "\n",
      "  res = super(Function, self).__call__(*new_args, **new_kwargs)\n"
     ]
    },
    {
     "name": "stdout",
     "output_type": "stream",
     "text": [
      "Standardizing Data across genes\n",
      "\n"
     ]
    },
    {
     "name": "stderr",
     "output_type": "stream",
     "text": [
      "/data/nielsond/python/envs/abcd_mine/lib/python3.6/site-packages/rpy2/robjects/functions.py:106: UserWarning: Fitting L/S model and finding priors\n",
      "\n",
      "  res = super(Function, self).__call__(*new_args, **new_kwargs)\n",
      "/data/nielsond/python/envs/abcd_mine/lib/python3.6/site-packages/rpy2/robjects/functions.py:106: UserWarning: Finding nonparametric adjustments\n",
      "\n",
      "  res = super(Function, self).__call__(*new_args, **new_kwargs)\n",
      "/data/nielsond/python/envs/abcd_mine/lib/python3.6/site-packages/rpy2/robjects/functions.py:106: UserWarning: Adjusting the Data\n",
      "\n",
      "\n",
      "  res = super(Function, self).__call__(*new_args, **new_kwargs)\n"
     ]
    },
    {
     "name": "stdout",
     "output_type": "stream",
     "text": [
      "[Parallel(n_jobs=20)]: Done 293 tasks      | elapsed: 234.8min\n",
      "Standardizing Data across genes\n",
      "\n",
      "[Parallel(n_jobs=20)]: Done 294 tasks      | elapsed: 234.8min\n"
     ]
    },
    {
     "name": "stderr",
     "output_type": "stream",
     "text": [
      "/data/nielsond/python/envs/abcd_mine/lib/python3.6/site-packages/rpy2/robjects/functions.py:106: UserWarning: Found10batches\n",
      "\n",
      "  res = super(Function, self).__call__(*new_args, **new_kwargs)\n",
      "/data/nielsond/python/envs/abcd_mine/lib/python3.6/site-packages/rpy2/robjects/functions.py:106: UserWarning: Adjusting for0covariate(s) or covariate level(s)\n",
      "\n",
      "  res = super(Function, self).__call__(*new_args, **new_kwargs)\n"
     ]
    },
    {
     "name": "stdout",
     "output_type": "stream",
     "text": [
      "Standardizing Data across genes\n",
      "\n"
     ]
    },
    {
     "name": "stderr",
     "output_type": "stream",
     "text": [
      "/data/nielsond/python/envs/abcd_mine/lib/python3.6/site-packages/rpy2/robjects/functions.py:106: UserWarning: Fitting L/S model and finding priors\n",
      "\n",
      "  res = super(Function, self).__call__(*new_args, **new_kwargs)\n",
      "/data/nielsond/python/envs/abcd_mine/lib/python3.6/site-packages/rpy2/robjects/functions.py:106: UserWarning: Finding nonparametric adjustments\n",
      "\n",
      "  res = super(Function, self).__call__(*new_args, **new_kwargs)\n",
      "/data/nielsond/python/envs/abcd_mine/lib/python3.6/site-packages/rpy2/robjects/functions.py:106: UserWarning: Found10batches\n",
      "\n",
      "  res = super(Function, self).__call__(*new_args, **new_kwargs)\n",
      "/data/nielsond/python/envs/abcd_mine/lib/python3.6/site-packages/rpy2/robjects/functions.py:106: UserWarning: Adjusting for0covariate(s) or covariate level(s)\n",
      "\n",
      "  res = super(Function, self).__call__(*new_args, **new_kwargs)\n"
     ]
    },
    {
     "name": "stdout",
     "output_type": "stream",
     "text": [
      "Standardizing Data across genes\n",
      "\n"
     ]
    },
    {
     "name": "stderr",
     "output_type": "stream",
     "text": [
      "/data/nielsond/python/envs/abcd_mine/lib/python3.6/site-packages/rpy2/robjects/functions.py:106: UserWarning: Fitting L/S model and finding priors\n",
      "\n",
      "  res = super(Function, self).__call__(*new_args, **new_kwargs)\n",
      "/data/nielsond/python/envs/abcd_mine/lib/python3.6/site-packages/rpy2/robjects/functions.py:106: UserWarning: Finding nonparametric adjustments\n",
      "\n",
      "  res = super(Function, self).__call__(*new_args, **new_kwargs)\n",
      "/data/nielsond/python/envs/abcd_mine/lib/python3.6/site-packages/rpy2/robjects/functions.py:106: UserWarning: Adjusting the Data\n",
      "\n",
      "\n",
      "  res = super(Function, self).__call__(*new_args, **new_kwargs)\n"
     ]
    },
    {
     "name": "stdout",
     "output_type": "stream",
     "text": [
      "Standardizing Data across genes\n",
      "\n"
     ]
    },
    {
     "name": "stderr",
     "output_type": "stream",
     "text": [
      "/data/nielsond/python/envs/abcd_mine/lib/python3.6/site-packages/rpy2/robjects/functions.py:106: UserWarning: Adjusting the Data\n",
      "\n",
      "\n",
      "  res = super(Function, self).__call__(*new_args, **new_kwargs)\n"
     ]
    },
    {
     "name": "stdout",
     "output_type": "stream",
     "text": [
      "Standardizing Data across genes\n",
      "\n",
      "Standardizing Data across genes\n",
      "\n"
     ]
    },
    {
     "name": "stderr",
     "output_type": "stream",
     "text": [
      "/data/nielsond/python/envs/abcd_mine/lib/python3.6/site-packages/rpy2/robjects/functions.py:106: UserWarning: Adjusting the Data\n",
      "\n",
      "\n",
      "  res = super(Function, self).__call__(*new_args, **new_kwargs)\n"
     ]
    },
    {
     "name": "stdout",
     "output_type": "stream",
     "text": [
      "Standardizing Data across genes\n",
      "\n",
      "Standardizing Data across genes\n",
      "\n",
      "Standardizing Data across genes\n",
      "\n",
      "Standardizing Data across genes\n",
      "\n",
      "Standardizing Data across genes\n",
      "\n",
      "Standardizing Data across genes\n",
      "\n",
      "Standardizing Data across genes\n",
      "\n",
      "Standardizing Data across genes\n",
      "\n"
     ]
    },
    {
     "name": "stderr",
     "output_type": "stream",
     "text": [
      "/data/nielsond/python/envs/abcd_mine/lib/python3.6/site-packages/sklearn/linear_model/sag.py:326: ConvergenceWarning: The max_iter was reached which means the coef_ did not converge\n",
      "  \"the coef_ did not converge\", ConvergenceWarning)\n"
     ]
    },
    {
     "name": "stdout",
     "output_type": "stream",
     "text": [
      "[Parallel(n_jobs=20)]: Done 295 tasks      | elapsed: 235.9min\n"
     ]
    },
    {
     "name": "stderr",
     "output_type": "stream",
     "text": [
      "/data/nielsond/python/envs/abcd_mine/lib/python3.6/site-packages/rpy2/robjects/functions.py:106: UserWarning: Found10batches\n",
      "\n",
      "  res = super(Function, self).__call__(*new_args, **new_kwargs)\n",
      "/data/nielsond/python/envs/abcd_mine/lib/python3.6/site-packages/rpy2/robjects/functions.py:106: UserWarning: Adjusting for0covariate(s) or covariate level(s)\n",
      "\n",
      "  res = super(Function, self).__call__(*new_args, **new_kwargs)\n"
     ]
    },
    {
     "name": "stdout",
     "output_type": "stream",
     "text": [
      "Standardizing Data across genes\n",
      "\n"
     ]
    },
    {
     "name": "stderr",
     "output_type": "stream",
     "text": [
      "/data/nielsond/python/envs/abcd_mine/lib/python3.6/site-packages/rpy2/robjects/functions.py:106: UserWarning: Fitting L/S model and finding priors\n",
      "\n",
      "  res = super(Function, self).__call__(*new_args, **new_kwargs)\n",
      "/data/nielsond/python/envs/abcd_mine/lib/python3.6/site-packages/rpy2/robjects/functions.py:106: UserWarning: Finding nonparametric adjustments\n",
      "\n",
      "  res = super(Function, self).__call__(*new_args, **new_kwargs)\n",
      "/data/nielsond/python/envs/abcd_mine/lib/python3.6/site-packages/sklearn/linear_model/sag.py:326: ConvergenceWarning: The max_iter was reached which means the coef_ did not converge\n",
      "  \"the coef_ did not converge\", ConvergenceWarning)\n",
      "/data/nielsond/python/envs/abcd_mine/lib/python3.6/site-packages/rpy2/robjects/functions.py:106: UserWarning: Adjusting the Data\n",
      "\n",
      "\n",
      "  res = super(Function, self).__call__(*new_args, **new_kwargs)\n"
     ]
    },
    {
     "name": "stdout",
     "output_type": "stream",
     "text": [
      "Standardizing Data across genes\n",
      "\n",
      "[Parallel(n_jobs=20)]: Done 296 tasks      | elapsed: 236.0min\n"
     ]
    },
    {
     "name": "stderr",
     "output_type": "stream",
     "text": [
      "/data/nielsond/python/envs/abcd_mine/lib/python3.6/site-packages/rpy2/robjects/functions.py:106: UserWarning: Found10batches\n",
      "\n",
      "  res = super(Function, self).__call__(*new_args, **new_kwargs)\n",
      "/data/nielsond/python/envs/abcd_mine/lib/python3.6/site-packages/rpy2/robjects/functions.py:106: UserWarning: Adjusting for0covariate(s) or covariate level(s)\n",
      "\n",
      "  res = super(Function, self).__call__(*new_args, **new_kwargs)\n"
     ]
    },
    {
     "name": "stdout",
     "output_type": "stream",
     "text": [
      "Standardizing Data across genes\n",
      "\n"
     ]
    },
    {
     "name": "stderr",
     "output_type": "stream",
     "text": [
      "/data/nielsond/python/envs/abcd_mine/lib/python3.6/site-packages/rpy2/robjects/functions.py:106: UserWarning: Fitting L/S model and finding priors\n",
      "\n",
      "  res = super(Function, self).__call__(*new_args, **new_kwargs)\n",
      "/data/nielsond/python/envs/abcd_mine/lib/python3.6/site-packages/rpy2/robjects/functions.py:106: UserWarning: Finding nonparametric adjustments\n",
      "\n",
      "  res = super(Function, self).__call__(*new_args, **new_kwargs)\n"
     ]
    },
    {
     "name": "stdout",
     "output_type": "stream",
     "text": [
      "Standardizing Data across genes\n",
      "\n"
     ]
    },
    {
     "name": "stderr",
     "output_type": "stream",
     "text": [
      "/data/nielsond/python/envs/abcd_mine/lib/python3.6/site-packages/rpy2/robjects/functions.py:106: UserWarning: Adjusting the Data\n",
      "\n",
      "\n",
      "  res = super(Function, self).__call__(*new_args, **new_kwargs)\n"
     ]
    },
    {
     "name": "stdout",
     "output_type": "stream",
     "text": [
      "Standardizing Data across genes\n",
      "\n",
      "Standardizing Data across genes\n",
      "\n",
      "Standardizing Data across genes\n",
      "\n",
      "Standardizing Data across genes\n",
      "\n"
     ]
    },
    {
     "name": "stderr",
     "output_type": "stream",
     "text": [
      "/data/nielsond/python/envs/abcd_mine/lib/python3.6/site-packages/sklearn/linear_model/sag.py:326: ConvergenceWarning: The max_iter was reached which means the coef_ did not converge\n",
      "  \"the coef_ did not converge\", ConvergenceWarning)\n"
     ]
    },
    {
     "name": "stdout",
     "output_type": "stream",
     "text": [
      "[Parallel(n_jobs=20)]: Done 297 tasks      | elapsed: 236.7min\n"
     ]
    },
    {
     "name": "stderr",
     "output_type": "stream",
     "text": [
      "/data/nielsond/python/envs/abcd_mine/lib/python3.6/site-packages/rpy2/robjects/functions.py:106: UserWarning: Found10batches\n",
      "\n",
      "  res = super(Function, self).__call__(*new_args, **new_kwargs)\n",
      "/data/nielsond/python/envs/abcd_mine/lib/python3.6/site-packages/rpy2/robjects/functions.py:106: UserWarning: Adjusting for0covariate(s) or covariate level(s)\n",
      "\n",
      "  res = super(Function, self).__call__(*new_args, **new_kwargs)\n"
     ]
    },
    {
     "name": "stdout",
     "output_type": "stream",
     "text": [
      "Standardizing Data across genes\n",
      "\n"
     ]
    },
    {
     "name": "stderr",
     "output_type": "stream",
     "text": [
      "/data/nielsond/python/envs/abcd_mine/lib/python3.6/site-packages/rpy2/robjects/functions.py:106: UserWarning: Fitting L/S model and finding priors\n",
      "\n",
      "  res = super(Function, self).__call__(*new_args, **new_kwargs)\n",
      "/data/nielsond/python/envs/abcd_mine/lib/python3.6/site-packages/rpy2/robjects/functions.py:106: UserWarning: Finding nonparametric adjustments\n",
      "\n",
      "  res = super(Function, self).__call__(*new_args, **new_kwargs)\n",
      "/data/nielsond/python/envs/abcd_mine/lib/python3.6/site-packages/rpy2/robjects/functions.py:106: UserWarning: Adjusting the Data\n",
      "\n",
      "\n",
      "  res = super(Function, self).__call__(*new_args, **new_kwargs)\n"
     ]
    },
    {
     "name": "stdout",
     "output_type": "stream",
     "text": [
      "Standardizing Data across genes\n",
      "\n"
     ]
    },
    {
     "name": "stderr",
     "output_type": "stream",
     "text": [
      "/data/nielsond/python/envs/abcd_mine/lib/python3.6/site-packages/sklearn/linear_model/sag.py:326: ConvergenceWarning: The max_iter was reached which means the coef_ did not converge\n",
      "  \"the coef_ did not converge\", ConvergenceWarning)\n"
     ]
    },
    {
     "name": "stdout",
     "output_type": "stream",
     "text": [
      "[Parallel(n_jobs=20)]: Done 298 tasks      | elapsed: 236.9min\n"
     ]
    },
    {
     "name": "stderr",
     "output_type": "stream",
     "text": [
      "/data/nielsond/python/envs/abcd_mine/lib/python3.6/site-packages/rpy2/robjects/functions.py:106: UserWarning: Found10batches\n",
      "\n",
      "  res = super(Function, self).__call__(*new_args, **new_kwargs)\n",
      "/data/nielsond/python/envs/abcd_mine/lib/python3.6/site-packages/rpy2/robjects/functions.py:106: UserWarning: Adjusting for0covariate(s) or covariate level(s)\n",
      "\n",
      "  res = super(Function, self).__call__(*new_args, **new_kwargs)\n"
     ]
    },
    {
     "name": "stdout",
     "output_type": "stream",
     "text": [
      "Standardizing Data across genes\n",
      "\n"
     ]
    },
    {
     "name": "stderr",
     "output_type": "stream",
     "text": [
      "/data/nielsond/python/envs/abcd_mine/lib/python3.6/site-packages/rpy2/robjects/functions.py:106: UserWarning: Fitting L/S model and finding priors\n",
      "\n",
      "  res = super(Function, self).__call__(*new_args, **new_kwargs)\n",
      "/data/nielsond/python/envs/abcd_mine/lib/python3.6/site-packages/rpy2/robjects/functions.py:106: UserWarning: Finding nonparametric adjustments\n",
      "\n",
      "  res = super(Function, self).__call__(*new_args, **new_kwargs)\n"
     ]
    },
    {
     "name": "stdout",
     "output_type": "stream",
     "text": [
      "Standardizing Data across genes\n",
      "\n"
     ]
    },
    {
     "name": "stderr",
     "output_type": "stream",
     "text": [
      "/data/nielsond/python/envs/abcd_mine/lib/python3.6/site-packages/rpy2/robjects/functions.py:106: UserWarning: Adjusting the Data\n",
      "\n",
      "\n",
      "  res = super(Function, self).__call__(*new_args, **new_kwargs)\n"
     ]
    },
    {
     "name": "stdout",
     "output_type": "stream",
     "text": [
      "Standardizing Data across genes\n",
      "\n",
      "Standardizing Data across genes\n",
      "\n",
      "[Parallel(n_jobs=20)]: Done 299 tasks      | elapsed: 237.2min\n"
     ]
    },
    {
     "name": "stderr",
     "output_type": "stream",
     "text": [
      "/data/nielsond/python/envs/abcd_mine/lib/python3.6/site-packages/rpy2/robjects/functions.py:106: UserWarning: Found10batches\n",
      "\n",
      "  res = super(Function, self).__call__(*new_args, **new_kwargs)\n",
      "/data/nielsond/python/envs/abcd_mine/lib/python3.6/site-packages/rpy2/robjects/functions.py:106: UserWarning: Adjusting for0covariate(s) or covariate level(s)\n",
      "\n",
      "  res = super(Function, self).__call__(*new_args, **new_kwargs)\n"
     ]
    },
    {
     "name": "stdout",
     "output_type": "stream",
     "text": [
      "Standardizing Data across genes\n",
      "\n"
     ]
    },
    {
     "name": "stderr",
     "output_type": "stream",
     "text": [
      "/data/nielsond/python/envs/abcd_mine/lib/python3.6/site-packages/rpy2/robjects/functions.py:106: UserWarning: Fitting L/S model and finding priors\n",
      "\n",
      "  res = super(Function, self).__call__(*new_args, **new_kwargs)\n",
      "/data/nielsond/python/envs/abcd_mine/lib/python3.6/site-packages/rpy2/robjects/functions.py:106: UserWarning: Finding nonparametric adjustments\n",
      "\n",
      "  res = super(Function, self).__call__(*new_args, **new_kwargs)\n"
     ]
    },
    {
     "name": "stdout",
     "output_type": "stream",
     "text": [
      "Standardizing Data across genes\n",
      "\n"
     ]
    },
    {
     "name": "stderr",
     "output_type": "stream",
     "text": [
      "/data/nielsond/python/envs/abcd_mine/lib/python3.6/site-packages/rpy2/robjects/functions.py:106: UserWarning: Adjusting the Data\n",
      "\n",
      "\n",
      "  res = super(Function, self).__call__(*new_args, **new_kwargs)\n"
     ]
    },
    {
     "name": "stdout",
     "output_type": "stream",
     "text": [
      "Standardizing Data across genes\n",
      "\n",
      "Standardizing Data across genes\n",
      "\n",
      "Standardizing Data across genes\n",
      "\n",
      "Standardizing Data across genes\n",
      "\n"
     ]
    },
    {
     "name": "stderr",
     "output_type": "stream",
     "text": [
      "/data/nielsond/python/envs/abcd_mine/lib/python3.6/site-packages/sklearn/linear_model/sag.py:326: ConvergenceWarning: The max_iter was reached which means the coef_ did not converge\n",
      "  \"the coef_ did not converge\", ConvergenceWarning)\n"
     ]
    },
    {
     "name": "stdout",
     "output_type": "stream",
     "text": [
      "[Parallel(n_jobs=20)]: Done 300 tasks      | elapsed: 238.7min\n"
     ]
    },
    {
     "name": "stderr",
     "output_type": "stream",
     "text": [
      "/data/nielsond/python/envs/abcd_mine/lib/python3.6/site-packages/rpy2/robjects/functions.py:106: UserWarning: Found10batches\n",
      "\n",
      "  res = super(Function, self).__call__(*new_args, **new_kwargs)\n",
      "/data/nielsond/python/envs/abcd_mine/lib/python3.6/site-packages/rpy2/robjects/functions.py:106: UserWarning: Adjusting for0covariate(s) or covariate level(s)\n",
      "\n",
      "  res = super(Function, self).__call__(*new_args, **new_kwargs)\n"
     ]
    },
    {
     "name": "stdout",
     "output_type": "stream",
     "text": [
      "Standardizing Data across genes\n",
      "\n"
     ]
    },
    {
     "name": "stderr",
     "output_type": "stream",
     "text": [
      "/data/nielsond/python/envs/abcd_mine/lib/python3.6/site-packages/rpy2/robjects/functions.py:106: UserWarning: Fitting L/S model and finding priors\n",
      "\n",
      "  res = super(Function, self).__call__(*new_args, **new_kwargs)\n",
      "/data/nielsond/python/envs/abcd_mine/lib/python3.6/site-packages/rpy2/robjects/functions.py:106: UserWarning: Finding nonparametric adjustments\n",
      "\n",
      "  res = super(Function, self).__call__(*new_args, **new_kwargs)\n",
      "/data/nielsond/python/envs/abcd_mine/lib/python3.6/site-packages/rpy2/robjects/functions.py:106: UserWarning: Adjusting the Data\n",
      "\n",
      "\n",
      "  res = super(Function, self).__call__(*new_args, **new_kwargs)\n"
     ]
    },
    {
     "name": "stdout",
     "output_type": "stream",
     "text": [
      "Standardizing Data across genes\n",
      "\n",
      "Standardizing Data across genes\n",
      "\n",
      "Standardizing Data across genes\n",
      "\n",
      "[Parallel(n_jobs=20)]: Done 301 tasks      | elapsed: 239.5min\n"
     ]
    },
    {
     "name": "stderr",
     "output_type": "stream",
     "text": [
      "/data/nielsond/python/envs/abcd_mine/lib/python3.6/site-packages/rpy2/robjects/functions.py:106: UserWarning: Found10batches\n",
      "\n",
      "  res = super(Function, self).__call__(*new_args, **new_kwargs)\n",
      "/data/nielsond/python/envs/abcd_mine/lib/python3.6/site-packages/rpy2/robjects/functions.py:106: UserWarning: Adjusting for0covariate(s) or covariate level(s)\n",
      "\n",
      "  res = super(Function, self).__call__(*new_args, **new_kwargs)\n"
     ]
    },
    {
     "name": "stdout",
     "output_type": "stream",
     "text": [
      "Standardizing Data across genes\n",
      "\n"
     ]
    },
    {
     "name": "stderr",
     "output_type": "stream",
     "text": [
      "/data/nielsond/python/envs/abcd_mine/lib/python3.6/site-packages/rpy2/robjects/functions.py:106: UserWarning: Fitting L/S model and finding priors\n",
      "\n",
      "  res = super(Function, self).__call__(*new_args, **new_kwargs)\n",
      "/data/nielsond/python/envs/abcd_mine/lib/python3.6/site-packages/rpy2/robjects/functions.py:106: UserWarning: Finding nonparametric adjustments\n",
      "\n",
      "  res = super(Function, self).__call__(*new_args, **new_kwargs)\n",
      "/data/nielsond/python/envs/abcd_mine/lib/python3.6/site-packages/sklearn/linear_model/sag.py:326: ConvergenceWarning: The max_iter was reached which means the coef_ did not converge\n",
      "  \"the coef_ did not converge\", ConvergenceWarning)\n",
      "/data/nielsond/python/envs/abcd_mine/lib/python3.6/site-packages/rpy2/robjects/functions.py:106: UserWarning: Adjusting the Data\n",
      "\n",
      "\n",
      "  res = super(Function, self).__call__(*new_args, **new_kwargs)\n"
     ]
    },
    {
     "name": "stdout",
     "output_type": "stream",
     "text": [
      "Standardizing Data across genes\n",
      "\n",
      "Standardizing Data across genes\n",
      "\n",
      "Standardizing Data across genes\n",
      "\n"
     ]
    },
    {
     "name": "stderr",
     "output_type": "stream",
     "text": [
      "/data/nielsond/python/envs/abcd_mine/lib/python3.6/site-packages/sklearn/linear_model/sag.py:326: ConvergenceWarning: The max_iter was reached which means the coef_ did not converge\n",
      "  \"the coef_ did not converge\", ConvergenceWarning)\n"
     ]
    },
    {
     "name": "stdout",
     "output_type": "stream",
     "text": [
      "[Parallel(n_jobs=20)]: Done 302 tasks      | elapsed: 240.2min\n"
     ]
    },
    {
     "name": "stderr",
     "output_type": "stream",
     "text": [
      "/data/nielsond/python/envs/abcd_mine/lib/python3.6/site-packages/rpy2/robjects/functions.py:106: UserWarning: Found10batches\n",
      "\n",
      "  res = super(Function, self).__call__(*new_args, **new_kwargs)\n",
      "/data/nielsond/python/envs/abcd_mine/lib/python3.6/site-packages/rpy2/robjects/functions.py:106: UserWarning: Adjusting for0covariate(s) or covariate level(s)\n",
      "\n",
      "  res = super(Function, self).__call__(*new_args, **new_kwargs)\n"
     ]
    },
    {
     "name": "stdout",
     "output_type": "stream",
     "text": [
      "Standardizing Data across genes\n",
      "\n"
     ]
    },
    {
     "name": "stderr",
     "output_type": "stream",
     "text": [
      "/data/nielsond/python/envs/abcd_mine/lib/python3.6/site-packages/rpy2/robjects/functions.py:106: UserWarning: Fitting L/S model and finding priors\n",
      "\n",
      "  res = super(Function, self).__call__(*new_args, **new_kwargs)\n",
      "/data/nielsond/python/envs/abcd_mine/lib/python3.6/site-packages/rpy2/robjects/functions.py:106: UserWarning: Finding nonparametric adjustments\n",
      "\n",
      "  res = super(Function, self).__call__(*new_args, **new_kwargs)\n",
      "/data/nielsond/python/envs/abcd_mine/lib/python3.6/site-packages/rpy2/robjects/functions.py:106: UserWarning: Adjusting the Data\n",
      "\n",
      "\n",
      "  res = super(Function, self).__call__(*new_args, **new_kwargs)\n"
     ]
    },
    {
     "name": "stdout",
     "output_type": "stream",
     "text": [
      "Standardizing Data across genes\n",
      "\n",
      "Standardizing Data across genes\n",
      "\n",
      "Standardizing Data across genes\n",
      "\n",
      "[Parallel(n_jobs=20)]: Done 303 tasks      | elapsed: 241.1min\n"
     ]
    },
    {
     "name": "stderr",
     "output_type": "stream",
     "text": [
      "/data/nielsond/python/envs/abcd_mine/lib/python3.6/site-packages/rpy2/robjects/functions.py:106: UserWarning: Found10batches\n",
      "\n",
      "  res = super(Function, self).__call__(*new_args, **new_kwargs)\n",
      "/data/nielsond/python/envs/abcd_mine/lib/python3.6/site-packages/rpy2/robjects/functions.py:106: UserWarning: Adjusting for0covariate(s) or covariate level(s)\n",
      "\n",
      "  res = super(Function, self).__call__(*new_args, **new_kwargs)\n"
     ]
    },
    {
     "name": "stdout",
     "output_type": "stream",
     "text": [
      "Standardizing Data across genes\n",
      "\n"
     ]
    },
    {
     "name": "stderr",
     "output_type": "stream",
     "text": [
      "/data/nielsond/python/envs/abcd_mine/lib/python3.6/site-packages/rpy2/robjects/functions.py:106: UserWarning: Fitting L/S model and finding priors\n",
      "\n",
      "  res = super(Function, self).__call__(*new_args, **new_kwargs)\n",
      "/data/nielsond/python/envs/abcd_mine/lib/python3.6/site-packages/rpy2/robjects/functions.py:106: UserWarning: Finding nonparametric adjustments\n",
      "\n",
      "  res = super(Function, self).__call__(*new_args, **new_kwargs)\n",
      "/data/nielsond/python/envs/abcd_mine/lib/python3.6/site-packages/rpy2/robjects/functions.py:106: UserWarning: Adjusting the Data\n",
      "\n",
      "\n",
      "  res = super(Function, self).__call__(*new_args, **new_kwargs)\n"
     ]
    },
    {
     "name": "stdout",
     "output_type": "stream",
     "text": [
      "Standardizing Data across genes\n",
      "\n"
     ]
    },
    {
     "name": "stderr",
     "output_type": "stream",
     "text": [
      "/data/nielsond/python/envs/abcd_mine/lib/python3.6/site-packages/sklearn/linear_model/sag.py:326: ConvergenceWarning: The max_iter was reached which means the coef_ did not converge\n",
      "  \"the coef_ did not converge\", ConvergenceWarning)\n"
     ]
    },
    {
     "name": "stdout",
     "output_type": "stream",
     "text": [
      "Standardizing Data across genes\n",
      "\n",
      "[Parallel(n_jobs=20)]: Done 304 tasks      | elapsed: 241.4min\n",
      "Standardizing Data across genes\n",
      "\n"
     ]
    },
    {
     "name": "stderr",
     "output_type": "stream",
     "text": [
      "/data/nielsond/python/envs/abcd_mine/lib/python3.6/site-packages/sklearn/linear_model/sag.py:326: ConvergenceWarning: The max_iter was reached which means the coef_ did not converge\n",
      "  \"the coef_ did not converge\", ConvergenceWarning)\n",
      "/data/nielsond/python/envs/abcd_mine/lib/python3.6/site-packages/rpy2/robjects/functions.py:106: UserWarning: Found10batches\n",
      "\n",
      "  res = super(Function, self).__call__(*new_args, **new_kwargs)\n",
      "/data/nielsond/python/envs/abcd_mine/lib/python3.6/site-packages/rpy2/robjects/functions.py:106: UserWarning: Adjusting for0covariate(s) or covariate level(s)\n",
      "\n",
      "  res = super(Function, self).__call__(*new_args, **new_kwargs)\n"
     ]
    },
    {
     "name": "stdout",
     "output_type": "stream",
     "text": [
      "Standardizing Data across genes\n",
      "\n"
     ]
    },
    {
     "name": "stderr",
     "output_type": "stream",
     "text": [
      "/data/nielsond/python/envs/abcd_mine/lib/python3.6/site-packages/rpy2/robjects/functions.py:106: UserWarning: Fitting L/S model and finding priors\n",
      "\n",
      "  res = super(Function, self).__call__(*new_args, **new_kwargs)\n",
      "/data/nielsond/python/envs/abcd_mine/lib/python3.6/site-packages/rpy2/robjects/functions.py:106: UserWarning: Finding nonparametric adjustments\n",
      "\n",
      "  res = super(Function, self).__call__(*new_args, **new_kwargs)\n"
     ]
    },
    {
     "name": "stdout",
     "output_type": "stream",
     "text": [
      "[Parallel(n_jobs=20)]: Done 305 tasks      | elapsed: 241.7min\n"
     ]
    },
    {
     "name": "stderr",
     "output_type": "stream",
     "text": [
      "/data/nielsond/python/envs/abcd_mine/lib/python3.6/site-packages/rpy2/robjects/functions.py:106: UserWarning: Found10batches\n",
      "\n",
      "  res = super(Function, self).__call__(*new_args, **new_kwargs)\n",
      "/data/nielsond/python/envs/abcd_mine/lib/python3.6/site-packages/rpy2/robjects/functions.py:106: UserWarning: Adjusting for0covariate(s) or covariate level(s)\n",
      "\n",
      "  res = super(Function, self).__call__(*new_args, **new_kwargs)\n",
      "/data/nielsond/python/envs/abcd_mine/lib/python3.6/site-packages/rpy2/robjects/functions.py:106: UserWarning: Adjusting the Data\n",
      "\n",
      "\n",
      "  res = super(Function, self).__call__(*new_args, **new_kwargs)\n"
     ]
    },
    {
     "name": "stdout",
     "output_type": "stream",
     "text": [
      "Standardizing Data across genes\n",
      "\n"
     ]
    },
    {
     "name": "stderr",
     "output_type": "stream",
     "text": [
      "/data/nielsond/python/envs/abcd_mine/lib/python3.6/site-packages/rpy2/robjects/functions.py:106: UserWarning: Fitting L/S model and finding priors\n",
      "\n",
      "  res = super(Function, self).__call__(*new_args, **new_kwargs)\n",
      "/data/nielsond/python/envs/abcd_mine/lib/python3.6/site-packages/rpy2/robjects/functions.py:106: UserWarning: Finding nonparametric adjustments\n",
      "\n",
      "  res = super(Function, self).__call__(*new_args, **new_kwargs)\n",
      "/data/nielsond/python/envs/abcd_mine/lib/python3.6/site-packages/rpy2/robjects/functions.py:106: UserWarning: Adjusting the Data\n",
      "\n",
      "\n",
      "  res = super(Function, self).__call__(*new_args, **new_kwargs)\n"
     ]
    },
    {
     "name": "stdout",
     "output_type": "stream",
     "text": [
      "Standardizing Data across genes\n",
      "\n",
      "Standardizing Data across genes\n",
      "\n",
      "Standardizing Data across genes\n",
      "\n",
      "Standardizing Data across genes\n",
      "\n",
      "Standardizing Data across genes\n",
      "\n",
      "Standardizing Data across genes\n",
      "\n"
     ]
    },
    {
     "name": "stderr",
     "output_type": "stream",
     "text": [
      "/data/nielsond/python/envs/abcd_mine/lib/python3.6/site-packages/sklearn/linear_model/sag.py:326: ConvergenceWarning: The max_iter was reached which means the coef_ did not converge\n",
      "  \"the coef_ did not converge\", ConvergenceWarning)\n"
     ]
    },
    {
     "name": "stdout",
     "output_type": "stream",
     "text": [
      "[Parallel(n_jobs=20)]: Done 306 tasks      | elapsed: 245.9min\n"
     ]
    },
    {
     "name": "stderr",
     "output_type": "stream",
     "text": [
      "/data/nielsond/python/envs/abcd_mine/lib/python3.6/site-packages/rpy2/robjects/functions.py:106: UserWarning: Found10batches\n",
      "\n",
      "  res = super(Function, self).__call__(*new_args, **new_kwargs)\n",
      "/data/nielsond/python/envs/abcd_mine/lib/python3.6/site-packages/rpy2/robjects/functions.py:106: UserWarning: Adjusting for0covariate(s) or covariate level(s)\n",
      "\n",
      "  res = super(Function, self).__call__(*new_args, **new_kwargs)\n"
     ]
    },
    {
     "name": "stdout",
     "output_type": "stream",
     "text": [
      "Standardizing Data across genes\n",
      "\n"
     ]
    },
    {
     "name": "stderr",
     "output_type": "stream",
     "text": [
      "/data/nielsond/python/envs/abcd_mine/lib/python3.6/site-packages/rpy2/robjects/functions.py:106: UserWarning: Fitting L/S model and finding priors\n",
      "\n",
      "  res = super(Function, self).__call__(*new_args, **new_kwargs)\n",
      "/data/nielsond/python/envs/abcd_mine/lib/python3.6/site-packages/rpy2/robjects/functions.py:106: UserWarning: Finding nonparametric adjustments\n",
      "\n",
      "  res = super(Function, self).__call__(*new_args, **new_kwargs)\n",
      "/data/nielsond/python/envs/abcd_mine/lib/python3.6/site-packages/rpy2/robjects/functions.py:106: UserWarning: Adjusting the Data\n",
      "\n",
      "\n",
      "  res = super(Function, self).__call__(*new_args, **new_kwargs)\n"
     ]
    },
    {
     "name": "stdout",
     "output_type": "stream",
     "text": [
      "Standardizing Data across genes\n",
      "\n",
      "Standardizing Data across genes\n",
      "\n",
      "Standardizing Data across genes\n",
      "\n",
      "[Parallel(n_jobs=20)]: Done 307 tasks      | elapsed: 247.2min\n"
     ]
    },
    {
     "name": "stderr",
     "output_type": "stream",
     "text": [
      "/data/nielsond/python/envs/abcd_mine/lib/python3.6/site-packages/rpy2/robjects/functions.py:106: UserWarning: Found10batches\n",
      "\n",
      "  res = super(Function, self).__call__(*new_args, **new_kwargs)\n",
      "/data/nielsond/python/envs/abcd_mine/lib/python3.6/site-packages/rpy2/robjects/functions.py:106: UserWarning: Adjusting for0covariate(s) or covariate level(s)\n",
      "\n",
      "  res = super(Function, self).__call__(*new_args, **new_kwargs)\n"
     ]
    },
    {
     "name": "stdout",
     "output_type": "stream",
     "text": [
      "Standardizing Data across genes\n",
      "\n"
     ]
    },
    {
     "name": "stderr",
     "output_type": "stream",
     "text": [
      "/data/nielsond/python/envs/abcd_mine/lib/python3.6/site-packages/rpy2/robjects/functions.py:106: UserWarning: Fitting L/S model and finding priors\n",
      "\n",
      "  res = super(Function, self).__call__(*new_args, **new_kwargs)\n",
      "/data/nielsond/python/envs/abcd_mine/lib/python3.6/site-packages/rpy2/robjects/functions.py:106: UserWarning: Finding nonparametric adjustments\n",
      "\n",
      "  res = super(Function, self).__call__(*new_args, **new_kwargs)\n",
      "/data/nielsond/python/envs/abcd_mine/lib/python3.6/site-packages/rpy2/robjects/functions.py:106: UserWarning: Adjusting the Data\n",
      "\n",
      "\n",
      "  res = super(Function, self).__call__(*new_args, **new_kwargs)\n"
     ]
    },
    {
     "name": "stdout",
     "output_type": "stream",
     "text": [
      "Standardizing Data across genes\n",
      "\n",
      "Standardizing Data across genes\n",
      "\n",
      "Standardizing Data across genes\n",
      "\n"
     ]
    },
    {
     "name": "stderr",
     "output_type": "stream",
     "text": [
      "/data/nielsond/python/envs/abcd_mine/lib/python3.6/site-packages/sklearn/linear_model/sag.py:326: ConvergenceWarning: The max_iter was reached which means the coef_ did not converge\n",
      "  \"the coef_ did not converge\", ConvergenceWarning)\n"
     ]
    },
    {
     "name": "stdout",
     "output_type": "stream",
     "text": [
      "[Parallel(n_jobs=20)]: Done 308 tasks      | elapsed: 250.0min\n"
     ]
    },
    {
     "name": "stderr",
     "output_type": "stream",
     "text": [
      "/data/nielsond/python/envs/abcd_mine/lib/python3.6/site-packages/rpy2/robjects/functions.py:106: UserWarning: Found10batches\n",
      "\n",
      "  res = super(Function, self).__call__(*new_args, **new_kwargs)\n",
      "/data/nielsond/python/envs/abcd_mine/lib/python3.6/site-packages/rpy2/robjects/functions.py:106: UserWarning: Adjusting for0covariate(s) or covariate level(s)\n",
      "\n",
      "  res = super(Function, self).__call__(*new_args, **new_kwargs)\n"
     ]
    },
    {
     "name": "stdout",
     "output_type": "stream",
     "text": [
      "Standardizing Data across genes\n",
      "\n"
     ]
    },
    {
     "name": "stderr",
     "output_type": "stream",
     "text": [
      "/data/nielsond/python/envs/abcd_mine/lib/python3.6/site-packages/rpy2/robjects/functions.py:106: UserWarning: Fitting L/S model and finding priors\n",
      "\n",
      "  res = super(Function, self).__call__(*new_args, **new_kwargs)\n",
      "/data/nielsond/python/envs/abcd_mine/lib/python3.6/site-packages/rpy2/robjects/functions.py:106: UserWarning: Finding nonparametric adjustments\n",
      "\n",
      "  res = super(Function, self).__call__(*new_args, **new_kwargs)\n",
      "/data/nielsond/python/envs/abcd_mine/lib/python3.6/site-packages/rpy2/robjects/functions.py:106: UserWarning: Adjusting the Data\n",
      "\n",
      "\n",
      "  res = super(Function, self).__call__(*new_args, **new_kwargs)\n"
     ]
    },
    {
     "name": "stdout",
     "output_type": "stream",
     "text": [
      "Standardizing Data across genes\n",
      "\n",
      "Standardizing Data across genes\n",
      "\n",
      "Standardizing Data across genes\n",
      "\n",
      "[Parallel(n_jobs=20)]: Done 309 tasks      | elapsed: 260.2min\n"
     ]
    },
    {
     "name": "stderr",
     "output_type": "stream",
     "text": [
      "/data/nielsond/python/envs/abcd_mine/lib/python3.6/site-packages/rpy2/robjects/functions.py:106: UserWarning: Found10batches\n",
      "\n",
      "  res = super(Function, self).__call__(*new_args, **new_kwargs)\n",
      "/data/nielsond/python/envs/abcd_mine/lib/python3.6/site-packages/rpy2/robjects/functions.py:106: UserWarning: Adjusting for0covariate(s) or covariate level(s)\n",
      "\n",
      "  res = super(Function, self).__call__(*new_args, **new_kwargs)\n"
     ]
    },
    {
     "name": "stdout",
     "output_type": "stream",
     "text": [
      "Standardizing Data across genes\n",
      "\n"
     ]
    },
    {
     "name": "stderr",
     "output_type": "stream",
     "text": [
      "/data/nielsond/python/envs/abcd_mine/lib/python3.6/site-packages/rpy2/robjects/functions.py:106: UserWarning: Fitting L/S model and finding priors\n",
      "\n",
      "  res = super(Function, self).__call__(*new_args, **new_kwargs)\n",
      "/data/nielsond/python/envs/abcd_mine/lib/python3.6/site-packages/rpy2/robjects/functions.py:106: UserWarning: Finding nonparametric adjustments\n",
      "\n",
      "  res = super(Function, self).__call__(*new_args, **new_kwargs)\n",
      "/data/nielsond/python/envs/abcd_mine/lib/python3.6/site-packages/rpy2/robjects/functions.py:106: UserWarning: Adjusting the Data\n",
      "\n",
      "\n",
      "  res = super(Function, self).__call__(*new_args, **new_kwargs)\n"
     ]
    },
    {
     "name": "stdout",
     "output_type": "stream",
     "text": [
      "Standardizing Data across genes\n",
      "\n",
      "Standardizing Data across genes\n",
      "\n",
      "Standardizing Data across genes\n",
      "\n"
     ]
    },
    {
     "name": "stderr",
     "output_type": "stream",
     "text": [
      "/data/nielsond/python/envs/abcd_mine/lib/python3.6/site-packages/sklearn/linear_model/sag.py:326: ConvergenceWarning: The max_iter was reached which means the coef_ did not converge\n",
      "  \"the coef_ did not converge\", ConvergenceWarning)\n"
     ]
    },
    {
     "name": "stdout",
     "output_type": "stream",
     "text": [
      "[Parallel(n_jobs=20)]: Done 310 tasks      | elapsed: 261.5min\n"
     ]
    },
    {
     "name": "stderr",
     "output_type": "stream",
     "text": [
      "/data/nielsond/python/envs/abcd_mine/lib/python3.6/site-packages/rpy2/robjects/functions.py:106: UserWarning: Found10batches\n",
      "\n",
      "  res = super(Function, self).__call__(*new_args, **new_kwargs)\n",
      "/data/nielsond/python/envs/abcd_mine/lib/python3.6/site-packages/rpy2/robjects/functions.py:106: UserWarning: Adjusting for0covariate(s) or covariate level(s)\n",
      "\n",
      "  res = super(Function, self).__call__(*new_args, **new_kwargs)\n"
     ]
    },
    {
     "name": "stdout",
     "output_type": "stream",
     "text": [
      "Standardizing Data across genes\n",
      "\n"
     ]
    },
    {
     "name": "stderr",
     "output_type": "stream",
     "text": [
      "/data/nielsond/python/envs/abcd_mine/lib/python3.6/site-packages/rpy2/robjects/functions.py:106: UserWarning: Fitting L/S model and finding priors\n",
      "\n",
      "  res = super(Function, self).__call__(*new_args, **new_kwargs)\n",
      "/data/nielsond/python/envs/abcd_mine/lib/python3.6/site-packages/rpy2/robjects/functions.py:106: UserWarning: Finding nonparametric adjustments\n",
      "\n",
      "  res = super(Function, self).__call__(*new_args, **new_kwargs)\n",
      "/data/nielsond/python/envs/abcd_mine/lib/python3.6/site-packages/rpy2/robjects/functions.py:106: UserWarning: Adjusting the Data\n",
      "\n",
      "\n",
      "  res = super(Function, self).__call__(*new_args, **new_kwargs)\n"
     ]
    },
    {
     "name": "stdout",
     "output_type": "stream",
     "text": [
      "Standardizing Data across genes\n",
      "\n",
      "Standardizing Data across genes\n",
      "\n",
      "Standardizing Data across genes\n",
      "\n",
      "[Parallel(n_jobs=20)]: Done 311 tasks      | elapsed: 262.4min\n"
     ]
    },
    {
     "name": "stderr",
     "output_type": "stream",
     "text": [
      "/data/nielsond/python/envs/abcd_mine/lib/python3.6/site-packages/rpy2/robjects/functions.py:106: UserWarning: Found10batches\n",
      "\n",
      "  res = super(Function, self).__call__(*new_args, **new_kwargs)\n",
      "/data/nielsond/python/envs/abcd_mine/lib/python3.6/site-packages/rpy2/robjects/functions.py:106: UserWarning: Adjusting for0covariate(s) or covariate level(s)\n",
      "\n",
      "  res = super(Function, self).__call__(*new_args, **new_kwargs)\n"
     ]
    },
    {
     "name": "stdout",
     "output_type": "stream",
     "text": [
      "Standardizing Data across genes\n",
      "\n"
     ]
    },
    {
     "name": "stderr",
     "output_type": "stream",
     "text": [
      "/data/nielsond/python/envs/abcd_mine/lib/python3.6/site-packages/rpy2/robjects/functions.py:106: UserWarning: Fitting L/S model and finding priors\n",
      "\n",
      "  res = super(Function, self).__call__(*new_args, **new_kwargs)\n",
      "/data/nielsond/python/envs/abcd_mine/lib/python3.6/site-packages/rpy2/robjects/functions.py:106: UserWarning: Finding nonparametric adjustments\n",
      "\n",
      "  res = super(Function, self).__call__(*new_args, **new_kwargs)\n",
      "/data/nielsond/python/envs/abcd_mine/lib/python3.6/site-packages/rpy2/robjects/functions.py:106: UserWarning: Adjusting the Data\n",
      "\n",
      "\n",
      "  res = super(Function, self).__call__(*new_args, **new_kwargs)\n"
     ]
    },
    {
     "name": "stdout",
     "output_type": "stream",
     "text": [
      "Standardizing Data across genes\n",
      "\n",
      "Standardizing Data across genes\n",
      "\n",
      "Standardizing Data across genes\n",
      "\n"
     ]
    },
    {
     "name": "stderr",
     "output_type": "stream",
     "text": [
      "/data/nielsond/python/envs/abcd_mine/lib/python3.6/site-packages/sklearn/linear_model/sag.py:326: ConvergenceWarning: The max_iter was reached which means the coef_ did not converge\n",
      "  \"the coef_ did not converge\", ConvergenceWarning)\n",
      "/data/nielsond/python/envs/abcd_mine/lib/python3.6/site-packages/sklearn/linear_model/sag.py:326: ConvergenceWarning: The max_iter was reached which means the coef_ did not converge\n",
      "  \"the coef_ did not converge\", ConvergenceWarning)\n"
     ]
    },
    {
     "name": "stdout",
     "output_type": "stream",
     "text": [
      "[Parallel(n_jobs=20)]: Done 312 tasks      | elapsed: 269.4min\n"
     ]
    },
    {
     "name": "stderr",
     "output_type": "stream",
     "text": [
      "/data/nielsond/python/envs/abcd_mine/lib/python3.6/site-packages/rpy2/robjects/functions.py:106: UserWarning: Found10batches\n",
      "\n",
      "  res = super(Function, self).__call__(*new_args, **new_kwargs)\n",
      "/data/nielsond/python/envs/abcd_mine/lib/python3.6/site-packages/rpy2/robjects/functions.py:106: UserWarning: Adjusting for0covariate(s) or covariate level(s)\n",
      "\n",
      "  res = super(Function, self).__call__(*new_args, **new_kwargs)\n"
     ]
    },
    {
     "name": "stdout",
     "output_type": "stream",
     "text": [
      "Standardizing Data across genes\n",
      "\n"
     ]
    },
    {
     "name": "stderr",
     "output_type": "stream",
     "text": [
      "/data/nielsond/python/envs/abcd_mine/lib/python3.6/site-packages/rpy2/robjects/functions.py:106: UserWarning: Fitting L/S model and finding priors\n",
      "\n",
      "  res = super(Function, self).__call__(*new_args, **new_kwargs)\n",
      "/data/nielsond/python/envs/abcd_mine/lib/python3.6/site-packages/rpy2/robjects/functions.py:106: UserWarning: Finding nonparametric adjustments\n",
      "\n",
      "  res = super(Function, self).__call__(*new_args, **new_kwargs)\n",
      "/data/nielsond/python/envs/abcd_mine/lib/python3.6/site-packages/rpy2/robjects/functions.py:106: UserWarning: Adjusting the Data\n",
      "\n",
      "\n",
      "  res = super(Function, self).__call__(*new_args, **new_kwargs)\n"
     ]
    },
    {
     "name": "stdout",
     "output_type": "stream",
     "text": [
      "Standardizing Data across genes\n",
      "\n",
      "Standardizing Data across genes\n",
      "\n",
      "Standardizing Data across genes\n",
      "\n"
     ]
    },
    {
     "name": "stderr",
     "output_type": "stream",
     "text": [
      "/data/nielsond/python/envs/abcd_mine/lib/python3.6/site-packages/sklearn/linear_model/sag.py:326: ConvergenceWarning: The max_iter was reached which means the coef_ did not converge\n",
      "  \"the coef_ did not converge\", ConvergenceWarning)\n",
      "/data/nielsond/python/envs/abcd_mine/lib/python3.6/site-packages/sklearn/linear_model/sag.py:326: ConvergenceWarning: The max_iter was reached which means the coef_ did not converge\n",
      "  \"the coef_ did not converge\", ConvergenceWarning)\n",
      "/data/nielsond/python/envs/abcd_mine/lib/python3.6/site-packages/sklearn/linear_model/sag.py:326: ConvergenceWarning: The max_iter was reached which means the coef_ did not converge\n",
      "  \"the coef_ did not converge\", ConvergenceWarning)\n"
     ]
    },
    {
     "name": "stdout",
     "output_type": "stream",
     "text": [
      "[Parallel(n_jobs=20)]: Done 313 tasks      | elapsed: 272.1min\n"
     ]
    },
    {
     "name": "stderr",
     "output_type": "stream",
     "text": [
      "/data/nielsond/python/envs/abcd_mine/lib/python3.6/site-packages/rpy2/robjects/functions.py:106: UserWarning: Found10batches\n",
      "\n",
      "  res = super(Function, self).__call__(*new_args, **new_kwargs)\n",
      "/data/nielsond/python/envs/abcd_mine/lib/python3.6/site-packages/rpy2/robjects/functions.py:106: UserWarning: Adjusting for0covariate(s) or covariate level(s)\n",
      "\n",
      "  res = super(Function, self).__call__(*new_args, **new_kwargs)\n"
     ]
    },
    {
     "name": "stdout",
     "output_type": "stream",
     "text": [
      "Standardizing Data across genes\n",
      "\n"
     ]
    },
    {
     "name": "stderr",
     "output_type": "stream",
     "text": [
      "/data/nielsond/python/envs/abcd_mine/lib/python3.6/site-packages/rpy2/robjects/functions.py:106: UserWarning: Fitting L/S model and finding priors\n",
      "\n",
      "  res = super(Function, self).__call__(*new_args, **new_kwargs)\n",
      "/data/nielsond/python/envs/abcd_mine/lib/python3.6/site-packages/rpy2/robjects/functions.py:106: UserWarning: Finding nonparametric adjustments\n",
      "\n",
      "  res = super(Function, self).__call__(*new_args, **new_kwargs)\n",
      "/data/nielsond/python/envs/abcd_mine/lib/python3.6/site-packages/sklearn/linear_model/sag.py:326: ConvergenceWarning: The max_iter was reached which means the coef_ did not converge\n",
      "  \"the coef_ did not converge\", ConvergenceWarning)\n",
      "/data/nielsond/python/envs/abcd_mine/lib/python3.6/site-packages/rpy2/robjects/functions.py:106: UserWarning: Adjusting the Data\n",
      "\n",
      "\n",
      "  res = super(Function, self).__call__(*new_args, **new_kwargs)\n"
     ]
    },
    {
     "name": "stdout",
     "output_type": "stream",
     "text": [
      "Standardizing Data across genes\n",
      "\n",
      "Standardizing Data across genes\n",
      "\n",
      "Standardizing Data across genes\n",
      "\n"
     ]
    },
    {
     "name": "stderr",
     "output_type": "stream",
     "text": [
      "/data/nielsond/python/envs/abcd_mine/lib/python3.6/site-packages/sklearn/linear_model/sag.py:326: ConvergenceWarning: The max_iter was reached which means the coef_ did not converge\n",
      "  \"the coef_ did not converge\", ConvergenceWarning)\n"
     ]
    },
    {
     "name": "stdout",
     "output_type": "stream",
     "text": [
      "[Parallel(n_jobs=20)]: Done 314 tasks      | elapsed: 272.8min\n"
     ]
    },
    {
     "name": "stderr",
     "output_type": "stream",
     "text": [
      "/data/nielsond/python/envs/abcd_mine/lib/python3.6/site-packages/rpy2/robjects/functions.py:106: UserWarning: Found10batches\n",
      "\n",
      "  res = super(Function, self).__call__(*new_args, **new_kwargs)\n",
      "/data/nielsond/python/envs/abcd_mine/lib/python3.6/site-packages/rpy2/robjects/functions.py:106: UserWarning: Adjusting for0covariate(s) or covariate level(s)\n",
      "\n",
      "  res = super(Function, self).__call__(*new_args, **new_kwargs)\n"
     ]
    },
    {
     "name": "stdout",
     "output_type": "stream",
     "text": [
      "Standardizing Data across genes\n",
      "\n"
     ]
    },
    {
     "name": "stderr",
     "output_type": "stream",
     "text": [
      "/data/nielsond/python/envs/abcd_mine/lib/python3.6/site-packages/rpy2/robjects/functions.py:106: UserWarning: Fitting L/S model and finding priors\n",
      "\n",
      "  res = super(Function, self).__call__(*new_args, **new_kwargs)\n",
      "/data/nielsond/python/envs/abcd_mine/lib/python3.6/site-packages/rpy2/robjects/functions.py:106: UserWarning: Finding nonparametric adjustments\n",
      "\n",
      "  res = super(Function, self).__call__(*new_args, **new_kwargs)\n",
      "/data/nielsond/python/envs/abcd_mine/lib/python3.6/site-packages/rpy2/robjects/functions.py:106: UserWarning: Adjusting the Data\n",
      "\n",
      "\n",
      "  res = super(Function, self).__call__(*new_args, **new_kwargs)\n"
     ]
    },
    {
     "name": "stdout",
     "output_type": "stream",
     "text": [
      "Standardizing Data across genes\n",
      "\n",
      "Standardizing Data across genes\n",
      "\n",
      "Standardizing Data across genes\n",
      "\n"
     ]
    },
    {
     "name": "stderr",
     "output_type": "stream",
     "text": [
      "/data/nielsond/python/envs/abcd_mine/lib/python3.6/site-packages/sklearn/linear_model/sag.py:326: ConvergenceWarning: The max_iter was reached which means the coef_ did not converge\n",
      "  \"the coef_ did not converge\", ConvergenceWarning)\n",
      "/data/nielsond/python/envs/abcd_mine/lib/python3.6/site-packages/sklearn/linear_model/sag.py:326: ConvergenceWarning: The max_iter was reached which means the coef_ did not converge\n",
      "  \"the coef_ did not converge\", ConvergenceWarning)\n",
      "/data/nielsond/python/envs/abcd_mine/lib/python3.6/site-packages/sklearn/linear_model/sag.py:326: ConvergenceWarning: The max_iter was reached which means the coef_ did not converge\n",
      "  \"the coef_ did not converge\", ConvergenceWarning)\n"
     ]
    },
    {
     "name": "stdout",
     "output_type": "stream",
     "text": [
      "[Parallel(n_jobs=20)]: Done 315 tasks      | elapsed: 273.9min\n"
     ]
    },
    {
     "name": "stderr",
     "output_type": "stream",
     "text": [
      "/data/nielsond/python/envs/abcd_mine/lib/python3.6/site-packages/rpy2/robjects/functions.py:106: UserWarning: Found10batches\n",
      "\n",
      "  res = super(Function, self).__call__(*new_args, **new_kwargs)\n",
      "/data/nielsond/python/envs/abcd_mine/lib/python3.6/site-packages/rpy2/robjects/functions.py:106: UserWarning: Adjusting for0covariate(s) or covariate level(s)\n",
      "\n",
      "  res = super(Function, self).__call__(*new_args, **new_kwargs)\n"
     ]
    },
    {
     "name": "stdout",
     "output_type": "stream",
     "text": [
      "Standardizing Data across genes\n",
      "\n"
     ]
    },
    {
     "name": "stderr",
     "output_type": "stream",
     "text": [
      "/data/nielsond/python/envs/abcd_mine/lib/python3.6/site-packages/rpy2/robjects/functions.py:106: UserWarning: Fitting L/S model and finding priors\n",
      "\n",
      "  res = super(Function, self).__call__(*new_args, **new_kwargs)\n",
      "/data/nielsond/python/envs/abcd_mine/lib/python3.6/site-packages/rpy2/robjects/functions.py:106: UserWarning: Finding nonparametric adjustments\n",
      "\n",
      "  res = super(Function, self).__call__(*new_args, **new_kwargs)\n",
      "/data/nielsond/python/envs/abcd_mine/lib/python3.6/site-packages/rpy2/robjects/functions.py:106: UserWarning: Adjusting the Data\n",
      "\n",
      "\n",
      "  res = super(Function, self).__call__(*new_args, **new_kwargs)\n"
     ]
    },
    {
     "name": "stdout",
     "output_type": "stream",
     "text": [
      "Standardizing Data across genes\n",
      "\n",
      "Standardizing Data across genes\n",
      "\n",
      "Standardizing Data across genes\n",
      "\n"
     ]
    },
    {
     "name": "stderr",
     "output_type": "stream",
     "text": [
      "/data/nielsond/python/envs/abcd_mine/lib/python3.6/site-packages/sklearn/linear_model/sag.py:326: ConvergenceWarning: The max_iter was reached which means the coef_ did not converge\n",
      "  \"the coef_ did not converge\", ConvergenceWarning)\n"
     ]
    },
    {
     "name": "stdout",
     "output_type": "stream",
     "text": [
      "[Parallel(n_jobs=20)]: Done 316 tasks      | elapsed: 275.5min\n"
     ]
    },
    {
     "name": "stderr",
     "output_type": "stream",
     "text": [
      "/data/nielsond/python/envs/abcd_mine/lib/python3.6/site-packages/rpy2/robjects/functions.py:106: UserWarning: Found10batches\n",
      "\n",
      "  res = super(Function, self).__call__(*new_args, **new_kwargs)\n",
      "/data/nielsond/python/envs/abcd_mine/lib/python3.6/site-packages/rpy2/robjects/functions.py:106: UserWarning: Adjusting for0covariate(s) or covariate level(s)\n",
      "\n",
      "  res = super(Function, self).__call__(*new_args, **new_kwargs)\n"
     ]
    },
    {
     "name": "stdout",
     "output_type": "stream",
     "text": [
      "Standardizing Data across genes\n",
      "\n"
     ]
    },
    {
     "name": "stderr",
     "output_type": "stream",
     "text": [
      "/data/nielsond/python/envs/abcd_mine/lib/python3.6/site-packages/rpy2/robjects/functions.py:106: UserWarning: Fitting L/S model and finding priors\n",
      "\n",
      "  res = super(Function, self).__call__(*new_args, **new_kwargs)\n",
      "/data/nielsond/python/envs/abcd_mine/lib/python3.6/site-packages/rpy2/robjects/functions.py:106: UserWarning: Finding nonparametric adjustments\n",
      "\n",
      "  res = super(Function, self).__call__(*new_args, **new_kwargs)\n",
      "/data/nielsond/python/envs/abcd_mine/lib/python3.6/site-packages/rpy2/robjects/functions.py:106: UserWarning: Adjusting the Data\n",
      "\n",
      "\n",
      "  res = super(Function, self).__call__(*new_args, **new_kwargs)\n"
     ]
    },
    {
     "name": "stdout",
     "output_type": "stream",
     "text": [
      "Standardizing Data across genes\n",
      "\n",
      "Standardizing Data across genes\n",
      "\n",
      "Standardizing Data across genes\n",
      "\n"
     ]
    },
    {
     "name": "stderr",
     "output_type": "stream",
     "text": [
      "/data/nielsond/python/envs/abcd_mine/lib/python3.6/site-packages/sklearn/linear_model/sag.py:326: ConvergenceWarning: The max_iter was reached which means the coef_ did not converge\n",
      "  \"the coef_ did not converge\", ConvergenceWarning)\n"
     ]
    },
    {
     "name": "stdout",
     "output_type": "stream",
     "text": [
      "[Parallel(n_jobs=20)]: Done 317 tasks      | elapsed: 276.2min\n"
     ]
    },
    {
     "name": "stderr",
     "output_type": "stream",
     "text": [
      "/data/nielsond/python/envs/abcd_mine/lib/python3.6/site-packages/rpy2/robjects/functions.py:106: UserWarning: Found10batches\n",
      "\n",
      "  res = super(Function, self).__call__(*new_args, **new_kwargs)\n",
      "/data/nielsond/python/envs/abcd_mine/lib/python3.6/site-packages/rpy2/robjects/functions.py:106: UserWarning: Adjusting for0covariate(s) or covariate level(s)\n",
      "\n",
      "  res = super(Function, self).__call__(*new_args, **new_kwargs)\n"
     ]
    },
    {
     "name": "stdout",
     "output_type": "stream",
     "text": [
      "Standardizing Data across genes\n",
      "\n"
     ]
    },
    {
     "name": "stderr",
     "output_type": "stream",
     "text": [
      "/data/nielsond/python/envs/abcd_mine/lib/python3.6/site-packages/rpy2/robjects/functions.py:106: UserWarning: Fitting L/S model and finding priors\n",
      "\n",
      "  res = super(Function, self).__call__(*new_args, **new_kwargs)\n",
      "/data/nielsond/python/envs/abcd_mine/lib/python3.6/site-packages/rpy2/robjects/functions.py:106: UserWarning: Finding nonparametric adjustments\n",
      "\n",
      "  res = super(Function, self).__call__(*new_args, **new_kwargs)\n",
      "/data/nielsond/python/envs/abcd_mine/lib/python3.6/site-packages/rpy2/robjects/functions.py:106: UserWarning: Adjusting the Data\n",
      "\n",
      "\n",
      "  res = super(Function, self).__call__(*new_args, **new_kwargs)\n"
     ]
    },
    {
     "name": "stdout",
     "output_type": "stream",
     "text": [
      "Standardizing Data across genes\n",
      "\n",
      "Standardizing Data across genes\n",
      "\n",
      "Standardizing Data across genes\n",
      "\n",
      "[Parallel(n_jobs=20)]: Done 318 tasks      | elapsed: 276.7min\n"
     ]
    },
    {
     "name": "stderr",
     "output_type": "stream",
     "text": [
      "/data/nielsond/python/envs/abcd_mine/lib/python3.6/site-packages/rpy2/robjects/functions.py:106: UserWarning: Found10batches\n",
      "\n",
      "  res = super(Function, self).__call__(*new_args, **new_kwargs)\n",
      "/data/nielsond/python/envs/abcd_mine/lib/python3.6/site-packages/rpy2/robjects/functions.py:106: UserWarning: Adjusting for0covariate(s) or covariate level(s)\n",
      "\n",
      "  res = super(Function, self).__call__(*new_args, **new_kwargs)\n"
     ]
    },
    {
     "name": "stdout",
     "output_type": "stream",
     "text": [
      "Standardizing Data across genes\n",
      "\n"
     ]
    },
    {
     "name": "stderr",
     "output_type": "stream",
     "text": [
      "/data/nielsond/python/envs/abcd_mine/lib/python3.6/site-packages/rpy2/robjects/functions.py:106: UserWarning: Fitting L/S model and finding priors\n",
      "\n",
      "  res = super(Function, self).__call__(*new_args, **new_kwargs)\n",
      "/data/nielsond/python/envs/abcd_mine/lib/python3.6/site-packages/rpy2/robjects/functions.py:106: UserWarning: Finding nonparametric adjustments\n",
      "\n",
      "  res = super(Function, self).__call__(*new_args, **new_kwargs)\n",
      "/data/nielsond/python/envs/abcd_mine/lib/python3.6/site-packages/rpy2/robjects/functions.py:106: UserWarning: Adjusting the Data\n",
      "\n",
      "\n",
      "  res = super(Function, self).__call__(*new_args, **new_kwargs)\n"
     ]
    },
    {
     "name": "stdout",
     "output_type": "stream",
     "text": [
      "Standardizing Data across genes\n",
      "\n",
      "Standardizing Data across genes\n",
      "\n",
      "Standardizing Data across genes\n",
      "\n"
     ]
    },
    {
     "name": "stderr",
     "output_type": "stream",
     "text": [
      "/data/nielsond/python/envs/abcd_mine/lib/python3.6/site-packages/sklearn/linear_model/sag.py:326: ConvergenceWarning: The max_iter was reached which means the coef_ did not converge\n",
      "  \"the coef_ did not converge\", ConvergenceWarning)\n"
     ]
    },
    {
     "name": "stdout",
     "output_type": "stream",
     "text": [
      "[Parallel(n_jobs=20)]: Done 319 tasks      | elapsed: 277.3min\n"
     ]
    },
    {
     "name": "stderr",
     "output_type": "stream",
     "text": [
      "/data/nielsond/python/envs/abcd_mine/lib/python3.6/site-packages/rpy2/robjects/functions.py:106: UserWarning: Found10batches\n",
      "\n",
      "  res = super(Function, self).__call__(*new_args, **new_kwargs)\n",
      "/data/nielsond/python/envs/abcd_mine/lib/python3.6/site-packages/rpy2/robjects/functions.py:106: UserWarning: Adjusting for0covariate(s) or covariate level(s)\n",
      "\n",
      "  res = super(Function, self).__call__(*new_args, **new_kwargs)\n"
     ]
    },
    {
     "name": "stdout",
     "output_type": "stream",
     "text": [
      "Standardizing Data across genes\n",
      "\n"
     ]
    },
    {
     "name": "stderr",
     "output_type": "stream",
     "text": [
      "/data/nielsond/python/envs/abcd_mine/lib/python3.6/site-packages/rpy2/robjects/functions.py:106: UserWarning: Fitting L/S model and finding priors\n",
      "\n",
      "  res = super(Function, self).__call__(*new_args, **new_kwargs)\n",
      "/data/nielsond/python/envs/abcd_mine/lib/python3.6/site-packages/rpy2/robjects/functions.py:106: UserWarning: Finding nonparametric adjustments\n",
      "\n",
      "  res = super(Function, self).__call__(*new_args, **new_kwargs)\n",
      "/data/nielsond/python/envs/abcd_mine/lib/python3.6/site-packages/rpy2/robjects/functions.py:106: UserWarning: Adjusting the Data\n",
      "\n",
      "\n",
      "  res = super(Function, self).__call__(*new_args, **new_kwargs)\n"
     ]
    },
    {
     "name": "stdout",
     "output_type": "stream",
     "text": [
      "Standardizing Data across genes\n",
      "\n",
      "Standardizing Data across genes\n",
      "\n",
      "Standardizing Data across genes\n",
      "\n"
     ]
    },
    {
     "name": "stderr",
     "output_type": "stream",
     "text": [
      "/data/nielsond/python/envs/abcd_mine/lib/python3.6/site-packages/sklearn/linear_model/sag.py:326: ConvergenceWarning: The max_iter was reached which means the coef_ did not converge\n",
      "  \"the coef_ did not converge\", ConvergenceWarning)\n",
      "/data/nielsond/python/envs/abcd_mine/lib/python3.6/site-packages/sklearn/linear_model/sag.py:326: ConvergenceWarning: The max_iter was reached which means the coef_ did not converge\n",
      "  \"the coef_ did not converge\", ConvergenceWarning)\n",
      "/data/nielsond/python/envs/abcd_mine/lib/python3.6/site-packages/sklearn/linear_model/sag.py:326: ConvergenceWarning: The max_iter was reached which means the coef_ did not converge\n",
      "  \"the coef_ did not converge\", ConvergenceWarning)\n",
      "/data/nielsond/python/envs/abcd_mine/lib/python3.6/site-packages/sklearn/linear_model/sag.py:326: ConvergenceWarning: The max_iter was reached which means the coef_ did not converge\n",
      "  \"the coef_ did not converge\", ConvergenceWarning)\n",
      "/data/nielsond/python/envs/abcd_mine/lib/python3.6/site-packages/sklearn/linear_model/sag.py:326: ConvergenceWarning: The max_iter was reached which means the coef_ did not converge\n",
      "  \"the coef_ did not converge\", ConvergenceWarning)\n",
      "/data/nielsond/python/envs/abcd_mine/lib/python3.6/site-packages/sklearn/linear_model/sag.py:326: ConvergenceWarning: The max_iter was reached which means the coef_ did not converge\n",
      "  \"the coef_ did not converge\", ConvergenceWarning)\n"
     ]
    },
    {
     "name": "stdout",
     "output_type": "stream",
     "text": [
      "[Parallel(n_jobs=20)]: Done 320 tasks      | elapsed: 303.6min\n"
     ]
    },
    {
     "name": "stderr",
     "output_type": "stream",
     "text": [
      "/data/nielsond/python/envs/abcd_mine/lib/python3.6/site-packages/rpy2/robjects/functions.py:106: UserWarning: Found10batches\n",
      "\n",
      "  res = super(Function, self).__call__(*new_args, **new_kwargs)\n",
      "/data/nielsond/python/envs/abcd_mine/lib/python3.6/site-packages/rpy2/robjects/functions.py:106: UserWarning: Adjusting for0covariate(s) or covariate level(s)\n",
      "\n",
      "  res = super(Function, self).__call__(*new_args, **new_kwargs)\n"
     ]
    },
    {
     "name": "stdout",
     "output_type": "stream",
     "text": [
      "Standardizing Data across genes\n",
      "\n"
     ]
    },
    {
     "name": "stderr",
     "output_type": "stream",
     "text": [
      "/data/nielsond/python/envs/abcd_mine/lib/python3.6/site-packages/rpy2/robjects/functions.py:106: UserWarning: Fitting L/S model and finding priors\n",
      "\n",
      "  res = super(Function, self).__call__(*new_args, **new_kwargs)\n",
      "/data/nielsond/python/envs/abcd_mine/lib/python3.6/site-packages/rpy2/robjects/functions.py:106: UserWarning: Finding nonparametric adjustments\n",
      "\n",
      "  res = super(Function, self).__call__(*new_args, **new_kwargs)\n",
      "/data/nielsond/python/envs/abcd_mine/lib/python3.6/site-packages/rpy2/robjects/functions.py:106: UserWarning: Adjusting the Data\n",
      "\n",
      "\n",
      "  res = super(Function, self).__call__(*new_args, **new_kwargs)\n"
     ]
    },
    {
     "name": "stdout",
     "output_type": "stream",
     "text": [
      "Standardizing Data across genes\n",
      "\n",
      "Standardizing Data across genes\n",
      "\n",
      "Standardizing Data across genes\n",
      "\n"
     ]
    },
    {
     "name": "stderr",
     "output_type": "stream",
     "text": [
      "/data/nielsond/python/envs/abcd_mine/lib/python3.6/site-packages/sklearn/linear_model/sag.py:326: ConvergenceWarning: The max_iter was reached which means the coef_ did not converge\n",
      "  \"the coef_ did not converge\", ConvergenceWarning)\n",
      "/data/nielsond/python/envs/abcd_mine/lib/python3.6/site-packages/sklearn/linear_model/sag.py:326: ConvergenceWarning: The max_iter was reached which means the coef_ did not converge\n",
      "  \"the coef_ did not converge\", ConvergenceWarning)\n",
      "/data/nielsond/python/envs/abcd_mine/lib/python3.6/site-packages/sklearn/linear_model/sag.py:326: ConvergenceWarning: The max_iter was reached which means the coef_ did not converge\n",
      "  \"the coef_ did not converge\", ConvergenceWarning)\n"
     ]
    },
    {
     "name": "stdout",
     "output_type": "stream",
     "text": [
      "[Parallel(n_jobs=20)]: Done 321 tasks      | elapsed: 307.1min\n"
     ]
    },
    {
     "name": "stderr",
     "output_type": "stream",
     "text": [
      "/data/nielsond/python/envs/abcd_mine/lib/python3.6/site-packages/rpy2/robjects/functions.py:106: UserWarning: Found10batches\n",
      "\n",
      "  res = super(Function, self).__call__(*new_args, **new_kwargs)\n",
      "/data/nielsond/python/envs/abcd_mine/lib/python3.6/site-packages/rpy2/robjects/functions.py:106: UserWarning: Adjusting for0covariate(s) or covariate level(s)\n",
      "\n",
      "  res = super(Function, self).__call__(*new_args, **new_kwargs)\n"
     ]
    },
    {
     "name": "stdout",
     "output_type": "stream",
     "text": [
      "Standardizing Data across genes\n",
      "\n"
     ]
    },
    {
     "name": "stderr",
     "output_type": "stream",
     "text": [
      "/data/nielsond/python/envs/abcd_mine/lib/python3.6/site-packages/rpy2/robjects/functions.py:106: UserWarning: Fitting L/S model and finding priors\n",
      "\n",
      "  res = super(Function, self).__call__(*new_args, **new_kwargs)\n",
      "/data/nielsond/python/envs/abcd_mine/lib/python3.6/site-packages/rpy2/robjects/functions.py:106: UserWarning: Finding nonparametric adjustments\n",
      "\n",
      "  res = super(Function, self).__call__(*new_args, **new_kwargs)\n"
     ]
    },
    {
     "name": "stdout",
     "output_type": "stream",
     "text": [
      "[Parallel(n_jobs=20)]: Done 322 tasks      | elapsed: 307.1min\n"
     ]
    },
    {
     "name": "stderr",
     "output_type": "stream",
     "text": [
      "/data/nielsond/python/envs/abcd_mine/lib/python3.6/site-packages/rpy2/robjects/functions.py:106: UserWarning: Found10batches\n",
      "\n",
      "  res = super(Function, self).__call__(*new_args, **new_kwargs)\n",
      "/data/nielsond/python/envs/abcd_mine/lib/python3.6/site-packages/rpy2/robjects/functions.py:106: UserWarning: Adjusting for0covariate(s) or covariate level(s)\n",
      "\n",
      "  res = super(Function, self).__call__(*new_args, **new_kwargs)\n"
     ]
    },
    {
     "name": "stdout",
     "output_type": "stream",
     "text": [
      "Standardizing Data across genes\n",
      "\n"
     ]
    },
    {
     "name": "stderr",
     "output_type": "stream",
     "text": [
      "/data/nielsond/python/envs/abcd_mine/lib/python3.6/site-packages/rpy2/robjects/functions.py:106: UserWarning: Fitting L/S model and finding priors\n",
      "\n",
      "  res = super(Function, self).__call__(*new_args, **new_kwargs)\n",
      "/data/nielsond/python/envs/abcd_mine/lib/python3.6/site-packages/rpy2/robjects/functions.py:106: UserWarning: Finding nonparametric adjustments\n",
      "\n",
      "  res = super(Function, self).__call__(*new_args, **new_kwargs)\n",
      "/data/nielsond/python/envs/abcd_mine/lib/python3.6/site-packages/rpy2/robjects/functions.py:106: UserWarning: Adjusting the Data\n",
      "\n",
      "\n",
      "  res = super(Function, self).__call__(*new_args, **new_kwargs)\n"
     ]
    },
    {
     "name": "stdout",
     "output_type": "stream",
     "text": [
      "Standardizing Data across genes\n",
      "\n"
     ]
    },
    {
     "name": "stderr",
     "output_type": "stream",
     "text": [
      "/data/nielsond/python/envs/abcd_mine/lib/python3.6/site-packages/rpy2/robjects/functions.py:106: UserWarning: Adjusting the Data\n",
      "\n",
      "\n",
      "  res = super(Function, self).__call__(*new_args, **new_kwargs)\n"
     ]
    },
    {
     "name": "stdout",
     "output_type": "stream",
     "text": [
      "Standardizing Data across genes\n",
      "\n",
      "Standardizing Data across genes\n",
      "\n"
     ]
    },
    {
     "name": "stderr",
     "output_type": "stream",
     "text": [
      "/data/nielsond/python/envs/abcd_mine/lib/python3.6/site-packages/sklearn/linear_model/sag.py:326: ConvergenceWarning: The max_iter was reached which means the coef_ did not converge\n",
      "  \"the coef_ did not converge\", ConvergenceWarning)\n"
     ]
    },
    {
     "name": "stdout",
     "output_type": "stream",
     "text": [
      "Standardizing Data across genes\n",
      "\n",
      "Standardizing Data across genes\n",
      "\n",
      "[Parallel(n_jobs=20)]: Done 323 tasks      | elapsed: 307.5min\n",
      "Standardizing Data across genes\n",
      "\n"
     ]
    },
    {
     "name": "stderr",
     "output_type": "stream",
     "text": [
      "/data/nielsond/python/envs/abcd_mine/lib/python3.6/site-packages/rpy2/robjects/functions.py:106: UserWarning: Found10batches\n",
      "\n",
      "  res = super(Function, self).__call__(*new_args, **new_kwargs)\n",
      "/data/nielsond/python/envs/abcd_mine/lib/python3.6/site-packages/rpy2/robjects/functions.py:106: UserWarning: Adjusting for0covariate(s) or covariate level(s)\n",
      "\n",
      "  res = super(Function, self).__call__(*new_args, **new_kwargs)\n"
     ]
    },
    {
     "name": "stdout",
     "output_type": "stream",
     "text": [
      "Standardizing Data across genes\n",
      "\n"
     ]
    },
    {
     "name": "stderr",
     "output_type": "stream",
     "text": [
      "/data/nielsond/python/envs/abcd_mine/lib/python3.6/site-packages/rpy2/robjects/functions.py:106: UserWarning: Fitting L/S model and finding priors\n",
      "\n",
      "  res = super(Function, self).__call__(*new_args, **new_kwargs)\n",
      "/data/nielsond/python/envs/abcd_mine/lib/python3.6/site-packages/rpy2/robjects/functions.py:106: UserWarning: Finding nonparametric adjustments\n",
      "\n",
      "  res = super(Function, self).__call__(*new_args, **new_kwargs)\n",
      "/data/nielsond/python/envs/abcd_mine/lib/python3.6/site-packages/rpy2/robjects/functions.py:106: UserWarning: Adjusting the Data\n",
      "\n",
      "\n",
      "  res = super(Function, self).__call__(*new_args, **new_kwargs)\n"
     ]
    },
    {
     "name": "stdout",
     "output_type": "stream",
     "text": [
      "Standardizing Data across genes\n",
      "\n",
      "Standardizing Data across genes\n",
      "\n",
      "Standardizing Data across genes\n",
      "\n"
     ]
    },
    {
     "name": "stderr",
     "output_type": "stream",
     "text": [
      "/data/nielsond/python/envs/abcd_mine/lib/python3.6/site-packages/sklearn/linear_model/sag.py:326: ConvergenceWarning: The max_iter was reached which means the coef_ did not converge\n",
      "  \"the coef_ did not converge\", ConvergenceWarning)\n"
     ]
    },
    {
     "name": "stdout",
     "output_type": "stream",
     "text": [
      "[Parallel(n_jobs=20)]: Done 324 tasks      | elapsed: 308.1min\n"
     ]
    },
    {
     "name": "stderr",
     "output_type": "stream",
     "text": [
      "/data/nielsond/python/envs/abcd_mine/lib/python3.6/site-packages/rpy2/robjects/functions.py:106: UserWarning: Found10batches\n",
      "\n",
      "  res = super(Function, self).__call__(*new_args, **new_kwargs)\n",
      "/data/nielsond/python/envs/abcd_mine/lib/python3.6/site-packages/rpy2/robjects/functions.py:106: UserWarning: Adjusting for0covariate(s) or covariate level(s)\n",
      "\n",
      "  res = super(Function, self).__call__(*new_args, **new_kwargs)\n"
     ]
    },
    {
     "name": "stdout",
     "output_type": "stream",
     "text": [
      "Standardizing Data across genes\n",
      "\n"
     ]
    },
    {
     "name": "stderr",
     "output_type": "stream",
     "text": [
      "/data/nielsond/python/envs/abcd_mine/lib/python3.6/site-packages/rpy2/robjects/functions.py:106: UserWarning: Fitting L/S model and finding priors\n",
      "\n",
      "  res = super(Function, self).__call__(*new_args, **new_kwargs)\n",
      "/data/nielsond/python/envs/abcd_mine/lib/python3.6/site-packages/rpy2/robjects/functions.py:106: UserWarning: Finding nonparametric adjustments\n",
      "\n",
      "  res = super(Function, self).__call__(*new_args, **new_kwargs)\n",
      "/data/nielsond/python/envs/abcd_mine/lib/python3.6/site-packages/rpy2/robjects/functions.py:106: UserWarning: Adjusting the Data\n",
      "\n",
      "\n",
      "  res = super(Function, self).__call__(*new_args, **new_kwargs)\n"
     ]
    },
    {
     "name": "stdout",
     "output_type": "stream",
     "text": [
      "Standardizing Data across genes\n",
      "\n",
      "Standardizing Data across genes\n",
      "\n"
     ]
    },
    {
     "name": "stderr",
     "output_type": "stream",
     "text": [
      "/data/nielsond/python/envs/abcd_mine/lib/python3.6/site-packages/sklearn/linear_model/sag.py:326: ConvergenceWarning: The max_iter was reached which means the coef_ did not converge\n",
      "  \"the coef_ did not converge\", ConvergenceWarning)\n"
     ]
    },
    {
     "name": "stdout",
     "output_type": "stream",
     "text": [
      "Standardizing Data across genes\n",
      "\n",
      "[Parallel(n_jobs=20)]: Done 325 tasks      | elapsed: 308.4min\n"
     ]
    },
    {
     "name": "stderr",
     "output_type": "stream",
     "text": [
      "/data/nielsond/python/envs/abcd_mine/lib/python3.6/site-packages/rpy2/robjects/functions.py:106: UserWarning: Found10batches\n",
      "\n",
      "  res = super(Function, self).__call__(*new_args, **new_kwargs)\n",
      "/data/nielsond/python/envs/abcd_mine/lib/python3.6/site-packages/rpy2/robjects/functions.py:106: UserWarning: Adjusting for0covariate(s) or covariate level(s)\n",
      "\n",
      "  res = super(Function, self).__call__(*new_args, **new_kwargs)\n"
     ]
    },
    {
     "name": "stdout",
     "output_type": "stream",
     "text": [
      "Standardizing Data across genes\n",
      "\n"
     ]
    },
    {
     "name": "stderr",
     "output_type": "stream",
     "text": [
      "/data/nielsond/python/envs/abcd_mine/lib/python3.6/site-packages/rpy2/robjects/functions.py:106: UserWarning: Fitting L/S model and finding priors\n",
      "\n",
      "  res = super(Function, self).__call__(*new_args, **new_kwargs)\n",
      "/data/nielsond/python/envs/abcd_mine/lib/python3.6/site-packages/rpy2/robjects/functions.py:106: UserWarning: Finding nonparametric adjustments\n",
      "\n",
      "  res = super(Function, self).__call__(*new_args, **new_kwargs)\n",
      "/data/nielsond/python/envs/abcd_mine/lib/python3.6/site-packages/rpy2/robjects/functions.py:106: UserWarning: Adjusting the Data\n",
      "\n",
      "\n",
      "  res = super(Function, self).__call__(*new_args, **new_kwargs)\n"
     ]
    },
    {
     "name": "stdout",
     "output_type": "stream",
     "text": [
      "Standardizing Data across genes\n",
      "\n",
      "Standardizing Data across genes\n",
      "\n",
      "Standardizing Data across genes\n",
      "\n"
     ]
    },
    {
     "name": "stderr",
     "output_type": "stream",
     "text": [
      "/data/nielsond/python/envs/abcd_mine/lib/python3.6/site-packages/sklearn/linear_model/sag.py:326: ConvergenceWarning: The max_iter was reached which means the coef_ did not converge\n",
      "  \"the coef_ did not converge\", ConvergenceWarning)\n"
     ]
    },
    {
     "name": "stdout",
     "output_type": "stream",
     "text": [
      "[Parallel(n_jobs=20)]: Done 326 tasks      | elapsed: 309.2min\n"
     ]
    },
    {
     "name": "stderr",
     "output_type": "stream",
     "text": [
      "/data/nielsond/python/envs/abcd_mine/lib/python3.6/site-packages/rpy2/robjects/functions.py:106: UserWarning: Found10batches\n",
      "\n",
      "  res = super(Function, self).__call__(*new_args, **new_kwargs)\n",
      "/data/nielsond/python/envs/abcd_mine/lib/python3.6/site-packages/rpy2/robjects/functions.py:106: UserWarning: Adjusting for0covariate(s) or covariate level(s)\n",
      "\n",
      "  res = super(Function, self).__call__(*new_args, **new_kwargs)\n"
     ]
    },
    {
     "name": "stdout",
     "output_type": "stream",
     "text": [
      "Standardizing Data across genes\n",
      "\n"
     ]
    },
    {
     "name": "stderr",
     "output_type": "stream",
     "text": [
      "/data/nielsond/python/envs/abcd_mine/lib/python3.6/site-packages/rpy2/robjects/functions.py:106: UserWarning: Fitting L/S model and finding priors\n",
      "\n",
      "  res = super(Function, self).__call__(*new_args, **new_kwargs)\n",
      "/data/nielsond/python/envs/abcd_mine/lib/python3.6/site-packages/rpy2/robjects/functions.py:106: UserWarning: Finding nonparametric adjustments\n",
      "\n",
      "  res = super(Function, self).__call__(*new_args, **new_kwargs)\n",
      "/data/nielsond/python/envs/abcd_mine/lib/python3.6/site-packages/rpy2/robjects/functions.py:106: UserWarning: Adjusting the Data\n",
      "\n",
      "\n",
      "  res = super(Function, self).__call__(*new_args, **new_kwargs)\n"
     ]
    },
    {
     "name": "stdout",
     "output_type": "stream",
     "text": [
      "Standardizing Data across genes\n",
      "\n"
     ]
    },
    {
     "name": "stderr",
     "output_type": "stream",
     "text": [
      "/data/nielsond/python/envs/abcd_mine/lib/python3.6/site-packages/sklearn/linear_model/sag.py:326: ConvergenceWarning: The max_iter was reached which means the coef_ did not converge\n",
      "  \"the coef_ did not converge\", ConvergenceWarning)\n"
     ]
    },
    {
     "name": "stdout",
     "output_type": "stream",
     "text": [
      "Standardizing Data across genes\n",
      "\n",
      "[Parallel(n_jobs=20)]: Done 327 tasks      | elapsed: 309.4min\n"
     ]
    },
    {
     "name": "stderr",
     "output_type": "stream",
     "text": [
      "/data/nielsond/python/envs/abcd_mine/lib/python3.6/site-packages/rpy2/robjects/functions.py:106: UserWarning: Found10batches\n",
      "\n",
      "  res = super(Function, self).__call__(*new_args, **new_kwargs)\n",
      "/data/nielsond/python/envs/abcd_mine/lib/python3.6/site-packages/rpy2/robjects/functions.py:106: UserWarning: Adjusting for0covariate(s) or covariate level(s)\n",
      "\n",
      "  res = super(Function, self).__call__(*new_args, **new_kwargs)\n"
     ]
    },
    {
     "name": "stdout",
     "output_type": "stream",
     "text": [
      "Standardizing Data across genes\n",
      "\n"
     ]
    },
    {
     "name": "stderr",
     "output_type": "stream",
     "text": [
      "/data/nielsond/python/envs/abcd_mine/lib/python3.6/site-packages/rpy2/robjects/functions.py:106: UserWarning: Fitting L/S model and finding priors\n",
      "\n",
      "  res = super(Function, self).__call__(*new_args, **new_kwargs)\n",
      "/data/nielsond/python/envs/abcd_mine/lib/python3.6/site-packages/rpy2/robjects/functions.py:106: UserWarning: Finding nonparametric adjustments\n",
      "\n",
      "  res = super(Function, self).__call__(*new_args, **new_kwargs)\n"
     ]
    },
    {
     "name": "stdout",
     "output_type": "stream",
     "text": [
      "Standardizing Data across genes\n",
      "\n"
     ]
    },
    {
     "name": "stderr",
     "output_type": "stream",
     "text": [
      "/data/nielsond/python/envs/abcd_mine/lib/python3.6/site-packages/rpy2/robjects/functions.py:106: UserWarning: Adjusting the Data\n",
      "\n",
      "\n",
      "  res = super(Function, self).__call__(*new_args, **new_kwargs)\n"
     ]
    },
    {
     "name": "stdout",
     "output_type": "stream",
     "text": [
      "Standardizing Data across genes\n",
      "\n",
      "Standardizing Data across genes\n",
      "\n",
      "Standardizing Data across genes\n",
      "\n"
     ]
    },
    {
     "name": "stderr",
     "output_type": "stream",
     "text": [
      "/data/nielsond/python/envs/abcd_mine/lib/python3.6/site-packages/sklearn/linear_model/sag.py:326: ConvergenceWarning: The max_iter was reached which means the coef_ did not converge\n",
      "  \"the coef_ did not converge\", ConvergenceWarning)\n",
      "/data/nielsond/python/envs/abcd_mine/lib/python3.6/site-packages/sklearn/linear_model/sag.py:326: ConvergenceWarning: The max_iter was reached which means the coef_ did not converge\n",
      "  \"the coef_ did not converge\", ConvergenceWarning)\n"
     ]
    },
    {
     "name": "stdout",
     "output_type": "stream",
     "text": [
      "[Parallel(n_jobs=20)]: Done 328 tasks      | elapsed: 311.8min\n"
     ]
    },
    {
     "name": "stderr",
     "output_type": "stream",
     "text": [
      "/data/nielsond/python/envs/abcd_mine/lib/python3.6/site-packages/rpy2/robjects/functions.py:106: UserWarning: Found10batches\n",
      "\n",
      "  res = super(Function, self).__call__(*new_args, **new_kwargs)\n",
      "/data/nielsond/python/envs/abcd_mine/lib/python3.6/site-packages/rpy2/robjects/functions.py:106: UserWarning: Adjusting for0covariate(s) or covariate level(s)\n",
      "\n",
      "  res = super(Function, self).__call__(*new_args, **new_kwargs)\n"
     ]
    },
    {
     "name": "stdout",
     "output_type": "stream",
     "text": [
      "Standardizing Data across genes\n",
      "\n"
     ]
    },
    {
     "name": "stderr",
     "output_type": "stream",
     "text": [
      "/data/nielsond/python/envs/abcd_mine/lib/python3.6/site-packages/rpy2/robjects/functions.py:106: UserWarning: Fitting L/S model and finding priors\n",
      "\n",
      "  res = super(Function, self).__call__(*new_args, **new_kwargs)\n",
      "/data/nielsond/python/envs/abcd_mine/lib/python3.6/site-packages/rpy2/robjects/functions.py:106: UserWarning: Finding nonparametric adjustments\n",
      "\n",
      "  res = super(Function, self).__call__(*new_args, **new_kwargs)\n",
      "/data/nielsond/python/envs/abcd_mine/lib/python3.6/site-packages/rpy2/robjects/functions.py:106: UserWarning: Adjusting the Data\n",
      "\n",
      "\n",
      "  res = super(Function, self).__call__(*new_args, **new_kwargs)\n"
     ]
    },
    {
     "name": "stdout",
     "output_type": "stream",
     "text": [
      "Standardizing Data across genes\n",
      "\n",
      "Standardizing Data across genes\n",
      "\n",
      "Standardizing Data across genes\n",
      "\n"
     ]
    },
    {
     "name": "stderr",
     "output_type": "stream",
     "text": [
      "/data/nielsond/python/envs/abcd_mine/lib/python3.6/site-packages/sklearn/linear_model/sag.py:326: ConvergenceWarning: The max_iter was reached which means the coef_ did not converge\n",
      "  \"the coef_ did not converge\", ConvergenceWarning)\n",
      "/data/nielsond/python/envs/abcd_mine/lib/python3.6/site-packages/sklearn/linear_model/sag.py:326: ConvergenceWarning: The max_iter was reached which means the coef_ did not converge\n",
      "  \"the coef_ did not converge\", ConvergenceWarning)\n",
      "/data/nielsond/python/envs/abcd_mine/lib/python3.6/site-packages/sklearn/linear_model/sag.py:326: ConvergenceWarning: The max_iter was reached which means the coef_ did not converge\n",
      "  \"the coef_ did not converge\", ConvergenceWarning)\n",
      "/data/nielsond/python/envs/abcd_mine/lib/python3.6/site-packages/sklearn/linear_model/sag.py:326: ConvergenceWarning: The max_iter was reached which means the coef_ did not converge\n",
      "  \"the coef_ did not converge\", ConvergenceWarning)\n"
     ]
    },
    {
     "name": "stdout",
     "output_type": "stream",
     "text": [
      "[Parallel(n_jobs=20)]: Done 329 tasks      | elapsed: 313.8min\n"
     ]
    },
    {
     "name": "stderr",
     "output_type": "stream",
     "text": [
      "/data/nielsond/python/envs/abcd_mine/lib/python3.6/site-packages/rpy2/robjects/functions.py:106: UserWarning: Found10batches\n",
      "\n",
      "  res = super(Function, self).__call__(*new_args, **new_kwargs)\n",
      "/data/nielsond/python/envs/abcd_mine/lib/python3.6/site-packages/rpy2/robjects/functions.py:106: UserWarning: Adjusting for0covariate(s) or covariate level(s)\n",
      "\n",
      "  res = super(Function, self).__call__(*new_args, **new_kwargs)\n"
     ]
    },
    {
     "name": "stdout",
     "output_type": "stream",
     "text": [
      "Standardizing Data across genes\n",
      "\n"
     ]
    },
    {
     "name": "stderr",
     "output_type": "stream",
     "text": [
      "/data/nielsond/python/envs/abcd_mine/lib/python3.6/site-packages/rpy2/robjects/functions.py:106: UserWarning: Fitting L/S model and finding priors\n",
      "\n",
      "  res = super(Function, self).__call__(*new_args, **new_kwargs)\n",
      "/data/nielsond/python/envs/abcd_mine/lib/python3.6/site-packages/rpy2/robjects/functions.py:106: UserWarning: Finding nonparametric adjustments\n",
      "\n",
      "  res = super(Function, self).__call__(*new_args, **new_kwargs)\n",
      "/data/nielsond/python/envs/abcd_mine/lib/python3.6/site-packages/rpy2/robjects/functions.py:106: UserWarning: Adjusting the Data\n",
      "\n",
      "\n",
      "  res = super(Function, self).__call__(*new_args, **new_kwargs)\n",
      "/data/nielsond/python/envs/abcd_mine/lib/python3.6/site-packages/sklearn/linear_model/sag.py:326: ConvergenceWarning: The max_iter was reached which means the coef_ did not converge\n",
      "  \"the coef_ did not converge\", ConvergenceWarning)\n"
     ]
    },
    {
     "name": "stdout",
     "output_type": "stream",
     "text": [
      "[Parallel(n_jobs=20)]: Done 330 tasks      | elapsed: 314.1min\n",
      "Standardizing Data across genes\n",
      "\n"
     ]
    },
    {
     "name": "stderr",
     "output_type": "stream",
     "text": [
      "/data/nielsond/python/envs/abcd_mine/lib/python3.6/site-packages/rpy2/robjects/functions.py:106: UserWarning: Found10batches\n",
      "\n",
      "  res = super(Function, self).__call__(*new_args, **new_kwargs)\n",
      "/data/nielsond/python/envs/abcd_mine/lib/python3.6/site-packages/rpy2/robjects/functions.py:106: UserWarning: Adjusting for0covariate(s) or covariate level(s)\n",
      "\n",
      "  res = super(Function, self).__call__(*new_args, **new_kwargs)\n"
     ]
    },
    {
     "name": "stdout",
     "output_type": "stream",
     "text": [
      "Standardizing Data across genes\n",
      "\n"
     ]
    },
    {
     "name": "stderr",
     "output_type": "stream",
     "text": [
      "/data/nielsond/python/envs/abcd_mine/lib/python3.6/site-packages/rpy2/robjects/functions.py:106: UserWarning: Fitting L/S model and finding priors\n",
      "\n",
      "  res = super(Function, self).__call__(*new_args, **new_kwargs)\n",
      "/data/nielsond/python/envs/abcd_mine/lib/python3.6/site-packages/rpy2/robjects/functions.py:106: UserWarning: Finding nonparametric adjustments\n",
      "\n",
      "  res = super(Function, self).__call__(*new_args, **new_kwargs)\n"
     ]
    },
    {
     "name": "stdout",
     "output_type": "stream",
     "text": [
      "Standardizing Data across genes\n",
      "\n"
     ]
    },
    {
     "name": "stderr",
     "output_type": "stream",
     "text": [
      "/data/nielsond/python/envs/abcd_mine/lib/python3.6/site-packages/rpy2/robjects/functions.py:106: UserWarning: Adjusting the Data\n",
      "\n",
      "\n",
      "  res = super(Function, self).__call__(*new_args, **new_kwargs)\n"
     ]
    },
    {
     "name": "stdout",
     "output_type": "stream",
     "text": [
      "Standardizing Data across genes\n",
      "\n",
      "Standardizing Data across genes\n",
      "\n",
      "Standardizing Data across genes\n",
      "\n",
      "Standardizing Data across genes\n",
      "\n",
      "[Parallel(n_jobs=20)]: Done 331 tasks      | elapsed: 314.8min\n"
     ]
    },
    {
     "name": "stderr",
     "output_type": "stream",
     "text": [
      "/data/nielsond/python/envs/abcd_mine/lib/python3.6/site-packages/rpy2/robjects/functions.py:106: UserWarning: Found10batches\n",
      "\n",
      "  res = super(Function, self).__call__(*new_args, **new_kwargs)\n",
      "/data/nielsond/python/envs/abcd_mine/lib/python3.6/site-packages/rpy2/robjects/functions.py:106: UserWarning: Adjusting for0covariate(s) or covariate level(s)\n",
      "\n",
      "  res = super(Function, self).__call__(*new_args, **new_kwargs)\n"
     ]
    },
    {
     "name": "stdout",
     "output_type": "stream",
     "text": [
      "Standardizing Data across genes\n",
      "\n"
     ]
    },
    {
     "name": "stderr",
     "output_type": "stream",
     "text": [
      "/data/nielsond/python/envs/abcd_mine/lib/python3.6/site-packages/rpy2/robjects/functions.py:106: UserWarning: Fitting L/S model and finding priors\n",
      "\n",
      "  res = super(Function, self).__call__(*new_args, **new_kwargs)\n",
      "/data/nielsond/python/envs/abcd_mine/lib/python3.6/site-packages/rpy2/robjects/functions.py:106: UserWarning: Finding nonparametric adjustments\n",
      "\n",
      "  res = super(Function, self).__call__(*new_args, **new_kwargs)\n",
      "/data/nielsond/python/envs/abcd_mine/lib/python3.6/site-packages/rpy2/robjects/functions.py:106: UserWarning: Adjusting the Data\n",
      "\n",
      "\n",
      "  res = super(Function, self).__call__(*new_args, **new_kwargs)\n"
     ]
    },
    {
     "name": "stdout",
     "output_type": "stream",
     "text": [
      "Standardizing Data across genes\n",
      "\n",
      "Standardizing Data across genes\n",
      "\n",
      "Standardizing Data across genes\n",
      "\n",
      "[Parallel(n_jobs=20)]: Done 332 tasks      | elapsed: 315.6min\n"
     ]
    },
    {
     "name": "stderr",
     "output_type": "stream",
     "text": [
      "/data/nielsond/python/envs/abcd_mine/lib/python3.6/site-packages/rpy2/robjects/functions.py:106: UserWarning: Found10batches\n",
      "\n",
      "  res = super(Function, self).__call__(*new_args, **new_kwargs)\n",
      "/data/nielsond/python/envs/abcd_mine/lib/python3.6/site-packages/rpy2/robjects/functions.py:106: UserWarning: Adjusting for0covariate(s) or covariate level(s)\n",
      "\n",
      "  res = super(Function, self).__call__(*new_args, **new_kwargs)\n"
     ]
    },
    {
     "name": "stdout",
     "output_type": "stream",
     "text": [
      "Standardizing Data across genes\n",
      "\n"
     ]
    },
    {
     "name": "stderr",
     "output_type": "stream",
     "text": [
      "/data/nielsond/python/envs/abcd_mine/lib/python3.6/site-packages/rpy2/robjects/functions.py:106: UserWarning: Fitting L/S model and finding priors\n",
      "\n",
      "  res = super(Function, self).__call__(*new_args, **new_kwargs)\n",
      "/data/nielsond/python/envs/abcd_mine/lib/python3.6/site-packages/rpy2/robjects/functions.py:106: UserWarning: Finding nonparametric adjustments\n",
      "\n",
      "  res = super(Function, self).__call__(*new_args, **new_kwargs)\n"
     ]
    },
    {
     "name": "stdout",
     "output_type": "stream",
     "text": [
      "[Parallel(n_jobs=20)]: Done 333 tasks      | elapsed: 315.7min\n"
     ]
    },
    {
     "name": "stderr",
     "output_type": "stream",
     "text": [
      "/data/nielsond/python/envs/abcd_mine/lib/python3.6/site-packages/rpy2/robjects/functions.py:106: UserWarning: Found10batches\n",
      "\n",
      "  res = super(Function, self).__call__(*new_args, **new_kwargs)\n",
      "/data/nielsond/python/envs/abcd_mine/lib/python3.6/site-packages/rpy2/robjects/functions.py:106: UserWarning: Adjusting for0covariate(s) or covariate level(s)\n",
      "\n",
      "  res = super(Function, self).__call__(*new_args, **new_kwargs)\n"
     ]
    },
    {
     "name": "stdout",
     "output_type": "stream",
     "text": [
      "Standardizing Data across genes\n",
      "\n"
     ]
    },
    {
     "name": "stderr",
     "output_type": "stream",
     "text": [
      "/data/nielsond/python/envs/abcd_mine/lib/python3.6/site-packages/rpy2/robjects/functions.py:106: UserWarning: Fitting L/S model and finding priors\n",
      "\n",
      "  res = super(Function, self).__call__(*new_args, **new_kwargs)\n",
      "/data/nielsond/python/envs/abcd_mine/lib/python3.6/site-packages/rpy2/robjects/functions.py:106: UserWarning: Finding nonparametric adjustments\n",
      "\n",
      "  res = super(Function, self).__call__(*new_args, **new_kwargs)\n",
      "/data/nielsond/python/envs/abcd_mine/lib/python3.6/site-packages/rpy2/robjects/functions.py:106: UserWarning: Adjusting the Data\n",
      "\n",
      "\n",
      "  res = super(Function, self).__call__(*new_args, **new_kwargs)\n"
     ]
    },
    {
     "name": "stdout",
     "output_type": "stream",
     "text": [
      "Standardizing Data across genes\n",
      "\n"
     ]
    },
    {
     "name": "stderr",
     "output_type": "stream",
     "text": [
      "/data/nielsond/python/envs/abcd_mine/lib/python3.6/site-packages/rpy2/robjects/functions.py:106: UserWarning: Adjusting the Data\n",
      "\n",
      "\n",
      "  res = super(Function, self).__call__(*new_args, **new_kwargs)\n"
     ]
    },
    {
     "name": "stdout",
     "output_type": "stream",
     "text": [
      "Standardizing Data across genes\n",
      "\n",
      "Standardizing Data across genes\n",
      "\n",
      "Standardizing Data across genes\n",
      "\n",
      "Standardizing Data across genes\n",
      "\n",
      "Standardizing Data across genes\n",
      "\n",
      "[Parallel(n_jobs=20)]: Done 334 tasks      | elapsed: 316.3min\n"
     ]
    },
    {
     "name": "stderr",
     "output_type": "stream",
     "text": [
      "/data/nielsond/python/envs/abcd_mine/lib/python3.6/site-packages/rpy2/robjects/functions.py:106: UserWarning: Found10batches\n",
      "\n",
      "  res = super(Function, self).__call__(*new_args, **new_kwargs)\n",
      "/data/nielsond/python/envs/abcd_mine/lib/python3.6/site-packages/rpy2/robjects/functions.py:106: UserWarning: Adjusting for0covariate(s) or covariate level(s)\n",
      "\n",
      "  res = super(Function, self).__call__(*new_args, **new_kwargs)\n"
     ]
    },
    {
     "name": "stdout",
     "output_type": "stream",
     "text": [
      "Standardizing Data across genes\n",
      "\n"
     ]
    },
    {
     "name": "stderr",
     "output_type": "stream",
     "text": [
      "/data/nielsond/python/envs/abcd_mine/lib/python3.6/site-packages/rpy2/robjects/functions.py:106: UserWarning: Fitting L/S model and finding priors\n",
      "\n",
      "  res = super(Function, self).__call__(*new_args, **new_kwargs)\n",
      "/data/nielsond/python/envs/abcd_mine/lib/python3.6/site-packages/rpy2/robjects/functions.py:106: UserWarning: Finding nonparametric adjustments\n",
      "\n",
      "  res = super(Function, self).__call__(*new_args, **new_kwargs)\n",
      "/data/nielsond/python/envs/abcd_mine/lib/python3.6/site-packages/rpy2/robjects/functions.py:106: UserWarning: Adjusting the Data\n",
      "\n",
      "\n",
      "  res = super(Function, self).__call__(*new_args, **new_kwargs)\n"
     ]
    },
    {
     "name": "stdout",
     "output_type": "stream",
     "text": [
      "Standardizing Data across genes\n",
      "\n",
      "Standardizing Data across genes\n",
      "\n",
      "Standardizing Data across genes\n",
      "\n",
      "[Parallel(n_jobs=20)]: Done 335 tasks      | elapsed: 317.0min\n"
     ]
    },
    {
     "name": "stderr",
     "output_type": "stream",
     "text": [
      "/data/nielsond/python/envs/abcd_mine/lib/python3.6/site-packages/rpy2/robjects/functions.py:106: UserWarning: Found10batches\n",
      "\n",
      "  res = super(Function, self).__call__(*new_args, **new_kwargs)\n",
      "/data/nielsond/python/envs/abcd_mine/lib/python3.6/site-packages/rpy2/robjects/functions.py:106: UserWarning: Adjusting for0covariate(s) or covariate level(s)\n",
      "\n",
      "  res = super(Function, self).__call__(*new_args, **new_kwargs)\n"
     ]
    },
    {
     "name": "stdout",
     "output_type": "stream",
     "text": [
      "Standardizing Data across genes\n",
      "\n"
     ]
    },
    {
     "name": "stderr",
     "output_type": "stream",
     "text": [
      "/data/nielsond/python/envs/abcd_mine/lib/python3.6/site-packages/rpy2/robjects/functions.py:106: UserWarning: Fitting L/S model and finding priors\n",
      "\n",
      "  res = super(Function, self).__call__(*new_args, **new_kwargs)\n",
      "/data/nielsond/python/envs/abcd_mine/lib/python3.6/site-packages/rpy2/robjects/functions.py:106: UserWarning: Finding nonparametric adjustments\n",
      "\n",
      "  res = super(Function, self).__call__(*new_args, **new_kwargs)\n",
      "/data/nielsond/python/envs/abcd_mine/lib/python3.6/site-packages/rpy2/robjects/functions.py:106: UserWarning: Adjusting the Data\n",
      "\n",
      "\n",
      "  res = super(Function, self).__call__(*new_args, **new_kwargs)\n"
     ]
    },
    {
     "name": "stdout",
     "output_type": "stream",
     "text": [
      "Standardizing Data across genes\n",
      "\n",
      "Standardizing Data across genes\n",
      "\n",
      "Standardizing Data across genes\n",
      "\n",
      "[Parallel(n_jobs=20)]: Done 336 tasks      | elapsed: 317.6min\n"
     ]
    },
    {
     "name": "stderr",
     "output_type": "stream",
     "text": [
      "/data/nielsond/python/envs/abcd_mine/lib/python3.6/site-packages/rpy2/robjects/functions.py:106: UserWarning: Found10batches\n",
      "\n",
      "  res = super(Function, self).__call__(*new_args, **new_kwargs)\n",
      "/data/nielsond/python/envs/abcd_mine/lib/python3.6/site-packages/rpy2/robjects/functions.py:106: UserWarning: Adjusting for0covariate(s) or covariate level(s)\n",
      "\n",
      "  res = super(Function, self).__call__(*new_args, **new_kwargs)\n"
     ]
    },
    {
     "name": "stdout",
     "output_type": "stream",
     "text": [
      "Standardizing Data across genes\n",
      "\n"
     ]
    },
    {
     "name": "stderr",
     "output_type": "stream",
     "text": [
      "/data/nielsond/python/envs/abcd_mine/lib/python3.6/site-packages/rpy2/robjects/functions.py:106: UserWarning: Fitting L/S model and finding priors\n",
      "\n",
      "  res = super(Function, self).__call__(*new_args, **new_kwargs)\n",
      "/data/nielsond/python/envs/abcd_mine/lib/python3.6/site-packages/rpy2/robjects/functions.py:106: UserWarning: Finding nonparametric adjustments\n",
      "\n",
      "  res = super(Function, self).__call__(*new_args, **new_kwargs)\n",
      "/data/nielsond/python/envs/abcd_mine/lib/python3.6/site-packages/rpy2/robjects/functions.py:106: UserWarning: Adjusting the Data\n",
      "\n",
      "\n",
      "  res = super(Function, self).__call__(*new_args, **new_kwargs)\n"
     ]
    },
    {
     "name": "stdout",
     "output_type": "stream",
     "text": [
      "Standardizing Data across genes\n",
      "\n",
      "Standardizing Data across genes\n",
      "\n",
      "Standardizing Data across genes\n",
      "\n",
      "[Parallel(n_jobs=20)]: Done 337 tasks      | elapsed: 318.2min\n"
     ]
    },
    {
     "name": "stderr",
     "output_type": "stream",
     "text": [
      "/data/nielsond/python/envs/abcd_mine/lib/python3.6/site-packages/rpy2/robjects/functions.py:106: UserWarning: Found10batches\n",
      "\n",
      "  res = super(Function, self).__call__(*new_args, **new_kwargs)\n",
      "/data/nielsond/python/envs/abcd_mine/lib/python3.6/site-packages/rpy2/robjects/functions.py:106: UserWarning: Adjusting for0covariate(s) or covariate level(s)\n",
      "\n",
      "  res = super(Function, self).__call__(*new_args, **new_kwargs)\n"
     ]
    },
    {
     "name": "stdout",
     "output_type": "stream",
     "text": [
      "Standardizing Data across genes\n",
      "\n"
     ]
    },
    {
     "name": "stderr",
     "output_type": "stream",
     "text": [
      "/data/nielsond/python/envs/abcd_mine/lib/python3.6/site-packages/rpy2/robjects/functions.py:106: UserWarning: Fitting L/S model and finding priors\n",
      "\n",
      "  res = super(Function, self).__call__(*new_args, **new_kwargs)\n",
      "/data/nielsond/python/envs/abcd_mine/lib/python3.6/site-packages/rpy2/robjects/functions.py:106: UserWarning: Finding nonparametric adjustments\n",
      "\n",
      "  res = super(Function, self).__call__(*new_args, **new_kwargs)\n",
      "/data/nielsond/python/envs/abcd_mine/lib/python3.6/site-packages/rpy2/robjects/functions.py:106: UserWarning: Adjusting the Data\n",
      "\n",
      "\n",
      "  res = super(Function, self).__call__(*new_args, **new_kwargs)\n"
     ]
    },
    {
     "name": "stdout",
     "output_type": "stream",
     "text": [
      "Standardizing Data across genes\n",
      "\n",
      "Standardizing Data across genes\n",
      "\n",
      "Standardizing Data across genes\n",
      "\n",
      "[Parallel(n_jobs=20)]: Done 338 tasks      | elapsed: 319.6min\n"
     ]
    },
    {
     "name": "stderr",
     "output_type": "stream",
     "text": [
      "/data/nielsond/python/envs/abcd_mine/lib/python3.6/site-packages/rpy2/robjects/functions.py:106: UserWarning: Found10batches\n",
      "\n",
      "  res = super(Function, self).__call__(*new_args, **new_kwargs)\n",
      "/data/nielsond/python/envs/abcd_mine/lib/python3.6/site-packages/rpy2/robjects/functions.py:106: UserWarning: Adjusting for0covariate(s) or covariate level(s)\n",
      "\n",
      "  res = super(Function, self).__call__(*new_args, **new_kwargs)\n"
     ]
    },
    {
     "name": "stdout",
     "output_type": "stream",
     "text": [
      "Standardizing Data across genes\n",
      "\n"
     ]
    },
    {
     "name": "stderr",
     "output_type": "stream",
     "text": [
      "/data/nielsond/python/envs/abcd_mine/lib/python3.6/site-packages/rpy2/robjects/functions.py:106: UserWarning: Fitting L/S model and finding priors\n",
      "\n",
      "  res = super(Function, self).__call__(*new_args, **new_kwargs)\n",
      "/data/nielsond/python/envs/abcd_mine/lib/python3.6/site-packages/rpy2/robjects/functions.py:106: UserWarning: Finding nonparametric adjustments\n",
      "\n",
      "  res = super(Function, self).__call__(*new_args, **new_kwargs)\n",
      "/data/nielsond/python/envs/abcd_mine/lib/python3.6/site-packages/sklearn/linear_model/sag.py:326: ConvergenceWarning: The max_iter was reached which means the coef_ did not converge\n",
      "  \"the coef_ did not converge\", ConvergenceWarning)\n",
      "/data/nielsond/python/envs/abcd_mine/lib/python3.6/site-packages/rpy2/robjects/functions.py:106: UserWarning: Adjusting the Data\n",
      "\n",
      "\n",
      "  res = super(Function, self).__call__(*new_args, **new_kwargs)\n"
     ]
    },
    {
     "name": "stdout",
     "output_type": "stream",
     "text": [
      "Standardizing Data across genes\n",
      "\n",
      "Standardizing Data across genes\n",
      "\n",
      "[Parallel(n_jobs=20)]: Done 339 tasks      | elapsed: 319.8min\n"
     ]
    },
    {
     "name": "stderr",
     "output_type": "stream",
     "text": [
      "/data/nielsond/python/envs/abcd_mine/lib/python3.6/site-packages/rpy2/robjects/functions.py:106: UserWarning: Found10batches\n",
      "\n",
      "  res = super(Function, self).__call__(*new_args, **new_kwargs)\n",
      "/data/nielsond/python/envs/abcd_mine/lib/python3.6/site-packages/rpy2/robjects/functions.py:106: UserWarning: Adjusting for0covariate(s) or covariate level(s)\n",
      "\n",
      "  res = super(Function, self).__call__(*new_args, **new_kwargs)\n"
     ]
    },
    {
     "name": "stdout",
     "output_type": "stream",
     "text": [
      "Standardizing Data across genes\n",
      "\n"
     ]
    },
    {
     "name": "stderr",
     "output_type": "stream",
     "text": [
      "/data/nielsond/python/envs/abcd_mine/lib/python3.6/site-packages/rpy2/robjects/functions.py:106: UserWarning: Fitting L/S model and finding priors\n",
      "\n",
      "  res = super(Function, self).__call__(*new_args, **new_kwargs)\n",
      "/data/nielsond/python/envs/abcd_mine/lib/python3.6/site-packages/rpy2/robjects/functions.py:106: UserWarning: Finding nonparametric adjustments\n",
      "\n",
      "  res = super(Function, self).__call__(*new_args, **new_kwargs)\n"
     ]
    },
    {
     "name": "stdout",
     "output_type": "stream",
     "text": [
      "Standardizing Data across genes\n",
      "\n"
     ]
    },
    {
     "name": "stderr",
     "output_type": "stream",
     "text": [
      "/data/nielsond/python/envs/abcd_mine/lib/python3.6/site-packages/rpy2/robjects/functions.py:106: UserWarning: Adjusting the Data\n",
      "\n",
      "\n",
      "  res = super(Function, self).__call__(*new_args, **new_kwargs)\n"
     ]
    },
    {
     "name": "stdout",
     "output_type": "stream",
     "text": [
      "Standardizing Data across genes\n",
      "\n",
      "Standardizing Data across genes\n",
      "\n",
      "Standardizing Data across genes\n",
      "\n",
      "[Parallel(n_jobs=20)]: Done 340 tasks      | elapsed: 322.2min\n"
     ]
    },
    {
     "name": "stderr",
     "output_type": "stream",
     "text": [
      "/data/nielsond/python/envs/abcd_mine/lib/python3.6/site-packages/rpy2/robjects/functions.py:106: UserWarning: Found10batches\n",
      "\n",
      "  res = super(Function, self).__call__(*new_args, **new_kwargs)\n",
      "/data/nielsond/python/envs/abcd_mine/lib/python3.6/site-packages/rpy2/robjects/functions.py:106: UserWarning: Adjusting for0covariate(s) or covariate level(s)\n",
      "\n",
      "  res = super(Function, self).__call__(*new_args, **new_kwargs)\n"
     ]
    },
    {
     "name": "stdout",
     "output_type": "stream",
     "text": [
      "Standardizing Data across genes\n",
      "\n"
     ]
    },
    {
     "name": "stderr",
     "output_type": "stream",
     "text": [
      "/data/nielsond/python/envs/abcd_mine/lib/python3.6/site-packages/rpy2/robjects/functions.py:106: UserWarning: Fitting L/S model and finding priors\n",
      "\n",
      "  res = super(Function, self).__call__(*new_args, **new_kwargs)\n",
      "/data/nielsond/python/envs/abcd_mine/lib/python3.6/site-packages/rpy2/robjects/functions.py:106: UserWarning: Finding nonparametric adjustments\n",
      "\n",
      "  res = super(Function, self).__call__(*new_args, **new_kwargs)\n",
      "/data/nielsond/python/envs/abcd_mine/lib/python3.6/site-packages/sklearn/linear_model/sag.py:326: ConvergenceWarning: The max_iter was reached which means the coef_ did not converge\n",
      "  \"the coef_ did not converge\", ConvergenceWarning)\n",
      "/data/nielsond/python/envs/abcd_mine/lib/python3.6/site-packages/rpy2/robjects/functions.py:106: UserWarning: Adjusting the Data\n",
      "\n",
      "\n",
      "  res = super(Function, self).__call__(*new_args, **new_kwargs)\n"
     ]
    },
    {
     "name": "stdout",
     "output_type": "stream",
     "text": [
      "Standardizing Data across genes\n",
      "\n",
      "[Parallel(n_jobs=20)]: Done 341 tasks      | elapsed: 322.3min\n"
     ]
    },
    {
     "name": "stderr",
     "output_type": "stream",
     "text": [
      "/data/nielsond/python/envs/abcd_mine/lib/python3.6/site-packages/rpy2/robjects/functions.py:106: UserWarning: Found10batches\n",
      "\n",
      "  res = super(Function, self).__call__(*new_args, **new_kwargs)\n",
      "/data/nielsond/python/envs/abcd_mine/lib/python3.6/site-packages/rpy2/robjects/functions.py:106: UserWarning: Adjusting for0covariate(s) or covariate level(s)\n",
      "\n",
      "  res = super(Function, self).__call__(*new_args, **new_kwargs)\n"
     ]
    },
    {
     "name": "stdout",
     "output_type": "stream",
     "text": [
      "Standardizing Data across genes\n",
      "\n"
     ]
    },
    {
     "name": "stderr",
     "output_type": "stream",
     "text": [
      "/data/nielsond/python/envs/abcd_mine/lib/python3.6/site-packages/rpy2/robjects/functions.py:106: UserWarning: Fitting L/S model and finding priors\n",
      "\n",
      "  res = super(Function, self).__call__(*new_args, **new_kwargs)\n",
      "/data/nielsond/python/envs/abcd_mine/lib/python3.6/site-packages/rpy2/robjects/functions.py:106: UserWarning: Finding nonparametric adjustments\n",
      "\n",
      "  res = super(Function, self).__call__(*new_args, **new_kwargs)\n",
      "/data/nielsond/python/envs/abcd_mine/lib/python3.6/site-packages/sklearn/linear_model/sag.py:326: ConvergenceWarning: The max_iter was reached which means the coef_ did not converge\n",
      "  \"the coef_ did not converge\", ConvergenceWarning)\n"
     ]
    },
    {
     "name": "stdout",
     "output_type": "stream",
     "text": [
      "Standardizing Data across genes\n",
      "\n"
     ]
    },
    {
     "name": "stderr",
     "output_type": "stream",
     "text": [
      "/data/nielsond/python/envs/abcd_mine/lib/python3.6/site-packages/rpy2/robjects/functions.py:106: UserWarning: Adjusting the Data\n",
      "\n",
      "\n",
      "  res = super(Function, self).__call__(*new_args, **new_kwargs)\n"
     ]
    },
    {
     "name": "stdout",
     "output_type": "stream",
     "text": [
      "Standardizing Data across genes\n",
      "\n",
      "Standardizing Data across genes\n",
      "\n",
      "[Parallel(n_jobs=20)]: Done 342 tasks      | elapsed: 322.4min\n"
     ]
    },
    {
     "name": "stderr",
     "output_type": "stream",
     "text": [
      "/data/nielsond/python/envs/abcd_mine/lib/python3.6/site-packages/rpy2/robjects/functions.py:106: UserWarning: Found10batches\n",
      "\n",
      "  res = super(Function, self).__call__(*new_args, **new_kwargs)\n",
      "/data/nielsond/python/envs/abcd_mine/lib/python3.6/site-packages/rpy2/robjects/functions.py:106: UserWarning: Adjusting for0covariate(s) or covariate level(s)\n",
      "\n",
      "  res = super(Function, self).__call__(*new_args, **new_kwargs)\n"
     ]
    },
    {
     "name": "stdout",
     "output_type": "stream",
     "text": [
      "Standardizing Data across genes\n",
      "\n"
     ]
    },
    {
     "name": "stderr",
     "output_type": "stream",
     "text": [
      "/data/nielsond/python/envs/abcd_mine/lib/python3.6/site-packages/rpy2/robjects/functions.py:106: UserWarning: Fitting L/S model and finding priors\n",
      "\n",
      "  res = super(Function, self).__call__(*new_args, **new_kwargs)\n",
      "/data/nielsond/python/envs/abcd_mine/lib/python3.6/site-packages/rpy2/robjects/functions.py:106: UserWarning: Finding nonparametric adjustments\n",
      "\n",
      "  res = super(Function, self).__call__(*new_args, **new_kwargs)\n"
     ]
    },
    {
     "name": "stdout",
     "output_type": "stream",
     "text": [
      "Standardizing Data across genes\n",
      "\n"
     ]
    },
    {
     "name": "stderr",
     "output_type": "stream",
     "text": [
      "/data/nielsond/python/envs/abcd_mine/lib/python3.6/site-packages/rpy2/robjects/functions.py:106: UserWarning: Adjusting the Data\n",
      "\n",
      "\n",
      "  res = super(Function, self).__call__(*new_args, **new_kwargs)\n"
     ]
    },
    {
     "name": "stdout",
     "output_type": "stream",
     "text": [
      "Standardizing Data across genes\n",
      "\n",
      "Standardizing Data across genes\n",
      "\n",
      "Standardizing Data across genes\n",
      "\n",
      "Standardizing Data across genes\n",
      "\n",
      "[Parallel(n_jobs=20)]: Done 343 tasks      | elapsed: 323.1min\n"
     ]
    },
    {
     "name": "stderr",
     "output_type": "stream",
     "text": [
      "/data/nielsond/python/envs/abcd_mine/lib/python3.6/site-packages/rpy2/robjects/functions.py:106: UserWarning: Found10batches\n",
      "\n",
      "  res = super(Function, self).__call__(*new_args, **new_kwargs)\n",
      "/data/nielsond/python/envs/abcd_mine/lib/python3.6/site-packages/rpy2/robjects/functions.py:106: UserWarning: Adjusting for0covariate(s) or covariate level(s)\n",
      "\n",
      "  res = super(Function, self).__call__(*new_args, **new_kwargs)\n"
     ]
    },
    {
     "name": "stdout",
     "output_type": "stream",
     "text": [
      "Standardizing Data across genes\n",
      "\n"
     ]
    },
    {
     "name": "stderr",
     "output_type": "stream",
     "text": [
      "/data/nielsond/python/envs/abcd_mine/lib/python3.6/site-packages/rpy2/robjects/functions.py:106: UserWarning: Fitting L/S model and finding priors\n",
      "\n",
      "  res = super(Function, self).__call__(*new_args, **new_kwargs)\n",
      "/data/nielsond/python/envs/abcd_mine/lib/python3.6/site-packages/rpy2/robjects/functions.py:106: UserWarning: Finding nonparametric adjustments\n",
      "\n",
      "  res = super(Function, self).__call__(*new_args, **new_kwargs)\n",
      "/data/nielsond/python/envs/abcd_mine/lib/python3.6/site-packages/rpy2/robjects/functions.py:106: UserWarning: Adjusting the Data\n",
      "\n",
      "\n",
      "  res = super(Function, self).__call__(*new_args, **new_kwargs)\n"
     ]
    },
    {
     "name": "stdout",
     "output_type": "stream",
     "text": [
      "Standardizing Data across genes\n",
      "\n",
      "Standardizing Data across genes\n",
      "\n",
      "Standardizing Data across genes\n",
      "\n",
      "[Parallel(n_jobs=20)]: Done 344 tasks      | elapsed: 324.5min\n"
     ]
    },
    {
     "name": "stderr",
     "output_type": "stream",
     "text": [
      "/data/nielsond/python/envs/abcd_mine/lib/python3.6/site-packages/rpy2/robjects/functions.py:106: UserWarning: Found10batches\n",
      "\n",
      "  res = super(Function, self).__call__(*new_args, **new_kwargs)\n",
      "/data/nielsond/python/envs/abcd_mine/lib/python3.6/site-packages/rpy2/robjects/functions.py:106: UserWarning: Adjusting for0covariate(s) or covariate level(s)\n",
      "\n",
      "  res = super(Function, self).__call__(*new_args, **new_kwargs)\n"
     ]
    },
    {
     "name": "stdout",
     "output_type": "stream",
     "text": [
      "Standardizing Data across genes\n",
      "\n"
     ]
    },
    {
     "name": "stderr",
     "output_type": "stream",
     "text": [
      "/data/nielsond/python/envs/abcd_mine/lib/python3.6/site-packages/rpy2/robjects/functions.py:106: UserWarning: Fitting L/S model and finding priors\n",
      "\n",
      "  res = super(Function, self).__call__(*new_args, **new_kwargs)\n",
      "/data/nielsond/python/envs/abcd_mine/lib/python3.6/site-packages/rpy2/robjects/functions.py:106: UserWarning: Finding nonparametric adjustments\n",
      "\n",
      "  res = super(Function, self).__call__(*new_args, **new_kwargs)\n",
      "/data/nielsond/python/envs/abcd_mine/lib/python3.6/site-packages/rpy2/robjects/functions.py:106: UserWarning: Adjusting the Data\n",
      "\n",
      "\n",
      "  res = super(Function, self).__call__(*new_args, **new_kwargs)\n"
     ]
    },
    {
     "name": "stdout",
     "output_type": "stream",
     "text": [
      "Standardizing Data across genes\n",
      "\n",
      "Standardizing Data across genes\n",
      "\n",
      "Standardizing Data across genes\n",
      "\n"
     ]
    },
    {
     "name": "stderr",
     "output_type": "stream",
     "text": [
      "/data/nielsond/python/envs/abcd_mine/lib/python3.6/site-packages/sklearn/linear_model/sag.py:326: ConvergenceWarning: The max_iter was reached which means the coef_ did not converge\n",
      "  \"the coef_ did not converge\", ConvergenceWarning)\n"
     ]
    },
    {
     "name": "stdout",
     "output_type": "stream",
     "text": [
      "[Parallel(n_jobs=20)]: Done 345 tasks      | elapsed: 333.0min\n"
     ]
    },
    {
     "name": "stderr",
     "output_type": "stream",
     "text": [
      "/data/nielsond/python/envs/abcd_mine/lib/python3.6/site-packages/rpy2/robjects/functions.py:106: UserWarning: Found10batches\n",
      "\n",
      "  res = super(Function, self).__call__(*new_args, **new_kwargs)\n",
      "/data/nielsond/python/envs/abcd_mine/lib/python3.6/site-packages/rpy2/robjects/functions.py:106: UserWarning: Adjusting for0covariate(s) or covariate level(s)\n",
      "\n",
      "  res = super(Function, self).__call__(*new_args, **new_kwargs)\n"
     ]
    },
    {
     "name": "stdout",
     "output_type": "stream",
     "text": [
      "Standardizing Data across genes\n",
      "\n"
     ]
    },
    {
     "name": "stderr",
     "output_type": "stream",
     "text": [
      "/data/nielsond/python/envs/abcd_mine/lib/python3.6/site-packages/rpy2/robjects/functions.py:106: UserWarning: Fitting L/S model and finding priors\n",
      "\n",
      "  res = super(Function, self).__call__(*new_args, **new_kwargs)\n",
      "/data/nielsond/python/envs/abcd_mine/lib/python3.6/site-packages/rpy2/robjects/functions.py:106: UserWarning: Finding nonparametric adjustments\n",
      "\n",
      "  res = super(Function, self).__call__(*new_args, **new_kwargs)\n",
      "/data/nielsond/python/envs/abcd_mine/lib/python3.6/site-packages/rpy2/robjects/functions.py:106: UserWarning: Adjusting the Data\n",
      "\n",
      "\n",
      "  res = super(Function, self).__call__(*new_args, **new_kwargs)\n"
     ]
    },
    {
     "name": "stdout",
     "output_type": "stream",
     "text": [
      "Standardizing Data across genes\n",
      "\n",
      "Standardizing Data across genes\n",
      "\n",
      "Standardizing Data across genes\n",
      "\n"
     ]
    },
    {
     "name": "stderr",
     "output_type": "stream",
     "text": [
      "/data/nielsond/python/envs/abcd_mine/lib/python3.6/site-packages/sklearn/linear_model/sag.py:326: ConvergenceWarning: The max_iter was reached which means the coef_ did not converge\n",
      "  \"the coef_ did not converge\", ConvergenceWarning)\n",
      "/data/nielsond/python/envs/abcd_mine/lib/python3.6/site-packages/sklearn/linear_model/sag.py:326: ConvergenceWarning: The max_iter was reached which means the coef_ did not converge\n",
      "  \"the coef_ did not converge\", ConvergenceWarning)\n"
     ]
    },
    {
     "name": "stdout",
     "output_type": "stream",
     "text": [
      "[Parallel(n_jobs=20)]: Done 346 tasks      | elapsed: 341.6min\n"
     ]
    },
    {
     "name": "stderr",
     "output_type": "stream",
     "text": [
      "/data/nielsond/python/envs/abcd_mine/lib/python3.6/site-packages/rpy2/robjects/functions.py:106: UserWarning: Found10batches\n",
      "\n",
      "  res = super(Function, self).__call__(*new_args, **new_kwargs)\n",
      "/data/nielsond/python/envs/abcd_mine/lib/python3.6/site-packages/rpy2/robjects/functions.py:106: UserWarning: Adjusting for0covariate(s) or covariate level(s)\n",
      "\n",
      "  res = super(Function, self).__call__(*new_args, **new_kwargs)\n"
     ]
    },
    {
     "name": "stdout",
     "output_type": "stream",
     "text": [
      "Standardizing Data across genes\n",
      "\n"
     ]
    },
    {
     "name": "stderr",
     "output_type": "stream",
     "text": [
      "/data/nielsond/python/envs/abcd_mine/lib/python3.6/site-packages/rpy2/robjects/functions.py:106: UserWarning: Fitting L/S model and finding priors\n",
      "\n",
      "  res = super(Function, self).__call__(*new_args, **new_kwargs)\n",
      "/data/nielsond/python/envs/abcd_mine/lib/python3.6/site-packages/rpy2/robjects/functions.py:106: UserWarning: Finding nonparametric adjustments\n",
      "\n",
      "  res = super(Function, self).__call__(*new_args, **new_kwargs)\n",
      "/data/nielsond/python/envs/abcd_mine/lib/python3.6/site-packages/rpy2/robjects/functions.py:106: UserWarning: Adjusting the Data\n",
      "\n",
      "\n",
      "  res = super(Function, self).__call__(*new_args, **new_kwargs)\n"
     ]
    },
    {
     "name": "stdout",
     "output_type": "stream",
     "text": [
      "Standardizing Data across genes\n",
      "\n",
      "Standardizing Data across genes\n",
      "\n",
      "Standardizing Data across genes\n",
      "\n",
      "[Parallel(n_jobs=20)]: Done 347 tasks      | elapsed: 342.7min\n"
     ]
    },
    {
     "name": "stderr",
     "output_type": "stream",
     "text": [
      "/data/nielsond/python/envs/abcd_mine/lib/python3.6/site-packages/rpy2/robjects/functions.py:106: UserWarning: Found10batches\n",
      "\n",
      "  res = super(Function, self).__call__(*new_args, **new_kwargs)\n",
      "/data/nielsond/python/envs/abcd_mine/lib/python3.6/site-packages/rpy2/robjects/functions.py:106: UserWarning: Adjusting for0covariate(s) or covariate level(s)\n",
      "\n",
      "  res = super(Function, self).__call__(*new_args, **new_kwargs)\n"
     ]
    },
    {
     "name": "stdout",
     "output_type": "stream",
     "text": [
      "Standardizing Data across genes\n",
      "\n"
     ]
    },
    {
     "name": "stderr",
     "output_type": "stream",
     "text": [
      "/data/nielsond/python/envs/abcd_mine/lib/python3.6/site-packages/rpy2/robjects/functions.py:106: UserWarning: Fitting L/S model and finding priors\n",
      "\n",
      "  res = super(Function, self).__call__(*new_args, **new_kwargs)\n",
      "/data/nielsond/python/envs/abcd_mine/lib/python3.6/site-packages/rpy2/robjects/functions.py:106: UserWarning: Finding nonparametric adjustments\n",
      "\n",
      "  res = super(Function, self).__call__(*new_args, **new_kwargs)\n",
      "/data/nielsond/python/envs/abcd_mine/lib/python3.6/site-packages/rpy2/robjects/functions.py:106: UserWarning: Adjusting the Data\n",
      "\n",
      "\n",
      "  res = super(Function, self).__call__(*new_args, **new_kwargs)\n"
     ]
    },
    {
     "name": "stdout",
     "output_type": "stream",
     "text": [
      "Standardizing Data across genes\n",
      "\n",
      "Standardizing Data across genes\n",
      "\n",
      "Standardizing Data across genes\n",
      "\n"
     ]
    },
    {
     "name": "stderr",
     "output_type": "stream",
     "text": [
      "/data/nielsond/python/envs/abcd_mine/lib/python3.6/site-packages/sklearn/linear_model/sag.py:326: ConvergenceWarning: The max_iter was reached which means the coef_ did not converge\n",
      "  \"the coef_ did not converge\", ConvergenceWarning)\n",
      "/data/nielsond/python/envs/abcd_mine/lib/python3.6/site-packages/sklearn/linear_model/sag.py:326: ConvergenceWarning: The max_iter was reached which means the coef_ did not converge\n",
      "  \"the coef_ did not converge\", ConvergenceWarning)\n",
      "/data/nielsond/python/envs/abcd_mine/lib/python3.6/site-packages/sklearn/linear_model/sag.py:326: ConvergenceWarning: The max_iter was reached which means the coef_ did not converge\n",
      "  \"the coef_ did not converge\", ConvergenceWarning)\n",
      "/data/nielsond/python/envs/abcd_mine/lib/python3.6/site-packages/sklearn/linear_model/sag.py:326: ConvergenceWarning: The max_iter was reached which means the coef_ did not converge\n",
      "  \"the coef_ did not converge\", ConvergenceWarning)\n",
      "/data/nielsond/python/envs/abcd_mine/lib/python3.6/site-packages/sklearn/linear_model/sag.py:326: ConvergenceWarning: The max_iter was reached which means the coef_ did not converge\n",
      "  \"the coef_ did not converge\", ConvergenceWarning)\n",
      "/data/nielsond/python/envs/abcd_mine/lib/python3.6/site-packages/sklearn/linear_model/sag.py:326: ConvergenceWarning: The max_iter was reached which means the coef_ did not converge\n",
      "  \"the coef_ did not converge\", ConvergenceWarning)\n",
      "/data/nielsond/python/envs/abcd_mine/lib/python3.6/site-packages/sklearn/linear_model/sag.py:326: ConvergenceWarning: The max_iter was reached which means the coef_ did not converge\n",
      "  \"the coef_ did not converge\", ConvergenceWarning)\n"
     ]
    },
    {
     "name": "stdout",
     "output_type": "stream",
     "text": [
      "[Parallel(n_jobs=20)]: Done 348 tasks      | elapsed: 347.9min\n"
     ]
    },
    {
     "name": "stderr",
     "output_type": "stream",
     "text": [
      "/data/nielsond/python/envs/abcd_mine/lib/python3.6/site-packages/rpy2/robjects/functions.py:106: UserWarning: Found10batches\n",
      "\n",
      "  res = super(Function, self).__call__(*new_args, **new_kwargs)\n",
      "/data/nielsond/python/envs/abcd_mine/lib/python3.6/site-packages/rpy2/robjects/functions.py:106: UserWarning: Adjusting for0covariate(s) or covariate level(s)\n",
      "\n",
      "  res = super(Function, self).__call__(*new_args, **new_kwargs)\n"
     ]
    },
    {
     "name": "stdout",
     "output_type": "stream",
     "text": [
      "Standardizing Data across genes\n",
      "\n"
     ]
    },
    {
     "name": "stderr",
     "output_type": "stream",
     "text": [
      "/data/nielsond/python/envs/abcd_mine/lib/python3.6/site-packages/rpy2/robjects/functions.py:106: UserWarning: Fitting L/S model and finding priors\n",
      "\n",
      "  res = super(Function, self).__call__(*new_args, **new_kwargs)\n",
      "/data/nielsond/python/envs/abcd_mine/lib/python3.6/site-packages/rpy2/robjects/functions.py:106: UserWarning: Finding nonparametric adjustments\n",
      "\n",
      "  res = super(Function, self).__call__(*new_args, **new_kwargs)\n",
      "/data/nielsond/python/envs/abcd_mine/lib/python3.6/site-packages/rpy2/robjects/functions.py:106: UserWarning: Adjusting the Data\n",
      "\n",
      "\n",
      "  res = super(Function, self).__call__(*new_args, **new_kwargs)\n"
     ]
    },
    {
     "name": "stdout",
     "output_type": "stream",
     "text": [
      "Standardizing Data across genes\n",
      "\n",
      "Standardizing Data across genes\n",
      "\n"
     ]
    },
    {
     "name": "stderr",
     "output_type": "stream",
     "text": [
      "/data/nielsond/python/envs/abcd_mine/lib/python3.6/site-packages/sklearn/linear_model/sag.py:326: ConvergenceWarning: The max_iter was reached which means the coef_ did not converge\n",
      "  \"the coef_ did not converge\", ConvergenceWarning)\n"
     ]
    },
    {
     "name": "stdout",
     "output_type": "stream",
     "text": [
      "Standardizing Data across genes\n",
      "\n"
     ]
    },
    {
     "name": "stderr",
     "output_type": "stream",
     "text": [
      "/data/nielsond/python/envs/abcd_mine/lib/python3.6/site-packages/sklearn/linear_model/sag.py:326: ConvergenceWarning: The max_iter was reached which means the coef_ did not converge\n",
      "  \"the coef_ did not converge\", ConvergenceWarning)\n"
     ]
    },
    {
     "name": "stdout",
     "output_type": "stream",
     "text": [
      "[Parallel(n_jobs=20)]: Done 349 tasks      | elapsed: 348.5min\n"
     ]
    },
    {
     "name": "stderr",
     "output_type": "stream",
     "text": [
      "/data/nielsond/python/envs/abcd_mine/lib/python3.6/site-packages/rpy2/robjects/functions.py:106: UserWarning: Found10batches\n",
      "\n",
      "  res = super(Function, self).__call__(*new_args, **new_kwargs)\n",
      "/data/nielsond/python/envs/abcd_mine/lib/python3.6/site-packages/rpy2/robjects/functions.py:106: UserWarning: Adjusting for0covariate(s) or covariate level(s)\n",
      "\n",
      "  res = super(Function, self).__call__(*new_args, **new_kwargs)\n"
     ]
    },
    {
     "name": "stdout",
     "output_type": "stream",
     "text": [
      "Standardizing Data across genes\n",
      "\n"
     ]
    },
    {
     "name": "stderr",
     "output_type": "stream",
     "text": [
      "/data/nielsond/python/envs/abcd_mine/lib/python3.6/site-packages/rpy2/robjects/functions.py:106: UserWarning: Fitting L/S model and finding priors\n",
      "\n",
      "  res = super(Function, self).__call__(*new_args, **new_kwargs)\n",
      "/data/nielsond/python/envs/abcd_mine/lib/python3.6/site-packages/rpy2/robjects/functions.py:106: UserWarning: Finding nonparametric adjustments\n",
      "\n",
      "  res = super(Function, self).__call__(*new_args, **new_kwargs)\n",
      "/data/nielsond/python/envs/abcd_mine/lib/python3.6/site-packages/rpy2/robjects/functions.py:106: UserWarning: Adjusting the Data\n",
      "\n",
      "\n",
      "  res = super(Function, self).__call__(*new_args, **new_kwargs)\n"
     ]
    },
    {
     "name": "stdout",
     "output_type": "stream",
     "text": [
      "Standardizing Data across genes\n",
      "\n"
     ]
    },
    {
     "name": "stderr",
     "output_type": "stream",
     "text": [
      "/data/nielsond/python/envs/abcd_mine/lib/python3.6/site-packages/sklearn/linear_model/sag.py:326: ConvergenceWarning: The max_iter was reached which means the coef_ did not converge\n",
      "  \"the coef_ did not converge\", ConvergenceWarning)\n"
     ]
    },
    {
     "name": "stdout",
     "output_type": "stream",
     "text": [
      "Standardizing Data across genes\n",
      "\n",
      "[Parallel(n_jobs=20)]: Done 350 tasks      | elapsed: 348.9min\n"
     ]
    },
    {
     "name": "stderr",
     "output_type": "stream",
     "text": [
      "/data/nielsond/python/envs/abcd_mine/lib/python3.6/site-packages/rpy2/robjects/functions.py:106: UserWarning: Found10batches\n",
      "\n",
      "  res = super(Function, self).__call__(*new_args, **new_kwargs)\n",
      "/data/nielsond/python/envs/abcd_mine/lib/python3.6/site-packages/rpy2/robjects/functions.py:106: UserWarning: Adjusting for0covariate(s) or covariate level(s)\n",
      "\n",
      "  res = super(Function, self).__call__(*new_args, **new_kwargs)\n"
     ]
    },
    {
     "name": "stdout",
     "output_type": "stream",
     "text": [
      "Standardizing Data across genes\n",
      "\n"
     ]
    },
    {
     "name": "stderr",
     "output_type": "stream",
     "text": [
      "/data/nielsond/python/envs/abcd_mine/lib/python3.6/site-packages/rpy2/robjects/functions.py:106: UserWarning: Fitting L/S model and finding priors\n",
      "\n",
      "  res = super(Function, self).__call__(*new_args, **new_kwargs)\n",
      "/data/nielsond/python/envs/abcd_mine/lib/python3.6/site-packages/rpy2/robjects/functions.py:106: UserWarning: Finding nonparametric adjustments\n",
      "\n",
      "  res = super(Function, self).__call__(*new_args, **new_kwargs)\n"
     ]
    },
    {
     "name": "stdout",
     "output_type": "stream",
     "text": [
      "Standardizing Data across genes\n",
      "\n",
      "[Parallel(n_jobs=20)]: Done 351 tasks      | elapsed: 348.9min\n"
     ]
    },
    {
     "name": "stderr",
     "output_type": "stream",
     "text": [
      "/data/nielsond/python/envs/abcd_mine/lib/python3.6/site-packages/rpy2/robjects/functions.py:106: UserWarning: Found10batches\n",
      "\n",
      "  res = super(Function, self).__call__(*new_args, **new_kwargs)\n",
      "/data/nielsond/python/envs/abcd_mine/lib/python3.6/site-packages/rpy2/robjects/functions.py:106: UserWarning: Adjusting for0covariate(s) or covariate level(s)\n",
      "\n",
      "  res = super(Function, self).__call__(*new_args, **new_kwargs)\n"
     ]
    },
    {
     "name": "stdout",
     "output_type": "stream",
     "text": [
      "Standardizing Data across genes\n",
      "\n"
     ]
    },
    {
     "name": "stderr",
     "output_type": "stream",
     "text": [
      "/data/nielsond/python/envs/abcd_mine/lib/python3.6/site-packages/rpy2/robjects/functions.py:106: UserWarning: Fitting L/S model and finding priors\n",
      "\n",
      "  res = super(Function, self).__call__(*new_args, **new_kwargs)\n",
      "/data/nielsond/python/envs/abcd_mine/lib/python3.6/site-packages/rpy2/robjects/functions.py:106: UserWarning: Finding nonparametric adjustments\n",
      "\n",
      "  res = super(Function, self).__call__(*new_args, **new_kwargs)\n",
      "/data/nielsond/python/envs/abcd_mine/lib/python3.6/site-packages/rpy2/robjects/functions.py:106: UserWarning: Adjusting the Data\n",
      "\n",
      "\n",
      "  res = super(Function, self).__call__(*new_args, **new_kwargs)\n"
     ]
    },
    {
     "name": "stdout",
     "output_type": "stream",
     "text": [
      "Standardizing Data across genes\n",
      "\n"
     ]
    },
    {
     "name": "stderr",
     "output_type": "stream",
     "text": [
      "/data/nielsond/python/envs/abcd_mine/lib/python3.6/site-packages/rpy2/robjects/functions.py:106: UserWarning: Adjusting the Data\n",
      "\n",
      "\n",
      "  res = super(Function, self).__call__(*new_args, **new_kwargs)\n"
     ]
    },
    {
     "name": "stdout",
     "output_type": "stream",
     "text": [
      "Standardizing Data across genes\n",
      "\n",
      "Standardizing Data across genes\n",
      "\n",
      "Standardizing Data across genes\n",
      "\n",
      "Standardizing Data across genes\n",
      "\n",
      "Standardizing Data across genes\n",
      "\n"
     ]
    },
    {
     "name": "stderr",
     "output_type": "stream",
     "text": [
      "/data/nielsond/python/envs/abcd_mine/lib/python3.6/site-packages/sklearn/linear_model/sag.py:326: ConvergenceWarning: The max_iter was reached which means the coef_ did not converge\n",
      "  \"the coef_ did not converge\", ConvergenceWarning)\n"
     ]
    },
    {
     "name": "stdout",
     "output_type": "stream",
     "text": [
      "[Parallel(n_jobs=20)]: Done 352 tasks      | elapsed: 349.5min\n"
     ]
    },
    {
     "name": "stderr",
     "output_type": "stream",
     "text": [
      "/data/nielsond/python/envs/abcd_mine/lib/python3.6/site-packages/rpy2/robjects/functions.py:106: UserWarning: Found10batches\n",
      "\n",
      "  res = super(Function, self).__call__(*new_args, **new_kwargs)\n",
      "/data/nielsond/python/envs/abcd_mine/lib/python3.6/site-packages/rpy2/robjects/functions.py:106: UserWarning: Adjusting for0covariate(s) or covariate level(s)\n",
      "\n",
      "  res = super(Function, self).__call__(*new_args, **new_kwargs)\n"
     ]
    },
    {
     "name": "stdout",
     "output_type": "stream",
     "text": [
      "Standardizing Data across genes\n",
      "\n"
     ]
    },
    {
     "name": "stderr",
     "output_type": "stream",
     "text": [
      "/data/nielsond/python/envs/abcd_mine/lib/python3.6/site-packages/rpy2/robjects/functions.py:106: UserWarning: Fitting L/S model and finding priors\n",
      "\n",
      "  res = super(Function, self).__call__(*new_args, **new_kwargs)\n",
      "/data/nielsond/python/envs/abcd_mine/lib/python3.6/site-packages/rpy2/robjects/functions.py:106: UserWarning: Finding nonparametric adjustments\n",
      "\n",
      "  res = super(Function, self).__call__(*new_args, **new_kwargs)\n",
      "/data/nielsond/python/envs/abcd_mine/lib/python3.6/site-packages/rpy2/robjects/functions.py:106: UserWarning: Adjusting the Data\n",
      "\n",
      "\n",
      "  res = super(Function, self).__call__(*new_args, **new_kwargs)\n"
     ]
    },
    {
     "name": "stdout",
     "output_type": "stream",
     "text": [
      "Standardizing Data across genes\n",
      "\n",
      "Standardizing Data across genes\n",
      "\n",
      "Standardizing Data across genes\n",
      "\n"
     ]
    },
    {
     "name": "stderr",
     "output_type": "stream",
     "text": [
      "/data/nielsond/python/envs/abcd_mine/lib/python3.6/site-packages/sklearn/linear_model/sag.py:326: ConvergenceWarning: The max_iter was reached which means the coef_ did not converge\n",
      "  \"the coef_ did not converge\", ConvergenceWarning)\n",
      "/data/nielsond/python/envs/abcd_mine/lib/python3.6/site-packages/sklearn/linear_model/sag.py:326: ConvergenceWarning: The max_iter was reached which means the coef_ did not converge\n",
      "  \"the coef_ did not converge\", ConvergenceWarning)\n"
     ]
    },
    {
     "name": "stdout",
     "output_type": "stream",
     "text": [
      "[Parallel(n_jobs=20)]: Done 353 tasks      | elapsed: 355.0min\n"
     ]
    },
    {
     "name": "stderr",
     "output_type": "stream",
     "text": [
      "/data/nielsond/python/envs/abcd_mine/lib/python3.6/site-packages/rpy2/robjects/functions.py:106: UserWarning: Found10batches\n",
      "\n",
      "  res = super(Function, self).__call__(*new_args, **new_kwargs)\n",
      "/data/nielsond/python/envs/abcd_mine/lib/python3.6/site-packages/rpy2/robjects/functions.py:106: UserWarning: Adjusting for0covariate(s) or covariate level(s)\n",
      "\n",
      "  res = super(Function, self).__call__(*new_args, **new_kwargs)\n"
     ]
    },
    {
     "name": "stdout",
     "output_type": "stream",
     "text": [
      "Standardizing Data across genes\n",
      "\n"
     ]
    },
    {
     "name": "stderr",
     "output_type": "stream",
     "text": [
      "/data/nielsond/python/envs/abcd_mine/lib/python3.6/site-packages/rpy2/robjects/functions.py:106: UserWarning: Fitting L/S model and finding priors\n",
      "\n",
      "  res = super(Function, self).__call__(*new_args, **new_kwargs)\n",
      "/data/nielsond/python/envs/abcd_mine/lib/python3.6/site-packages/rpy2/robjects/functions.py:106: UserWarning: Finding nonparametric adjustments\n",
      "\n",
      "  res = super(Function, self).__call__(*new_args, **new_kwargs)\n",
      "/data/nielsond/python/envs/abcd_mine/lib/python3.6/site-packages/rpy2/robjects/functions.py:106: UserWarning: Adjusting the Data\n",
      "\n",
      "\n",
      "  res = super(Function, self).__call__(*new_args, **new_kwargs)\n"
     ]
    },
    {
     "name": "stdout",
     "output_type": "stream",
     "text": [
      "Standardizing Data across genes\n",
      "\n",
      "Standardizing Data across genes\n",
      "\n",
      "Standardizing Data across genes\n",
      "\n"
     ]
    },
    {
     "name": "stderr",
     "output_type": "stream",
     "text": [
      "/data/nielsond/python/envs/abcd_mine/lib/python3.6/site-packages/sklearn/linear_model/sag.py:326: ConvergenceWarning: The max_iter was reached which means the coef_ did not converge\n",
      "  \"the coef_ did not converge\", ConvergenceWarning)\n",
      "/data/nielsond/python/envs/abcd_mine/lib/python3.6/site-packages/sklearn/linear_model/sag.py:326: ConvergenceWarning: The max_iter was reached which means the coef_ did not converge\n",
      "  \"the coef_ did not converge\", ConvergenceWarning)\n",
      "/data/nielsond/python/envs/abcd_mine/lib/python3.6/site-packages/sklearn/linear_model/sag.py:326: ConvergenceWarning: The max_iter was reached which means the coef_ did not converge\n",
      "  \"the coef_ did not converge\", ConvergenceWarning)\n",
      "/data/nielsond/python/envs/abcd_mine/lib/python3.6/site-packages/sklearn/linear_model/sag.py:326: ConvergenceWarning: The max_iter was reached which means the coef_ did not converge\n",
      "  \"the coef_ did not converge\", ConvergenceWarning)\n",
      "/data/nielsond/python/envs/abcd_mine/lib/python3.6/site-packages/sklearn/linear_model/sag.py:326: ConvergenceWarning: The max_iter was reached which means the coef_ did not converge\n",
      "  \"the coef_ did not converge\", ConvergenceWarning)\n"
     ]
    },
    {
     "name": "stdout",
     "output_type": "stream",
     "text": [
      "[Parallel(n_jobs=20)]: Done 354 tasks      | elapsed: 376.2min\n"
     ]
    },
    {
     "name": "stderr",
     "output_type": "stream",
     "text": [
      "/data/nielsond/python/envs/abcd_mine/lib/python3.6/site-packages/rpy2/robjects/functions.py:106: UserWarning: Found10batches\n",
      "\n",
      "  res = super(Function, self).__call__(*new_args, **new_kwargs)\n",
      "/data/nielsond/python/envs/abcd_mine/lib/python3.6/site-packages/rpy2/robjects/functions.py:106: UserWarning: Adjusting for0covariate(s) or covariate level(s)\n",
      "\n",
      "  res = super(Function, self).__call__(*new_args, **new_kwargs)\n"
     ]
    },
    {
     "name": "stdout",
     "output_type": "stream",
     "text": [
      "Standardizing Data across genes\n",
      "\n"
     ]
    },
    {
     "name": "stderr",
     "output_type": "stream",
     "text": [
      "/data/nielsond/python/envs/abcd_mine/lib/python3.6/site-packages/rpy2/robjects/functions.py:106: UserWarning: Fitting L/S model and finding priors\n",
      "\n",
      "  res = super(Function, self).__call__(*new_args, **new_kwargs)\n",
      "/data/nielsond/python/envs/abcd_mine/lib/python3.6/site-packages/rpy2/robjects/functions.py:106: UserWarning: Finding nonparametric adjustments\n",
      "\n",
      "  res = super(Function, self).__call__(*new_args, **new_kwargs)\n",
      "/data/nielsond/python/envs/abcd_mine/lib/python3.6/site-packages/rpy2/robjects/functions.py:106: UserWarning: Adjusting the Data\n",
      "\n",
      "\n",
      "  res = super(Function, self).__call__(*new_args, **new_kwargs)\n"
     ]
    },
    {
     "name": "stdout",
     "output_type": "stream",
     "text": [
      "Standardizing Data across genes\n",
      "\n",
      "Standardizing Data across genes\n",
      "\n",
      "Standardizing Data across genes\n",
      "\n"
     ]
    },
    {
     "name": "stderr",
     "output_type": "stream",
     "text": [
      "/data/nielsond/python/envs/abcd_mine/lib/python3.6/site-packages/sklearn/linear_model/sag.py:326: ConvergenceWarning: The max_iter was reached which means the coef_ did not converge\n",
      "  \"the coef_ did not converge\", ConvergenceWarning)\n"
     ]
    },
    {
     "name": "stdout",
     "output_type": "stream",
     "text": [
      "[Parallel(n_jobs=20)]: Done 355 tasks      | elapsed: 379.2min\n"
     ]
    },
    {
     "name": "stderr",
     "output_type": "stream",
     "text": [
      "/data/nielsond/python/envs/abcd_mine/lib/python3.6/site-packages/rpy2/robjects/functions.py:106: UserWarning: Found10batches\n",
      "\n",
      "  res = super(Function, self).__call__(*new_args, **new_kwargs)\n",
      "/data/nielsond/python/envs/abcd_mine/lib/python3.6/site-packages/rpy2/robjects/functions.py:106: UserWarning: Adjusting for0covariate(s) or covariate level(s)\n",
      "\n",
      "  res = super(Function, self).__call__(*new_args, **new_kwargs)\n"
     ]
    },
    {
     "name": "stdout",
     "output_type": "stream",
     "text": [
      "Standardizing Data across genes\n",
      "\n"
     ]
    },
    {
     "name": "stderr",
     "output_type": "stream",
     "text": [
      "/data/nielsond/python/envs/abcd_mine/lib/python3.6/site-packages/rpy2/robjects/functions.py:106: UserWarning: Fitting L/S model and finding priors\n",
      "\n",
      "  res = super(Function, self).__call__(*new_args, **new_kwargs)\n",
      "/data/nielsond/python/envs/abcd_mine/lib/python3.6/site-packages/rpy2/robjects/functions.py:106: UserWarning: Finding nonparametric adjustments\n",
      "\n",
      "  res = super(Function, self).__call__(*new_args, **new_kwargs)\n",
      "/data/nielsond/python/envs/abcd_mine/lib/python3.6/site-packages/sklearn/linear_model/sag.py:326: ConvergenceWarning: The max_iter was reached which means the coef_ did not converge\n",
      "  \"the coef_ did not converge\", ConvergenceWarning)\n",
      "/data/nielsond/python/envs/abcd_mine/lib/python3.6/site-packages/rpy2/robjects/functions.py:106: UserWarning: Adjusting the Data\n",
      "\n",
      "\n",
      "  res = super(Function, self).__call__(*new_args, **new_kwargs)\n"
     ]
    },
    {
     "name": "stdout",
     "output_type": "stream",
     "text": [
      "[Parallel(n_jobs=20)]: Done 356 tasks      | elapsed: 379.4min\n"
     ]
    },
    {
     "name": "stderr",
     "output_type": "stream",
     "text": [
      "/data/nielsond/python/envs/abcd_mine/lib/python3.6/site-packages/rpy2/robjects/functions.py:106: UserWarning: Found10batches\n",
      "\n",
      "  res = super(Function, self).__call__(*new_args, **new_kwargs)\n"
     ]
    },
    {
     "name": "stdout",
     "output_type": "stream",
     "text": [
      "Standardizing Data across genes\n",
      "\n"
     ]
    },
    {
     "name": "stderr",
     "output_type": "stream",
     "text": [
      "/data/nielsond/python/envs/abcd_mine/lib/python3.6/site-packages/rpy2/robjects/functions.py:106: UserWarning: Adjusting for0covariate(s) or covariate level(s)\n",
      "\n",
      "  res = super(Function, self).__call__(*new_args, **new_kwargs)\n"
     ]
    },
    {
     "name": "stdout",
     "output_type": "stream",
     "text": [
      "Standardizing Data across genes\n",
      "\n"
     ]
    },
    {
     "name": "stderr",
     "output_type": "stream",
     "text": [
      "/data/nielsond/python/envs/abcd_mine/lib/python3.6/site-packages/rpy2/robjects/functions.py:106: UserWarning: Fitting L/S model and finding priors\n",
      "\n",
      "  res = super(Function, self).__call__(*new_args, **new_kwargs)\n",
      "/data/nielsond/python/envs/abcd_mine/lib/python3.6/site-packages/rpy2/robjects/functions.py:106: UserWarning: Finding nonparametric adjustments\n",
      "\n",
      "  res = super(Function, self).__call__(*new_args, **new_kwargs)\n",
      "/data/nielsond/python/envs/abcd_mine/lib/python3.6/site-packages/rpy2/robjects/functions.py:106: UserWarning: Adjusting the Data\n",
      "\n",
      "\n",
      "  res = super(Function, self).__call__(*new_args, **new_kwargs)\n"
     ]
    },
    {
     "name": "stdout",
     "output_type": "stream",
     "text": [
      "Standardizing Data across genes\n",
      "\n",
      "Standardizing Data across genes\n",
      "\n",
      "Standardizing Data across genes\n",
      "\n"
     ]
    },
    {
     "name": "stderr",
     "output_type": "stream",
     "text": [
      "/data/nielsond/python/envs/abcd_mine/lib/python3.6/site-packages/sklearn/linear_model/sag.py:326: ConvergenceWarning: The max_iter was reached which means the coef_ did not converge\n",
      "  \"the coef_ did not converge\", ConvergenceWarning)\n"
     ]
    },
    {
     "name": "stdout",
     "output_type": "stream",
     "text": [
      "Standardizing Data across genes\n",
      "\n",
      "[Parallel(n_jobs=20)]: Done 357 tasks      | elapsed: 379.7min\n",
      "Standardizing Data across genes\n",
      "\n"
     ]
    },
    {
     "name": "stderr",
     "output_type": "stream",
     "text": [
      "/data/nielsond/python/envs/abcd_mine/lib/python3.6/site-packages/rpy2/robjects/functions.py:106: UserWarning: Found10batches\n",
      "\n",
      "  res = super(Function, self).__call__(*new_args, **new_kwargs)\n",
      "/data/nielsond/python/envs/abcd_mine/lib/python3.6/site-packages/rpy2/robjects/functions.py:106: UserWarning: Adjusting for0covariate(s) or covariate level(s)\n",
      "\n",
      "  res = super(Function, self).__call__(*new_args, **new_kwargs)\n"
     ]
    },
    {
     "name": "stdout",
     "output_type": "stream",
     "text": [
      "Standardizing Data across genes\n",
      "\n"
     ]
    },
    {
     "name": "stderr",
     "output_type": "stream",
     "text": [
      "/data/nielsond/python/envs/abcd_mine/lib/python3.6/site-packages/rpy2/robjects/functions.py:106: UserWarning: Fitting L/S model and finding priors\n",
      "\n",
      "  res = super(Function, self).__call__(*new_args, **new_kwargs)\n",
      "/data/nielsond/python/envs/abcd_mine/lib/python3.6/site-packages/rpy2/robjects/functions.py:106: UserWarning: Finding nonparametric adjustments\n",
      "\n",
      "  res = super(Function, self).__call__(*new_args, **new_kwargs)\n",
      "/data/nielsond/python/envs/abcd_mine/lib/python3.6/site-packages/rpy2/robjects/functions.py:106: UserWarning: Adjusting the Data\n",
      "\n",
      "\n",
      "  res = super(Function, self).__call__(*new_args, **new_kwargs)\n"
     ]
    },
    {
     "name": "stdout",
     "output_type": "stream",
     "text": [
      "Standardizing Data across genes\n",
      "\n",
      "Standardizing Data across genes\n",
      "\n",
      "Standardizing Data across genes\n",
      "\n"
     ]
    },
    {
     "name": "stderr",
     "output_type": "stream",
     "text": [
      "/data/nielsond/python/envs/abcd_mine/lib/python3.6/site-packages/sklearn/linear_model/sag.py:326: ConvergenceWarning: The max_iter was reached which means the coef_ did not converge\n",
      "  \"the coef_ did not converge\", ConvergenceWarning)\n"
     ]
    },
    {
     "name": "stdout",
     "output_type": "stream",
     "text": [
      "[Parallel(n_jobs=20)]: Done 358 tasks      | elapsed: 380.1min\n"
     ]
    },
    {
     "name": "stderr",
     "output_type": "stream",
     "text": [
      "/data/nielsond/python/envs/abcd_mine/lib/python3.6/site-packages/rpy2/robjects/functions.py:106: UserWarning: Found10batches\n",
      "\n",
      "  res = super(Function, self).__call__(*new_args, **new_kwargs)\n",
      "/data/nielsond/python/envs/abcd_mine/lib/python3.6/site-packages/rpy2/robjects/functions.py:106: UserWarning: Adjusting for0covariate(s) or covariate level(s)\n",
      "\n",
      "  res = super(Function, self).__call__(*new_args, **new_kwargs)\n"
     ]
    },
    {
     "name": "stdout",
     "output_type": "stream",
     "text": [
      "Standardizing Data across genes\n",
      "\n"
     ]
    },
    {
     "name": "stderr",
     "output_type": "stream",
     "text": [
      "/data/nielsond/python/envs/abcd_mine/lib/python3.6/site-packages/rpy2/robjects/functions.py:106: UserWarning: Fitting L/S model and finding priors\n",
      "\n",
      "  res = super(Function, self).__call__(*new_args, **new_kwargs)\n",
      "/data/nielsond/python/envs/abcd_mine/lib/python3.6/site-packages/rpy2/robjects/functions.py:106: UserWarning: Finding nonparametric adjustments\n",
      "\n",
      "  res = super(Function, self).__call__(*new_args, **new_kwargs)\n"
     ]
    },
    {
     "name": "stdout",
     "output_type": "stream",
     "text": [
      "[Parallel(n_jobs=20)]: Done 359 tasks      | elapsed: 380.2min\n"
     ]
    },
    {
     "name": "stderr",
     "output_type": "stream",
     "text": [
      "/data/nielsond/python/envs/abcd_mine/lib/python3.6/site-packages/rpy2/robjects/functions.py:106: UserWarning: Found10batches\n",
      "\n",
      "  res = super(Function, self).__call__(*new_args, **new_kwargs)\n",
      "/data/nielsond/python/envs/abcd_mine/lib/python3.6/site-packages/rpy2/robjects/functions.py:106: UserWarning: Adjusting for0covariate(s) or covariate level(s)\n",
      "\n",
      "  res = super(Function, self).__call__(*new_args, **new_kwargs)\n"
     ]
    },
    {
     "name": "stdout",
     "output_type": "stream",
     "text": [
      "Standardizing Data across genes\n",
      "\n"
     ]
    },
    {
     "name": "stderr",
     "output_type": "stream",
     "text": [
      "/data/nielsond/python/envs/abcd_mine/lib/python3.6/site-packages/rpy2/robjects/functions.py:106: UserWarning: Fitting L/S model and finding priors\n",
      "\n",
      "  res = super(Function, self).__call__(*new_args, **new_kwargs)\n",
      "/data/nielsond/python/envs/abcd_mine/lib/python3.6/site-packages/rpy2/robjects/functions.py:106: UserWarning: Finding nonparametric adjustments\n",
      "\n",
      "  res = super(Function, self).__call__(*new_args, **new_kwargs)\n",
      "/data/nielsond/python/envs/abcd_mine/lib/python3.6/site-packages/rpy2/robjects/functions.py:106: UserWarning: Adjusting the Data\n",
      "\n",
      "\n",
      "  res = super(Function, self).__call__(*new_args, **new_kwargs)\n"
     ]
    },
    {
     "name": "stdout",
     "output_type": "stream",
     "text": [
      "Standardizing Data across genes\n",
      "\n"
     ]
    },
    {
     "name": "stderr",
     "output_type": "stream",
     "text": [
      "/data/nielsond/python/envs/abcd_mine/lib/python3.6/site-packages/rpy2/robjects/functions.py:106: UserWarning: Adjusting the Data\n",
      "\n",
      "\n",
      "  res = super(Function, self).__call__(*new_args, **new_kwargs)\n"
     ]
    },
    {
     "name": "stdout",
     "output_type": "stream",
     "text": [
      "Standardizing Data across genes\n",
      "\n",
      "Standardizing Data across genes\n",
      "\n",
      "Standardizing Data across genes\n",
      "\n",
      "Standardizing Data across genes\n",
      "\n",
      "Standardizing Data across genes\n",
      "\n"
     ]
    },
    {
     "name": "stderr",
     "output_type": "stream",
     "text": [
      "/data/nielsond/python/envs/abcd_mine/lib/python3.6/site-packages/sklearn/linear_model/sag.py:326: ConvergenceWarning: The max_iter was reached which means the coef_ did not converge\n",
      "  \"the coef_ did not converge\", ConvergenceWarning)\n"
     ]
    },
    {
     "name": "stdout",
     "output_type": "stream",
     "text": [
      "[Parallel(n_jobs=20)]: Done 360 tasks      | elapsed: 380.7min\n"
     ]
    },
    {
     "name": "stderr",
     "output_type": "stream",
     "text": [
      "/data/nielsond/python/envs/abcd_mine/lib/python3.6/site-packages/rpy2/robjects/functions.py:106: UserWarning: Found10batches\n",
      "\n",
      "  res = super(Function, self).__call__(*new_args, **new_kwargs)\n",
      "/data/nielsond/python/envs/abcd_mine/lib/python3.6/site-packages/rpy2/robjects/functions.py:106: UserWarning: Adjusting for0covariate(s) or covariate level(s)\n",
      "\n",
      "  res = super(Function, self).__call__(*new_args, **new_kwargs)\n"
     ]
    },
    {
     "name": "stdout",
     "output_type": "stream",
     "text": [
      "Standardizing Data across genes\n",
      "\n"
     ]
    },
    {
     "name": "stderr",
     "output_type": "stream",
     "text": [
      "/data/nielsond/python/envs/abcd_mine/lib/python3.6/site-packages/rpy2/robjects/functions.py:106: UserWarning: Fitting L/S model and finding priors\n",
      "\n",
      "  res = super(Function, self).__call__(*new_args, **new_kwargs)\n",
      "/data/nielsond/python/envs/abcd_mine/lib/python3.6/site-packages/rpy2/robjects/functions.py:106: UserWarning: Finding nonparametric adjustments\n",
      "\n",
      "  res = super(Function, self).__call__(*new_args, **new_kwargs)\n",
      "/data/nielsond/python/envs/abcd_mine/lib/python3.6/site-packages/rpy2/robjects/functions.py:106: UserWarning: Adjusting the Data\n",
      "\n",
      "\n",
      "  res = super(Function, self).__call__(*new_args, **new_kwargs)\n"
     ]
    },
    {
     "name": "stdout",
     "output_type": "stream",
     "text": [
      "Standardizing Data across genes\n",
      "\n",
      "[Parallel(n_jobs=20)]: Done 361 tasks      | elapsed: 380.9min\n",
      "Standardizing Data across genes\n",
      "\n"
     ]
    },
    {
     "name": "stderr",
     "output_type": "stream",
     "text": [
      "/data/nielsond/python/envs/abcd_mine/lib/python3.6/site-packages/rpy2/robjects/functions.py:106: UserWarning: Found10batches\n",
      "\n",
      "  res = super(Function, self).__call__(*new_args, **new_kwargs)\n",
      "/data/nielsond/python/envs/abcd_mine/lib/python3.6/site-packages/rpy2/robjects/functions.py:106: UserWarning: Adjusting for0covariate(s) or covariate level(s)\n",
      "\n",
      "  res = super(Function, self).__call__(*new_args, **new_kwargs)\n"
     ]
    },
    {
     "name": "stdout",
     "output_type": "stream",
     "text": [
      "Standardizing Data across genes\n",
      "\n"
     ]
    },
    {
     "name": "stderr",
     "output_type": "stream",
     "text": [
      "/data/nielsond/python/envs/abcd_mine/lib/python3.6/site-packages/rpy2/robjects/functions.py:106: UserWarning: Fitting L/S model and finding priors\n",
      "\n",
      "  res = super(Function, self).__call__(*new_args, **new_kwargs)\n",
      "/data/nielsond/python/envs/abcd_mine/lib/python3.6/site-packages/rpy2/robjects/functions.py:106: UserWarning: Finding nonparametric adjustments\n",
      "\n",
      "  res = super(Function, self).__call__(*new_args, **new_kwargs)\n"
     ]
    },
    {
     "name": "stdout",
     "output_type": "stream",
     "text": [
      "Standardizing Data across genes\n",
      "\n"
     ]
    },
    {
     "name": "stderr",
     "output_type": "stream",
     "text": [
      "/data/nielsond/python/envs/abcd_mine/lib/python3.6/site-packages/rpy2/robjects/functions.py:106: UserWarning: Adjusting the Data\n",
      "\n",
      "\n",
      "  res = super(Function, self).__call__(*new_args, **new_kwargs)\n"
     ]
    },
    {
     "name": "stdout",
     "output_type": "stream",
     "text": [
      "Standardizing Data across genes\n",
      "\n",
      "Standardizing Data across genes\n",
      "\n",
      "Standardizing Data across genes\n",
      "\n"
     ]
    },
    {
     "name": "stderr",
     "output_type": "stream",
     "text": [
      "/data/nielsond/python/envs/abcd_mine/lib/python3.6/site-packages/sklearn/linear_model/sag.py:326: ConvergenceWarning: The max_iter was reached which means the coef_ did not converge\n",
      "  \"the coef_ did not converge\", ConvergenceWarning)\n",
      "/data/nielsond/python/envs/abcd_mine/lib/python3.6/site-packages/rpy2/robjects/functions.py:106: UserWarning: Found10batches\n",
      "\n",
      "  res = super(Function, self).__call__(*new_args, **new_kwargs)\n",
      "/data/nielsond/python/envs/abcd_mine/lib/python3.6/site-packages/rpy2/robjects/functions.py:106: UserWarning: Adjusting for0covariate(s) or covariate level(s)\n",
      "\n",
      "  res = super(Function, self).__call__(*new_args, **new_kwargs)\n"
     ]
    },
    {
     "name": "stdout",
     "output_type": "stream",
     "text": [
      "Standardizing Data across genes\n",
      "\n"
     ]
    },
    {
     "name": "stderr",
     "output_type": "stream",
     "text": [
      "/data/nielsond/python/envs/abcd_mine/lib/python3.6/site-packages/rpy2/robjects/functions.py:106: UserWarning: Fitting L/S model and finding priors\n",
      "\n",
      "  res = super(Function, self).__call__(*new_args, **new_kwargs)\n",
      "/data/nielsond/python/envs/abcd_mine/lib/python3.6/site-packages/rpy2/robjects/functions.py:106: UserWarning: Finding nonparametric adjustments\n",
      "\n",
      "  res = super(Function, self).__call__(*new_args, **new_kwargs)\n",
      "/data/nielsond/python/envs/abcd_mine/lib/python3.6/site-packages/rpy2/robjects/functions.py:106: UserWarning: Adjusting the Data\n",
      "\n",
      "\n",
      "  res = super(Function, self).__call__(*new_args, **new_kwargs)\n"
     ]
    },
    {
     "name": "stdout",
     "output_type": "stream",
     "text": [
      "Standardizing Data across genes\n",
      "\n"
     ]
    },
    {
     "name": "stderr",
     "output_type": "stream",
     "text": [
      "/data/nielsond/python/envs/abcd_mine/lib/python3.6/site-packages/sklearn/linear_model/sag.py:326: ConvergenceWarning: The max_iter was reached which means the coef_ did not converge\n",
      "  \"the coef_ did not converge\", ConvergenceWarning)\n"
     ]
    },
    {
     "name": "stdout",
     "output_type": "stream",
     "text": [
      "Standardizing Data across genes\n",
      "\n"
     ]
    },
    {
     "name": "stderr",
     "output_type": "stream",
     "text": [
      "/data/nielsond/python/envs/abcd_mine/lib/python3.6/site-packages/rpy2/robjects/functions.py:106: UserWarning: Found10batches\n",
      "\n",
      "  res = super(Function, self).__call__(*new_args, **new_kwargs)\n",
      "/data/nielsond/python/envs/abcd_mine/lib/python3.6/site-packages/rpy2/robjects/functions.py:106: UserWarning: Adjusting for0covariate(s) or covariate level(s)\n",
      "\n",
      "  res = super(Function, self).__call__(*new_args, **new_kwargs)\n"
     ]
    },
    {
     "name": "stdout",
     "output_type": "stream",
     "text": [
      "Standardizing Data across genes\n",
      "\n"
     ]
    },
    {
     "name": "stderr",
     "output_type": "stream",
     "text": [
      "/data/nielsond/python/envs/abcd_mine/lib/python3.6/site-packages/rpy2/robjects/functions.py:106: UserWarning: Fitting L/S model and finding priors\n",
      "\n",
      "  res = super(Function, self).__call__(*new_args, **new_kwargs)\n",
      "/data/nielsond/python/envs/abcd_mine/lib/python3.6/site-packages/rpy2/robjects/functions.py:106: UserWarning: Finding nonparametric adjustments\n",
      "\n",
      "  res = super(Function, self).__call__(*new_args, **new_kwargs)\n"
     ]
    },
    {
     "name": "stdout",
     "output_type": "stream",
     "text": [
      "Standardizing Data across genes\n",
      "\n"
     ]
    },
    {
     "name": "stderr",
     "output_type": "stream",
     "text": [
      "/data/nielsond/python/envs/abcd_mine/lib/python3.6/site-packages/rpy2/robjects/functions.py:106: UserWarning: Adjusting the Data\n",
      "\n",
      "\n",
      "  res = super(Function, self).__call__(*new_args, **new_kwargs)\n"
     ]
    },
    {
     "name": "stdout",
     "output_type": "stream",
     "text": [
      "Standardizing Data across genes\n",
      "\n",
      "Standardizing Data across genes\n",
      "\n",
      "Standardizing Data across genes\n",
      "\n"
     ]
    },
    {
     "name": "stderr",
     "output_type": "stream",
     "text": [
      "/data/nielsond/python/envs/abcd_mine/lib/python3.6/site-packages/sklearn/linear_model/sag.py:326: ConvergenceWarning: The max_iter was reached which means the coef_ did not converge\n",
      "  \"the coef_ did not converge\", ConvergenceWarning)\n",
      "/data/nielsond/python/envs/abcd_mine/lib/python3.6/site-packages/rpy2/robjects/functions.py:106: UserWarning: Found10batches\n",
      "\n",
      "  res = super(Function, self).__call__(*new_args, **new_kwargs)\n",
      "/data/nielsond/python/envs/abcd_mine/lib/python3.6/site-packages/rpy2/robjects/functions.py:106: UserWarning: Adjusting for0covariate(s) or covariate level(s)\n",
      "\n",
      "  res = super(Function, self).__call__(*new_args, **new_kwargs)\n"
     ]
    },
    {
     "name": "stdout",
     "output_type": "stream",
     "text": [
      "Standardizing Data across genes\n",
      "\n"
     ]
    },
    {
     "name": "stderr",
     "output_type": "stream",
     "text": [
      "/data/nielsond/python/envs/abcd_mine/lib/python3.6/site-packages/rpy2/robjects/functions.py:106: UserWarning: Fitting L/S model and finding priors\n",
      "\n",
      "  res = super(Function, self).__call__(*new_args, **new_kwargs)\n",
      "/data/nielsond/python/envs/abcd_mine/lib/python3.6/site-packages/rpy2/robjects/functions.py:106: UserWarning: Finding nonparametric adjustments\n",
      "\n",
      "  res = super(Function, self).__call__(*new_args, **new_kwargs)\n",
      "/data/nielsond/python/envs/abcd_mine/lib/python3.6/site-packages/rpy2/robjects/functions.py:106: UserWarning: Found10batches\n",
      "\n",
      "  res = super(Function, self).__call__(*new_args, **new_kwargs)\n",
      "/data/nielsond/python/envs/abcd_mine/lib/python3.6/site-packages/rpy2/robjects/functions.py:106: UserWarning: Adjusting for0covariate(s) or covariate level(s)\n",
      "\n",
      "  res = super(Function, self).__call__(*new_args, **new_kwargs)\n"
     ]
    },
    {
     "name": "stdout",
     "output_type": "stream",
     "text": [
      "Standardizing Data across genes\n",
      "\n"
     ]
    },
    {
     "name": "stderr",
     "output_type": "stream",
     "text": [
      "/data/nielsond/python/envs/abcd_mine/lib/python3.6/site-packages/rpy2/robjects/functions.py:106: UserWarning: Fitting L/S model and finding priors\n",
      "\n",
      "  res = super(Function, self).__call__(*new_args, **new_kwargs)\n",
      "/data/nielsond/python/envs/abcd_mine/lib/python3.6/site-packages/rpy2/robjects/functions.py:106: UserWarning: Finding nonparametric adjustments\n",
      "\n",
      "  res = super(Function, self).__call__(*new_args, **new_kwargs)\n",
      "/data/nielsond/python/envs/abcd_mine/lib/python3.6/site-packages/rpy2/robjects/functions.py:106: UserWarning: Adjusting the Data\n",
      "\n",
      "\n",
      "  res = super(Function, self).__call__(*new_args, **new_kwargs)\n"
     ]
    },
    {
     "name": "stdout",
     "output_type": "stream",
     "text": [
      "Standardizing Data across genes\n",
      "\n"
     ]
    },
    {
     "name": "stderr",
     "output_type": "stream",
     "text": [
      "/data/nielsond/python/envs/abcd_mine/lib/python3.6/site-packages/rpy2/robjects/functions.py:106: UserWarning: Adjusting the Data\n",
      "\n",
      "\n",
      "  res = super(Function, self).__call__(*new_args, **new_kwargs)\n"
     ]
    },
    {
     "name": "stdout",
     "output_type": "stream",
     "text": [
      "Standardizing Data across genes\n",
      "\n",
      "Standardizing Data across genes\n",
      "\n",
      "Standardizing Data across genes\n",
      "\n",
      "Standardizing Data across genes\n",
      "\n",
      "Standardizing Data across genes\n",
      "\n"
     ]
    },
    {
     "name": "stderr",
     "output_type": "stream",
     "text": [
      "/data/nielsond/python/envs/abcd_mine/lib/python3.6/site-packages/sklearn/linear_model/sag.py:326: ConvergenceWarning: The max_iter was reached which means the coef_ did not converge\n",
      "  \"the coef_ did not converge\", ConvergenceWarning)\n",
      "/data/nielsond/python/envs/abcd_mine/lib/python3.6/site-packages/sklearn/linear_model/sag.py:326: ConvergenceWarning: The max_iter was reached which means the coef_ did not converge\n",
      "  \"the coef_ did not converge\", ConvergenceWarning)\n",
      "/data/nielsond/python/envs/abcd_mine/lib/python3.6/site-packages/sklearn/linear_model/sag.py:326: ConvergenceWarning: The max_iter was reached which means the coef_ did not converge\n",
      "  \"the coef_ did not converge\", ConvergenceWarning)\n",
      "/data/nielsond/python/envs/abcd_mine/lib/python3.6/site-packages/rpy2/robjects/functions.py:106: UserWarning: Found10batches\n",
      "\n",
      "  res = super(Function, self).__call__(*new_args, **new_kwargs)\n",
      "/data/nielsond/python/envs/abcd_mine/lib/python3.6/site-packages/rpy2/robjects/functions.py:106: UserWarning: Adjusting for0covariate(s) or covariate level(s)\n",
      "\n",
      "  res = super(Function, self).__call__(*new_args, **new_kwargs)\n"
     ]
    },
    {
     "name": "stdout",
     "output_type": "stream",
     "text": [
      "Standardizing Data across genes\n",
      "\n"
     ]
    },
    {
     "name": "stderr",
     "output_type": "stream",
     "text": [
      "/data/nielsond/python/envs/abcd_mine/lib/python3.6/site-packages/rpy2/robjects/functions.py:106: UserWarning: Fitting L/S model and finding priors\n",
      "\n",
      "  res = super(Function, self).__call__(*new_args, **new_kwargs)\n",
      "/data/nielsond/python/envs/abcd_mine/lib/python3.6/site-packages/rpy2/robjects/functions.py:106: UserWarning: Finding nonparametric adjustments\n",
      "\n",
      "  res = super(Function, self).__call__(*new_args, **new_kwargs)\n",
      "/data/nielsond/python/envs/abcd_mine/lib/python3.6/site-packages/rpy2/robjects/functions.py:106: UserWarning: Adjusting the Data\n",
      "\n",
      "\n",
      "  res = super(Function, self).__call__(*new_args, **new_kwargs)\n"
     ]
    },
    {
     "name": "stdout",
     "output_type": "stream",
     "text": [
      "Standardizing Data across genes\n",
      "\n",
      "Standardizing Data across genes\n",
      "\n",
      "Standardizing Data across genes\n",
      "\n"
     ]
    },
    {
     "name": "stderr",
     "output_type": "stream",
     "text": [
      "/data/nielsond/python/envs/abcd_mine/lib/python3.6/site-packages/sklearn/linear_model/sag.py:326: ConvergenceWarning: The max_iter was reached which means the coef_ did not converge\n",
      "  \"the coef_ did not converge\", ConvergenceWarning)\n",
      "/data/nielsond/python/envs/abcd_mine/lib/python3.6/site-packages/rpy2/robjects/functions.py:106: UserWarning: Found10batches\n",
      "\n",
      "  res = super(Function, self).__call__(*new_args, **new_kwargs)\n",
      "/data/nielsond/python/envs/abcd_mine/lib/python3.6/site-packages/rpy2/robjects/functions.py:106: UserWarning: Adjusting for0covariate(s) or covariate level(s)\n",
      "\n",
      "  res = super(Function, self).__call__(*new_args, **new_kwargs)\n"
     ]
    },
    {
     "name": "stdout",
     "output_type": "stream",
     "text": [
      "Standardizing Data across genes\n",
      "\n"
     ]
    },
    {
     "name": "stderr",
     "output_type": "stream",
     "text": [
      "/data/nielsond/python/envs/abcd_mine/lib/python3.6/site-packages/rpy2/robjects/functions.py:106: UserWarning: Fitting L/S model and finding priors\n",
      "\n",
      "  res = super(Function, self).__call__(*new_args, **new_kwargs)\n",
      "/data/nielsond/python/envs/abcd_mine/lib/python3.6/site-packages/rpy2/robjects/functions.py:106: UserWarning: Finding nonparametric adjustments\n",
      "\n",
      "  res = super(Function, self).__call__(*new_args, **new_kwargs)\n",
      "/data/nielsond/python/envs/abcd_mine/lib/python3.6/site-packages/rpy2/robjects/functions.py:106: UserWarning: Adjusting the Data\n",
      "\n",
      "\n",
      "  res = super(Function, self).__call__(*new_args, **new_kwargs)\n"
     ]
    },
    {
     "name": "stdout",
     "output_type": "stream",
     "text": [
      "Standardizing Data across genes\n",
      "\n",
      "Standardizing Data across genes\n",
      "\n",
      "Standardizing Data across genes\n",
      "\n"
     ]
    },
    {
     "name": "stderr",
     "output_type": "stream",
     "text": [
      "/data/nielsond/python/envs/abcd_mine/lib/python3.6/site-packages/rpy2/robjects/functions.py:106: UserWarning: Found10batches\n",
      "\n",
      "  res = super(Function, self).__call__(*new_args, **new_kwargs)\n",
      "/data/nielsond/python/envs/abcd_mine/lib/python3.6/site-packages/rpy2/robjects/functions.py:106: UserWarning: Adjusting for0covariate(s) or covariate level(s)\n",
      "\n",
      "  res = super(Function, self).__call__(*new_args, **new_kwargs)\n"
     ]
    },
    {
     "name": "stdout",
     "output_type": "stream",
     "text": [
      "Standardizing Data across genes\n",
      "\n"
     ]
    },
    {
     "name": "stderr",
     "output_type": "stream",
     "text": [
      "/data/nielsond/python/envs/abcd_mine/lib/python3.6/site-packages/rpy2/robjects/functions.py:106: UserWarning: Fitting L/S model and finding priors\n",
      "\n",
      "  res = super(Function, self).__call__(*new_args, **new_kwargs)\n",
      "/data/nielsond/python/envs/abcd_mine/lib/python3.6/site-packages/rpy2/robjects/functions.py:106: UserWarning: Finding nonparametric adjustments\n",
      "\n",
      "  res = super(Function, self).__call__(*new_args, **new_kwargs)\n",
      "/data/nielsond/python/envs/abcd_mine/lib/python3.6/site-packages/rpy2/robjects/functions.py:106: UserWarning: Adjusting the Data\n",
      "\n",
      "\n",
      "  res = super(Function, self).__call__(*new_args, **new_kwargs)\n"
     ]
    },
    {
     "name": "stdout",
     "output_type": "stream",
     "text": [
      "Standardizing Data across genes\n",
      "\n",
      "Standardizing Data across genes\n",
      "\n",
      "Standardizing Data across genes\n",
      "\n"
     ]
    },
    {
     "name": "stderr",
     "output_type": "stream",
     "text": [
      "/data/nielsond/python/envs/abcd_mine/lib/python3.6/site-packages/sklearn/linear_model/sag.py:326: ConvergenceWarning: The max_iter was reached which means the coef_ did not converge\n",
      "  \"the coef_ did not converge\", ConvergenceWarning)\n",
      "/data/nielsond/python/envs/abcd_mine/lib/python3.6/site-packages/sklearn/linear_model/sag.py:326: ConvergenceWarning: The max_iter was reached which means the coef_ did not converge\n",
      "  \"the coef_ did not converge\", ConvergenceWarning)\n",
      "/data/nielsond/python/envs/abcd_mine/lib/python3.6/site-packages/rpy2/robjects/functions.py:106: UserWarning: Found10batches\n",
      "\n",
      "  res = super(Function, self).__call__(*new_args, **new_kwargs)\n",
      "/data/nielsond/python/envs/abcd_mine/lib/python3.6/site-packages/rpy2/robjects/functions.py:106: UserWarning: Adjusting for0covariate(s) or covariate level(s)\n",
      "\n",
      "  res = super(Function, self).__call__(*new_args, **new_kwargs)\n"
     ]
    },
    {
     "name": "stdout",
     "output_type": "stream",
     "text": [
      "Standardizing Data across genes\n",
      "\n"
     ]
    },
    {
     "name": "stderr",
     "output_type": "stream",
     "text": [
      "/data/nielsond/python/envs/abcd_mine/lib/python3.6/site-packages/rpy2/robjects/functions.py:106: UserWarning: Fitting L/S model and finding priors\n",
      "\n",
      "  res = super(Function, self).__call__(*new_args, **new_kwargs)\n",
      "/data/nielsond/python/envs/abcd_mine/lib/python3.6/site-packages/rpy2/robjects/functions.py:106: UserWarning: Finding nonparametric adjustments\n",
      "\n",
      "  res = super(Function, self).__call__(*new_args, **new_kwargs)\n",
      "/data/nielsond/python/envs/abcd_mine/lib/python3.6/site-packages/rpy2/robjects/functions.py:106: UserWarning: Adjusting the Data\n",
      "\n",
      "\n",
      "  res = super(Function, self).__call__(*new_args, **new_kwargs)\n"
     ]
    },
    {
     "name": "stdout",
     "output_type": "stream",
     "text": [
      "Standardizing Data across genes\n",
      "\n",
      "Standardizing Data across genes\n",
      "\n",
      "Standardizing Data across genes\n",
      "\n"
     ]
    },
    {
     "name": "stderr",
     "output_type": "stream",
     "text": [
      "/data/nielsond/python/envs/abcd_mine/lib/python3.6/site-packages/sklearn/linear_model/sag.py:326: ConvergenceWarning: The max_iter was reached which means the coef_ did not converge\n",
      "  \"the coef_ did not converge\", ConvergenceWarning)\n"
     ]
    },
    {
     "name": "stdout",
     "output_type": "stream",
     "text": [
      "[Parallel(n_jobs=20)]: Done 370 out of 400 | elapsed: 393.1min remaining: 31.9min\n"
     ]
    },
    {
     "name": "stderr",
     "output_type": "stream",
     "text": [
      "/data/nielsond/python/envs/abcd_mine/lib/python3.6/site-packages/rpy2/robjects/functions.py:106: UserWarning: Found10batches\n",
      "\n",
      "  res = super(Function, self).__call__(*new_args, **new_kwargs)\n",
      "/data/nielsond/python/envs/abcd_mine/lib/python3.6/site-packages/rpy2/robjects/functions.py:106: UserWarning: Adjusting for0covariate(s) or covariate level(s)\n",
      "\n",
      "  res = super(Function, self).__call__(*new_args, **new_kwargs)\n"
     ]
    },
    {
     "name": "stdout",
     "output_type": "stream",
     "text": [
      "Standardizing Data across genes\n",
      "\n"
     ]
    },
    {
     "name": "stderr",
     "output_type": "stream",
     "text": [
      "/data/nielsond/python/envs/abcd_mine/lib/python3.6/site-packages/rpy2/robjects/functions.py:106: UserWarning: Fitting L/S model and finding priors\n",
      "\n",
      "  res = super(Function, self).__call__(*new_args, **new_kwargs)\n",
      "/data/nielsond/python/envs/abcd_mine/lib/python3.6/site-packages/rpy2/robjects/functions.py:106: UserWarning: Finding nonparametric adjustments\n",
      "\n",
      "  res = super(Function, self).__call__(*new_args, **new_kwargs)\n",
      "/data/nielsond/python/envs/abcd_mine/lib/python3.6/site-packages/rpy2/robjects/functions.py:106: UserWarning: Adjusting the Data\n",
      "\n",
      "\n",
      "  res = super(Function, self).__call__(*new_args, **new_kwargs)\n"
     ]
    },
    {
     "name": "stdout",
     "output_type": "stream",
     "text": [
      "Standardizing Data across genes\n",
      "\n",
      "Standardizing Data across genes\n",
      "\n",
      "Standardizing Data across genes\n",
      "\n"
     ]
    },
    {
     "name": "stderr",
     "output_type": "stream",
     "text": [
      "/data/nielsond/python/envs/abcd_mine/lib/python3.6/site-packages/sklearn/linear_model/sag.py:326: ConvergenceWarning: The max_iter was reached which means the coef_ did not converge\n",
      "  \"the coef_ did not converge\", ConvergenceWarning)\n",
      "/data/nielsond/python/envs/abcd_mine/lib/python3.6/site-packages/sklearn/linear_model/sag.py:326: ConvergenceWarning: The max_iter was reached which means the coef_ did not converge\n",
      "  \"the coef_ did not converge\", ConvergenceWarning)\n",
      "/data/nielsond/python/envs/abcd_mine/lib/python3.6/site-packages/rpy2/robjects/functions.py:106: UserWarning: Found10batches\n",
      "\n",
      "  res = super(Function, self).__call__(*new_args, **new_kwargs)\n",
      "/data/nielsond/python/envs/abcd_mine/lib/python3.6/site-packages/rpy2/robjects/functions.py:106: UserWarning: Adjusting for0covariate(s) or covariate level(s)\n",
      "\n",
      "  res = super(Function, self).__call__(*new_args, **new_kwargs)\n"
     ]
    },
    {
     "name": "stdout",
     "output_type": "stream",
     "text": [
      "Standardizing Data across genes\n",
      "\n"
     ]
    },
    {
     "name": "stderr",
     "output_type": "stream",
     "text": [
      "/data/nielsond/python/envs/abcd_mine/lib/python3.6/site-packages/rpy2/robjects/functions.py:106: UserWarning: Fitting L/S model and finding priors\n",
      "\n",
      "  res = super(Function, self).__call__(*new_args, **new_kwargs)\n",
      "/data/nielsond/python/envs/abcd_mine/lib/python3.6/site-packages/rpy2/robjects/functions.py:106: UserWarning: Finding nonparametric adjustments\n",
      "\n",
      "  res = super(Function, self).__call__(*new_args, **new_kwargs)\n",
      "/data/nielsond/python/envs/abcd_mine/lib/python3.6/site-packages/rpy2/robjects/functions.py:106: UserWarning: Found10batches\n",
      "\n",
      "  res = super(Function, self).__call__(*new_args, **new_kwargs)\n",
      "/data/nielsond/python/envs/abcd_mine/lib/python3.6/site-packages/rpy2/robjects/functions.py:106: UserWarning: Adjusting for0covariate(s) or covariate level(s)\n",
      "\n",
      "  res = super(Function, self).__call__(*new_args, **new_kwargs)\n"
     ]
    },
    {
     "name": "stdout",
     "output_type": "stream",
     "text": [
      "Standardizing Data across genes\n",
      "\n"
     ]
    },
    {
     "name": "stderr",
     "output_type": "stream",
     "text": [
      "/data/nielsond/python/envs/abcd_mine/lib/python3.6/site-packages/rpy2/robjects/functions.py:106: UserWarning: Fitting L/S model and finding priors\n",
      "\n",
      "  res = super(Function, self).__call__(*new_args, **new_kwargs)\n",
      "/data/nielsond/python/envs/abcd_mine/lib/python3.6/site-packages/rpy2/robjects/functions.py:106: UserWarning: Finding nonparametric adjustments\n",
      "\n",
      "  res = super(Function, self).__call__(*new_args, **new_kwargs)\n",
      "/data/nielsond/python/envs/abcd_mine/lib/python3.6/site-packages/rpy2/robjects/functions.py:106: UserWarning: Adjusting the Data\n",
      "\n",
      "\n",
      "  res = super(Function, self).__call__(*new_args, **new_kwargs)\n"
     ]
    },
    {
     "name": "stdout",
     "output_type": "stream",
     "text": [
      "Standardizing Data across genes\n",
      "\n"
     ]
    },
    {
     "name": "stderr",
     "output_type": "stream",
     "text": [
      "/data/nielsond/python/envs/abcd_mine/lib/python3.6/site-packages/rpy2/robjects/functions.py:106: UserWarning: Adjusting the Data\n",
      "\n",
      "\n",
      "  res = super(Function, self).__call__(*new_args, **new_kwargs)\n"
     ]
    },
    {
     "name": "stdout",
     "output_type": "stream",
     "text": [
      "Standardizing Data across genes\n",
      "\n",
      "Standardizing Data across genes\n",
      "\n",
      "Standardizing Data across genes\n",
      "\n",
      "Standardizing Data across genes\n",
      "\n",
      "Standardizing Data across genes\n",
      "\n"
     ]
    },
    {
     "name": "stderr",
     "output_type": "stream",
     "text": [
      "/data/nielsond/python/envs/abcd_mine/lib/python3.6/site-packages/rpy2/robjects/functions.py:106: UserWarning: Found10batches\n",
      "\n",
      "  res = super(Function, self).__call__(*new_args, **new_kwargs)\n",
      "/data/nielsond/python/envs/abcd_mine/lib/python3.6/site-packages/rpy2/robjects/functions.py:106: UserWarning: Adjusting for0covariate(s) or covariate level(s)\n",
      "\n",
      "  res = super(Function, self).__call__(*new_args, **new_kwargs)\n"
     ]
    },
    {
     "name": "stdout",
     "output_type": "stream",
     "text": [
      "Standardizing Data across genes\n",
      "\n"
     ]
    },
    {
     "name": "stderr",
     "output_type": "stream",
     "text": [
      "/data/nielsond/python/envs/abcd_mine/lib/python3.6/site-packages/rpy2/robjects/functions.py:106: UserWarning: Fitting L/S model and finding priors\n",
      "\n",
      "  res = super(Function, self).__call__(*new_args, **new_kwargs)\n",
      "/data/nielsond/python/envs/abcd_mine/lib/python3.6/site-packages/rpy2/robjects/functions.py:106: UserWarning: Finding nonparametric adjustments\n",
      "\n",
      "  res = super(Function, self).__call__(*new_args, **new_kwargs)\n",
      "/data/nielsond/python/envs/abcd_mine/lib/python3.6/site-packages/rpy2/robjects/functions.py:106: UserWarning: Adjusting the Data\n",
      "\n",
      "\n",
      "  res = super(Function, self).__call__(*new_args, **new_kwargs)\n"
     ]
    },
    {
     "name": "stdout",
     "output_type": "stream",
     "text": [
      "Standardizing Data across genes\n",
      "\n",
      "Standardizing Data across genes\n",
      "\n",
      "Standardizing Data across genes\n",
      "\n"
     ]
    },
    {
     "name": "stderr",
     "output_type": "stream",
     "text": [
      "/data/nielsond/python/envs/abcd_mine/lib/python3.6/site-packages/rpy2/robjects/functions.py:106: UserWarning: Found10batches\n",
      "\n",
      "  res = super(Function, self).__call__(*new_args, **new_kwargs)\n",
      "/data/nielsond/python/envs/abcd_mine/lib/python3.6/site-packages/rpy2/robjects/functions.py:106: UserWarning: Adjusting for0covariate(s) or covariate level(s)\n",
      "\n",
      "  res = super(Function, self).__call__(*new_args, **new_kwargs)\n"
     ]
    },
    {
     "name": "stdout",
     "output_type": "stream",
     "text": [
      "Standardizing Data across genes\n",
      "\n"
     ]
    },
    {
     "name": "stderr",
     "output_type": "stream",
     "text": [
      "/data/nielsond/python/envs/abcd_mine/lib/python3.6/site-packages/rpy2/robjects/functions.py:106: UserWarning: Fitting L/S model and finding priors\n",
      "\n",
      "  res = super(Function, self).__call__(*new_args, **new_kwargs)\n",
      "/data/nielsond/python/envs/abcd_mine/lib/python3.6/site-packages/rpy2/robjects/functions.py:106: UserWarning: Finding nonparametric adjustments\n",
      "\n",
      "  res = super(Function, self).__call__(*new_args, **new_kwargs)\n",
      "/data/nielsond/python/envs/abcd_mine/lib/python3.6/site-packages/rpy2/robjects/functions.py:106: UserWarning: Adjusting the Data\n",
      "\n",
      "\n",
      "  res = super(Function, self).__call__(*new_args, **new_kwargs)\n"
     ]
    },
    {
     "name": "stdout",
     "output_type": "stream",
     "text": [
      "Standardizing Data across genes\n",
      "\n",
      "Standardizing Data across genes\n",
      "\n",
      "Standardizing Data across genes\n",
      "\n"
     ]
    },
    {
     "name": "stderr",
     "output_type": "stream",
     "text": [
      "/data/nielsond/python/envs/abcd_mine/lib/python3.6/site-packages/sklearn/linear_model/sag.py:326: ConvergenceWarning: The max_iter was reached which means the coef_ did not converge\n",
      "  \"the coef_ did not converge\", ConvergenceWarning)\n",
      "/data/nielsond/python/envs/abcd_mine/lib/python3.6/site-packages/rpy2/robjects/functions.py:106: UserWarning: Found10batches\n",
      "\n",
      "  res = super(Function, self).__call__(*new_args, **new_kwargs)\n",
      "/data/nielsond/python/envs/abcd_mine/lib/python3.6/site-packages/rpy2/robjects/functions.py:106: UserWarning: Adjusting for0covariate(s) or covariate level(s)\n",
      "\n",
      "  res = super(Function, self).__call__(*new_args, **new_kwargs)\n"
     ]
    },
    {
     "name": "stdout",
     "output_type": "stream",
     "text": [
      "Standardizing Data across genes\n",
      "\n"
     ]
    },
    {
     "name": "stderr",
     "output_type": "stream",
     "text": [
      "/data/nielsond/python/envs/abcd_mine/lib/python3.6/site-packages/rpy2/robjects/functions.py:106: UserWarning: Fitting L/S model and finding priors\n",
      "\n",
      "  res = super(Function, self).__call__(*new_args, **new_kwargs)\n",
      "/data/nielsond/python/envs/abcd_mine/lib/python3.6/site-packages/rpy2/robjects/functions.py:106: UserWarning: Finding nonparametric adjustments\n",
      "\n",
      "  res = super(Function, self).__call__(*new_args, **new_kwargs)\n",
      "/data/nielsond/python/envs/abcd_mine/lib/python3.6/site-packages/rpy2/robjects/functions.py:106: UserWarning: Adjusting the Data\n",
      "\n",
      "\n",
      "  res = super(Function, self).__call__(*new_args, **new_kwargs)\n"
     ]
    },
    {
     "name": "stdout",
     "output_type": "stream",
     "text": [
      "Standardizing Data across genes\n",
      "\n",
      "Standardizing Data across genes\n",
      "\n",
      "Standardizing Data across genes\n",
      "\n"
     ]
    },
    {
     "name": "stderr",
     "output_type": "stream",
     "text": [
      "/data/nielsond/python/envs/abcd_mine/lib/python3.6/site-packages/rpy2/robjects/functions.py:106: UserWarning: Found10batches\n",
      "\n",
      "  res = super(Function, self).__call__(*new_args, **new_kwargs)\n",
      "/data/nielsond/python/envs/abcd_mine/lib/python3.6/site-packages/rpy2/robjects/functions.py:106: UserWarning: Adjusting for0covariate(s) or covariate level(s)\n",
      "\n",
      "  res = super(Function, self).__call__(*new_args, **new_kwargs)\n"
     ]
    },
    {
     "name": "stdout",
     "output_type": "stream",
     "text": [
      "Standardizing Data across genes\n",
      "\n"
     ]
    },
    {
     "name": "stderr",
     "output_type": "stream",
     "text": [
      "/data/nielsond/python/envs/abcd_mine/lib/python3.6/site-packages/rpy2/robjects/functions.py:106: UserWarning: Fitting L/S model and finding priors\n",
      "\n",
      "  res = super(Function, self).__call__(*new_args, **new_kwargs)\n",
      "/data/nielsond/python/envs/abcd_mine/lib/python3.6/site-packages/rpy2/robjects/functions.py:106: UserWarning: Finding nonparametric adjustments\n",
      "\n",
      "  res = super(Function, self).__call__(*new_args, **new_kwargs)\n",
      "/data/nielsond/python/envs/abcd_mine/lib/python3.6/site-packages/rpy2/robjects/functions.py:106: UserWarning: Adjusting the Data\n",
      "\n",
      "\n",
      "  res = super(Function, self).__call__(*new_args, **new_kwargs)\n"
     ]
    },
    {
     "name": "stdout",
     "output_type": "stream",
     "text": [
      "Standardizing Data across genes\n",
      "\n",
      "Standardizing Data across genes\n",
      "\n",
      "Standardizing Data across genes\n",
      "\n"
     ]
    },
    {
     "name": "stderr",
     "output_type": "stream",
     "text": [
      "/data/nielsond/python/envs/abcd_mine/lib/python3.6/site-packages/rpy2/robjects/functions.py:106: UserWarning: Found10batches\n",
      "\n",
      "  res = super(Function, self).__call__(*new_args, **new_kwargs)\n",
      "/data/nielsond/python/envs/abcd_mine/lib/python3.6/site-packages/rpy2/robjects/functions.py:106: UserWarning: Adjusting for0covariate(s) or covariate level(s)\n",
      "\n",
      "  res = super(Function, self).__call__(*new_args, **new_kwargs)\n"
     ]
    },
    {
     "name": "stdout",
     "output_type": "stream",
     "text": [
      "Standardizing Data across genes\n",
      "\n"
     ]
    },
    {
     "name": "stderr",
     "output_type": "stream",
     "text": [
      "/data/nielsond/python/envs/abcd_mine/lib/python3.6/site-packages/rpy2/robjects/functions.py:106: UserWarning: Fitting L/S model and finding priors\n",
      "\n",
      "  res = super(Function, self).__call__(*new_args, **new_kwargs)\n",
      "/data/nielsond/python/envs/abcd_mine/lib/python3.6/site-packages/rpy2/robjects/functions.py:106: UserWarning: Finding nonparametric adjustments\n",
      "\n",
      "  res = super(Function, self).__call__(*new_args, **new_kwargs)\n",
      "/data/nielsond/python/envs/abcd_mine/lib/python3.6/site-packages/rpy2/robjects/functions.py:106: UserWarning: Adjusting the Data\n",
      "\n",
      "\n",
      "  res = super(Function, self).__call__(*new_args, **new_kwargs)\n"
     ]
    },
    {
     "name": "stdout",
     "output_type": "stream",
     "text": [
      "Standardizing Data across genes\n",
      "\n",
      "Standardizing Data across genes\n",
      "\n",
      "Standardizing Data across genes\n",
      "\n"
     ]
    },
    {
     "name": "stderr",
     "output_type": "stream",
     "text": [
      "/data/nielsond/python/envs/abcd_mine/lib/python3.6/site-packages/sklearn/linear_model/sag.py:326: ConvergenceWarning: The max_iter was reached which means the coef_ did not converge\n",
      "  \"the coef_ did not converge\", ConvergenceWarning)\n",
      "/data/nielsond/python/envs/abcd_mine/lib/python3.6/site-packages/rpy2/robjects/functions.py:106: UserWarning: Found10batches\n",
      "\n",
      "  res = super(Function, self).__call__(*new_args, **new_kwargs)\n",
      "/data/nielsond/python/envs/abcd_mine/lib/python3.6/site-packages/rpy2/robjects/functions.py:106: UserWarning: Adjusting for0covariate(s) or covariate level(s)\n",
      "\n",
      "  res = super(Function, self).__call__(*new_args, **new_kwargs)\n"
     ]
    },
    {
     "name": "stdout",
     "output_type": "stream",
     "text": [
      "Standardizing Data across genes\n",
      "\n"
     ]
    },
    {
     "name": "stderr",
     "output_type": "stream",
     "text": [
      "/data/nielsond/python/envs/abcd_mine/lib/python3.6/site-packages/rpy2/robjects/functions.py:106: UserWarning: Fitting L/S model and finding priors\n",
      "\n",
      "  res = super(Function, self).__call__(*new_args, **new_kwargs)\n",
      "/data/nielsond/python/envs/abcd_mine/lib/python3.6/site-packages/rpy2/robjects/functions.py:106: UserWarning: Finding nonparametric adjustments\n",
      "\n",
      "  res = super(Function, self).__call__(*new_args, **new_kwargs)\n",
      "/data/nielsond/python/envs/abcd_mine/lib/python3.6/site-packages/rpy2/robjects/functions.py:106: UserWarning: Adjusting the Data\n",
      "\n",
      "\n",
      "  res = super(Function, self).__call__(*new_args, **new_kwargs)\n"
     ]
    },
    {
     "name": "stdout",
     "output_type": "stream",
     "text": [
      "Standardizing Data across genes\n",
      "\n",
      "Standardizing Data across genes\n",
      "\n",
      "Standardizing Data across genes\n",
      "\n",
      "[Parallel(n_jobs=20)]: Done 379 out of 400 | elapsed: 411.2min remaining: 22.8min\n"
     ]
    },
    {
     "name": "stderr",
     "output_type": "stream",
     "text": [
      "/data/nielsond/python/envs/abcd_mine/lib/python3.6/site-packages/rpy2/robjects/functions.py:106: UserWarning: Found10batches\n",
      "\n",
      "  res = super(Function, self).__call__(*new_args, **new_kwargs)\n",
      "/data/nielsond/python/envs/abcd_mine/lib/python3.6/site-packages/rpy2/robjects/functions.py:106: UserWarning: Adjusting for0covariate(s) or covariate level(s)\n",
      "\n",
      "  res = super(Function, self).__call__(*new_args, **new_kwargs)\n"
     ]
    },
    {
     "name": "stdout",
     "output_type": "stream",
     "text": [
      "Standardizing Data across genes\n",
      "\n"
     ]
    },
    {
     "name": "stderr",
     "output_type": "stream",
     "text": [
      "/data/nielsond/python/envs/abcd_mine/lib/python3.6/site-packages/rpy2/robjects/functions.py:106: UserWarning: Fitting L/S model and finding priors\n",
      "\n",
      "  res = super(Function, self).__call__(*new_args, **new_kwargs)\n",
      "/data/nielsond/python/envs/abcd_mine/lib/python3.6/site-packages/rpy2/robjects/functions.py:106: UserWarning: Finding nonparametric adjustments\n",
      "\n",
      "  res = super(Function, self).__call__(*new_args, **new_kwargs)\n",
      "/data/nielsond/python/envs/abcd_mine/lib/python3.6/site-packages/rpy2/robjects/functions.py:106: UserWarning: Adjusting the Data\n",
      "\n",
      "\n",
      "  res = super(Function, self).__call__(*new_args, **new_kwargs)\n"
     ]
    },
    {
     "name": "stdout",
     "output_type": "stream",
     "text": [
      "Standardizing Data across genes\n",
      "\n",
      "Standardizing Data across genes\n",
      "\n",
      "Standardizing Data across genes\n",
      "\n"
     ]
    },
    {
     "name": "stderr",
     "output_type": "stream",
     "text": [
      "/data/nielsond/python/envs/abcd_mine/lib/python3.6/site-packages/sklearn/linear_model/sag.py:326: ConvergenceWarning: The max_iter was reached which means the coef_ did not converge\n",
      "  \"the coef_ did not converge\", ConvergenceWarning)\n",
      "/data/nielsond/python/envs/abcd_mine/lib/python3.6/site-packages/rpy2/robjects/functions.py:106: UserWarning: Found10batches\n",
      "\n",
      "  res = super(Function, self).__call__(*new_args, **new_kwargs)\n",
      "/data/nielsond/python/envs/abcd_mine/lib/python3.6/site-packages/rpy2/robjects/functions.py:106: UserWarning: Adjusting for0covariate(s) or covariate level(s)\n",
      "\n",
      "  res = super(Function, self).__call__(*new_args, **new_kwargs)\n"
     ]
    },
    {
     "name": "stdout",
     "output_type": "stream",
     "text": [
      "Standardizing Data across genes\n",
      "\n"
     ]
    },
    {
     "name": "stderr",
     "output_type": "stream",
     "text": [
      "/data/nielsond/python/envs/abcd_mine/lib/python3.6/site-packages/rpy2/robjects/functions.py:106: UserWarning: Fitting L/S model and finding priors\n",
      "\n",
      "  res = super(Function, self).__call__(*new_args, **new_kwargs)\n",
      "/data/nielsond/python/envs/abcd_mine/lib/python3.6/site-packages/rpy2/robjects/functions.py:106: UserWarning: Finding nonparametric adjustments\n",
      "\n",
      "  res = super(Function, self).__call__(*new_args, **new_kwargs)\n",
      "/data/nielsond/python/envs/abcd_mine/lib/python3.6/site-packages/rpy2/robjects/functions.py:106: UserWarning: Adjusting the Data\n",
      "\n",
      "\n",
      "  res = super(Function, self).__call__(*new_args, **new_kwargs)\n"
     ]
    },
    {
     "name": "stdout",
     "output_type": "stream",
     "text": [
      "Standardizing Data across genes\n",
      "\n",
      "Standardizing Data across genes\n",
      "\n",
      "Standardizing Data across genes\n",
      "\n"
     ]
    },
    {
     "name": "stderr",
     "output_type": "stream",
     "text": [
      "/data/nielsond/python/envs/abcd_mine/lib/python3.6/site-packages/sklearn/linear_model/sag.py:326: ConvergenceWarning: The max_iter was reached which means the coef_ did not converge\n",
      "  \"the coef_ did not converge\", ConvergenceWarning)\n",
      "/data/nielsond/python/envs/abcd_mine/lib/python3.6/site-packages/sklearn/linear_model/sag.py:326: ConvergenceWarning: The max_iter was reached which means the coef_ did not converge\n",
      "  \"the coef_ did not converge\", ConvergenceWarning)\n",
      "/data/nielsond/python/envs/abcd_mine/lib/python3.6/site-packages/sklearn/linear_model/sag.py:326: ConvergenceWarning: The max_iter was reached which means the coef_ did not converge\n",
      "  \"the coef_ did not converge\", ConvergenceWarning)\n",
      "/data/nielsond/python/envs/abcd_mine/lib/python3.6/site-packages/sklearn/linear_model/sag.py:326: ConvergenceWarning: The max_iter was reached which means the coef_ did not converge\n",
      "  \"the coef_ did not converge\", ConvergenceWarning)\n",
      "/data/nielsond/python/envs/abcd_mine/lib/python3.6/site-packages/sklearn/linear_model/sag.py:326: ConvergenceWarning: The max_iter was reached which means the coef_ did not converge\n",
      "  \"the coef_ did not converge\", ConvergenceWarning)\n",
      "/data/nielsond/python/envs/abcd_mine/lib/python3.6/site-packages/sklearn/linear_model/sag.py:326: ConvergenceWarning: The max_iter was reached which means the coef_ did not converge\n",
      "  \"the coef_ did not converge\", ConvergenceWarning)\n",
      "/data/nielsond/python/envs/abcd_mine/lib/python3.6/site-packages/sklearn/linear_model/sag.py:326: ConvergenceWarning: The max_iter was reached which means the coef_ did not converge\n",
      "  \"the coef_ did not converge\", ConvergenceWarning)\n",
      "/data/nielsond/python/envs/abcd_mine/lib/python3.6/site-packages/sklearn/linear_model/sag.py:326: ConvergenceWarning: The max_iter was reached which means the coef_ did not converge\n",
      "  \"the coef_ did not converge\", ConvergenceWarning)\n",
      "/data/nielsond/python/envs/abcd_mine/lib/python3.6/site-packages/sklearn/linear_model/sag.py:326: ConvergenceWarning: The max_iter was reached which means the coef_ did not converge\n",
      "  \"the coef_ did not converge\", ConvergenceWarning)\n",
      "/data/nielsond/python/envs/abcd_mine/lib/python3.6/site-packages/sklearn/linear_model/sag.py:326: ConvergenceWarning: The max_iter was reached which means the coef_ did not converge\n",
      "  \"the coef_ did not converge\", ConvergenceWarning)\n",
      "/data/nielsond/python/envs/abcd_mine/lib/python3.6/site-packages/sklearn/linear_model/sag.py:326: ConvergenceWarning: The max_iter was reached which means the coef_ did not converge\n",
      "  \"the coef_ did not converge\", ConvergenceWarning)\n",
      "/data/nielsond/python/envs/abcd_mine/lib/python3.6/site-packages/sklearn/linear_model/sag.py:326: ConvergenceWarning: The max_iter was reached which means the coef_ did not converge\n",
      "  \"the coef_ did not converge\", ConvergenceWarning)\n",
      "/data/nielsond/python/envs/abcd_mine/lib/python3.6/site-packages/sklearn/linear_model/sag.py:326: ConvergenceWarning: The max_iter was reached which means the coef_ did not converge\n",
      "  \"the coef_ did not converge\", ConvergenceWarning)\n",
      "/data/nielsond/python/envs/abcd_mine/lib/python3.6/site-packages/sklearn/linear_model/sag.py:326: ConvergenceWarning: The max_iter was reached which means the coef_ did not converge\n",
      "  \"the coef_ did not converge\", ConvergenceWarning)\n",
      "/data/nielsond/python/envs/abcd_mine/lib/python3.6/site-packages/sklearn/linear_model/sag.py:326: ConvergenceWarning: The max_iter was reached which means the coef_ did not converge\n",
      "  \"the coef_ did not converge\", ConvergenceWarning)\n",
      "/data/nielsond/python/envs/abcd_mine/lib/python3.6/site-packages/sklearn/linear_model/sag.py:326: ConvergenceWarning: The max_iter was reached which means the coef_ did not converge\n",
      "  \"the coef_ did not converge\", ConvergenceWarning)\n",
      "/data/nielsond/python/envs/abcd_mine/lib/python3.6/site-packages/sklearn/linear_model/sag.py:326: ConvergenceWarning: The max_iter was reached which means the coef_ did not converge\n",
      "  \"the coef_ did not converge\", ConvergenceWarning)\n",
      "/data/nielsond/python/envs/abcd_mine/lib/python3.6/site-packages/sklearn/linear_model/sag.py:326: ConvergenceWarning: The max_iter was reached which means the coef_ did not converge\n",
      "  \"the coef_ did not converge\", ConvergenceWarning)\n",
      "/data/nielsond/python/envs/abcd_mine/lib/python3.6/site-packages/sklearn/linear_model/sag.py:326: ConvergenceWarning: The max_iter was reached which means the coef_ did not converge\n",
      "  \"the coef_ did not converge\", ConvergenceWarning)\n"
     ]
    },
    {
     "name": "stdout",
     "output_type": "stream",
     "text": [
      "[Parallel(n_jobs=20)]: Done 388 out of 400 | elapsed: 452.5min remaining: 14.0min\n"
     ]
    },
    {
     "name": "stderr",
     "output_type": "stream",
     "text": [
      "/data/nielsond/python/envs/abcd_mine/lib/python3.6/site-packages/sklearn/linear_model/sag.py:326: ConvergenceWarning: The max_iter was reached which means the coef_ did not converge\n",
      "  \"the coef_ did not converge\", ConvergenceWarning)\n",
      "/data/nielsond/python/envs/abcd_mine/lib/python3.6/site-packages/sklearn/linear_model/sag.py:326: ConvergenceWarning: The max_iter was reached which means the coef_ did not converge\n",
      "  \"the coef_ did not converge\", ConvergenceWarning)\n",
      "/data/nielsond/python/envs/abcd_mine/lib/python3.6/site-packages/sklearn/linear_model/sag.py:326: ConvergenceWarning: The max_iter was reached which means the coef_ did not converge\n",
      "  \"the coef_ did not converge\", ConvergenceWarning)\n",
      "/data/nielsond/python/envs/abcd_mine/lib/python3.6/site-packages/sklearn/linear_model/sag.py:326: ConvergenceWarning: The max_iter was reached which means the coef_ did not converge\n",
      "  \"the coef_ did not converge\", ConvergenceWarning)\n",
      "/data/nielsond/python/envs/abcd_mine/lib/python3.6/site-packages/sklearn/linear_model/sag.py:326: ConvergenceWarning: The max_iter was reached which means the coef_ did not converge\n",
      "  \"the coef_ did not converge\", ConvergenceWarning)\n",
      "/data/nielsond/python/envs/abcd_mine/lib/python3.6/site-packages/sklearn/linear_model/sag.py:326: ConvergenceWarning: The max_iter was reached which means the coef_ did not converge\n",
      "  \"the coef_ did not converge\", ConvergenceWarning)\n",
      "/data/nielsond/python/envs/abcd_mine/lib/python3.6/site-packages/sklearn/linear_model/sag.py:326: ConvergenceWarning: The max_iter was reached which means the coef_ did not converge\n",
      "  \"the coef_ did not converge\", ConvergenceWarning)\n",
      "/data/nielsond/python/envs/abcd_mine/lib/python3.6/site-packages/sklearn/linear_model/sag.py:326: ConvergenceWarning: The max_iter was reached which means the coef_ did not converge\n",
      "  \"the coef_ did not converge\", ConvergenceWarning)\n",
      "/data/nielsond/python/envs/abcd_mine/lib/python3.6/site-packages/sklearn/linear_model/sag.py:326: ConvergenceWarning: The max_iter was reached which means the coef_ did not converge\n",
      "  \"the coef_ did not converge\", ConvergenceWarning)\n"
     ]
    },
    {
     "name": "stdout",
     "output_type": "stream",
     "text": [
      "[Parallel(n_jobs=20)]: Done 397 out of 400 | elapsed: 473.4min remaining:  3.6min\n"
     ]
    },
    {
     "name": "stderr",
     "output_type": "stream",
     "text": [
      "/data/nielsond/python/envs/abcd_mine/lib/python3.6/site-packages/sklearn/linear_model/sag.py:326: ConvergenceWarning: The max_iter was reached which means the coef_ did not converge\n",
      "  \"the coef_ did not converge\", ConvergenceWarning)\n",
      "/data/nielsond/python/envs/abcd_mine/lib/python3.6/site-packages/sklearn/linear_model/sag.py:326: ConvergenceWarning: The max_iter was reached which means the coef_ did not converge\n",
      "  \"the coef_ did not converge\", ConvergenceWarning)\n",
      "/data/nielsond/python/envs/abcd_mine/lib/python3.6/site-packages/sklearn/linear_model/sag.py:326: ConvergenceWarning: The max_iter was reached which means the coef_ did not converge\n",
      "  \"the coef_ did not converge\", ConvergenceWarning)\n"
     ]
    },
    {
     "name": "stdout",
     "output_type": "stream",
     "text": [
      "[Parallel(n_jobs=20)]: Done 400 out of 400 | elapsed: 486.6min finished\n"
     ]
    }
   ],
   "source": [
    "cb_var_res = joblib.Parallel(n_jobs=20, verbose=50)(joblib.delayed(run_sim)(random_data, n) for n in range(400))"
   ]
  },
  {
   "cell_type": "code",
   "execution_count": 13,
   "metadata": {},
   "outputs": [],
   "source": [
    "np.savetxt(\"simulation_output.csv\", cb_var_res, delimiter=\",\")"
   ]
  },
  {
   "cell_type": "markdown",
   "metadata": {},
   "source": [
    "# Load output and see what the results are"
   ]
  },
  {
   "cell_type": "code",
   "execution_count": 1,
   "metadata": {},
   "outputs": [],
   "source": [
    "import pandas as pd"
   ]
  },
  {
   "cell_type": "code",
   "execution_count": 2,
   "metadata": {},
   "outputs": [],
   "source": [
    "res = pd.read_csv('simulation_output.csv', names=['number_of_simulation', 'n_class', 'train_test_ratio',\n",
    "                                                  'score_raw_r', 'score_raw_e', 'score_combatCorrection1_r',\n",
    "                                                  'score_combatCorrection1_e', 'score_combatCorrection2_r',\n",
    "                                                  'score_combatCorrection2_e', 'score_combatCorrection3_r',\n",
    "                                                  'score_combatCorrection3_e'])"
   ]
  },
  {
   "cell_type": "code",
   "execution_count": 3,
   "metadata": {},
   "outputs": [
    {
     "data": {
      "text/html": [
       "<div>\n",
       "<style>\n",
       "    .dataframe thead tr:only-child th {\n",
       "        text-align: right;\n",
       "    }\n",
       "\n",
       "    .dataframe thead th {\n",
       "        text-align: left;\n",
       "    }\n",
       "\n",
       "    .dataframe tbody tr th {\n",
       "        vertical-align: top;\n",
       "    }\n",
       "</style>\n",
       "<table border=\"1\" class=\"dataframe\">\n",
       "  <thead>\n",
       "    <tr style=\"text-align: right;\">\n",
       "      <th></th>\n",
       "      <th>number_of_simulation</th>\n",
       "      <th>n_class</th>\n",
       "      <th>train_test_ratio</th>\n",
       "      <th>score_raw_r</th>\n",
       "      <th>score_raw_e</th>\n",
       "      <th>score_combatCorrection1_r</th>\n",
       "      <th>score_combatCorrection1_e</th>\n",
       "      <th>score_combatCorrection2_r</th>\n",
       "      <th>score_combatCorrection2_e</th>\n",
       "      <th>score_combatCorrection3_r</th>\n",
       "      <th>score_combatCorrection3_e</th>\n",
       "    </tr>\n",
       "  </thead>\n",
       "  <tbody>\n",
       "    <tr>\n",
       "      <th>0</th>\n",
       "      <td>0.0</td>\n",
       "      <td>2.0</td>\n",
       "      <td>1.0</td>\n",
       "      <td>0.68875</td>\n",
       "      <td>0.48125</td>\n",
       "      <td>0.68875</td>\n",
       "      <td>0.48125</td>\n",
       "      <td>0.62750</td>\n",
       "      <td>0.45125</td>\n",
       "      <td>0.62750</td>\n",
       "      <td>0.48375</td>\n",
       "    </tr>\n",
       "    <tr>\n",
       "      <th>1</th>\n",
       "      <td>1.0</td>\n",
       "      <td>2.0</td>\n",
       "      <td>1.0</td>\n",
       "      <td>0.73625</td>\n",
       "      <td>0.49875</td>\n",
       "      <td>0.73625</td>\n",
       "      <td>0.49875</td>\n",
       "      <td>0.64500</td>\n",
       "      <td>0.43375</td>\n",
       "      <td>0.64500</td>\n",
       "      <td>0.50250</td>\n",
       "    </tr>\n",
       "    <tr>\n",
       "      <th>2</th>\n",
       "      <td>2.0</td>\n",
       "      <td>2.0</td>\n",
       "      <td>1.0</td>\n",
       "      <td>0.70875</td>\n",
       "      <td>0.49000</td>\n",
       "      <td>0.70875</td>\n",
       "      <td>0.49000</td>\n",
       "      <td>0.63875</td>\n",
       "      <td>0.42875</td>\n",
       "      <td>0.63875</td>\n",
       "      <td>0.48750</td>\n",
       "    </tr>\n",
       "    <tr>\n",
       "      <th>3</th>\n",
       "      <td>3.0</td>\n",
       "      <td>2.0</td>\n",
       "      <td>1.0</td>\n",
       "      <td>0.74625</td>\n",
       "      <td>0.50625</td>\n",
       "      <td>0.74625</td>\n",
       "      <td>0.50625</td>\n",
       "      <td>0.64750</td>\n",
       "      <td>0.42500</td>\n",
       "      <td>0.64750</td>\n",
       "      <td>0.49625</td>\n",
       "    </tr>\n",
       "    <tr>\n",
       "      <th>4</th>\n",
       "      <td>4.0</td>\n",
       "      <td>2.0</td>\n",
       "      <td>1.0</td>\n",
       "      <td>0.71625</td>\n",
       "      <td>0.48750</td>\n",
       "      <td>0.71625</td>\n",
       "      <td>0.48750</td>\n",
       "      <td>0.65250</td>\n",
       "      <td>0.43000</td>\n",
       "      <td>0.65250</td>\n",
       "      <td>0.48500</td>\n",
       "    </tr>\n",
       "    <tr>\n",
       "      <th>100</th>\n",
       "      <td>100.0</td>\n",
       "      <td>2.0</td>\n",
       "      <td>5.0</td>\n",
       "      <td>0.72000</td>\n",
       "      <td>0.51250</td>\n",
       "      <td>0.72000</td>\n",
       "      <td>0.51250</td>\n",
       "      <td>0.67250</td>\n",
       "      <td>0.42500</td>\n",
       "      <td>0.67250</td>\n",
       "      <td>0.50000</td>\n",
       "    </tr>\n",
       "    <tr>\n",
       "      <th>101</th>\n",
       "      <td>101.0</td>\n",
       "      <td>2.0</td>\n",
       "      <td>5.0</td>\n",
       "      <td>0.71875</td>\n",
       "      <td>0.48750</td>\n",
       "      <td>0.71875</td>\n",
       "      <td>0.48750</td>\n",
       "      <td>0.65125</td>\n",
       "      <td>0.43125</td>\n",
       "      <td>0.65125</td>\n",
       "      <td>0.48750</td>\n",
       "    </tr>\n",
       "    <tr>\n",
       "      <th>102</th>\n",
       "      <td>102.0</td>\n",
       "      <td>2.0</td>\n",
       "      <td>5.0</td>\n",
       "      <td>0.75000</td>\n",
       "      <td>0.46875</td>\n",
       "      <td>0.75000</td>\n",
       "      <td>0.46875</td>\n",
       "      <td>0.66000</td>\n",
       "      <td>0.41250</td>\n",
       "      <td>0.66000</td>\n",
       "      <td>0.46875</td>\n",
       "    </tr>\n",
       "    <tr>\n",
       "      <th>103</th>\n",
       "      <td>103.0</td>\n",
       "      <td>2.0</td>\n",
       "      <td>5.0</td>\n",
       "      <td>0.71625</td>\n",
       "      <td>0.54375</td>\n",
       "      <td>0.71625</td>\n",
       "      <td>0.54375</td>\n",
       "      <td>0.64500</td>\n",
       "      <td>0.46250</td>\n",
       "      <td>0.64500</td>\n",
       "      <td>0.50625</td>\n",
       "    </tr>\n",
       "    <tr>\n",
       "      <th>104</th>\n",
       "      <td>104.0</td>\n",
       "      <td>2.0</td>\n",
       "      <td>5.0</td>\n",
       "      <td>0.71875</td>\n",
       "      <td>0.43750</td>\n",
       "      <td>0.72000</td>\n",
       "      <td>0.43750</td>\n",
       "      <td>0.67000</td>\n",
       "      <td>0.38750</td>\n",
       "      <td>0.67000</td>\n",
       "      <td>0.46875</td>\n",
       "    </tr>\n",
       "    <tr>\n",
       "      <th>200</th>\n",
       "      <td>200.0</td>\n",
       "      <td>10.0</td>\n",
       "      <td>1.0</td>\n",
       "      <td>0.90125</td>\n",
       "      <td>0.10625</td>\n",
       "      <td>0.90250</td>\n",
       "      <td>0.10750</td>\n",
       "      <td>0.35250</td>\n",
       "      <td>0.02875</td>\n",
       "      <td>0.35250</td>\n",
       "      <td>0.10000</td>\n",
       "    </tr>\n",
       "    <tr>\n",
       "      <th>201</th>\n",
       "      <td>201.0</td>\n",
       "      <td>10.0</td>\n",
       "      <td>1.0</td>\n",
       "      <td>0.88875</td>\n",
       "      <td>0.10125</td>\n",
       "      <td>0.88750</td>\n",
       "      <td>0.10250</td>\n",
       "      <td>0.35750</td>\n",
       "      <td>0.04000</td>\n",
       "      <td>0.35750</td>\n",
       "      <td>0.09750</td>\n",
       "    </tr>\n",
       "    <tr>\n",
       "      <th>202</th>\n",
       "      <td>202.0</td>\n",
       "      <td>10.0</td>\n",
       "      <td>1.0</td>\n",
       "      <td>0.84875</td>\n",
       "      <td>0.09875</td>\n",
       "      <td>0.84500</td>\n",
       "      <td>0.09875</td>\n",
       "      <td>0.35250</td>\n",
       "      <td>0.04000</td>\n",
       "      <td>0.35250</td>\n",
       "      <td>0.10250</td>\n",
       "    </tr>\n",
       "    <tr>\n",
       "      <th>203</th>\n",
       "      <td>203.0</td>\n",
       "      <td>10.0</td>\n",
       "      <td>1.0</td>\n",
       "      <td>0.85500</td>\n",
       "      <td>0.10250</td>\n",
       "      <td>0.85125</td>\n",
       "      <td>0.10250</td>\n",
       "      <td>0.34875</td>\n",
       "      <td>0.03250</td>\n",
       "      <td>0.34875</td>\n",
       "      <td>0.09750</td>\n",
       "    </tr>\n",
       "    <tr>\n",
       "      <th>204</th>\n",
       "      <td>204.0</td>\n",
       "      <td>10.0</td>\n",
       "      <td>1.0</td>\n",
       "      <td>0.92125</td>\n",
       "      <td>0.09375</td>\n",
       "      <td>0.92000</td>\n",
       "      <td>0.09500</td>\n",
       "      <td>0.36000</td>\n",
       "      <td>0.03500</td>\n",
       "      <td>0.36000</td>\n",
       "      <td>0.10875</td>\n",
       "    </tr>\n",
       "    <tr>\n",
       "      <th>300</th>\n",
       "      <td>300.0</td>\n",
       "      <td>10.0</td>\n",
       "      <td>5.0</td>\n",
       "      <td>0.89375</td>\n",
       "      <td>0.08125</td>\n",
       "      <td>0.89375</td>\n",
       "      <td>0.08750</td>\n",
       "      <td>0.37625</td>\n",
       "      <td>0.00625</td>\n",
       "      <td>0.37625</td>\n",
       "      <td>0.07500</td>\n",
       "    </tr>\n",
       "    <tr>\n",
       "      <th>301</th>\n",
       "      <td>301.0</td>\n",
       "      <td>10.0</td>\n",
       "      <td>5.0</td>\n",
       "      <td>0.89625</td>\n",
       "      <td>0.07500</td>\n",
       "      <td>0.89875</td>\n",
       "      <td>0.07500</td>\n",
       "      <td>0.35625</td>\n",
       "      <td>0.03125</td>\n",
       "      <td>0.35625</td>\n",
       "      <td>0.10625</td>\n",
       "    </tr>\n",
       "    <tr>\n",
       "      <th>302</th>\n",
       "      <td>302.0</td>\n",
       "      <td>10.0</td>\n",
       "      <td>5.0</td>\n",
       "      <td>0.92875</td>\n",
       "      <td>0.13125</td>\n",
       "      <td>0.93125</td>\n",
       "      <td>0.13750</td>\n",
       "      <td>0.34250</td>\n",
       "      <td>0.02500</td>\n",
       "      <td>0.34250</td>\n",
       "      <td>0.08125</td>\n",
       "    </tr>\n",
       "    <tr>\n",
       "      <th>303</th>\n",
       "      <td>303.0</td>\n",
       "      <td>10.0</td>\n",
       "      <td>5.0</td>\n",
       "      <td>0.93625</td>\n",
       "      <td>0.10000</td>\n",
       "      <td>0.93750</td>\n",
       "      <td>0.09375</td>\n",
       "      <td>0.36500</td>\n",
       "      <td>0.05625</td>\n",
       "      <td>0.36500</td>\n",
       "      <td>0.11250</td>\n",
       "    </tr>\n",
       "    <tr>\n",
       "      <th>304</th>\n",
       "      <td>304.0</td>\n",
       "      <td>10.0</td>\n",
       "      <td>5.0</td>\n",
       "      <td>0.89875</td>\n",
       "      <td>0.13125</td>\n",
       "      <td>0.89875</td>\n",
       "      <td>0.13125</td>\n",
       "      <td>0.36625</td>\n",
       "      <td>0.03125</td>\n",
       "      <td>0.36625</td>\n",
       "      <td>0.10625</td>\n",
       "    </tr>\n",
       "  </tbody>\n",
       "</table>\n",
       "</div>"
      ],
      "text/plain": [
       "     number_of_simulation  n_class  train_test_ratio  score_raw_r  \\\n",
       "0                     0.0      2.0               1.0      0.68875   \n",
       "1                     1.0      2.0               1.0      0.73625   \n",
       "2                     2.0      2.0               1.0      0.70875   \n",
       "3                     3.0      2.0               1.0      0.74625   \n",
       "4                     4.0      2.0               1.0      0.71625   \n",
       "100                 100.0      2.0               5.0      0.72000   \n",
       "101                 101.0      2.0               5.0      0.71875   \n",
       "102                 102.0      2.0               5.0      0.75000   \n",
       "103                 103.0      2.0               5.0      0.71625   \n",
       "104                 104.0      2.0               5.0      0.71875   \n",
       "200                 200.0     10.0               1.0      0.90125   \n",
       "201                 201.0     10.0               1.0      0.88875   \n",
       "202                 202.0     10.0               1.0      0.84875   \n",
       "203                 203.0     10.0               1.0      0.85500   \n",
       "204                 204.0     10.0               1.0      0.92125   \n",
       "300                 300.0     10.0               5.0      0.89375   \n",
       "301                 301.0     10.0               5.0      0.89625   \n",
       "302                 302.0     10.0               5.0      0.92875   \n",
       "303                 303.0     10.0               5.0      0.93625   \n",
       "304                 304.0     10.0               5.0      0.89875   \n",
       "\n",
       "     score_raw_e  score_combatCorrection1_r  score_combatCorrection1_e  \\\n",
       "0        0.48125                    0.68875                    0.48125   \n",
       "1        0.49875                    0.73625                    0.49875   \n",
       "2        0.49000                    0.70875                    0.49000   \n",
       "3        0.50625                    0.74625                    0.50625   \n",
       "4        0.48750                    0.71625                    0.48750   \n",
       "100      0.51250                    0.72000                    0.51250   \n",
       "101      0.48750                    0.71875                    0.48750   \n",
       "102      0.46875                    0.75000                    0.46875   \n",
       "103      0.54375                    0.71625                    0.54375   \n",
       "104      0.43750                    0.72000                    0.43750   \n",
       "200      0.10625                    0.90250                    0.10750   \n",
       "201      0.10125                    0.88750                    0.10250   \n",
       "202      0.09875                    0.84500                    0.09875   \n",
       "203      0.10250                    0.85125                    0.10250   \n",
       "204      0.09375                    0.92000                    0.09500   \n",
       "300      0.08125                    0.89375                    0.08750   \n",
       "301      0.07500                    0.89875                    0.07500   \n",
       "302      0.13125                    0.93125                    0.13750   \n",
       "303      0.10000                    0.93750                    0.09375   \n",
       "304      0.13125                    0.89875                    0.13125   \n",
       "\n",
       "     score_combatCorrection2_r  score_combatCorrection2_e  \\\n",
       "0                      0.62750                    0.45125   \n",
       "1                      0.64500                    0.43375   \n",
       "2                      0.63875                    0.42875   \n",
       "3                      0.64750                    0.42500   \n",
       "4                      0.65250                    0.43000   \n",
       "100                    0.67250                    0.42500   \n",
       "101                    0.65125                    0.43125   \n",
       "102                    0.66000                    0.41250   \n",
       "103                    0.64500                    0.46250   \n",
       "104                    0.67000                    0.38750   \n",
       "200                    0.35250                    0.02875   \n",
       "201                    0.35750                    0.04000   \n",
       "202                    0.35250                    0.04000   \n",
       "203                    0.34875                    0.03250   \n",
       "204                    0.36000                    0.03500   \n",
       "300                    0.37625                    0.00625   \n",
       "301                    0.35625                    0.03125   \n",
       "302                    0.34250                    0.02500   \n",
       "303                    0.36500                    0.05625   \n",
       "304                    0.36625                    0.03125   \n",
       "\n",
       "     score_combatCorrection3_r  score_combatCorrection3_e  \n",
       "0                      0.62750                    0.48375  \n",
       "1                      0.64500                    0.50250  \n",
       "2                      0.63875                    0.48750  \n",
       "3                      0.64750                    0.49625  \n",
       "4                      0.65250                    0.48500  \n",
       "100                    0.67250                    0.50000  \n",
       "101                    0.65125                    0.48750  \n",
       "102                    0.66000                    0.46875  \n",
       "103                    0.64500                    0.50625  \n",
       "104                    0.67000                    0.46875  \n",
       "200                    0.35250                    0.10000  \n",
       "201                    0.35750                    0.09750  \n",
       "202                    0.35250                    0.10250  \n",
       "203                    0.34875                    0.09750  \n",
       "204                    0.36000                    0.10875  \n",
       "300                    0.37625                    0.07500  \n",
       "301                    0.35625                    0.10625  \n",
       "302                    0.34250                    0.08125  \n",
       "303                    0.36500                    0.11250  \n",
       "304                    0.36625                    0.10625  "
      ]
     },
     "execution_count": 3,
     "metadata": {},
     "output_type": "execute_result"
    }
   ],
   "source": [
    "res.groupby(['n_class', 'train_test_ratio']).head()"
   ]
  },
  {
   "cell_type": "code",
   "execution_count": 6,
   "metadata": {},
   "outputs": [],
   "source": [
    "res['dif_combatCorrection1_e'] = res.score_combatCorrection1_e - res.score_raw_e\n",
    "res['dif_combatCorrection2_e'] = res.score_combatCorrection2_e - res.score_raw_e\n",
    "res['dif_combatCorrection3_e'] = res.score_combatCorrection3_e - res.score_raw_e\n"
   ]
  },
  {
   "cell_type": "code",
   "execution_count": 7,
   "metadata": {},
   "outputs": [],
   "source": [
    "import seaborn as sns\n",
    "from matplotlib import pyplot as plt\n",
    "%matplotlib inline"
   ]
  },
  {
   "cell_type": "code",
   "execution_count": 8,
   "metadata": {},
   "outputs": [
    {
     "name": "stderr",
     "output_type": "stream",
     "text": [
      "/data/nielsond/python/envs/abcd_mine/lib/python3.6/site-packages/matplotlib/axes/_axes.py:6462: UserWarning: The 'normed' kwarg is deprecated, and has been replaced by the 'density' kwarg.\n",
      "  warnings.warn(\"The 'normed' kwarg is deprecated, and has been \"\n"
     ]
    },
    {
     "data": {
      "text/plain": [
       "<matplotlib.axes._subplots.AxesSubplot at 0x2b91eabe9048>"
      ]
     },
     "execution_count": 8,
     "metadata": {},
     "output_type": "execute_result"
    },
    {
     "data": {
      "image/png": "[encoded data removed]",
      "text/plain": [
       "<Figure size 432x288 with 1 Axes>"
      ]
     },
     "metadata": {},
     "output_type": "display_data"
    }
   ],
   "source": [
    "sns.distplot(res['dif_combatCorrection1_e'])\n",
    "sns.distplot(res['dif_combatCorrection2_e'])\n",
    "sns.distplot(res['dif_combatCorrection3_e'])"
   ]
  },
  {
   "cell_type": "code",
   "execution_count": null,
   "metadata": {},
   "outputs": [],
   "source": []
  }
 ],
 "metadata": {
  "kernelspec": {
   "display_name": "Python 3",
   "language": "python",
   "name": "python3"
  },
  "language_info": {
   "codemirror_mode": {
    "name": "ipython",
    "version": 3
   },
   "file_extension": ".py",
   "mimetype": "text/x-python",
   "name": "python",
   "nbconvert_exporter": "python",
   "pygments_lexer": "ipython3",
   "version": "3.6.3"
  }
 },
 "nbformat": 4,
 "nbformat_minor": 2
}
